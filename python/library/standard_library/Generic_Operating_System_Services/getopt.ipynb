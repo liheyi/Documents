{
 "cells": [
  {
   "cell_type": "markdown",
   "metadata": {},
   "source": [
    "## getopt — C-style parser for command line options"
   ]
  },
  {
   "cell_type": "markdown",
   "metadata": {},
   "source": [
    "###### Note\n",
    "The getopt module is a parser for command line options whose API is designed to be familiar to users of the C getopt() function. Users who are unfamiliar with the C getopt() function or who would like to write less code and get better help and error messages should consider using the argparse module instead."
   ]
  },
  {
   "cell_type": "markdown",
   "metadata": {},
   "source": [
    "This module helps scripts to parse the command line arguments in sys.argv. It supports the same conventions as the Unix getopt() function (including the special meanings of arguments of the form ‘-‘ and ‘--‘). Long options similar to those supported by GNU software may be used as well via an optional third argument."
   ]
  },
  {
   "cell_type": "markdown",
   "metadata": {},
   "source": [
    "This module provides two functions and an exception:"
   ]
  },
  {
   "cell_type": "markdown",
   "metadata": {},
   "source": [
    "##### getopt.getopt(args, options[, long_options])\n",
    "Parses command line options and parameter list.   \n",
    "\n",
    "args is the argument list to be parsed, without the leading reference to the running program. Typically, this means sys.argv[1:].   \n",
    "\n",
    "options is the string of option letters that the script wants to recognize, with options that require an argument followed by a colon (':'; i.e., the same format that Unix getopt() uses)."
   ]
  },
  {
   "cell_type": "markdown",
   "metadata": {},
   "source": [
    "###### Note \n",
    "Unlike GNU getopt(), after a non-option argument, all further arguments are considered also non-options. This is similar to the way non-GNU Unix systems work."
   ]
  },
  {
   "cell_type": "markdown",
   "metadata": {},
   "source": [
    "long_options, if specified, must be a list of strings with the names of the long options which should be supported. The leading '--' characters should not be included in the option name. Long options which require an argument should be followed by an equal sign ('='). Optional arguments are not supported. To accept only long options, options should be an empty string. Long options on the command line can be recognized so long as they provide a prefix of the option name that matches exactly one of the accepted options. For example, if long_options is ['foo', 'frob'], the option --fo will match as --foo, but --f will not match uniquely, so GetoptError will be raised."
   ]
  },
  {
   "cell_type": "markdown",
   "metadata": {},
   "source": [
    "The return value consists of two elements: the first is a list of (option, value) pairs; the second is the list of program arguments left after the option list was stripped (this is a trailing slice of args). Each option-and-value pair returned has the option as its first element, prefixed with a hyphen for short options (e.g., '-x') or two hyphens for long options (e.g., '--long-option'), and the option argument as its second element, or an empty string if the option has no argument. The options occur in the list in the same order in which they were found, thus allowing multiple occurrences. Long and short options may be mixed."
   ]
  },
  {
   "cell_type": "code",
   "execution_count": 6,
   "metadata": {
    "collapsed": false
   },
   "outputs": [],
   "source": [
    "# parse the linux command line:\n",
    "# ls -l -h --classify --quoting-style=c --color=auto /home/liheyi/jupyter/\n",
    "import getopt\n",
    "cmd = 'ls -l -h --classify --quoting-style=c --color=auto /home/liheyi/jupyter/ /etc/init.d/'.split()\n",
    "optlist, args = getopt.getopt(cmd[1:],'lh',['classify', 'quoting-style=', 'color='])"
   ]
  },
  {
   "cell_type": "code",
   "execution_count": 7,
   "metadata": {
    "collapsed": false,
    "scrolled": true
   },
   "outputs": [
    {
     "data": {
      "text/plain": [
       "[('-l', ''),\n",
       " ('-h', ''),\n",
       " ('--classify', ''),\n",
       " ('--quoting-style', 'c'),\n",
       " ('--color', 'auto')]"
      ]
     },
     "execution_count": 7,
     "metadata": {},
     "output_type": "execute_result"
    }
   ],
   "source": [
    "optlist"
   ]
  },
  {
   "cell_type": "code",
   "execution_count": 8,
   "metadata": {
    "collapsed": false
   },
   "outputs": [
    {
     "data": {
      "text/plain": [
       "['/home/liheyi/jupyter/', '/etc/init.d/']"
      ]
     },
     "execution_count": 8,
     "metadata": {},
     "output_type": "execute_result"
    }
   ],
   "source": [
    "args"
   ]
  },
  {
   "cell_type": "markdown",
   "metadata": {},
   "source": [
    "In a script, typical usage is something like this:"
   ]
  },
  {
   "cell_type": "code",
   "execution_count": null,
   "metadata": {
    "collapsed": true
   },
   "outputs": [],
   "source": [
    "# Official document example\n",
    "import getopt, sys\n",
    "\n",
    "def main():\n",
    "    try:\n",
    "        opts, args = getopt.getopt(sys.argv[1:], \"ho:v\", [\"help\", \"output=\"])\n",
    "    except getopt.GetoptError as err:\n",
    "        # print help information and exit:\n",
    "        print str(err)  # will print something like \"option -a not recognized\"\n",
    "        usage()\n",
    "        sys.exit(2)\n",
    "    output = None\n",
    "    verbose = False\n",
    "    for o, a in opts:\n",
    "        if o == \"-v\":\n",
    "            verbose = True\n",
    "        elif o in (\"-h\", \"--help\"):\n",
    "            usage()\n",
    "            sys.exit()\n",
    "        elif o in (\"-o\", \"--output\"):\n",
    "            output = a\n",
    "        else:\n",
    "            assert False, \"unhandled option\"\n",
    "    # ...\n",
    "\n",
    "if __name__ == \"__main__\":\n",
    "    main()"
   ]
  },
  {
   "cell_type": "code",
   "execution_count": null,
   "metadata": {
    "collapsed": true
   },
   "outputs": [],
   "source": [
    "# The script fragment comes from topip.py:\n",
    "# https://github.com/pexpect/pexpect/blob/master/examples/topip.py\n",
    "try:\n",
    "        optlist, args = getopt.getopt(sys.argv[1:],\n",
    "                'h?valqs:u:p:n:', ['help','h','?','ipv6','stddev='])\n",
    "    except Exception as e:\n",
    "        print(str(e))\n",
    "        exit_with_usage()\n",
    "    options = dict(optlist)\n",
    "\n",
    "    munin_flag = False\n",
    "    if len(args) > 0:\n",
    "        if args[0] == 'config':\n",
    "            print('graph_title Netstat Connections per IP')\n",
    "            print('graph_vlabel Socket connections per IP')\n",
    "            print('connections_max.label max')\n",
    "            print('connections_max.info Maximum number of connections per IP')\n",
    "            print('connections_avg.label avg')\n",
    "            print('connections_avg.info Average number of connections per IP')\n",
    "            print('connections_stddev.label stddev')\n",
    "            print('connections_stddev.info Standard deviation')\n",
    "            return 0\n",
    "        elif args[0] != '':\n",
    "            print(args, len(args))\n",
    "            return 0\n",
    "            exit_with_usage()\n",
    "    if [elem for elem in options if elem in ['-h','--h','-?','--?','--help']]:\n",
    "        print('Help:')\n",
    "        exit_with_usage()\n",
    "    if '-s' in options:\n",
    "        hostname = options['-s']\n",
    "    else:\n",
    "        # if host was not specified then assume localhost munin plugin.\n",
    "        munin_flag = True\n",
    "        hostname = 'localhost'\n",
    "    # If localhost then don't ask for username/password.\n",
    "    if hostname != 'localhost' and hostname != '127.0.0.1':\n",
    "        if '-u' in options:\n",
    "            username = options['-u']\n",
    "        else:\n",
    "            username = raw_input('username: ')\n",
    "        if '-p' in options:\n",
    "            password = options['-p']\n",
    "        else:\n",
    "            password = getpass.getpass('password: ')\n",
    "        use_localhost = False\n",
    "    else:\n",
    "        use_localhost = True\n",
    "\n",
    "    if '-l' in options:\n",
    "        log_flag = True\n",
    "    else:\n",
    "        log_flag = False\n",
    "    if '-n' in options:\n",
    "        average_n = int(options['-n'])\n",
    "    else:\n",
    "        average_n = None\n",
    "    if '-v' in options:\n",
    "        verbose = True\n",
    "    else:\n",
    "        verbose = False\n",
    "    if '-a' in options:\n",
    "        alert_flag = True\n",
    "        (alert_addr_from, alert_addr_to) = tuple(options['-a'].split(','))\n",
    "    else:\n",
    "        alert_flag = False\n",
    "    if '--ipv6' in options:\n",
    "        ipv6_flag = True\n",
    "    else:\n",
    "        ipv6_flag = False\n",
    "    if '--stddev' in options:\n",
    "        stddev_trigger = float(options['--stddev'])\n",
    "    else:\n",
    "        stddev_trigger = 5\n",
    "\n",
    "    if ipv6_flag:\n",
    "        netstat_pattern = '(\\S+)\\s+(\\S+)\\s+(\\S+)\\s+(\\S+)\\s+::ffff:(\\S+):(\\S+)\\s+.*?\\r'\n",
    "    else:\n",
    "        netstat_pattern = '(\\S+)\\s+(\\S+)\\s+(\\S+)\\s+(\\S+)\\s+(?:::ffff:)*(\\S+):(\\S+)\\s+.*?\\r'\n",
    "        #netstat_pattern = '(\\S+)\\s+(\\S+)\\s+(\\S+)\\s+(\\S+)\\s+(\\S+):(\\S+)\\s+.*?\\r'\n"
   ]
  },
  {
   "cell_type": "markdown",
   "metadata": {},
   "source": [
    "##### getopt.gnu_getopt(args, options[, long_options])\n",
    "This function works like getopt(), except that GNU style scanning mode is used by default. This means that option and non-option arguments may be intermixed. The getopt() function stops processing options as soon as a non-option argument is encountered.  "
   ]
  },
  {
   "cell_type": "markdown",
   "metadata": {},
   "source": [
    "If the first character of the option string is '+', or if the environment variable POSIXLY_CORRECT is set, then option processing stops as soon as a non-option argument is encountered."
   ]
  },
  {
   "cell_type": "markdown",
   "metadata": {},
   "source": [
    "##### exception getopt.GetoptError\n",
    "This is raised when an unrecognized option is found in the argument list or when an option requiring an argument is given none. The argument to the exception is a string indicating the cause of the error. For long options, an argument given to an option which does not require one will also cause this exception to be raised. The attributes msg and opt give the error message and related option; if there is no specific option to which the exception relates, opt is an empty string."
   ]
  },
  {
   "cell_type": "code",
   "execution_count": 9,
   "metadata": {
    "collapsed": false
   },
   "outputs": [
    {
     "ename": "GetoptError",
     "evalue": "option --classify not recognized",
     "output_type": "error",
     "traceback": [
      "\u001b[1;31m---------------------------------------------------------------------------\u001b[0m",
      "\u001b[1;31mGetoptError\u001b[0m                               Traceback (most recent call last)",
      "\u001b[1;32m<ipython-input-9-c5f157be37d2>\u001b[0m in \u001b[0;36m<module>\u001b[1;34m()\u001b[0m\n\u001b[0;32m      6\u001b[0m \u001b[1;32mimport\u001b[0m \u001b[0mgetopt\u001b[0m\u001b[1;33m\u001b[0m\u001b[0m\n\u001b[0;32m      7\u001b[0m \u001b[0mcmd\u001b[0m \u001b[1;33m=\u001b[0m \u001b[1;34m'ls -l -h --classify --quoting-style=c --color=auto /home/liheyi/jupyter/ /etc/init.d/'\u001b[0m\u001b[1;33m.\u001b[0m\u001b[0msplit\u001b[0m\u001b[1;33m(\u001b[0m\u001b[1;33m)\u001b[0m\u001b[1;33m\u001b[0m\u001b[0m\n\u001b[1;32m----> 8\u001b[1;33m \u001b[0moptlist\u001b[0m\u001b[1;33m,\u001b[0m \u001b[0margs\u001b[0m \u001b[1;33m=\u001b[0m \u001b[0mgetopt\u001b[0m\u001b[1;33m.\u001b[0m\u001b[0mgetopt\u001b[0m\u001b[1;33m(\u001b[0m\u001b[0mcmd\u001b[0m\u001b[1;33m[\u001b[0m\u001b[1;36m1\u001b[0m\u001b[1;33m:\u001b[0m\u001b[1;33m]\u001b[0m\u001b[1;33m,\u001b[0m\u001b[1;34m'lh'\u001b[0m\u001b[1;33m,\u001b[0m\u001b[1;33m[\u001b[0m\u001b[1;34m'--classify'\u001b[0m\u001b[1;33m,\u001b[0m \u001b[1;34m'quoting-style='\u001b[0m\u001b[1;33m,\u001b[0m \u001b[1;34m'color='\u001b[0m\u001b[1;33m]\u001b[0m\u001b[1;33m)\u001b[0m\u001b[1;33m\u001b[0m\u001b[0m\n\u001b[0m",
      "\u001b[1;32m/home/liheyi/anaconda2/lib/python2.7/getopt.pyc\u001b[0m in \u001b[0;36mgetopt\u001b[1;34m(args, shortopts, longopts)\u001b[0m\n\u001b[0;32m     86\u001b[0m             \u001b[1;32mbreak\u001b[0m\u001b[1;33m\u001b[0m\u001b[0m\n\u001b[0;32m     87\u001b[0m         \u001b[1;32mif\u001b[0m \u001b[0margs\u001b[0m\u001b[1;33m[\u001b[0m\u001b[1;36m0\u001b[0m\u001b[1;33m]\u001b[0m\u001b[1;33m.\u001b[0m\u001b[0mstartswith\u001b[0m\u001b[1;33m(\u001b[0m\u001b[1;34m'--'\u001b[0m\u001b[1;33m)\u001b[0m\u001b[1;33m:\u001b[0m\u001b[1;33m\u001b[0m\u001b[0m\n\u001b[1;32m---> 88\u001b[1;33m             \u001b[0mopts\u001b[0m\u001b[1;33m,\u001b[0m \u001b[0margs\u001b[0m \u001b[1;33m=\u001b[0m \u001b[0mdo_longs\u001b[0m\u001b[1;33m(\u001b[0m\u001b[0mopts\u001b[0m\u001b[1;33m,\u001b[0m \u001b[0margs\u001b[0m\u001b[1;33m[\u001b[0m\u001b[1;36m0\u001b[0m\u001b[1;33m]\u001b[0m\u001b[1;33m[\u001b[0m\u001b[1;36m2\u001b[0m\u001b[1;33m:\u001b[0m\u001b[1;33m]\u001b[0m\u001b[1;33m,\u001b[0m \u001b[0mlongopts\u001b[0m\u001b[1;33m,\u001b[0m \u001b[0margs\u001b[0m\u001b[1;33m[\u001b[0m\u001b[1;36m1\u001b[0m\u001b[1;33m:\u001b[0m\u001b[1;33m]\u001b[0m\u001b[1;33m)\u001b[0m\u001b[1;33m\u001b[0m\u001b[0m\n\u001b[0m\u001b[0;32m     89\u001b[0m         \u001b[1;32melse\u001b[0m\u001b[1;33m:\u001b[0m\u001b[1;33m\u001b[0m\u001b[0m\n\u001b[0;32m     90\u001b[0m             \u001b[0mopts\u001b[0m\u001b[1;33m,\u001b[0m \u001b[0margs\u001b[0m \u001b[1;33m=\u001b[0m \u001b[0mdo_shorts\u001b[0m\u001b[1;33m(\u001b[0m\u001b[0mopts\u001b[0m\u001b[1;33m,\u001b[0m \u001b[0margs\u001b[0m\u001b[1;33m[\u001b[0m\u001b[1;36m0\u001b[0m\u001b[1;33m]\u001b[0m\u001b[1;33m[\u001b[0m\u001b[1;36m1\u001b[0m\u001b[1;33m:\u001b[0m\u001b[1;33m]\u001b[0m\u001b[1;33m,\u001b[0m \u001b[0mshortopts\u001b[0m\u001b[1;33m,\u001b[0m \u001b[0margs\u001b[0m\u001b[1;33m[\u001b[0m\u001b[1;36m1\u001b[0m\u001b[1;33m:\u001b[0m\u001b[1;33m]\u001b[0m\u001b[1;33m)\u001b[0m\u001b[1;33m\u001b[0m\u001b[0m\n",
      "\u001b[1;32m/home/liheyi/anaconda2/lib/python2.7/getopt.pyc\u001b[0m in \u001b[0;36mdo_longs\u001b[1;34m(opts, opt, longopts, args)\u001b[0m\n\u001b[0;32m    150\u001b[0m         \u001b[0mopt\u001b[0m\u001b[1;33m,\u001b[0m \u001b[0moptarg\u001b[0m \u001b[1;33m=\u001b[0m \u001b[0mopt\u001b[0m\u001b[1;33m[\u001b[0m\u001b[1;33m:\u001b[0m\u001b[0mi\u001b[0m\u001b[1;33m]\u001b[0m\u001b[1;33m,\u001b[0m \u001b[0mopt\u001b[0m\u001b[1;33m[\u001b[0m\u001b[0mi\u001b[0m\u001b[1;33m+\u001b[0m\u001b[1;36m1\u001b[0m\u001b[1;33m:\u001b[0m\u001b[1;33m]\u001b[0m\u001b[1;33m\u001b[0m\u001b[0m\n\u001b[0;32m    151\u001b[0m \u001b[1;33m\u001b[0m\u001b[0m\n\u001b[1;32m--> 152\u001b[1;33m     \u001b[0mhas_arg\u001b[0m\u001b[1;33m,\u001b[0m \u001b[0mopt\u001b[0m \u001b[1;33m=\u001b[0m \u001b[0mlong_has_args\u001b[0m\u001b[1;33m(\u001b[0m\u001b[0mopt\u001b[0m\u001b[1;33m,\u001b[0m \u001b[0mlongopts\u001b[0m\u001b[1;33m)\u001b[0m\u001b[1;33m\u001b[0m\u001b[0m\n\u001b[0m\u001b[0;32m    153\u001b[0m     \u001b[1;32mif\u001b[0m \u001b[0mhas_arg\u001b[0m\u001b[1;33m:\u001b[0m\u001b[1;33m\u001b[0m\u001b[0m\n\u001b[0;32m    154\u001b[0m         \u001b[1;32mif\u001b[0m \u001b[0moptarg\u001b[0m \u001b[1;32mis\u001b[0m \u001b[0mNone\u001b[0m\u001b[1;33m:\u001b[0m\u001b[1;33m\u001b[0m\u001b[0m\n",
      "\u001b[1;32m/home/liheyi/anaconda2/lib/python2.7/getopt.pyc\u001b[0m in \u001b[0;36mlong_has_args\u001b[1;34m(opt, longopts)\u001b[0m\n\u001b[0;32m    167\u001b[0m     \u001b[0mpossibilities\u001b[0m \u001b[1;33m=\u001b[0m \u001b[1;33m[\u001b[0m\u001b[0mo\u001b[0m \u001b[1;32mfor\u001b[0m \u001b[0mo\u001b[0m \u001b[1;32min\u001b[0m \u001b[0mlongopts\u001b[0m \u001b[1;32mif\u001b[0m \u001b[0mo\u001b[0m\u001b[1;33m.\u001b[0m\u001b[0mstartswith\u001b[0m\u001b[1;33m(\u001b[0m\u001b[0mopt\u001b[0m\u001b[1;33m)\u001b[0m\u001b[1;33m]\u001b[0m\u001b[1;33m\u001b[0m\u001b[0m\n\u001b[0;32m    168\u001b[0m     \u001b[1;32mif\u001b[0m \u001b[1;32mnot\u001b[0m \u001b[0mpossibilities\u001b[0m\u001b[1;33m:\u001b[0m\u001b[1;33m\u001b[0m\u001b[0m\n\u001b[1;32m--> 169\u001b[1;33m         \u001b[1;32mraise\u001b[0m \u001b[0mGetoptError\u001b[0m\u001b[1;33m(\u001b[0m\u001b[1;34m'option --%s not recognized'\u001b[0m \u001b[1;33m%\u001b[0m \u001b[0mopt\u001b[0m\u001b[1;33m,\u001b[0m \u001b[0mopt\u001b[0m\u001b[1;33m)\u001b[0m\u001b[1;33m\u001b[0m\u001b[0m\n\u001b[0m\u001b[0;32m    170\u001b[0m     \u001b[1;31m# Is there an exact match?\u001b[0m\u001b[1;33m\u001b[0m\u001b[1;33m\u001b[0m\u001b[0m\n\u001b[0;32m    171\u001b[0m     \u001b[1;32mif\u001b[0m \u001b[0mopt\u001b[0m \u001b[1;32min\u001b[0m \u001b[0mpossibilities\u001b[0m\u001b[1;33m:\u001b[0m\u001b[1;33m\u001b[0m\u001b[0m\n",
      "\u001b[1;31mGetoptError\u001b[0m: option --classify not recognized"
     ]
    }
   ],
   "source": [
    "# parse the linux command line:\n",
    "# ls -l -h --classify --quoting-style=c --color=auto /home/liheyi/jupyter/\n",
    "\n",
    "# but,this will arise GetoptError exception\n",
    "# since the unrecognized option, '--classify', is found.\n",
    "# The leading '--' characters should not be included in the long option name.\n",
    "import getopt\n",
    "cmd = 'ls -l -h --classify --quoting-style=c --color=auto /home/liheyi/jupyter/ /etc/init.d/'.split()\n",
    "optlist, args = getopt.getopt(cmd[1:],'lh',['--classify', 'quoting-style=', 'color='])"
   ]
  },
  {
   "cell_type": "markdown",
   "metadata": {},
   "source": [
    "##### exception getopt.error\n",
    "Alias for GetoptError; for backward compatibility."
   ]
  }
 ],
 "metadata": {
  "kernelspec": {
   "display_name": "Python 2",
   "language": "python",
   "name": "python2"
  },
  "language_info": {
   "codemirror_mode": {
    "name": "ipython",
    "version": 2
   },
   "file_extension": ".py",
   "mimetype": "text/x-python",
   "name": "python",
   "nbconvert_exporter": "python",
   "pygments_lexer": "ipython2",
   "version": "2.7.11"
  }
 },
 "nbformat": 4,
 "nbformat_minor": 0
}
