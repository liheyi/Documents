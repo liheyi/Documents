{
 "cells": [
  {
   "cell_type": "markdown",
   "metadata": {},
   "source": [
    "###### Reference:http://amoffat.github.io/sh/"
   ]
  },
  {
   "cell_type": "markdown",
   "metadata": {},
   "source": [
    "sh (previously pbs) is a full-fledged subprocess interface for Python that allows you to call any program as if it were a function:"
   ]
  },
  {
   "cell_type": "code",
   "execution_count": 3,
   "metadata": {
    "collapsed": false
   },
   "outputs": [
    {
     "name": "stdout",
     "output_type": "stream",
     "text": [
      "eth0      Link encap:Ethernet  HWaddr 00:0C:29:70:FB:42  \n",
      "          inet addr:192.168.109.109  Bcast:192.168.109.255  Mask:255.255.255.0\n",
      "          inet6 addr: fe80::20c:29ff:fe70:fb42/64 Scope:Link\n",
      "          UP BROADCAST RUNNING MULTICAST  MTU:1500  Metric:1\n",
      "          RX packets:52710 errors:0 dropped:0 overruns:0 frame:0\n",
      "          TX packets:35662 errors:0 dropped:0 overruns:0 carrier:0\n",
      "          collisions:0 txqueuelen:1000 \n",
      "          RX bytes:39847648 (38.0 MiB)  TX bytes:5284084 (5.0 MiB)\n",
      "          Interrupt:19 Base address:0x2000 \n",
      "\n",
      "\n"
     ]
    }
   ],
   "source": [
    "from sh import ifconfig\n",
    "print ifconfig('eth0')"
   ]
  },
  {
   "cell_type": "code",
   "execution_count": 12,
   "metadata": {
    "collapsed": false
   },
   "outputs": [
    {
     "name": "stdout",
     "output_type": "stream",
     "text": [
      "total 24\n",
      "drwxrwxr-x. 3 liheyi liheyi 4096 Jun 30 22:36 bash\n",
      "drwxrwxr-x. 3 liheyi liheyi 4096 Jun 30 22:36 linux_command\n",
      "-rwxr-xr-x. 1 liheyi liheyi   41 Jul  7 21:05 ntp.sh\n",
      "drwxrwxr-x. 4 liheyi liheyi 4096 Jul 12 21:26 python\n",
      "-rw-rw-r--. 1 liheyi liheyi   70 Jul  5 22:37 README\n",
      "-rwxrwxr-x. 1 liheyi liheyi   62 Jun 30 22:36 start.sh\n",
      "\n"
     ]
    }
   ],
   "source": [
    "from sh import ls\n",
    "print ls(['/home/liheyi/jupyter', '-l'])"
   ]
  },
  {
   "cell_type": "markdown",
   "metadata": {},
   "source": [
    "##### Note that these aren’t Python functions, these are running the binary commands on your system dynamically by resolving your $PATH, much like Bash does.In this way, all the programs on your system are easily available to you from within Python."
   ]
  },
  {
   "cell_type": "markdown",
   "metadata": {},
   "source": [
    "## Basic Features\n",
    "### 1.Command execution"
   ]
  },
  {
   "cell_type": "markdown",
   "metadata": {},
   "source": [
    "Commands are called just like functions.   \n",
    "They may be executed on the sh namespace, or imported directly from sh:"
   ]
  },
  {
   "cell_type": "code",
   "execution_count": 13,
   "metadata": {
    "collapsed": false
   },
   "outputs": [
    {
     "name": "stdout",
     "output_type": "stream",
     "text": [
      "total 12K\n",
      "drwxrwxr-x. 17 liheyi liheyi 4.0K Jun 30 00:01 anaconda2\n",
      "-rw-rw-r--.  1 liheyi liheyi   64 Jul 12 22:40 ip.txt\n",
      "drwxrwxr-x.  7 liheyi liheyi 4.0K Jul 12 21:26 jupyter\n",
      "\n"
     ]
    }
   ],
   "source": [
    "import sh \n",
    "print sh.ls(['/home/liheyi/', '-lh'])"
   ]
  },
  {
   "cell_type": "code",
   "execution_count": 14,
   "metadata": {
    "collapsed": false
   },
   "outputs": [
    {
     "name": "stdout",
     "output_type": "stream",
     "text": [
      "total 12K\n",
      "drwxrwxr-x. 17 liheyi liheyi 4.0K Jun 30 00:01 anaconda2\n",
      "-rw-rw-r--.  1 liheyi liheyi   64 Jul 12 22:40 ip.txt\n",
      "drwxrwxr-x.  7 liheyi liheyi 4.0K Jul 12 21:26 jupyter\n",
      "\n"
     ]
    }
   ],
   "source": [
    "from sh import ls\n",
    "print ls(['/home/liheyi/', '-lh'])"
   ]
  },
  {
   "cell_type": "markdown",
   "metadata": {},
   "source": [
    "For commands with more exotic characters in their names, like ., or if you just don’t like the “magic”-ness of dynamic lookups, you may use sh’s Command wrapper and pass in the command name or the absolute path of the executable:"
   ]
  },
  {
   "cell_type": "code",
   "execution_count": 17,
   "metadata": {
    "collapsed": false
   },
   "outputs": [
    {
     "data": {
      "text/plain": [
       "This is the first example in for sh module.\n",
       "I want to use this surprising tools."
      ]
     },
     "execution_count": 17,
     "metadata": {},
     "output_type": "execute_result"
    }
   ],
   "source": [
    "import sh\n",
    "run = sh.Command(\"/home/liheyi/example.sh\")\n",
    "run()"
   ]
  },
  {
   "cell_type": "code",
   "execution_count": 23,
   "metadata": {
    "collapsed": false
   },
   "outputs": [
    {
     "data": {
      "text/plain": [
       "/home/liheyi/jupyter/python/library/Interprocess_and_Networking"
      ]
     },
     "execution_count": 23,
     "metadata": {},
     "output_type": "execute_result"
    }
   ],
   "source": [
    "import sh\n",
    "pwd = sh.Command(\"pwd\")\n",
    "pwd()"
   ]
  },
  {
   "cell_type": "markdown",
   "metadata": {},
   "source": [
    "### 2.Multiple arguments\n",
    "Commands that take multiple arguments, need to be invoked using separate string for each argument rather than single string for all the arguments together. One might expect the following to work, the way it works in *nix shell, but it doesn’t:"
   ]
  },
  {
   "cell_type": "code",
   "execution_count": 25,
   "metadata": {
    "collapsed": false
   },
   "outputs": [
    {
     "ename": "ErrorReturnCode_2",
     "evalue": "\n\n  RAN: '/bin/tar cvf /tmp/test.tar /my/home/directory'\n\n  STDOUT:\n\n\n  STDERR:\n/bin/tar: Old option `f' requires an argument.\nTry `/bin/tar --help' or `/bin/tar --usage' for more information.\n",
     "output_type": "error",
     "traceback": [
      "\u001b[1;31m---------------------------------------------------------------------------\u001b[0m",
      "\u001b[1;31mErrorReturnCode_2\u001b[0m                         Traceback (most recent call last)",
      "\u001b[1;32m<ipython-input-25-104ca4a94385>\u001b[0m in \u001b[0;36m<module>\u001b[1;34m()\u001b[0m\n\u001b[0;32m      1\u001b[0m \u001b[1;31m# You will run into error that may seem baffling:\u001b[0m\u001b[1;33m\u001b[0m\u001b[1;33m\u001b[0m\u001b[0m\n\u001b[0;32m      2\u001b[0m \u001b[1;32mfrom\u001b[0m \u001b[0msh\u001b[0m \u001b[1;32mimport\u001b[0m \u001b[0mtar\u001b[0m\u001b[1;33m\u001b[0m\u001b[0m\n\u001b[1;32m----> 3\u001b[1;33m \u001b[0mtar\u001b[0m\u001b[1;33m(\u001b[0m\u001b[1;34m\"cvf /tmp/test.tar /my/home/directory\"\u001b[0m\u001b[1;33m)\u001b[0m\u001b[1;33m\u001b[0m\u001b[0m\n\u001b[0m",
      "\u001b[1;32m/home/liheyi/anaconda2/lib/python2.7/site-packages/sh.pyc\u001b[0m in \u001b[0;36m__call__\u001b[1;34m(self, *args, **kwargs)\u001b[0m\n\u001b[0;32m   1019\u001b[0m \u001b[1;33m\u001b[0m\u001b[0m\n\u001b[0;32m   1020\u001b[0m \u001b[1;33m\u001b[0m\u001b[0m\n\u001b[1;32m-> 1021\u001b[1;33m         \u001b[1;32mreturn\u001b[0m \u001b[0mRunningCommand\u001b[0m\u001b[1;33m(\u001b[0m\u001b[0mcmd\u001b[0m\u001b[1;33m,\u001b[0m \u001b[0mcall_args\u001b[0m\u001b[1;33m,\u001b[0m \u001b[0mstdin\u001b[0m\u001b[1;33m,\u001b[0m \u001b[0mstdout\u001b[0m\u001b[1;33m,\u001b[0m \u001b[0mstderr\u001b[0m\u001b[1;33m)\u001b[0m\u001b[1;33m\u001b[0m\u001b[0m\n\u001b[0m\u001b[0;32m   1022\u001b[0m \u001b[1;33m\u001b[0m\u001b[0m\n\u001b[0;32m   1023\u001b[0m \u001b[1;33m\u001b[0m\u001b[0m\n",
      "\u001b[1;32m/home/liheyi/anaconda2/lib/python2.7/site-packages/sh.pyc\u001b[0m in \u001b[0;36m__init__\u001b[1;34m(self, cmd, call_args, stdin, stdout, stderr)\u001b[0m\n\u001b[0;32m    484\u001b[0m \u001b[1;33m\u001b[0m\u001b[0m\n\u001b[0;32m    485\u001b[0m             \u001b[1;32mif\u001b[0m \u001b[0mshould_wait\u001b[0m\u001b[1;33m:\u001b[0m\u001b[1;33m\u001b[0m\u001b[0m\n\u001b[1;32m--> 486\u001b[1;33m                 \u001b[0mself\u001b[0m\u001b[1;33m.\u001b[0m\u001b[0mwait\u001b[0m\u001b[1;33m(\u001b[0m\u001b[1;33m)\u001b[0m\u001b[1;33m\u001b[0m\u001b[0m\n\u001b[0m\u001b[0;32m    487\u001b[0m \u001b[1;33m\u001b[0m\u001b[0m\n\u001b[0;32m    488\u001b[0m \u001b[1;33m\u001b[0m\u001b[0m\n",
      "\u001b[1;32m/home/liheyi/anaconda2/lib/python2.7/site-packages/sh.pyc\u001b[0m in \u001b[0;36mwait\u001b[1;34m(self)\u001b[0m\n\u001b[0;32m    498\u001b[0m                 \u001b[1;32mraise\u001b[0m \u001b[0mTimeoutException\u001b[0m\u001b[1;33m(\u001b[0m\u001b[1;33m-\u001b[0m\u001b[0mexit_code\u001b[0m\u001b[1;33m)\u001b[0m\u001b[1;33m\u001b[0m\u001b[0m\n\u001b[0;32m    499\u001b[0m             \u001b[1;32melse\u001b[0m\u001b[1;33m:\u001b[0m\u001b[1;33m\u001b[0m\u001b[0m\n\u001b[1;32m--> 500\u001b[1;33m                 \u001b[0mself\u001b[0m\u001b[1;33m.\u001b[0m\u001b[0mhandle_command_exit_code\u001b[0m\u001b[1;33m(\u001b[0m\u001b[0mexit_code\u001b[0m\u001b[1;33m)\u001b[0m\u001b[1;33m\u001b[0m\u001b[0m\n\u001b[0m\u001b[0;32m    501\u001b[0m \u001b[1;33m\u001b[0m\u001b[0m\n\u001b[0;32m    502\u001b[0m             \u001b[1;31m# https://github.com/amoffat/sh/issues/185\u001b[0m\u001b[1;33m\u001b[0m\u001b[1;33m\u001b[0m\u001b[0m\n",
      "\u001b[1;32m/home/liheyi/anaconda2/lib/python2.7/site-packages/sh.pyc\u001b[0m in \u001b[0;36mhandle_command_exit_code\u001b[1;34m(self, code)\u001b[0m\n\u001b[0;32m    514\u001b[0m             SIGNALS_THAT_SHOULD_THROW_EXCEPTION)):\n\u001b[0;32m    515\u001b[0m             \u001b[0mexc\u001b[0m \u001b[1;33m=\u001b[0m \u001b[0mget_rc_exc\u001b[0m\u001b[1;33m(\u001b[0m\u001b[0mcode\u001b[0m\u001b[1;33m)\u001b[0m\u001b[1;33m\u001b[0m\u001b[0m\n\u001b[1;32m--> 516\u001b[1;33m             \u001b[1;32mraise\u001b[0m \u001b[0mexc\u001b[0m\u001b[1;33m(\u001b[0m\u001b[0mself\u001b[0m\u001b[1;33m.\u001b[0m\u001b[0mran\u001b[0m\u001b[1;33m,\u001b[0m \u001b[0mself\u001b[0m\u001b[1;33m.\u001b[0m\u001b[0mprocess\u001b[0m\u001b[1;33m.\u001b[0m\u001b[0mstdout\u001b[0m\u001b[1;33m,\u001b[0m \u001b[0mself\u001b[0m\u001b[1;33m.\u001b[0m\u001b[0mprocess\u001b[0m\u001b[1;33m.\u001b[0m\u001b[0mstderr\u001b[0m\u001b[1;33m)\u001b[0m\u001b[1;33m\u001b[0m\u001b[0m\n\u001b[0m\u001b[0;32m    517\u001b[0m \u001b[1;33m\u001b[0m\u001b[0m\n\u001b[0;32m    518\u001b[0m \u001b[1;33m\u001b[0m\u001b[0m\n",
      "\u001b[1;31mErrorReturnCode_2\u001b[0m: \n\n  RAN: '/bin/tar cvf /tmp/test.tar /my/home/directory'\n\n  STDOUT:\n\n\n  STDERR:\n/bin/tar: Old option `f' requires an argument.\nTry `/bin/tar --help' or `/bin/tar --usage' for more information.\n"
     ]
    }
   ],
   "source": [
    "# You will run into error that may seem baffling:\n",
    "from sh import tar\n",
    "tar(\"cvf /tmp/test.tar /my/home/directory\")"
   ]
  },
  {
   "cell_type": "markdown",
   "metadata": {},
   "source": [
    "Right way to do this is to break up your arguments before passing them into a program.A shell (bash) typically does this for you. It turns “tar czvf /home/liheyi/jupyter.tgz /home/liheyi/jupyter/” into 4 strings: “tar”, “czvf”, “/home/liheyi/jupyter.tgz” and “/home/liheyi/jupyter/” before passing them into the binary. You have to do this manually with sh.py.:"
   ]
  },
  {
   "cell_type": "code",
   "execution_count": 29,
   "metadata": {
    "collapsed": false
   },
   "outputs": [
    {
     "data": {
      "text/plain": [
       "total 560K\n",
       "drwxrwxr-x. 17 liheyi liheyi 4.0K Jun 30 00:01 anaconda2\n",
       "drwxrwxr-x.  7 liheyi liheyi 4.0K Jul 12 21:26 jupyter\n",
       "-rw-rw-r--.  1 liheyi liheyi   64 Jul 12 22:40 ip.txt\n",
       "-rwxr-xr-x.  1 liheyi liheyi  107 Jul 13 23:19 example.sh\n",
       "-rw-rw-r--.  1 liheyi liheyi 543K Jul 13 23:36 jupyter.tgz"
      ]
     },
     "execution_count": 29,
     "metadata": {},
     "output_type": "execute_result"
    }
   ],
   "source": [
    "from sh import tar,ls\n",
    "tar('czf', '/home/liheyi/jupyter.tgz', '/home/liheyi/jupyter/')\n",
    "ls('-lhtr','/home/liheyi/')"
   ]
  },
  {
   "cell_type": "code",
   "execution_count": 33,
   "metadata": {
    "collapsed": false
   },
   "outputs": [
    {
     "data": {
      "text/plain": [
       "Database\n",
       "information_schema\n",
       "mysql\n",
       "performance_schema\n",
       "test\n",
       "zzgame101"
      ]
     },
     "execution_count": 33,
     "metadata": {},
     "output_type": "execute_result"
    }
   ],
   "source": [
    "from sh import mysql\n",
    "mysql('-uroot', '-S', '/tmp/mysql.sock', '-e', 'show databases;')"
   ]
  },
  {
   "cell_type": "markdown",
   "metadata": {},
   "source": [
    "### 3.Arguments to sh’s Command wrapper"
   ]
  },
  {
   "cell_type": "markdown",
   "metadata": {},
   "source": [
    "Similar to the above, arguments to the sh.Command must be separate.   \n",
    "e.g. the following does not work and arrise CommandNotFound expection."
   ]
  },
  {
   "cell_type": "code",
   "execution_count": 30,
   "metadata": {
    "collapsed": false
   },
   "outputs": [
    {
     "ename": "CommandNotFound",
     "evalue": "/bin/ls -l",
     "output_type": "error",
     "traceback": [
      "\u001b[1;31m---------------------------------------------------------------------------\u001b[0m",
      "\u001b[1;31mCommandNotFound\u001b[0m                           Traceback (most recent call last)",
      "\u001b[1;32m<ipython-input-30-2728f2dbc68d>\u001b[0m in \u001b[0;36m<module>\u001b[1;34m()\u001b[0m\n\u001b[1;32m----> 1\u001b[1;33m \u001b[0mll\u001b[0m \u001b[1;33m=\u001b[0m \u001b[0msh\u001b[0m\u001b[1;33m.\u001b[0m\u001b[0mCommand\u001b[0m\u001b[1;33m(\u001b[0m\u001b[1;34m'/bin/ls -l'\u001b[0m\u001b[1;33m)\u001b[0m\u001b[1;33m\u001b[0m\u001b[0m\n\u001b[0m\u001b[0;32m      2\u001b[0m \u001b[0mll\u001b[0m\u001b[1;33m(\u001b[0m\u001b[1;33m)\u001b[0m\u001b[1;33m\u001b[0m\u001b[0m\n",
      "\u001b[1;32m/home/liheyi/anaconda2/lib/python2.7/site-packages/sh.pyc\u001b[0m in \u001b[0;36m__init__\u001b[1;34m(self, path)\u001b[0m\n\u001b[0;32m    786\u001b[0m         \u001b[0mfound\u001b[0m \u001b[1;33m=\u001b[0m \u001b[0mwhich\u001b[0m\u001b[1;33m(\u001b[0m\u001b[0mpath\u001b[0m\u001b[1;33m)\u001b[0m\u001b[1;33m\u001b[0m\u001b[0m\n\u001b[0;32m    787\u001b[0m         \u001b[1;32mif\u001b[0m \u001b[1;32mnot\u001b[0m \u001b[0mfound\u001b[0m\u001b[1;33m:\u001b[0m\u001b[1;33m\u001b[0m\u001b[0m\n\u001b[1;32m--> 788\u001b[1;33m             \u001b[1;32mraise\u001b[0m \u001b[0mCommandNotFound\u001b[0m\u001b[1;33m(\u001b[0m\u001b[0mpath\u001b[0m\u001b[1;33m)\u001b[0m\u001b[1;33m\u001b[0m\u001b[0m\n\u001b[0m\u001b[0;32m    789\u001b[0m \u001b[1;33m\u001b[0m\u001b[0m\n\u001b[0;32m    790\u001b[0m         \u001b[0mself\u001b[0m\u001b[1;33m.\u001b[0m\u001b[0m_path\u001b[0m \u001b[1;33m=\u001b[0m \u001b[0mencode_to_py3bytes_or_py2str\u001b[0m\u001b[1;33m(\u001b[0m\u001b[0mfound\u001b[0m\u001b[1;33m)\u001b[0m\u001b[1;33m\u001b[0m\u001b[0m\n",
      "\u001b[1;31mCommandNotFound\u001b[0m: /bin/ls -l"
     ]
    }
   ],
   "source": [
    "ll = sh.Command('/bin/ls -l')\n",
    "ll()"
   ]
  },
  {
   "cell_type": "markdown",
   "metadata": {},
   "source": [
    "You will run into CommandNotFound(path) exception even when correct full path is specified.   \n",
    "The correct way to do this is to :  \n",
    "##### 1.build Command object using only the binary  \n",
    "##### 2.pass the arguments to the object when invoking  \n",
    "as follows:"
   ]
  },
  {
   "cell_type": "code",
   "execution_count": 31,
   "metadata": {
    "collapsed": false
   },
   "outputs": [
    {
     "data": {
      "text/plain": [
       "total 80\n",
       "-rw-rw-r--. 1 liheyi liheyi   736 Jul 13 22:26 README.md\n",
       "-rw-rw-r--. 1 liheyi liheyi 15182 Jul 13 23:43 sh.ipynb\n",
       "-rw-rw-r--. 1 liheyi liheyi 59331 Jul 13 22:26 subprocess.ipynb"
      ]
     },
     "execution_count": 31,
     "metadata": {},
     "output_type": "execute_result"
    }
   ],
   "source": [
    "ll = sh.Command('/bin/ls')\n",
    "ll('-l')"
   ]
  },
  {
   "cell_type": "code",
   "execution_count": 32,
   "metadata": {
    "collapsed": false
   },
   "outputs": [
    {
     "data": {
      "text/plain": [
       "total 560K\n",
       "drwxrwxr-x. 17 liheyi liheyi 4.0K Jun 30 00:01 anaconda2\n",
       "drwxrwxr-x.  7 liheyi liheyi 4.0K Jul 12 21:26 jupyter\n",
       "-rw-rw-r--.  1 liheyi liheyi   64 Jul 12 22:40 ip.txt\n",
       "-rwxr-xr-x.  1 liheyi liheyi  107 Jul 13 23:19 example.sh\n",
       "-rw-rw-r--.  1 liheyi liheyi 543K Jul 13 23:36 jupyter.tgz"
      ]
     },
     "execution_count": 32,
     "metadata": {},
     "output_type": "execute_result"
    }
   ],
   "source": [
    "ll('-lhtr', '/home/liheyi/')"
   ]
  },
  {
   "cell_type": "markdown",
   "metadata": {},
   "source": [
    "### 4.Keyword arguments\n",
    "Commands support short-form -a and long-form --arg arguments as keyword arguments:"
   ]
  },
  {
   "cell_type": "code",
   "execution_count": null,
   "metadata": {
    "collapsed": true
   },
   "outputs": [],
   "source": []
  },
  {
   "cell_type": "markdown",
   "metadata": {},
   "source": [
    "### 5.Background processes\n",
    "By default, each command runs and completes its process before returning.   \n",
    "If you have a long-running command, you can put it in the background with the _bg=True special keyword argument:"
   ]
  },
  {
   "cell_type": "code",
   "execution_count": 34,
   "metadata": {
    "collapsed": false
   },
   "outputs": [
    {
     "name": "stdout",
     "output_type": "stream",
     "text": [
      "...5 seconds later\n"
     ]
    }
   ],
   "source": [
    "# blocks\n",
    "from sh import sleep\n",
    "sleep(5)\n",
    "print \"...5 seconds later\""
   ]
  },
  {
   "cell_type": "code",
   "execution_count": 35,
   "metadata": {
    "collapsed": false
   },
   "outputs": [
    {
     "name": "stdout",
     "output_type": "stream",
     "text": [
      "prints immediately!\n",
      "...and 5 seconds later\n"
     ]
    }
   ],
   "source": [
    "# not block\n",
    "from sh import sleep\n",
    "p = sleep(5, _bg=True)\n",
    "print 'prints immediately!'\n",
    "p.wait()\n",
    "print '...and 5 seconds later'"
   ]
  },
  {
   "cell_type": "markdown",
   "metadata": {},
   "source": [
    "### 6.Piping\n",
    "Bash style piping is performed using function composition. Just pass one command as the input to another, and sh will create a pipe:"
   ]
  },
  {
   "cell_type": "code",
   "execution_count": 41,
   "metadata": {
    "collapsed": false
   },
   "outputs": [
    {
     "data": {
      "text/plain": [
       "248"
      ]
     },
     "execution_count": 41,
     "metadata": {},
     "output_type": "execute_result"
    }
   ],
   "source": [
    "# ls -l /etc | wc -l\n",
    "from sh import wc,ls\n",
    "wc(ls(\"-l\", \"/etc\"), \"-l\")"
   ]
  },
  {
   "cell_type": "markdown",
   "metadata": {},
   "source": [
    "By default, any command that is piping another command in waits for it to complete. This behavior can be changed with the _piped special keyword argument on the command being piped, which tells it not to complete before sending its data, but to send its data incrementally. See Advanced piping for examples of this."
   ]
  },
  {
   "cell_type": "markdown",
   "metadata": {},
   "source": [
    "### 7.Redirection\n",
    "sh can redirect the standard and error output streams of a process to a file or file-like object. This is done with the special _out and _err special keyword argument. You can pass a filename or a file object as the argument value. When the name of an already existing file is passed, the contents of the file will be overwritten:"
   ]
  },
  {
   "cell_type": "code",
   "execution_count": 47,
   "metadata": {
    "collapsed": false
   },
   "outputs": [
    {
     "data": {
      "text/plain": []
     },
     "execution_count": 47,
     "metadata": {},
     "output_type": "execute_result"
    }
   ],
   "source": [
    "# redirect the standard output to file\n",
    "from sh import ls,cat\n",
    "ls('-lh', '/home/liheyi/jupyter/', _out='files.list')"
   ]
  },
  {
   "cell_type": "code",
   "execution_count": 48,
   "metadata": {
    "collapsed": false
   },
   "outputs": [
    {
     "data": {
      "text/plain": [
       "total 24K\n",
       "drwxrwxr-x. 3 liheyi liheyi 4.0K Jun 30 22:36 bash\n",
       "drwxrwxr-x. 3 liheyi liheyi 4.0K Jun 30 22:36 linux_command\n",
       "-rwxr-xr-x. 1 liheyi liheyi   41 Jul  7 21:05 ntp.sh\n",
       "drwxrwxr-x. 4 liheyi liheyi 4.0K Jul 12 21:26 python\n",
       "-rw-rw-r--. 1 liheyi liheyi   70 Jul  5 22:37 README\n",
       "-rwxrwxr-x. 1 liheyi liheyi   62 Jun 30 22:36 start.sh"
      ]
     },
     "execution_count": 48,
     "metadata": {},
     "output_type": "execute_result"
    }
   ],
   "source": [
    "cat('files.list')"
   ]
  },
  {
   "cell_type": "code",
   "execution_count": 49,
   "metadata": {
    "collapsed": false
   },
   "outputs": [
    {
     "ename": "ErrorReturnCode_2",
     "evalue": "\n\n  RAN: '/bin/ls no_exist_file'\n\n  STDOUT:\n\n\n  STDERR:\n",
     "output_type": "error",
     "traceback": [
      "\u001b[1;31m---------------------------------------------------------------------------\u001b[0m",
      "\u001b[1;31mErrorReturnCode_2\u001b[0m                         Traceback (most recent call last)",
      "\u001b[1;32m<ipython-input-49-bd7e776346e2>\u001b[0m in \u001b[0;36m<module>\u001b[1;34m()\u001b[0m\n\u001b[0;32m      1\u001b[0m \u001b[1;31m# redirect the error output to file\u001b[0m\u001b[1;33m\u001b[0m\u001b[1;33m\u001b[0m\u001b[0m\n\u001b[0;32m      2\u001b[0m \u001b[1;32mfrom\u001b[0m \u001b[0msh\u001b[0m \u001b[1;32mimport\u001b[0m \u001b[0mls\u001b[0m\u001b[1;33m,\u001b[0m\u001b[0mcat\u001b[0m\u001b[1;33m\u001b[0m\u001b[0m\n\u001b[1;32m----> 3\u001b[1;33m \u001b[0mls\u001b[0m\u001b[1;33m(\u001b[0m\u001b[1;34m'no_exist_file'\u001b[0m\u001b[1;33m,\u001b[0m \u001b[0m_err\u001b[0m\u001b[1;33m=\u001b[0m\u001b[1;34m'error.txt'\u001b[0m\u001b[1;33m)\u001b[0m\u001b[1;33m\u001b[0m\u001b[0m\n\u001b[0m",
      "\u001b[1;32m/home/liheyi/anaconda2/lib/python2.7/site-packages/sh.pyc\u001b[0m in \u001b[0;36m__call__\u001b[1;34m(self, *args, **kwargs)\u001b[0m\n\u001b[0;32m   1019\u001b[0m \u001b[1;33m\u001b[0m\u001b[0m\n\u001b[0;32m   1020\u001b[0m \u001b[1;33m\u001b[0m\u001b[0m\n\u001b[1;32m-> 1021\u001b[1;33m         \u001b[1;32mreturn\u001b[0m \u001b[0mRunningCommand\u001b[0m\u001b[1;33m(\u001b[0m\u001b[0mcmd\u001b[0m\u001b[1;33m,\u001b[0m \u001b[0mcall_args\u001b[0m\u001b[1;33m,\u001b[0m \u001b[0mstdin\u001b[0m\u001b[1;33m,\u001b[0m \u001b[0mstdout\u001b[0m\u001b[1;33m,\u001b[0m \u001b[0mstderr\u001b[0m\u001b[1;33m)\u001b[0m\u001b[1;33m\u001b[0m\u001b[0m\n\u001b[0m\u001b[0;32m   1022\u001b[0m \u001b[1;33m\u001b[0m\u001b[0m\n\u001b[0;32m   1023\u001b[0m \u001b[1;33m\u001b[0m\u001b[0m\n",
      "\u001b[1;32m/home/liheyi/anaconda2/lib/python2.7/site-packages/sh.pyc\u001b[0m in \u001b[0;36m__init__\u001b[1;34m(self, cmd, call_args, stdin, stdout, stderr)\u001b[0m\n\u001b[0;32m    484\u001b[0m \u001b[1;33m\u001b[0m\u001b[0m\n\u001b[0;32m    485\u001b[0m             \u001b[1;32mif\u001b[0m \u001b[0mshould_wait\u001b[0m\u001b[1;33m:\u001b[0m\u001b[1;33m\u001b[0m\u001b[0m\n\u001b[1;32m--> 486\u001b[1;33m                 \u001b[0mself\u001b[0m\u001b[1;33m.\u001b[0m\u001b[0mwait\u001b[0m\u001b[1;33m(\u001b[0m\u001b[1;33m)\u001b[0m\u001b[1;33m\u001b[0m\u001b[0m\n\u001b[0m\u001b[0;32m    487\u001b[0m \u001b[1;33m\u001b[0m\u001b[0m\n\u001b[0;32m    488\u001b[0m \u001b[1;33m\u001b[0m\u001b[0m\n",
      "\u001b[1;32m/home/liheyi/anaconda2/lib/python2.7/site-packages/sh.pyc\u001b[0m in \u001b[0;36mwait\u001b[1;34m(self)\u001b[0m\n\u001b[0;32m    498\u001b[0m                 \u001b[1;32mraise\u001b[0m \u001b[0mTimeoutException\u001b[0m\u001b[1;33m(\u001b[0m\u001b[1;33m-\u001b[0m\u001b[0mexit_code\u001b[0m\u001b[1;33m)\u001b[0m\u001b[1;33m\u001b[0m\u001b[0m\n\u001b[0;32m    499\u001b[0m             \u001b[1;32melse\u001b[0m\u001b[1;33m:\u001b[0m\u001b[1;33m\u001b[0m\u001b[0m\n\u001b[1;32m--> 500\u001b[1;33m                 \u001b[0mself\u001b[0m\u001b[1;33m.\u001b[0m\u001b[0mhandle_command_exit_code\u001b[0m\u001b[1;33m(\u001b[0m\u001b[0mexit_code\u001b[0m\u001b[1;33m)\u001b[0m\u001b[1;33m\u001b[0m\u001b[0m\n\u001b[0m\u001b[0;32m    501\u001b[0m \u001b[1;33m\u001b[0m\u001b[0m\n\u001b[0;32m    502\u001b[0m             \u001b[1;31m# https://github.com/amoffat/sh/issues/185\u001b[0m\u001b[1;33m\u001b[0m\u001b[1;33m\u001b[0m\u001b[0m\n",
      "\u001b[1;32m/home/liheyi/anaconda2/lib/python2.7/site-packages/sh.pyc\u001b[0m in \u001b[0;36mhandle_command_exit_code\u001b[1;34m(self, code)\u001b[0m\n\u001b[0;32m    514\u001b[0m             SIGNALS_THAT_SHOULD_THROW_EXCEPTION)):\n\u001b[0;32m    515\u001b[0m             \u001b[0mexc\u001b[0m \u001b[1;33m=\u001b[0m \u001b[0mget_rc_exc\u001b[0m\u001b[1;33m(\u001b[0m\u001b[0mcode\u001b[0m\u001b[1;33m)\u001b[0m\u001b[1;33m\u001b[0m\u001b[0m\n\u001b[1;32m--> 516\u001b[1;33m             \u001b[1;32mraise\u001b[0m \u001b[0mexc\u001b[0m\u001b[1;33m(\u001b[0m\u001b[0mself\u001b[0m\u001b[1;33m.\u001b[0m\u001b[0mran\u001b[0m\u001b[1;33m,\u001b[0m \u001b[0mself\u001b[0m\u001b[1;33m.\u001b[0m\u001b[0mprocess\u001b[0m\u001b[1;33m.\u001b[0m\u001b[0mstdout\u001b[0m\u001b[1;33m,\u001b[0m \u001b[0mself\u001b[0m\u001b[1;33m.\u001b[0m\u001b[0mprocess\u001b[0m\u001b[1;33m.\u001b[0m\u001b[0mstderr\u001b[0m\u001b[1;33m)\u001b[0m\u001b[1;33m\u001b[0m\u001b[0m\n\u001b[0m\u001b[0;32m    517\u001b[0m \u001b[1;33m\u001b[0m\u001b[0m\n\u001b[0;32m    518\u001b[0m \u001b[1;33m\u001b[0m\u001b[0m\n",
      "\u001b[1;31mErrorReturnCode_2\u001b[0m: \n\n  RAN: '/bin/ls no_exist_file'\n\n  STDOUT:\n\n\n  STDERR:\n"
     ]
    }
   ],
   "source": [
    "# redirect the error output to file\n",
    "from sh import ls,cat\n",
    "ls('no_exist_file', _err='error.txt')"
   ]
  },
  {
   "cell_type": "code",
   "execution_count": 51,
   "metadata": {
    "collapsed": false
   },
   "outputs": [
    {
     "data": {
      "text/plain": [
       "/bin/ls: cannot access nonexistent: No such file or directory"
      ]
     },
     "execution_count": 51,
     "metadata": {},
     "output_type": "execute_result"
    }
   ],
   "source": [
    "cat('error.txt')"
   ]
  },
  {
   "cell_type": "markdown",
   "metadata": {},
   "source": [
    "You can also redirect to a function. See STDOUT/ERR callbacks."
   ]
  },
  {
   "cell_type": "markdown",
   "metadata": {},
   "source": [
    "### 8.STDIN Processing\n",
    "STDIN is sent to a process directly by using a command’s _in special keyword argument:"
   ]
  },
  {
   "cell_type": "code",
   "execution_count": 54,
   "metadata": {
    "collapsed": false
   },
   "outputs": [
    {
     "data": {
      "text/plain": [
       "liheyi and liheyuan"
      ]
     },
     "execution_count": 54,
     "metadata": {},
     "output_type": "execute_result"
    }
   ],
   "source": [
    "# prints 'liheyi and liheyuan'\n",
    "from sh import cat\n",
    "cat(_in='liheyi and liheyuan')"
   ]
  },
  {
   "cell_type": "markdown",
   "metadata": {},
   "source": [
    "Any command that takes input from STDIN can be used this way:"
   ]
  },
  {
   "cell_type": "code",
   "execution_count": 55,
   "metadata": {
    "collapsed": false
   },
   "outputs": [
    {
     "data": {
      "text/plain": [
       "SH IS AWESOME"
      ]
     },
     "execution_count": 55,
     "metadata": {},
     "output_type": "execute_result"
    }
   ],
   "source": [
    "# print 'SH IS AWESOME'\n",
    "from sh import tr\n",
    "tr(\"[:lower:]\", \"[:upper:]\", _in=\"sh is awesome\")"
   ]
  },
  {
   "cell_type": "markdown",
   "metadata": {},
   "source": [
    "You’re also not limited to using just strings.   \n",
    "You may use a file object, a Queue, or any iterable (list, set, dictionary, etc):"
   ]
  },
  {
   "cell_type": "code",
   "execution_count": 59,
   "metadata": {
    "collapsed": false
   },
   "outputs": [
    {
     "name": "stdout",
     "output_type": "stream",
     "text": [
      "SHISAWESOME\n"
     ]
    }
   ],
   "source": [
    "# print 'SHISAWESOME'\n",
    "from sh import tr\n",
    "stdin = [\"sh\", \"is\", \"awesome\"]\n",
    "out = tr(\"[:lower:]\", \"[:upper:]\", _in=stdin)\n",
    "print out"
   ]
  },
  {
   "cell_type": "code",
   "execution_count": 60,
   "metadata": {
    "collapsed": false
   },
   "outputs": [
    {
     "name": "stdout",
     "output_type": "stream",
     "text": [
      "SH IS AWESOME\n"
     ]
    }
   ],
   "source": [
    "# print 'SH IS AWESOME'\n",
    "stdin = [\"sh\", \" \", \"is\", \" \", \"awesome\"]\n",
    "out = tr(\"[:lower:]\", \"[:upper:]\", _in=stdin)\n",
    "print out"
   ]
  },
  {
   "cell_type": "markdown",
   "metadata": {},
   "source": [
    "### 9.Sub-commands\n",
    "Many programs have their own command subsets, like git (branch, checkout), svn (update, status), and sudo (where any command following sudo is considered a sub-command). sh handles subcommands through attribute access:"
   ]
  },
  {
   "cell_type": "code",
   "execution_count": 62,
   "metadata": {
    "collapsed": false
   },
   "outputs": [
    {
     "data": {
      "text/plain": [
       "# On branch master\n",
       "# Untracked files:\n",
       "#   (use \"git add <file>...\" to include in what will be committed)\n",
       "#\n",
       "#\t.ipynb_checkpoints/sh-checkpoint.ipynb\n",
       "#\terror.txt\n",
       "#\tfiles.list\n",
       "#\tsh.ipynb\n",
       "nothing added to commit but untracked files present (use \"git add\" to track)"
      ]
     },
     "execution_count": 62,
     "metadata": {},
     "output_type": "execute_result"
    }
   ],
   "source": [
    "# resolves to \"git branch -v\"\n",
    "from sh import git\n",
    "git('status')"
   ]
  },
  {
   "cell_type": "code",
   "execution_count": 65,
   "metadata": {
    "collapsed": false
   },
   "outputs": [
    {
     "data": {
      "text/plain": [
       "total 4.9M\n",
       "-rw-r--r--. 1 root root 4.8M Aug  8  2011 libiconv-1.14.tar.gz\n",
       "-rw-r--r--. 1 root root 9.8K Jun 30 06:59 install.log.syslog\n",
       "-rw-r--r--. 1 root root  49K Jun 30 07:02 install.log\n",
       "-rw-------. 1 root root 1.4K Jun 30 07:02 anaconda-ks.cfg"
      ]
     },
     "execution_count": 65,
     "metadata": {},
     "output_type": "execute_result"
    }
   ],
   "source": [
    "# You must set liheyi(current user)\n",
    "# is in the sudoers file and no-password.\n",
    "# resolves to \"sudo /bin/ls /root\"\n",
    "from sh import sudo,ls\n",
    "sudo.ls('-lhtr', '/root/')\n",
    "# the same command\n",
    "# sudo('ls')"
   ]
  },
  {
   "cell_type": "markdown",
   "metadata": {},
   "source": [
    "Sub-commands are mainly syntax sugar that makes calling some programs look conceptually nicer.  \n",
    "Note:  \n",
    "If you use sudo, the user executing the script must have the NOPASSWD option set for whatever command that user is running, otherwise sudo will hang."
   ]
  },
  {
   "cell_type": "markdown",
   "metadata": {},
   "source": [
    "### 10.Exit codes\n",
    "Normal processes exit with exit code 0.   \n",
    "This can be seen through a command’s exit_code property:"
   ]
  },
  {
   "cell_type": "code",
   "execution_count": 66,
   "metadata": {
    "collapsed": false
   },
   "outputs": [
    {
     "name": "stdout",
     "output_type": "stream",
     "text": [
      "0\n"
     ]
    }
   ],
   "source": [
    "from sh import ls\n",
    "output = ls('-lh', '/')\n",
    "print output.exit_code"
   ]
  },
  {
   "cell_type": "markdown",
   "metadata": {},
   "source": [
    "If a process ends with an error, and the exit code is not 0, an exception is generated dynamically. This lets you catch a specific return code, or catch all error return codes through the base class ErrorReturnCode:"
   ]
  },
  {
   "cell_type": "code",
   "execution_count": null,
   "metadata": {
    "collapsed": false
   },
   "outputs": [],
   "source": [
    "try: print(ls(\"/some/non-existant/folder\"))\n",
    "except ErrorReturnCode_2:\n",
    "    print(\"folder doesn't exist!\")\n",
    "    create_the_folder()\n",
    "except ErrorReturnCode:\n",
    "    print(\"unknown error\")\n",
    "    exit(1)"
   ]
  },
  {
   "cell_type": "markdown",
   "metadata": {},
   "source": [
    "#### Note   \n",
    "Signals will not raise an ErrorReturnCode. The command will return as if it succeeded, but its exit_code property will be set to -signal_num. So, for example, if a command is killed with a SIGHUP, its return code will be -1."
   ]
  },
  {
   "cell_type": "markdown",
   "metadata": {},
   "source": [
    "Some programs return strange error codes even though they succeed. If you know which code a program might returns and you don’t want to deal with doing no-op exception handling, you can use the _ok_code special keyword argument:"
   ]
  },
  {
   "cell_type": "code",
   "execution_count": null,
   "metadata": {
    "collapsed": false
   },
   "outputs": [],
   "source": [
    "import sh\n",
    "sh.weird_program(_ok_code=[0,3,5])"
   ]
  },
  {
   "cell_type": "markdown",
   "metadata": {},
   "source": [
    "This means that the command will not generate an exception if the process exits with 0, 3, or 5 exit code.  \n",
    "#### Note   \n",
    "If you use _ok_code, you must specify all the exit codes that are considered “ok”, like (typically) 0."
   ]
  },
  {
   "cell_type": "markdown",
   "metadata": {},
   "source": [
    "### 11.Glob expansion\n",
    "Glob expansion is not performed on your arguments, for example, this will not work:"
   ]
  },
  {
   "cell_type": "code",
   "execution_count": 72,
   "metadata": {
    "collapsed": false
   },
   "outputs": [
    {
     "ename": "ErrorReturnCode_2",
     "evalue": "\n\n  RAN: '/bin/ls /home/liheyi/jupyter/python/Built-in/*.ipynb'\n\n  STDOUT:\n\n\n  STDERR:\n/bin/ls: cannot access /home/liheyi/jupyter/python/Built-in/*.ipynb: No such file or directory\n",
     "output_type": "error",
     "traceback": [
      "\u001b[1;31m---------------------------------------------------------------------------\u001b[0m",
      "\u001b[1;31mErrorReturnCode_2\u001b[0m                         Traceback (most recent call last)",
      "\u001b[1;32m<ipython-input-72-e94b0b38d942>\u001b[0m in \u001b[0;36m<module>\u001b[1;34m()\u001b[0m\n\u001b[0;32m      1\u001b[0m \u001b[1;32mfrom\u001b[0m \u001b[0msh\u001b[0m \u001b[1;32mimport\u001b[0m \u001b[0mls\u001b[0m\u001b[1;33m\u001b[0m\u001b[0m\n\u001b[1;32m----> 2\u001b[1;33m \u001b[0mls\u001b[0m\u001b[1;33m(\u001b[0m\u001b[1;34m\"/home/liheyi/jupyter/python/Built-in/*.ipynb\"\u001b[0m\u001b[1;33m)\u001b[0m\u001b[1;33m\u001b[0m\u001b[0m\n\u001b[0m",
      "\u001b[1;32m/home/liheyi/anaconda2/lib/python2.7/site-packages/sh.pyc\u001b[0m in \u001b[0;36m__call__\u001b[1;34m(self, *args, **kwargs)\u001b[0m\n\u001b[0;32m   1019\u001b[0m \u001b[1;33m\u001b[0m\u001b[0m\n\u001b[0;32m   1020\u001b[0m \u001b[1;33m\u001b[0m\u001b[0m\n\u001b[1;32m-> 1021\u001b[1;33m         \u001b[1;32mreturn\u001b[0m \u001b[0mRunningCommand\u001b[0m\u001b[1;33m(\u001b[0m\u001b[0mcmd\u001b[0m\u001b[1;33m,\u001b[0m \u001b[0mcall_args\u001b[0m\u001b[1;33m,\u001b[0m \u001b[0mstdin\u001b[0m\u001b[1;33m,\u001b[0m \u001b[0mstdout\u001b[0m\u001b[1;33m,\u001b[0m \u001b[0mstderr\u001b[0m\u001b[1;33m)\u001b[0m\u001b[1;33m\u001b[0m\u001b[0m\n\u001b[0m\u001b[0;32m   1022\u001b[0m \u001b[1;33m\u001b[0m\u001b[0m\n\u001b[0;32m   1023\u001b[0m \u001b[1;33m\u001b[0m\u001b[0m\n",
      "\u001b[1;32m/home/liheyi/anaconda2/lib/python2.7/site-packages/sh.pyc\u001b[0m in \u001b[0;36m__init__\u001b[1;34m(self, cmd, call_args, stdin, stdout, stderr)\u001b[0m\n\u001b[0;32m    484\u001b[0m \u001b[1;33m\u001b[0m\u001b[0m\n\u001b[0;32m    485\u001b[0m             \u001b[1;32mif\u001b[0m \u001b[0mshould_wait\u001b[0m\u001b[1;33m:\u001b[0m\u001b[1;33m\u001b[0m\u001b[0m\n\u001b[1;32m--> 486\u001b[1;33m                 \u001b[0mself\u001b[0m\u001b[1;33m.\u001b[0m\u001b[0mwait\u001b[0m\u001b[1;33m(\u001b[0m\u001b[1;33m)\u001b[0m\u001b[1;33m\u001b[0m\u001b[0m\n\u001b[0m\u001b[0;32m    487\u001b[0m \u001b[1;33m\u001b[0m\u001b[0m\n\u001b[0;32m    488\u001b[0m \u001b[1;33m\u001b[0m\u001b[0m\n",
      "\u001b[1;32m/home/liheyi/anaconda2/lib/python2.7/site-packages/sh.pyc\u001b[0m in \u001b[0;36mwait\u001b[1;34m(self)\u001b[0m\n\u001b[0;32m    498\u001b[0m                 \u001b[1;32mraise\u001b[0m \u001b[0mTimeoutException\u001b[0m\u001b[1;33m(\u001b[0m\u001b[1;33m-\u001b[0m\u001b[0mexit_code\u001b[0m\u001b[1;33m)\u001b[0m\u001b[1;33m\u001b[0m\u001b[0m\n\u001b[0;32m    499\u001b[0m             \u001b[1;32melse\u001b[0m\u001b[1;33m:\u001b[0m\u001b[1;33m\u001b[0m\u001b[0m\n\u001b[1;32m--> 500\u001b[1;33m                 \u001b[0mself\u001b[0m\u001b[1;33m.\u001b[0m\u001b[0mhandle_command_exit_code\u001b[0m\u001b[1;33m(\u001b[0m\u001b[0mexit_code\u001b[0m\u001b[1;33m)\u001b[0m\u001b[1;33m\u001b[0m\u001b[0m\n\u001b[0m\u001b[0;32m    501\u001b[0m \u001b[1;33m\u001b[0m\u001b[0m\n\u001b[0;32m    502\u001b[0m             \u001b[1;31m# https://github.com/amoffat/sh/issues/185\u001b[0m\u001b[1;33m\u001b[0m\u001b[1;33m\u001b[0m\u001b[0m\n",
      "\u001b[1;32m/home/liheyi/anaconda2/lib/python2.7/site-packages/sh.pyc\u001b[0m in \u001b[0;36mhandle_command_exit_code\u001b[1;34m(self, code)\u001b[0m\n\u001b[0;32m    514\u001b[0m             SIGNALS_THAT_SHOULD_THROW_EXCEPTION)):\n\u001b[0;32m    515\u001b[0m             \u001b[0mexc\u001b[0m \u001b[1;33m=\u001b[0m \u001b[0mget_rc_exc\u001b[0m\u001b[1;33m(\u001b[0m\u001b[0mcode\u001b[0m\u001b[1;33m)\u001b[0m\u001b[1;33m\u001b[0m\u001b[0m\n\u001b[1;32m--> 516\u001b[1;33m             \u001b[1;32mraise\u001b[0m \u001b[0mexc\u001b[0m\u001b[1;33m(\u001b[0m\u001b[0mself\u001b[0m\u001b[1;33m.\u001b[0m\u001b[0mran\u001b[0m\u001b[1;33m,\u001b[0m \u001b[0mself\u001b[0m\u001b[1;33m.\u001b[0m\u001b[0mprocess\u001b[0m\u001b[1;33m.\u001b[0m\u001b[0mstdout\u001b[0m\u001b[1;33m,\u001b[0m \u001b[0mself\u001b[0m\u001b[1;33m.\u001b[0m\u001b[0mprocess\u001b[0m\u001b[1;33m.\u001b[0m\u001b[0mstderr\u001b[0m\u001b[1;33m)\u001b[0m\u001b[1;33m\u001b[0m\u001b[0m\n\u001b[0m\u001b[0;32m    517\u001b[0m \u001b[1;33m\u001b[0m\u001b[0m\n\u001b[0;32m    518\u001b[0m \u001b[1;33m\u001b[0m\u001b[0m\n",
      "\u001b[1;31mErrorReturnCode_2\u001b[0m: \n\n  RAN: '/bin/ls /home/liheyi/jupyter/python/Built-in/*.ipynb'\n\n  STDOUT:\n\n\n  STDERR:\n/bin/ls: cannot access /home/liheyi/jupyter/python/Built-in/*.ipynb: No such file or directory\n"
     ]
    }
   ],
   "source": [
    "from sh import ls\n",
    "ls(\"/home/liheyi/jupyter/python/Built-in/*.ipynb\")"
   ]
  },
  {
   "cell_type": "markdown",
   "metadata": {},
   "source": [
    "You’ll get an error to the effect of cannot access '\\*.py': No such file or directory.   \n",
    "This is because the *.py needs to be glob expanded, not passed in literally:"
   ]
  },
  {
   "cell_type": "code",
   "execution_count": 73,
   "metadata": {
    "collapsed": false
   },
   "outputs": [
    {
     "data": {
      "text/plain": [
       "-rw-rw-r--. 1 liheyi liheyi 173K Jul 12 21:26 /home/liheyi/jupyter/python/Built-in/Built-in Functions.ipynb\n",
       "-rw-rw-r--. 1 liheyi liheyi  39K Jul 12 21:26 /home/liheyi/jupyter/python/Built-in/File Objects.ipynb\n",
       "-rw-rw-r--. 1 liheyi liheyi  34K Jul 12 21:26 /home/liheyi/jupyter/python/Built-in/Mapping Types.ipynb\n",
       "-rw-rw-r--. 1 liheyi liheyi 3.0K Jul 12 21:26 /home/liheyi/jupyter/python/Built-in/Iterator Types.ipynb\n",
       "-rw-rw-r--. 1 liheyi liheyi 123K Jul 12 21:26 /home/liheyi/jupyter/python/Built-in/Sequence Types.ipynb\n",
       "-rw-rw-r--. 1 liheyi liheyi  17K Jul 12 21:26 /home/liheyi/jupyter/python/Built-in/Set Types.ipynb"
      ]
     },
     "execution_count": 73,
     "metadata": {},
     "output_type": "execute_result"
    }
   ],
   "source": [
    "from sh import ls,glob\n",
    "ls(glob('/home/liheyi/jupyter/python/Built-in/*.ipynb'), '-lhtr')"
   ]
  },
  {
   "cell_type": "markdown",
   "metadata": {},
   "source": [
    "#### Note \n",
    "Don’t use Python’s glob.glob function, use sh.glob. Python’s has edge cases that break with sh."
   ]
  },
  {
   "cell_type": "markdown",
   "metadata": {},
   "source": [
    "## Advanced Features"
   ]
  },
  {
   "cell_type": "markdown",
   "metadata": {},
   "source": [
    "### 1.Baking\n",
    "sh is capable of “baking” arguments into commands. This is similar to the stdlib functools.partial wrapper. Example:"
   ]
  },
  {
   "cell_type": "code",
   "execution_count": 3,
   "metadata": {
    "collapsed": false
   },
   "outputs": [
    {
     "data": {
      "text/plain": [
       "total 120\n",
       "drwxrwxr-x 3 liheyi liheyi  4096  7月 14 10:32 .\n",
       "drwxrwxr-x 3 liheyi liheyi  4096  7月 12 17:56 ..\n",
       "drwxrwxr-x 2 liheyi liheyi  4096  7月 13 18:36 .ipynb_checkpoints\n",
       "-rw-rw-r-- 1 liheyi liheyi   736  7月 13 17:55 README.md\n",
       "-rw-rw-r-- 1 liheyi liheyi 41104  7月 14 10:32 sh.ipynb\n",
       "-rw-rw-r-- 1 liheyi liheyi 59331  7月 13 17:19 subprocess.ipynb"
      ]
     },
     "execution_count": 3,
     "metadata": {},
     "output_type": "execute_result"
    }
   ],
   "source": [
    "from sh import ls\n",
    "ls = ls.bake('-la')\n",
    "ls()"
   ]
  },
  {
   "cell_type": "code",
   "execution_count": 4,
   "metadata": {
    "collapsed": false
   },
   "outputs": [
    {
     "data": {
      "text/plain": [
       "total 40\n",
       "drwxrwxr-x  7 liheyi liheyi 4096  7月 12 17:55 .\n",
       "drwxr-xr-x 19 liheyi liheyi 4096  7月 13 17:55 ..\n",
       "drwxrwxr-x  3 liheyi liheyi 4096  7月  7 16:14 bash\n",
       "drwxrwxr-x  8 liheyi liheyi 4096  7月 14 10:09 .git\n",
       "drwxr-xr-x  2 liheyi liheyi 4096  6月 24 20:34 .ipynb_checkpoints\n",
       "drwxrwxr-x  3 liheyi liheyi 4096  6月 30 13:39 linux_command\n",
       "-rwxrwxr-x  1 liheyi liheyi   41  7月  7 18:32 ntp.sh\n",
       "drwxrwxr-x  4 liheyi liheyi 4096  7月 12 17:55 python\n",
       "-rw-rw-r--  1 liheyi liheyi   70  7月  7 16:15 README\n",
       "-rwxr-xr-x  1 liheyi liheyi   62  7月  7 14:59 start.sh"
      ]
     },
     "execution_count": 4,
     "metadata": {},
     "output_type": "execute_result"
    }
   ],
   "source": [
    "ls('/home/liheyi/jupyter/')"
   ]
  },
  {
   "cell_type": "markdown",
   "metadata": {},
   "source": [
    "### 2.‘With’ contexts\n",
    "Commands can be run within a with context.   \n",
    "Popular commands using this might be sudo or fakeroot:"
   ]
  },
  {
   "cell_type": "code",
   "execution_count": 7,
   "metadata": {
    "collapsed": false
   },
   "outputs": [
    {
     "name": "stdout",
     "output_type": "stream",
     "text": [
      "total 4.0K\n",
      "-rwxr-xr-x 1 root root 36  7月  7 11:18 update_time.sh\n",
      "\n"
     ]
    },
    {
     "name": "stderr",
     "output_type": "stream",
     "text": [
      "/home/liheyi/anaconda2/lib/python2.7/site-packages/ipykernel/__main__.py:2: UserWarning: with contexts are deprecated because they are not thread safe.  they will be removed in the next version.  use subcommands instead http://amoffat.github.io/sh/#sub-commands. see https://github.com/amoffat/sh/issues/195\n",
      "  from ipykernel import kernelapp as app\n"
     ]
    }
   ],
   "source": [
    "from sh import sudo,ls\n",
    "with sudo:\n",
    "    print ls('-lh', '/root/')"
   ]
  },
  {
   "cell_type": "markdown",
   "metadata": {},
   "source": [
    "If you need to run a command in a with context and pass in arguments, for example, specifying a -p prompt with sudo, you need to use the _with special keyword argument. This let’s the command know that it’s being run from a with context so it can behave correctly:"
   ]
  },
  {
   "cell_type": "code",
   "execution_count": 8,
   "metadata": {
    "collapsed": false
   },
   "outputs": [
    {
     "name": "stdout",
     "output_type": "stream",
     "text": [
      "total 4\n",
      "-rwxr-xr-x 1 root root 36  7月  7 11:18 update_time.sh\n",
      "\n"
     ]
    },
    {
     "name": "stderr",
     "output_type": "stream",
     "text": [
      "/home/liheyi/anaconda2/lib/python2.7/site-packages/ipykernel/__main__.py:2: UserWarning: with contexts are deprecated because they are not thread safe.  they will be removed in the next version.  use subcommands instead http://amoffat.github.io/sh/#sub-commands. see https://github.com/amoffat/sh/issues/195\n",
      "  from ipykernel import kernelapp as app\n"
     ]
    }
   ],
   "source": [
    "from sh import sudo,ls\n",
    "with sudo(k=True, _with=True):\n",
    "    print ls('-l', '/root/')"
   ]
  },
  {
   "cell_type": "markdown",
   "metadata": {},
   "source": [
    "#### Note \n",
    "If you use sudo, the user executing the script must have the NOPASSWD option set for whatever command that user is running, otherwise sudo will hang."
   ]
  },
  {
   "cell_type": "markdown",
   "metadata": {},
   "source": [
    "### 3.Iterating over output\n",
    "You can iterate over long-running commands with the _iter special keyword argument. This creates an iterator (technically, a generator) that you can loop over:"
   ]
  },
  {
   "cell_type": "code",
   "execution_count": null,
   "metadata": {
    "collapsed": true
   },
   "outputs": [],
   "source": [
    "from sh import tail\n",
    "for line in tail('-f', '/var/log/some_log_file.log', _iter=True):\n",
    "    print line,"
   ]
  },
  {
   "cell_type": "code",
   "execution_count": 10,
   "metadata": {
    "collapsed": false
   },
   "outputs": [
    {
     "name": "stdout",
     "output_type": "stream",
     "text": [
      "PING www.a.shifen.com (180.97.33.108) 56(84) bytes of data.\n",
      "64 bytes from 180.97.33.108: icmp_seq=1 ttl=128 time=34.0 ms\n",
      "64 bytes from 180.97.33.108: icmp_seq=2 ttl=128 time=34.3 ms\n",
      "64 bytes from 180.97.33.108: icmp_seq=3 ttl=128 time=34.8 ms\n",
      "64 bytes from 180.97.33.108: icmp_seq=4 ttl=128 time=34.7 ms\n",
      "64 bytes from 180.97.33.108: icmp_seq=5 ttl=128 time=38.4 ms\n",
      "64 bytes from 180.97.33.108: icmp_seq=6 ttl=128 time=36.5 ms\n",
      "\n",
      "--- www.a.shifen.com ping statistics ---\n",
      "6 packets transmitted, 6 received, 0% packet loss, time 5007ms\n",
      "rtt min/avg/max/mdev = 34.058/35.498/38.407/1.534 ms\n"
     ]
    }
   ],
   "source": [
    "from sh import ping\n",
    "for line in ping('-c6', 'www.baidu.com', _iter=True):\n",
    "    print line,"
   ]
  },
  {
   "cell_type": "markdown",
   "metadata": {},
   "source": [
    "By default, _iter iterates over stdout, but you can change set this specifically by passing either “err” or “out” to _iter (instead of True).   \n",
    "Also by default, output is line-buffered, but you can change this by changing Buffer sizes"
   ]
  },
  {
   "cell_type": "markdown",
   "metadata": {},
   "source": [
    "#### Note\n",
    "If you need a non-blocking iterator, use _iter_noblock.   \n",
    "If the current iteration would block, errno.EWOULDBLOCK will be returned, otherwise you’ll receive a chunk of output, as normal."
   ]
  },
  {
   "cell_type": "markdown",
   "metadata": {},
   "source": [
    "### 4.STDOUT/ERR callbacks"
   ]
  },
  {
   "cell_type": "markdown",
   "metadata": {},
   "source": []
  }
 ],
 "metadata": {
  "kernelspec": {
   "display_name": "Python 2",
   "language": "python",
   "name": "python2"
  },
  "language_info": {
   "codemirror_mode": {
    "name": "ipython",
    "version": 2
   },
   "file_extension": ".py",
   "mimetype": "text/x-python",
   "name": "python",
   "nbconvert_exporter": "python",
   "pygments_lexer": "ipython2",
   "version": "2.7.11"
  }
 },
 "nbformat": 4,
 "nbformat_minor": 0
}
