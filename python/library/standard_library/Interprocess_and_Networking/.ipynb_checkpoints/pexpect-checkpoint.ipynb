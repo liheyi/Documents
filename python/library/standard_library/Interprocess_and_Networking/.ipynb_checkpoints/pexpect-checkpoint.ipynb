{
 "cells": [
  {
   "cell_type": "markdown",
   "metadata": {},
   "source": [
    "# API Overview"
   ]
  },
  {
   "cell_type": "markdown",
   "metadata": {},
   "source": [
    "### 0.An Example of Pexpect in Action\n",
    "Pexpect can be used for automating interactive applications such as ssh, ftp, mencoder, passwd, etc. The Pexpect interface was designed to be easy to use.  \n",
    "\n",
    "Here is an example of Pexpect in action:"
   ]
  },
  {
   "cell_type": "code",
   "execution_count": null,
   "metadata": {
    "collapsed": false
   },
   "outputs": [],
   "source": [
    "# This connects to the sgz platform server and\n",
    "# list all files and directories in /home/admin.\n",
    "import pexpect\n",
    "ssh_child = pexpect.spawn(\"ssh -p2009 admin@88.88.88.88 'ls -lhtr /home/admin/'\")\n",
    "try:\n",
    "    verify = ssh_child.expect(['password:', 'continue connecting (yes/no)?'], timeout=10)\n",
    "    if verify == 0:\n",
    "        ssh_child.sendline('Skymoons')\n",
    "    elif verify == 1:\n",
    "        ssh_child.sendline('yes\\n')\n",
    "        ssh_child.expect('password: ')\n",
    "        ssh_child.sendline('Skymoons')\n",
    "    ssh_child.sendline('ls -lhtr /home/admin/')\n",
    "    ls_output = ssh_child.read()\n",
    "    print ls_output\n",
    "except pexpect.EOF:\n",
    "        print \"EOF\"\n",
    "        ssh_child.close()\n",
    "except pexpect.TIMEOUT:\n",
    "        print \"TIMEOUT\"\n",
    "        ssh_child.close()"
   ]
  },
  {
   "cell_type": "markdown",
   "metadata": {},
   "source": [
    "You can use this technique with any application.   \n",
    "This is especially handy if you are writing automated test tools."
   ]
  },
  {
   "cell_type": "markdown",
   "metadata": {},
   "source": [
    "There are two important methods in Pexpect – expect() and send() (or sendline() which is like send() with a linefeed). The expect() method waits for the child application to return a given string. The string you specify is a regular expression, so you can match complicated patterns. The send() method writes a string to the child application. From the child’s point of view it looks just like someone typed the text from a terminal. After each call to expect() the before and after properties will be set to the text printed by child application. The before property will contain all text up to the expected string pattern. The after string will contain the text that was matched by the expected pattern. The match property is set to the re match object."
   ]
  },
  {
   "cell_type": "markdown",
   "metadata": {
    "collapsed": false
   },
   "source": [
    "### 1.Special EOF and TIMEOUT patterns\n",
    "There are two special patterns to match the End Of File (EOF) or a Timeout condition (TIMEOUT). You can pass these patterns to expect(). These patterns are not regular expressions. Use them like predefined constants.  \n",
    "\n",
    "If the child has died and you have read all the child’s output then ordinarily expect() will raise an EOF exception. You can read everything up to the EOF without generating an exception by using the EOF pattern in expect(). In this case everything the child has output will be available in the before property.  \n",
    "\n",
    "The pattern given to expect() may be a regular expression or it may also be a list of regular expressions. This allows you to match multiple optional responses. The expect() method returns the index of the pattern that was matched. For example, say you wanted to login to a server. After entering a password you could get various responses from the server – your password could be rejected; or you could be allowed in and asked for your terminal type; or you could be let right in and given a command prompt. The following code fragment gives an example of this:"
   ]
  },
  {
   "cell_type": "code",
   "execution_count": null,
   "metadata": {
    "collapsed": true
   },
   "outputs": [],
   "source": [
    "child.expect('password:')\n",
    "child.sendline(my_secret_password)\n",
    "# We expect any of these three patterns...\n",
    "i = child.expect (['Permission denied', 'Terminal type', '[#\\$] '])\n",
    "if i==0:\n",
    "    print('Permission denied on host. Can\\'t login')\n",
    "    child.kill(0)\n",
    "elif i==1:\n",
    "    print('Login OK... need to send terminal type.')\n",
    "    child.sendline('vt100')\n",
    "    child.expect('[#\\$] ')\n",
    "elif i==2:\n",
    "    print('Login OK.')\n",
    "    print('Shell command prompt', child.after)"
   ]
  },
  {
   "cell_type": "markdown",
   "metadata": {},
   "source": [
    "If nothing matches an expected pattern then expect() will eventually raise a TIMEOUT exception. The default time is 30 seconds, but you can change this by passing a timeout argument to expect():"
   ]
  },
  {
   "cell_type": "code",
   "execution_count": null,
   "metadata": {
    "collapsed": true
   },
   "outputs": [],
   "source": [
    "# Wait no more than 2 minutes (120 seconds) for password prompt.\n",
    "child.expect('password:', timeout=120)"
   ]
  },
  {
   "cell_type": "markdown",
   "metadata": {},
   "source": [
    "### 2.Find the end of line – CR/LF conventions\n",
    "##### Pexpect matches regular expressions a little differently than what you might be used to.\n",
    "The \\$ pattern for end of line match is useless. The $ matches the end of string, but Pexpect reads from the child one character at a time, so each character looks like the end of a line. Pexpect can’t do a look-ahead into the child’s output stream. In general you would have this situation when using regular expressions with any stream.  "
   ]
  },
  {
   "cell_type": "markdown",
   "metadata": {},
   "source": [
    "###### Note\n",
    "Pexpect does have an internal buffer, so reads are faster than one character at a time, but from the user’s perspective the regex patterns test happens one character at a time."
   ]
  },
  {
   "cell_type": "markdown",
   "metadata": {},
   "source": [
    "The best way to match the end of a line is to look for the newline: \"\\r\\n\" (CR/LF). Yes, that does appear to be DOS-style. It may surprise some UNIX people to learn that terminal TTY device drivers (dumb, vt100, ANSI, xterm, etc.) all use the CR/LF combination to signify the end of line. Pexpect uses a Pseudo-TTY device to talk to the child application, so when the child app prints \"\\n\" you actually see \"\\r\\n\"."
   ]
  },
  {
   "cell_type": "markdown",
   "metadata": {},
   "source": [
    "UNIX uses just linefeeds to end lines of text, but not when it comes to TTY devices! TTY devices are more like the Windows world. Each line of text ends with a CR/LF combination. When you intercept data from a UNIX command from a TTY device you will find that the TTY device outputs a CR/LF combination. A UNIX command may only write a linefeed (\\n), but the TTY device driver converts it to CR/LF. This means that your terminal will see lines end with CR/LF (hex 0D 0A). Since Pexpect emulates a terminal, to match ends of lines you have to expect the CR/LF combination:"
   ]
  },
  {
   "cell_type": "code",
   "execution_count": null,
   "metadata": {
    "collapsed": true
   },
   "outputs": [],
   "source": [
    "child.expect('\\r\\n')"
   ]
  },
  {
   "cell_type": "markdown",
   "metadata": {},
   "source": [
    "If you just need to skip past a new line then expect('\\n') by itself will work, but if you are expecting a specific pattern before the end of line then you need to explicitly look for the \\r. For example the following expects a word at the end of a line:"
   ]
  },
  {
   "cell_type": "code",
   "execution_count": null,
   "metadata": {
    "collapsed": true
   },
   "outputs": [],
   "source": [
    "child.expect('\\w+\\r\\n')"
   ]
  },
  {
   "cell_type": "markdown",
   "metadata": {},
   "source": [
    "But the following would both fail:"
   ]
  },
  {
   "cell_type": "code",
   "execution_count": null,
   "metadata": {
    "collapsed": true
   },
   "outputs": [],
   "source": [
    "child.expect('\\w+\\n')"
   ]
  },
  {
   "cell_type": "markdown",
   "metadata": {},
   "source": [
    "And as explained before, trying to use $ to match the end of line would not work either:"
   ]
  },
  {
   "cell_type": "code",
   "execution_count": null,
   "metadata": {
    "collapsed": true
   },
   "outputs": [],
   "source": [
    "child.expect ('\\w+$')"
   ]
  },
  {
   "cell_type": "markdown",
   "metadata": {},
   "source": [
    "So if you need to explicitly look for the END OF LINE, you want to look for the CR/LF combination – not just the LF and not the $ pattern."
   ]
  },
  {
   "cell_type": "markdown",
   "metadata": {},
   "source": [
    "This problem is not limited to Pexpect. This problem happens any time you try to perform a regular expression match on a stream. Regular expressions need to look ahead. With a stream it is hard to look ahead because the process generating the stream may not be finished. There is no way to know if the process has paused momentarily or is finished and waiting for you. Pexpect must implicitly always do a NON greedy match (minimal) at the end of a input."
   ]
  },
  {
   "cell_type": "markdown",
   "metadata": {},
   "source": [
    "Pexpect compiles all regular expressions with the re.DOTALL flag. With the DOTALL flag, a \".\" will match a newline."
   ]
  },
  {
   "cell_type": "markdown",
   "metadata": {},
   "source": [
    "### 3.Beware of + and * at the end of patterns\n",
    "Remember that any time you try to match a pattern that needs look-ahead that you will always get a minimal match (non greedy). For example, the following will always return just one character:"
   ]
  },
  {
   "cell_type": "code",
   "execution_count": null,
   "metadata": {
    "collapsed": true
   },
   "outputs": [],
   "source": [
    "child.expect ('.+')"
   ]
  },
  {
   "cell_type": "markdown",
   "metadata": {},
   "source": [
    "This example will match successfully, but will always return no characters:"
   ]
  },
  {
   "cell_type": "code",
   "execution_count": null,
   "metadata": {
    "collapsed": true
   },
   "outputs": [],
   "source": [
    "child.expect ('.*')"
   ]
  },
  {
   "cell_type": "markdown",
   "metadata": {},
   "source": [
    "Generally any star * expression will match as little as possible."
   ]
  },
  {
   "cell_type": "markdown",
   "metadata": {},
   "source": [
    "One thing you can do is to try to force a non-ambiguous character at the end of your \\d+ pattern. Expect that character to delimit the string. For example, you might try making the end of your pattern be \\D+ instead of \\D*. Number digits alone would not satisfy the (\\d+)\\D+ pattern. You would need some numbers and at least one non-number at the end."
   ]
  },
  {
   "cell_type": "markdown",
   "metadata": {},
   "source": [
    "### 4.Debugging\n",
    "If you get the string value of a pexpect.spawn object you will get lots of useful debugging information.   \n",
    "For debugging it’s very useful to use the following pattern:"
   ]
  },
  {
   "cell_type": "code",
   "execution_count": null,
   "metadata": {
    "collapsed": true
   },
   "outputs": [],
   "source": [
    "try:\n",
    "    i = child.expect ([pattern1, pattern2, pattern3, etc])\n",
    "except:\n",
    "    print(\"Exception was thrown\")\n",
    "    print(\"debug information:\")\n",
    "    print(str(child))"
   ]
  },
  {
   "cell_type": "markdown",
   "metadata": {},
   "source": [
    "It is also useful to log the child’s input and out to a file or the screen.   \n",
    "The following will turn on logging and send output to stdout (the screen):"
   ]
  },
  {
   "cell_type": "code",
   "execution_count": null,
   "metadata": {
    "collapsed": true
   },
   "outputs": [],
   "source": [
    "import pexpect\n",
    "import sys\n",
    "child = pexpect.spawn(foo)\n",
    "child.logfile = sys.stdout"
   ]
  },
  {
   "cell_type": "markdown",
   "metadata": {},
   "source": [
    "### 5.Exceptions\n",
    "##### EOF\n",
    "Note that two flavors of EOF Exception may be thrown. They are virtually identical except for the message string. For practical purposes you should have no need to distinguish between them, but they do give a little extra information about what type of platform you are running. The two messages are:  \n",
    ">“End Of File (EOF) in read(). Exception style platform.”  \n",
    ">“End Of File (EOF) in read(). Empty string style platform.”  "
   ]
  },
  {
   "cell_type": "markdown",
   "metadata": {},
   "source": [
    "Some UNIX platforms will throw an exception when you try to read from a file descriptor in the EOF state.   \n",
    "Other UNIX platforms instead quietly return an empty string to indicate that the EOF state has been reached.  "
   ]
  },
  {
   "cell_type": "markdown",
   "metadata": {},
   "source": [
    "If you wish to read up to the end of the child’s output without generating an EOF exception then use the expect(pexpect.EOF) method."
   ]
  },
  {
   "cell_type": "code",
   "execution_count": null,
   "metadata": {
    "collapsed": true
   },
   "outputs": [],
   "source": [
    "child.expect(foo, pexpect.EOF)"
   ]
  },
  {
   "cell_type": "markdown",
   "metadata": {},
   "source": [
    "##### TIMEOUT\n",
    "The expect() and read() methods will also timeout if the child does not generate any output for a given amount of time. If this happens they will raise a TIMEOUT exception. You can have these methods ignore timeout and block indefinitely by passing None for the timeout parameter:"
   ]
  },
  {
   "cell_type": "code",
   "execution_count": null,
   "metadata": {
    "collapsed": true
   },
   "outputs": [],
   "source": [
    "child.expect(pexpect.EOF, timeout=None)"
   ]
  },
  {
   "cell_type": "markdown",
   "metadata": {},
   "source": [
    "# API documentation"
   ]
  },
  {
   "cell_type": "markdown",
   "metadata": {},
   "source": [
    "## A.Core pexpect components"
   ]
  },
  {
   "cell_type": "markdown",
   "metadata": {},
   "source": [
    "Pexpect is a Python module for spawning child applications and controlling them automatically. Pexpect can be used for automating interactive applications such as ssh, ftp, passwd, telnet, etc. It can be used to a automate setup scripts for duplicating software package installations on different servers. It can be used for automated software testing. Pexpect is in the spirit of Don Libes’ Expect, but Pexpect is pure Python. Other Expect-like modules for Python require TCL and Expect or require C extensions to be compiled. Pexpect does not use C, Expect, or TCL extensions. It should work on any platform that supports the standard Python pty module. The Pexpect interface focuses on ease of use so that simple tasks are easy.  \n",
    "\n",
    "There are two main interfaces to the Pexpect system; these are the function, run() and the class, spawn. The spawn class is more powerful. The run() function is simpler than spawn, and is good for quickly calling program. When you call the run() function it executes a given program and then returns the output. This is a handy replacement for os.system().  \n",
    "\n",
    "###### The run funciton example:"
   ]
  },
  {
   "cell_type": "code",
   "execution_count": 6,
   "metadata": {
    "collapsed": false
   },
   "outputs": [
    {
     "name": "stdout",
     "output_type": "stream",
     "text": [
      "total 132\r\n",
      "-rw-rw-r-- 1 liheyi liheyi 19188  7月 15 12:49 pexpect.ipynb\r\n",
      "-rw-rw-r-- 1 liheyi liheyi   736  7月 13 17:55 README.md\r\n",
      "-rw-rw-r-- 1 liheyi liheyi 47761  7月 14 12:16 sh.ipynb\r\n",
      "-rw-rw-r-- 1 liheyi liheyi 59331  7月 13 17:19 subprocess.ipynb\r\n",
      "\n"
     ]
    }
   ],
   "source": [
    "import pexpect\n",
    "ls_output = pexpect.run('ls -l')\n",
    "print ls_output"
   ]
  },
  {
   "cell_type": "markdown",
   "metadata": {},
   "source": [
    "Note: The END of line is '\\r\\n', not '\\n'"
   ]
  },
  {
   "cell_type": "code",
   "execution_count": 7,
   "metadata": {
    "collapsed": false
   },
   "outputs": [
    {
     "data": {
      "text/plain": [
       "'total 132\\r\\n-rw-rw-r-- 1 liheyi liheyi 19188  7\\xe6\\x9c\\x88 15 12:49 pexpect.ipynb\\r\\n-rw-rw-r-- 1 liheyi liheyi   736  7\\xe6\\x9c\\x88 13 17:55 README.md\\r\\n-rw-rw-r-- 1 liheyi liheyi 47761  7\\xe6\\x9c\\x88 14 12:16 sh.ipynb\\r\\n-rw-rw-r-- 1 liheyi liheyi 59331  7\\xe6\\x9c\\x88 13 17:19 subprocess.ipynb\\r\\n'"
      ]
     },
     "execution_count": 7,
     "metadata": {},
     "output_type": "execute_result"
    }
   ],
   "source": [
    "ls_output"
   ]
  },
  {
   "cell_type": "markdown",
   "metadata": {},
   "source": [
    "The spawn class is the more powerful interface to the Pexpect system. You can use this to spawn a child program then interact with it by sending input and expecting responses (waiting for patterns in the child’s output).  \n",
    "\n",
    "###### The instance of spawn class example:"
   ]
  },
  {
   "cell_type": "code",
   "execution_count": 13,
   "metadata": {
    "collapsed": false
   },
   "outputs": [
    {
     "data": {
      "text/plain": [
       "40"
      ]
     },
     "execution_count": 13,
     "metadata": {},
     "output_type": "execute_result"
    }
   ],
   "source": [
    "import pexpect\n",
    "child = pexpect.spawn('scp -P8888 admin@88.88.88.88:/home/admin/kanri/perfect.txt /home/liheyi/')\n",
    "child.expect('password:')\n",
    "child.sendline('Skymoons')"
   ]
  },
  {
   "cell_type": "code",
   "execution_count": 14,
   "metadata": {
    "collapsed": false
   },
   "outputs": [
    {
     "data": {
      "text/plain": [
       "'-rw-rw-r-- 1 liheyi liheyi 1.3K  7\\xe6\\x9c\\x88 15 13:01 /home/liheyi/perfect.txt\\r\\n'"
      ]
     },
     "execution_count": 14,
     "metadata": {},
     "output_type": "execute_result"
    }
   ],
   "source": [
    "pexpect.run('ls -lhtr /home/liheyi/perfect.txt')"
   ]
  },
  {
   "cell_type": "code",
   "execution_count": 15,
   "metadata": {
    "collapsed": false
   },
   "outputs": [
    {
     "name": "stdout",
     "output_type": "stream",
     "text": [
      "select * from t_repu_consume where roleid=470000919  and type=97;\r\n",
      "select * from t_repu_consume where roleid=470001645  and type=97;\r\n",
      "select * from t_repu_consume where roleid=470002648  and type=97;\r\n",
      "select * from t_repu_consume where roleid=470004091  and type=97;\r\n",
      "select * from t_repu_consume where roleid=470008955  and type=97;\r\n",
      "select * from t_repu_consume where roleid=470016377  and type=97;\r\n",
      "select * from t_repu_consume where roleid=471001559  and type=97;\r\n",
      "select * from t_repu_consume where roleid=471003976  and type=97;\r\n",
      "select * from t_repu_consume where roleid=471021232  and type=97;\r\n",
      "select * from t_repu_consume where roleid=472001283  and type=97;\r\n",
      "select * from t_repu_consume where roleid=472002032  and type=97;\r\n",
      "select * from t_repu_consume where roleid=472006715  and type=97;\r\n",
      "select * from t_repu_consume where roleid=473000491  and type=97;\r\n",
      "select * from t_repu_consume where roleid=473001984  and type=97;\r\n",
      "select * from t_repu_consume where roleid=473009671  and type=97;\r\n",
      "select * from t_repu_consume where roleid=473011453  and type=97;\r\n",
      "select * from t_repu_consume where roleid=473016743  and type=97;\r\n",
      "select * from t_repu_consume where roleid=474000611  and type=97;\r\n",
      "select * from t_repu_consume where roleid=481000589  and type=97;\r\n",
      "select * from t_repu_consume where roleid=481007317  and type=97;\r\n",
      "\n"
     ]
    }
   ],
   "source": [
    "contents = pexpect.run('cat /home/liheyi/perfect.txt')\n",
    "print contents"
   ]
  },
  {
   "cell_type": "markdown",
   "metadata": {},
   "source": [
    "This works even for commands that ask for passwords or other input outside of the normal stdio streams.   \n",
    "For example, ssh reads input directly from the TTY device which bypasses stdin."
   ]
  },
  {
   "cell_type": "markdown",
   "metadata": {},
   "source": [
    "###### All the callable properties and methods of pexpect:"
   ]
  },
  {
   "cell_type": "code",
   "execution_count": null,
   "metadata": {
    "collapsed": true
   },
   "outputs": [],
   "source": [
    "pexpect.EOF                 pexpect.exceptions          pexpect.runu                pexpect.spawnu\n",
    "pexpect.ExceptionPexpect    pexpect.expect              pexpect.searcher_re         pexpect.split_command_line\n",
    "pexpect.Expecter            pexpect.is_executable_file  pexpect.searcher_string     pexpect.sys\n",
    "pexpect.PY3                 pexpect.pty_spawn           pexpect.spawn               pexpect.utils\n",
    "pexpect.TIMEOUT             pexpect.run                 pexpect.spawnbase           pexpect.which"
   ]
  },
  {
   "cell_type": "markdown",
   "metadata": {},
   "source": [
    "### 1.spawn class"
   ]
  },
  {
   "cell_type": "markdown",
   "metadata": {},
   "source": [
    "This is the main class interface for Pexpect. Use this class to start and control child applications."
   ]
  },
  {
   "cell_type": "code",
   "execution_count": null,
   "metadata": {
    "collapsed": false
   },
   "outputs": [],
   "source": [
    "class pexpect.spawn(command, \n",
    "                    args=[], \n",
    "                    timeout=30, \n",
    "                    maxread=2000, \n",
    "                    searchwindowsize=None, \n",
    "                    logfile=None, \n",
    "                    cwd=None, \n",
    "                    env=None, \n",
    "                    ignore_sighup=False, \n",
    "                    echo=True, \n",
    "                    preexec_fn=None, \n",
    "                    encoding=None, \n",
    "                    codec_errors='strict', \n",
    "                    dimensions=None,\n",
    "                   )"
   ]
  },
  {
   "cell_type": "markdown",
   "metadata": {},
   "source": [
    "######  method -- __init__"
   ]
  },
  {
   "cell_type": "markdown",
   "metadata": {},
   "source": [
    "This is the constructor.   \n",
    "The command parameter may be a string that includes a command and any arguments to the command."
   ]
  },
  {
   "cell_type": "code",
   "execution_count": null,
   "metadata": {
    "collapsed": true
   },
   "outputs": [],
   "source": [
    "__init__(command, \n",
    "         args=[], \n",
    "         timeout=30, \n",
    "         maxread=2000, \n",
    "         searchwindowsize=None, \n",
    "         logfile=None, \n",
    "         cwd=None, \n",
    "         env=None, \n",
    "         ignore_sighup=False, \n",
    "         echo=True, \n",
    "         preexec_fn=None, \n",
    "         encoding=None, \n",
    "         codec_errors='strict', \n",
    "         dimensions=None,\n",
    "        )"
   ]
  },
  {
   "cell_type": "markdown",
   "metadata": {
    "collapsed": true
   },
   "source": [
    "For example:"
   ]
  },
  {
   "cell_type": "code",
   "execution_count": null,
   "metadata": {
    "collapsed": true
   },
   "outputs": [],
   "source": [
    "child = pexpect.spawn('/usr/bin/ftp')\n",
    "child = pexpect.spawn('/usr/bin/ssh user@example.com')\n",
    "child = pexpect.spawn('ls -latr /tmp')"
   ]
  },
  {
   "cell_type": "markdown",
   "metadata": {},
   "source": [
    "You may also construct it with a list of arguments like so:"
   ]
  },
  {
   "cell_type": "code",
   "execution_count": null,
   "metadata": {
    "collapsed": true
   },
   "outputs": [],
   "source": [
    "child = pexpect.spawn('/usr/bin/ftp', [])\n",
    "child = pexpect.spawn('/usr/bin/ssh', ['user@example.com'])\n",
    "child = pexpect.spawn('ls', ['-latr', '/tmp'])"
   ]
  },
  {
   "cell_type": "markdown",
   "metadata": {},
   "source": [
    "After this the child application will be created and will be ready to talk to.   \n",
    "For normal use, see expect() and send() and sendline().  \n",
    "###### child, the instantce of spawn class,has a number of callable properties and methods:"
   ]
  },
  {
   "cell_type": "code",
   "execution_count": null,
   "metadata": {
    "collapsed": true
   },
   "outputs": [],
   "source": [
    "child.STDERR_FILENO         child.echo                  child.linesep               child.sendline\n",
    "child.STDIN_FILENO          child.encoding              child.logfile               child.setecho\n",
    "child.STDOUT_FILENO         child.env                   child.logfile_read          child.setwinsize\n",
    "child.after                 child.eof                   child.logfile_send          child.signalstatus\n",
    "child.allowed_string_types  child.exitstatus            child.match                 child.softspace\n",
    "child.args                  child.expect                child.match_index           child.status\n",
    "child.before                child.expect_exact          child.maxread               child.stderr\n",
    "child.buffer                child.expect_list           child.name                  child.stdin\n",
    "child.child_fd              child.expect_loop           child.pid                   child.stdout\n",
    "child.close                 child.fileno                child.ptyproc               child.string_type\n",
    "child.closed                child.flag_eof              child.read                  child.terminate\n",
    "child.codec_errors          child.flush                 child.read_nonblocking      child.terminated\n",
    "child.command               child.getecho               child.readline              child.timeout\n",
    "child.compile_pattern_list  child.getwinsize            child.readlines             child.use_native_pty_fork\n",
    "child.crlf                  child.ignore_sighup         child.searcher              child.wait\n",
    "child.cwd                   child.ignorecase            child.searchwindowsize      child.waitnoecho\n",
    "child.delayafterclose       child.interact              child.send                  child.write\n",
    "child.delayafterterminate   child.isalive               child.sendcontrol           child.write_to_stdout\n",
    "child.delaybeforesend       child.isatty                child.sendeof               child.writelines\n",
    "child.delimiter             child.kill                  child.sendintr"
   ]
  },
  {
   "cell_type": "markdown",
   "metadata": {},
   "source": [
    "Remember that Pexpect does NOT interpret shell meta characters such as redirect, pipe, or wild cards (>, |, or *). This is a common mistake. If you want to run a command and pipe it through another command then you must also start a shell. For example:"
   ]
  },
  {
   "cell_type": "code",
   "execution_count": 30,
   "metadata": {
    "collapsed": false
   },
   "outputs": [
    {
     "data": {
      "text/plain": [
       "0"
      ]
     },
     "execution_count": 30,
     "metadata": {},
     "output_type": "execute_result"
    }
   ],
   "source": [
    "import pexpect\n",
    "child = pexpect.spawn('/bin/bash -c \"ls -lh /home/liheyi/ | grep \\.py$ > /home/liheyi/py_file.logs\"')\n",
    "child.expect(pexpect.EOF)"
   ]
  },
  {
   "cell_type": "code",
   "execution_count": 31,
   "metadata": {
    "collapsed": false
   },
   "outputs": [
    {
     "name": "stdout",
     "output_type": "stream",
     "text": [
      "-rw-rw-r--  1 liheyi liheyi  456  7月 13 13:59 interaction_first.py\r\n",
      "-rw-rw-r--  1 liheyi liheyi  323  7月 13 14:10 interaction_second.py\r\n",
      "-rw-rw-r--  1 liheyi liheyi  279  7月 13 12:32 repeater.py\r\n",
      "-rw-rw-r--  1 liheyi liheyi  488  7月 13 13:52 signal_child.py\r\n",
      "-rw-rw-r--  1 liheyi liheyi  346  7月 13 14:13 signal_parent.py\r\n",
      "-rw-rw-r--  1 liheyi liheyi  612  7月 13 16:13 subprocess_signal_parent_shell.py\r\n",
      "-rw-rw-r--  1 liheyi liheyi  822  7月 13 16:12 subprocess_signal_setsid.py\r\n",
      "-rw-rw-r--  1 liheyi liheyi  150  7月 13 11:34 te.py\r\n",
      "\n"
     ]
    }
   ],
   "source": [
    "print pexpect.run('cat /home/liheyi/py_file.logs')"
   ]
  },
  {
   "cell_type": "markdown",
   "metadata": {},
   "source": [
    "The second form of spawn (where you pass a list of arguments) is useful in situations where you wish to spawn a command and pass it its own argument list. This can make syntax more clear. For example, the following is equivalent to the previous example:"
   ]
  },
  {
   "cell_type": "code",
   "execution_count": 32,
   "metadata": {
    "collapsed": false
   },
   "outputs": [
    {
     "data": {
      "text/plain": [
       "0"
      ]
     },
     "execution_count": 32,
     "metadata": {},
     "output_type": "execute_result"
    }
   ],
   "source": [
    "import pexpect\n",
    "sh_cmd = 'ls -lh /home/liheyi/ | grep \\.py$ > /home/liheyi/py_file.logs'\n",
    "child = pexpect.spawn('/bin/bash', ['-c', sh_cmd])\n",
    "child.expect(pexpect.EOF)\n"
   ]
  },
  {
   "cell_type": "markdown",
   "metadata": {},
   "source": [
    "The maxread(child.maxread) attribute sets the read buffer size. This is maximum number of bytes that Pexpect will try to read from a TTY at one time. Setting the maxread size to 1 will turn off buffering. Setting the maxread value higher may help performance in cases where large amounts of output are read back from the child. This feature is useful in conjunction with searchwindowsize(child.searchwindowsize)."
   ]
  },
  {
   "cell_type": "markdown",
   "metadata": {},
   "source": [
    "When the keyword argument searchwindowsize(child.searchwindowsize) is None (default), the full buffer is searched at each iteration of receiving incoming data. The default number of bytes scanned at each iteration is very large and may be reduced to collaterally reduce search cost. After expect() returns, the full buffer attribute remains up to size maxread irrespective of searchwindowsize value."
   ]
  },
  {
   "cell_type": "markdown",
   "metadata": {},
   "source": [
    "When the keyword argument timeout is specified as a number, (default: 30), then TIMEOUT will be raised after the value specified has elapsed, in seconds, for any of the expect() family of method calls. When None, TIMEOUT will not be raised, and expect() may block indefinitely until match."
   ]
  },
  {
   "cell_type": "markdown",
   "metadata": {},
   "source": [
    "The logfile member turns on or off logging. All input and output will be copied to the given file object. Set logfile to None to stop logging. This is the default. Set logfile to sys.stdout to echo everything to standard output. The logfile is flushed after each write."
   ]
  },
  {
   "cell_type": "markdown",
   "metadata": {},
   "source": [
    "###### Example log input and output to a file:"
   ]
  },
  {
   "cell_type": "code",
   "execution_count": 33,
   "metadata": {
    "collapsed": false
   },
   "outputs": [
    {
     "data": {
      "text/plain": [
       "0"
      ]
     },
     "execution_count": 33,
     "metadata": {},
     "output_type": "execute_result"
    }
   ],
   "source": [
    "import pexpect\n",
    "child = pexpect.spawn('/bin/bash -c \"ls -lh /home/liheyi/\"')\n",
    "fout = open('/home/liheyi/mylog.txt', 'wb')\n",
    "child.logfile = fout\n",
    "child.expect(pexpect.EOF)"
   ]
  },
  {
   "cell_type": "code",
   "execution_count": 34,
   "metadata": {
    "collapsed": false
   },
   "outputs": [
    {
     "name": "stdout",
     "output_type": "stream",
     "text": [
      "total 76K\r",
      "\r\n",
      "drwxrwxr-x 18 liheyi liheyi 4.0K  7月  5 19:13 anaconda2\r",
      "\r\n",
      "drwxrwxr-x  2 liheyi liheyi 4.0K  6月 15 23:37 analysis\r",
      "\r\n",
      "-rw-r--r--  1 liheyi liheyi 8.8K  6月 12 17:41 examples.desktop\r",
      "\r\n",
      "-rw-rw-r--  1 liheyi liheyi  456  7月 13 13:59 interaction_first.py\r",
      "\r\n",
      "-rw-rw-r--  1 liheyi liheyi  323  7月 13 14:10 interaction_second.py\r",
      "\r\n",
      "-rw-rw-r--  1 liheyi liheyi   88  7月 13 15:34 ip.txt\r",
      "\r\n",
      "drwxrwxr-x  7 liheyi liheyi 4.0K  7月 12 17:55 jupyter\r",
      "\r\n",
      "-rw-rw-r--  1 liheyi liheyi 1.1K  7月 15 14:44 mylog.txt\r",
      "\r\n",
      "-rw-rw-r--  1 liheyi liheyi 1.3K  7月 15 13:01 perfect.txt\r",
      "\r\n",
      "-rw-rw-r--  1 liheyi liheyi  540  7月 15 14:30 py_file.logs\r",
      "\r\n",
      "-rw-rw-r--  1 liheyi liheyi  279  7月 13 12:32 repeater.py\r",
      "\r\n",
      "-rw-rw-r--  1 liheyi liheyi  488  7月 13 13:52 signal_child.py\r",
      "\r\n",
      "-rw-rw-r--  1 liheyi liheyi  346  7月 13 14:13 signal_parent.py\r",
      "\r\n",
      "-rw-rw-r--  1 liheyi liheyi  612  7月 13 16:13 subprocess_signal_parent_shell.py\r",
      "\r\n",
      "-rw-rw-r--  1 liheyi liheyi  822  7月 13 16:12 subprocess_signal_setsid.py\r",
      "\r\n",
      "-rw-rw-r--  1 liheyi liheyi  150  7月 13 11:34 te.py\r",
      "\r\n",
      "drwxrwxr-x  4 liheyi liheyi 4.0K  7月  7 16:44 test\r",
      "\r\n",
      "\n"
     ]
    }
   ],
   "source": [
    "print pexpect.run('cat /home/liheyi/mylog.txt')"
   ]
  },
  {
   "cell_type": "markdown",
   "metadata": {},
   "source": [
    "###### Example log to stdout:"
   ]
  },
  {
   "cell_type": "code",
   "execution_count": 37,
   "metadata": {
    "collapsed": false
   },
   "outputs": [
    {
     "name": "stdout",
     "output_type": "stream",
     "text": [
      "total 76K\r\n",
      "drwxrwxr-x 18 liheyi liheyi 4.0K  7月  5 19:13 anaconda2\r\n",
      "drwxrwxr-x  2 liheyi liheyi 4.0K  6月 15 23:37 analysis\r\n",
      "-rw-r--r--  1 liheyi liheyi 8.8K  6月 12 17:41 examples.desktop\r\n",
      "-rw-rw-r--  1 liheyi liheyi  456  7月 13 13:59 interaction_first.py\r\n",
      "-rw-rw-r--  1 liheyi liheyi  323  7月 13 14:10 interaction_second.py\r\n",
      "-rw-rw-r--  1 liheyi liheyi   88  7月 13 15:34 ip.txt\r\n",
      "drwxrwxr-x  7 liheyi liheyi 4.0K  7月 12 17:55 jupyter\r\n",
      "-rw-rw-r--  1 liheyi liheyi 1.1K  7月 15 14:46 mylog.txt\r\n",
      "-rw-rw-r--  1 liheyi liheyi 1.3K  7月 15 13:01 perfect.txt\r\n",
      "-rw-rw-r--  1 liheyi liheyi  540  7月 15 14:30 py_file.logs\r\n",
      "-rw-rw-r--  1 liheyi liheyi  279  7月 13 12:32 repeater.py\r\n",
      "-rw-rw-r--  1 liheyi liheyi  488  7月 13 13:52 signal_child.py\r\n",
      "-rw-rw-r--  1 liheyi liheyi  346  7月 13 14:13 signal_parent.py\r\n",
      "-rw-rw-r--  1 liheyi liheyi  612  7月 13 16:13 subprocess_signal_parent_shell.py\r\n",
      "-rw-rw-r--  1 liheyi liheyi  822  7月 13 16:12 subprocess_signal_setsid.py\r\n",
      "-rw-rw-r--  1 liheyi liheyi  150  7月 13 11:34 te.py\r\n",
      "drwxrwxr-x  4 liheyi liheyi 4.0K  7月  7 16:44 test\r\n"
     ]
    },
    {
     "data": {
      "text/plain": [
       "0"
      ]
     },
     "execution_count": 37,
     "metadata": {},
     "output_type": "execute_result"
    }
   ],
   "source": [
    "# In Python 2:\n",
    "import sys\n",
    "import pexpect\n",
    "child = pexpect.spawn('/bin/bash -c \"ls -lh /home/liheyi/\"')\n",
    "child.logfile = sys.stdout\n",
    "child.expect(pexpect.EOF)"
   ]
  },
  {
   "cell_type": "markdown",
   "metadata": {},
   "source": [
    "The logfile_read and logfile_send members can be used to separately log the input from the child and output sent to the child. Sometimes you don’t want to see everything you write to the child. You only want to log what the child sends back.   \n",
    "\n",
    "For example:"
   ]
  },
  {
   "cell_type": "code",
   "execution_count": 39,
   "metadata": {
    "collapsed": false
   },
   "outputs": [
    {
     "name": "stdout",
     "output_type": "stream",
     "text": [
      "total 76K\r\n",
      "drwxrwxr-x 18 liheyi liheyi 4.0K  7月  5 19:13 anaconda2\r\n",
      "drwxrwxr-x  2 liheyi liheyi 4.0K  6月 15 23:37 analysis\r\n",
      "-rw-r--r--  1 liheyi liheyi 8.8K  6月 12 17:41 examples.desktop\r\n",
      "-rw-rw-r--  1 liheyi liheyi  456  7月 13 13:59 interaction_first.py\r\n",
      "-rw-rw-r--  1 liheyi liheyi  323  7月 13 14:10 interaction_second.py\r\n",
      "-rw-rw-r--  1 liheyi liheyi   88  7月 13 15:34 ip.txt\r\n",
      "drwxrwxr-x  7 liheyi liheyi 4.0K  7月 12 17:55 jupyter\r\n",
      "-rw-rw-r--  1 liheyi liheyi 1.1K  7月 15 14:46 mylog.txt\r\n",
      "-rw-rw-r--  1 liheyi liheyi 1.3K  7月 15 13:01 perfect.txt\r\n",
      "-rw-rw-r--  1 liheyi liheyi  540  7月 15 14:30 py_file.logs\r\n",
      "-rw-rw-r--  1 liheyi liheyi  279  7月 13 12:32 repeater.py\r\n",
      "-rw-rw-r--  1 liheyi liheyi  488  7月 13 13:52 signal_child.py\r\n",
      "-rw-rw-r--  1 liheyi liheyi  346  7月 13 14:13 signal_parent.py\r\n",
      "-rw-rw-r--  1 liheyi liheyi  612  7月 13 16:13 subprocess_signal_parent_shell.py\r\n",
      "-rw-rw-r--  1 liheyi liheyi  822  7月 13 16:12 subprocess_signal_setsid.py\r\n",
      "-rw-rw-r--  1 liheyi liheyi  150  7月 13 11:34 te.py\r\n",
      "drwxrwxr-x  4 liheyi liheyi 4.0K  7月  7 16:44 test\r\n"
     ]
    },
    {
     "data": {
      "text/plain": [
       "0"
      ]
     },
     "execution_count": 39,
     "metadata": {},
     "output_type": "execute_result"
    }
   ],
   "source": [
    "import sys\n",
    "import pexpect\n",
    "child = pexpect.spawn('/bin/bash -c \"ls -lh /home/liheyi/\"')\n",
    "child.logfile_read = sys.stdout  # You only want to log what the child sends back.\n",
    "child.expect(pexpect.EOF)"
   ]
  },
  {
   "cell_type": "markdown",
   "metadata": {},
   "source": [
    "###### Note\n",
    "You will need to pass an encoding to spawn in the above code if you are using Python 3."
   ]
  },
  {
   "cell_type": "code",
   "execution_count": 40,
   "metadata": {
    "collapsed": false
   },
   "outputs": [
    {
     "data": {
      "text/plain": [
       "0"
      ]
     },
     "execution_count": 40,
     "metadata": {},
     "output_type": "execute_result"
    }
   ],
   "source": [
    "import pexpect\n",
    "child = pexpect.spawn('/bin/bash -c \"df -lh\"')\n",
    "fout = open('/home/liheyi/mylog.txt', 'wb')\n",
    "child.logfile_send = fout\n",
    "child.expect(pexpect.EOF)"
   ]
  },
  {
   "cell_type": "markdown",
   "metadata": {},
   "source": [
    "If ignore_sighup is True, the child process will ignore SIGHUP signals. The default is False from Pexpect 4.0, meaning that SIGHUP will be handled normally by the child."
   ]
  },
  {
   "cell_type": "markdown",
   "metadata": {},
   "source": [
    "The delaybeforesend helps overcome a weird behavior that many users were experiencing. The typical problem was that a user would expect() a “Password:” prompt and then immediately call sendline() to send the password. The user would then see that their password was echoed back to them. Passwords don’t normally echo. The problem is caused by the fact that most applications print out the “Password” prompt and then turn off stdin echo, but if you send your password before the application turned off echo, then you get your password echoed. Normally this wouldn’t be a problem when interacting with a human at a real keyboard. If you introduce a slight delay just before writing then this seems to clear up the problem. This was such a common problem for many users that I decided that the default pexpect behavior should be to sleep just before writing to the child application. 1/20th of a second (50 ms) seems to be enough to clear up the problem. You can set delaybeforesend to None to return to the old behavior."
   ]
  },
  {
   "cell_type": "markdown",
   "metadata": {},
   "source": [
    "Note that spawn is clever about finding commands on your path. It uses the same logic that “which” uses to find executables."
   ]
  },
  {
   "cell_type": "markdown",
   "metadata": {},
   "source": [
    "If you wish to get the exit status of the child you must call the close() method. The exit or signal status of the child will be stored in self.exitstatus or self.signalstatus. If the child exited normally then exitstatus will store the exit return code and signalstatus will be None. If the child was terminated abnormally with a signal then signalstatus will store the signal value and exitstatus will be None:"
   ]
  },
  {
   "cell_type": "code",
   "execution_count": 42,
   "metadata": {
    "collapsed": false
   },
   "outputs": [
    {
     "name": "stdout",
     "output_type": "stream",
     "text": [
      "0 None\n"
     ]
    }
   ],
   "source": [
    "# the child exited normally\n",
    "import pexpect\n",
    "child = pexpect.spawn('/bin/bash -c \"ls -lh /home/liheyi/\"')\n",
    "child.close()\n",
    "print child.exitstatus, child.signalstatus"
   ]
  },
  {
   "cell_type": "code",
   "execution_count": 43,
   "metadata": {
    "collapsed": false
   },
   "outputs": [
    {
     "name": "stdout",
     "output_type": "stream",
     "text": [
      "2 None\n"
     ]
    }
   ],
   "source": [
    "# the child was terminated abnormally\n",
    "import pexpect\n",
    "child = pexpect.spawn('/bin/bash -c \"ls -lh /no_exist_path/\"')\n",
    "child.close()\n",
    "print child.exitstatus, child.signalstatus"
   ]
  },
  {
   "cell_type": "markdown",
   "metadata": {},
   "source": [
    "If you need more detail you can also read the self.status member which stores the status returned by os.waitpid. You can interpret this using os.WIFEXITED/os.WEXITSTATUS or os.WIFSIGNALED/os.TERMSIG."
   ]
  },
  {
   "cell_type": "markdown",
   "metadata": {},
   "source": [
    "The echo attribute may be set to False to disable echoing of input. As a pseudo-terminal, all input echoed by the “keyboard” (send() or sendline()) will be repeated to output. For many cases, it is not desirable to have echo enabled, and it may be later disabled using setecho(False) followed by waitnoecho(). However, for some platforms such as Solaris, this is not possible, and should be disabled immediately on spawn."
   ]
  },
  {
   "cell_type": "markdown",
   "metadata": {},
   "source": [
    "If preexec_fn is given, it will be called in the child process before launching the given command. This is useful to e.g. reset inherited signal handlers."
   ]
  },
  {
   "cell_type": "markdown",
   "metadata": {},
   "source": [
    "The dimensions attribute specifies the size of the pseudo-terminal as seen by the subprocess, and is specified as a two-entry tuple (rows, columns). If this is unspecified, the defaults in ptyprocess will apply."
   ]
  },
  {
   "cell_type": "markdown",
   "metadata": {},
   "source": [
    "###### method -- expect"
   ]
  },
  {
   "cell_type": "code",
   "execution_count": null,
   "metadata": {
    "collapsed": true
   },
   "outputs": [],
   "source": [
    "expect(pattern, \n",
    "       timeout=-1, \n",
    "       searchwindowsize=-1, \n",
    "       async=False,\n",
    "      )"
   ]
  },
  {
   "cell_type": "markdown",
   "metadata": {},
   "source": [
    "This seeks through the stream until a pattern is matched. The pattern is overloaded and may take several types. The pattern can be a StringType, EOF, a compiled re, or a list of any of those types. Strings will be compiled to re types. This returns the index into the pattern list. If the pattern was not a list this returns index 0 on a successful match. This may raise exceptions for EOF or TIMEOUT. To avoid the EOF or TIMEOUT exceptions add EOF or TIMEOUT to the pattern list. That will cause expect to match an EOF or TIMEOUT condition instead of raising an exception."
   ]
  },
  {
   "cell_type": "markdown",
   "metadata": {},
   "source": [
    "If you pass a list of patterns and more than one matches, the first match in the stream is chosen.   \n",
    "If more than one pattern matches at that point, the leftmost in the pattern list is chosen.   \n",
    "\n",
    "For example:"
   ]
  },
  {
   "cell_type": "code",
   "execution_count": null,
   "metadata": {
    "collapsed": true
   },
   "outputs": [],
   "source": [
    "# the input is 'foobar'\n",
    "index = p.expect(['bar', 'foo', 'foobar'])\n",
    "# returns 1('foo') even though 'foobar' is a \"better\" match"
   ]
  },
  {
   "cell_type": "markdown",
   "metadata": {},
   "source": [
    "Please note, however, that buffering can affect this behavior, since input arrives in unpredictable chunks.  \n",
    "\n",
    "For example:"
   ]
  },
  {
   "cell_type": "code",
   "execution_count": null,
   "metadata": {
    "collapsed": true
   },
   "outputs": [],
   "source": [
    "# the input is 'foobar'\n",
    "index = p.expect(['foobar', 'foo'])\n",
    "# returns 0('foobar') if all input is available at once,\n",
    "# but returs 1('foo') if parts of the final 'bar' arrive late"
   ]
  },
  {
   "cell_type": "markdown",
   "metadata": {},
   "source": [
    "When a match is found for the given pattern, the class instance attribute match becomes an re.MatchObject result. Should an EOF or TIMEOUT pattern match, then the match attribute will be an instance of that exception class. The pairing before and after class instance attributes are views of the data preceding and following the matching pattern. On general exception, class attribute before is all data received up to the exception, while match and after attributes are value None."
   ]
  },
  {
   "cell_type": "markdown",
   "metadata": {},
   "source": [
    "When the keyword argument timeout is -1 (default), then TIMEOUT will raise after the default value specified by the class timeout attribute. When None, TIMEOUT will not be raised and may block indefinitely until match."
   ]
  },
  {
   "cell_type": "markdown",
   "metadata": {},
   "source": [
    "When the keyword argument searchwindowsize is -1 (default), then the value specified by the class maxread attribute is used."
   ]
  },
  {
   "cell_type": "markdown",
   "metadata": {},
   "source": [
    "A list entry may be EOF or TIMEOUT instead of a string. This will catch these exceptions and return the index of the list entry instead of raising the exception. The attribute ‘after’ will be set to the exception type.The attribute ‘match’ will be None.   \n",
    "\n",
    "This allows you to write code like this:"
   ]
  },
  {
   "cell_type": "code",
   "execution_count": null,
   "metadata": {
    "collapsed": true
   },
   "outputs": [],
   "source": [
    "verify = ssh_child.expect(['password:', 'continue connecting (yes/no)?', pexpect.EOF, pexpect.TIMEOUT], timeout=10)\n",
    "if verify == 0:\n",
    "    ssh_child.sendline('Skymoons')\n",
    "elif index == 1:\n",
    "    ssh_child.sendline('yes\\n')\n",
    "    ssh_child.expect('password: ')\n",
    "    ssh_child.sendline('Skymoons')\n",
    "elif index == 2:\n",
    "    print \"EOF\"\n",
    "    ssh_child.close()\n",
    "elif index == 3:\n",
    "    print \"TIMEOUT\"\n",
    "    ssh_child.close()\n",
    "    \n",
    "ssh_child.sendline('ls -lhtr /home/admin/')\n",
    "ls_output = ssh_child.read()\n",
    "print ls_output"
   ]
  },
  {
   "cell_type": "markdown",
   "metadata": {},
   "source": [
    "instead of code like this:"
   ]
  },
  {
   "cell_type": "code",
   "execution_count": null,
   "metadata": {
    "collapsed": true
   },
   "outputs": [],
   "source": [
    "try:\n",
    "    verify = ssh_child.expect(['password:', 'continue connecting (yes/no)?'], timeout=10)\n",
    "    if verify == 0:\n",
    "        ssh_child.sendline('Skymoons')\n",
    "    elif verify == 1:\n",
    "        ssh_child.sendline('yes\\n')\n",
    "        ssh_child.expect('password: ')\n",
    "        ssh_child.sendline('Skymoons')\n",
    "    ssh_child.sendline('ls -lhtr /home/admin/')\n",
    "    ls_output = ssh_child.read()\n",
    "    print ls_output\n",
    "except pexpect.EOF:\n",
    "        print \"EOF\"\n",
    "        ssh_child.close()\n",
    "except pexpect.TIMEOUT:\n",
    "        print \"TIMEOUT\"\n",
    "        ssh_child.close()"
   ]
  },
  {
   "cell_type": "markdown",
   "metadata": {},
   "source": [
    "These two forms are equivalent.   \n",
    "It all depends on what you want.   \n",
    "You can also just expect the EOF if you are waiting for all output of a child to finish.   \n",
    "\n",
    "For example:"
   ]
  },
  {
   "cell_type": "code",
   "execution_count": 46,
   "metadata": {
    "collapsed": false
   },
   "outputs": [
    {
     "name": "stdout",
     "output_type": "stream",
     "text": [
      "total 164K\r\n",
      "-rw-rw-r-- 1 liheyi liheyi 50K  7月 15 16:34 pexpect.ipynb\r\n",
      "-rw-rw-r-- 1 liheyi liheyi 736  7月 13 17:55 README.md\r\n",
      "-rw-rw-r-- 1 liheyi liheyi 47K  7月 14 12:16 sh.ipynb\r\n",
      "-rw-rw-r-- 1 liheyi liheyi 58K  7月 13 17:19 subprocess.ipynb\r\n",
      "\n"
     ]
    }
   ],
   "source": [
    "import pexpect\n",
    "p = pexpect.spawn('/bin/ls -lh')\n",
    "p.expect(pexpect.EOF)\n",
    "print p.before"
   ]
  },
  {
   "cell_type": "markdown",
   "metadata": {},
   "source": [
    "###### Note\n",
    "If you are trying to optimize for speed then see expect_list()."
   ]
  },
  {
   "cell_type": "markdown",
   "metadata": {},
   "source": [
    "On Python 3.4, or Python 3.3 with asyncio installed, passing async=True will make this return an asyncio coroutine, which you can yield from to get the same result that this method would normally give directly. So, inside a coroutine, you can replace this code:"
   ]
  },
  {
   "cell_type": "code",
   "execution_count": null,
   "metadata": {
    "collapsed": true
   },
   "outputs": [],
   "source": [
    "index = p.expect(patterns)"
   ]
  },
  {
   "cell_type": "markdown",
   "metadata": {},
   "source": [
    "With this non-blocking form:"
   ]
  },
  {
   "cell_type": "code",
   "execution_count": null,
   "metadata": {
    "collapsed": true
   },
   "outputs": [],
   "source": [
    "index = yield from p.expect(patterns, async=True)"
   ]
  },
  {
   "cell_type": "markdown",
   "metadata": {},
   "source": [
    "###### method -- expect_exact"
   ]
  },
  {
   "cell_type": "code",
   "execution_count": null,
   "metadata": {
    "collapsed": true
   },
   "outputs": [],
   "source": [
    "expect_exact(pattern_list, \n",
    "             timeout=-1, \n",
    "             searchwindowsize=-1, \n",
    "             async=False,\n",
    "            )"
   ]
  },
  {
   "cell_type": "markdown",
   "metadata": {},
   "source": [
    "This is similar to expect(), but uses plain string matching instead of compiled regular expressions in ‘pattern_list’.   \n",
    "The ‘pattern_list’ may be a string; a list or other sequence of strings; or TIMEOUT and EOF."
   ]
  },
  {
   "cell_type": "markdown",
   "metadata": {},
   "source": [
    "This call might be faster than expect() for two reasons: string searching is faster than RE matching and it is possible to limit the search to just the end of the input buffer."
   ]
  },
  {
   "cell_type": "markdown",
   "metadata": {},
   "source": [
    "This method is also useful when you don’t want to have to worry about escaping regular expression characters that you want to match."
   ]
  },
  {
   "cell_type": "markdown",
   "metadata": {},
   "source": [
    "Like expect(), passing async=True will make this return an asyncio coroutine."
   ]
  },
  {
   "cell_type": "markdown",
   "metadata": {},
   "source": [
    "###### method -- expect_list"
   ]
  },
  {
   "cell_type": "code",
   "execution_count": null,
   "metadata": {
    "collapsed": true
   },
   "outputs": [],
   "source": [
    "expect_list(pattern_list, \n",
    "            timeout=-1, \n",
    "            searchwindowsize=-1, \n",
    "            async=False,\n",
    "           )"
   ]
  },
  {
   "cell_type": "markdown",
   "metadata": {},
   "source": [
    "This takes a list of compiled regular expressions and returns the index into the pattern_list that matched the child output. The list may also contain EOF or TIMEOUT(which are not compiled regular expressions). This method is similar to the expect() method except that expect_list() does not recompile the pattern list on every call. This may help if you are trying to optimize for speed, otherwise just use the expect() method. This is called by expect()."
   ]
  },
  {
   "cell_type": "markdown",
   "metadata": {},
   "source": [
    "Like expect(), passing async=True will make this return an asyncio coroutine."
   ]
  },
  {
   "cell_type": "markdown",
   "metadata": {},
   "source": [
    "###### method -- compile_pattern_list"
   ]
  },
  {
   "cell_type": "code",
   "execution_count": null,
   "metadata": {
    "collapsed": true
   },
   "outputs": [],
   "source": [
    "compile_pattern_list(patterns)"
   ]
  },
  {
   "cell_type": "markdown",
   "metadata": {},
   "source": [
    "This compiles a pattern-string or a list of pattern-strings. Patterns must be a StringType, EOF, TIMEOUT, SRE_Pattern, or a list of those. Patterns may also be None which results in an empty list (you might do this if waiting for an EOF or TIMEOUT condition without expecting any pattern)."
   ]
  },
  {
   "cell_type": "markdown",
   "metadata": {},
   "source": [
    "This is used by expect() when calling expect_list(). Thus expect() is nothing more than:"
   ]
  },
  {
   "cell_type": "code",
   "execution_count": null,
   "metadata": {
    "collapsed": true
   },
   "outputs": [],
   "source": [
    "cpl = self.compile_pattern_list(pl)\n",
    "return self.expect_list(cpl, timeout)"
   ]
  },
  {
   "cell_type": "markdown",
   "metadata": {},
   "source": [
    "If you are using expect() within a loop it may be more efficient to compile the patterns first and then call expect_list(). This avoid calls in a loop to compile_pattern_list():"
   ]
  },
  {
   "cell_type": "code",
   "execution_count": null,
   "metadata": {
    "collapsed": true
   },
   "outputs": [],
   "source": [
    "cpl = self.compile_pattern_list(my_pattern)\n",
    "while some_condition:\n",
    "   ...\n",
    "   i = self.expect_list(cpl, timeout)\n",
    "   ..."
   ]
  },
  {
   "cell_type": "markdown",
   "metadata": {},
   "source": [
    "###### method -- send"
   ]
  },
  {
   "cell_type": "code",
   "execution_count": null,
   "metadata": {
    "collapsed": true
   },
   "outputs": [],
   "source": [
    "send(s)"
   ]
  },
  {
   "cell_type": "markdown",
   "metadata": {
    "collapsed": true
   },
   "source": [
    "Sends string s to the child process, returning the number of bytes written. If a logfile is specified, a copy is written to that log."
   ]
  },
  {
   "cell_type": "markdown",
   "metadata": {},
   "source": [
    "The default terminal input mode is canonical processing unless set otherwise by the child process. This allows backspace and other line processing to be performed prior to transmitting to the receiving program. As this is buffered, there is a limited size of such buffer."
   ]
  },
  {
   "cell_type": "markdown",
   "metadata": {},
   "source": [
    "On Linux systems, this is 4096 (defined by N_TTY_BUF_SIZE). All other systems honor the POSIX.1 definition PC_MAX_CANON – 1024 on OSX, 256 on OpenSolaris, and 1920 on FreeBSD."
   ]
  },
  {
   "cell_type": "markdown",
   "metadata": {},
   "source": [
    "This value may be discovered using fpathconf(3):"
   ]
  },
  {
   "cell_type": "code",
   "execution_count": 1,
   "metadata": {
    "collapsed": false
   },
   "outputs": [
    {
     "name": "stdout",
     "output_type": "stream",
     "text": [
      "255\n"
     ]
    }
   ],
   "source": [
    "from os import fpathconf\n",
    "print fpathconf(0, 'PC_MAX_CANON')"
   ]
  },
  {
   "cell_type": "markdown",
   "metadata": {},
   "source": [
    "On such a system, only 255 bytes may be received per line. Any subsequent bytes received will be discarded. BEL ('\u0007') is then sent to output if IMAXBEL (termios.h) is set by the tty driver. This is usually enabled by default. Linux does not honor this as an option – it behaves as though it is always set on."
   ]
  },
  {
   "cell_type": "markdown",
   "metadata": {},
   "source": [
    "Canonical input processing may be disabled altogether by executing a shell, then stty(1), before executing the final program:"
   ]
  },
  {
   "cell_type": "code",
   "execution_count": 2,
   "metadata": {
    "collapsed": false
   },
   "outputs": [
    {
     "data": {
      "text/plain": [
       "5001"
      ]
     },
     "execution_count": 2,
     "metadata": {},
     "output_type": "execute_result"
    }
   ],
   "source": [
    "import pexpect\n",
    "bash = pexpect.spawn('/bin/bash', echo=False)\n",
    "bash.sendline('stty -icanon')\n",
    "bash.sendline('base64')\n",
    "bash.sendline('x' * 5000)"
   ]
  },
  {
   "cell_type": "markdown",
   "metadata": {},
   "source": [
    "###### method -- sendline"
   ]
  },
  {
   "cell_type": "code",
   "execution_count": null,
   "metadata": {
    "collapsed": true
   },
   "outputs": [],
   "source": [
    "sendline(s='')"
   ]
  },
  {
   "cell_type": "markdown",
   "metadata": {},
   "source": [
    "Wraps send(), sending string s to child process, with os.linesep automatically appended. Returns number of bytes written. Only a limited number of bytes may be sent for each line in the default terminal mode, see docstring of send()."
   ]
  },
  {
   "cell_type": "markdown",
   "metadata": {},
   "source": [
    "###### method -- write"
   ]
  },
  {
   "cell_type": "code",
   "execution_count": null,
   "metadata": {
    "collapsed": true
   },
   "outputs": [],
   "source": [
    "write(s)"
   ]
  },
  {
   "cell_type": "markdown",
   "metadata": {},
   "source": [
    "This is similar to send() except that there is no return value."
   ]
  },
  {
   "cell_type": "markdown",
   "metadata": {},
   "source": [
    "###### method -- writelines"
   ]
  },
  {
   "cell_type": "code",
   "execution_count": null,
   "metadata": {
    "collapsed": true
   },
   "outputs": [],
   "source": [
    "writelines(sequence)"
   ]
  },
  {
   "cell_type": "markdown",
   "metadata": {},
   "source": [
    "This calls write() for each element in the sequence. The sequence can be any iterable object producing strings, typically a list of strings. This does not add line separators. There is no return value."
   ]
  },
  {
   "cell_type": "markdown",
   "metadata": {},
   "source": [
    "###### method -- sendcontrol"
   ]
  },
  {
   "cell_type": "code",
   "execution_count": null,
   "metadata": {
    "collapsed": true
   },
   "outputs": [],
   "source": [
    "sendcontrol(char)"
   ]
  },
  {
   "cell_type": "markdown",
   "metadata": {},
   "source": [
    "Helper method that wraps send() with mnemonic access for sending control character to the child (such as Ctrl-C or Ctrl-D). For example, to send Ctrl-G (ASCII 7, bell, ‘\u0007’):"
   ]
  },
  {
   "cell_type": "code",
   "execution_count": 3,
   "metadata": {
    "collapsed": false
   },
   "outputs": [
    {
     "data": {
      "text/plain": [
       "1L"
      ]
     },
     "execution_count": 3,
     "metadata": {},
     "output_type": "execute_result"
    }
   ],
   "source": [
    "import pexpect\n",
    "child = pexpect.spawn('/bin/bash')\n",
    "child.sendcontrol('g')"
   ]
  },
  {
   "cell_type": "markdown",
   "metadata": {},
   "source": [
    "###### method -- sendeof()"
   ]
  },
  {
   "cell_type": "code",
   "execution_count": null,
   "metadata": {
    "collapsed": true
   },
   "outputs": [],
   "source": [
    "sendeof()"
   ]
  },
  {
   "cell_type": "markdown",
   "metadata": {},
   "source": [
    "This sends an EOF to the child. This sends a character which causes the pending parent output buffer to be sent to the waiting child program without waiting for end-of-line. If it is the first character of the line, the read() in the user program returns 0, which signifies end-of-file. This means to work as expected a sendeof() has to be called at the beginning of a line. This method does not send a newline. It is the responsibility of the caller to ensure the eof is sent at the beginning of a line."
   ]
  },
  {
   "cell_type": "markdown",
   "metadata": {},
   "source": [
    "###### method -- sendintr"
   ]
  },
  {
   "cell_type": "code",
   "execution_count": null,
   "metadata": {
    "collapsed": true
   },
   "outputs": [],
   "source": [
    "sendintr()"
   ]
  },
  {
   "cell_type": "markdown",
   "metadata": {},
   "source": [
    "This sends a SIGINT to the child. It does not require the SIGINT to be the first character on a line."
   ]
  },
  {
   "cell_type": "markdown",
   "metadata": {},
   "source": [
    "###### method -- read"
   ]
  },
  {
   "cell_type": "code",
   "execution_count": null,
   "metadata": {
    "collapsed": true
   },
   "outputs": [],
   "source": [
    "read(size=-1)"
   ]
  },
  {
   "cell_type": "markdown",
   "metadata": {},
   "source": [
    "This reads at most “size” bytes from the file (less if the read hits EOF before obtaining size bytes). If the size argument is negative or omitted, read all data until EOF is reached. The bytes are returned as a string object. An empty string is returned when EOF is encountered immediately."
   ]
  },
  {
   "cell_type": "markdown",
   "metadata": {},
   "source": [
    "###### method -- readline"
   ]
  },
  {
   "cell_type": "code",
   "execution_count": null,
   "metadata": {
    "collapsed": true
   },
   "outputs": [],
   "source": [
    "readline(size=-1)"
   ]
  },
  {
   "cell_type": "markdown",
   "metadata": {},
   "source": [
    "This reads and returns one entire line. The newline at the end of line is returned as part of the string, unless the file ends without a newline. An empty string is returned if EOF is encountered immediately. This looks for a newline as a CR/LF pair (rn) even on UNIX because this is what the pseudotty device returns. So contrary to what you may expect you will receive newlines as rn."
   ]
  },
  {
   "cell_type": "markdown",
   "metadata": {},
   "source": [
    "If the size argument is 0 then an empty string is returned. In all other cases the size argument is ignored, which is not standard behavior for a file-like object."
   ]
  },
  {
   "cell_type": "markdown",
   "metadata": {},
   "source": [
    "###### method -- read_nonblocking"
   ]
  },
  {
   "cell_type": "code",
   "execution_count": null,
   "metadata": {
    "collapsed": true
   },
   "outputs": [],
   "source": [
    "read_nonblocking(size=1, timeout=-1)"
   ]
  },
  {
   "cell_type": "markdown",
   "metadata": {},
   "source": [
    "This reads at most size characters from the child application. It includes a timeout. If the read does not complete within the timeout period then a TIMEOUT exception is raised. If the end of file is read then an EOF exception will be raised. If a logfile is specified, a copy is written to that log."
   ]
  },
  {
   "cell_type": "markdown",
   "metadata": {},
   "source": [
    "If timeout is None then the read may block indefinitely. If timeout is -1 then the self.timeout value is used. If timeout is 0 then the child is polled and if there is no data immediately ready then this will raise a TIMEOUT exception."
   ]
  },
  {
   "cell_type": "markdown",
   "metadata": {},
   "source": [
    "The timeout refers only to the amount of time to read at least one character. This is not affected by the ‘size’ parameter, so if you call read_nonblocking(size=100, timeout=30) and only one character is available right away then one character will be returned immediately. It will not wait for 30 seconds for another 99 characters to come in."
   ]
  },
  {
   "cell_type": "markdown",
   "metadata": {},
   "source": [
    "This is a wrapper around os.read(). It uses select.select() to implement the timeout."
   ]
  },
  {
   "cell_type": "markdown",
   "metadata": {},
   "source": [
    "###### method -- eof"
   ]
  },
  {
   "cell_type": "code",
   "execution_count": null,
   "metadata": {
    "collapsed": true
   },
   "outputs": [],
   "source": [
    "eof()"
   ]
  },
  {
   "cell_type": "markdown",
   "metadata": {},
   "source": [
    "This returns True if the EOF exception was ever raised."
   ]
  },
  {
   "cell_type": "markdown",
   "metadata": {},
   "source": [
    "###### method -- interact"
   ]
  },
  {
   "cell_type": "code",
   "execution_count": null,
   "metadata": {
    "collapsed": true
   },
   "outputs": [],
   "source": [
    "interact(escape_character='\\x1d', \n",
    "         input_filter=None, \n",
    "         output_filter=None,\n",
    "        )"
   ]
  },
  {
   "cell_type": "markdown",
   "metadata": {},
   "source": [
    "This gives control of the child process to the interactive user (the human at the keyboard). Keystrokes are sent to the child process, and the stdout and stderr output of the child process is printed. This simply echos the child stdout and child stderr to the real stdout and it echos the real stdin to the child stdin. When the user types the escape_character this method will return None. The escape_character will not be transmitted. The default for escape_character is entered as Ctrl - ], the very same as BSD telnet. To prevent escaping, escape_character may be set to None."
   ]
  },
  {
   "cell_type": "markdown",
   "metadata": {},
   "source": [
    "If a logfile is specified, then the data sent and received from the child process in interact mode is duplicated to the given log."
   ]
  },
  {
   "cell_type": "markdown",
   "metadata": {},
   "source": [
    "You may pass in optional input and output filter functions. These functions should take a string and return a string. The output_filter will be passed all the output from the child process. The input_filter will be passed all the keyboard input from the user. The input_filter is run BEFORE the check for the escape_character."
   ]
  },
  {
   "cell_type": "markdown",
   "metadata": {},
   "source": [
    "Note that if you change the window size of the parent the SIGWINCH signal will not be passed through to the child. If you want the child window size to change when the parent’s window size changes then do something like the following example:"
   ]
  },
  {
   "cell_type": "code",
   "execution_count": null,
   "metadata": {
    "collapsed": false
   },
   "outputs": [],
   "source": [
    "import pexpect, struct, fcntl, termios, signal, sys\n",
    "def sigwinch_passthrough (sig, data):\n",
    "    s = struct.pack(\"HHHH\", 0, 0, 0, 0)\n",
    "    a = struct.unpack('hhhh', fcntl.ioctl(sys.stdout.fileno(),\n",
    "        termios.TIOCGWINSZ , s))\n",
    "    global p\n",
    "    p.setwinsize(a[0],a[1])\n",
    "# Note this 'p' global and used in sigwinch_passthrough.\n",
    "p = pexpect.spawn('/bin/bash')\n",
    "signal.signal(signal.SIGWINCH, sigwinch_passthrough)\n",
    "p.interact()"
   ]
  },
  {
   "cell_type": "markdown",
   "metadata": {},
   "source": [
    "###### method -- logfile,logfile_read,logfile_send"
   ]
  },
  {
   "cell_type": "markdown",
   "metadata": {},
   "source": [
    "Set these to a Python file object (or sys.stdout) to log all communication, data read from the child process, or data sent to the child process."
   ]
  },
  {
   "cell_type": "markdown",
   "metadata": {},
   "source": [
    "###### Note\n",
    "With spawn in bytes mode, the log files should be open for writing binary data.   \n",
    "In unicode mode, they should be open for writing unicode text. See Handling unicode."
   ]
  },
  {
   "cell_type": "markdown",
   "metadata": {},
   "source": [
    "#### I.Controlling the child process"
   ]
  },
  {
   "cell_type": "markdown",
   "metadata": {},
   "source": [
    "###### method -- kill"
   ]
  },
  {
   "cell_type": "code",
   "execution_count": null,
   "metadata": {
    "collapsed": true
   },
   "outputs": [],
   "source": [
    "kill(sig)"
   ]
  },
  {
   "cell_type": "markdown",
   "metadata": {},
   "source": [
    "This sends the given signal to the child application. In keeping with UNIX tradition it has a misleading name. It does not necessarily kill the child unless you send the right signal."
   ]
  },
  {
   "cell_type": "markdown",
   "metadata": {},
   "source": [
    "###### method -- terminate"
   ]
  },
  {
   "cell_type": "code",
   "execution_count": null,
   "metadata": {
    "collapsed": true
   },
   "outputs": [],
   "source": [
    "terminate(force=False)"
   ]
  },
  {
   "cell_type": "markdown",
   "metadata": {},
   "source": [
    "This forces a child process to terminate. It starts nicely with SIGHUP and SIGINT. If “force” is True then moves onto SIGKILL. This returns True if the child was terminated. This returns False if the child could not be terminated."
   ]
  },
  {
   "cell_type": "markdown",
   "metadata": {},
   "source": [
    "###### method -- isalive"
   ]
  },
  {
   "cell_type": "code",
   "execution_count": null,
   "metadata": {
    "collapsed": true
   },
   "outputs": [],
   "source": [
    "isalive()"
   ]
  },
  {
   "cell_type": "markdown",
   "metadata": {},
   "source": [
    "This tests if the child process is running or not. This is non-blocking. If the child was terminated then this will read the exitstatus or signalstatus of the child. This returns True if the child process appears to be running or False if not. It can take literally SECONDS for Solaris to return the right status."
   ]
  },
  {
   "cell_type": "markdown",
   "metadata": {},
   "source": [
    "###### method -- wait"
   ]
  },
  {
   "cell_type": "code",
   "execution_count": null,
   "metadata": {
    "collapsed": true
   },
   "outputs": [],
   "source": [
    "wait()"
   ]
  },
  {
   "cell_type": "markdown",
   "metadata": {},
   "source": [
    "This waits until the child exits. This is a blocking call. This will not read any data from the child, so this will block forever if the child has unread output and has terminated. In other words, the child may have printed output then called exit(), but, the child is technically still alive until its output is read by the parent."
   ]
  },
  {
   "cell_type": "markdown",
   "metadata": {},
   "source": [
    "This method is non-blocking if wait() has already been called previously or isalive() method returns False. It simply returns the previously determined exit status."
   ]
  },
  {
   "cell_type": "markdown",
   "metadata": {},
   "source": [
    "###### method -- close"
   ]
  },
  {
   "cell_type": "code",
   "execution_count": null,
   "metadata": {
    "collapsed": true
   },
   "outputs": [],
   "source": [
    "close(force=True)"
   ]
  },
  {
   "cell_type": "markdown",
   "metadata": {},
   "source": [
    "This closes the connection with the child application. Note that calling close() more than once is valid. This emulates standard Python behavior with files. Set force to True if you want to make sure that the child is terminated (SIGKILL is sent if the child ignores SIGHUP and SIGINT)."
   ]
  },
  {
   "cell_type": "markdown",
   "metadata": {},
   "source": [
    "###### method -- getwinsize"
   ]
  },
  {
   "cell_type": "code",
   "execution_count": null,
   "metadata": {
    "collapsed": true
   },
   "outputs": [],
   "source": [
    "getwinsize()"
   ]
  },
  {
   "cell_type": "markdown",
   "metadata": {},
   "source": [
    "This returns the terminal window size of the child tty. The return value is a tuple of (rows, cols)."
   ]
  },
  {
   "cell_type": "markdown",
   "metadata": {},
   "source": [
    "###### method -- setwinsize"
   ]
  },
  {
   "cell_type": "code",
   "execution_count": null,
   "metadata": {
    "collapsed": true
   },
   "outputs": [],
   "source": [
    "setwinsize(rows, cols)"
   ]
  },
  {
   "cell_type": "markdown",
   "metadata": {},
   "source": [
    "This sets the terminal window size of the child tty. This will cause a SIGWINCH signal to be sent to the child. This does not change the physical window size. It changes the size reported to TTY-aware applications like vi or curses – applications that respond to the SIGWINCH signal."
   ]
  },
  {
   "cell_type": "markdown",
   "metadata": {},
   "source": [
    "###### method -- getecho"
   ]
  },
  {
   "cell_type": "code",
   "execution_count": null,
   "metadata": {
    "collapsed": true
   },
   "outputs": [],
   "source": [
    "getecho()"
   ]
  },
  {
   "cell_type": "markdown",
   "metadata": {},
   "source": [
    "This returns the terminal echo mode. This returns True if echo is on or False if echo is off. Child applications that are expecting you to enter a password often set ECHO False. See waitnoecho().  \n",
    "\n",
    "Not supported on platforms where isatty() returns False."
   ]
  },
  {
   "cell_type": "markdown",
   "metadata": {},
   "source": [
    "###### method -- setecho"
   ]
  },
  {
   "cell_type": "code",
   "execution_count": null,
   "metadata": {
    "collapsed": true
   },
   "outputs": [],
   "source": [
    "setecho(state)"
   ]
  },
  {
   "cell_type": "markdown",
   "metadata": {},
   "source": [
    "This sets the terminal echo mode on or off. Note that anything the child sent before the echo will be lost, so you should be sure that your input buffer is empty before you call setecho(). For example, the following will work as expected:"
   ]
  },
  {
   "cell_type": "code",
   "execution_count": null,
   "metadata": {
    "collapsed": true
   },
   "outputs": [],
   "source": [
    "p = pexpect.spawn('cat') # Echo is on by default.\n",
    "p.sendline('1234') # We expect see this twice from the child...\n",
    "p.expect(['1234']) # ... once from the tty echo...\n",
    "p.expect(['1234']) # ... and again from cat itself.\n",
    "p.setecho(False) # Turn off tty echo\n",
    "p.sendline('abcd') # We will set this only once (echoed by cat).\n",
    "p.sendline('wxyz') # We will set this only once (echoed by cat)\n",
    "p.expect(['abcd'])\n",
    "p.expect(['wxyz'])"
   ]
  },
  {
   "cell_type": "markdown",
   "metadata": {},
   "source": [
    "The following WILL NOT WORK because the lines sent before the setecho will be lost:"
   ]
  },
  {
   "cell_type": "code",
   "execution_count": null,
   "metadata": {
    "collapsed": true
   },
   "outputs": [],
   "source": [
    "p = pexpect.spawn('cat')\n",
    "p.sendline('1234')\n",
    "p.setecho(False) # Turn off tty echo\n",
    "p.sendline('abcd') # We will set this only once (echoed by cat).\n",
    "p.sendline('wxyz') # We will set this only once (echoed by cat)\n",
    "p.expect(['1234'])\n",
    "p.expect(['1234'])\n",
    "p.expect(['abcd'])\n",
    "p.expect(['wxyz'])"
   ]
  },
  {
   "cell_type": "markdown",
   "metadata": {},
   "source": [
    "Not supported on platforms where isatty() returns False."
   ]
  },
  {
   "cell_type": "markdown",
   "metadata": {},
   "source": [
    "###### method -- waitnoecho"
   ]
  },
  {
   "cell_type": "code",
   "execution_count": null,
   "metadata": {
    "collapsed": true
   },
   "outputs": [],
   "source": [
    "waitnoecho(timeout=-1)"
   ]
  },
  {
   "cell_type": "markdown",
   "metadata": {},
   "source": [
    "This waits until the terminal ECHO flag is set False. This returns True if the echo mode is off. This returns False if the ECHO flag was not set False before the timeout. This can be used to detect when the child is waiting for a password. Usually a child application will turn off echo mode when it is waiting for the user to enter a password. For example, instead of expecting the “password:” prompt you can wait for the child to set ECHO off:"
   ]
  },
  {
   "cell_type": "code",
   "execution_count": null,
   "metadata": {
    "collapsed": true
   },
   "outputs": [],
   "source": [
    "p = pexpect.spawn('ssh user@example.com')\n",
    "p.waitnoecho()\n",
    "p.sendline(mypassword)"
   ]
  },
  {
   "cell_type": "markdown",
   "metadata": {},
   "source": [
    "If timeout==-1 then this method will use the value in self.timeout. If timeout==None then this method to block until ECHO flag is False."
   ]
  },
  {
   "cell_type": "markdown",
   "metadata": {},
   "source": [
    "###### method -- pid"
   ]
  },
  {
   "cell_type": "code",
   "execution_count": null,
   "metadata": {
    "collapsed": true
   },
   "outputs": [],
   "source": [
    "pid"
   ]
  },
  {
   "cell_type": "markdown",
   "metadata": {},
   "source": [
    "The process ID of the child process."
   ]
  },
  {
   "cell_type": "markdown",
   "metadata": {},
   "source": [
    "###### method -- child_fd"
   ]
  },
  {
   "cell_type": "code",
   "execution_count": null,
   "metadata": {
    "collapsed": true
   },
   "outputs": [],
   "source": [
    "child_fd"
   ]
  },
  {
   "cell_type": "markdown",
   "metadata": {},
   "source": [
    "The file descriptor used to communicate with the child process."
   ]
  },
  {
   "cell_type": "markdown",
   "metadata": {},
   "source": [
    "#### II.Handling unicode"
   ]
  },
  {
   "cell_type": "markdown",
   "metadata": {},
   "source": [
    "By default, spawn is a bytes interface: its read methods return bytes, and its write/send and expect methods expect bytes. If you pass the encoding parameter to the constructor, it will instead act as a unicode interface: strings you send will be encoded using that encoding, and bytes received will be decoded before returning them to you. In this mode, patterns for expect() and expect_exact() should also be unicode."
   ]
  },
  {
   "cell_type": "markdown",
   "metadata": {},
   "source": [
    "Changed in version 4.0: spawn provides both the bytes and unicode interfaces. In Pexpect 3.x, the unicode interface was provided by a separate spawnu class."
   ]
  },
  {
   "cell_type": "markdown",
   "metadata": {},
   "source": [
    "For backwards compatibility, some Unicode is allowed in bytes mode: the send methods will encode arbitrary unicode as UTF-8 before sending it to the child process, and its expect methods can accept ascii-only unicode strings."
   ]
  },
  {
   "cell_type": "markdown",
   "metadata": {},
   "source": [
    "###### Note\n",
    "Unicode handling with pexpect works the same way on Python 2 and 3, despite the difference in names. I.e.:  \n",
    "\n",
    "Bytes mode works with str on Python 2, and bytes on Python 3,  \n",
    "Unicode mode works with unicode on Python 2, and str on Python 3.  "
   ]
  },
  {
   "cell_type": "markdown",
   "metadata": {},
   "source": [
    "### 2.run function"
   ]
  },
  {
   "cell_type": "code",
   "execution_count": null,
   "metadata": {
    "collapsed": true
   },
   "outputs": [],
   "source": [
    "pexpect.run(command, \n",
    "            timeout=30, \n",
    "            withexitstatus=False, \n",
    "            events=None, \n",
    "            extra_args=None, \n",
    "            logfile=None, \n",
    "            cwd=None, \n",
    "            env=None, **kwargs,\n",
    "           )"
   ]
  },
  {
   "cell_type": "markdown",
   "metadata": {},
   "source": [
    "This function runs the given command; waits for it to finish; then returns all output as a string. STDERR is included in output. If the full path to the command is not given then the path is searched."
   ]
  },
  {
   "cell_type": "markdown",
   "metadata": {},
   "source": [
    "Note that lines are terminated by CR/LF (rn) combination even on UNIX-like systems because this is the standard for pseudottys. If you set ‘withexitstatus’ to true, then run will return a tuple of (command_output, exitstatus). If ‘withexitstatus’ is false then this returns just command_output."
   ]
  },
  {
   "cell_type": "markdown",
   "metadata": {},
   "source": [
    "The run() function can often be used instead of creating a spawn instance.\n",
    "\n",
    "For example, the following code uses spawn:"
   ]
  },
  {
   "cell_type": "code",
   "execution_count": null,
   "metadata": {
    "collapsed": true
   },
   "outputs": [],
   "source": [
    "from pexpect import *\n",
    "child = spawn('scp foo user@example.com:.')\n",
    "child.expect('(?i)password')\n",
    "child.sendline(mypassword)"
   ]
  },
  {
   "cell_type": "markdown",
   "metadata": {},
   "source": [
    "The previous code can be replace with the following:"
   ]
  },
  {
   "cell_type": "code",
   "execution_count": null,
   "metadata": {
    "collapsed": true
   },
   "outputs": [],
   "source": [
    "from pexpect import *\n",
    "run('scp foo user@example.com:.', events={'(?i)password': mypassword})"
   ]
  },
  {
   "cell_type": "markdown",
   "metadata": {},
   "source": [
    "###### Examples\n",
    "1.Start mysql server on the local machine:"
   ]
  },
  {
   "cell_type": "code",
   "execution_count": 2,
   "metadata": {
    "collapsed": false
   },
   "outputs": [
    {
     "name": "stdout",
     "output_type": "stream",
     "text": [
      "MySQL is not running\u001b[60G[\u001b[0;31mFAILED\u001b[0;39m]\r",
      "\r\n",
      "\n"
     ]
    }
   ],
   "source": [
    "from pexpect import run\n",
    "# check mysql server is running or not \n",
    "print run(\"sudo /etc/init.d/mysqld status\")"
   ]
  },
  {
   "cell_type": "code",
   "execution_count": 3,
   "metadata": {
    "collapsed": false
   },
   "outputs": [
    {
     "name": "stdout",
     "output_type": "stream",
     "text": [
      "Starting MySQL..\u001b[60G[\u001b[0;32m  OK  \u001b[0;39m]\r",
      "\r\n",
      "\n"
     ]
    }
   ],
   "source": [
    "# start mysql server\n",
    "print run(\"sudo /etc/init.d/mysqld start\")"
   ]
  },
  {
   "cell_type": "code",
   "execution_count": 4,
   "metadata": {
    "collapsed": false
   },
   "outputs": [
    {
     "name": "stdout",
     "output_type": "stream",
     "text": [
      "MySQL running (31491)\u001b[60G[\u001b[0;32m  OK  \u001b[0;39m]\r",
      "\r\n",
      "\n"
     ]
    }
   ],
   "source": [
    "# again,check mysql server is running or not \n",
    "# check mysql server is running or not \n",
    "print run(\"sudo /etc/init.d/mysqld status\")"
   ]
  },
  {
   "cell_type": "code",
   "execution_count": 5,
   "metadata": {
    "collapsed": false
   },
   "outputs": [
    {
     "name": "stdout",
     "output_type": "stream",
     "text": [
      "+--------------------+\r\n",
      "| Database           |\r\n",
      "+--------------------+\r\n",
      "| information_schema |\r\n",
      "| mysql              |\r\n",
      "| performance_schema |\r\n",
      "| test               |\r\n",
      "| zzgame101          |\r\n",
      "+--------------------+\r\n",
      "\n"
     ]
    }
   ],
   "source": [
    "print run('mysql -uroot -S /tmp/mysql.sock -e \"show databases;\"')"
   ]
  },
  {
   "cell_type": "markdown",
   "metadata": {},
   "source": [
    "2.Run a command and capture exit status:"
   ]
  },
  {
   "cell_type": "code",
   "execution_count": 6,
   "metadata": {
    "collapsed": false
   },
   "outputs": [
    {
     "name": "stdout",
     "output_type": "stream",
     "text": [
      "Filesystem      Size  Used Avail Use% Mounted on\r\n",
      "/dev/sda3        77G   25G   49G  34% /\r\n",
      "tmpfs           996M     0  996M   0% /dev/shm\r\n",
      "/dev/sda1       194M   34M  151M  19% /boot\r\n",
      "0\n"
     ]
    }
   ],
   "source": [
    "from pexpect import run\n",
    "(output, exitstatus) = run('df -lh', withexitstatus=1)\n",
    "print output,exitstatus"
   ]
  },
  {
   "cell_type": "markdown",
   "metadata": {},
   "source": [
    "The following will run SSH and execute ‘ls -l’ on the remote machine.   \n",
    "The password ‘secret’ will be sent if the ‘(?i)password’ pattern is ever seen:"
   ]
  },
  {
   "cell_type": "code",
   "execution_count": null,
   "metadata": {
    "collapsed": true
   },
   "outputs": [],
   "source": [
    "from pexpect import run\n",
    "run(\"ssh username@machine.example.com 'ls -l'\",\n",
    "    events={'(?i)password':'secret\\n'})"
   ]
  },
  {
   "cell_type": "markdown",
   "metadata": {},
   "source": [
    "The ‘events’ argument should be either a dictionary or a tuple list that contains patterns and responses.   \n",
    "Whenever one of the patterns is seen in the command output, run() will send the associated response string. "
   ]
  },
  {
   "cell_type": "markdown",
   "metadata": {},
   "source": [
    "Use a tuple list for events if the command output requires a delicate control over what pattern should be matched, since the tuple list is passed to pexpect() as its pattern list, with the order of patterns preserved."
   ]
  },
  {
   "cell_type": "markdown",
   "metadata": {},
   "source": [
    "Note that you should put newlines in your string if Enter is necessary."
   ]
  },
  {
   "cell_type": "markdown",
   "metadata": {},
   "source": [
    "Like the example above, the responses may also contain a callback, either a function or method. It should accept a dictionary value as an argument. The dictionary contains all the locals from the run() function, so you can access the child spawn object or any other variable defined in run() (event_count, child, and extra_args are the most useful). A callback may return True to stop the current run process. Otherwise run() continues until the next event. A callback may also return a string which will be sent to the child. ‘extra_args’ is not used by directly run(). It provides a way to pass data to a callback function through run() through the locals dictionary passed to a callback."
   ]
  },
  {
   "cell_type": "markdown",
   "metadata": {},
   "source": [
    "Like spawn, passing encoding will make it work with unicode instead of bytes.   \n",
    "You can pass codec_errors to control how errors in encoding and decoding are handled."
   ]
  },
  {
   "cell_type": "markdown",
   "metadata": {},
   "source": [
    "### 3.Exceptions"
   ]
  },
  {
   "cell_type": "code",
   "execution_count": null,
   "metadata": {
    "collapsed": true
   },
   "outputs": [],
   "source": [
    "class pexpect.EOF(value)"
   ]
  },
  {
   "cell_type": "markdown",
   "metadata": {},
   "source": [
    "Raised when EOF is read from a child.   \n",
    "This usually means the child has exited."
   ]
  },
  {
   "cell_type": "code",
   "execution_count": null,
   "metadata": {
    "collapsed": true
   },
   "outputs": [],
   "source": [
    "class pexpect.TIMEOUT(value)"
   ]
  },
  {
   "cell_type": "markdown",
   "metadata": {},
   "source": [
    "Raised when a read time exceeds the timeout."
   ]
  },
  {
   "cell_type": "code",
   "execution_count": null,
   "metadata": {
    "collapsed": true
   },
   "outputs": [],
   "source": [
    "class pexpect.ExceptionPexpect(value)"
   ]
  },
  {
   "cell_type": "markdown",
   "metadata": {},
   "source": [
    "Base class for all exceptions raised by this module."
   ]
  },
  {
   "cell_type": "markdown",
   "metadata": {},
   "source": [
    "### 4.Utility functions"
   ]
  },
  {
   "cell_type": "code",
   "execution_count": null,
   "metadata": {
    "collapsed": true
   },
   "outputs": [],
   "source": [
    "pexpect.which(filename, env=None)"
   ]
  },
  {
   "cell_type": "markdown",
   "metadata": {},
   "source": [
    "This takes a given filename; tries to find it in the environment path; then checks if it is executable. This returns the full path to the filename if found and executable. Otherwise this returns None."
   ]
  },
  {
   "cell_type": "code",
   "execution_count": null,
   "metadata": {
    "collapsed": true
   },
   "outputs": [],
   "source": [
    "pexpect.split_command_line(command_line)"
   ]
  },
  {
   "cell_type": "markdown",
   "metadata": {},
   "source": [
    "This splits a command line into a list of arguments. It splits arguments on spaces, but handles embedded quotes, doublequotes, and escaped characters. It’s impossible to do this with a regular expression, so I wrote a little state machine to parse the command line."
   ]
  },
  {
   "cell_type": "markdown",
   "metadata": {},
   "source": [
    "## B.fdpexpect - use pexpect with a file descriptor"
   ]
  },
  {
   "cell_type": "markdown",
   "metadata": {},
   "source": [
    "This is like pexpect, but it will work with any file descriptor that you pass it. You are reponsible for opening and close the file descriptor. This allows you to use Pexpect with sockets and named pipes (FIFOs)."
   ]
  },
  {
   "cell_type": "code",
   "execution_count": null,
   "metadata": {
    "collapsed": true
   },
   "outputs": [],
   "source": []
  },
  {
   "cell_type": "markdown",
   "metadata": {},
   "source": [
    "## C.popen_spawn - use pexpect with a piped subprocess"
   ]
  },
  {
   "cell_type": "markdown",
   "metadata": {},
   "source": [
    "Provides an interface like pexpect.spawn interface using subprocess.Popen"
   ]
  },
  {
   "cell_type": "code",
   "execution_count": null,
   "metadata": {
    "collapsed": true
   },
   "outputs": [],
   "source": []
  },
  {
   "cell_type": "markdown",
   "metadata": {},
   "source": [
    "## D.replwrap - Control read-eval-print-loops"
   ]
  },
  {
   "cell_type": "markdown",
   "metadata": {},
   "source": [
    "Generic wrapper for read-eval-print-loops, a.k.a. interactive shells"
   ]
  },
  {
   "cell_type": "markdown",
   "metadata": {},
   "source": [
    "## E.pxssh - control an SSH session"
   ]
  },
  {
   "cell_type": "markdown",
   "metadata": {},
   "source": [
    "This class extends pexpect.spawn to specialize setting up SSH connections.   \n",
    "This adds methods for login, logout, and expecting the shell prompt."
   ]
  },
  {
   "cell_type": "markdown",
   "metadata": {},
   "source": [
    "###### All Properties and methods of pxssh module:"
   ]
  },
  {
   "cell_type": "code",
   "execution_count": 8,
   "metadata": {
    "collapsed": true
   },
   "outputs": [],
   "source": [
    "from pexpect import pxssh"
   ]
  },
  {
   "cell_type": "code",
   "execution_count": null,
   "metadata": {
    "collapsed": true
   },
   "outputs": [],
   "source": [
    "pxssh.EOF               pxssh.ExceptionPxssh    pxssh.os                pxssh.spawn             \n",
    "pxssh.ExceptionPexpect  pxssh.TIMEOUT           pxssh.pxssh             pxssh.time "
   ]
  },
  {
   "cell_type": "markdown",
   "metadata": {},
   "source": [
    "### pxssh class"
   ]
  },
  {
   "cell_type": "code",
   "execution_count": null,
   "metadata": {
    "collapsed": true
   },
   "outputs": [],
   "source": [
    "class pexpect.pxssh.pxssh(timeout=30, \n",
    "                          maxread=2000, \n",
    "                          searchwindowsize=None, \n",
    "                          logfile=None, \n",
    "                          cwd=None, \n",
    "                          env=None, \n",
    "                          ignore_sighup=True, \n",
    "                          echo=True, \n",
    "                          options={}, \n",
    "                          encoding=None, \n",
    "                          codec_errors='strict',\n",
    "                         )"
   ]
  },
  {
   "cell_type": "markdown",
   "metadata": {},
   "source": [
    "This class extends pexpect.spawn to specialize setting up SSH connections. This adds methods for login, logout, and expecting the shell prompt. It does various tricky things to handle many situations in the SSH login process. For example, if the session is your first login, then pxssh automatically accepts the remote certificate; or if you have public key authentication setup then pxssh won’t wait for the password prompt."
   ]
  },
  {
   "cell_type": "markdown",
   "metadata": {},
   "source": [
    "pxssh uses the shell prompt to synchronize output from the remote host. In order to make this more robust it sets the shell prompt to something more unique than just $ or #. This should work on most Borne/Bash or Csh style shells."
   ]
  },
  {
   "cell_type": "markdown",
   "metadata": {},
   "source": [
    "All Properties and methods of pxssh class's instance:"
   ]
  },
  {
   "cell_type": "code",
   "execution_count": null,
   "metadata": {
    "collapsed": true
   },
   "outputs": [],
   "source": [
    "from pexpect import pxssh\n",
    "s = pxssh.pxssh()\n",
    "s.\n",
    "\n",
    "s.PROMPT                s.delaybeforesend       s.linesep               s.set_unique_prompt\n",
    "s.PROMPT_SET_CSH        s.delimiter             s.logfile               s.setecho\n",
    "s.PROMPT_SET_SH         s.echo                  s.logfile_read          s.setwinsize\n",
    "s.SSH_OPTS              s.encoding              s.logfile_send          s.signalstatus\n",
    "s.STDERR_FILENO         s.env                   s.login                 s.softspace\n",
    "s.STDIN_FILENO          s.eof                   s.logout                s.status\n",
    "s.STDOUT_FILENO         s.exitstatus            s.match                 s.stderr\n",
    "s.UNIQUE_PROMPT         s.expect                s.match_index           s.stdin\n",
    "s.after                 s.expect_exact          s.maxread               s.stdout\n",
    "s.allowed_string_types  s.expect_list           s.name                  s.string_type\n",
    "s.args                  s.expect_loop           s.options               s.sync_original_prompt\n",
    "s.before                s.fileno                s.pid                   s.terminate\n",
    "s.buffer                s.flag_eof              s.prompt                s.terminated\n",
    "s.child_fd              s.flush                 s.read                  s.timeout\n",
    "s.close                 s.force_password        s.read_nonblocking      s.try_read_prompt\n",
    "s.closed                s.getecho               s.readline              s.use_native_pty_fork\n",
    "s.codec_errors          s.getwinsize            s.readlines             s.wait\n",
    "s.command               s.ignore_sighup         s.searcher              s.waitnoecho\n",
    "s.compile_pattern_list  s.ignorecase            s.searchwindowsize      s.write\n",
    "s.crlf                  s.interact              s.send                  s.write_to_stdout\n",
    "s.cwd                   s.isalive               s.sendcontrol           s.writelines\n",
    "s.delayafterclose       s.isatty                s.sendeof               \n",
    "s.delayafterread        s.kill                  s.sendintr              \n",
    "s.delayafterterminate   s.levenshtein_distance  s.sendline           "
   ]
  },
  {
   "cell_type": "markdown",
   "metadata": {},
   "source": [
    "Example that runs a few commands on a remote server and prints the result:"
   ]
  },
  {
   "cell_type": "code",
   "execution_count": null,
   "metadata": {
    "collapsed": true
   },
   "outputs": [],
   "source": [
    "from pexpect import pxssh\n",
    "import getpass\n",
    "try:\n",
    "    s = pxssh.pxssh()\n",
    "    hostname = raw_input('hostname: ')\n",
    "    username = raw_input('username: ')\n",
    "    password = getpass.getpass('password: ')\n",
    "    s.login(hostname, username, password)\n",
    "    s.sendline('uptime')   # run a command\n",
    "    s.prompt()             # match the prompt\n",
    "    print(s.before)        # print everything before the prompt.\n",
    "    s.sendline('ls -l')\n",
    "    s.prompt()\n",
    "    print(s.before)\n",
    "    s.sendline('df')\n",
    "    s.prompt()\n",
    "    print(s.before)\n",
    "    s.logout()\n",
    "except pxssh.ExceptionPxssh as e:\n",
    "    print(\"pxssh failed on login.\")\n",
    "    print(e)"
   ]
  },
  {
   "cell_type": "markdown",
   "metadata": {},
   "source": [
    "Example showing how to specify SSH options:"
   ]
  },
  {
   "cell_type": "code",
   "execution_count": null,
   "metadata": {
    "collapsed": true
   },
   "outputs": [],
   "source": [
    "from pexpect import pxssh\n",
    "s = pxssh.pxssh(options={\n",
    "                    \"StrictHostKeyChecking\": \"no\",\n",
    "                    \"UserKnownHostsFile\": \"/dev/null\"})\n",
    "..."
   ]
  },
  {
   "cell_type": "markdown",
   "metadata": {},
   "source": [
    "Note that if you have ssh-agent running while doing development with pxssh then this can lead to a lot of confusion. Many X display managers (xdm, gdm, kdm, etc.) will automatically start a GUI agent. You may see a GUI dialog box popup asking for a password during development. You should turn off any key agents during testing. The ‘force_password’ attribute will turn off public key authentication. This will only work if the remote SSH server is configured to allow password logins. Example of using ‘force_password’ attribute:"
   ]
  },
  {
   "cell_type": "code",
   "execution_count": null,
   "metadata": {
    "collapsed": true
   },
   "outputs": [],
   "source": [
    "s = pxssh.pxssh()\n",
    "s.force_password = True\n",
    "hostname = raw_input('hostname: ')\n",
    "username = raw_input('username: ')\n",
    "password = getpass.getpass('password: ')\n",
    "s.login (hostname, username, password)"
   ]
  },
  {
   "cell_type": "markdown",
   "metadata": {},
   "source": [
    "#### method -- __init__"
   ]
  },
  {
   "cell_type": "code",
   "execution_count": null,
   "metadata": {
    "collapsed": true
   },
   "outputs": [],
   "source": [
    "__init__(timeout=30, \n",
    "         maxread=2000, \n",
    "         searchwindowsize=None, \n",
    "         logfile=None, \n",
    "         cwd=None, \n",
    "         env=None, \n",
    "         ignore_sighup=True, \n",
    "         echo=True, \n",
    "         options={}, \n",
    "         encoding=None, \n",
    "         codec_errors='strict',\n",
    "        )"
   ]
  },
  {
   "cell_type": "markdown",
   "metadata": {},
   "source": [
    "#### s.PROMPT"
   ]
  },
  {
   "cell_type": "markdown",
   "metadata": {},
   "source": [
    "The regex pattern to search for to find the prompt.   \n",
    "If you call login() with auto_prompt_reset=False, you must set this attribute manually."
   ]
  },
  {
   "cell_type": "markdown",
   "metadata": {},
   "source": [
    "#### s.force_password"
   ]
  },
  {
   "cell_type": "markdown",
   "metadata": {},
   "source": [
    "If this is set to True, public key authentication is disabled, forcing the server to ask for a password. Note that the sysadmin can disable password logins, in which case this won’t work."
   ]
  },
  {
   "cell_type": "markdown",
   "metadata": {},
   "source": [
    "#### s.options"
   ]
  },
  {
   "cell_type": "markdown",
   "metadata": {},
   "source": [
    "The dictionary of user specified SSH options, eg,"
   ]
  },
  {
   "cell_type": "code",
   "execution_count": null,
   "metadata": {
    "collapsed": true
   },
   "outputs": [],
   "source": [
    "options = dict(StrictHostKeyChecking=\"no\", UserKnownHostsFile=\"/dev/null\")"
   ]
  },
  {
   "cell_type": "markdown",
   "metadata": {},
   "source": [
    "#### s.login\n",
    "This logs the user into the given server."
   ]
  },
  {
   "cell_type": "code",
   "execution_count": null,
   "metadata": {
    "collapsed": true
   },
   "outputs": [],
   "source": [
    "login(server, \n",
    "      username, \n",
    "      password='', \n",
    "      terminal_type='ansi', \n",
    "      original_prompt='[#$]', \n",
    "      login_timeout=10, \n",
    "      port=None, \n",
    "      auto_prompt_reset=True, \n",
    "      ssh_key=None, \n",
    "      quiet=True, \n",
    "      sync_multiplier=1, \n",
    "      check_local_ip=True,\n",
    "     )"
   ]
  },
  {
   "cell_type": "markdown",
   "metadata": {},
   "source": [
    "It uses ‘original_prompt’ to try to find the prompt right after login. When it finds the prompt it immediately tries to reset the prompt to something more easily matched. The default ‘original_prompt’ is very optimistic and is easily fooled. It’s more reliable to try to match the original prompt as exactly as possible to prevent false matches by server strings such as the “Message Of The Day”. On many systems you can disable the MOTD on the remote server by creating a zero-length file called ~/.hushlogin on the remote server. If a prompt cannot be found then this will not necessarily cause the login to fail. In the case of a timeout when looking for the prompt we assume that the original prompt was so weird that we could not match it, so we use a few tricks to guess when we have reached the prompt. Then we hope for the best and blindly try to reset the prompt to something more unique. If that fails then login() raises an ExceptionPxssh exception."
   ]
  },
  {
   "cell_type": "markdown",
   "metadata": {},
   "source": [
    "In some situations it is not possible or desirable to reset the original prompt. In this case, pass auto_prompt_reset=False to inhibit setting the prompt to the UNIQUE_PROMPT. Remember that pxssh uses a unique prompt in the prompt() method. If the original prompt is not reset then this will disable the prompt() method unless you manually set the PROMPT attribute."
   ]
  },
  {
   "cell_type": "markdown",
   "metadata": {},
   "source": [
    "#### s.logout"
   ]
  },
  {
   "cell_type": "code",
   "execution_count": null,
   "metadata": {
    "collapsed": true
   },
   "outputs": [],
   "source": [
    "logout()"
   ]
  },
  {
   "cell_type": "markdown",
   "metadata": {},
   "source": [
    "Sends exit to the remote shell.\n",
    "\n",
    "If there are stopped jobs then this automatically sends exit twice."
   ]
  },
  {
   "cell_type": "markdown",
   "metadata": {},
   "source": [
    "#### s.prompt"
   ]
  },
  {
   "cell_type": "code",
   "execution_count": null,
   "metadata": {
    "collapsed": true
   },
   "outputs": [],
   "source": [
    "prompt(timeout=-1)"
   ]
  },
  {
   "cell_type": "markdown",
   "metadata": {},
   "source": [
    "Match the next shell prompt."
   ]
  },
  {
   "cell_type": "markdown",
   "metadata": {},
   "source": [
    "This is little more than a short-cut to the expect() method. Note that if you called login() with auto_prompt_reset=False, then before calling prompt() you must set the PROMPT attribute to a regex that it will use for matching the prompt."
   ]
  },
  {
   "cell_type": "markdown",
   "metadata": {},
   "source": [
    "Calling prompt() will erase the contents of the before attribute even if no prompt is ever matched. If timeout is not given or it is set to -1 then self.timeout is used."
   ]
  },
  {
   "cell_type": "markdown",
   "metadata": {},
   "source": [
    "###### Returns:\t\n",
    "True if the shell prompt was matched, False if the timeout was reached."
   ]
  },
  {
   "cell_type": "markdown",
   "metadata": {},
   "source": [
    "#### s.sync_original_prompt"
   ]
  },
  {
   "cell_type": "code",
   "execution_count": null,
   "metadata": {
    "collapsed": true
   },
   "outputs": [],
   "source": [
    "sync_original_prompt(sync_multiplier=1.0)"
   ]
  },
  {
   "cell_type": "markdown",
   "metadata": {},
   "source": [
    "This attempts to find the prompt. Basically, press enter and record the response; press enter again and record the response; if the two responses are similar then assume we are at the original prompt. This can be a slow function. Worst case with the default sync_multiplier can take 12 seconds. Low latency connections are more likely to fail with a low sync_multiplier. Best case sync time gets worse with a high sync multiplier (500 ms with default)."
   ]
  },
  {
   "cell_type": "markdown",
   "metadata": {},
   "source": [
    "#### s.set_unique_prompt"
   ]
  },
  {
   "cell_type": "code",
   "execution_count": null,
   "metadata": {
    "collapsed": true
   },
   "outputs": [],
   "source": [
    "set_unique_prompt()"
   ]
  },
  {
   "cell_type": "markdown",
   "metadata": {},
   "source": [
    "This sets the remote prompt to something more unique than # or $. This makes it easier for the prompt() method to match the shell prompt unambiguously. This method is called automatically by the login() method, but you may want to call it manually if you somehow reset the shell prompt. For example, if you ‘su’ to a different user then you will need to manually reset the prompt. This sends shell commands to the remote host to set the prompt, so this assumes the remote host is ready to receive commands."
   ]
  },
  {
   "cell_type": "markdown",
   "metadata": {},
   "source": [
    "Alternatively, you may use your own prompt pattern. In this case you should call login() with auto_prompt_reset=False; then set the PROMPT attribute to a regular expression. After that, the prompt() method will try to match your prompt pattern."
   ]
  }
 ],
 "metadata": {
  "kernelspec": {
   "display_name": "Python 2",
   "language": "python",
   "name": "python2"
  },
  "language_info": {
   "codemirror_mode": {
    "name": "ipython",
    "version": 2
   },
   "file_extension": ".py",
   "mimetype": "text/x-python",
   "name": "python",
   "nbconvert_exporter": "python",
   "pygments_lexer": "ipython2",
   "version": "2.7.11"
  }
 },
 "nbformat": 4,
 "nbformat_minor": 0
}
