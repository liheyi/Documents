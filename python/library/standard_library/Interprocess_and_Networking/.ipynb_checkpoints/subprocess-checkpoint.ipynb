{
 "cells": [
  {
   "cell_type": "markdown",
   "metadata": {},
   "source": [
    "## Subprocess management"
   ]
  },
  {
   "cell_type": "markdown",
   "metadata": {},
   "source": [
    "The subprocess module allows you to spawn new processes, connect to their input/output/error pipes, and obtain their return codes.     \n",
    "This module intends to replace several older modules and functions:\n",
    "###### os.system  \n",
    "###### os.spawn*  \n",
    "###### os.popen*  \n",
    "###### popen2.*  \n",
    "###### commands.*  \n",
    "Information about how this module can be used to replace the older functions can be found in the subprocess-replacements section.  \n",
    "\n",
    "###### POSIX users (Linux, BSD, etc.) are strongly encouraged to install and use the much more recent subprocess32 module instead of the version included with python 2.7. It is a drop in replacement with better behavior in many situations."
   ]
  },
  {
   "cell_type": "markdown",
   "metadata": {},
   "source": [
    "### The subprocess Module  \n",
    "The subprocess module defines one class, Popen and a few wrapper functions that use that class.  \n",
    " The constructor for Popen takes arguments to set up the new process so the parent can communicate with it via pipes.\n",
    "### Convenience Functions"
   ]
  },
  {
   "cell_type": "markdown",
   "metadata": {},
   "source": [
    "The recommended way to launch subprocesses is to use the following convenience functions.  \n",
    "For more advanced use cases when these do not meet your needs, use the underlying Popen interface."
   ]
  },
  {
   "cell_type": "markdown",
   "metadata": {},
   "source": [
    "#### 1.Running External Command\n",
    "###### subprocess.call(args, *, stdin=None, stdout=None, stderr=None, shell=False)\n",
    "Run the command described by args.   \n",
    "Wait for command to complete, then return the returncode attribute.\n",
    "\n",
    "The arguments shown above are merely the most common ones, described below in Frequently Used Arguments (hence the slightly odd notation in the abbreviated signature).   \n",
    "\n",
    "The full function signature is the same as that of the Popen constructor - this functions passes all supplied arguments directly through to that interface."
   ]
  },
  {
   "cell_type": "code",
   "execution_count": 1,
   "metadata": {
    "collapsed": false
   },
   "outputs": [
    {
     "data": {
      "text/plain": [
       "0"
      ]
     },
     "execution_count": 1,
     "metadata": {},
     "output_type": "execute_result"
    }
   ],
   "source": [
    "# The command line arguments are passed as a list of strings,  \n",
    "# which avoids the need for escaping quotes or other special  \n",
    "# characters that might be interpreted by the shell.\n",
    "import subprocess as sp\n",
    "sp.call(['ls', '-lh'])"
   ]
  },
  {
   "cell_type": "code",
   "execution_count": 144,
   "metadata": {
    "collapsed": false
   },
   "outputs": [
    {
     "data": {
      "text/plain": [
       "0"
      ]
     },
     "execution_count": 144,
     "metadata": {},
     "output_type": "execute_result"
    }
   ],
   "source": [
    "# Setting the shell argument to a true value causes subprocess \n",
    "# to spawn an intermediate shell process, and tell it to run the command.  \n",
    "# The default is to run the command directly.  \n",
    "\n",
    "# is similar to \n",
    "# /bin/sh -c 'df -lh'\n",
    "sp.call('df -lh', shell=True)"
   ]
  },
  {
   "cell_type": "code",
   "execution_count": 6,
   "metadata": {
    "collapsed": false
   },
   "outputs": [
    {
     "data": {
      "text/plain": [
       "0"
      ]
     },
     "execution_count": 6,
     "metadata": {},
     "output_type": "execute_result"
    }
   ],
   "source": [
    "# Using an intermediate shell means that variables, glob patterns,  \n",
    "# and other special shell features in the command string are processed  \n",
    "# before the command is run. \n",
    "sp.call('netstat -lnpt | grep \"pyth*\"', shell=True)"
   ]
  },
  {
   "cell_type": "code",
   "execution_count": 10,
   "metadata": {
    "collapsed": false
   },
   "outputs": [
    {
     "data": {
      "text/plain": [
       "2"
      ]
     },
     "execution_count": 10,
     "metadata": {},
     "output_type": "execute_result"
    }
   ],
   "source": [
    "# error\n",
    "sp.call('ls -l no_exist_file', shell=True)"
   ]
  },
  {
   "cell_type": "markdown",
   "metadata": {},
   "source": [
    "Warning:  \n",
    "Using shell=True can be a security hazard.   \n",
    "See the warning under Frequently Used Arguments for details.  \n",
    "\n",
    "Note:   \n",
    "Do not use stdout=PIPE or stderr=PIPE with this function as that can deadlock based on the child process output volume.   \n",
    "Use Popen with the communicate() method when you need pipes."
   ]
  },
  {
   "cell_type": "markdown",
   "metadata": {},
   "source": [
    "#### 2.Error Handling  \n",
    "The return value from call() is the exit code of the program.   \n",
    "The caller is responsible for interpreting it to detect errors.   \n",
    "\n",
    "The check_call() function works like call() except that the exit code is checked,   \n",
    "and if it indicates an error happened then a CalledProcessError exception is raised.\n",
    "###### subprocess.check_call(args, *, stdin=None, stdout=None, stderr=None, shell=False)\n",
    "Run command with arguments.   \n",
    "Wait for command to complete.   \n",
    "If the return code was zero then return, otherwise raise CalledProcessError.   \n",
    "The CalledProcessError object will have the return code in the returncode attribute."
   ]
  },
  {
   "cell_type": "code",
   "execution_count": 12,
   "metadata": {
    "collapsed": false
   },
   "outputs": [
    {
     "data": {
      "text/plain": [
       "0"
      ]
     },
     "execution_count": 12,
     "metadata": {},
     "output_type": "execute_result"
    }
   ],
   "source": [
    "sp.check_call([\"ls\", \"-lh\"])"
   ]
  },
  {
   "cell_type": "code",
   "execution_count": 11,
   "metadata": {
    "collapsed": false
   },
   "outputs": [
    {
     "ename": "CalledProcessError",
     "evalue": "Command 'false' returned non-zero exit status 1",
     "output_type": "error",
     "traceback": [
      "\u001b[1;31m---------------------------------------------------------------------------\u001b[0m",
      "\u001b[1;31mCalledProcessError\u001b[0m                        Traceback (most recent call last)",
      "\u001b[1;32m<ipython-input-11-32d7f12fc641>\u001b[0m in \u001b[0;36m<module>\u001b[1;34m()\u001b[0m\n\u001b[1;32m----> 1\u001b[1;33m \u001b[0msp\u001b[0m\u001b[1;33m.\u001b[0m\u001b[0mcheck_call\u001b[0m\u001b[1;33m(\u001b[0m\u001b[1;34m\"false\"\u001b[0m\u001b[1;33m,\u001b[0m \u001b[0mshell\u001b[0m\u001b[1;33m=\u001b[0m\u001b[0mTrue\u001b[0m\u001b[1;33m)\u001b[0m\u001b[1;33m\u001b[0m\u001b[0m\n\u001b[0m",
      "\u001b[1;32m/home/liheyi/anaconda2/lib/python2.7/subprocess.pyc\u001b[0m in \u001b[0;36mcheck_call\u001b[1;34m(*popenargs, **kwargs)\u001b[0m\n\u001b[0;32m    538\u001b[0m         \u001b[1;32mif\u001b[0m \u001b[0mcmd\u001b[0m \u001b[1;32mis\u001b[0m \u001b[0mNone\u001b[0m\u001b[1;33m:\u001b[0m\u001b[1;33m\u001b[0m\u001b[0m\n\u001b[0;32m    539\u001b[0m             \u001b[0mcmd\u001b[0m \u001b[1;33m=\u001b[0m \u001b[0mpopenargs\u001b[0m\u001b[1;33m[\u001b[0m\u001b[1;36m0\u001b[0m\u001b[1;33m]\u001b[0m\u001b[1;33m\u001b[0m\u001b[0m\n\u001b[1;32m--> 540\u001b[1;33m         \u001b[1;32mraise\u001b[0m \u001b[0mCalledProcessError\u001b[0m\u001b[1;33m(\u001b[0m\u001b[0mretcode\u001b[0m\u001b[1;33m,\u001b[0m \u001b[0mcmd\u001b[0m\u001b[1;33m)\u001b[0m\u001b[1;33m\u001b[0m\u001b[0m\n\u001b[0m\u001b[0;32m    541\u001b[0m     \u001b[1;32mreturn\u001b[0m \u001b[1;36m0\u001b[0m\u001b[1;33m\u001b[0m\u001b[0m\n\u001b[0;32m    542\u001b[0m \u001b[1;33m\u001b[0m\u001b[0m\n",
      "\u001b[1;31mCalledProcessError\u001b[0m: Command 'false' returned non-zero exit status 1"
     ]
    }
   ],
   "source": [
    "# The false command always exits with a non-zero status code, \n",
    "# which check_call() interprets as an error.\n",
    "sp.check_call(\"false\", shell=True)"
   ]
  },
  {
   "cell_type": "code",
   "execution_count": 12,
   "metadata": {
    "collapsed": false
   },
   "outputs": [
    {
     "ename": "CalledProcessError",
     "evalue": "Command 'ls -l no_exist_file' returned non-zero exit status 2",
     "output_type": "error",
     "traceback": [
      "\u001b[1;31m---------------------------------------------------------------------------\u001b[0m",
      "\u001b[1;31mCalledProcessError\u001b[0m                        Traceback (most recent call last)",
      "\u001b[1;32m<ipython-input-12-c5f719ac3002>\u001b[0m in \u001b[0;36m<module>\u001b[1;34m()\u001b[0m\n\u001b[0;32m      1\u001b[0m \u001b[1;31m# error\u001b[0m\u001b[1;33m\u001b[0m\u001b[1;33m\u001b[0m\u001b[0m\n\u001b[1;32m----> 2\u001b[1;33m \u001b[0msp\u001b[0m\u001b[1;33m.\u001b[0m\u001b[0mcheck_call\u001b[0m\u001b[1;33m(\u001b[0m\u001b[1;34m'ls -l no_exist_file'\u001b[0m\u001b[1;33m,\u001b[0m \u001b[0mshell\u001b[0m\u001b[1;33m=\u001b[0m\u001b[0mTrue\u001b[0m\u001b[1;33m)\u001b[0m\u001b[1;33m\u001b[0m\u001b[0m\n\u001b[0m",
      "\u001b[1;32m/home/liheyi/anaconda2/lib/python2.7/subprocess.pyc\u001b[0m in \u001b[0;36mcheck_call\u001b[1;34m(*popenargs, **kwargs)\u001b[0m\n\u001b[0;32m    538\u001b[0m         \u001b[1;32mif\u001b[0m \u001b[0mcmd\u001b[0m \u001b[1;32mis\u001b[0m \u001b[0mNone\u001b[0m\u001b[1;33m:\u001b[0m\u001b[1;33m\u001b[0m\u001b[0m\n\u001b[0;32m    539\u001b[0m             \u001b[0mcmd\u001b[0m \u001b[1;33m=\u001b[0m \u001b[0mpopenargs\u001b[0m\u001b[1;33m[\u001b[0m\u001b[1;36m0\u001b[0m\u001b[1;33m]\u001b[0m\u001b[1;33m\u001b[0m\u001b[0m\n\u001b[1;32m--> 540\u001b[1;33m         \u001b[1;32mraise\u001b[0m \u001b[0mCalledProcessError\u001b[0m\u001b[1;33m(\u001b[0m\u001b[0mretcode\u001b[0m\u001b[1;33m,\u001b[0m \u001b[0mcmd\u001b[0m\u001b[1;33m)\u001b[0m\u001b[1;33m\u001b[0m\u001b[0m\n\u001b[0m\u001b[0;32m    541\u001b[0m     \u001b[1;32mreturn\u001b[0m \u001b[1;36m0\u001b[0m\u001b[1;33m\u001b[0m\u001b[0m\n\u001b[0;32m    542\u001b[0m \u001b[1;33m\u001b[0m\u001b[0m\n",
      "\u001b[1;31mCalledProcessError\u001b[0m: Command 'ls -l no_exist_file' returned non-zero exit status 2"
     ]
    }
   ],
   "source": [
    "# error\n",
    "sp.check_call('ls -l no_exist_file', shell=True)"
   ]
  },
  {
   "cell_type": "markdown",
   "metadata": {},
   "source": [
    "#### 3.Capturing Output\n",
    "The standard input and output channels for the process started by call() are bound to the parent’s input and output.   \n",
    "That means the calling programm cannot capture the output of the command.   \n",
    "Use check_output() to capture the output for later processing.  \n",
    "\n",
    "###### subprocess.check_output(args, *, stdin=None, stderr=None, shell=False, universal_newlines=False)\n",
    "Run command with arguments and return its output as a byte string.   \n",
    "If the return code was non-zero it raises a CalledProcessError.   \n",
    "The CalledProcessError object will have the return code in the returncode attribute and any output in the output attribute."
   ]
  },
  {
   "cell_type": "code",
   "execution_count": 14,
   "metadata": {
    "collapsed": false
   },
   "outputs": [
    {
     "name": "stdout",
     "output_type": "stream",
     "text": [
      "192.168.112.108\n",
      "192.168.112.109\n",
      "192.168.112.110\n",
      "192.168.112.111\n",
      "\n"
     ]
    }
   ],
   "source": [
    "# The cat command runs successfully, \n",
    "# so the text it prints to standard output is captured and returned.\n",
    "IP_list = sp.check_output([\"cat\", '/home/liheyi/ip.txt'])\n",
    "print IP_list"
   ]
  },
  {
   "cell_type": "code",
   "execution_count": 15,
   "metadata": {
    "collapsed": false
   },
   "outputs": [
    {
     "ename": "CalledProcessError",
     "evalue": "Command 'cat no_exist_file' returned non-zero exit status 1",
     "output_type": "error",
     "traceback": [
      "\u001b[1;31m---------------------------------------------------------------------------\u001b[0m",
      "\u001b[1;31mCalledProcessError\u001b[0m                        Traceback (most recent call last)",
      "\u001b[1;32m<ipython-input-15-cc3974034695>\u001b[0m in \u001b[0;36m<module>\u001b[1;34m()\u001b[0m\n\u001b[1;32m----> 1\u001b[1;33m \u001b[0msp\u001b[0m\u001b[1;33m.\u001b[0m\u001b[0mcheck_output\u001b[0m\u001b[1;33m(\u001b[0m\u001b[1;34m\"cat no_exist_file\"\u001b[0m\u001b[1;33m,\u001b[0m \u001b[0mshell\u001b[0m\u001b[1;33m=\u001b[0m\u001b[0mTrue\u001b[0m\u001b[1;33m)\u001b[0m\u001b[1;33m\u001b[0m\u001b[0m\n\u001b[0m",
      "\u001b[1;32m/home/liheyi/anaconda2/lib/python2.7/subprocess.pyc\u001b[0m in \u001b[0;36mcheck_output\u001b[1;34m(*popenargs, **kwargs)\u001b[0m\n\u001b[0;32m    571\u001b[0m         \u001b[1;32mif\u001b[0m \u001b[0mcmd\u001b[0m \u001b[1;32mis\u001b[0m \u001b[0mNone\u001b[0m\u001b[1;33m:\u001b[0m\u001b[1;33m\u001b[0m\u001b[0m\n\u001b[0;32m    572\u001b[0m             \u001b[0mcmd\u001b[0m \u001b[1;33m=\u001b[0m \u001b[0mpopenargs\u001b[0m\u001b[1;33m[\u001b[0m\u001b[1;36m0\u001b[0m\u001b[1;33m]\u001b[0m\u001b[1;33m\u001b[0m\u001b[0m\n\u001b[1;32m--> 573\u001b[1;33m         \u001b[1;32mraise\u001b[0m \u001b[0mCalledProcessError\u001b[0m\u001b[1;33m(\u001b[0m\u001b[0mretcode\u001b[0m\u001b[1;33m,\u001b[0m \u001b[0mcmd\u001b[0m\u001b[1;33m,\u001b[0m \u001b[0moutput\u001b[0m\u001b[1;33m=\u001b[0m\u001b[0moutput\u001b[0m\u001b[1;33m)\u001b[0m\u001b[1;33m\u001b[0m\u001b[0m\n\u001b[0m\u001b[0;32m    574\u001b[0m     \u001b[1;32mreturn\u001b[0m \u001b[0moutput\u001b[0m\u001b[1;33m\u001b[0m\u001b[0m\n\u001b[0;32m    575\u001b[0m \u001b[1;33m\u001b[0m\u001b[0m\n",
      "\u001b[1;31mCalledProcessError\u001b[0m: Command 'cat no_exist_file' returned non-zero exit status 1"
     ]
    }
   ],
   "source": [
    "sp.check_output(\"cat no_exist_file\", shell=True)"
   ]
  },
  {
   "cell_type": "markdown",
   "metadata": {},
   "source": [
    "To prevent error messages from commands run through check_output() from being written to the console,   \n",
    "set the stderr parameter to the constant STDOUT."
   ]
  },
  {
   "cell_type": "code",
   "execution_count": 47,
   "metadata": {
    "collapsed": false
   },
   "outputs": [
    {
     "data": {
      "text/plain": [
       "'ls: cannot access no_exist_file: No such file or directory\\n'"
      ]
     },
     "execution_count": 47,
     "metadata": {},
     "output_type": "execute_result"
    }
   ],
   "source": [
    "sp.check_output(\n",
    "    \"ls no_exist_file; exit 0\",\n",
    "    stderr=sp.STDOUT,\n",
    "    shell=True,\n",
    ")"
   ]
  },
  {
   "cell_type": "markdown",
   "metadata": {},
   "source": [
    "Now the error and standard output channels are merged together so if the command prints error messages,   \n",
    "they are captured and not sent to the console."
   ]
  },
  {
   "cell_type": "markdown",
   "metadata": {},
   "source": [
    "###### subprocess.PIPE\n",
    "Special value that can be used as the stdin, stdout or stderr argument to Popen and indicates that a pipe to the standard stream should be opened.  \n",
    "\n",
    "By passing different arguments for stdin, stdout, and stderr it is possible to mimic the variations of os.popen()."
   ]
  },
  {
   "cell_type": "markdown",
   "metadata": {},
   "source": [
    "#### 1.popen\n",
    "To run a process and read all of its output, set the stdout value to PIPE and call communicate()."
   ]
  },
  {
   "cell_type": "code",
   "execution_count": 143,
   "metadata": {
    "collapsed": false
   },
   "outputs": [
    {
     "name": "stdout",
     "output_type": "stream",
     "text": [
      "\n",
      "read:\n",
      "\tstdout: this mimic the os.popen method.\n",
      "\n"
     ]
    }
   ],
   "source": [
    "# This is similar to the way popen() works, \n",
    "# except that the reading is managed internally by the Popen instance.\n",
    "\n",
    "import subprocess as sp\n",
    "print '\\nread:'\n",
    "proc = sp.Popen(['echo', 'this mimic the os.popen method.'],\n",
    "                stdout=sp.PIPE,\n",
    "               )\n",
    "stdout_value = proc.communicate()[0]\n",
    "print '\\tstdout:', str(stdout_value)"
   ]
  },
  {
   "cell_type": "code",
   "execution_count": 45,
   "metadata": {
    "collapsed": false
   },
   "outputs": [
    {
     "name": "stdout",
     "output_type": "stream",
     "text": [
      "IP LIST:\n",
      "192.168.112.108\n",
      "192.168.112.109\n",
      "192.168.112.110\n",
      "192.168.112.111\n",
      "\n"
     ]
    }
   ],
   "source": [
    "import subprocess as sp\n",
    "proc = sp.Popen(['cat', '/home/liheyi/ip.txt'], \n",
    "                stdout=sp.PIPE, \n",
    "               )\n",
    "stdout_value = proc.communicate()[0]\n",
    "print 'IP LIST:\\n', str(stdout_value)"
   ]
  },
  {
   "cell_type": "markdown",
   "metadata": {},
   "source": [
    "To set up a pipe to allow the calling program to write data to it, set stdin to PIPE.  \n",
    "To send data to the standard input channel of the process one time, pass the data to communicate().   \n",
    "This is similar to using popen() with mode 'w'."
   ]
  },
  {
   "cell_type": "code",
   "execution_count": 44,
   "metadata": {
    "collapsed": false
   },
   "outputs": [
    {
     "name": "stdout",
     "output_type": "stream",
     "text": [
      "\n",
      "write:\n"
     ]
    },
    {
     "data": {
      "text/plain": [
       "(None, None)"
      ]
     },
     "execution_count": 44,
     "metadata": {},
     "output_type": "execute_result"
    }
   ],
   "source": [
    "import subprocess as sp\n",
    "print '\\nwrite:'\n",
    "proc = sp.Popen(['cat', '-'],\n",
    "                stdin=sp.PIPE,\n",
    "               )\n",
    "proc.communicate('\\tstdin: to stdin\\n')"
   ]
  },
  {
   "cell_type": "markdown",
   "metadata": {},
   "source": [
    "#### 2.popen2\n",
    "To set up the Popen instance for reading and writing, use a combination of the previous techniques."
   ]
  },
  {
   "cell_type": "code",
   "execution_count": 43,
   "metadata": {
    "collapsed": false
   },
   "outputs": [
    {
     "name": "stdout",
     "output_type": "stream",
     "text": [
      "\n",
      "popen2:\n",
      "\tpass through: through stdin to stdout\n"
     ]
    }
   ],
   "source": [
    "import subprocess as sp\n",
    "print '\\npopen2:'\n",
    "proc = sp.Popen(['cat', '-'],\n",
    "                stdin=sp.PIPE,\n",
    "                stdout=sp.PIPE,\n",
    "               )\n",
    "stdout_value = proc.communicate('through stdin to stdout')[0]\n",
    "print '\\tpass through:', str(stdout_value)"
   ]
  },
  {
   "cell_type": "markdown",
   "metadata": {},
   "source": [
    "###### 3.popen3\n",
    "It is also possible watch both of the streams for stdout and stderr, as with popen3().  \n",
    "Reading from stderr works the same as with stdout.   \n",
    "Passing PIPE tells Popen to attach to the channel, and communicate() reads all of the data from it before returning."
   ]
  },
  {
   "cell_type": "code",
   "execution_count": 50,
   "metadata": {
    "collapsed": false
   },
   "outputs": [
    {
     "name": "stdout",
     "output_type": "stream",
     "text": [
      "\n",
      "popen3:\n",
      "\tpass through: through stdin to stdout\n",
      "\tstderr      : to stderr\n",
      "\n"
     ]
    }
   ],
   "source": [
    "import subprocess as sp\n",
    "print '\\npopen3:'\n",
    "proc = sp.Popen('cat -; echo \"to stderr\" 1>&2',\n",
    "                shell=True,\n",
    "                stdin=sp.PIPE,\n",
    "                stdout=sp.PIPE,\n",
    "                stderr=sp.PIPE,\n",
    "                )\n",
    "stdout_value, stderr_value = proc.communicate('through stdin to stdout')\n",
    "print '\\tpass through:', str(stdout_value)\n",
    "print '\\tstderr      :', str(stderr_value)"
   ]
  },
  {
   "cell_type": "markdown",
   "metadata": {},
   "source": [
    "#### 4.popen4\n",
    "To direct the error output from the process to its standard output channel, use STDOUT for stderr instead of PIPE.  \n",
    "Combining the output in this way is similar to how popen4() works."
   ]
  },
  {
   "cell_type": "code",
   "execution_count": 52,
   "metadata": {
    "collapsed": false
   },
   "outputs": [
    {
     "name": "stdout",
     "output_type": "stream",
     "text": [
      "\n",
      "popen4:\n",
      "\tcombined output: 'through stdin to stdout\\nto stderr\\n'\n",
      "\tstderr value   : None\n"
     ]
    }
   ],
   "source": [
    "import subprocess as sp\n",
    "print '\\npopen4:'\n",
    "proc = sp.Popen('cat -; echo \"to stderr\" 1>&2',\n",
    "                shell=True,\n",
    "                stdin=sp.PIPE,\n",
    "                stdout=sp.PIPE,\n",
    "                stderr=sp.STDOUT,\n",
    "                )\n",
    "stdout_value, stderr_value = proc.communicate('through stdin to stdout\\n')\n",
    "print '\\tcombined output:', repr(stdout_value)\n",
    "print '\\tstderr value   :', repr(stderr_value)"
   ]
  },
  {
   "cell_type": "code",
   "execution_count": null,
   "metadata": {
    "collapsed": true
   },
   "outputs": [],
   "source": []
  },
  {
   "cell_type": "markdown",
   "metadata": {},
   "source": [
    "###### subprocess.STDOUT\n",
    "Special value that can be used as the stderr argument to Popen and indicates that standard error should go into the same handle as standard output."
   ]
  },
  {
   "cell_type": "markdown",
   "metadata": {},
   "source": [
    "###### exception subprocess.CalledProcessError(retcode, cmd, output=output)\n",
    "Exception raised when a process run by check_call() or check_output() returns a non-zero exit status.\n",
    "\n",
    "returncode\n",
    "Exit status of the child process.  \n",
    "\n",
    "cmd  \n",
    "Command that was used to spawn the child process.  \n",
    "\n",
    "output  \n",
    "Output of the child process if this exception is raised by check_output(). Otherwise, None.\n"
   ]
  },
  {
   "cell_type": "markdown",
   "metadata": {},
   "source": [
    "####  Frequently Used Arguments"
   ]
  },
  {
   "cell_type": "markdown",
   "metadata": {},
   "source": [
    "To support a wide variety of use cases, the Popen constructor (and the convenience functions) accept a large number of optional arguments.   \n",
    "For most typical use cases, many of these arguments can be safely left at their default values.   \n",
    "The arguments that are most commonly needed are:"
   ]
  },
  {
   "cell_type": "markdown",
   "metadata": {},
   "source": [
    "###### args\n",
    "args is required for all calls and should be a string, or a sequence of program arguments.  \n",
    "\n",
    "Providing a sequence of arguments is generally preferred, as it allows the module to take care of any required escaping and quoting of arguments (e.g. to permit spaces in file names).   \n",
    "If passing a single string, either shell must be True (see below) or else the string must simply name the program to be executed without specifying any arguments."
   ]
  },
  {
   "cell_type": "markdown",
   "metadata": {},
   "source": [
    "###### stdin, stdout and stderr\n",
    "stdin, stdout and stderr specify the executed program’s standard input, standard output and standard error file handles, respectively.   \n",
    "Valid values are PIPE, an existing file descriptor (a positive integer), an existing file object, and None.  \n",
    "PIPE indicates that a new pipe to the child should be created.   \n",
    "With the default settings of None, no redirection will occur; the child’s file handles will be inherited from the parent.   \n",
    "Additionally, stderr can be STDOUT, which indicates that the stderr data from the child process should be captured into the same file handle as for stdout.  \n",
    "\n",
    "When stdout or stderr are pipes and universal_newlines is True then all line endings will be converted to '\\n' as described for the universal newlines 'U' mode argument to open()."
   ]
  },
  {
   "cell_type": "markdown",
   "metadata": {},
   "source": [
    "#### 1.Interacting with Another Command\n",
    "The next interaction example uses the stdin and stdout file handles owned by the Popen instance in different ways.   \n",
    "In the first example, a sequence of 10 numbers are written to stdin of the process, and after each write the next line of output is read back.   \n",
    "In the second example, the same 10 numbers are written but the output is read all at once using communicate()."
   ]
  },
  {
   "cell_type": "code",
   "execution_count": null,
   "metadata": {
    "collapsed": false
   },
   "outputs": [],
   "source": [
    "# The script of repeater.py\n",
    "import sys\n",
    "\n",
    "sys.stderr.write('repeater.py: starting\\n')\n",
    "sys.stderr.flush()\n",
    "\n",
    "while True:\n",
    "    next_line = sys.stdin.readline()\n",
    "    if not next_line:\n",
    "        break\n",
    "    sys.stdout.write(next_line)\n",
    "    sys.stdout.flush()\n",
    "\n",
    "sys.stderr.write('repeater.py: exiting\\n')\n",
    "sys.stderr.flush()"
   ]
  },
  {
   "cell_type": "code",
   "execution_count": null,
   "metadata": {
    "collapsed": false
   },
   "outputs": [],
   "source": [
    "# The script of interaction_first.py\n",
    "# One line at a time\n",
    "import subprocess as sp\n",
    "print 'One line at a time'\n",
    "proc = sp.Popen('python /home/liheyi/repeater.py',\n",
    "                shell=True,\n",
    "                stdin=sp.PIPE,\n",
    "                stdout=sp.PIPE,\n",
    "                )\n",
    "\n",
    "for i in xrange(10):\n",
    "    proc.stdin.write('%d\\n' % i)\n",
    "    output = proc.stdout.readline()\n",
    "    print output.rstrip()\n",
    "    \n",
    "remainder = proc.communicate()[0]\n",
    "print remainder"
   ]
  },
  {
   "cell_type": "code",
   "execution_count": 113,
   "metadata": {
    "collapsed": false
   },
   "outputs": [
    {
     "name": "stdout",
     "output_type": "stream",
     "text": [
      "One line at a time\n",
      "repeater.py: starting\n",
      "0\n",
      "1\n",
      "2\n",
      "3\n",
      "4\n",
      "5\n",
      "6\n",
      "7\n",
      "8\n",
      "9\n",
      "repeater.py: exiting\n",
      "\n",
      "\n"
     ]
    }
   ],
   "source": [
    "# run it...\n",
    "output = sp.check_output('python -u /home/liheyi/interaction_first.py', shell=True, stderr=sp.STDOUT)\n",
    "print output"
   ]
  },
  {
   "cell_type": "code",
   "execution_count": null,
   "metadata": {
    "collapsed": false
   },
   "outputs": [],
   "source": [
    "# The script of interaction_second.py\n",
    "# All output at once\n",
    "import subprocess as sp\n",
    "print 'All output at once:'\n",
    "proc = sp.Popen('python /home/liheyi/repeater.py',\n",
    "                shell=True,\n",
    "                stdin=sp.PIPE,\n",
    "                stdout=sp.PIPE,\n",
    "                )\n",
    "\n",
    "for i in xrange(10):\n",
    "    proc.stdin.write('%d\\n' % i)\n",
    "    \n",
    "output = proc.communicate()[0]\n",
    "print output"
   ]
  },
  {
   "cell_type": "code",
   "execution_count": 114,
   "metadata": {
    "collapsed": false
   },
   "outputs": [
    {
     "name": "stdout",
     "output_type": "stream",
     "text": [
      "All output at once:\n",
      "repeater.py: starting\n",
      "repeater.py: exiting\n",
      "0\n",
      "1\n",
      "2\n",
      "3\n",
      "4\n",
      "5\n",
      "6\n",
      "7\n",
      "8\n",
      "9\n",
      "\n",
      "\n"
     ]
    }
   ],
   "source": [
    "# run it...\n",
    "output = sp.check_output('python -u /home/liheyi/interaction_second.py', shell=True, stderr=sp.STDOUT)\n",
    "print output"
   ]
  },
  {
   "cell_type": "markdown",
   "metadata": {},
   "source": [
    "### 2.Connecting Segments of a Pipe\n",
    "Multiple commands can be connected into a pipeline, similar to the way the Unix shell works, by creating separate Popen instances and chaining their inputs and outputs together. The stdout attribute of one Popen instance is used as the stdin argument for the next in the pipeline, instead of the constant PIPE. The output is read from the stdout handle for the final command in the pipeline."
   ]
  },
  {
   "cell_type": "code",
   "execution_count": 128,
   "metadata": {
    "collapsed": false
   },
   "outputs": [
    {
     "name": "stdout",
     "output_type": "stream",
     "text": [
      "IP1:  192.168.112.108\n",
      "IP2:  192.168.112.109\n",
      "IP3:  192.168.112.110\n",
      "IP4:  192.168.112.111\n",
      "\n"
     ]
    }
   ],
   "source": [
    "import subprocess as sp\n",
    "value_of_file = sp.check_output(['cat', '/home/liheyi/ip.txt'])\n",
    "print value_of_file"
   ]
  },
  {
   "cell_type": "markdown",
   "metadata": {},
   "source": [
    "This example reproduces the command line cat ip.txt | grep IP | cut -d: -f2"
   ]
  },
  {
   "cell_type": "code",
   "execution_count": 132,
   "metadata": {
    "collapsed": false
   },
   "outputs": [
    {
     "name": "stdout",
     "output_type": "stream",
     "text": [
      "Include files:\n",
      "\t192.168.112.108\n",
      "\t192.168.112.109\n",
      "\t192.168.112.110\n",
      "\t192.168.112.111\n"
     ]
    }
   ],
   "source": [
    "cat = sp.Popen(['cat', '/home/liheyi/ip.txt'],\n",
    "               stdout=sp.PIPE,\n",
    "               )\n",
    "grep = sp.Popen(['grep', 'IP'],\n",
    "                stdin=cat.stdout,\n",
    "                stdout=sp.PIPE,\n",
    "                )\n",
    "cut = sp.Popen(['cut', '-d:', '-f2'],\n",
    "               stdin=grep.stdout,\n",
    "               stdout=sp.PIPE,\n",
    "               )\n",
    "\n",
    "end_of_pipe = cut.stdout\n",
    "print \"Include files:\"\n",
    "for line in end_of_pipe:\n",
    "    print '\\t', line.strip()"
   ]
  },
  {
   "cell_type": "markdown",
   "metadata": {},
   "source": [
    "###### shell\n",
    "If shell is True, the specified command will be executed through the shell.   \n",
    "This can be useful if you are using Python primarily for the enhanced control flow it offers over most system shells and still want convenient access to other shell features such as shell pipes, filename wildcards, environment variable expansion, and expansion of ~ to a user’s home directory.   \n",
    "However, note that Python itself offers implementations of many shell-like features (in particular, glob, fnmatch, os.walk(), os.path.expandvars(), os.path.expanduser(), and shutil).  \n",
    "Warning:  \n",
    "Executing shell commands that incorporate sanitized input from an untrusted source makes a program vulnerable to shell injection, a serious security flaw which can result in arbitrary command execution.   \n",
    "For this reason, the use of shell=True is strongly discouraged in cases where the command string is constructed from external input: "
   ]
  },
  {
   "cell_type": "code",
   "execution_count": null,
   "metadata": {
    "collapsed": true
   },
   "outputs": [],
   "source": [
    ">>> from subprocess import call  \n",
    ">>> filename = input(\"What file would you like to display?\\n\")  \n",
    "What file would you like to display?  \n",
    "non_existent; rm -rf / #  \n",
    ">>> call(\"cat \" + filename, shell=True) # Uh-oh. This will end badly...  "
   ]
  },
  {
   "cell_type": "markdown",
   "metadata": {},
   "source": [
    "shell=False disables all shell based features, but does not suffer from this vulnerability;   \n",
    "see the Note in the Popen constructor documentation for helpful hints in getting shell=False to work.  \n",
    "\n",
    "When using shell=True, pipes.quote() can be used to properly escape whitespace and shell metacharacters in strings that are going to be used to construct shell commands."
   ]
  },
  {
   "cell_type": "markdown",
   "metadata": {},
   "source": [
    "### Popen Constructor"
   ]
  },
  {
   "cell_type": "markdown",
   "metadata": {},
   "source": [
    "The underlying process creation and management in this module is handled by the Popen class.   \n",
    "It offers a lot of flexibility so that developers are able to handle the less common cases not covered by the convenience functions."
   ]
  },
  {
   "cell_type": "markdown",
   "metadata": {},
   "source": [
    "###### class subprocess.Popen(args, bufsize=0, executable=None, stdin=None, stdout=None, stderr=None, preexec_fn=None, close_fds=False, shell=False, cwd=None, env=None, universal_newlines=False, startupinfo=None, creationflags=0)\n",
    "Execute a child program in a new process.   \n",
    "On Unix, the class uses os.execvp()-like behavior to execute the child program.   \n",
    "On Windows, the class uses the Windows CreateProcess() function.   \n",
    "The arguments to Popen are as follows:"
   ]
  },
  {
   "cell_type": "markdown",
   "metadata": {},
   "source": [
    "###### args\n",
    "args should be a sequence of program arguments or else a single string.   \n",
    "By default, the program to execute is the first item in args if args is a sequence.   \n",
    "If args is a string, the interpretation is platform-dependent and described below.   \n",
    "See the shell and executable arguments for additional differences from the default behavior.   \n",
    "Unless otherwise stated, it is recommended to pass args as a sequence.  \n",
    "\n",
    "On Unix, if args is a string, the string is interpreted as the name or path of the program to execute.   \n",
    "However, this can only be done if not passing arguments to the program.  \n",
    "Note:   \n",
    "shlex.split() can be useful when determining the correct tokenization for args, especially in complex cases:"
   ]
  },
  {
   "cell_type": "code",
   "execution_count": 125,
   "metadata": {
    "collapsed": false
   },
   "outputs": [
    {
     "name": "stdout",
     "output_type": "stream",
     "text": [
      "Database\n",
      "information_schema\n",
      "mysql\n",
      "pandas\n",
      "performance_schema\n",
      "\n"
     ]
    }
   ],
   "source": [
    "import shlex, subprocess\n",
    "command_line = 'mysql -uroot -pdousan2014 -e \"show databases;\"'\n",
    "args = shlex.split(command_line)\n",
    "# print args\n",
    "# ['mysql', '-uroot', '-pdousan2014', '-e', 'show databases;']\n",
    "proc = subprocess.check_output(args)\n",
    "print proc"
   ]
  },
  {
   "cell_type": "markdown",
   "metadata": {},
   "source": [
    "###### shell\n",
    "The shell argument (which defaults to False) specifies whether to use the shell as the program to execute.   \n",
    "If shell is True, it is recommended to pass args as a string rather than as a sequence.\n",
    "\n",
    "On Unix with shell=True, the shell defaults to /bin/sh.   \n",
    "If args is a string, the string specifies the command to execute through the shell.   \n",
    "This means that the string must be formatted exactly as it would be when typed at the shell prompt.   \n",
    "This includes, for example, quoting or backslash escaping filenames with spaces in them.   \n",
    "If args is a sequence, the first item specifies the command string, and any additional items will be treated as additional arguments to the shell itself.   \n",
    "That is to say, Popen does the equivalent of:    \n",
    "     Popen(['/bin/sh', '-c', args[0], args[1], ...])    \n",
    "\n",
    "Warning:  \n",
    "Passing shell=True can be a security hazard if combined with untrusted input.   \n",
    "See the warning under Frequently Used Arguments for details."
   ]
  },
  {
   "cell_type": "markdown",
   "metadata": {},
   "source": [
    "###### bufsize\n",
    "bufsize, if given, has the same meaning as the corresponding argument to the built-in open() function: 0 means unbuffered, 1 means line buffered, any other positive value means use a buffer of (approximately) that size.   \n",
    "A negative bufsize means to use the system default, which usually means fully buffered.   \n",
    "The default value for bufsize is 0 (unbuffered).  \n",
    "Note:  \n",
    "If you experience performance issues, it is recommended that you try to enable buffering by setting bufsize to either -1 or a large enough positive value (such as 4096).  "
   ]
  },
  {
   "cell_type": "markdown",
   "metadata": {},
   "source": [
    "###### executable \n",
    "The executable argument specifies a replacement program to execute.   \n",
    "It is very seldom needed.   \n",
    "When shell=False, executable replaces the program to execute specified by args.   \n",
    "However, the original args is still passed to the program.   \n",
    "Most programs treat the program specified by args as the command name, which can then be different from the program actually executed.   \n",
    "On Unix, the args name becomes the display name for the executable in utilities such as ps.   \n",
    "If shell=True, on Unix the executable argument specifies a replacement shell for the default /bin/sh."
   ]
  },
  {
   "cell_type": "markdown",
   "metadata": {},
   "source": [
    "###### stdin, stdout and stderr\n",
    "stdin, stdout and stderr specify the executed program’s standard input, standard output and standard error file handles, respectively.   \n",
    "Valid values are PIPE, an existing file descriptor (a positive integer), an existing file object, and None.   \n",
    "PIPE indicates that a new pipe to the child should be created.   \n",
    "With the default settings of None, no redirection will occur; the child’s file handles will be inherited from the parent.   \n",
    "Additionally, stderr can be STDOUT, which indicates that the stderr data from the child process should be captured into the same file handle as for stdout."
   ]
  },
  {
   "cell_type": "markdown",
   "metadata": {},
   "source": [
    "###### preexec_fn \n",
    "If preexec_fn is set to a callable object, this object will be called in the child process just before the child is executed. (Unix only)"
   ]
  },
  {
   "cell_type": "markdown",
   "metadata": {},
   "source": [
    "###### close_fds \n",
    "If close_fds is true, all file descriptors except 0, 1 and 2 will be closed before the child process is executed.(Unix only)."
   ]
  },
  {
   "cell_type": "markdown",
   "metadata": {},
   "source": [
    "###### 1.Process Groups / Sessions\n",
    "Because of the way the process tree works under Unix, if the process created by Popen spawns sub-processes, those children will not receive any signals sent to the parent.   \n",
    "That means, for example, it will be difficult to cause them to terminate by sending SIGINT or SIGTERM."
   ]
  },
  {
   "cell_type": "code",
   "execution_count": null,
   "metadata": {
    "collapsed": true
   },
   "outputs": [],
   "source": [
    "# The script of signal_child.py\n",
    "import os\n",
    "import signal\n",
    "import time\n",
    "import sys\n",
    "\n",
    "pid = os.getpid()\n",
    "received = False\n",
    "\n",
    "def signal_usr1(signum, frame):\n",
    "    \"Callback invoked when a signal is received\"\n",
    "    global received\n",
    "    received = True\n",
    "    print 'CHILD %6s: Received USR1' % pid\n",
    "    sys.stdout.flush()\n",
    "\n",
    "print 'CHILD %6s: Setting up signal handler' % pid\n",
    "sys.stdout.flush()\n",
    "signal.signal(signal.SIGUSR1, signal_usr1)\n",
    "print 'CHILD %6s: Pausing to wait for signal' % pid\n",
    "sys.stdout.flush()\n",
    "time.sleep(3)\n",
    "\n",
    "if not received:\n",
    "    print 'CHILD %6s: Never received signal' % pid"
   ]
  },
  {
   "cell_type": "code",
   "execution_count": null,
   "metadata": {
    "collapsed": true
   },
   "outputs": [],
   "source": [
    "# subprocess_signal_parent_shell.py\n",
    "import os\n",
    "import signal\n",
    "import subprocess\n",
    "import tempfile\n",
    "import time\n",
    "import sys\n",
    "\n",
    "script = '''#!/bin/sh\n",
    "echo \"Shell script in process $$\"\n",
    "set -x\n",
    "python /home/liheyi/signal_child.py\n",
    "'''\n",
    "script_file = tempfile.NamedTemporaryFile('wt')\n",
    "script_file.write(script)\n",
    "script_file.flush()\n",
    "\n",
    "proc = subprocess.Popen(['sh', script_file.name], close_fds=True)\n",
    "print 'PARENT      : Pausing before sending signal to child %s...' % proc.pid\n",
    "sys.stdout.flush()\n",
    "time.sleep(1)\n",
    "print 'PARENT      : Signaling child %s' % proc.pid\n",
    "sys.stdout.flush()\n",
    "os.kill(proc.pid, signal.SIGUSR1)\n",
    "time.sleep(3)"
   ]
  },
  {
   "cell_type": "markdown",
   "metadata": {},
   "source": [
    "The pid used to send the signal does not match the pid of the child of the shell script waiting for the signal because in this example, there are three separate processes interacting:\n",
    "\n",
    "subprocess_signal_parent_shell.py  \n",
    "The Unix shell process running the script created by the main python program.  \n",
    "signal_child.py  "
   ]
  },
  {
   "cell_type": "code",
   "execution_count": 140,
   "metadata": {
    "collapsed": false
   },
   "outputs": [
    {
     "name": "stdout",
     "output_type": "stream",
     "text": [
      "PARENT      : Pausing before sending signal to child 17223...\n",
      "Shell script in process 17223\n",
      "+ python /home/liheyi/signal_child.py\n",
      "CHILD  17224: Pausing to wait for signal\n",
      "PARENT      : Signaling child 17223\n",
      "CHILD  17224: Never received signal\n",
      "\n"
     ]
    }
   ],
   "source": [
    "# running...\n",
    "output = sp.check_output('python /home/liheyi/subprocess_signal_parent_shell.py', shell=True, stderr=sp.STDOUT)\n",
    "print output"
   ]
  },
  {
   "cell_type": "markdown",
   "metadata": {},
   "source": [
    "The solution to this problem is to use a process group to associate the children so they can be signaled together.   \n",
    "The process group is created with os.setsid(), setting the “session id” to the process id of the current process.   \n",
    "All child processes inherit the session id, and since it should only be set set in the shell created by Popen and its descendants, os.setsid() should not be called in the parent process.   \n",
    "Instead, the function is passed to Popen as the preexec_fn argument so it is run after the fork() inside the new process, before it uses exec() to run the shell.   \n",
    "To signal the entire process group, use os.killpg() with the pid value from the Popen instance."
   ]
  },
  {
   "cell_type": "code",
   "execution_count": null,
   "metadata": {
    "collapsed": true
   },
   "outputs": [],
   "source": [
    "# The script of subprocess_signal_setsid.py\n",
    "import os\n",
    "import signal\n",
    "import subprocess\n",
    "import tempfile\n",
    "import time\n",
    "import sys\n",
    "\n",
    "script = '''#!/bin/sh\n",
    "echo \"Shell script in process $$\"\n",
    "set -x\n",
    "python /home/liheyi/signal_child.py\n",
    "'''\n",
    "script_file = tempfile.NamedTemporaryFile('wt')\n",
    "script_file.write(script)\n",
    "script_file.flush()\n",
    "\n",
    "proc = subprocess.Popen(['sh', script_file.name], \n",
    "                        close_fds=True,\n",
    "                        preexec_fn=os.setsid,\n",
    "                        )\n",
    "print 'PARENT      : Pausing before sending signal to child %s...' % proc.pid\n",
    "sys.stdout.flush()\n",
    "time.sleep(1)\n",
    "print 'PARENT      : Signaling process group %s' % proc.pid\n",
    "sys.stdout.flush()\n",
    "os.killpg(proc.pid, signal.SIGUSR1)\n",
    "time.sleep(3)"
   ]
  },
  {
   "cell_type": "code",
   "execution_count": 138,
   "metadata": {
    "collapsed": false
   },
   "outputs": [
    {
     "name": "stdout",
     "output_type": "stream",
     "text": [
      "PARENT      : Pausing before sending signal to child 17194...\n",
      "Shell script in process 17194\n",
      "+ python /home/liheyi/signal_child.py\n",
      "CHILD  17195: Pausing to wait for signal\n",
      "PARENT      : Signaling process group 17194\n",
      "CHILD  17195: Received USR1\n",
      "\n"
     ]
    }
   ],
   "source": [
    "# running...\n",
    "output = sp.check_output('python /home/liheyi/subprocess_signal_setsid.py', shell=True, stderr=sp.STDOUT)\n",
    "print output"
   ]
  },
  {
   "cell_type": "markdown",
   "metadata": {},
   "source": [
    "The sequence of events is:\n",
    "\n",
    "1.The parent program instantiates Popen.  \n",
    "2.The Popen instance forks a new process.  \n",
    "3.The new process runs os.setsid().  \n",
    "4.The new process runs exec() to start the shell.  \n",
    "5.The shell runs the shell script.  \n",
    "6.The shell script forks again and that process execs Python.  \n",
    "7.Python runs signal_child.py.  \n",
    "8.The parent program signals the process group using the pid of the shell.  \n",
    "9.The shell and Python processes receive the signal. The shell ignores it. Python invokes the signal handler.  "
   ]
  },
  {
   "cell_type": "markdown",
   "metadata": {},
   "source": [
    "###### cwd \n",
    "If cwd is not None, the child’s current directory will be changed to cwd before it is executed.   \n",
    "Note that this directory is not considered when searching the executable, so you can’t specify the program’s path relative to cwd.  "
   ]
  },
  {
   "cell_type": "markdown",
   "metadata": {},
   "source": [
    "###### env \n",
    "If env is not None, it must be a mapping that defines the environment variables for the new process; these are used instead of inheriting the current process’ environment, which is the default behavior.  \n",
    "Note:  \n",
    "If specified, env must provide any variables required for the program to execute. "
   ]
  },
  {
   "cell_type": "markdown",
   "metadata": {},
   "source": [
    "###### universal_newlines \n",
    "If universal_newlines is True, the file objects stdout and stderr are opened as text files in universal newlines mode.   \n",
    "Lines may be terminated by any of '\\n', the Unix end-of-line convention, '\\r', the old Macintosh convention or '\\r\\n', the Windows convention.   \n",
    "All of these external representations are seen as '\\n' by the Python program.  \n",
    "Note:  \n",
    "This feature is only available if Python is built with universal newline support (the default).   \n",
    "Also, the newlines attribute of the file objects stdout, stdin and stderr are not updated by the communicate() method."
   ]
  },
  {
   "cell_type": "markdown",
   "metadata": {},
   "source": [
    "###### startupinfo \n",
    "If given, startupinfo will be a STARTUPINFO object, which is passed to the underlying CreateProcess function.  "
   ]
  },
  {
   "cell_type": "markdown",
   "metadata": {},
   "source": [
    "###### creationflags\n",
    "creationflags, if given, can be CREATE_NEW_CONSOLE or CREATE_NEW_PROCESS_GROUP. (Windows only)"
   ]
  },
  {
   "cell_type": "markdown",
   "metadata": {},
   "source": [
    "### Exceptions"
   ]
  },
  {
   "cell_type": "markdown",
   "metadata": {},
   "source": [
    "Exceptions raised in the child process, before the new program has started to execute, will be re-raised in the parent.   \n",
    "Additionally, the exception object will have one extra attribute called child_traceback, which is a string containing traceback information from the child’s point of view.  "
   ]
  },
  {
   "cell_type": "markdown",
   "metadata": {},
   "source": [
    "###### OSError\n",
    "The most common exception raised is OSError.   \n",
    "This occurs, for example, when trying to execute a non-existent file.   \n",
    "Applications should prepare for OSError exceptions."
   ]
  },
  {
   "cell_type": "markdown",
   "metadata": {},
   "source": [
    "###### ValueError\n",
    "A ValueError will be raised if Popen is called with invalid arguments."
   ]
  },
  {
   "cell_type": "markdown",
   "metadata": {},
   "source": [
    "###### CalledProcessError\n",
    "check_call() and check_output() will raise CalledProcessError if the called process returns a non-zero return code."
   ]
  },
  {
   "cell_type": "markdown",
   "metadata": {},
   "source": [
    "### Security"
   ]
  },
  {
   "cell_type": "markdown",
   "metadata": {},
   "source": [
    "Unlike some other popen functions, this implementation will never call a system shell implicitly.   \n",
    "This means that all characters, including shell metacharacters, can safely be passed to child processes.   Obviously, if the shell is invoked explicitly, then it is the application’s responsibility to ensure that all whitespace and metacharacters are quoted appropriately."
   ]
  },
  {
   "cell_type": "markdown",
   "metadata": {
    "collapsed": true
   },
   "source": [
    "### Popen Object Methods"
   ]
  },
  {
   "cell_type": "markdown",
   "metadata": {},
   "source": [
    "###### Instances of the Popen class have the following methods:"
   ]
  },
  {
   "cell_type": "markdown",
   "metadata": {},
   "source": [
    "###### Popen.poll()\n",
    "Check if child process has terminated.   \n",
    "Set and return returncode attribute."
   ]
  },
  {
   "cell_type": "markdown",
   "metadata": {},
   "source": [
    "###### Popen.wait()\n",
    "Wait for child process to terminate.   \n",
    "Set and return returncode attribute.  \n",
    "#### [Warning]\n",
    "This will deadlock when using stdout=PIPE and/or stderr=PIPE and the child process generates enough output to a pipe such that it blocks waiting for the OS pipe buffer to accept more data.   \n",
    "Use communicate() to avoid that."
   ]
  },
  {
   "cell_type": "markdown",
   "metadata": {},
   "source": [
    "###### Popen.communicate(input=None)\n",
    "Interact with process: Send data to stdin. Read data from stdout and stderr, until end-of-file is reached.   \n",
    "Wait for process to terminate.   \n",
    "The optional input argument should be a string to be sent to the child process, or None, if no data should be sent to the child.  \n",
    "communicate() returns a tuple (stdoutdata, stderrdata).  \n",
    "Note that if you want to send data to the process’s stdin, you need to create the Popen object with stdin=PIPE.  \n",
    "Similarly, to get anything other than None in the result tuple, you need to give stdout=PIPE and/or stderr=PIPE too.  \n",
    "Note:   \n",
    "The data read is buffered in memory, so do not use this method if the data size is large or unlimited."
   ]
  },
  {
   "cell_type": "markdown",
   "metadata": {},
   "source": [
    "###### Popen.send_signal(signal)\n",
    "Sends the signal signal to the child.  "
   ]
  },
  {
   "cell_type": "markdown",
   "metadata": {},
   "source": [
    "###### Popen.terminate()\n",
    "Stop the child.   \n",
    "On Posix OSs the method sends SIGTERM to the child.   \n",
    "On Windows the Win32 API function TerminateProcess() is called to stop the child."
   ]
  },
  {
   "cell_type": "markdown",
   "metadata": {},
   "source": [
    "###### Popen.kill()\n",
    "Kills the child.   \n",
    "On Posix OSs the function sends SIGKILL to the child.   \n",
    "On Windows kill() is an alias for terminate()."
   ]
  },
  {
   "cell_type": "markdown",
   "metadata": {},
   "source": [
    "### Popen Object Attributes\n",
    "###### The following attributes are also available:\n",
    "#### [Warning]\n",
    "Use communicate() rather than .stdin.write, .stdout.read or .stderr.read to avoid deadlocks due to any of the other OS pipe buffers filling up and blocking the child process."
   ]
  },
  {
   "cell_type": "markdown",
   "metadata": {},
   "source": [
    "###### Popen.stdin\n",
    "If the stdin argument was PIPE, this attribute is a file object that provides input to the child process.  \n",
    "Otherwise, it is None."
   ]
  },
  {
   "cell_type": "markdown",
   "metadata": {},
   "source": [
    "###### Popen.stdout\n",
    "If the stdout argument was PIPE, this attribute is a file object that provides output from the child process.  \n",
    "Otherwise, it is None."
   ]
  },
  {
   "cell_type": "markdown",
   "metadata": {},
   "source": [
    "###### Popen.stderr\n",
    "If the stderr argument was PIPE, this attribute is a file object that provides error output from the child process.   \n",
    "Otherwise, it is None."
   ]
  },
  {
   "cell_type": "markdown",
   "metadata": {},
   "source": [
    "###### Popen.pid\n",
    "The process ID of the child process.  \n",
    "Note that if you set the shell argument to True, this is the process ID of the spawned shell."
   ]
  },
  {
   "cell_type": "markdown",
   "metadata": {},
   "source": [
    "#### 1.Signaling Between Processes\n",
    "The os examples include a demonstration of signaling between processes using os.fork() and os.kill().   \n",
    "Since each Popen instance provides a pid attribute with the process id of the child process, it is possible to do something similar with subprocess.   \n",
    "For example, using this script for the child process to be executed by the parent process"
   ]
  },
  {
   "cell_type": "code",
   "execution_count": null,
   "metadata": {
    "collapsed": true
   },
   "outputs": [],
   "source": [
    "# The script of signal_child.py\n",
    "import os\n",
    "import signal\n",
    "import time\n",
    "import sys\n",
    "\n",
    "pid = os.getpid()\n",
    "received = False\n",
    "\n",
    "def signal_usr1(signum, frame):\n",
    "    \"Callback invoked when a signal is received\"\n",
    "    global received\n",
    "    received = True\n",
    "    print 'CHILD %6s: Received USR1' % pid\n",
    "    sys.stdout.flush()\n",
    "\n",
    "print 'CHILD %6s: Setting up signal handler' % pid\n",
    "sys.stdout.flush()\n",
    "signal.signal(signal.SIGUSR1, signal_usr1)\n",
    "print 'CHILD %6s: Pausing to wait for signal' % pid\n",
    "sys.stdout.flush()\n",
    "time.sleep(3)\n",
    "\n",
    "if not received:\n",
    "    print 'CHILD %6s: Never received signal' % pid"
   ]
  },
  {
   "cell_type": "code",
   "execution_count": null,
   "metadata": {
    "collapsed": false
   },
   "outputs": [],
   "source": [
    "# The script of signal_parent.py\n",
    "import os\n",
    "import signal\n",
    "import subprocess\n",
    "import time\n",
    "import sys\n",
    "\n",
    "proc = subprocess.Popen(['python', '/home/liheyi/signal_child.py'])\n",
    "print 'PARENT      : Pausing before sending signal...'\n",
    "sys.stdout.flush()\n",
    "time.sleep(1)\n",
    "print 'PARENT      : Signaling child'\n",
    "sys.stdout.flush()\n",
    "os.kill(proc.pid, signal.SIGUSR1)"
   ]
  },
  {
   "cell_type": "code",
   "execution_count": 117,
   "metadata": {
    "collapsed": false
   },
   "outputs": [
    {
     "name": "stdout",
     "output_type": "stream",
     "text": [
      "PARENT      : Pausing before sending signal...\n",
      "CHILD  17017: Pausing to wait for signal\n",
      "PARENT      : Signaling child\n",
      "CHILD  17017: Received USR1\n",
      "\n"
     ]
    }
   ],
   "source": [
    "# running...\n",
    "output = sp.check_output('python /home/liheyi/signal_parent.py', shell=True, stderr=sp.STDOUT)\n",
    "print output"
   ]
  },
  {
   "cell_type": "markdown",
   "metadata": {},
   "source": [
    "###### Popen.returncode\n",
    "The child return code, set by poll() and wait() (and indirectly by communicate()).   \n",
    "A None value indicates that the process hasn’t terminated yet.  \n",
    "A negative value -N indicates that the child was terminated by signal N (Unix only)."
   ]
  },
  {
   "cell_type": "code",
   "execution_count": null,
   "metadata": {
    "collapsed": true
   },
   "outputs": [],
   "source": []
  },
  {
   "cell_type": "code",
   "execution_count": 151,
   "metadata": {
    "collapsed": false
   },
   "outputs": [
    {
     "name": "stdout",
     "output_type": "stream",
     "text": [
      "ret>  0\n",
      "OK> output  total 64\n",
      "drwxrwxr-x 18 liheyi liheyi 4096  7月  5 19:13 anaconda2\n",
      "drwxrwxr-x  2 liheyi liheyi 4096  6月 15 23:37 analysis\n",
      "-rw-r--r--  1 liheyi liheyi 8980  6月 12 17:41 examples.desktop\n",
      "-rw-rw-r--  1 liheyi liheyi  456  7月 13 13:59 interaction_first.py\n",
      "-rw-rw-r--  1 liheyi liheyi  323  7月 13 14:10 interaction_second.py\n",
      "-rw-rw-r--  1 liheyi liheyi   88  7月 13 15:34 ip.txt\n",
      "drwxrwxr-x  7 liheyi liheyi 4096  7月 12 17:55 jupyter\n",
      "-rw-rw-r--  1 liheyi liheyi  279  7月 13 12:32 repeater.py\n",
      "-rw-rw-r--  1 liheyi liheyi  488  7月 13 13:52 signal_child.py\n",
      "-rw-rw-r--  1 liheyi liheyi  346  7月 13 14:13 signal_parent.py\n",
      "-rw-rw-r--  1 liheyi liheyi  612  7月 13 16:13 subprocess_signal_parent_shell.py\n",
      "-rw-rw-r--  1 liheyi liheyi  822  7月 13 16:12 subprocess_signal_setsid.py\n",
      "-rw-rw-r--  1 liheyi liheyi  150  7月 13 11:34 te.py\n",
      "drwxrwxr-x  4 liheyi liheyi 4096  7月  7 16:44 test\n",
      "\n"
     ]
    }
   ],
   "source": [
    "# The example of subprocess.\n",
    "#!/usr/bin/python\n",
    "import subprocess\n",
    "import os\n",
    "import sys\n",
    "\n",
    "#res = subprocess.Popen(['ls','-al','/ahome'],stdout=subprocess.PIPE,stderr=subprocess.PIPE);\n",
    "#output,error = res.communicate()\n",
    "\n",
    "#if res.returncode:\n",
    "#   #raise Exception(error)\n",
    "#   print \"error>>>> \",res.returncode\n",
    "#else:\n",
    "#   print \"output>>>> \",output\n",
    " \n",
    "try:\n",
    "    res = subprocess.Popen(['ls','-l','/home/liheyi/'],stdout=subprocess.PIPE,stderr=subprocess.PIPE);\n",
    "    #res = subprocess.Popen(['xls','-al','/home'],stdout=subprocess.PIPE);\n",
    "    output,error = res.communicate()\n",
    "    if output:\n",
    "        print \"ret> \",res.returncode\n",
    "        print \"OK> output \",output\n",
    "    if error:\n",
    "        print \"ret> \",res.returncode\n",
    "        print \"Error> error \",error.strip()\n",
    "#except CalledProcessError as e:\n",
    "#   print \"CalledError > \",e.returncode\n",
    "#   print \"CalledError > \",e.output\n",
    "except OSError as e:\n",
    "    print \"OSError > \",e.errno\n",
    "    print \"OSError > \",e.strerror\n",
    "    print \"OSError > \",e.filename\n",
    "except:\n",
    "    print \"Error > \",sys.exc_info()[0]"
   ]
  }
 ],
 "metadata": {
  "kernelspec": {
   "display_name": "Python 2",
   "language": "python",
   "name": "python2"
  },
  "language_info": {
   "codemirror_mode": {
    "name": "ipython",
    "version": 2
   },
   "file_extension": ".py",
   "mimetype": "text/x-python",
   "name": "python",
   "nbconvert_exporter": "python",
   "pygments_lexer": "ipython2",
   "version": "2.7.11"
  }
 },
 "nbformat": 4,
 "nbformat_minor": 0
}
