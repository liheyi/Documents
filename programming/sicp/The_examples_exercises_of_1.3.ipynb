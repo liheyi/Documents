{
 "cells": [
  {
   "cell_type": "markdown",
   "metadata": {},
   "source": [
    "## 1.3.1 Procedures as Arguments"
   ]
  },
  {
   "cell_type": "markdown",
   "metadata": {},
   "source": [
    "### Example 1: summation"
   ]
  },
  {
   "cell_type": "markdown",
   "metadata": {},
   "source": [
    "Consider the following three procedures."
   ]
  },
  {
   "cell_type": "markdown",
   "metadata": {},
   "source": [
    "The first computes the sum of the integers from a through b:"
   ]
  },
  {
   "cell_type": "raw",
   "metadata": {},
   "source": [
    "(define (sum-integers a b)\n",
    "  (if (> a b) 0\n",
    "`    (+ a (sum-integers (+ a 1) b))))"
   ]
  },
  {
   "cell_type": "markdown",
   "metadata": {},
   "source": [
    "The second computes the sum of the cubes of the integers in the given range:"
   ]
  },
  {
   "cell_type": "raw",
   "metadata": {},
   "source": [
    "(define (sum-cubes a b)\n",
    "  (if (> a b) 0\n",
    "`    (+ (cube a) (sum-cubes (+ a 1) b))))"
   ]
  },
  {
   "cell_type": "markdown",
   "metadata": {},
   "source": [
    "The third computes the sum of a sequence of terms in the series  "
   ]
  },
  {
   "cell_type": "markdown",
   "metadata": {},
   "source": [
    "$$\\frac{1}{1 \\centerdot 3} + \\frac{1}{5 \\centerdot 7} + \\frac{1}{9 \\centerdot 11} + \\ldots$$"
   ]
  },
  {
   "cell_type": "markdown",
   "metadata": {},
   "source": [
    "which converges to $\\pi$/8 (very slowly):"
   ]
  },
  {
   "cell_type": "raw",
   "metadata": {},
   "source": [
    "(define (pi-sum a b)\n",
    "  (if (> a b) 0\n",
    "`    (+ (/ 1.0 (* a (+ a 2)))\n",
    "`      (pi-sum (+ a 4) b))))"
   ]
  },
  {
   "cell_type": "markdown",
   "metadata": {},
   "source": [
    "Indeed, mathematicians long ago identified the abstraction of summation of a series and invented \"sigma notation\", for example,to express this concept."
   ]
  },
  {
   "cell_type": "markdown",
   "metadata": {},
   "source": [
    "$$\\sum_{n=a}^bf(n) = f(a) + \\ldots+ f(b)$$"
   ]
  },
  {
   "cell_type": "markdown",
   "metadata": {},
   "source": [
    "With the aid of the procedures sum as follows,we can express the mathematical concepts of summation:"
   ]
  },
  {
   "cell_type": "raw",
   "metadata": {},
   "source": [
    "(define (sum term a next b)\n",
    "  (if (> a b) 0\n",
    "`    (+ (term a) (sum term (next a) next b))))"
   ]
  },
  {
   "cell_type": "markdown",
   "metadata": {},
   "source": [
    "So,we can redefine the process sum-integers to compute the sum of the integers from a through b:"
   ]
  },
  {
   "cell_type": "code",
   "execution_count": 1,
   "metadata": {
    "collapsed": false
   },
   "outputs": [
    {
     "name": "stdout",
     "output_type": "stream",
     "text": [
      "(load \"1.3/sum_by_recursion.scm\")\r\n",
      "\r\n",
      "(define (identity x) x)\r\n",
      "(define (inc n) (+ n 1))\r\n",
      "\r\n",
      "(define (sum-integers a b)\r\n",
      "  (sum identity a inc b))\r\n"
     ]
    }
   ],
   "source": [
    "cat 1.3/sum_integers_for_example.scm"
   ]
  },
  {
   "cell_type": "raw",
   "metadata": {},
   "source": [
    "Running Instance:\n",
    "\n",
    "1 ]=> (load \"1.3/sum_integers_for_example.scm\")\n",
    "\n",
    ";Loading \"1.3/sum_integers_for_example.scm\"...\n",
    ";  Loading \"1.3/sum_by_recursion.scm\"... done\n",
    ";... done\n",
    ";Value: sum-integers\n",
    "\n",
    "1 ]=> (sum-integers 1 100)\n",
    "\n",
    ";Value: 5050"
   ]
  },
  {
   "cell_type": "markdown",
   "metadata": {},
   "source": [
    " Redefine the process sum-cubes to compute the sum of the cubes of the integers from a through b:"
   ]
  },
  {
   "cell_type": "code",
   "execution_count": 2,
   "metadata": {
    "collapsed": false
   },
   "outputs": [
    {
     "name": "stdout",
     "output_type": "stream",
     "text": [
      "(load \"1.3/sum_by_recursion.scm\")\r\n",
      "\r\n",
      "(define (cube x) (* x x x))\r\n",
      "(define (inc n) (+ n 1))\r\n",
      "\r\n",
      "(define (sum-cubes a b)\r\n",
      "  (sum cube a inc b))\r\n"
     ]
    }
   ],
   "source": [
    "cat 1.3/sum_cubes_for_example.scm"
   ]
  },
  {
   "cell_type": "raw",
   "metadata": {},
   "source": [
    "Running Instance:\n",
    "\n",
    "1 ]=> (load \"1.3/sum_cubes_for_example.scm\")\n",
    "\n",
    ";Loading \"1.3/sum_cubes_for_example.scm\"...\n",
    ";  Loading \"1.3/sum_by_recursion.scm\"... done\n",
    ";... done\n",
    ";Value: sum-cubes\n",
    "\n",
    "1 ]=> (sum-cubes 1 100)\n",
    "\n",
    ";Value: 25502500"
   ]
  },
  {
   "cell_type": "markdown",
   "metadata": {},
   "source": [
    "We can also redefine pi-sum in the same way:"
   ]
  },
  {
   "cell_type": "code",
   "execution_count": 5,
   "metadata": {
    "collapsed": false
   },
   "outputs": [
    {
     "name": "stdout",
     "output_type": "stream",
     "text": [
      "(load \"1.3/sum_by_recursion.scm\")\r\n",
      "\r\n",
      "(define (pi-sum a b)\r\n",
      "  (define (pi-term x)\r\n",
      "    (/ 1.0 (* x (+ x 2))))\r\n",
      "  (define (pi-next x) (+ x 4))\r\n",
      "  (sum pi-term a pi-next b))\r\n"
     ]
    }
   ],
   "source": [
    "cat 1.3/sum_pi_by_recursion.scm"
   ]
  },
  {
   "cell_type": "raw",
   "metadata": {},
   "source": [
    "Running Instance:\n",
    "\n",
    "1 ]=> (load \"1.3/sum_by_recursion.scm\")\n",
    "\n",
    ";Loading \"1.3/sum_by_recursion.scm\"...\n",
    ";  Loading \"1.3/sum_by_recursion.scm\"... done\n",
    ";... done\n",
    ";Value: pi-sum\n",
    "\n",
    "1 ]=> (* 8 (pi-sum 1 1000))\n",
    "\n",
    ";Value: 3.139592655589783\n",
    "\n",
    "1 ]=> (* 8 (pi-sum 1 10000))\n",
    "\n",
    ";Value: 3.141392653591793"
   ]
  },
  {
   "cell_type": "markdown",
   "metadata": {},
   "source": [
    "### Example 2: numerical integration"
   ]
  },
  {
   "cell_type": "markdown",
   "metadata": {},
   "source": [
    "Once we have sum, we can use it as a building block in formulating further concepts. For instance, the definite integral of a function f between the limits a and b can be approximated numerically using the formula"
   ]
  },
  {
   "cell_type": "markdown",
   "metadata": {},
   "source": [
    "$$\\int_a^bf=\\left[f\\left(a + \\frac{dx}{2}\\right) + f\\left(a + dx + \\frac{dx}{2}\\right) + f\\left(a + 2dx + \\frac{dx}{2}\\right) + \\centerdot\\centerdot\\centerdot\\right]dx$$"
   ]
  },
  {
   "cell_type": "markdown",
   "metadata": {},
   "source": [
    "for small values of dx. We can express this directly as a procedure:"
   ]
  },
  {
   "cell_type": "code",
   "execution_count": 5,
   "metadata": {
    "collapsed": false
   },
   "outputs": [
    {
     "name": "stdout",
     "output_type": "stream",
     "text": [
      "(load \"1.3/sum_by_recursion.scm\")\r\n",
      "\r\n",
      "(define (integral f a b dx)\r\n",
      "  (define (add-dx x) (+ x dx))\r\n",
      "  (* (sum f (+ a (/ dx 2.0)) add-dx b) dx))\r\n"
     ]
    }
   ],
   "source": [
    "cat 1.3/compute_integral_for_function.scm"
   ]
  },
  {
   "cell_type": "markdown",
   "metadata": {},
   "source": [
    "For example,we can let f is cube function:"
   ]
  },
  {
   "cell_type": "raw",
   "metadata": {},
   "source": [
    "Running Instance:\n",
    "\n",
    "1 ]=> (define (cube x) (* x x x))\n",
    "\n",
    ";Value: cube\n",
    "\n",
    "1 ]=> (load \"1.3/compute_integral_for_function.scm\")\n",
    "\n",
    ";Loading \"1.3/compute_integral_for_function.scm\"...\n",
    ";  Loading \"1.3/sum_by_recursion.scm\"... done\n",
    ";... done\n",
    ";Value: integral\n",
    "\n",
    "1 ]=> (integral cube 0 1 0.01)\n",
    "\n",
    ";Value: .24998750000000042\n",
    "\n",
    "1 ]=> (integral cube 0 1 0.001)\n",
    "\n",
    ";Value: .249999875000001\n",
    "\n",
    "1 ]=> (integral cube 0 1 0.0001)\n",
    "\n",
    ";Value: .24999999874993412\n",
    "\n",
    "(The exact value of the integral of cube between 0 and 1 is 1/4.)"
   ]
  },
  {
   "cell_type": "markdown",
   "metadata": {
    "collapsed": true
   },
   "source": [
    "### Exercise 1.29:\n",
    "Simpson’s Rule is a more accurate method of numerical integration than the method illustrated above. Using Simpson’s Rule, the integral of a function f between a and b is approximated as"
   ]
  },
  {
   "cell_type": "markdown",
   "metadata": {},
   "source": [
    "$$\\frac{h}{3}(y_0 + 4y_1 + 2y_2 + 4y_3 + 2y_4 + \\cdots + 2y_{n-2} + 4y_{n-1} + y_n)$$"
   ]
  },
  {
   "cell_type": "markdown",
   "metadata": {},
   "source": [
    "where $h = (b -a)/n$,for some even integer n, and $y_k = f(a + kh)$.(Increasing n increases the accuracy of the approximation.)Define a procedure that takes as arguments $f$ , $a$, $b$, and $n$ and returns the value of the integral, computed using Simpson’s Rule.Use your procedure to integrate cube between 0 and 1 (with $n = 100$ and $n = 1000$), and compare the results to those of the integral procedure shown above."
   ]
  },
  {
   "cell_type": "markdown",
   "metadata": {},
   "source": [
    "### Exercise 1.30: \n",
    "The sum procedure above generates a linear recursion. The procedure can be rewrien so that the sum is performed iteratively. Show how to do this by filling in the missing expressions in the following definition:"
   ]
  },
  {
   "cell_type": "raw",
   "metadata": {},
   "source": [
    "(define (sum term a next b)\n",
    "  (define (iter a result)\n",
    "   (if <??>\n",
    "      <??>\n",
    "      (iter <??> <??>)))\n",
    "  (iter <??> <??>))"
   ]
  },
  {
   "cell_type": "markdown",
   "metadata": {},
   "source": [
    "### Answer:"
   ]
  },
  {
   "cell_type": "code",
   "execution_count": 1,
   "metadata": {
    "collapsed": false
   },
   "outputs": [
    {
     "name": "stdout",
     "output_type": "stream",
     "text": [
      "(define (sum term a next b)\r\n",
      "  (define (iter a result)\r\n",
      "    (if (> a b)\r\n",
      "        result\r\n",
      "        (iter (next a)\r\n",
      "              (+ (term a) result))))\r\n",
      "  (iter a 0))\r\n",
      "\t\t\r\n"
     ]
    }
   ],
   "source": [
    "cat 1.3/sum_by_iteration.scm"
   ]
  },
  {
   "cell_type": "markdown",
   "metadata": {},
   "source": [
    "1.Compute the sum of the integers from a to b:"
   ]
  },
  {
   "cell_type": "code",
   "execution_count": 2,
   "metadata": {
    "collapsed": false
   },
   "outputs": [
    {
     "name": "stdout",
     "output_type": "stream",
     "text": [
      "(load \"1.3/sum_by_iteration.scm\")\r\n",
      "\r\n",
      "(define (identity x) x)\r\n",
      "(define (inc n) (+ n 1))\r\n",
      "\r\n",
      "(define (sum-integers a b)\r\n",
      "  (sum identity a inc b))\r\n"
     ]
    }
   ],
   "source": [
    "cat 1.3/sum_integers_for_exercise130.scm"
   ]
  },
  {
   "cell_type": "raw",
   "metadata": {},
   "source": [
    "Running Instance:\n",
    "\n",
    "1 ]=> (load \"1.3/sum_integers_for_exercise130.scm\")\n",
    "\n",
    ";Loading \"1.3/sum_integers_for_exercise130.scm\"...\n",
    ";  Loading \"1.3/sum_by_iteration.scm\"... done\n",
    ";... done\n",
    ";Value: sum-integers\n",
    "\n",
    "1 ]=> (sum-integers 1 1000)\n",
    "\n",
    ";Value: 500500\n",
    "\n",
    "1 ]=> (sum-integers 1 100000)\n",
    "\n",
    ";Value: 5000050000"
   ]
  },
  {
   "cell_type": "markdown",
   "metadata": {},
   "source": [
    "2.Compute the sum of the cubes of the integers from a to b:"
   ]
  },
  {
   "cell_type": "code",
   "execution_count": 3,
   "metadata": {
    "collapsed": false
   },
   "outputs": [
    {
     "name": "stdout",
     "output_type": "stream",
     "text": [
      "(load \"1.3/sum_by_iteration.scm\")\r\n",
      "\r\n",
      "(define (cube x) (* x x x))\r\n",
      "(define (inc n) (+ n 1))\r\n",
      "\r\n",
      "(define (sum-cubes a b)\r\n",
      "  (sum cube a inc b))\r\n"
     ]
    }
   ],
   "source": [
    "cat 1.3/sum_cubes_for_exercise130.scm"
   ]
  },
  {
   "cell_type": "raw",
   "metadata": {},
   "source": [
    "Running Instance:\n",
    "\n",
    "1 ]=> (load \"1.3/sum_cubes_for_exercise130.scm\")\n",
    "\n",
    ";Loading \"1.3/sum_cubes_for_exercise130.scm\"...\n",
    ";  Loading \"1.3/sum_by_iteration.scm\"... done\n",
    ";... done\n",
    ";Value: sum-cubes\n",
    "\n",
    "1 ]=> (sum-cubes 1 1000)\n",
    "\n",
    ";Value: 250500250000\n",
    "\n",
    "1 ]=> (sum-cubes 1 100000)\n",
    "\n",
    ";Value: 25000500002500000000"
   ]
  },
  {
   "cell_type": "markdown",
   "metadata": {},
   "source": [
    "3.Compute the sum-pi procedure by way of iterative process: "
   ]
  },
  {
   "cell_type": "code",
   "execution_count": 4,
   "metadata": {
    "collapsed": false
   },
   "outputs": [
    {
     "name": "stdout",
     "output_type": "stream",
     "text": [
      "(load \"1.3/sum_by_iteration.scm\")\r\n",
      "\r\n",
      "(define (pi-sum a b)\r\n",
      "  (define (pi-term x)\r\n",
      "    (/ 1.0 (* x (+ x 2))))\r\n",
      "  (define (pi-next x) (+ x 4))\r\n",
      "  (sum pi-term a pi-next b))\r\n"
     ]
    }
   ],
   "source": [
    "cat 1.3/sum_pi_for_exercise130.scm"
   ]
  },
  {
   "cell_type": "raw",
   "metadata": {},
   "source": [
    "Running Instance:\n",
    "\n",
    "1 ]=> (load \"1.3/sum_pi_for_exercise130.scm\")\n",
    "\n",
    ";Loading \"1.3/sum_pi_for_exercise130.scm\"...\n",
    ";  Loading \"1.3/sum_by_iteration.scm\"... done\n",
    ";... done\n",
    ";Value: pi-sum\n",
    "\n",
    "1 ]=> (* 8 (pi-sum 1 1000))\n",
    "\n",
    ";Value: 3.139592655589782\n",
    "\n",
    "1 ]=> (* 8 (pi-sum 1 100000))\n",
    "\n",
    ";Value: 3.141572653589808\n",
    "\n",
    "1 ]=> (* 8 (pi-sum 1 10000000))\n",
    "\n",
    ";Value: 3.14159245358981\n",
    "\n",
    ";After a long long time ...\n",
    "1 ]=> (* 8 (pi-sum 1 1000000000))\n",
    "\n",
    ";Value: 3.1415926445762157"
   ]
  },
  {
   "cell_type": "markdown",
   "metadata": {},
   "source": [
    "### Exercise 1.31:\n",
    "a. The $sum$ procedure is only the simplest of a vast number of similar abstractions that can be captured as higher-order procedures.Write an analogous procedure called $product$ that returns the product of the values of a\n",
    "function at points over a given range. Show how to define $factorial$ in terms of $product$. Also use product to compute approximations to $\\pi$ using the formula"
   ]
  },
  {
   "cell_type": "markdown",
   "metadata": {},
   "source": [
    "$$\\frac{\\pi}{4} = \\frac{2\\centerdot4\\centerdot4\\centerdot6\\centerdot6\\centerdot8\\cdots}{3\\centerdot3\\centerdot5\\centerdot5\\centerdot7\\centerdot7\\cdots}$$"
   ]
  },
  {
   "cell_type": "markdown",
   "metadata": {},
   "source": [
    "### Answer:"
   ]
  },
  {
   "cell_type": "markdown",
   "metadata": {},
   "source": [
    "1.The product procedure as follows."
   ]
  },
  {
   "cell_type": "code",
   "execution_count": 1,
   "metadata": {
    "collapsed": false
   },
   "outputs": [
    {
     "name": "stdout",
     "output_type": "stream",
     "text": [
      "(define (product term a next b)\r\n",
      "  (if (> a b) 1\r\n",
      "      (* (term a)\r\n",
      "         (product term (next a) next b))))\r\n"
     ]
    }
   ],
   "source": [
    "cat 1.3/product_by_recursion.scm"
   ]
  },
  {
   "cell_type": "markdown",
   "metadata": {},
   "source": [
    "2.Redefine factorial procedure in terms of product procedure."
   ]
  },
  {
   "cell_type": "code",
   "execution_count": 2,
   "metadata": {
    "collapsed": false
   },
   "outputs": [
    {
     "name": "stdout",
     "output_type": "stream",
     "text": [
      "(load \"1.3/product_by_recursion.scm\")\r\n",
      "\r\n",
      "(define (identity x) x)\r\n",
      "(define (inc n) (+ n 1))\r\n",
      "\r\n",
      "(define (factorial b)\r\n",
      "  (product identity 1 inc b))\r\n"
     ]
    }
   ],
   "source": [
    "cat 1.3/factorial_by_product_by_recursion.scm"
   ]
  },
  {
   "cell_type": "raw",
   "metadata": {},
   "source": [
    "Running Instance:\n",
    "\n",
    "1 ]=> (load \"1.3/factorial_by_product_by_recursion.scm\")\n",
    "\n",
    ";Loading \"1.3/factorial_by_product_by_recursion.scm\"...\n",
    ";  Loading \"1.3/product_by_recursion.scm\"... done\n",
    ";... done\n",
    ";Value: factorial\n",
    "\n",
    "1 ]=> (factorial 6)\n",
    "\n",
    ";Value: 720\n",
    "\n",
    "1 ]=> (factorial 20)\n",
    "\n",
    ";Value: 2432902008176640000"
   ]
  },
  {
   "cell_type": "markdown",
   "metadata": {},
   "source": [
    "3.Use product to compute approximations to $\\pi$."
   ]
  },
  {
   "cell_type": "code",
   "execution_count": 3,
   "metadata": {
    "collapsed": false
   },
   "outputs": [
    {
     "name": "stdout",
     "output_type": "stream",
     "text": [
      "(load \"1.3/product_by_recursion.scm\")\r\n",
      "\r\n",
      "(define (pi-next n) (+ n 2))\r\n",
      "(define (pi-term a)\r\n",
      "  ( * 1.0 (/ (* a (pi-next a)) (square (+ a 1)))))\r\n",
      "\r\n",
      "(define (product-pi a b)\r\n",
      "  (product pi-term a pi-next b))\r\n"
     ]
    }
   ],
   "source": [
    "cat 1.3/product_pi_by_recursion.scm"
   ]
  },
  {
   "cell_type": "raw",
   "metadata": {},
   "source": [
    "Running Instance:\n",
    "\n",
    "1 ]=> (load \"1.3/product_pi_by_recursion.scm\")\n",
    "\n",
    ";Loading \"1.3/product_pi_by_recursion.scm\"...\n",
    ";  Loading \"1.3/product_by_recursion.scm\"... done\n",
    ";... done\n",
    ";Value: product-pi\n",
    "\n",
    "1 ]=> (* 4 (product-pi 2 1000))\n",
    "\n",
    ";Value: 3.1431607055322752\n",
    "\n",
    "1 ]=> (* 4 (product-pi 2 10000))\n",
    "\n",
    ";Value: 3.141749705738071\n",
    "\n",
    "1 ]=> (* 4 (product-pi 2 100000))\n",
    "\n",
    ";Aborting!: maximum recursion depth exceeded"
   ]
  },
  {
   "cell_type": "markdown",
   "metadata": {},
   "source": [
    "b. If your product procedure generates a recursive process,write one that generates an iterative process. If it generates an iterative process, write one that generates a recursive process."
   ]
  },
  {
   "cell_type": "markdown",
   "metadata": {
    "collapsed": true
   },
   "source": [
    "### Answer:"
   ]
  },
  {
   "cell_type": "markdown",
   "metadata": {},
   "source": [
    "Since the product procedure above generates a recursive process;we should write one that generates an iterative process"
   ]
  },
  {
   "cell_type": "markdown",
   "metadata": {},
   "source": [
    "1.The product procedure as follows."
   ]
  },
  {
   "cell_type": "code",
   "execution_count": 5,
   "metadata": {
    "collapsed": false
   },
   "outputs": [
    {
     "name": "stdout",
     "output_type": "stream",
     "text": [
      "(define (product term a next b)\r\n",
      "  (define (iter a result)\r\n",
      "    (if (> a b) result\r\n",
      "        (iter (next a)\r\n",
      "              (* (term a) result))))\r\n",
      "  (iter a 1))\r\n"
     ]
    }
   ],
   "source": [
    "cat 1.3/product_by_iteration.scm"
   ]
  },
  {
   "cell_type": "markdown",
   "metadata": {},
   "source": [
    "Test:"
   ]
  },
  {
   "cell_type": "markdown",
   "metadata": {},
   "source": [
    "2.Redefine factorial procedure"
   ]
  },
  {
   "cell_type": "code",
   "execution_count": 6,
   "metadata": {
    "collapsed": false
   },
   "outputs": [
    {
     "name": "stdout",
     "output_type": "stream",
     "text": [
      "(load \"1.3/product_by_iteration.scm\")\r\n",
      "\r\n",
      "(define (identity x) x)\r\n",
      "(define (inc n) (+ n 1))\r\n",
      "\r\n",
      "(define (factorial b)\r\n",
      "  (product identity 1 inc b))\r\n"
     ]
    }
   ],
   "source": [
    "cat 1.3/factorial_by_product_by_iteration.scm"
   ]
  },
  {
   "cell_type": "raw",
   "metadata": {},
   "source": [
    "Running Instance:\n",
    "\n",
    "1 ]=> (load \"1.3/factorial_by_product_by_iteration.scm\")\n",
    "\n",
    ";Loading \"1.3/factorial_by_product_by_iteration.scm\"...\n",
    ";  Loading \"1.3/product_by_iteration.scm\"... done\n",
    ";... done\n",
    ";Value: factorial\n",
    "\n",
    "1 ]=> (factorial 6)\n",
    "\n",
    ";Value: 720\n",
    "\n",
    "1 ]=> (factorial 20)\n",
    "\n",
    ";Value: 2432902008176640000"
   ]
  },
  {
   "cell_type": "markdown",
   "metadata": {},
   "source": [
    "3.Use product to compute approximations to $\\pi$"
   ]
  },
  {
   "cell_type": "code",
   "execution_count": 7,
   "metadata": {
    "collapsed": false
   },
   "outputs": [
    {
     "name": "stdout",
     "output_type": "stream",
     "text": [
      "(load \"1.3/product_by_iteration.scm\")\r\n",
      "\r\n",
      "(define (pi-next n) (+ n 2))\r\n",
      "(define (pi-term a)\r\n",
      "  ( * 1.0 (/ (* a (pi-next a)) (square (+ a 1)))))\r\n",
      "\r\n",
      "(define (product-pi a b)\r\n",
      "  (product pi-term a pi-next b))\r\n"
     ]
    }
   ],
   "source": [
    "cat 1.3/product_pi_by_iteration.scm"
   ]
  },
  {
   "cell_type": "raw",
   "metadata": {},
   "source": [
    "Running Instance:\n",
    "\n",
    "1 ]=> (load \"1.3/product_pi_by_iteration.scm\")\n",
    "\n",
    ";Loading \"1.3/product_pi_by_iteration.scm\"...\n",
    ";  Loading \"1.3/product_by_iteration.scm\"... done\n",
    ";... done\n",
    ";Value: product-pi\n",
    "\n",
    "1 ]=> (* 4 (product-pi 2 1000))\n",
    "\n",
    ";Value: 3.1431607055322712\n",
    "\n",
    "1 ]=> (* 4 (product-pi 2 10000))\n",
    "\n",
    ";Value: 3.141749705738071\n",
    "\n",
    "1 ]=> (* 4 (product-pi 2 100000))\n",
    "\n",
    ";Value: 3.141608361278168\n",
    "\n",
    "1 ]=> (* 4 (product-pi 2 100000000))\n",
    "\n",
    ";Value: 3.141592667943379"
   ]
  },
  {
   "cell_type": "markdown",
   "metadata": {},
   "source": [
    "### Exercise 1.32:\n",
    "#### a. \n",
    "Show that $sum$ and $product$ (Exercise 1.31) are both special cases of a still more general notion called $accumulate$ that combines a collection of terms, using some general accumulation function:"
   ]
  },
  {
   "cell_type": "raw",
   "metadata": {},
   "source": [
    "           (accumulate combiner null-value term a next b)"
   ]
  },
  {
   "cell_type": "markdown",
   "metadata": {},
   "source": [
    "$accumulate$ takes as arguments the same term and range specifications as $sum$ and $product$, together with a $combiner$ procedure (of two arguments) that specifies how the current term is to be combined with the accumulation of the preceding terms and a null-value that specifies what base value to use when the terms run out. Write $accumulate$ and show how $sum$ and $product$ can both be defined as simple calls to $accumulate$."
   ]
  },
  {
   "cell_type": "markdown",
   "metadata": {},
   "source": [
    "1.The $accumulate$ recursive procedure:"
   ]
  },
  {
   "cell_type": "code",
   "execution_count": 8,
   "metadata": {
    "collapsed": false
   },
   "outputs": [
    {
     "name": "stdout",
     "output_type": "stream",
     "text": [
      "(define (accumulate combiner null-value term a next b)\r\n",
      "  (if (> a b) null-value\r\n",
      "      (combiner (term a)\r\n",
      "                (accumulate combiner\r\n",
      "                            null-value\r\n",
      "                            term\r\n",
      "                            (next a)\r\n",
      "                            next\r\n",
      "                            b))))\r\n"
     ]
    }
   ],
   "source": [
    "cat 1.3/accumulate_by_recursion.scm"
   ]
  },
  {
   "cell_type": "markdown",
   "metadata": {},
   "source": [
    "2.Redefine the $sum$ procedure by way of the $accumulate$ recursive procedure:"
   ]
  },
  {
   "cell_type": "code",
   "execution_count": 11,
   "metadata": {
    "collapsed": false
   },
   "outputs": [
    {
     "name": "stdout",
     "output_type": "stream",
     "text": [
      "(load \"1.3/accumulate_by_recursion.scm\")\r\n",
      "\r\n",
      "(define (sum term a next b)\r\n",
      "  (accumulate + 0 term a next b))\r\n"
     ]
    }
   ],
   "source": [
    "cat 1.3/sum_by_accumulate_by_recursion.scm"
   ]
  },
  {
   "cell_type": "markdown",
   "metadata": {},
   "source": [
    "3.Redefine the $product$ procedure by way of the $accumulate$ recursive procedure:"
   ]
  },
  {
   "cell_type": "code",
   "execution_count": 14,
   "metadata": {
    "collapsed": false
   },
   "outputs": [
    {
     "name": "stdout",
     "output_type": "stream",
     "text": [
      "(load \"1.3/accumulate_by_recursion.scm\")\r\n",
      "\r\n",
      "(define (product term a next b)\r\n",
      "  (accumulate * 1 term a next b))\r\n"
     ]
    }
   ],
   "source": [
    "cat 1.3/product_by_accumulate_by_recursion.scm"
   ]
  },
  {
   "cell_type": "markdown",
   "metadata": {},
   "source": [
    "#### Test:"
   ]
  },
  {
   "cell_type": "markdown",
   "metadata": {},
   "source": [
    "1.summation"
   ]
  },
  {
   "cell_type": "code",
   "execution_count": 20,
   "metadata": {
    "collapsed": false
   },
   "outputs": [
    {
     "name": "stdout",
     "output_type": "stream",
     "text": [
      "(load \"1.3/sum_by_accumulate_by_recursion.scm\")\r\n",
      "\r\n",
      "(define (identity x) x)\r\n",
      "(define (inc n) (+ n 1))\r\n",
      "\r\n",
      "(define (sum-integers a b)\r\n",
      "  (sum identity a inc b))\r\n"
     ]
    }
   ],
   "source": [
    "cat 1.3/sum_integers_by_accumulate_by_recursion.scm"
   ]
  },
  {
   "cell_type": "raw",
   "metadata": {},
   "source": [
    "Running Instance:\n",
    "\n",
    "1 ]=> (load \"1.3/sum_integers_by_accumulate_by_recursion.scm\")\n",
    "\n",
    ";Loading \"1.3/sum_integers_by_accumulate_by_recursion.scm\"...\n",
    ";  Loading \"1.3/sum_by_accumulate_by_recursion.scm\"...\n",
    ";    Loading \"1.3/accumulate_by_recursion.scm\"... done\n",
    ";  ... done\n",
    ";... done\n",
    ";Value: sum-integers\n",
    "\n",
    "1 ]=> (sum-integers 1 10000)\n",
    "\n",
    ";Value: 50005000"
   ]
  },
  {
   "cell_type": "markdown",
   "metadata": {},
   "source": [
    "2.product"
   ]
  },
  {
   "cell_type": "code",
   "execution_count": 22,
   "metadata": {
    "collapsed": false
   },
   "outputs": [
    {
     "name": "stdout",
     "output_type": "stream",
     "text": [
      "(load \"1.3/product_by_accumulate_by_recursion.scm\")\r\n",
      "\r\n",
      "(define (pi-next n) (+ n 2))\r\n",
      "(define (pi-term a)\r\n",
      "    (* 1.0 (/ (* a (pi-next a)) (square (+ a 1)))))\r\n",
      "\r\n",
      "(define (product-pi a b)\r\n",
      "    (product pi-term a pi-next b))\r\n"
     ]
    }
   ],
   "source": [
    "cat 1.3/product_pi_by_accumulate_by_recursion.scm"
   ]
  },
  {
   "cell_type": "raw",
   "metadata": {},
   "source": [
    "1 ]=> (load \"1.3/product_pi_by_accumulate_by_recursion.scm\")\n",
    "\n",
    ";Loading \"1.3/product_pi_by_accumulate_by_recursion.scm\"...\n",
    ";  Loading \"1.3/product_by_accumulate_by_recursion.scm\"...\n",
    ";    Loading \"1.3/accumulate_by_recursion.scm\"... done\n",
    ";  ... done\n",
    ";... done\n",
    ";Value: product-pi\n",
    "\n",
    "1 ]=> (* 4 (product-pi 2 1000))\n",
    "\n",
    ";Value: 3.1431607055322752\n",
    "\n",
    "1 ]=> (* 4 (product-pi 2 10000))\n",
    "\n",
    ";Value: 3.141749705738071\n",
    "\n",
    "1 ]=> (* 4 (product-pi 2 100000))\n",
    "\n",
    ";Aborting!: maximum recursion depth exceeded"
   ]
  },
  {
   "cell_type": "markdown",
   "metadata": {},
   "source": [
    "#### b. \n",
    "If your $accumulate$ procedure generates a recursive process, write one that generates an iterative process.If it generates an iterative process, write one that generates a recursive process."
   ]
  },
  {
   "cell_type": "markdown",
   "metadata": {},
   "source": [
    "1.The accumulate iterative procedure:"
   ]
  },
  {
   "cell_type": "code",
   "execution_count": 10,
   "metadata": {
    "collapsed": false
   },
   "outputs": [
    {
     "name": "stdout",
     "output_type": "stream",
     "text": [
      "(define (accumulate combiner null-value term a next b)\r\n",
      "  (define (iter a result)\r\n",
      "    (if (> a b) result\r\n",
      "        (iter (next a)\r\n",
      "              (combiner (term a) result))))\r\n",
      "  (iter a null-value))\r\n"
     ]
    }
   ],
   "source": [
    "cat 1.3/accumulate_by_iteration.scm"
   ]
  },
  {
   "cell_type": "markdown",
   "metadata": {},
   "source": [
    "2.Redefine the sum procedure by way of the accumulate iterative procedure:"
   ]
  },
  {
   "cell_type": "code",
   "execution_count": 13,
   "metadata": {
    "collapsed": false
   },
   "outputs": [
    {
     "name": "stdout",
     "output_type": "stream",
     "text": [
      "(load \"1.3/accumulate_by_iteration.scm\")\r\n",
      "\r\n",
      "(define (sum term a next b)\r\n",
      "  (accumulate + 0 term a next b))\r\n"
     ]
    }
   ],
   "source": [
    "cat 1.3/sum_by_accumulate_by_iteration.scm"
   ]
  },
  {
   "cell_type": "markdown",
   "metadata": {},
   "source": [
    "3.Redefine the $product$ procedure by way of the $accumulate$ iterative procedure:"
   ]
  },
  {
   "cell_type": "code",
   "execution_count": 15,
   "metadata": {
    "collapsed": false
   },
   "outputs": [
    {
     "name": "stdout",
     "output_type": "stream",
     "text": [
      "(load \"1.3/accumulate_by_iteration.scm\")\r\n",
      "\r\n",
      "(define (product term a next b)\r\n",
      "  (accumulate * 1 term a next b))\r\n"
     ]
    }
   ],
   "source": [
    "cat 1.3/product_by_accumulate_by_iteration.scm"
   ]
  },
  {
   "cell_type": "markdown",
   "metadata": {},
   "source": [
    "#### Test:"
   ]
  },
  {
   "cell_type": "markdown",
   "metadata": {},
   "source": [
    "1.summation"
   ]
  },
  {
   "cell_type": "code",
   "execution_count": 21,
   "metadata": {
    "collapsed": false
   },
   "outputs": [
    {
     "name": "stdout",
     "output_type": "stream",
     "text": [
      "(load \"1.3/sum_by_accumulate_by_iteration.scm\")\r\n",
      "\r\n",
      "(define (identity x) x)\r\n",
      "(define (inc n) (+ n 1))\r\n",
      "\r\n",
      "(define (sum-integers a b)\r\n",
      "  (sum identity a inc b))\r\n"
     ]
    }
   ],
   "source": [
    "cat 1.3/sum_integers_by_accumulate_by_iteration.scm"
   ]
  },
  {
   "cell_type": "raw",
   "metadata": {},
   "source": [
    "Running Instance:\n",
    "\n",
    "1 ]=> (load \"1.3/sum_integers_by_accumulate_by_iteration.scm\")\n",
    "\n",
    ";Loading \"1.3/sum_integers_by_accumulate_by_iteration.scm\"...\n",
    ";  Loading \"1.3/sum_by_accumulate_by_iteration.scm\"...\n",
    ";    Loading \"1.3/accumulate_by_iteration.scm\"... done\n",
    ";  ... done\n",
    ";... done\n",
    ";Value: sum-integers\n",
    "\n",
    "1 ]=> (sum-integers 1 10000)\n",
    "\n",
    ";Value: 50005000"
   ]
  },
  {
   "cell_type": "markdown",
   "metadata": {},
   "source": [
    "2.product"
   ]
  },
  {
   "cell_type": "code",
   "execution_count": 23,
   "metadata": {
    "collapsed": false
   },
   "outputs": [
    {
     "name": "stdout",
     "output_type": "stream",
     "text": [
      "(load \"1.3/product_by_accumulate_by_iteration.scm\")\r\n",
      "\r\n",
      "(define (pi-next n) (+ n 2))\r\n",
      "(define (pi-term a)\r\n",
      "    ( * 1.0 (/ (* a (pi-next a)) (square (+ a 1)))))\r\n",
      "\r\n",
      "(define (product-pi a b)\r\n",
      "    (product pi-term a pi-next b))\r\n"
     ]
    }
   ],
   "source": [
    "cat 1.3/product_pi_by_accumulate_by_iteration.scm"
   ]
  },
  {
   "cell_type": "raw",
   "metadata": {},
   "source": [
    "1 ]=> (load \"1.3/product_pi_by_accumulate_by_iteration.scm\")\n",
    "\n",
    ";Loading \"1.3/product_pi_by_accumulate_by_iteration.scm\"...\n",
    ";  Loading \"1.3/product_by_accumulate_by_iteration.scm\"...\n",
    ";    Loading \"1.3/accumulate_by_iteration.scm\"... done\n",
    ";  ... done\n",
    ";... done\n",
    ";Value: product-pi\n",
    "\n",
    "1 ]=> (* 4 (product-pi 2 1000))\n",
    "\n",
    ";Value: 3.1431607055322712\n",
    "\n",
    "1 ]=> (* 4 (product-pi 2 10000))\n",
    "\n",
    ";Value: 3.141749705738071\n",
    "\n",
    "1 ]=> (* 4 (product-pi 2 100000))\n",
    "\n",
    ";Value: 3.141608361278168\n",
    "\n",
    "1 ]=> (* 4 (product-pi 2 10000000))\n",
    "\n",
    ";Value: 3.1415928106708866\n",
    "\n",
    "1 ]=> (* 4 (product-pi 2 100000000))\n",
    "\n",
    ";Value: 3.141592667943379"
   ]
  },
  {
   "cell_type": "markdown",
   "metadata": {},
   "source": [
    "### Exercise 1.33:\n",
    "You can obtain an even more general version of $accumulate$ (Exercise 1.32) by introducing the notion of a $filter$ on the terms to be combined. That is, combine only those terms derived from values in the range that satisfy a specified condition. The resulting $filtered$-$accumulate$ abstraction takes the same arguments as $accumulate$, together with an additional predicate of one argument that specifies the $filter$. Write filtered accumulate as a procedure.Show how to express the following using $filtered$-$accumulate$:"
   ]
  },
  {
   "cell_type": "markdown",
   "metadata": {},
   "source": [
    "### Answer:"
   ]
  },
  {
   "cell_type": "markdown",
   "metadata": {},
   "source": [
    "#### A.The filtered-accumulate recursive procedure:"
   ]
  },
  {
   "cell_type": "code",
   "execution_count": 24,
   "metadata": {
    "collapsed": false
   },
   "outputs": [
    {
     "name": "stdout",
     "output_type": "stream",
     "text": [
      "(define (filtered-accumulate combine null-value term a next b valid)\r\n",
      "  (if (> a b) null-value\r\n",
      "      (if (valid a)\r\n",
      "         (combine (term a)\r\n",
      "                  (filtered-accumulate combine\r\n",
      "                                       null-value\r\n",
      "                                       term\r\n",
      "                                       (next a)\r\n",
      "                                       next\r\n",
      "                                       b\r\n",
      "                                       valid))\r\n",
      "        (filtered-accumulate combine\r\n",
      "       \t                     null-value\r\n",
      "       \t                     term\r\n",
      "       \t                     (next a)\r\n",
      "       \t                     next\r\n",
      "       \t                     b\r\n",
      "       \t                     valid))))\r\n"
     ]
    }
   ],
   "source": [
    "cat 1.3/filtered_accumulate_by_recursion.scm"
   ]
  },
  {
   "cell_type": "markdown",
   "metadata": {},
   "source": [
    "#### a. \n",
    "the $sum$ of the squares of the prime numbers in the interval a to b (assuming that you have a $prime$ predicate already written)"
   ]
  },
  {
   "cell_type": "code",
   "execution_count": 25,
   "metadata": {
    "collapsed": false
   },
   "outputs": [
    {
     "name": "stdout",
     "output_type": "stream",
     "text": [
      "(load \"1.3/filtered_accumulate_by_recursion.scm\")\r\n",
      "(load \"1.2/prime_by_search_divisor1.scm\")\r\n",
      "\r\n",
      "(define (inc n) (+ n 1))\r\n",
      "\r\n",
      "(define (sum-prime a b)\r\n",
      "  (filtered-accumulate + 0 square a inc b prime))\r\n"
     ]
    }
   ],
   "source": [
    "cat 1.3/sum_square_of_prime_by_filtered_accumulate_by_recursion.scm"
   ]
  },
  {
   "cell_type": "raw",
   "metadata": {},
   "source": [
    "Running Instance:\n",
    "\n",
    "1 ]=> (load \"1.3/sum_square_of_prime_by_filtered_accumulate_by_recursion.scm\")\n",
    "\n",
    ";Loading \"1.3/sum_square_of_prime_by_filtered_accumulate_by_recursion.scm\"...\n",
    ";  Loading \"1.3/filtered_accumulate_by_recursion.scm\"... done\n",
    ";  Loading \"1.2/prime_by_search_divisor1.scm\"... done\n",
    ";... done\n",
    ";Value: sum-prime\n",
    "\n",
    "1 ]=> (sum-prime 1 5)\n",
    "\n",
    ";Value: 38\n",
    "\n",
    "1 ]=> (sum-prime 1 10)\n",
    "\n",
    ";Value: 87\n",
    "\n",
    "1 ]=> (sum-prime 10 100)\n",
    "\n",
    ";Value: 65709"
   ]
  },
  {
   "cell_type": "markdown",
   "metadata": {},
   "source": [
    "#### b. \n",
    "the $product$ of all the positive integers less than n that are relatively prime to n  \n",
    "(i.e., all positive integers $i < n$ such that $GCD(i,n) = 1$)."
   ]
  },
  {
   "cell_type": "code",
   "execution_count": 26,
   "metadata": {
    "collapsed": false
   },
   "outputs": [
    {
     "name": "stdout",
     "output_type": "stream",
     "text": [
      "(load \"1.3/filtered_accumulate_by_recursion.scm\")\r\n",
      "(load \"1.2/gcd_by_Euclid_Algorithm.scm\")\r\n",
      "\r\n",
      "(define (identity x) x)\r\n",
      "(define (coprime a b) (and (< a b) (= 1 (gcd a b))))\r\n",
      "(define (inc n) (+ n 1))\r\n",
      "\r\n",
      "(define (product-of-coprimes n)\r\n",
      "  (filtered-accumulate * 1 identity 1 inc n (lambda (x) (coprime x n))))\r\n"
     ]
    }
   ],
   "source": [
    "cat 1.3/product_of_coprimes.scm"
   ]
  },
  {
   "cell_type": "raw",
   "metadata": {},
   "source": [
    "Running Instance:\n",
    "\n",
    "1 ]=> (load \"1.3/product_of_coprimes.scm\")\n",
    "\n",
    ";Loading \"1.3/product_of_coprimes.scm\"...\n",
    ";  Loading \"1.3/filtered_accumulate_by_recursion.scm\"... done\n",
    ";  Loading \"1.2/gcd_by_Euclid_Algorithm.scm\"... done\n",
    ";... done\n",
    ";Value: product-of-coprimes\n",
    "\n",
    "1 ]=> (product-of-coprimes 5)\n",
    "\n",
    ";Value: 24\n",
    "\n",
    "1 ]=> (product-of-coprimes 10)\n",
    "\n",
    ";Value: 189\n",
    "\n",
    "1 ]=> (product-of-coprimes 100)\n",
    "\n",
    ";Value: 426252881942771063138176712755660145456313428952105524817872601"
   ]
  },
  {
   "cell_type": "markdown",
   "metadata": {},
   "source": [
    "#### B.The filtered-accumulate iterative procedure:"
   ]
  },
  {
   "cell_type": "code",
   "execution_count": 1,
   "metadata": {
    "collapsed": false
   },
   "outputs": [
    {
     "name": "stdout",
     "output_type": "stream",
     "text": [
      "(define (filtered-accumulate combine null-value term a next b valid)\r\n",
      "  (define (iter i result)\r\n",
      "    (cond ((> i b) result)\r\n",
      "          ((valid i)\r\n",
      "           (iter (next i) (combine (term i) result)))\r\n",
      "          (else (iter (next i) result))))\r\n",
      "  (iter a null-value))\r\n"
     ]
    }
   ],
   "source": [
    "cat 1.3/filtered_accumulate_by_iteration.scm"
   ]
  },
  {
   "cell_type": "markdown",
   "metadata": {
    "collapsed": true
   },
   "source": [
    "#### a.\n",
    "the sum of the cubes of the prime numbers in the interval a to b:"
   ]
  },
  {
   "cell_type": "code",
   "execution_count": 2,
   "metadata": {
    "collapsed": false
   },
   "outputs": [
    {
     "name": "stdout",
     "output_type": "stream",
     "text": [
      "(load \"1.3/filtered_accumulate_by_iteration.scm\")\r\n",
      "(load \"1.2/prime_by_search_divisor1.scm\")\r\n",
      "\r\n",
      "(define (inc n) (+ n 1))\r\n",
      "(define (cube x) (* x x x))\r\n",
      "\r\n",
      "(define (sum-prime a b)\r\n",
      "  (filtered-accumulate + 0 cube a inc b prime))\r\n"
     ]
    }
   ],
   "source": [
    "cat 1.3/sum_cube_of_prime_by_filtered_accumulate_by_iteration.scm"
   ]
  },
  {
   "cell_type": "raw",
   "metadata": {},
   "source": [
    "Running Instance:\n",
    "\n",
    "1 ]=> (load \"1.3/sum_cube_of_prime_by_filtered_accumulate_by_iteration.scm\")\n",
    "\n",
    ";Loading \"1.3/sum_cube_of_prime_by_filtered_accumulate_by_iteration.scm\"...\n",
    ";  Loading \"1.3/filtered_accumulate_by_iteration.scm\"... done\n",
    ";  Loading \"1.2/prime_by_search_divisor1.scm\"... done\n",
    ";... done\n",
    ";Value: sum-prime\n",
    "\n",
    "1 ]=> (sum-prime 1 5)\n",
    "\n",
    ";Value: 160\n",
    "\n",
    "1 ]=> (sum-prime 1 10)\n",
    "\n",
    ";Value: 503\n",
    "\n",
    "1 ]=> (sum-prime 10 100)\n",
    "\n",
    ";Value: 4695947"
   ]
  },
  {
   "cell_type": "markdown",
   "metadata": {},
   "source": [
    "#### b.\n",
    "the product of all the positive even integers less than n to n:"
   ]
  },
  {
   "cell_type": "code",
   "execution_count": 3,
   "metadata": {
    "collapsed": false
   },
   "outputs": [
    {
     "name": "stdout",
     "output_type": "stream",
     "text": [
      "(load \"1.3/filtered_accumulate_by_iteration.scm\")\r\n",
      "\r\n",
      "(define (identity x) x)\r\n",
      "(define (inc n) (+ n 1))\r\n",
      "\r\n",
      "(define (sum-even-integers n)\r\n",
      "  (filtered-accumulate + 0 identity 1 inc n even?))\r\n"
     ]
    }
   ],
   "source": [
    "cat 1.3/sum_even_integers_by_filtered_accumulate_by_iteration.scm"
   ]
  },
  {
   "cell_type": "raw",
   "metadata": {},
   "source": [
    "Running Instance:\n",
    "\n",
    "1 ]=> (load \"1.3/sum_even_integers_by_filtered_accumulate_by_iteration.scm\")\n",
    "\n",
    ";Loading \"1.3/sum_even_integers_by_filtered_accumulate_by_iteration.scm\"...\n",
    ";  Loading \"1.3/filtered_accumulate_by_iteration.scm\"... done\n",
    ";... done\n",
    ";Value: sum-even-integers\n",
    "\n",
    "1 ]=> (sum-even-integers 10)\n",
    "\n",
    ";Value: 30\n",
    "\n",
    "1 ]=> (sum-even-integers 100)\n",
    "\n",
    ";Value: 2550\n",
    "\n",
    "1 ]=> (sum-even-integers 1000)\n",
    "\n",
    ";Value: 250500"
   ]
  },
  {
   "cell_type": "markdown",
   "metadata": {},
   "source": [
    "## 1.3.2 Constructing Procedures Using $lambda$"
   ]
  },
  {
   "cell_type": "markdown",
   "metadata": {},
   "source": [
    "In using $sum$ as in Section 1.3.1, it seems terribly awkward to have to define trivial procedures such as $pi$-$term$ and $pi$-$next$ just so we can use them as arguments to our higher-order procedure. Rather than define $pi$-$next$ and $pi$-$term$, it would be more convenient to have a way to directly specify “the procedure that returns its input incremented by 4” and “the procedure that returns the reciprocal of its input times its input plus 2.” We can do this by introducing the special form $lambda$, which creates procedures. Using $lambda$ we can describe what we want as"
   ]
  },
  {
   "cell_type": "raw",
   "metadata": {},
   "source": [
    "(lambda (x) (+ x 4))"
   ]
  },
  {
   "cell_type": "markdown",
   "metadata": {},
   "source": [
    "and"
   ]
  },
  {
   "cell_type": "raw",
   "metadata": {},
   "source": [
    "(lambda (x) (/ 1.0 (* x (+ x 2))))"
   ]
  },
  {
   "cell_type": "markdown",
   "metadata": {},
   "source": [
    "Then our $pi$-$sum$ procedure can be expressed without defining any auxiliary procedures as"
   ]
  },
  {
   "cell_type": "code",
   "execution_count": 4,
   "metadata": {
    "collapsed": false
   },
   "outputs": [
    {
     "name": "stdout",
     "output_type": "stream",
     "text": [
      "(load \"1.3/sum_by_recursion.scm\")\r\n",
      "\r\n",
      "(define (pi-sum a b)\r\n",
      "  (sum (lambda (x) (/ 1.0 (* x (+ x 2))))\r\n",
      "       a\r\n",
      "       (lambda (x) (+ x 4))\r\n",
      "       b))\r\n"
     ]
    }
   ],
   "source": [
    "cat 1.3/sum_pi_by_lambda_by_recursion.scm"
   ]
  },
  {
   "cell_type": "raw",
   "metadata": {},
   "source": [
    "Running Instance:\n",
    "\n",
    "1 ]=> (load \"1.3/sum_pi_by_lambda_by_recursion.scm\")\n",
    "\n",
    ";Loading \"1.3/sum_pi_by_lambda_by_recursion.scm\"...\n",
    ";  Loading \"1.3/sum_by_recursion.scm\"... done\n",
    ";... done\n",
    ";Value: pi-sum\n",
    "\n",
    "1 ]=> (* 8 (pi-sum 1 1000))\n",
    "\n",
    ";Value: 3.139592655589783\n",
    "\n",
    "1 ]=> (* 8 (pi-sum 1 10000))\n",
    "\n",
    ";Value: 3.141392653591793"
   ]
  },
  {
   "cell_type": "markdown",
   "metadata": {},
   "source": [
    "Again using $lambda$, we can write the $integral$ procedure without having to define the auxiliary procedure $add$-$dx$:"
   ]
  },
  {
   "cell_type": "code",
   "execution_count": 6,
   "metadata": {
    "collapsed": false
   },
   "outputs": [
    {
     "name": "stdout",
     "output_type": "stream",
     "text": [
      "(load \"1.3/sum_by_recursion.scm\")\r\n",
      "\r\n",
      "(define (integral f a b dx)\r\n",
      "  (* (sum f\r\n",
      "          (+ a (/ dx 2.0))\r\n",
      "          (lambda (x) (+ x dx))\r\n",
      "          b)\r\n",
      "     dx))\r\n"
     ]
    }
   ],
   "source": [
    "cat 1.3/compute_integral_for_function_by_lambda.scm"
   ]
  },
  {
   "cell_type": "raw",
   "metadata": {},
   "source": [
    "Running Instance:\n",
    "\n",
    "1 ]=> (load \"1.3/compute_integral_for_function_by_lambda.scm\")\n",
    "\n",
    ";Loading \"1.3/compute_integral_for_function_by_lambda.scm\"...\n",
    ";  Loading \"1.3/sum_by_recursion.scm\"... done\n",
    ";... done\n",
    ";Value: integral\n",
    "\n",
    "1 ]=> (integral cube 0 1 0.01)\n",
    "\n",
    ";Value: .24998750000000042\n",
    "\n",
    "1 ]=> (integral cube 0 1 0.001)\n",
    "\n",
    ";Value: .249999875000001\n",
    "\n",
    "1 ]=> (integral cube 0 1 0.0001)\n",
    "\n",
    ";Value: .24999999874993412"
   ]
  },
  {
   "cell_type": "markdown",
   "metadata": {},
   "source": [
    "In general, $lambda$ is used to create procedures in the same way as $define$, except that no name is specified for the procedure:"
   ]
  },
  {
   "cell_type": "raw",
   "metadata": {},
   "source": [
    "(lambda (⟨formal-parameters⟩) ⟨body⟩)"
   ]
  },
  {
   "cell_type": "markdown",
   "metadata": {},
   "source": [
    "The resulting procedure is just as much a procedure as one that is created using $define$.   \n",
    "The only difference is that it has not been associated with any name in the environment. In fact,"
   ]
  },
  {
   "cell_type": "raw",
   "metadata": {},
   "source": [
    "(define (plus4 x) (+ x 4))"
   ]
  },
  {
   "cell_type": "markdown",
   "metadata": {},
   "source": [
    "is equivalent to"
   ]
  },
  {
   "cell_type": "raw",
   "metadata": {},
   "source": [
    "(define plus4 (lambda (x) (+ x 4)))"
   ]
  },
  {
   "cell_type": "markdown",
   "metadata": {},
   "source": [
    "Like any expression that has a procedure as its value, a $lambda$ expression can be used as the operator in a combination such as"
   ]
  },
  {
   "cell_type": "raw",
   "metadata": {},
   "source": [
    "1 ]=> ((lambda (x y z) (+ x y (square z))) 1 2 3)\n",
    "\n",
    ";Value: 12"
   ]
  },
  {
   "cell_type": "markdown",
   "metadata": {},
   "source": [
    "### Using $let$ to create $local$ $variables$"
   ]
  },
  {
   "cell_type": "markdown",
   "metadata": {},
   "source": [
    "Another use of $lambda$ is in creating $local$ $variables$.   \n",
    "We often need $local$ $variables$ in our procedures other than those that have been bound as $formal$ $parameters$.   \n",
    "For example, suppose we wish to compute the function"
   ]
  },
  {
   "cell_type": "markdown",
   "metadata": {},
   "source": [
    "$$f(x,y) = x(1 + xy)^2 + y(1 - y) + (1 + xy)(1 -y),$$"
   ]
  },
  {
   "cell_type": "markdown",
   "metadata": {},
   "source": [
    "which we could also express as"
   ]
  },
  {
   "cell_type": "markdown",
   "metadata": {},
   "source": [
    "$$a = 1 + xy,$$\n",
    "$$b = 1 - y,$$\n",
    "$$f(x,y) = xa^2 + yb + ab.$$"
   ]
  },
  {
   "cell_type": "markdown",
   "metadata": {},
   "source": [
    "In writing a procedure to compute $f$ , we would like to include as $local$ $variables$ not only $x$ and $y$ but also the names of intermediate quantities like $a$ and $b$. One way to accomplish this is to use an auxiliary procedure to bind the $local$ $variables$:"
   ]
  },
  {
   "cell_type": "raw",
   "metadata": {},
   "source": [
    "(define (f x y)\n",
    "  (define (f-helper a b)\n",
    "   (+ (* x (square a))\n",
    "     (* y b)\n",
    "     (* a b)))\n",
    "  (f-helper (+ 1 (* x y)) (- 1 y)))"
   ]
  },
  {
   "cell_type": "markdown",
   "metadata": {},
   "source": [
    "Of course, we could use a $lambda$ expression to specify an anonymous procedure for binding our $local$ $variables$. The body of $f$ then becomes a single call to that procedure:"
   ]
  },
  {
   "cell_type": "raw",
   "metadata": {},
   "source": [
    "(define (f x y)\n",
    "  ((lambda (a b)\n",
    "   (+ (* x (square a))\n",
    "     (* y b)\n",
    "     (* a b)))\n",
    "  (+ 1 (* x y))\n",
    "  (- 1 y)))"
   ]
  },
  {
   "cell_type": "markdown",
   "metadata": {},
   "source": [
    "This construct is so useful that there is a special form called $let$ to make its use more convenient.  \n",
    "Using $let$, the $f$ procedure could be written as"
   ]
  },
  {
   "cell_type": "raw",
   "metadata": {},
   "source": [
    "(define (f x y)\n",
    "  (let ((a (+ 1 (* x y)))\n",
    "`     (b (- 1 y)))\n",
    "   (+ (* x (square a))\n",
    "     (* y b)\n",
    "     (* a b))))"
   ]
  },
  {
   "cell_type": "markdown",
   "metadata": {},
   "source": [
    "The general form of a $let$ expression is"
   ]
  },
  {
   "cell_type": "raw",
   "metadata": {},
   "source": [
    "(let ((⟨var1⟩ ⟨exp1⟩)\n",
    "`    (⟨var2⟩ ⟨exp2⟩)\n",
    "     ...\n",
    "`    (⟨varn⟩ ⟨expn⟩))\n",
    "  ⟨body⟩)"
   ]
  },
  {
   "cell_type": "markdown",
   "metadata": {},
   "source": [
    "The first part of the $let$ expression is a list of $name$-$expression$ pairs.  \n",
    "When the $let$ is evaluated, each $name$ is associated with the value of the corresponding $expression$.   \n",
    "The body of the $let$ is evaluated with these names bound as $local$ $variables$.   \n",
    "The way this happens is that the $let$ expression is interpreted as an alternate syntax for"
   ]
  },
  {
   "cell_type": "raw",
   "metadata": {},
   "source": [
    "((lambda (⟨var1⟩ ... ⟨varn⟩)\n",
    "   <body>)\n",
    "  <exp1>\n",
    "  ...\n",
    "  <expn>)"
   ]
  },
  {
   "cell_type": "markdown",
   "metadata": {},
   "source": [
    "No new mechanism is required in the interpreter in order to provide $local$ $variables$.   \n",
    "A $let$ expression is simply $syntactic$ $sugar$ for the underlying $lambda$ application"
   ]
  },
  {
   "cell_type": "markdown",
   "metadata": {},
   "source": [
    "We can see from this equivalence that the scope of a variable specified by a $let$ expression is the body of the $let$.   \n",
    "This implies that:"
   ]
  },
  {
   "cell_type": "markdown",
   "metadata": {},
   "source": [
    "$\\bullet$ $let$ allows one to bind variables as locally as possible to where they are to be used. For example, if the value of $x$ is 5, the value of the expression"
   ]
  },
  {
   "cell_type": "raw",
   "metadata": {},
   "source": [
    "(+ (let ((x 3)) (+ x (* x 10)))\n",
    "`  x)"
   ]
  },
  {
   "cell_type": "markdown",
   "metadata": {},
   "source": [
    "is 38. Here, the $x$ in the body of the $let$ is 3, so the value of the let expression is 33.   \n",
    "On the other hand, the $x$ that is the second argument to the outermost $+$ is still 5."
   ]
  },
  {
   "cell_type": "markdown",
   "metadata": {},
   "source": [
    "$\\bullet$ The variables’values are computed outside the $let$. This matters when the expressions that provide the values for the $local$ $variables$ depend upon variables having the same names as the local variables themselves. For example, if the value of $x$ is 2, the expression"
   ]
  },
  {
   "cell_type": "raw",
   "metadata": {},
   "source": [
    "(let ((x 3) \n",
    "`    (y (+ x 2)))\n",
    "  (* x y))"
   ]
  },
  {
   "cell_type": "markdown",
   "metadata": {},
   "source": [
    "will have the value 12 because, inside the body of the $let$, $x$ will be 3 and $y$ will be 4 (which is the outer $x$ plus 2)."
   ]
  },
  {
   "cell_type": "markdown",
   "metadata": {},
   "source": [
    "Sometimes we can use internal definitions to get the same effect as with $let$. For example, we could have defined the procedure $f$ above as"
   ]
  },
  {
   "cell_type": "raw",
   "metadata": {},
   "source": [
    "(define (f x y)\n",
    "  (define a (+ 1 (* x y)))\n",
    "  (define b (- 1 y))\n",
    "  (+ (* x (square a))\n",
    "    (* y b)\n",
    "    (* a b)))"
   ]
  },
  {
   "cell_type": "markdown",
   "metadata": {},
   "source": [
    "We prefer,however,to use $let$ in situations like this and to use $internal$ $define$ only for $internal$ $procedures$."
   ]
  },
  {
   "cell_type": "markdown",
   "metadata": {},
   "source": [
    "### Exercise 1.34: \n",
    "Suppose we define the procedure"
   ]
  },
  {
   "cell_type": "raw",
   "metadata": {},
   "source": [
    "(define (f g) (g 2))"
   ]
  },
  {
   "cell_type": "markdown",
   "metadata": {},
   "source": [
    "Then we have"
   ]
  },
  {
   "cell_type": "raw",
   "metadata": {},
   "source": [
    "(f square)\n",
    "4\n",
    "(f (lambda (z) (* z (+ z 1))))\n",
    "6"
   ]
  },
  {
   "cell_type": "markdown",
   "metadata": {},
   "source": [
    "What happens if we (perversely) ask the interpreter to evaluate the combination $(f$ $f)$? Explain."
   ]
  },
  {
   "cell_type": "markdown",
   "metadata": {},
   "source": [
    "## 1.3.3 Procedures as General Methods"
   ]
  },
  {
   "cell_type": "markdown",
   "metadata": {},
   "source": [
    "### Example 3: Finding roots of equations by the half-interval method"
   ]
  },
  {
   "cell_type": "markdown",
   "metadata": {},
   "source": [
    "The $half$-$interval$ $method$ is a simple but powerful technique for finding roots of an equation $f(x) = 0$, where $f$ is a continuous function. The idea is that, if we are given points $a$ and $b$ such that $f(a) < 0 < f(b)$,then $f$ must have at least one zero between $a$ and $b$. To locate a zero,let $x$ be the average of $a$ and $b$, and compute $f(x)$. If $f(x) > 0$, then $f$ must have a zero between $a$ and $x$. If $f(x) < 0$, then $f$ must have a zero between $x$ and $b$. Continuing in this way, we can identify smaller and smaller intervals on which $f$ must have a zero. When we reach a point where the interval is small enough, the process stops. Since the interval of uncertainty is reduced by half at each step of the process, the number of steps required grows as $\\Theta(log(L/T))$, where $L$ is the length of the original interval and $T$ is the error tolerance (that is, the size of the interval we will consider “small enough”). Here is a procedure that implements this strategy:"
   ]
  },
  {
   "cell_type": "raw",
   "metadata": {},
   "source": [
    "(define (average a b) (/ (+ a b) 2.0))\n",
    "(define (close-enough? x y) (< (abs (- x y)) 0.001))\n",
    "\n",
    "(define (search f neg-point pos-point)\n",
    "  (let ((midpoint (average neg-point pos-point)))\n",
    "   (if (close-enough neg-point pos-point) midpoint\n",
    "      (let ((test-value (f midpoint)))\n",
    "       (cond ((positive? test-value) (search f neg-point midpoint))\n",
    "           ((negative? test-value) (search f midpoint pos-point))\n",
    "           (else midpoint))))))"
   ]
  },
  {
   "cell_type": "markdown",
   "metadata": {},
   "source": [
    "$search$ is awkward to use directly, because we can accidentally give it points at which $f$’s values do not have the required sign, in which case we get a wrong answer. Instead we will use search via the following procedure, which checks to see which of the endpoints has a negative function value and which has a positive value, and calls the search procedure accordingly. If the function has the same sign on the two given points, the half-interval method cannot be used, in which case the procedure signals an error."
   ]
  },
  {
   "cell_type": "raw",
   "metadata": {},
   "source": [
    "(define (half-interval-method f a b)\n",
    "  (let ((a-value (f a)) (b-value (f b)))\n",
    "   (cond ((and (negative? a-value) (positive? b-value)) (search f a b))\n",
    "       ((and (negative? b-value) (posivive? a-value)) (search f b a))\n",
    "       (else (error \"Values are not of opposite sign\" a b)))))"
   ]
  },
  {
   "cell_type": "markdown",
   "metadata": {},
   "source": [
    "We can group the processes above:"
   ]
  },
  {
   "cell_type": "code",
   "execution_count": 1,
   "metadata": {
    "collapsed": false
   },
   "outputs": [
    {
     "name": "stdout",
     "output_type": "stream",
     "text": [
      "(define (average a b) (/ (+ a b) 2.0))\r\n",
      "(define (close-enough x y) (< (abs (- x y)) 0.001))\r\n",
      "\r\n",
      "(define (search f neg-point pos-point)\r\n",
      "  (let ((midpoint (average neg-point pos-point)))\r\n",
      "    (if (close-enough neg-point pos-point) midpoint\r\n",
      "      (let ((test-value (f midpoint)))\r\n",
      "        (cond ((positive? test-value) (search f neg-point midpoint))\r\n",
      "              ((negative? test-value) (search f midpoint pos-point))\r\n",
      "              (else midpoint))))))\r\n",
      "\r\n",
      "(define (half-interval-method f a b)\r\n",
      "  (let ((a-value (f a)) (b-value (f b)))\r\n",
      "    (cond ((and (negative? a-value) (positive? b-value)) (search f a b))\r\n",
      "          ((and (negative? b-value) (positive? a-value)) (search f b a))\r\n",
      "          (else (error \"Values are not of opposite sign\" a b)))))\r\n"
     ]
    }
   ],
   "source": [
    "cat 1.3/half_interval_method.scm"
   ]
  },
  {
   "cell_type": "markdown",
   "metadata": {},
   "source": [
    "The following example uses the $half$-$interval$ $method$ to approximate $\\pi$ as the root between 2 and 4 of $sin x = 0$:"
   ]
  },
  {
   "cell_type": "raw",
   "metadata": {},
   "source": [
    "1 ]=> (load \"1.3/half_interval_method.scm\")\n",
    "\n",
    ";Loading \"1.3/half_interval_method.scm\"... done\n",
    ";Value: half-interval-method\n",
    "\n",
    "1 ]=> (half-interval-method sin 2.0 4.0)\n",
    "\n",
    ";Value: 3.14111328125"
   ]
  },
  {
   "cell_type": "markdown",
   "metadata": {},
   "source": [
    "Here is another example, using the $half$-$interval$ $method$ to search for a root of the equation $x^3 - 2x - 3 = 0$ between 1 and 2:"
   ]
  },
  {
   "cell_type": "raw",
   "metadata": {},
   "source": [
    "1 ]=> (load \"1.3/half_interval_method.scm\")\n",
    "\n",
    ";Loading \"1.3/half_interval_method.scm\"... done\n",
    ";Value: half-interval-method\n",
    "\n",
    "1 ]=> (half-interval-method (lambda (x) (- (* x x x) (* 2 x) 3)) 1.0 2.0)\n",
    "\n",
    ";Value: 1.89306640625"
   ]
  },
  {
   "cell_type": "markdown",
   "metadata": {},
   "source": [
    "### Example 4: Finding fixed points of functions"
   ]
  },
  {
   "cell_type": "markdown",
   "metadata": {
    "collapsed": true
   },
   "source": [
    "A number $x$ is called a $fixed$ $point$ of a function $f$ if $x$ satisfies the equation $f(x) = x$. For some functions $f$ we can locate a $fixed$ $point$ by beginning with an initial $guess$ and applying $f$ repeatedly,"
   ]
  },
  {
   "cell_type": "markdown",
   "metadata": {
    "collapsed": true
   },
   "source": [
    "$$f(x),\\;\\;\\;f(f(x)),\\;\\;\\;f(f(f(x))),\\;\\;\\;\\ldots,$$"
   ]
  },
  {
   "cell_type": "markdown",
   "metadata": {
    "collapsed": true
   },
   "source": [
    "until the value does not change very much. Using this idea, we can devise a procedure $fixed$-$point$ that takes as inputs a function and an initial guess and produces an approximation to a $fixed$ $point$ of the function. We apply the function repeatedly until we find two successive values whose difference is less than some prescribed tolerance:"
   ]
  },
  {
   "cell_type": "code",
   "execution_count": 1,
   "metadata": {
    "collapsed": false
   },
   "outputs": [
    {
     "name": "stdout",
     "output_type": "stream",
     "text": [
      "(define tolerance 0.00001)\r\n",
      "(define (fixed-point f first-guess)\r\n",
      "  (define (close-enough v1 v2)\r\n",
      "    (< (abs (- v1 v2)) tolerance))\r\n",
      "  (define (try guess)\r\n",
      "    (let ((next (f guess)))\r\n",
      "      (if (close-enough guess next)\r\n",
      "          next\r\n",
      "          (try next))))\r\n",
      "  (try first-guess))\r\n"
     ]
    }
   ],
   "source": [
    "cat 1.3/fixed_point_of_function.scm"
   ]
  },
  {
   "cell_type": "markdown",
   "metadata": {
    "collapsed": true
   },
   "source": [
    "For example, we can use this method to approximate the $fixed$ $point$ of the $cosine$ function, starting with 1 as an initial approximation:"
   ]
  },
  {
   "cell_type": "raw",
   "metadata": {
    "collapsed": true
   },
   "source": [
    "1 ]=> (load \"1.3/fixed_point_of_function.scm\")\n",
    "\n",
    ";Loading \"1.3/fixed_point_of_function.scm\"... done\n",
    ";Value: fixed-point\n",
    "\n",
    "1 ]=> (fixed-point cos 1.0)\n",
    "\n",
    ";Value: .7390822985224024"
   ]
  },
  {
   "cell_type": "markdown",
   "metadata": {
    "collapsed": true
   },
   "source": [
    "Similarly, we can find a solution to the equation $y = siny + cosy$:"
   ]
  },
  {
   "cell_type": "raw",
   "metadata": {
    "collapsed": true
   },
   "source": [
    "1 ]=> (fixed-point (lambda (y) (+ (sin y) (cos y))) 1.0)\n",
    "\n",
    ";Value: 1.2587315962971173"
   ]
  },
  {
   "cell_type": "markdown",
   "metadata": {
    "collapsed": true
   },
   "source": [
    "The $fixed$-$point$ process is reminiscent of the process we used for finding $square$ $roots$ in Section 1.1.7. Both are based on the idea of repeatedly improving a guess until the result satisfies some criterion. In fact, we can readily formulate the $square$-$root$ computation as a $fixed$-$point$ search. Computing the $square$ $root$ of some number $x$ requires finding a $y$ such that $y^2 = x$. Putting this equation into the equivalent form $y = x/y$,we recognize that we are looking for a fixed point of the function $y\\mapsto x=y$, and we can therefore try to compute $square$ $roots$ as"
   ]
  },
  {
   "cell_type": "raw",
   "metadata": {
    "collapsed": true
   },
   "source": [
    "(define (sqrt x) (fixed-point (lambda (y) (/ x y)) 1.0)"
   ]
  },
  {
   "cell_type": "markdown",
   "metadata": {},
   "source": [
    "Unfortunately, this $fixed$-$point$ $search$ does not converge. Consider an initial guess $y_1$. The next guess is $y_2 = x/y_1$ and the next guess is $y_3 = x/y_2 = x/(x/y_1) = y_1$. This results in an infinite loop in which the two guesses $y_1$ and $y_2$ repeat over and over, oscillating about the answer."
   ]
  },
  {
   "cell_type": "markdown",
   "metadata": {},
   "source": [
    "One way to control such oscillations is to prevent the guesses from changing so much. Since the answer is always between our guess $y$ and $x/y$, we can make a new guess that is not as far from $y$ as $x/y$ by averaging $y$ with $x/y$, so that the next guess after $y$ is $\\frac{1}{2}(y + x/y)$ instead of $x/y$. The process of making such a sequence of guesses is simply the process of looking for a fixed point of $y\\mapsto\\frac{1}{2}(y + x/y)$:"
   ]
  },
  {
   "cell_type": "raw",
   "metadata": {},
   "source": [
    "(define (sqrt x) (fixed-point (lambda (y) (average y (/ x y))) 1.0)"
   ]
  },
  {
   "cell_type": "markdown",
   "metadata": {},
   "source": [
    "(Note that $y = \\frac{1}{2}(y + x/y)$ is a simple transformation of the equation $y = x/y$; to derive it, add y to both sides of the equation and divide by 2.)"
   ]
  },
  {
   "cell_type": "markdown",
   "metadata": {},
   "source": [
    "With this modification, the $square$-$root$ procedure works. In fact, if we unravel the definitions, we can see that the sequence of approximations to the square root generated here is precisely the same as the one generated by our original $square$-$root$ procedure of Section 1.1.7. This approach of averaging successive approximations to a solution, a technique that we call $average$ $damping$, often aids the convergence of $fixed$-$point$ searches."
   ]
  },
  {
   "cell_type": "markdown",
   "metadata": {},
   "source": [
    "### Exercise 1.35: \n",
    "Show that the $golden$ $ratio$ $\\varphi$ (Section 1.2.2) is a $fixed$ $point$ of the transformation $x \\mapsto 1 + 1/x$, and use this fact to compute $\\varphi$ by means of the $fixed$-$point$ procedure."
   ]
  },
  {
   "cell_type": "markdown",
   "metadata": {},
   "source": [
    "### Exercise 1.36: \n",
    "Modify $fixed$-$point$ so that it prints the sequence of approximations it generates, using the newline and display primitives shown in Exercise 1.22. Then find a solution to $x^x = 1000$ by finding a fixed point of $x \\mapsto log(1000)/log(x)$. (Use Scheme’s primitive $log$ procedure, which computes natural logarithms.) Compare the number of steps this takes with and without $average$ $damping$. (Note that you cannot start $fixed$-$point$ with a guess of 1, as this would cause division by $log(1) = 0$.)"
   ]
  },
  {
   "cell_type": "markdown",
   "metadata": {},
   "source": [
    "### Exercise 1.37:"
   ]
  },
  {
   "cell_type": "markdown",
   "metadata": {},
   "source": [
    "a. An infinite $continued$ $fraction$ is an expression of the form"
   ]
  },
  {
   "cell_type": "markdown",
   "metadata": {},
   "source": [
    "$$f = \\cfrac{N_1}{D_1 + \\cfrac{N_2}{D_2 + \\cfrac{N_3}{D_3 + \\cdots}}}$$"
   ]
  },
  {
   "cell_type": "markdown",
   "metadata": {},
   "source": [
    "As an example, one can show that the infinite $continued$ $fraction$ expansion with the $N_i$ and the $D_i$ all equal to 1 produces $1/\\varphi$, where $\\varphi$ is the $golden$ $ratio$ (described in Section 1.2.2). One way to approximate an infinite continued fraction is to truncate the expansion after a given number of terms. Such a truncation—a so-called $k$-$term$ $finite$ $continued$ $fraction$—has the form"
   ]
  },
  {
   "cell_type": "markdown",
   "metadata": {},
   "source": [
    "$$\\cfrac{N_1}{D_1 + \\cfrac{N_2}{\\ddots + \\cfrac{N_k}{D_k}}}.$$"
   ]
  },
  {
   "cell_type": "markdown",
   "metadata": {},
   "source": [
    "Suppose that $n$ and $d$ are procedures of one argument (the term index $i$) that return the $N_i$ and $D_i$ of the terms of the continued fraction. Define a procedure $cont$-$frac$ such that evaluating ($cont$-$frac$ $n$ $d$ $k$) computes the value of the $k$-$term$ finite continued fraction.Check your procedure by approximating $1/\\varphi$ using"
   ]
  },
  {
   "cell_type": "raw",
   "metadata": {},
   "source": [
    "(cont-frac (lambda (i) 1.0) (lambda (i) 1.0) k)"
   ]
  },
  {
   "cell_type": "markdown",
   "metadata": {},
   "source": [
    "for successive values of $k$. How large must you make $k$ in order to get an approximation that is accurate to 4 decimal places?"
   ]
  },
  {
   "cell_type": "markdown",
   "metadata": {},
   "source": [
    "b. If your $cont$-$frac$ procedure generates a recursive process, write one that generates an iterative process. If it generates an iterative process, write one that generates a recursive process."
   ]
  },
  {
   "cell_type": "markdown",
   "metadata": {},
   "source": [
    "### Exercise 1.38: \n",
    "In 1737, the Swiss mathematician Leonhard Euler published a memoir $De$ $Fractionibus$ $Continuis$, which included a continued fraction expansion for $e$ $-$ $2$, where $e$ is the base of the natural logarithms. In this fraction, the $N_i$ are all $1$, and the $D_i$ are successively $1, 2, 1, 1, 4, 1, 1, 6, 1, 1, 8, \\ldots$. Write a program that uses your $cont$-$frac$ procedure from Exercise 1.37 to approximate $e$, based on Euler’s expansion."
   ]
  },
  {
   "cell_type": "markdown",
   "metadata": {},
   "source": [
    "### Exercise 1.39: \n",
    "A continued fraction representation of the $tangent$ function was published in 1770 by the German mathematician J.H. Lambert:"
   ]
  },
  {
   "cell_type": "markdown",
   "metadata": {},
   "source": [
    "$$\\tan x = \\cfrac{x}{1 - \\cfrac{x^2}{3 - \\cfrac{x^2}{5 - \\ldots}}}$$"
   ]
  },
  {
   "cell_type": "markdown",
   "metadata": {},
   "source": [
    "where $x$ is in radians. Define a procedure ($tan$-$cf$ $x$ $k$) that computes an approximation to the $tangent$ function based on Lambert’s formula. $k$ specifies the number of terms to compute, as in Exercise 1.37."
   ]
  },
  {
   "cell_type": "markdown",
   "metadata": {},
   "source": [
    "## 1.3.4 Procedures as Returned Values"
   ]
  },
  {
   "cell_type": "markdown",
   "metadata": {
    "collapsed": true
   },
   "source": [
    "The above examples demonstrate how the ability to pass procedures as arguments significantly enhances the expressive power of our programming language. We can achieve even more expressive power by creating procedures whose returned values are themselves procedures."
   ]
  },
  {
   "cell_type": "markdown",
   "metadata": {},
   "source": [
    "We can illustrate this idea by looking again at the fixed-point example described at the end of Section 1.3.3. We formulated a new version of the square-root procedure as a fixed-point search, starting with the observation that $\\sqrt{x}$ is a fixed-point of the function $y \\mapsto x/y$.Then we used average damping to make the approximations converge. Average damping is a useful general technique in itself. Namely, given a function $f$, we consider the function whose value at $x$ is equal to the average of $x$ and $f(x)$."
   ]
  },
  {
   "cell_type": "markdown",
   "metadata": {},
   "source": [
    "We can express the idea of average damping by means of the following procedure:"
   ]
  },
  {
   "cell_type": "raw",
   "metadata": {},
   "source": [
    "(define (average-damp f) (lambda (x) (average x (f x))))"
   ]
  },
  {
   "cell_type": "markdown",
   "metadata": {},
   "source": [
    "$average$-$damp$ is a procedure that takes as its argument a procedure $f$ and returns as its value a procedure (produced by the lambda) that,when applied to a number x, produces the average of $x$ and $(f\\;x)$. For example, applying $average$-$damp$ to the square procedure produces a procedure whose value at some number $x$ is the average of \n",
    "$x$ and $x^2$.Applying this resulting procedure to 10 returns the average of 10 and 100, or 55"
   ]
  },
  {
   "cell_type": "raw",
   "metadata": {},
   "source": [
    "((average-damp square) 10)\n",
    "55"
   ]
  },
  {
   "cell_type": "markdown",
   "metadata": {},
   "source": [
    "Using $average$-$damp$, we can reformulate the square-root procedure as follows:"
   ]
  },
  {
   "cell_type": "code",
   "execution_count": 1,
   "metadata": {
    "collapsed": false
   },
   "outputs": [
    {
     "name": "stdout",
     "output_type": "stream",
     "text": [
      "(load \"1.3/fixed_point_of_function.scm\")\r\n",
      "(load \"1.3/average_damp.scm\")\r\n",
      "\r\n",
      "(define (sqrt x)\r\n",
      "  (fixed-point (average-damp (lambda (y) (/ x y))) 1.0))\r\n"
     ]
    }
   ],
   "source": [
    "cat 1.3/square_root.scm"
   ]
  },
  {
   "cell_type": "markdown",
   "metadata": {},
   "source": [
    "Notice how this formulation makes explicit the three ideas in the method:fixed-point search, average damping, and the function $y \\mapsto x/y$. It is instructive to compare this formulation of the square-root method with the original version given in Section 1.1.7. Bear in mind that these procedures express the same process, and notice how much clearer the idea becomes when we express the process in terms of these abstractions. In\n",
    "general, there are many ways to formulate a process as a procedure. Experienced programmers know how to choose procedural formulations that are particularly perspicuous, and where useful elements of the process are exposed as separate entities that can be reused in other applications. As a simple example of $reuse$, notice that the cube root of $x$ is a fixed point of the function $y \\mapsto x/y^2$, so we can immediately generalize our square-root procedure to one that extracts cube roots:"
   ]
  },
  {
   "cell_type": "code",
   "execution_count": 2,
   "metadata": {
    "collapsed": false
   },
   "outputs": [
    {
     "name": "stdout",
     "output_type": "stream",
     "text": [
      "(load \"1.3/fixed_point_of_function.scm\")\r\n",
      "(load \"1.3/average_damp.scm\")\r\n",
      "\r\n",
      "(define (cube-root x)\r\n",
      "  (fixed-point (average-damp (lambda (y) (/ x (square y)))) 1.0))\r\n"
     ]
    }
   ],
   "source": [
    "cat 1.3/cube_root.scm"
   ]
  },
  {
   "cell_type": "markdown",
   "metadata": {},
   "source": [
    "### Example 5: Newton’s method"
   ]
  },
  {
   "cell_type": "markdown",
   "metadata": {},
   "source": [
    "When we first introduced the square-root procedure, in Section 1.1.7, we mentioned that this was a special case of $Newton’s\\; method$.If $x\\mapsto g(x)$ is a differentiable function, then a solution of the equation $g(x)\\,=\\,0$ is a fixed point of the function $x \\mapsto f(x)$, where"
   ]
  },
  {
   "cell_type": "markdown",
   "metadata": {},
   "source": [
    "$$f(x) = x - \\frac{g(x)}{Dg(x)}$$"
   ]
  },
  {
   "cell_type": "markdown",
   "metadata": {},
   "source": [
    "and $Dg(x)$ is the derivative of $g$ evaluated at $x$."
   ]
  },
  {
   "cell_type": "markdown",
   "metadata": {},
   "source": [
    "Newton’s method is the use of the fixed-point method we saw above to approximate a solution of the equation by finding a fixed point of the function $f$."
   ]
  },
  {
   "cell_type": "markdown",
   "metadata": {},
   "source": [
    "For many functions $g$ and for sufficiently good initial guesses for $x$, Newton’s method converges very rapidly to a solution of $g(x)\\, =\\, 0$."
   ]
  },
  {
   "cell_type": "markdown",
   "metadata": {},
   "source": [
    "In order to implement Newton’s method as a procedure, we must first express the idea of derivative. Note that “derivative,” like average damping, is something that transforms a function into another function. For instance, the derivative of the function $x \\mapsto x^3$ is the function $x \\mapsto 3x^2$. In general, if $g$ is a function and dx is a small number, then the derivative $Dg$ of $g$ is the function whose value at any number $x$ is given (in the limit of small $dx$) by"
   ]
  },
  {
   "cell_type": "markdown",
   "metadata": {},
   "source": [
    "$$Dg(x) = \\frac{g(x + dx) - g(x)}{dx}.$$"
   ]
  },
  {
   "cell_type": "markdown",
   "metadata": {},
   "source": [
    "Thus, we can express the idea of derivative (taking $dx$ to be, say, 0.00001) as the procedure"
   ]
  },
  {
   "cell_type": "raw",
   "metadata": {},
   "source": [
    "(define dx 0.00001)\n",
    "(define (deriv g) (lambda (x) (/ (- (g (+ x dx)) (g x)) dx)))"
   ]
  },
  {
   "cell_type": "markdown",
   "metadata": {},
   "source": [
    "Like $average$-$damp$, $deriv$ is a procedure that takes a procedure as argument and returns a procedure as value. For example, to approximate the derivative of $x \\mapsto x^3$ at 5 (whose exact value is 75) we can evaluate"
   ]
  },
  {
   "cell_type": "raw",
   "metadata": {},
   "source": [
    "(define dx 0.00001)\n",
    "\n",
    ";Value: dx\n",
    "\n",
    "1 ]=> (define (deriv g) (lambda (x) (/ (- (g (+ x dx)) (g x)) dx)))\n",
    "\n",
    ";Value: deriv\n",
    "\n",
    "1 ]=> (define (cube x) (* x x x))\n",
    "\n",
    ";Value: cube\n",
    "\n",
    "1 ]=> ((deriv cube) 5)\n",
    "\n",
    ";Value: 75.00014999664018"
   ]
  },
  {
   "cell_type": "markdown",
   "metadata": {},
   "source": [
    "With the aid of $deriv$, we can express Newton’s method as a fixed-point process:"
   ]
  },
  {
   "cell_type": "raw",
   "metadata": {},
   "source": [
    "(define (newton-transform g)\n",
    "  (lambda (x) (- x (/ (g x) ((deriv g) x)))))"
   ]
  },
  {
   "cell_type": "raw",
   "metadata": {},
   "source": [
    "(define (newtons-method g guess)\n",
    "  (fixed-point (newton-transform g) guess))"
   ]
  },
  {
   "cell_type": "markdown",
   "metadata": {},
   "source": [
    "The $newton$-$transform$ procedure expresses the formula at the beginning of this section, and newtons-method is readily defined in terms of this. It takes as arguments a procedure that computes the function for which we want to find a zero, together with an initial guess. For instance,to find the square root of x, we can use Newton’s method to find a zero of the function $y \\mapsto y^2 -􀀀 x$ starting with an initial guess of 1."
   ]
  },
  {
   "cell_type": "markdown",
   "metadata": {},
   "source": [
    "This provides yet another form of the square-root procedure:"
   ]
  },
  {
   "cell_type": "raw",
   "metadata": {},
   "source": [
    "(define (sqrt x)\n",
    "  (newtons-method (lambda (y) (- (square y) x)) 1.0))"
   ]
  },
  {
   "cell_type": "markdown",
   "metadata": {},
   "source": [
    "### Abstractions and first-class procedures"
   ]
  },
  {
   "cell_type": "markdown",
   "metadata": {},
   "source": [
    "We’ve seen two ways to express the $square$-$root$ computation as an instance of a more general method, once as a $fixed$-$point\\; search$ and once using $Newton’s\\; method$. Since Newton’s method was itself expressed as a fixed-point process, we actually saw two ways to compute square roots as fixed points. Each method begins with a function and finds a fixed point of some transformation of the function. We can express this general idea itself as a procedure:"
   ]
  },
  {
   "cell_type": "raw",
   "metadata": {},
   "source": [
    "(define (fixed-point-of-transform g transform guess)\n",
    "  (fixed-point (transform g) guess))"
   ]
  },
  {
   "cell_type": "markdown",
   "metadata": {},
   "source": [
    "This very general procedure takes as its arguments a procedure $g$ that computes some function, a procedure that transforms $g$, and an initial guess. The returned result is a fixed point of the transformed function."
   ]
  },
  {
   "cell_type": "markdown",
   "metadata": {},
   "source": [
    "Using this abstraction, we can recast the first square-root computation from this section (where we look for a fixed point of the $average$-$damped$ version of $y \\mapsto x/y$) as an instance of this general method:"
   ]
  },
  {
   "cell_type": "raw",
   "metadata": {},
   "source": [
    "(define (sqrt x)\n",
    "  (fixed-point-of-transform\n",
    "   (lambda (y) (/ x y)) average-damp 1.0))"
   ]
  },
  {
   "cell_type": "markdown",
   "metadata": {},
   "source": [
    "Similarly, we can express the second square-root computation from this section (an instance of $Newton’s\\; method$ that finds a fixed point of the $Newton\\; transform$ of $y \\mapsto y^2-x$) as"
   ]
  },
  {
   "cell_type": "raw",
   "metadata": {},
   "source": [
    "(define (sqrt x)\n",
    "  (fixed-point-of-transform\n",
    "   (lambda (y) (- (square y) x)) newton-transform 1.0))"
   ]
  },
  {
   "cell_type": "code",
   "execution_count": null,
   "metadata": {
    "collapsed": true
   },
   "outputs": [],
   "source": []
  },
  {
   "cell_type": "code",
   "execution_count": null,
   "metadata": {
    "collapsed": true
   },
   "outputs": [],
   "source": []
  },
  {
   "cell_type": "code",
   "execution_count": null,
   "metadata": {
    "collapsed": true
   },
   "outputs": [],
   "source": []
  },
  {
   "cell_type": "code",
   "execution_count": null,
   "metadata": {
    "collapsed": true
   },
   "outputs": [],
   "source": []
  },
  {
   "cell_type": "code",
   "execution_count": null,
   "metadata": {
    "collapsed": true
   },
   "outputs": [],
   "source": []
  },
  {
   "cell_type": "code",
   "execution_count": null,
   "metadata": {
    "collapsed": true
   },
   "outputs": [],
   "source": []
  },
  {
   "cell_type": "code",
   "execution_count": null,
   "metadata": {
    "collapsed": true
   },
   "outputs": [],
   "source": []
  },
  {
   "cell_type": "code",
   "execution_count": null,
   "metadata": {
    "collapsed": true
   },
   "outputs": [],
   "source": []
  },
  {
   "cell_type": "code",
   "execution_count": null,
   "metadata": {
    "collapsed": true
   },
   "outputs": [],
   "source": []
  }
 ],
 "metadata": {
  "kernelspec": {
   "display_name": "Python 2",
   "language": "python",
   "name": "python2"
  },
  "language_info": {
   "codemirror_mode": {
    "name": "ipython",
    "version": 2
   },
   "file_extension": ".py",
   "mimetype": "text/x-python",
   "name": "python",
   "nbconvert_exporter": "python",
   "pygments_lexer": "ipython2",
   "version": "2.7.11"
  }
 },
 "nbformat": 4,
 "nbformat_minor": 0
}
