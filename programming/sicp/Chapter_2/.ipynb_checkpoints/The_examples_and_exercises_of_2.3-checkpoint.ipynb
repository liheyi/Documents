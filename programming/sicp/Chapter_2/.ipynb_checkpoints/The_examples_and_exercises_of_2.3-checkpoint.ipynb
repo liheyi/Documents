{
 "cells": [
  {
   "cell_type": "markdown",
   "metadata": {},
   "source": [
    "# 2.3 Symbolic Data"
   ]
  },
  {
   "cell_type": "markdown",
   "metadata": {},
   "source": [
    "All the compound data objects we have used so far were constructed ultimately from numbers. In this section we extend the representational capability of our language by introducing the ability to work with arbitrary symbols as data."
   ]
  },
  {
   "cell_type": "markdown",
   "metadata": {},
   "source": [
    "## 2.3.1 Quotation"
   ]
  },
  {
   "cell_type": "markdown",
   "metadata": {},
   "source": [
    "If we can form compound data using symbols, we can have lists such as"
   ]
  },
  {
   "cell_type": "raw",
   "metadata": {},
   "source": [
    "(a b c d)\n",
    "(23 45 17)\n",
    "((Norah 12) (Molly 9) (Anna 7) (Lauren 6) (Charlotte 4))"
   ]
  },
  {
   "cell_type": "markdown",
   "metadata": {},
   "source": [
    "Lists containing symbols can look just like the expressions of our language:"
   ]
  },
  {
   "cell_type": "raw",
   "metadata": {},
   "source": [
    "(* (+ 23 45)\n",
    "`  (+ x 9))\n",
    "(define (fact n)\n",
    "  (if (= n 1) 1 (* n (fact (- n 1)))))"
   ]
  },
  {
   "cell_type": "markdown",
   "metadata": {},
   "source": [
    "In order to manipulate symbols we need a new element in our language:the ability to $\\textbf{quote}$ a data object. Suppose we want to construct the list $\\textrm{(a b)}$. We can’t accomplish this with $\\textrm{(list a b)}$, because this expression constructs a list of the values of $a$ and $b$ rather than the symbols themselves. This issue is well known in the context of natural languages,where words and sentences may be regarded either as semantic entities or as character strings (syntactic entities). The common practice in natural languages is to use quotation marks to indicate that a word or a sentence is to be treated literally as a string of characters. For instance,the first letter of “John” is clearly “J.” If we tell somebody “say your name aloud,” we expect to hear that person’s name. However, if we tell somebody “say ‘your name’ aloud,” we expect to hear the words “your name.” Note that we are forced to nest quotation marks to describe what somebody else might say."
   ]
  },
  {
   "cell_type": "markdown",
   "metadata": {},
   "source": [
    "We can follow this same practice to identify $\\text{lists}$ and $\\text{symbols}$ that are to be treated as data objects rather than as expressions to be evaluated. However, our format for quoting differs from that of natural languages in that we place a quotation mark (traditionally, the single quote symbol $\\textbf{'}$) only at the beginning of the object to be quoted. We can get away with this in Scheme syntax because we rely on blanks and parentheses to delimit objects. Thus, the meaning of the single quote character is to quote the next object."
   ]
  },
  {
   "cell_type": "markdown",
   "metadata": {},
   "source": [
    "Now we can $\\text{distinguish}$ between symbols and their values:"
   ]
  },
  {
   "cell_type": "raw",
   "metadata": {},
   "source": [
    "1 ]=> (define a 1)\n",
    "\n",
    ";Value: a\n",
    "\n",
    "1 ]=> (define b 2)\n",
    "\n",
    ";Value: b\n",
    "\n",
    "1 ]=> (list a b)\n",
    "\n",
    ";Value 13: (1 2)\n",
    "\n",
    "1 ]=> (list 'a 'b)\n",
    "\n",
    ";Value 14: (a b)\n",
    "\n",
    "1 ]=> (list 'a b)\n",
    "\n",
    ";Value 15: (a 2)"
   ]
  },
  {
   "cell_type": "markdown",
   "metadata": {},
   "source": [
    "Quotation also allows us to type in compound objects, using the conventional printed representation for lists:"
   ]
  },
  {
   "cell_type": "raw",
   "metadata": {},
   "source": [
    "1 ]=> (car '(a b c))\n",
    "\n",
    ";Value: a\n",
    "\n",
    "1 ]=> (cdr '(a b c))\n",
    "\n",
    ";Value 16: (b c)"
   ]
  },
  {
   "cell_type": "markdown",
   "metadata": {},
   "source": [
    "In keeping with this, we can obtain the empty list by evaluating $\\textrm{'()}$, and thus dispense with the variable $\\text{nil}$."
   ]
  },
  {
   "cell_type": "markdown",
   "metadata": {},
   "source": [
    "## Example 14: Just an example"
   ]
  },
  {
   "cell_type": "markdown",
   "metadata": {},
   "source": [
    "One additional primitive used in manipulating symbols is $\\textrm{eq?}$, which takes two symbols as arguments and tests whether they are the same. Using $\\textrm{eq?}$, we can implement a useful procedure called $\\texttt{memq}$. This takes two arguments, a symbol and a list. If the symbol is not contained in the list (i.e., is not $\\textrm{eq?}$ to any item in the list), then $\\texttt{memq}$ returns false. Otherwise, it returns the sublist of the list beginning with the first occurrence of the symbol:"
   ]
  },
  {
   "cell_type": "code",
   "execution_count": 1,
   "metadata": {
    "collapsed": false
   },
   "outputs": [
    {
     "name": "stdout",
     "output_type": "stream",
     "text": [
      "(define (memq item x)\r\n",
      "  (cond ((null? x) #f)\r\n",
      "        ((eq? item (car x)) x)\r\n",
      "        (else (memq item (cdr x)))))\r\n"
     ]
    }
   ],
   "source": [
    "cat 2.3/Example_14/memq.scm"
   ]
  },
  {
   "cell_type": "markdown",
   "metadata": {},
   "source": [
    "For example, the value of"
   ]
  },
  {
   "cell_type": "raw",
   "metadata": {},
   "source": [
    "1 ]=> (memq 'apple '(pear banana prune))\n",
    "\n",
    ";Value: #f\n",
    "\n",
    "1 ]=> (memq 'apple '(x (apple sauce) y apple pear))\n",
    "\n",
    ";Value 13: (apple pear)"
   ]
  },
  {
   "cell_type": "markdown",
   "metadata": {
    "collapsed": true
   },
   "source": [
    "## Exercise 2.53: \n",
    "What would the interpreter print in response to evaluating each of the following expressions?"
   ]
  },
  {
   "cell_type": "raw",
   "metadata": {
    "collapsed": true
   },
   "source": [
    "(list 'a 'b 'c)\n",
    "(list (list 'george))\n",
    "(cdr '((x1 x2) (y1 y2)))\n",
    "(cadr '((x1 x2) (y1 y2)))\n",
    "(pair? (car '(a short list)))\n",
    "(memq 'red '((red shoes) (blue socks)))\n",
    "(memq 'red '(red shoes blue socks))"
   ]
  },
  {
   "cell_type": "markdown",
   "metadata": {
    "collapsed": true
   },
   "source": [
    "## Answer:"
   ]
  },
  {
   "cell_type": "raw",
   "metadata": {
    "collapsed": true
   },
   "source": [
    "1 ]=> (list 'a 'b 'c)\n",
    "\n",
    ";Value 13: (a b c)\n",
    "\n",
    "1 ]=> (list (list 'george))\n",
    "\n",
    ";Value 14: ((george))\n",
    "\n",
    "1 ]=> (cdr '((x1 x2) (y1 y2)))\n",
    "\n",
    ";Value 15: ((y1 y2))\n",
    "\n",
    "1 ]=> (cadr '((x1 x2) (y1 y2)))\n",
    "\n",
    ";Value 16: (y1 y2)\n",
    "\n",
    "1 ]=> (pair? (car '(a short list)))\n",
    "\n",
    ";Value: #f\n",
    "\n",
    "1 ]=> (memq 'red '((red shoes) (blue socks)))\n",
    "\n",
    ";Value: #f\n",
    "\n",
    "1 ]=> (memq 'red '(red shoes blue socks))\n",
    "\n",
    ";Value 17: (red shoes blue socks)"
   ]
  },
  {
   "cell_type": "markdown",
   "metadata": {
    "collapsed": true
   },
   "source": [
    "## Exercise 2.54: \n",
    "Two lists are said to be equal? if they contain equal elements arranged in the same order. For example,"
   ]
  },
  {
   "cell_type": "raw",
   "metadata": {
    "collapsed": true
   },
   "source": [
    "(equal? '(this is a list) '(this is a list))"
   ]
  },
  {
   "cell_type": "markdown",
   "metadata": {
    "collapsed": true
   },
   "source": [
    "is true, but"
   ]
  },
  {
   "cell_type": "raw",
   "metadata": {
    "collapsed": true
   },
   "source": [
    "(equal? '(this is a list) '(this (is a) list))"
   ]
  },
  {
   "cell_type": "markdown",
   "metadata": {
    "collapsed": true
   },
   "source": [
    "is false. To be more precise, we can define $\\texttt{equal?}$ recursively in terms of the basic $\\texttt{eq?}$ equality of symbols by saying that $a$ and $b$ are $\\texttt{equal?}$ if they are both symbols and the symbols are $\\texttt{eq?}$, or if they are both lists such that $\\textrm{(car a)}$ is $\\texttt{equal?}$ to $\\textrm{(car b)}$ and $\\textrm{(cdr a)}$ is $\\texttt{equal?}$ to $\\textrm{(cdr b)}$.Using this idea, implement $\\texttt{equal?}$ as a procedure."
   ]
  },
  {
   "cell_type": "markdown",
   "metadata": {
    "collapsed": true
   },
   "source": [
    "## Answer:"
   ]
  },
  {
   "cell_type": "code",
   "execution_count": 1,
   "metadata": {
    "collapsed": false
   },
   "outputs": [
    {
     "name": "stdout",
     "output_type": "stream",
     "text": [
      "(define (symbol-equal? x y) (eq? x y))\r\n",
      "(define (list-equal? x y)\r\n",
      "  (cond ((and (null? x) (null? y)) #t)\r\n",
      "        ((or (null? x) (null? y)) #f)\r\n",
      "        ((equal? (car x) (car y))\r\n",
      "         (equal? (cdr x) (cdr y)))\r\n",
      "        (else #f)))\r\n",
      "\r\n",
      "(define (equal? x y)\r\n",
      "  (cond ((and (symbol? x) (symbol? y))\r\n",
      "         (symbol-equal? x y))\r\n",
      "        ((and (list? x) (list? y))\r\n",
      "         (list-equal? x y))\r\n",
      "        (else (error \"Wrong type input x and y...\" x y))))\r\n"
     ]
    }
   ],
   "source": [
    "cat 2.3/Exercise_2.54/equal.scm"
   ]
  },
  {
   "cell_type": "markdown",
   "metadata": {
    "collapsed": true
   },
   "source": [
    "### Running Instance:"
   ]
  },
  {
   "cell_type": "raw",
   "metadata": {
    "collapsed": true
   },
   "source": [
    "1 ]=> (load \"2.3/Exercise_2.54/equal.scm\")\n",
    "\n",
    ";Loading \"2.3/Exercise_2.54/equal.scm\"... done\n",
    ";Value: equal?\n",
    "\n",
    "1 ]=> (equal? 'symbol 'symbol)\n",
    "\n",
    ";Value: #t\n",
    "\n",
    "1 ]=> (equal? 'symbol 'Symbol)\n",
    "\n",
    ";Value: #t\n",
    "\n",
    "1 ]=> (equal? 'symbol 'another-symbol)\n",
    "\n",
    ";Value: #f\n",
    "\n",
    "1 ]=> (equal? (list 'a 'b 'c) (list 'a 'b 'c))\n",
    "\n",
    ";Value: #t"
   ]
  },
  {
   "cell_type": "markdown",
   "metadata": {
    "collapsed": true
   },
   "source": [
    "## Exercise 2.55: \n",
    "Eva Lu Ator types to the interpreter the expression "
   ]
  },
  {
   "cell_type": "raw",
   "metadata": {
    "collapsed": true
   },
   "source": [
    "(car ''abracadabra)"
   ]
  },
  {
   "cell_type": "markdown",
   "metadata": {
    "collapsed": true
   },
   "source": [
    "To her surprise, the interpreter prints back quote. Explain."
   ]
  },
  {
   "cell_type": "markdown",
   "metadata": {
    "collapsed": true
   },
   "source": [
    "## Answer:"
   ]
  },
  {
   "cell_type": "markdown",
   "metadata": {
    "collapsed": true
   },
   "source": [
    "Because the expression"
   ]
  },
  {
   "cell_type": "raw",
   "metadata": {
    "collapsed": true
   },
   "source": [
    "(car ''abracadabra)"
   ]
  },
  {
   "cell_type": "markdown",
   "metadata": {
    "collapsed": true
   },
   "source": [
    "is equivalent to"
   ]
  },
  {
   "cell_type": "raw",
   "metadata": {
    "collapsed": true
   },
   "source": [
    "(car '(quote abracadabra))"
   ]
  },
  {
   "cell_type": "markdown",
   "metadata": {
    "collapsed": true
   },
   "source": [
    "So,the interpreter prints:"
   ]
  },
  {
   "cell_type": "raw",
   "metadata": {
    "collapsed": true
   },
   "source": [
    "1 ]=> (car '(quote abracadabra))\n",
    "\n",
    ";Value: quote\n",
    "\n",
    "1 ]=> (cdr '(quote abracadabra))\n",
    "\n",
    ";Value 16: (abracadabra)"
   ]
  },
  {
   "cell_type": "markdown",
   "metadata": {
    "collapsed": true
   },
   "source": [
    "## Example 15: Symbolic Differentiation"
   ]
  },
  {
   "cell_type": "markdown",
   "metadata": {
    "collapsed": true
   },
   "source": [
    "As an illustration of symbol manipulation and a further illustration of data abstraction, consider the design of a procedure that performs symbolic differentiation of algebraic expressions. We would like the procedure to take as arguments an algebraic expression and a variable and to return the $\\text{derivative}$ of the expression with respect to the variable. For example, if the arguments to the procedure are $ax^2 + bx + c$ and $x$, the procedure should return $2ax + b$. Symbolic differentiation is of special historical significance in Lisp. It was one of the motivating examples behind the development of a computer language for symbol manipulation. Furthermore, it marked the beginning of the line of research that led to the development of powerful systems for symbolic mathematical work, which are currently being used by a growing number of applied mathematicians and physicists."
   ]
  },
  {
   "cell_type": "markdown",
   "metadata": {
    "collapsed": true
   },
   "source": [
    "In developing the symbolic-differentiation program, we will follow the same strategy of data abstraction that we followed in developing the rational-number system of Section 2.1.1. That is, we will first define a differentiation algorithm that operates on abstract objects such as “sums,” “products,” and “variables” without worrying about how these are to be represented. Only afterward will we address the representation problem."
   ]
  },
  {
   "cell_type": "markdown",
   "metadata": {
    "collapsed": true
   },
   "source": [
    "### $\\spadesuit\\quad$ The differentiation program with abstract data"
   ]
  },
  {
   "cell_type": "markdown",
   "metadata": {
    "collapsed": true
   },
   "source": [
    "In order to keep things simple, we will consider a very simple symbolic-differentiation program that handles expressions that are built up using only the operations of addition and multiplication with two arguments.\n",
    "Differentiation of any such expression can be carried out by applying the following reduction rules:"
   ]
  },
  {
   "cell_type": "markdown",
   "metadata": {
    "collapsed": true
   },
   "source": [
    "\\begin{align}\n",
    "\\frac{dc}{dx} & = 0,\\quad\\textrm{for c a constant or a variable different from x},\\\\\n",
    "\\frac{dx}{dx} & = 1,\\\\\n",
    "\\frac{d(u+v)}{dx} & = \\frac{du}{dx}+\\frac{dv}{dx},\\\\\n",
    "\\frac{d(uv)}{dx} & = u\\frac{dv}{dx}+v\\frac{du}{dx}.\n",
    "\\end{align}"
   ]
  },
  {
   "cell_type": "markdown",
   "metadata": {
    "collapsed": true
   },
   "source": [
    "Observe that the latter two rules are recursive in nature. That is, to obtain the derivative of a sum we first find the derivatives of the terms and add them. Each of the terms may in turn be an expression that needs to be decomposed. Decomposing into smaller and smaller pieces will eventually produce pieces that are either constants or variables, whose derivatives will be either 0 or 1."
   ]
  },
  {
   "cell_type": "markdown",
   "metadata": {
    "collapsed": true
   },
   "source": [
    "To embody these rules in a procedure we indulge in a little wishful thinking, as we did in designing the rational-number implementation.If we had a means for representing algebraic expressions, we should be able to tell whether an expression is a sum, a product, a constant, or a variable. We should be able to extract the parts of an expression.For a sum, for example we want to be able to extract the addend (first term) and the augend (second term). We should also be able to construct expressions from parts. Let us assume that we already have procedures to implement the following $\\text{selectors}$, $\\text{constructors}$, and $\\text{predicates}$:"
   ]
  },
  {
   "cell_type": "markdown",
   "metadata": {
    "collapsed": true
   },
   "source": [
    "\\begin{align}\n",
    "\\textrm{(variable? e)}&\\qquad\\text{Is e a variable?}\\\\\n",
    "\\textrm{(same-variable? v1 v2)}&\\qquad\\text{Are v1 and v2 the same variable?}\\\\\n",
    "\\textrm{(sum? e)}&\\qquad\\text{Is e a sum?}\\\\\n",
    "\\textrm{(addend e)}&\\qquad\\text{Addend of the sum e.}\\\\\n",
    "\\textrm{(augend e)}&\\qquad\\text{Augend of the sum e.}\\\\\n",
    "\\textrm{(make-sum a1 a2)}&\\qquad\\text{Construct the sum of a1 and a2.}\\\\\n",
    "\\textrm{(product? e)}&\\qquad\\text{Is e a product?}\\\\\n",
    "\\textrm{(multiplier e)}&\\qquad\\text{Multiplier of the product e.}\\\\\n",
    "\\textrm{(multiplicand e)}&\\qquad\\text{Multiplicand of the product e.}\\\\\n",
    "\\textrm{(make-product m1 m2)}&\\qquad\\text{Construct the product of m1 and m2.}\n",
    "\\end{align}"
   ]
  },
  {
   "cell_type": "markdown",
   "metadata": {
    "collapsed": true
   },
   "source": [
    "Using these, and the primitive predicate $\\texttt{number?}$, which identifies numbers,we can express the differentiation rules as the following procedure:"
   ]
  },
  {
   "cell_type": "code",
   "execution_count": 24,
   "metadata": {
    "collapsed": false
   },
   "outputs": [
    {
     "name": "stdout",
     "output_type": "stream",
     "text": [
      "(load \"2.3/Example_15/deriv-repr.scm\")\r\n",
      "\r\n",
      "(define (deriv expression var)\r\n",
      "  (cond ((number? expression) 0)\r\n",
      "        ((variable? expression) (if (same-variable? expression var) 1 0))\r\n",
      "        ((sum? expression) (make-sum (deriv (addend expression) var)\r\n",
      "                                     (deriv (augend expression) var)))\r\n",
      "        ((product? expression)\r\n",
      "         (make-sum\r\n",
      "           (make-product (multiplier expression)\r\n",
      "                         (deriv (multiplicand expression) var))\r\n",
      "           (make-product (deriv (multiplier expression) var)\r\n",
      "                         (multiplicand expression))))\r\n",
      "        (else\r\n",
      "          (error \"Unknown expression type: DERIV\" expression))))\r\n"
     ]
    }
   ],
   "source": [
    "cat 2.3/Example_15/deriv-rules.scm"
   ]
  },
  {
   "cell_type": "markdown",
   "metadata": {
    "collapsed": true
   },
   "source": [
    "This $\\texttt{deriv}$ procedure incorporates the complete differentiation algorithm.Since it is expressed in terms of abstract data, it will work no matter how we choose to represent algebraic expressions, as long as we\n",
    "design a proper set of selectors and constructors. This is the issue we must address next."
   ]
  },
  {
   "cell_type": "markdown",
   "metadata": {
    "collapsed": true
   },
   "source": [
    "### $\\spadesuit\\quad$ Representing algebraic expressions"
   ]
  },
  {
   "cell_type": "markdown",
   "metadata": {
    "collapsed": true
   },
   "source": [
    "We can imagine many ways to use list structure to represent algebraic expressions. For example, we could use lists of symbols that mirror the usual algebraic notation, representing $\\textrm{ax + b}$ as the list $\\textrm{(a $\\ast$ x + b)}$. However, one especially straightforward choice is to use the same parenthesized prefix notation that Lisp uses for combinations; that is,to represent $\\textrm{ax + b}$ as $\\textrm{(+ ($\\ast$ a x) b)}$. Then our data representation for the differentiation problem is as follows:"
   ]
  },
  {
   "cell_type": "markdown",
   "metadata": {
    "collapsed": true
   },
   "source": [
    "$\\bullet\\quad$The variables are symbols. They are identified by the primitive predicate $\\texttt{symbol?}$:"
   ]
  },
  {
   "cell_type": "code",
   "execution_count": 16,
   "metadata": {
    "collapsed": false
   },
   "outputs": [
    {
     "name": "stdout",
     "output_type": "stream",
     "text": [
      "(define (variable? x) (symbol? x))\r\n"
     ]
    }
   ],
   "source": [
    "cat 2.3/Example_15/is-variable.scm"
   ]
  },
  {
   "cell_type": "markdown",
   "metadata": {
    "collapsed": true
   },
   "source": [
    "$\\bullet\\quad$Two variables are the same if the symbols representing them are $\\texttt{eq?}$:"
   ]
  },
  {
   "cell_type": "code",
   "execution_count": 23,
   "metadata": {
    "collapsed": false
   },
   "outputs": [
    {
     "name": "stdout",
     "output_type": "stream",
     "text": [
      "(define (same-variable? v1 v2)\r\n",
      "  (and (variable? v1) (variable? v2) (eq? v1 v2)))\r\n"
     ]
    }
   ],
   "source": [
    "cat 2.3/Example_15/is-same-variable.scm"
   ]
  },
  {
   "cell_type": "markdown",
   "metadata": {
    "collapsed": true
   },
   "source": [
    "$\\bullet\\quad$Sums are constructed as lists:"
   ]
  },
  {
   "cell_type": "code",
   "execution_count": 6,
   "metadata": {
    "collapsed": false
   },
   "outputs": [
    {
     "name": "stdout",
     "output_type": "stream",
     "text": [
      "(define (make-sum a1 a2) (list '+ a1 a2))\r\n"
     ]
    }
   ],
   "source": [
    "cat 2.3/Example_15/make-sum.scm"
   ]
  },
  {
   "cell_type": "markdown",
   "metadata": {
    "collapsed": true
   },
   "source": [
    "$\\bullet\\quad$Products are constructed as lists:"
   ]
  },
  {
   "cell_type": "code",
   "execution_count": 7,
   "metadata": {
    "collapsed": false
   },
   "outputs": [
    {
     "name": "stdout",
     "output_type": "stream",
     "text": [
      "(define (make-product m1 m2) (list '* m1 m2))\r\n"
     ]
    }
   ],
   "source": [
    "cat 2.3/Example_15/make-product.scm"
   ]
  },
  {
   "cell_type": "markdown",
   "metadata": {
    "collapsed": true
   },
   "source": [
    "$\\bullet\\quad$A sum is a list whose first element is the symbol +:"
   ]
  },
  {
   "cell_type": "code",
   "execution_count": 14,
   "metadata": {
    "collapsed": false
   },
   "outputs": [
    {
     "name": "stdout",
     "output_type": "stream",
     "text": [
      "(define (sum? x) (and (pair? x) (eq? (car x) '+)))\r\n"
     ]
    }
   ],
   "source": [
    "cat 2.3/Example_15/is-sum.scm"
   ]
  },
  {
   "cell_type": "markdown",
   "metadata": {
    "collapsed": true
   },
   "source": [
    "$\\bullet\\quad$The addend is the second item of the sum list:"
   ]
  },
  {
   "cell_type": "code",
   "execution_count": 9,
   "metadata": {
    "collapsed": false
   },
   "outputs": [
    {
     "name": "stdout",
     "output_type": "stream",
     "text": [
      "(define (addend s) (cadr s))\r\n"
     ]
    }
   ],
   "source": [
    "cat 2.3/Example_15/addend.scm"
   ]
  },
  {
   "cell_type": "markdown",
   "metadata": {
    "collapsed": true
   },
   "source": [
    "$\\bullet\\quad$The augend is the third item of the sum list:"
   ]
  },
  {
   "cell_type": "code",
   "execution_count": 10,
   "metadata": {
    "collapsed": false
   },
   "outputs": [
    {
     "name": "stdout",
     "output_type": "stream",
     "text": [
      "(define (augend s) (caddr s))\r\n"
     ]
    }
   ],
   "source": [
    "cat 2.3/Example_15/augend.scm"
   ]
  },
  {
   "cell_type": "markdown",
   "metadata": {
    "collapsed": true
   },
   "source": [
    "$\\bullet\\quad$A product is a list whose first element is the symbol $\\ast$:"
   ]
  },
  {
   "cell_type": "code",
   "execution_count": 15,
   "metadata": {
    "collapsed": false
   },
   "outputs": [
    {
     "name": "stdout",
     "output_type": "stream",
     "text": [
      "(define (product? x) (and (pair? x) (eq? (car x) '*)))\r\n"
     ]
    }
   ],
   "source": [
    "cat 2.3/Example_15/is-product.scm"
   ]
  },
  {
   "cell_type": "markdown",
   "metadata": {
    "collapsed": true
   },
   "source": [
    "$\\bullet\\quad$The multiplier is the second item of the product list:"
   ]
  },
  {
   "cell_type": "code",
   "execution_count": 12,
   "metadata": {
    "collapsed": false
   },
   "outputs": [
    {
     "name": "stdout",
     "output_type": "stream",
     "text": [
      "(define (multiplier p) (cadr p))\r\n"
     ]
    }
   ],
   "source": [
    "cat 2.3/Example_15/multiplier.scm"
   ]
  },
  {
   "cell_type": "markdown",
   "metadata": {
    "collapsed": true
   },
   "source": [
    "$\\bullet\\quad$The multiplicand is the third item of the product list:"
   ]
  },
  {
   "cell_type": "code",
   "execution_count": 13,
   "metadata": {
    "collapsed": false
   },
   "outputs": [
    {
     "name": "stdout",
     "output_type": "stream",
     "text": [
      "(define (multiplicand p) (caddr p))\r\n"
     ]
    }
   ],
   "source": [
    "cat 2.3/Example_15/multiplicand.scm"
   ]
  },
  {
   "cell_type": "markdown",
   "metadata": {
    "collapsed": true
   },
   "source": [
    "Thus, we need only combine these with the algorithm as embodied by $\\texttt{deriv}$ in order to have a working symbolic-differentiation program."
   ]
  },
  {
   "cell_type": "markdown",
   "metadata": {
    "collapsed": true
   },
   "source": [
    "Let us look at some examples of its behavior:"
   ]
  },
  {
   "cell_type": "raw",
   "metadata": {
    "collapsed": true
   },
   "source": [
    "1 ]=> (deriv '(+ x 3) 'x)\n",
    "\n",
    ";Value 13: (+ 1 0)\n",
    "\n",
    "1 ]=> (deriv '(* x y) 'x)\n",
    "\n",
    ";Value 14: (+ (* x 0) (* 1 y))\n",
    "\n",
    "1 ]=> (deriv '(* (* x y) (+ x 3)) 'x)\n",
    "\n",
    ";Value 15: (+ (* (* x y) (+ 1 0)) (* (+ (* x 0) (* 1 y)) (+ x 3)))"
   ]
  },
  {
   "cell_type": "markdown",
   "metadata": {
    "collapsed": true
   },
   "source": [
    "The program produces answers that are correct; however, they are unsimplified.It is true that"
   ]
  },
  {
   "cell_type": "markdown",
   "metadata": {
    "collapsed": true
   },
   "source": [
    "$$\\frac{d(xy)}{dx}=x \\cdot 0 + 1 \\cdot y,$$"
   ]
  },
  {
   "cell_type": "markdown",
   "metadata": {
    "collapsed": true
   },
   "source": [
    "but we would like the program to know that $x \\cdot 0 = 0$, $1 \\cdot y = y$, and $0 \\cdot y = y$. The answer for the second example should have been simply $y$. As the third example shows, this becomes a serious issue when the\n",
    "expressions are complex."
   ]
  },
  {
   "cell_type": "markdown",
   "metadata": {
    "collapsed": true
   },
   "source": [
    "Our difficulty is much like the one we encountered with the rational-number implementation: we haven’t reduced answers to simplest form.To accomplish the rational-number reduction, we needed to change only the $\\text{constructors}$ and the $\\text{selectors}$ of the implementation. We can adopt a similar strategy here. We won’t change $\\texttt{deriv}$ at all. Instead, we will change $\\texttt{make-sum}$ so that if both summands are numbers, $\\texttt{make-sum}$ will add them and return their sum. Also, if one of the summands is 0, then $\\texttt{make-sum}$ will return the other summand."
   ]
  },
  {
   "cell_type": "code",
   "execution_count": 18,
   "metadata": {
    "collapsed": false
   },
   "outputs": [
    {
     "name": "stdout",
     "output_type": "stream",
     "text": [
      "(define (make-sum a1 a2)\r\n",
      "  (cond ((is-number? a1 0) a2)\r\n",
      "        ((is-number? a2 0) a1)\r\n",
      "        ((and (number? a1) (number? a2)) (+ a1 a2))\r\n",
      "        (else (list '+ a1 a2))))\r\n"
     ]
    }
   ],
   "source": [
    "cat 2.3/Example_15/make-sum-reduce.scm"
   ]
  },
  {
   "cell_type": "markdown",
   "metadata": {},
   "source": [
    "This uses the procedure $\\texttt{is-number?}$,which checks whether an expression is equal to a given number:"
   ]
  },
  {
   "cell_type": "code",
   "execution_count": 19,
   "metadata": {
    "collapsed": false
   },
   "outputs": [
    {
     "name": "stdout",
     "output_type": "stream",
     "text": [
      "(define (is-number? expression num)\r\n",
      "  (and (number? expression) (= expression num)))\r\n"
     ]
    }
   ],
   "source": [
    "cat 2.3/Example_15/is-number.scm"
   ]
  },
  {
   "cell_type": "markdown",
   "metadata": {
    "collapsed": true
   },
   "source": [
    "Similarly, we will change $\\texttt{make-product}$ to build in the rules that 0 times anything is 0 and 1 times anything is the thing itself:"
   ]
  },
  {
   "cell_type": "code",
   "execution_count": 20,
   "metadata": {
    "collapsed": false
   },
   "outputs": [
    {
     "name": "stdout",
     "output_type": "stream",
     "text": [
      "(define (make-product m1 m2)\r\n",
      "  (cond ((is-number? m1 1) m2)\r\n",
      "        ((is-number? m2 1) m1)\r\n",
      "        ((or (is-number? m1 0) (is-number? m2 0)) 0)\r\n",
      "        ((and (number? m1) (number? m2)) (* m1 m2))\r\n",
      "        (else (list '* m1 m2))))\r\n"
     ]
    }
   ],
   "source": [
    "cat 2.3/Example_15/make-product-reduce.scm"
   ]
  },
  {
   "cell_type": "markdown",
   "metadata": {
    "collapsed": true
   },
   "source": [
    "For simplicity, we will put all the $\\text{constructors}$, $\\text{selections}$ and $\\text{predicates}$ above given together:"
   ]
  },
  {
   "cell_type": "code",
   "execution_count": 25,
   "metadata": {
    "collapsed": false
   },
   "outputs": [
    {
     "name": "stdout",
     "output_type": "stream",
     "text": [
      ";;\r\n",
      ";; Constructors\r\n",
      ";;\r\n",
      "\r\n",
      ";; Construct the sum of a1 and a2\r\n",
      "(define (make-sum a1 a2)\r\n",
      "  (cond ((is-number? a1 0) a2)\r\n",
      "        ((is-number? a2 0) a1)\r\n",
      "        ((and (number? a1) (number? a2)) (+ a1 a2))\r\n",
      "        (else (list '+ a1 a2))))\r\n",
      "\r\n",
      ";; Construct the product of m1 and m2\r\n",
      "(define (make-product m1 m2)\r\n",
      "  (cond ((is-number? m1 1) m2)\r\n",
      "        ((is-number? m2 1) m1)\r\n",
      "        ((or (is-number? m1 0) (is-number? m2 0)) 0)\r\n",
      "        ((and (number? m1) (number? m2)) (* m1 m2))\r\n",
      "        (else (list '* m1 m2))))\r\n",
      "\r\n",
      "\r\n",
      ";;\r\n",
      ";; Selectors\r\n",
      ";;\r\n",
      "\r\n",
      ";; Addend of the sum s\r\n",
      "(define (addend s) (cadr s))\r\n",
      "\r\n",
      ";; Augend of the sum s\r\n",
      "(define (augend s) (caddr s))\r\n",
      "\r\n",
      ";; Multiplier of the product p\r\n",
      "(define (multiplier p) (cadr p))\r\n",
      "\r\n",
      ";; Multiplicand of the product p\r\n",
      "(define (multiplicand p) (caddr p))\r\n",
      "\r\n",
      ";;\r\n",
      ";; Predicates\r\n",
      ";;\r\n",
      "\r\n",
      ";; Is num number?\r\n",
      "(define (is-number? expression num)\r\n",
      "  (and (number? expression) (= expression num)))\r\n",
      "\r\n",
      ";; Is x variable?\r\n",
      "(define (variable? x) (symbol? x))\r\n",
      "\r\n",
      ";; Are v1 and v2 the same variable?\r\n",
      "(define (same-variable? v1 v2)\r\n",
      "  (and (variable? v1) (variable? v2) (eq? v1 v2)))\r\n",
      "\r\n",
      ";; Is x a sum?\r\n",
      "(define (sum? x)\r\n",
      "  (and (pair? x) (eq? (car x) '+)))\r\n",
      "\r\n",
      ";; Is x a product?\r\n",
      "(define (product? x)\r\n",
      "  (and (pair? x) (eq? (car x) '*)))\r\n"
     ]
    }
   ],
   "source": [
    "cat 2.3/Example_15/deriv-repr.scm"
   ]
  },
  {
   "cell_type": "markdown",
   "metadata": {
    "collapsed": true
   },
   "source": [
    "Here is how this version works on our three examples:"
   ]
  },
  {
   "cell_type": "raw",
   "metadata": {
    "collapsed": true
   },
   "source": [
    "1 ]=> (load \"2.3/Example_15/deriv-rules.scm\")\n",
    "\n",
    ";Loading \"2.3/Example_15/deriv-rules.scm\"...\n",
    ";  Loading \"2.3/Example_15/deriv-repr.scm\"... done\n",
    ";... done\n",
    ";Value: deriv\n",
    "\n",
    "1 ]=> (deriv '(+ x 3) 'x)\n",
    "\n",
    ";Value: 1\n",
    "\n",
    "1 ]=> (deriv '(* x y) 'x)\n",
    "\n",
    ";Value: y\n",
    "\n",
    "1 ]=> (deriv '(* (* x y) (+ x 3)) 'x)\n",
    "\n",
    ";Value 13: (+ (* x y) (* y (+ x 3)))"
   ]
  },
  {
   "cell_type": "markdown",
   "metadata": {
    "collapsed": true
   },
   "source": [
    "Although this is quite an improvement, the third example shows that there is still a long way to go before we get a program that puts expressions into a form that we might agree is “simplest.” The problem of algebraic simplification is complex because, among other reasons, a form that may be simplest for one purpose may not be for another."
   ]
  },
  {
   "cell_type": "markdown",
   "metadata": {
    "collapsed": true
   },
   "source": [
    "## Exercise 2.56: \n",
    "Show how to extend the basic differentiator to handle more kinds of expressions. For instance, implement the differentiation rule"
   ]
  },
  {
   "cell_type": "markdown",
   "metadata": {
    "collapsed": true
   },
   "source": [
    "$$\\frac{d(u^n)}{dx}=nu^{n-1}\\frac{du}{dx}$$"
   ]
  },
  {
   "cell_type": "markdown",
   "metadata": {
    "collapsed": true
   },
   "source": [
    "by adding a new clause to the $\\texttt{deriv}$ program and defining appropriate procedures $\\texttt{xponentiation?}$, $\\texttt{base}$, $\\texttt{exponent}$,and $\\texttt{make-exponentiation}$. (You may use the symbol ${**}$ to denote exponentiation.) Build in the rules that anything raised to the power 0 is 1 and anything raised to the power 1 is the thing itself."
   ]
  },
  {
   "cell_type": "markdown",
   "metadata": {
    "collapsed": true
   },
   "source": [
    "## 解答："
   ]
  },
  {
   "cell_type": "markdown",
   "metadata": {
    "collapsed": true
   },
   "source": [
    "$\\spadesuit\\quad$对Example_15中的$\\text{deriv-rules.scm}$新增："
   ]
  },
  {
   "cell_type": "code",
   "execution_count": 26,
   "metadata": {
    "collapsed": false
   },
   "outputs": [
    {
     "name": "stdout",
     "output_type": "stream",
     "text": [
      "(load \"2.3/Exercise_2.56/deriv-repr.scm\")\r\n",
      "\r\n",
      "(define (deriv expression var)\r\n",
      "  (cond ((number? expression) 0)\r\n",
      "        ((variable? expression) (if (same-variable? expression var) 1 0))\r\n",
      "        ((sum? expression) (make-sum (deriv (addend expression) var)\r\n",
      "                                     (deriv (augend expression) var)))\r\n",
      "        ((product? expression)\r\n",
      "         (make-sum\r\n",
      "           (make-product (multiplier expression)\r\n",
      "                         (deriv (multiplicand expression) var))\r\n",
      "           (make-product (deriv (multiplier expression) var)\r\n",
      "                         (multiplicand expression))))\r\n",
      "        ;; START NEWLINES\r\n",
      "        ((is-exponentiation? expression)\r\n",
      "         (let ((n (exponent expression))\r\n",
      "               (u (base expression)))\r\n",
      "           (make-product n (make-product (make-exponentiation u (- n 1))\r\n",
      "                                         (deriv u var)))))\r\n",
      "        ;; END NEWLINES\r\n",
      "        (else\r\n",
      "          (error \"Unknown expression type: DERIV\" expression))))\r\n"
     ]
    }
   ],
   "source": [
    "cat 2.3/Exercise_2.56/deriv-rules.scm"
   ]
  },
  {
   "cell_type": "markdown",
   "metadata": {
    "collapsed": true
   },
   "source": [
    "$\\spadesuit\\quad$对Example_15中的$\\text{deriv-repr.scm}$新增："
   ]
  },
  {
   "cell_type": "code",
   "execution_count": 27,
   "metadata": {
    "collapsed": false
   },
   "outputs": [
    {
     "name": "stdout",
     "output_type": "stream",
     "text": [
      ";;\r\n",
      ";; Constructors\r\n",
      ";;\r\n",
      "\r\n",
      ";; Construct the sum of a1 and a2\r\n",
      "(define (make-sum a1 a2)\r\n",
      "  (cond ((is-number? a1 0) a2)\r\n",
      "        ((is-number? a2 0) a1)\r\n",
      "        ((and (number? a1) (number? a2)) (+ a1 a2))\r\n",
      "        (else (list '+ a1 a2))))\r\n",
      "\r\n",
      ";; Construct the product of m1 and m2\r\n",
      "(define (make-product m1 m2)\r\n",
      "  (cond ((is-number? m1 1) m2)\r\n",
      "        ((is-number? m2 1) m1)\r\n",
      "        ((or (is-number? m1 0) (is-number? m2 0)) 0)\r\n",
      "        ((and (number? m1) (number? m2)) (* m1 m2))\r\n",
      "        (else (list '* m1 m2))))\r\n",
      "\r\n",
      "\r\n",
      ";;\r\n",
      ";; Selectors\r\n",
      ";;\r\n",
      "\r\n",
      ";; Addend of the sum s\r\n",
      "(define (addend s) (cadr s))\r\n",
      "\r\n",
      ";; Augend of the sum s\r\n",
      "(define (augend s) (caddr s))\r\n",
      "\r\n",
      ";; Multiplier of the product p\r\n",
      "(define (multiplier p) (cadr p))\r\n",
      "\r\n",
      ";; Multiplicand of the product p\r\n",
      "(define (multiplicand p) (caddr p))\r\n",
      "\r\n",
      ";;\r\n",
      ";; Predicates\r\n",
      ";;\r\n",
      "\r\n",
      ";; Is num number?\r\n",
      "(define (is-number? expression num)\r\n",
      "  (and (number? expression) (= expression num)))\r\n",
      "\r\n",
      ";; Is x variable?\r\n",
      "(define (variable? x) (symbol? x))\r\n",
      "\r\n",
      ";; Are v1 and v2 the same variable?\r\n",
      "(define (same-variable? v1 v2)\r\n",
      "  (and (variable? v1) (variable? v2) (eq? v1 v2)))\r\n",
      "\r\n",
      ";; Is x a sum?\r\n",
      "(define (sum? x)\r\n",
      "  (and (pair? x) (eq? (car x) '+)))\r\n",
      "\r\n",
      ";; Is x a product?\r\n",
      "(define (product? x)\r\n",
      "  (and (pair? x) (eq? (car x) '*)))\r\n",
      "\r\n",
      ";; START NEWLINES\r\n",
      "(define (make-exponentiation base exponent)\r\n",
      "  (cond ((= exponent 0) 1)\r\n",
      "        ((= exponent 1) base)\r\n",
      "        (else (list '** base exponent))))\r\n",
      "\r\n",
      "(define (is-exponentiation? x)\r\n",
      "  (and (pair? x) (eq? (car x) '**)))\r\n",
      "\r\n",
      "(define (base expression) (cadr expression))\r\n",
      "\r\n",
      "(define (exponent expression) (caddr expression))\r\n",
      ";; END NEWLINES\r\n",
      "\r\n"
     ]
    }
   ],
   "source": [
    "cat 2.3/Exercise_2.56/deriv-repr.scm"
   ]
  },
  {
   "cell_type": "markdown",
   "metadata": {
    "collapsed": true
   },
   "source": [
    "### Running Instance:"
   ]
  },
  {
   "cell_type": "raw",
   "metadata": {
    "collapsed": true
   },
   "source": [
    "1 ]=> (load \"2.3/Exercise_2.56/deriv-rules.scm\")\n",
    "\n",
    ";Loading \"2.3/Exercise_2.56/deriv-rules.scm\"...\n",
    ";  Loading \"2.3/Exercise_2.56/deriv-repr.scm\"... done\n",
    ";... done\n",
    ";Value: deriv\n",
    "\n",
    "1 ]=> (deriv '(** x 0) 'x)\n",
    "\n",
    ";Value: 0\n",
    "\n",
    "1 ]=> (deriv '(** x 1) 'x)\n",
    "\n",
    ";Value: 1\n",
    "\n",
    "1 ]=> (deriv '(** x 2) 'x)\n",
    "\n",
    ";Value 17: (* 2 x)\n",
    "\n",
    "1 ]=> (deriv '(** x 3) 'x)\n",
    "\n",
    ";Value 18: (* 3 (** x 2))\n",
    "\n",
    "1 ]=> (deriv '(+ (** x 3) (** x 2)) 'x)\n",
    "\n",
    ";Value 19: (+ (* 3 (** x 2)) (* 2 x))\n",
    "\n",
    "1 ]=> (deriv '(+ (** x 4) (** x 3)) 'x)\n",
    "\n",
    ";Value 20: (+ (* 4 (** x 3)) (* 3 (** x 2)))"
   ]
  },
  {
   "cell_type": "markdown",
   "metadata": {
    "collapsed": true
   },
   "source": [
    "## Exercise 2.57: \n",
    "Extend the differentiation program to handle sums and products of arbitrary numbers of (two or more) terms. Then the last example above could be expressed as"
   ]
  },
  {
   "cell_type": "raw",
   "metadata": {
    "collapsed": true
   },
   "source": [
    "(deriv '(* x y (+ x 3)) 'x)"
   ]
  },
  {
   "cell_type": "markdown",
   "metadata": {
    "collapsed": true
   },
   "source": [
    "Try to do this by changing only the representation for $\\text{sums}$ and $\\text{products}$, without changing the $\\texttt{deriv}$ procedure at all.For example, the $\\texttt{addend}$ of a sum would be the first term,and the $\\texttt{augend}$ would be the sum of the rest of the terms."
   ]
  },
  {
   "cell_type": "markdown",
   "metadata": {
    "collapsed": true
   },
   "source": [
    "$\\spadesuit\\quad$重新定义$\\text{sum}$的生成器和选择器过程："
   ]
  },
  {
   "cell_type": "code",
   "execution_count": 28,
   "metadata": {
    "collapsed": false
   },
   "outputs": [
    {
     "name": "stdout",
     "output_type": "stream",
     "text": [
      "(define (make-sum a1 . a2)\r\n",
      "  (if (single-operand? a2)\r\n",
      "    (let ((a2 (car a2)))\r\n",
      "      (cond ((is-number? a1 0) a2)\r\n",
      "            ((is-number? a2 0) a1)\r\n",
      "            ((and (number? a1) (number? a2)) (+ a1 a2))\r\n",
      "            (else (list '+ a1 a2))))\r\n",
      "    (cons '+ (cons a1 a2))))\r\n",
      "\r\n",
      "(define (addend s) (cadr s))\r\n",
      "\r\n",
      "(define (augend s)\r\n",
      "  (let ((tail-operand (cddr s)))\r\n",
      "    (if (single-operand? tail-operand)\r\n",
      "        (car tail-operand)\r\n",
      "        (apply make-sum tail-operand))))\r\n",
      "\r\n",
      "(define (sum? x)\r\n",
      "  (and (pair? x) (eq? (car x) '+)))\r\n"
     ]
    }
   ],
   "source": [
    "cat 2.3/Exercise_2.57/sum-in-deriv.scm"
   ]
  },
  {
   "cell_type": "markdown",
   "metadata": {
    "collapsed": true
   },
   "source": [
    "$\\spadesuit\\quad$重新定义$\\text{product}$的生成器和选择器过程："
   ]
  },
  {
   "cell_type": "code",
   "execution_count": 29,
   "metadata": {
    "collapsed": false
   },
   "outputs": [
    {
     "name": "stdout",
     "output_type": "stream",
     "text": [
      "(define (make-product m1 . m2)\r\n",
      "  (if (single-operand? m2)\r\n",
      "    (let ((m2 (car m2)))\r\n",
      "      (cond ((or (is-number? m1 0) (is-number? m2 0)) 0)\r\n",
      "            ((is-number? m1 1) m2)\r\n",
      "            ((is-number? m2 1) m1)\r\n",
      "            ((and (number? m1) (number? m2)) (* m1 m2))\r\n",
      "            (else (list '* m1 m2))))\r\n",
      "    (cons '* (cons m1 m2))))\r\n",
      "\r\n",
      "(define (multiplier p) (cadr p))\r\n",
      "\r\n",
      "(define (multiplicand p)\r\n",
      "  (let ((tail-operand (cddr p)))\r\n",
      "    (if (single-operand? tail-operand)\r\n",
      "        (car tail-operand)\r\n",
      "        (apply make-product tail-operand))))\r\n",
      "\r\n",
      "(define (product? x)\r\n",
      "  (and (pair? x) (eq? (car x) '*)))\r\n",
      "\r\n"
     ]
    }
   ],
   "source": [
    "cat 2.3/Exercise_2.57/product-in-deriv.scm"
   ]
  },
  {
   "cell_type": "markdown",
   "metadata": {
    "collapsed": true
   },
   "source": [
    "其中的$\\texttt{single-operand?}$过程将检查第二个参数是否只有单个操作符："
   ]
  },
  {
   "cell_type": "code",
   "execution_count": 30,
   "metadata": {
    "collapsed": false
   },
   "outputs": [
    {
     "name": "stdout",
     "output_type": "stream",
     "text": [
      "(define (single-operand? x)\r\n",
      "  (not (pair? (cdr x))))\r\n"
     ]
    }
   ],
   "source": [
    "cat 2.3/Exercise_2.57/is-single-operand.scm"
   ]
  },
  {
   "cell_type": "markdown",
   "metadata": {
    "collapsed": true
   },
   "source": [
    "### Running Instance:"
   ]
  },
  {
   "cell_type": "markdown",
   "metadata": {
    "collapsed": true
   },
   "source": [
    "$\\bullet\\quad$首先导入Exercise_2.56中的$\\texttt{deriv-rules}$过程："
   ]
  },
  {
   "cell_type": "raw",
   "metadata": {
    "collapsed": true
   },
   "source": [
    "1 ]=> (load \"2.3/Exercise_2.56/deriv-rules.scm\")\n",
    "\n",
    ";Loading \"2.3/Exercise_2.56/deriv-rules.scm\"...\n",
    ";  Loading \"2.3/Exercise_2.56/deriv-repr.scm\"... done\n",
    ";... done\n",
    ";Value: deriv"
   ]
  },
  {
   "cell_type": "markdown",
   "metadata": {
    "collapsed": true
   },
   "source": [
    "$\\bullet\\quad$然后导入本题中的重新定义的$\\texttt{sum}$与$\\texttt{product}$构造器与选择器过程覆盖Exercise_2.56中导入的对应过程："
   ]
  },
  {
   "cell_type": "raw",
   "metadata": {
    "collapsed": true
   },
   "source": [
    "1 ]=> (load \"2.3/Exercise_2.57/is-single-operand.scm\")\n",
    "\n",
    ";Loading \"2.3/Exercise_2.57/is-single-operand.scm\"... done\n",
    ";Value: single-operand?\n",
    "\n",
    "1 ]=> (load \"2.3/Exercise_2.57/sum-in-deriv.scm\")\n",
    "\n",
    ";Loading \"2.3/Exercise_2.57/sum-in-deriv.scm\"... done\n",
    ";Value: sum?\n",
    "\n",
    "1 ]=> (load \"2.3/Exercise_2.57/product-in-deriv.scm\")\n",
    "\n",
    ";Loading \"2.3/Exercise_2.57/product-in-deriv.scm\"... done\n",
    ";Value: product?"
   ]
  },
  {
   "cell_type": "markdown",
   "metadata": {
    "collapsed": true
   },
   "source": [
    "$\\bullet\\quad$运行表达式$\\textrm{(deriv '(* x y (+ x 3)) 'x)}$进行验证："
   ]
  },
  {
   "cell_type": "raw",
   "metadata": {
    "collapsed": true
   },
   "source": [
    "1 ]=> (deriv '(* x y (+ x 3)) 'x)\n",
    "\n",
    ";Value 13: (+ (* x y) (* y (+ x 3)))"
   ]
  },
  {
   "cell_type": "markdown",
   "metadata": {
    "collapsed": true
   },
   "source": [
    "一个较复杂的表达式的求值："
   ]
  },
  {
   "cell_type": "raw",
   "metadata": {
    "collapsed": true
   },
   "source": [
    "1 ]=> (deriv '(* (** x 4) y (+ x 3)) 'x)\n",
    "\n",
    ";Value 15: (+ (* (** x 4) y) (* (* 4 (** x 3)) (* y (+ x 3))))"
   ]
  },
  {
   "cell_type": "markdown",
   "metadata": {
    "collapsed": true
   },
   "source": [
    "## Exercise 2.58: \n",
    "Suppose we want to modify the differentiation program so that it works with ordinary mathematical notation, in which $\\text{+}$ and $\\ast$ are infix rather than prefix operators.Since the differentiation program is defined in terms of abstract data, we can modify it to work with different representations of expressions solely by changing the $\\text{predicates}$,$\\text{selectors}$, and $\\text{constructors}$ that define the representation of the algebraic expressions on which the differentiator is to operate."
   ]
  },
  {
   "cell_type": "markdown",
   "metadata": {
    "collapsed": true
   },
   "source": [
    "$\\quad a.\\;$Show how to do this in order to differentiate algebraic expressions presented in infix form, such as $\\textrm{(x + (3 * (x + (y + 2))))}$. To simplify the task, assume that $\\text{+}$ and $\\ast$ always take two arguments and that expressions are fully parenthesized."
   ]
  },
  {
   "cell_type": "markdown",
   "metadata": {
    "collapsed": true
   },
   "source": [
    "$\\quad b.\\;$The problem becomes substantially harder if we allow standard algebraic notation, such as $\\textrm{(x + 3 * (x + y + 2))}$, which drops unnecessary parentheses and assumes that multiplication is done before addition. Can you design appropriate predicates, selectors, and constructors for this notation such that our derivative program still works?"
   ]
  },
  {
   "cell_type": "code",
   "execution_count": null,
   "metadata": {
    "collapsed": true
   },
   "outputs": [],
   "source": []
  },
  {
   "cell_type": "code",
   "execution_count": null,
   "metadata": {
    "collapsed": true
   },
   "outputs": [],
   "source": []
  },
  {
   "cell_type": "code",
   "execution_count": null,
   "metadata": {
    "collapsed": true
   },
   "outputs": [],
   "source": []
  },
  {
   "cell_type": "code",
   "execution_count": null,
   "metadata": {
    "collapsed": true
   },
   "outputs": [],
   "source": []
  },
  {
   "cell_type": "code",
   "execution_count": null,
   "metadata": {
    "collapsed": true
   },
   "outputs": [],
   "source": []
  },
  {
   "cell_type": "code",
   "execution_count": null,
   "metadata": {
    "collapsed": true
   },
   "outputs": [],
   "source": []
  },
  {
   "cell_type": "code",
   "execution_count": null,
   "metadata": {
    "collapsed": true
   },
   "outputs": [],
   "source": []
  },
  {
   "cell_type": "code",
   "execution_count": null,
   "metadata": {
    "collapsed": true
   },
   "outputs": [],
   "source": []
  },
  {
   "cell_type": "code",
   "execution_count": null,
   "metadata": {
    "collapsed": true
   },
   "outputs": [],
   "source": []
  },
  {
   "cell_type": "code",
   "execution_count": null,
   "metadata": {
    "collapsed": true
   },
   "outputs": [],
   "source": []
  },
  {
   "cell_type": "code",
   "execution_count": null,
   "metadata": {
    "collapsed": true
   },
   "outputs": [],
   "source": []
  },
  {
   "cell_type": "code",
   "execution_count": null,
   "metadata": {
    "collapsed": true
   },
   "outputs": [],
   "source": []
  },
  {
   "cell_type": "code",
   "execution_count": null,
   "metadata": {
    "collapsed": true
   },
   "outputs": [],
   "source": []
  },
  {
   "cell_type": "code",
   "execution_count": null,
   "metadata": {
    "collapsed": true
   },
   "outputs": [],
   "source": []
  },
  {
   "cell_type": "code",
   "execution_count": null,
   "metadata": {
    "collapsed": true
   },
   "outputs": [],
   "source": []
  },
  {
   "cell_type": "code",
   "execution_count": null,
   "metadata": {
    "collapsed": true
   },
   "outputs": [],
   "source": []
  },
  {
   "cell_type": "code",
   "execution_count": null,
   "metadata": {
    "collapsed": true
   },
   "outputs": [],
   "source": []
  },
  {
   "cell_type": "code",
   "execution_count": null,
   "metadata": {
    "collapsed": true
   },
   "outputs": [],
   "source": []
  },
  {
   "cell_type": "code",
   "execution_count": null,
   "metadata": {
    "collapsed": true
   },
   "outputs": [],
   "source": []
  },
  {
   "cell_type": "code",
   "execution_count": null,
   "metadata": {
    "collapsed": true
   },
   "outputs": [],
   "source": []
  },
  {
   "cell_type": "code",
   "execution_count": null,
   "metadata": {
    "collapsed": true
   },
   "outputs": [],
   "source": []
  },
  {
   "cell_type": "code",
   "execution_count": null,
   "metadata": {
    "collapsed": true
   },
   "outputs": [],
   "source": []
  },
  {
   "cell_type": "code",
   "execution_count": null,
   "metadata": {
    "collapsed": true
   },
   "outputs": [],
   "source": []
  },
  {
   "cell_type": "code",
   "execution_count": null,
   "metadata": {
    "collapsed": true
   },
   "outputs": [],
   "source": []
  },
  {
   "cell_type": "code",
   "execution_count": null,
   "metadata": {
    "collapsed": true
   },
   "outputs": [],
   "source": []
  },
  {
   "cell_type": "code",
   "execution_count": null,
   "metadata": {
    "collapsed": true
   },
   "outputs": [],
   "source": []
  },
  {
   "cell_type": "code",
   "execution_count": null,
   "metadata": {
    "collapsed": true
   },
   "outputs": [],
   "source": []
  },
  {
   "cell_type": "code",
   "execution_count": null,
   "metadata": {
    "collapsed": true
   },
   "outputs": [],
   "source": []
  },
  {
   "cell_type": "code",
   "execution_count": null,
   "metadata": {
    "collapsed": true
   },
   "outputs": [],
   "source": []
  },
  {
   "cell_type": "code",
   "execution_count": null,
   "metadata": {
    "collapsed": true
   },
   "outputs": [],
   "source": []
  },
  {
   "cell_type": "code",
   "execution_count": null,
   "metadata": {
    "collapsed": true
   },
   "outputs": [],
   "source": []
  },
  {
   "cell_type": "code",
   "execution_count": null,
   "metadata": {
    "collapsed": true
   },
   "outputs": [],
   "source": []
  },
  {
   "cell_type": "code",
   "execution_count": null,
   "metadata": {
    "collapsed": true
   },
   "outputs": [],
   "source": []
  },
  {
   "cell_type": "code",
   "execution_count": null,
   "metadata": {
    "collapsed": true
   },
   "outputs": [],
   "source": []
  },
  {
   "cell_type": "code",
   "execution_count": null,
   "metadata": {
    "collapsed": true
   },
   "outputs": [],
   "source": []
  },
  {
   "cell_type": "code",
   "execution_count": null,
   "metadata": {
    "collapsed": true
   },
   "outputs": [],
   "source": []
  },
  {
   "cell_type": "code",
   "execution_count": null,
   "metadata": {
    "collapsed": true
   },
   "outputs": [],
   "source": []
  },
  {
   "cell_type": "code",
   "execution_count": null,
   "metadata": {
    "collapsed": true
   },
   "outputs": [],
   "source": []
  },
  {
   "cell_type": "code",
   "execution_count": null,
   "metadata": {
    "collapsed": true
   },
   "outputs": [],
   "source": []
  },
  {
   "cell_type": "code",
   "execution_count": null,
   "metadata": {
    "collapsed": true
   },
   "outputs": [],
   "source": []
  },
  {
   "cell_type": "code",
   "execution_count": null,
   "metadata": {
    "collapsed": true
   },
   "outputs": [],
   "source": []
  },
  {
   "cell_type": "code",
   "execution_count": null,
   "metadata": {
    "collapsed": true
   },
   "outputs": [],
   "source": []
  },
  {
   "cell_type": "code",
   "execution_count": null,
   "metadata": {
    "collapsed": true
   },
   "outputs": [],
   "source": []
  },
  {
   "cell_type": "code",
   "execution_count": null,
   "metadata": {
    "collapsed": true
   },
   "outputs": [],
   "source": []
  },
  {
   "cell_type": "code",
   "execution_count": null,
   "metadata": {
    "collapsed": true
   },
   "outputs": [],
   "source": []
  },
  {
   "cell_type": "code",
   "execution_count": null,
   "metadata": {
    "collapsed": true
   },
   "outputs": [],
   "source": []
  },
  {
   "cell_type": "code",
   "execution_count": null,
   "metadata": {
    "collapsed": true
   },
   "outputs": [],
   "source": []
  },
  {
   "cell_type": "code",
   "execution_count": null,
   "metadata": {
    "collapsed": true
   },
   "outputs": [],
   "source": []
  },
  {
   "cell_type": "code",
   "execution_count": null,
   "metadata": {
    "collapsed": true
   },
   "outputs": [],
   "source": []
  },
  {
   "cell_type": "code",
   "execution_count": null,
   "metadata": {
    "collapsed": true
   },
   "outputs": [],
   "source": []
  },
  {
   "cell_type": "code",
   "execution_count": null,
   "metadata": {
    "collapsed": true
   },
   "outputs": [],
   "source": []
  },
  {
   "cell_type": "code",
   "execution_count": null,
   "metadata": {
    "collapsed": true
   },
   "outputs": [],
   "source": []
  },
  {
   "cell_type": "code",
   "execution_count": null,
   "metadata": {
    "collapsed": true
   },
   "outputs": [],
   "source": []
  },
  {
   "cell_type": "code",
   "execution_count": null,
   "metadata": {
    "collapsed": true
   },
   "outputs": [],
   "source": []
  },
  {
   "cell_type": "code",
   "execution_count": null,
   "metadata": {
    "collapsed": true
   },
   "outputs": [],
   "source": []
  },
  {
   "cell_type": "code",
   "execution_count": null,
   "metadata": {
    "collapsed": true
   },
   "outputs": [],
   "source": []
  },
  {
   "cell_type": "code",
   "execution_count": null,
   "metadata": {
    "collapsed": true
   },
   "outputs": [],
   "source": []
  },
  {
   "cell_type": "code",
   "execution_count": null,
   "metadata": {
    "collapsed": true
   },
   "outputs": [],
   "source": []
  },
  {
   "cell_type": "code",
   "execution_count": null,
   "metadata": {
    "collapsed": true
   },
   "outputs": [],
   "source": []
  },
  {
   "cell_type": "code",
   "execution_count": null,
   "metadata": {
    "collapsed": true
   },
   "outputs": [],
   "source": []
  },
  {
   "cell_type": "code",
   "execution_count": null,
   "metadata": {
    "collapsed": true
   },
   "outputs": [],
   "source": []
  },
  {
   "cell_type": "code",
   "execution_count": null,
   "metadata": {
    "collapsed": true
   },
   "outputs": [],
   "source": []
  },
  {
   "cell_type": "code",
   "execution_count": null,
   "metadata": {
    "collapsed": true
   },
   "outputs": [],
   "source": []
  },
  {
   "cell_type": "code",
   "execution_count": null,
   "metadata": {
    "collapsed": true
   },
   "outputs": [],
   "source": []
  },
  {
   "cell_type": "code",
   "execution_count": null,
   "metadata": {
    "collapsed": true
   },
   "outputs": [],
   "source": []
  },
  {
   "cell_type": "code",
   "execution_count": null,
   "metadata": {
    "collapsed": true
   },
   "outputs": [],
   "source": []
  },
  {
   "cell_type": "code",
   "execution_count": null,
   "metadata": {
    "collapsed": true
   },
   "outputs": [],
   "source": []
  },
  {
   "cell_type": "code",
   "execution_count": null,
   "metadata": {
    "collapsed": true
   },
   "outputs": [],
   "source": []
  },
  {
   "cell_type": "code",
   "execution_count": null,
   "metadata": {
    "collapsed": true
   },
   "outputs": [],
   "source": []
  },
  {
   "cell_type": "code",
   "execution_count": null,
   "metadata": {
    "collapsed": true
   },
   "outputs": [],
   "source": []
  },
  {
   "cell_type": "code",
   "execution_count": null,
   "metadata": {
    "collapsed": true
   },
   "outputs": [],
   "source": []
  },
  {
   "cell_type": "code",
   "execution_count": null,
   "metadata": {
    "collapsed": true
   },
   "outputs": [],
   "source": []
  },
  {
   "cell_type": "code",
   "execution_count": null,
   "metadata": {
    "collapsed": true
   },
   "outputs": [],
   "source": []
  },
  {
   "cell_type": "code",
   "execution_count": null,
   "metadata": {
    "collapsed": true
   },
   "outputs": [],
   "source": []
  },
  {
   "cell_type": "code",
   "execution_count": null,
   "metadata": {
    "collapsed": true
   },
   "outputs": [],
   "source": []
  },
  {
   "cell_type": "code",
   "execution_count": null,
   "metadata": {
    "collapsed": true
   },
   "outputs": [],
   "source": []
  },
  {
   "cell_type": "code",
   "execution_count": null,
   "metadata": {
    "collapsed": true
   },
   "outputs": [],
   "source": []
  },
  {
   "cell_type": "code",
   "execution_count": null,
   "metadata": {
    "collapsed": true
   },
   "outputs": [],
   "source": []
  },
  {
   "cell_type": "code",
   "execution_count": null,
   "metadata": {
    "collapsed": true
   },
   "outputs": [],
   "source": []
  },
  {
   "cell_type": "code",
   "execution_count": null,
   "metadata": {
    "collapsed": true
   },
   "outputs": [],
   "source": []
  },
  {
   "cell_type": "code",
   "execution_count": null,
   "metadata": {
    "collapsed": true
   },
   "outputs": [],
   "source": []
  },
  {
   "cell_type": "code",
   "execution_count": null,
   "metadata": {
    "collapsed": true
   },
   "outputs": [],
   "source": []
  },
  {
   "cell_type": "code",
   "execution_count": null,
   "metadata": {
    "collapsed": true
   },
   "outputs": [],
   "source": []
  },
  {
   "cell_type": "code",
   "execution_count": null,
   "metadata": {
    "collapsed": true
   },
   "outputs": [],
   "source": []
  },
  {
   "cell_type": "code",
   "execution_count": null,
   "metadata": {
    "collapsed": true
   },
   "outputs": [],
   "source": []
  },
  {
   "cell_type": "code",
   "execution_count": null,
   "metadata": {
    "collapsed": true
   },
   "outputs": [],
   "source": []
  },
  {
   "cell_type": "code",
   "execution_count": null,
   "metadata": {
    "collapsed": true
   },
   "outputs": [],
   "source": []
  },
  {
   "cell_type": "code",
   "execution_count": null,
   "metadata": {
    "collapsed": true
   },
   "outputs": [],
   "source": []
  },
  {
   "cell_type": "code",
   "execution_count": null,
   "metadata": {
    "collapsed": true
   },
   "outputs": [],
   "source": []
  },
  {
   "cell_type": "code",
   "execution_count": null,
   "metadata": {
    "collapsed": true
   },
   "outputs": [],
   "source": []
  },
  {
   "cell_type": "code",
   "execution_count": null,
   "metadata": {
    "collapsed": true
   },
   "outputs": [],
   "source": []
  },
  {
   "cell_type": "code",
   "execution_count": null,
   "metadata": {
    "collapsed": true
   },
   "outputs": [],
   "source": []
  },
  {
   "cell_type": "code",
   "execution_count": null,
   "metadata": {
    "collapsed": true
   },
   "outputs": [],
   "source": []
  },
  {
   "cell_type": "code",
   "execution_count": null,
   "metadata": {
    "collapsed": true
   },
   "outputs": [],
   "source": []
  },
  {
   "cell_type": "code",
   "execution_count": null,
   "metadata": {
    "collapsed": true
   },
   "outputs": [],
   "source": []
  },
  {
   "cell_type": "code",
   "execution_count": null,
   "metadata": {
    "collapsed": true
   },
   "outputs": [],
   "source": []
  },
  {
   "cell_type": "code",
   "execution_count": null,
   "metadata": {
    "collapsed": true
   },
   "outputs": [],
   "source": []
  },
  {
   "cell_type": "code",
   "execution_count": null,
   "metadata": {
    "collapsed": true
   },
   "outputs": [],
   "source": []
  },
  {
   "cell_type": "code",
   "execution_count": null,
   "metadata": {
    "collapsed": true
   },
   "outputs": [],
   "source": []
  },
  {
   "cell_type": "code",
   "execution_count": null,
   "metadata": {
    "collapsed": true
   },
   "outputs": [],
   "source": []
  },
  {
   "cell_type": "code",
   "execution_count": null,
   "metadata": {
    "collapsed": true
   },
   "outputs": [],
   "source": []
  },
  {
   "cell_type": "code",
   "execution_count": null,
   "metadata": {
    "collapsed": true
   },
   "outputs": [],
   "source": []
  },
  {
   "cell_type": "code",
   "execution_count": null,
   "metadata": {
    "collapsed": true
   },
   "outputs": [],
   "source": []
  },
  {
   "cell_type": "code",
   "execution_count": null,
   "metadata": {
    "collapsed": true
   },
   "outputs": [],
   "source": []
  },
  {
   "cell_type": "code",
   "execution_count": null,
   "metadata": {
    "collapsed": true
   },
   "outputs": [],
   "source": []
  },
  {
   "cell_type": "code",
   "execution_count": null,
   "metadata": {
    "collapsed": true
   },
   "outputs": [],
   "source": []
  },
  {
   "cell_type": "code",
   "execution_count": null,
   "metadata": {
    "collapsed": true
   },
   "outputs": [],
   "source": []
  },
  {
   "cell_type": "code",
   "execution_count": null,
   "metadata": {
    "collapsed": true
   },
   "outputs": [],
   "source": []
  },
  {
   "cell_type": "code",
   "execution_count": null,
   "metadata": {
    "collapsed": true
   },
   "outputs": [],
   "source": []
  },
  {
   "cell_type": "code",
   "execution_count": null,
   "metadata": {
    "collapsed": true
   },
   "outputs": [],
   "source": []
  },
  {
   "cell_type": "code",
   "execution_count": null,
   "metadata": {
    "collapsed": true
   },
   "outputs": [],
   "source": []
  },
  {
   "cell_type": "code",
   "execution_count": null,
   "metadata": {
    "collapsed": true
   },
   "outputs": [],
   "source": []
  },
  {
   "cell_type": "code",
   "execution_count": null,
   "metadata": {
    "collapsed": true
   },
   "outputs": [],
   "source": []
  },
  {
   "cell_type": "code",
   "execution_count": null,
   "metadata": {
    "collapsed": true
   },
   "outputs": [],
   "source": []
  },
  {
   "cell_type": "code",
   "execution_count": null,
   "metadata": {
    "collapsed": true
   },
   "outputs": [],
   "source": []
  },
  {
   "cell_type": "code",
   "execution_count": null,
   "metadata": {
    "collapsed": true
   },
   "outputs": [],
   "source": []
  },
  {
   "cell_type": "code",
   "execution_count": null,
   "metadata": {
    "collapsed": true
   },
   "outputs": [],
   "source": []
  }
 ],
 "metadata": {
  "kernelspec": {
   "display_name": "Python [Root]",
   "language": "python",
   "name": "Python [Root]"
  },
  "language_info": {
   "codemirror_mode": {
    "name": "ipython",
    "version": 2
   },
   "file_extension": ".py",
   "mimetype": "text/x-python",
   "name": "python",
   "nbconvert_exporter": "python",
   "pygments_lexer": "ipython2",
   "version": "2.7.12"
  }
 },
 "nbformat": 4,
 "nbformat_minor": 0
}
