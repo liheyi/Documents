{
 "cells": [
  {
   "cell_type": "markdown",
   "metadata": {},
   "source": [
    "# 2.3 Symbolic Data"
   ]
  },
  {
   "cell_type": "markdown",
   "metadata": {},
   "source": [
    "All the compound data objects we have used so far were constructed ultimately from numbers. In this section we extend the representational capability of our language by introducing the ability to work with arbitrary symbols as data."
   ]
  },
  {
   "cell_type": "markdown",
   "metadata": {},
   "source": [
    "## 2.3.1 Quotation"
   ]
  },
  {
   "cell_type": "markdown",
   "metadata": {},
   "source": [
    "If we can form compound data using symbols, we can have lists such as"
   ]
  },
  {
   "cell_type": "raw",
   "metadata": {},
   "source": [
    "(a b c d)\n",
    "(23 45 17)\n",
    "((Norah 12) (Molly 9) (Anna 7) (Lauren 6) (Charlotte 4))"
   ]
  },
  {
   "cell_type": "markdown",
   "metadata": {},
   "source": [
    "Lists containing symbols can look just like the expressions of our language:"
   ]
  },
  {
   "cell_type": "raw",
   "metadata": {},
   "source": [
    "(* (+ 23 45)\n",
    "`  (+ x 9))\n",
    "(define (fact n)\n",
    "  (if (= n 1) 1 (* n (fact (- n 1)))))"
   ]
  },
  {
   "cell_type": "markdown",
   "metadata": {},
   "source": [
    "In order to manipulate symbols we need a new element in our language:the ability to $\\textbf{quote}$ a data object. Suppose we want to construct the list $\\textrm{(a b)}$. We can’t accomplish this with $\\textrm{(list a b)}$, because this expression constructs a list of the values of $a$ and $b$ rather than the symbols themselves. This issue is well known in the context of natural languages,where words and sentences may be regarded either as semantic entities or as character strings (syntactic entities). The common practice in natural languages is to use quotation marks to indicate that a word or a sentence is to be treated literally as a string of characters. For instance,the first letter of “John” is clearly “J.” If we tell somebody “say your name aloud,” we expect to hear that person’s name. However, if we tell somebody “say ‘your name’ aloud,” we expect to hear the words “your name.” Note that we are forced to nest quotation marks to describe what somebody else might say."
   ]
  },
  {
   "cell_type": "markdown",
   "metadata": {},
   "source": [
    "We can follow this same practice to identify $\\text{lists}$ and $\\text{symbols}$ that are to be treated as data objects rather than as expressions to be evaluated. However, our format for quoting differs from that of natural languages in that we place a quotation mark (traditionally, the single quote symbol $\\textbf{'}$) only at the beginning of the object to be quoted. We can get away with this in Scheme syntax because we rely on blanks and parentheses to delimit objects. Thus, the meaning of the single quote character is to quote the next object."
   ]
  },
  {
   "cell_type": "markdown",
   "metadata": {},
   "source": [
    "Now we can $\\text{distinguish}$ between symbols and their values:"
   ]
  },
  {
   "cell_type": "raw",
   "metadata": {},
   "source": [
    "1 ]=> (define a 1)\n",
    "\n",
    ";Value: a\n",
    "\n",
    "1 ]=> (define b 2)\n",
    "\n",
    ";Value: b\n",
    "\n",
    "1 ]=> (list a b)\n",
    "\n",
    ";Value 13: (1 2)\n",
    "\n",
    "1 ]=> (list 'a 'b)\n",
    "\n",
    ";Value 14: (a b)\n",
    "\n",
    "1 ]=> (list 'a b)\n",
    "\n",
    ";Value 15: (a 2)"
   ]
  },
  {
   "cell_type": "markdown",
   "metadata": {},
   "source": [
    "Quotation also allows us to type in compound objects, using the conventional printed representation for lists:"
   ]
  },
  {
   "cell_type": "raw",
   "metadata": {},
   "source": [
    "1 ]=> (car '(a b c))\n",
    "\n",
    ";Value: a\n",
    "\n",
    "1 ]=> (cdr '(a b c))\n",
    "\n",
    ";Value 16: (b c)"
   ]
  },
  {
   "cell_type": "markdown",
   "metadata": {},
   "source": [
    "In keeping with this, we can obtain the empty list by evaluating $\\textrm{'()}$, and thus dispense with the variable $\\text{nil}$."
   ]
  },
  {
   "cell_type": "markdown",
   "metadata": {},
   "source": [
    "## Example 14: Just an example"
   ]
  },
  {
   "cell_type": "markdown",
   "metadata": {},
   "source": [
    "One additional primitive used in manipulating symbols is $\\textrm{eq?}$, which takes two symbols as arguments and tests whether they are the same. Using $\\textrm{eq?}$, we can implement a useful procedure called $\\texttt{memq}$. This takes two arguments, a symbol and a list. If the symbol is not contained in the list (i.e., is not $\\textrm{eq?}$ to any item in the list), then $\\texttt{memq}$ returns false. Otherwise, it returns the sublist of the list beginning with the first occurrence of the symbol:"
   ]
  },
  {
   "cell_type": "code",
   "execution_count": 1,
   "metadata": {
    "collapsed": false
   },
   "outputs": [
    {
     "name": "stdout",
     "output_type": "stream",
     "text": [
      "(define (memq item x)\r\n",
      "  (cond ((null? x) #f)\r\n",
      "        ((eq? item (car x)) x)\r\n",
      "        (else (memq item (cdr x)))))\r\n"
     ]
    }
   ],
   "source": [
    "cat 2.3/Example_14/memq.scm"
   ]
  },
  {
   "cell_type": "markdown",
   "metadata": {},
   "source": [
    "For example, the value of"
   ]
  },
  {
   "cell_type": "raw",
   "metadata": {},
   "source": [
    "1 ]=> (memq 'apple '(pear banana prune))\n",
    "\n",
    ";Value: #f\n",
    "\n",
    "1 ]=> (memq 'apple '(x (apple sauce) y apple pear))\n",
    "\n",
    ";Value 13: (apple pear)"
   ]
  },
  {
   "cell_type": "markdown",
   "metadata": {
    "collapsed": true
   },
   "source": [
    "## Exercise 2.53: \n",
    "What would the interpreter print in response to evaluating each of the following expressions?"
   ]
  },
  {
   "cell_type": "raw",
   "metadata": {
    "collapsed": true
   },
   "source": [
    "(list 'a 'b 'c)\n",
    "(list (list 'george))\n",
    "(cdr '((x1 x2) (y1 y2)))\n",
    "(cadr '((x1 x2) (y1 y2)))\n",
    "(pair? (car '(a short list)))\n",
    "(memq 'red '((red shoes) (blue socks)))\n",
    "(memq 'red '(red shoes blue socks))"
   ]
  },
  {
   "cell_type": "markdown",
   "metadata": {
    "collapsed": true
   },
   "source": [
    "## Answer:"
   ]
  },
  {
   "cell_type": "raw",
   "metadata": {
    "collapsed": true
   },
   "source": [
    "1 ]=> (list 'a 'b 'c)\n",
    "\n",
    ";Value 13: (a b c)\n",
    "\n",
    "1 ]=> (list (list 'george))\n",
    "\n",
    ";Value 14: ((george))\n",
    "\n",
    "1 ]=> (cdr '((x1 x2) (y1 y2)))\n",
    "\n",
    ";Value 15: ((y1 y2))\n",
    "\n",
    "1 ]=> (cadr '((x1 x2) (y1 y2)))\n",
    "\n",
    ";Value 16: (y1 y2)\n",
    "\n",
    "1 ]=> (pair? (car '(a short list)))\n",
    "\n",
    ";Value: #f\n",
    "\n",
    "1 ]=> (memq 'red '((red shoes) (blue socks)))\n",
    "\n",
    ";Value: #f\n",
    "\n",
    "1 ]=> (memq 'red '(red shoes blue socks))\n",
    "\n",
    ";Value 17: (red shoes blue socks)"
   ]
  },
  {
   "cell_type": "markdown",
   "metadata": {
    "collapsed": true
   },
   "source": [
    "## Exercise 2.54: \n",
    "Two lists are said to be equal? if they contain equal elements arranged in the same order. For example,"
   ]
  },
  {
   "cell_type": "raw",
   "metadata": {
    "collapsed": true
   },
   "source": [
    "(equal? '(this is a list) '(this is a list))"
   ]
  },
  {
   "cell_type": "markdown",
   "metadata": {
    "collapsed": true
   },
   "source": [
    "is true, but"
   ]
  },
  {
   "cell_type": "raw",
   "metadata": {
    "collapsed": true
   },
   "source": [
    "(equal? '(this is a list) '(this (is a) list))"
   ]
  },
  {
   "cell_type": "markdown",
   "metadata": {
    "collapsed": true
   },
   "source": [
    "is false. To be more precise, we can define $\\texttt{equal?}$ recursively in terms of the basic $\\texttt{eq?}$ equality of symbols by saying that $a$ and $b$ are $\\texttt{equal?}$ if they are both symbols and the symbols are $\\texttt{eq?}$, or if they are both lists such that $\\textrm{(car a)}$ is $\\texttt{equal?}$ to $\\textrm{(car b)}$ and $\\textrm{(cdr a)}$ is $\\texttt{equal?}$ to $\\textrm{(cdr b)}$.Using this idea, implement $\\texttt{equal?}$ as a procedure."
   ]
  },
  {
   "cell_type": "markdown",
   "metadata": {
    "collapsed": true
   },
   "source": [
    "## Answer:"
   ]
  },
  {
   "cell_type": "code",
   "execution_count": 1,
   "metadata": {
    "collapsed": false
   },
   "outputs": [
    {
     "name": "stdout",
     "output_type": "stream",
     "text": [
      "(define (symbol-equal? x y) (eq? x y))\r\n",
      "(define (list-equal? x y)\r\n",
      "  (cond ((and (null? x) (null? y)) #t)\r\n",
      "        ((or (null? x) (null? y)) #f)\r\n",
      "        ((equal? (car x) (car y))\r\n",
      "         (equal? (cdr x) (cdr y)))\r\n",
      "        (else #f)))\r\n",
      "\r\n",
      "(define (equal? x y)\r\n",
      "  (cond ((and (symbol? x) (symbol? y))\r\n",
      "         (symbol-equal? x y))\r\n",
      "        ((and (list? x) (list? y))\r\n",
      "         (list-equal? x y))\r\n",
      "        (else (error \"Wrong type input x and y...\" x y))))\r\n"
     ]
    }
   ],
   "source": [
    "cat 2.3/Exercise_2.54/equal.scm"
   ]
  },
  {
   "cell_type": "markdown",
   "metadata": {
    "collapsed": true
   },
   "source": [
    "### Running Instance:"
   ]
  },
  {
   "cell_type": "raw",
   "metadata": {
    "collapsed": true
   },
   "source": [
    "1 ]=> (load \"2.3/Exercise_2.54/equal.scm\")\n",
    "\n",
    ";Loading \"2.3/Exercise_2.54/equal.scm\"... done\n",
    ";Value: equal?\n",
    "\n",
    "1 ]=> (equal? 'symbol 'symbol)\n",
    "\n",
    ";Value: #t\n",
    "\n",
    "1 ]=> (equal? 'symbol 'Symbol)\n",
    "\n",
    ";Value: #t\n",
    "\n",
    "1 ]=> (equal? 'symbol 'another-symbol)\n",
    "\n",
    ";Value: #f\n",
    "\n",
    "1 ]=> (equal? (list 'a 'b 'c) (list 'a 'b 'c))\n",
    "\n",
    ";Value: #t"
   ]
  },
  {
   "cell_type": "markdown",
   "metadata": {
    "collapsed": true
   },
   "source": [
    "## Exercise 2.55: \n",
    "Eva Lu Ator types to the interpreter the expression "
   ]
  },
  {
   "cell_type": "raw",
   "metadata": {
    "collapsed": true
   },
   "source": [
    "(car ''abracadabra)"
   ]
  },
  {
   "cell_type": "markdown",
   "metadata": {
    "collapsed": true
   },
   "source": [
    "To her surprise, the interpreter prints back quote. Explain."
   ]
  },
  {
   "cell_type": "markdown",
   "metadata": {
    "collapsed": true
   },
   "source": [
    "## Answer:"
   ]
  },
  {
   "cell_type": "markdown",
   "metadata": {
    "collapsed": true
   },
   "source": [
    "Because the expression"
   ]
  },
  {
   "cell_type": "raw",
   "metadata": {
    "collapsed": true
   },
   "source": [
    "(car ''abracadabra)"
   ]
  },
  {
   "cell_type": "markdown",
   "metadata": {
    "collapsed": true
   },
   "source": [
    "is equivalent to"
   ]
  },
  {
   "cell_type": "raw",
   "metadata": {
    "collapsed": true
   },
   "source": [
    "(car '(quote abracadabra))"
   ]
  },
  {
   "cell_type": "markdown",
   "metadata": {
    "collapsed": true
   },
   "source": [
    "So,the interpreter prints:"
   ]
  },
  {
   "cell_type": "raw",
   "metadata": {
    "collapsed": true
   },
   "source": [
    "1 ]=> (car '(quote abracadabra))\n",
    "\n",
    ";Value: quote\n",
    "\n",
    "1 ]=> (cdr '(quote abracadabra))\n",
    "\n",
    ";Value 16: (abracadabra)"
   ]
  },
  {
   "cell_type": "markdown",
   "metadata": {
    "collapsed": true
   },
   "source": [
    "## Example 15: Symbolic Differentiation"
   ]
  },
  {
   "cell_type": "markdown",
   "metadata": {
    "collapsed": true
   },
   "source": [
    "As an illustration of symbol manipulation and a further illustration of data abstraction, consider the design of a procedure that performs symbolic differentiation of algebraic expressions. We would like the procedure to take as arguments an algebraic expression and a variable and to return the $\\text{derivative}$ of the expression with respect to the variable. For example, if the arguments to the procedure are $ax^2 + bx + c$ and $x$, the procedure should return $2ax + b$. Symbolic differentiation is of special historical significance in Lisp. It was one of the motivating examples behind the development of a computer language for symbol manipulation. Furthermore, it marked the beginning of the line of research that led to the development of powerful systems for symbolic mathematical work, which are currently being used by a growing number of applied mathematicians and physicists."
   ]
  },
  {
   "cell_type": "markdown",
   "metadata": {
    "collapsed": true
   },
   "source": [
    "In developing the symbolic-differentiation program, we will follow the same strategy of data abstraction that we followed in developing the rational-number system of Section 2.1.1. That is, we will first define a differentiation algorithm that operates on abstract objects such as “sums,” “products,” and “variables” without worrying about how these are to be represented. Only afterward will we address the representation problem."
   ]
  },
  {
   "cell_type": "markdown",
   "metadata": {
    "collapsed": true
   },
   "source": [
    "### $\\spadesuit\\quad$ The differentiation program with abstract data"
   ]
  },
  {
   "cell_type": "markdown",
   "metadata": {
    "collapsed": true
   },
   "source": [
    "In order to keep things simple, we will consider a very simple symbolic-differentiation program that handles expressions that are built up using only the operations of addition and multiplication with two arguments.\n",
    "Differentiation of any such expression can be carried out by applying the following reduction rules:"
   ]
  },
  {
   "cell_type": "markdown",
   "metadata": {
    "collapsed": true
   },
   "source": [
    "\\begin{align}\n",
    "\\frac{dc}{dx} & = 0,\\quad\\textrm{for c a constant or a variable different from x},\\\\\n",
    "\\frac{dx}{dx} & = 1,\\\\\n",
    "\\frac{d(u+v)}{dx} & = \\frac{du}{dx}+\\frac{dv}{dx},\\\\\n",
    "\\frac{d(uv)}{dx} & = u\\frac{dv}{dx}+v\\frac{du}{dx}.\n",
    "\\end{align}"
   ]
  },
  {
   "cell_type": "markdown",
   "metadata": {
    "collapsed": true
   },
   "source": [
    "Observe that the latter two rules are recursive in nature. That is, to obtain the derivative of a sum we first find the derivatives of the terms and add them. Each of the terms may in turn be an expression that needs to be decomposed. Decomposing into smaller and smaller pieces will eventually produce pieces that are either constants or variables, whose derivatives will be either 0 or 1."
   ]
  },
  {
   "cell_type": "markdown",
   "metadata": {
    "collapsed": true
   },
   "source": [
    "To embody these rules in a procedure we indulge in a little wishful thinking, as we did in designing the rational-number implementation.If we had a means for representing algebraic expressions, we should be able to tell whether an expression is a sum, a product, a constant, or a variable. We should be able to extract the parts of an expression.For a sum, for example we want to be able to extract the addend (first term) and the augend (second term). We should also be able to construct expressions from parts. Let us assume that we already have procedures to implement the following $\\text{selectors}$, $\\text{constructors}$, and $\\text{predicates}$:"
   ]
  },
  {
   "cell_type": "markdown",
   "metadata": {
    "collapsed": true
   },
   "source": [
    "\\begin{align}\n",
    "\\textrm{(variable? e)}&\\qquad\\text{Is e a variable?}\\\\\n",
    "\\textrm{(same-variable? v1 v2)}&\\qquad\\text{Are v1 and v2 the same variable?}\\\\\n",
    "\\textrm{(sum? e)}&\\qquad\\text{Is e a sum?}\\\\\n",
    "\\textrm{(addend e)}&\\qquad\\text{Addend of the sum e.}\\\\\n",
    "\\textrm{(augend e)}&\\qquad\\text{Augend of the sum e.}\\\\\n",
    "\\textrm{(make-sum a1 a2)}&\\qquad\\text{Construct the sum of a1 and a2.}\\\\\n",
    "\\textrm{(product? e)}&\\qquad\\text{Is e a product?}\\\\\n",
    "\\textrm{(multiplier e)}&\\qquad\\text{Multiplier of the product e.}\\\\\n",
    "\\textrm{(multiplicand e)}&\\qquad\\text{Multiplicand of the product e.}\\\\\n",
    "\\textrm{(make-product m1 m2)}&\\qquad\\text{Construct the product of m1 and m2.}\n",
    "\\end{align}"
   ]
  },
  {
   "cell_type": "markdown",
   "metadata": {
    "collapsed": true
   },
   "source": [
    "Using these, and the primitive predicate $\\texttt{number?}$, which identifies numbers,we can express the differentiation rules as the following procedure:"
   ]
  },
  {
   "cell_type": "code",
   "execution_count": 24,
   "metadata": {
    "collapsed": false
   },
   "outputs": [
    {
     "name": "stdout",
     "output_type": "stream",
     "text": [
      "(load \"2.3/Example_15/deriv-repr.scm\")\r\n",
      "\r\n",
      "(define (deriv expression var)\r\n",
      "  (cond ((number? expression) 0)\r\n",
      "        ((variable? expression) (if (same-variable? expression var) 1 0))\r\n",
      "        ((sum? expression) (make-sum (deriv (addend expression) var)\r\n",
      "                                     (deriv (augend expression) var)))\r\n",
      "        ((product? expression)\r\n",
      "         (make-sum\r\n",
      "           (make-product (multiplier expression)\r\n",
      "                         (deriv (multiplicand expression) var))\r\n",
      "           (make-product (deriv (multiplier expression) var)\r\n",
      "                         (multiplicand expression))))\r\n",
      "        (else\r\n",
      "          (error \"Unknown expression type: DERIV\" expression))))\r\n"
     ]
    }
   ],
   "source": [
    "cat 2.3/Example_15/deriv-rules.scm"
   ]
  },
  {
   "cell_type": "markdown",
   "metadata": {
    "collapsed": true
   },
   "source": [
    "This $\\texttt{deriv}$ procedure incorporates the complete differentiation algorithm.Since it is expressed in terms of abstract data, it will work no matter how we choose to represent algebraic expressions, as long as we\n",
    "design a proper set of selectors and constructors. This is the issue we must address next."
   ]
  },
  {
   "cell_type": "markdown",
   "metadata": {
    "collapsed": true
   },
   "source": [
    "### $\\spadesuit\\quad$ Representing algebraic expressions"
   ]
  },
  {
   "cell_type": "markdown",
   "metadata": {
    "collapsed": true
   },
   "source": [
    "We can imagine many ways to use list structure to represent algebraic expressions. For example, we could use lists of symbols that mirror the usual algebraic notation, representing $\\textrm{ax + b}$ as the list $\\textrm{(a $\\ast$ x + b)}$. However, one especially straightforward choice is to use the same parenthesized prefix notation that Lisp uses for combinations; that is,to represent $\\textrm{ax + b}$ as $\\textrm{(+ ($\\ast$ a x) b)}$. Then our data representation for the differentiation problem is as follows:"
   ]
  },
  {
   "cell_type": "markdown",
   "metadata": {
    "collapsed": true
   },
   "source": [
    "$\\bullet\\quad$The variables are symbols. They are identified by the primitive predicate $\\texttt{symbol?}$:"
   ]
  },
  {
   "cell_type": "code",
   "execution_count": 16,
   "metadata": {
    "collapsed": false
   },
   "outputs": [
    {
     "name": "stdout",
     "output_type": "stream",
     "text": [
      "(define (variable? x) (symbol? x))\r\n"
     ]
    }
   ],
   "source": [
    "cat 2.3/Example_15/is-variable.scm"
   ]
  },
  {
   "cell_type": "markdown",
   "metadata": {
    "collapsed": true
   },
   "source": [
    "$\\bullet\\quad$Two variables are the same if the symbols representing them are $\\texttt{eq?}$:"
   ]
  },
  {
   "cell_type": "code",
   "execution_count": 23,
   "metadata": {
    "collapsed": false
   },
   "outputs": [
    {
     "name": "stdout",
     "output_type": "stream",
     "text": [
      "(define (same-variable? v1 v2)\r\n",
      "  (and (variable? v1) (variable? v2) (eq? v1 v2)))\r\n"
     ]
    }
   ],
   "source": [
    "cat 2.3/Example_15/is-same-variable.scm"
   ]
  },
  {
   "cell_type": "markdown",
   "metadata": {
    "collapsed": true
   },
   "source": [
    "$\\bullet\\quad$Sums are constructed as lists:"
   ]
  },
  {
   "cell_type": "code",
   "execution_count": 6,
   "metadata": {
    "collapsed": false
   },
   "outputs": [
    {
     "name": "stdout",
     "output_type": "stream",
     "text": [
      "(define (make-sum a1 a2) (list '+ a1 a2))\r\n"
     ]
    }
   ],
   "source": [
    "cat 2.3/Example_15/make-sum.scm"
   ]
  },
  {
   "cell_type": "markdown",
   "metadata": {
    "collapsed": true
   },
   "source": [
    "$\\bullet\\quad$Products are constructed as lists:"
   ]
  },
  {
   "cell_type": "code",
   "execution_count": 7,
   "metadata": {
    "collapsed": false
   },
   "outputs": [
    {
     "name": "stdout",
     "output_type": "stream",
     "text": [
      "(define (make-product m1 m2) (list '* m1 m2))\r\n"
     ]
    }
   ],
   "source": [
    "cat 2.3/Example_15/make-product.scm"
   ]
  },
  {
   "cell_type": "markdown",
   "metadata": {
    "collapsed": true
   },
   "source": [
    "$\\bullet\\quad$A sum is a list whose first element is the symbol +:"
   ]
  },
  {
   "cell_type": "code",
   "execution_count": 14,
   "metadata": {
    "collapsed": false
   },
   "outputs": [
    {
     "name": "stdout",
     "output_type": "stream",
     "text": [
      "(define (sum? x) (and (pair? x) (eq? (car x) '+)))\r\n"
     ]
    }
   ],
   "source": [
    "cat 2.3/Example_15/is-sum.scm"
   ]
  },
  {
   "cell_type": "markdown",
   "metadata": {
    "collapsed": true
   },
   "source": [
    "$\\bullet\\quad$The addend is the second item of the sum list:"
   ]
  },
  {
   "cell_type": "code",
   "execution_count": 9,
   "metadata": {
    "collapsed": false
   },
   "outputs": [
    {
     "name": "stdout",
     "output_type": "stream",
     "text": [
      "(define (addend s) (cadr s))\r\n"
     ]
    }
   ],
   "source": [
    "cat 2.3/Example_15/addend.scm"
   ]
  },
  {
   "cell_type": "markdown",
   "metadata": {
    "collapsed": true
   },
   "source": [
    "$\\bullet\\quad$The augend is the third item of the sum list:"
   ]
  },
  {
   "cell_type": "code",
   "execution_count": 10,
   "metadata": {
    "collapsed": false
   },
   "outputs": [
    {
     "name": "stdout",
     "output_type": "stream",
     "text": [
      "(define (augend s) (caddr s))\r\n"
     ]
    }
   ],
   "source": [
    "cat 2.3/Example_15/augend.scm"
   ]
  },
  {
   "cell_type": "markdown",
   "metadata": {
    "collapsed": true
   },
   "source": [
    "$\\bullet\\quad$A product is a list whose first element is the symbol $\\ast$:"
   ]
  },
  {
   "cell_type": "code",
   "execution_count": 15,
   "metadata": {
    "collapsed": false
   },
   "outputs": [
    {
     "name": "stdout",
     "output_type": "stream",
     "text": [
      "(define (product? x) (and (pair? x) (eq? (car x) '*)))\r\n"
     ]
    }
   ],
   "source": [
    "cat 2.3/Example_15/is-product.scm"
   ]
  },
  {
   "cell_type": "markdown",
   "metadata": {
    "collapsed": true
   },
   "source": [
    "$\\bullet\\quad$The multiplier is the second item of the product list:"
   ]
  },
  {
   "cell_type": "code",
   "execution_count": 12,
   "metadata": {
    "collapsed": false
   },
   "outputs": [
    {
     "name": "stdout",
     "output_type": "stream",
     "text": [
      "(define (multiplier p) (cadr p))\r\n"
     ]
    }
   ],
   "source": [
    "cat 2.3/Example_15/multiplier.scm"
   ]
  },
  {
   "cell_type": "markdown",
   "metadata": {
    "collapsed": true
   },
   "source": [
    "$\\bullet\\quad$The multiplicand is the third item of the product list:"
   ]
  },
  {
   "cell_type": "code",
   "execution_count": 13,
   "metadata": {
    "collapsed": false
   },
   "outputs": [
    {
     "name": "stdout",
     "output_type": "stream",
     "text": [
      "(define (multiplicand p) (caddr p))\r\n"
     ]
    }
   ],
   "source": [
    "cat 2.3/Example_15/multiplicand.scm"
   ]
  },
  {
   "cell_type": "markdown",
   "metadata": {
    "collapsed": true
   },
   "source": [
    "Thus, we need only combine these with the algorithm as embodied by $\\texttt{deriv}$ in order to have a working symbolic-differentiation program."
   ]
  },
  {
   "cell_type": "markdown",
   "metadata": {
    "collapsed": true
   },
   "source": [
    "Let us look at some examples of its behavior:"
   ]
  },
  {
   "cell_type": "raw",
   "metadata": {
    "collapsed": true
   },
   "source": [
    "1 ]=> (deriv '(+ x 3) 'x)\n",
    "\n",
    ";Value 13: (+ 1 0)\n",
    "\n",
    "1 ]=> (deriv '(* x y) 'x)\n",
    "\n",
    ";Value 14: (+ (* x 0) (* 1 y))\n",
    "\n",
    "1 ]=> (deriv '(* (* x y) (+ x 3)) 'x)\n",
    "\n",
    ";Value 15: (+ (* (* x y) (+ 1 0)) (* (+ (* x 0) (* 1 y)) (+ x 3)))"
   ]
  },
  {
   "cell_type": "markdown",
   "metadata": {
    "collapsed": true
   },
   "source": [
    "The program produces answers that are correct; however, they are unsimplified.It is true that"
   ]
  },
  {
   "cell_type": "markdown",
   "metadata": {
    "collapsed": true
   },
   "source": [
    "$$\\frac{d(xy)}{dx}=x \\cdot 0 + 1 \\cdot y,$$"
   ]
  },
  {
   "cell_type": "markdown",
   "metadata": {
    "collapsed": true
   },
   "source": [
    "but we would like the program to know that $x \\cdot 0 = 0$, $1 \\cdot y = y$, and $0 \\cdot y = y$. The answer for the second example should have been simply $y$. As the third example shows, this becomes a serious issue when the\n",
    "expressions are complex."
   ]
  },
  {
   "cell_type": "markdown",
   "metadata": {
    "collapsed": true
   },
   "source": [
    "Our difficulty is much like the one we encountered with the rational-number implementation: we haven’t reduced answers to simplest form.To accomplish the rational-number reduction, we needed to change only the $\\text{constructors}$ and the $\\text{selectors}$ of the implementation. We can adopt a similar strategy here. We won’t change $\\texttt{deriv}$ at all. Instead, we will change $\\texttt{make-sum}$ so that if both summands are numbers, $\\texttt{make-sum}$ will add them and return their sum. Also, if one of the summands is 0, then $\\texttt{make-sum}$ will return the other summand."
   ]
  },
  {
   "cell_type": "code",
   "execution_count": 18,
   "metadata": {
    "collapsed": false
   },
   "outputs": [
    {
     "name": "stdout",
     "output_type": "stream",
     "text": [
      "(define (make-sum a1 a2)\r\n",
      "  (cond ((is-number? a1 0) a2)\r\n",
      "        ((is-number? a2 0) a1)\r\n",
      "        ((and (number? a1) (number? a2)) (+ a1 a2))\r\n",
      "        (else (list '+ a1 a2))))\r\n"
     ]
    }
   ],
   "source": [
    "cat 2.3/Example_15/make-sum-reduce.scm"
   ]
  },
  {
   "cell_type": "markdown",
   "metadata": {},
   "source": [
    "This uses the procedure $\\texttt{is-number?}$,which checks whether an expression is equal to a given number:"
   ]
  },
  {
   "cell_type": "code",
   "execution_count": 19,
   "metadata": {
    "collapsed": false
   },
   "outputs": [
    {
     "name": "stdout",
     "output_type": "stream",
     "text": [
      "(define (is-number? expression num)\r\n",
      "  (and (number? expression) (= expression num)))\r\n"
     ]
    }
   ],
   "source": [
    "cat 2.3/Example_15/is-number.scm"
   ]
  },
  {
   "cell_type": "markdown",
   "metadata": {
    "collapsed": true
   },
   "source": [
    "Similarly, we will change $\\texttt{make-product}$ to build in the rules that 0 times anything is 0 and 1 times anything is the thing itself:"
   ]
  },
  {
   "cell_type": "code",
   "execution_count": 20,
   "metadata": {
    "collapsed": false
   },
   "outputs": [
    {
     "name": "stdout",
     "output_type": "stream",
     "text": [
      "(define (make-product m1 m2)\r\n",
      "  (cond ((is-number? m1 1) m2)\r\n",
      "        ((is-number? m2 1) m1)\r\n",
      "        ((or (is-number? m1 0) (is-number? m2 0)) 0)\r\n",
      "        ((and (number? m1) (number? m2)) (* m1 m2))\r\n",
      "        (else (list '* m1 m2))))\r\n"
     ]
    }
   ],
   "source": [
    "cat 2.3/Example_15/make-product-reduce.scm"
   ]
  },
  {
   "cell_type": "markdown",
   "metadata": {
    "collapsed": true
   },
   "source": [
    "For simplicity, we will put all the $\\text{constructors}$, $\\text{selections}$ and $\\text{predicates}$ above given together:"
   ]
  },
  {
   "cell_type": "code",
   "execution_count": 25,
   "metadata": {
    "collapsed": false
   },
   "outputs": [
    {
     "name": "stdout",
     "output_type": "stream",
     "text": [
      ";;\r\n",
      ";; Constructors\r\n",
      ";;\r\n",
      "\r\n",
      ";; Construct the sum of a1 and a2\r\n",
      "(define (make-sum a1 a2)\r\n",
      "  (cond ((is-number? a1 0) a2)\r\n",
      "        ((is-number? a2 0) a1)\r\n",
      "        ((and (number? a1) (number? a2)) (+ a1 a2))\r\n",
      "        (else (list '+ a1 a2))))\r\n",
      "\r\n",
      ";; Construct the product of m1 and m2\r\n",
      "(define (make-product m1 m2)\r\n",
      "  (cond ((is-number? m1 1) m2)\r\n",
      "        ((is-number? m2 1) m1)\r\n",
      "        ((or (is-number? m1 0) (is-number? m2 0)) 0)\r\n",
      "        ((and (number? m1) (number? m2)) (* m1 m2))\r\n",
      "        (else (list '* m1 m2))))\r\n",
      "\r\n",
      "\r\n",
      ";;\r\n",
      ";; Selectors\r\n",
      ";;\r\n",
      "\r\n",
      ";; Addend of the sum s\r\n",
      "(define (addend s) (cadr s))\r\n",
      "\r\n",
      ";; Augend of the sum s\r\n",
      "(define (augend s) (caddr s))\r\n",
      "\r\n",
      ";; Multiplier of the product p\r\n",
      "(define (multiplier p) (cadr p))\r\n",
      "\r\n",
      ";; Multiplicand of the product p\r\n",
      "(define (multiplicand p) (caddr p))\r\n",
      "\r\n",
      ";;\r\n",
      ";; Predicates\r\n",
      ";;\r\n",
      "\r\n",
      ";; Is num number?\r\n",
      "(define (is-number? expression num)\r\n",
      "  (and (number? expression) (= expression num)))\r\n",
      "\r\n",
      ";; Is x variable?\r\n",
      "(define (variable? x) (symbol? x))\r\n",
      "\r\n",
      ";; Are v1 and v2 the same variable?\r\n",
      "(define (same-variable? v1 v2)\r\n",
      "  (and (variable? v1) (variable? v2) (eq? v1 v2)))\r\n",
      "\r\n",
      ";; Is x a sum?\r\n",
      "(define (sum? x)\r\n",
      "  (and (pair? x) (eq? (car x) '+)))\r\n",
      "\r\n",
      ";; Is x a product?\r\n",
      "(define (product? x)\r\n",
      "  (and (pair? x) (eq? (car x) '*)))\r\n"
     ]
    }
   ],
   "source": [
    "cat 2.3/Example_15/deriv-repr.scm"
   ]
  },
  {
   "cell_type": "markdown",
   "metadata": {
    "collapsed": true
   },
   "source": [
    "Here is how this version works on our three examples:"
   ]
  },
  {
   "cell_type": "raw",
   "metadata": {
    "collapsed": true
   },
   "source": [
    "1 ]=> (load \"2.3/Example_15/deriv-rules.scm\")\n",
    "\n",
    ";Loading \"2.3/Example_15/deriv-rules.scm\"...\n",
    ";  Loading \"2.3/Example_15/deriv-repr.scm\"... done\n",
    ";... done\n",
    ";Value: deriv\n",
    "\n",
    "1 ]=> (deriv '(+ x 3) 'x)\n",
    "\n",
    ";Value: 1\n",
    "\n",
    "1 ]=> (deriv '(* x y) 'x)\n",
    "\n",
    ";Value: y\n",
    "\n",
    "1 ]=> (deriv '(* (* x y) (+ x 3)) 'x)\n",
    "\n",
    ";Value 13: (+ (* x y) (* y (+ x 3)))"
   ]
  },
  {
   "cell_type": "markdown",
   "metadata": {
    "collapsed": true
   },
   "source": [
    "Although this is quite an improvement, the third example shows that there is still a long way to go before we get a program that puts expressions into a form that we might agree is “simplest.” The problem of algebraic simplification is complex because, among other reasons, a form that may be simplest for one purpose may not be for another."
   ]
  },
  {
   "cell_type": "markdown",
   "metadata": {
    "collapsed": true
   },
   "source": [
    "## Exercise 2.56: \n",
    "Show how to extend the basic differentiator to handle more kinds of expressions. For instance, implement the differentiation rule"
   ]
  },
  {
   "cell_type": "markdown",
   "metadata": {
    "collapsed": true
   },
   "source": [
    "$$\\frac{d(u^n)}{dx}=nu^{n-1}\\frac{du}{dx}$$"
   ]
  },
  {
   "cell_type": "markdown",
   "metadata": {
    "collapsed": true
   },
   "source": [
    "by adding a new clause to the $\\texttt{deriv}$ program and defining appropriate procedures $\\texttt{xponentiation?}$, $\\texttt{base}$, $\\texttt{exponent}$,and $\\texttt{make-exponentiation}$. (You may use the symbol ${**}$ to denote exponentiation.) Build in the rules that anything raised to the power 0 is 1 and anything raised to the power 1 is the thing itself."
   ]
  },
  {
   "cell_type": "markdown",
   "metadata": {
    "collapsed": true
   },
   "source": [
    "## 解答："
   ]
  },
  {
   "cell_type": "markdown",
   "metadata": {
    "collapsed": true
   },
   "source": [
    "$\\spadesuit\\quad$对Example_15中的$\\text{deriv-rules.scm}$新增："
   ]
  },
  {
   "cell_type": "code",
   "execution_count": 26,
   "metadata": {
    "collapsed": false
   },
   "outputs": [
    {
     "name": "stdout",
     "output_type": "stream",
     "text": [
      "(load \"2.3/Exercise_2.56/deriv-repr.scm\")\r\n",
      "\r\n",
      "(define (deriv expression var)\r\n",
      "  (cond ((number? expression) 0)\r\n",
      "        ((variable? expression) (if (same-variable? expression var) 1 0))\r\n",
      "        ((sum? expression) (make-sum (deriv (addend expression) var)\r\n",
      "                                     (deriv (augend expression) var)))\r\n",
      "        ((product? expression)\r\n",
      "         (make-sum\r\n",
      "           (make-product (multiplier expression)\r\n",
      "                         (deriv (multiplicand expression) var))\r\n",
      "           (make-product (deriv (multiplier expression) var)\r\n",
      "                         (multiplicand expression))))\r\n",
      "        ;; START NEWLINES\r\n",
      "        ((is-exponentiation? expression)\r\n",
      "         (let ((n (exponent expression))\r\n",
      "               (u (base expression)))\r\n",
      "           (make-product n (make-product (make-exponentiation u (- n 1))\r\n",
      "                                         (deriv u var)))))\r\n",
      "        ;; END NEWLINES\r\n",
      "        (else\r\n",
      "          (error \"Unknown expression type: DERIV\" expression))))\r\n"
     ]
    }
   ],
   "source": [
    "cat 2.3/Exercise_2.56/deriv-rules.scm"
   ]
  },
  {
   "cell_type": "markdown",
   "metadata": {
    "collapsed": true
   },
   "source": [
    "$\\spadesuit\\quad$对Example_15中的$\\text{deriv-repr.scm}$新增："
   ]
  },
  {
   "cell_type": "code",
   "execution_count": 27,
   "metadata": {
    "collapsed": false
   },
   "outputs": [
    {
     "name": "stdout",
     "output_type": "stream",
     "text": [
      ";;\r\n",
      ";; Constructors\r\n",
      ";;\r\n",
      "\r\n",
      ";; Construct the sum of a1 and a2\r\n",
      "(define (make-sum a1 a2)\r\n",
      "  (cond ((is-number? a1 0) a2)\r\n",
      "        ((is-number? a2 0) a1)\r\n",
      "        ((and (number? a1) (number? a2)) (+ a1 a2))\r\n",
      "        (else (list '+ a1 a2))))\r\n",
      "\r\n",
      ";; Construct the product of m1 and m2\r\n",
      "(define (make-product m1 m2)\r\n",
      "  (cond ((is-number? m1 1) m2)\r\n",
      "        ((is-number? m2 1) m1)\r\n",
      "        ((or (is-number? m1 0) (is-number? m2 0)) 0)\r\n",
      "        ((and (number? m1) (number? m2)) (* m1 m2))\r\n",
      "        (else (list '* m1 m2))))\r\n",
      "\r\n",
      "\r\n",
      ";;\r\n",
      ";; Selectors\r\n",
      ";;\r\n",
      "\r\n",
      ";; Addend of the sum s\r\n",
      "(define (addend s) (cadr s))\r\n",
      "\r\n",
      ";; Augend of the sum s\r\n",
      "(define (augend s) (caddr s))\r\n",
      "\r\n",
      ";; Multiplier of the product p\r\n",
      "(define (multiplier p) (cadr p))\r\n",
      "\r\n",
      ";; Multiplicand of the product p\r\n",
      "(define (multiplicand p) (caddr p))\r\n",
      "\r\n",
      ";;\r\n",
      ";; Predicates\r\n",
      ";;\r\n",
      "\r\n",
      ";; Is num number?\r\n",
      "(define (is-number? expression num)\r\n",
      "  (and (number? expression) (= expression num)))\r\n",
      "\r\n",
      ";; Is x variable?\r\n",
      "(define (variable? x) (symbol? x))\r\n",
      "\r\n",
      ";; Are v1 and v2 the same variable?\r\n",
      "(define (same-variable? v1 v2)\r\n",
      "  (and (variable? v1) (variable? v2) (eq? v1 v2)))\r\n",
      "\r\n",
      ";; Is x a sum?\r\n",
      "(define (sum? x)\r\n",
      "  (and (pair? x) (eq? (car x) '+)))\r\n",
      "\r\n",
      ";; Is x a product?\r\n",
      "(define (product? x)\r\n",
      "  (and (pair? x) (eq? (car x) '*)))\r\n",
      "\r\n",
      ";; START NEWLINES\r\n",
      "(define (make-exponentiation base exponent)\r\n",
      "  (cond ((= exponent 0) 1)\r\n",
      "        ((= exponent 1) base)\r\n",
      "        (else (list '** base exponent))))\r\n",
      "\r\n",
      "(define (is-exponentiation? x)\r\n",
      "  (and (pair? x) (eq? (car x) '**)))\r\n",
      "\r\n",
      "(define (base expression) (cadr expression))\r\n",
      "\r\n",
      "(define (exponent expression) (caddr expression))\r\n",
      ";; END NEWLINES\r\n",
      "\r\n"
     ]
    }
   ],
   "source": [
    "cat 2.3/Exercise_2.56/deriv-repr.scm"
   ]
  },
  {
   "cell_type": "markdown",
   "metadata": {
    "collapsed": true
   },
   "source": [
    "### Running Instance:"
   ]
  },
  {
   "cell_type": "raw",
   "metadata": {
    "collapsed": true
   },
   "source": [
    "1 ]=> (load \"2.3/Exercise_2.56/deriv-rules.scm\")\n",
    "\n",
    ";Loading \"2.3/Exercise_2.56/deriv-rules.scm\"...\n",
    ";  Loading \"2.3/Exercise_2.56/deriv-repr.scm\"... done\n",
    ";... done\n",
    ";Value: deriv\n",
    "\n",
    "1 ]=> (deriv '(** x 0) 'x)\n",
    "\n",
    ";Value: 0\n",
    "\n",
    "1 ]=> (deriv '(** x 1) 'x)\n",
    "\n",
    ";Value: 1\n",
    "\n",
    "1 ]=> (deriv '(** x 2) 'x)\n",
    "\n",
    ";Value 17: (* 2 x)\n",
    "\n",
    "1 ]=> (deriv '(** x 3) 'x)\n",
    "\n",
    ";Value 18: (* 3 (** x 2))\n",
    "\n",
    "1 ]=> (deriv '(+ (** x 3) (** x 2)) 'x)\n",
    "\n",
    ";Value 19: (+ (* 3 (** x 2)) (* 2 x))\n",
    "\n",
    "1 ]=> (deriv '(+ (** x 4) (** x 3)) 'x)\n",
    "\n",
    ";Value 20: (+ (* 4 (** x 3)) (* 3 (** x 2)))"
   ]
  },
  {
   "cell_type": "markdown",
   "metadata": {
    "collapsed": true
   },
   "source": [
    "## Exercise 2.57: \n",
    "Extend the differentiation program to handle sums and products of arbitrary numbers of (two or more) terms. Then the last example above could be expressed as"
   ]
  },
  {
   "cell_type": "raw",
   "metadata": {
    "collapsed": true
   },
   "source": [
    "(deriv '(* x y (+ x 3)) 'x)"
   ]
  },
  {
   "cell_type": "markdown",
   "metadata": {
    "collapsed": true
   },
   "source": [
    "Try to do this by changing only the representation for $\\text{sums}$ and $\\text{products}$, without changing the $\\texttt{deriv}$ procedure at all.For example, the $\\texttt{addend}$ of a sum would be the first term,and the $\\texttt{augend}$ would be the sum of the rest of the terms."
   ]
  },
  {
   "cell_type": "markdown",
   "metadata": {
    "collapsed": true
   },
   "source": [
    "$\\spadesuit\\quad$重新定义$\\text{sum}$的生成器和选择器过程："
   ]
  },
  {
   "cell_type": "code",
   "execution_count": 28,
   "metadata": {
    "collapsed": false
   },
   "outputs": [
    {
     "name": "stdout",
     "output_type": "stream",
     "text": [
      "(define (make-sum a1 . a2)\r\n",
      "  (if (single-operand? a2)\r\n",
      "    (let ((a2 (car a2)))\r\n",
      "      (cond ((is-number? a1 0) a2)\r\n",
      "            ((is-number? a2 0) a1)\r\n",
      "            ((and (number? a1) (number? a2)) (+ a1 a2))\r\n",
      "            (else (list '+ a1 a2))))\r\n",
      "    (cons '+ (cons a1 a2))))\r\n",
      "\r\n",
      "(define (addend s) (cadr s))\r\n",
      "\r\n",
      "(define (augend s)\r\n",
      "  (let ((tail-operand (cddr s)))\r\n",
      "    (if (single-operand? tail-operand)\r\n",
      "        (car tail-operand)\r\n",
      "        (apply make-sum tail-operand))))\r\n",
      "\r\n",
      "(define (sum? x)\r\n",
      "  (and (pair? x) (eq? (car x) '+)))\r\n"
     ]
    }
   ],
   "source": [
    "cat 2.3/Exercise_2.57/sum-in-deriv.scm"
   ]
  },
  {
   "cell_type": "markdown",
   "metadata": {
    "collapsed": true
   },
   "source": [
    "$\\spadesuit\\quad$重新定义$\\text{product}$的生成器和选择器过程："
   ]
  },
  {
   "cell_type": "code",
   "execution_count": 29,
   "metadata": {
    "collapsed": false
   },
   "outputs": [
    {
     "name": "stdout",
     "output_type": "stream",
     "text": [
      "(define (make-product m1 . m2)\r\n",
      "  (if (single-operand? m2)\r\n",
      "    (let ((m2 (car m2)))\r\n",
      "      (cond ((or (is-number? m1 0) (is-number? m2 0)) 0)\r\n",
      "            ((is-number? m1 1) m2)\r\n",
      "            ((is-number? m2 1) m1)\r\n",
      "            ((and (number? m1) (number? m2)) (* m1 m2))\r\n",
      "            (else (list '* m1 m2))))\r\n",
      "    (cons '* (cons m1 m2))))\r\n",
      "\r\n",
      "(define (multiplier p) (cadr p))\r\n",
      "\r\n",
      "(define (multiplicand p)\r\n",
      "  (let ((tail-operand (cddr p)))\r\n",
      "    (if (single-operand? tail-operand)\r\n",
      "        (car tail-operand)\r\n",
      "        (apply make-product tail-operand))))\r\n",
      "\r\n",
      "(define (product? x)\r\n",
      "  (and (pair? x) (eq? (car x) '*)))\r\n",
      "\r\n"
     ]
    }
   ],
   "source": [
    "cat 2.3/Exercise_2.57/product-in-deriv.scm"
   ]
  },
  {
   "cell_type": "markdown",
   "metadata": {
    "collapsed": true
   },
   "source": [
    "其中的$\\texttt{single-operand?}$过程将检查第二个参数是否只有单个操作符："
   ]
  },
  {
   "cell_type": "code",
   "execution_count": 30,
   "metadata": {
    "collapsed": false
   },
   "outputs": [
    {
     "name": "stdout",
     "output_type": "stream",
     "text": [
      "(define (single-operand? x)\r\n",
      "  (not (pair? (cdr x))))\r\n"
     ]
    }
   ],
   "source": [
    "cat 2.3/Exercise_2.57/is-single-operand.scm"
   ]
  },
  {
   "cell_type": "markdown",
   "metadata": {
    "collapsed": true
   },
   "source": [
    "### Running Instance:"
   ]
  },
  {
   "cell_type": "markdown",
   "metadata": {
    "collapsed": true
   },
   "source": [
    "$\\bullet\\quad$首先导入Exercise_2.56中的$\\texttt{deriv-rules}$过程："
   ]
  },
  {
   "cell_type": "raw",
   "metadata": {
    "collapsed": true
   },
   "source": [
    "1 ]=> (load \"2.3/Exercise_2.56/deriv-rules.scm\")\n",
    "\n",
    ";Loading \"2.3/Exercise_2.56/deriv-rules.scm\"...\n",
    ";  Loading \"2.3/Exercise_2.56/deriv-repr.scm\"... done\n",
    ";... done\n",
    ";Value: deriv"
   ]
  },
  {
   "cell_type": "markdown",
   "metadata": {
    "collapsed": true
   },
   "source": [
    "$\\bullet\\quad$然后导入本题中的重新定义的$\\texttt{sum}$与$\\texttt{product}$构造器与选择器过程覆盖Exercise_2.56中导入的对应过程："
   ]
  },
  {
   "cell_type": "raw",
   "metadata": {
    "collapsed": true
   },
   "source": [
    "1 ]=> (load \"2.3/Exercise_2.57/is-single-operand.scm\")\n",
    "\n",
    ";Loading \"2.3/Exercise_2.57/is-single-operand.scm\"... done\n",
    ";Value: single-operand?\n",
    "\n",
    "1 ]=> (load \"2.3/Exercise_2.57/sum-in-deriv.scm\")\n",
    "\n",
    ";Loading \"2.3/Exercise_2.57/sum-in-deriv.scm\"... done\n",
    ";Value: sum?\n",
    "\n",
    "1 ]=> (load \"2.3/Exercise_2.57/product-in-deriv.scm\")\n",
    "\n",
    ";Loading \"2.3/Exercise_2.57/product-in-deriv.scm\"... done\n",
    ";Value: product?"
   ]
  },
  {
   "cell_type": "markdown",
   "metadata": {
    "collapsed": true
   },
   "source": [
    "$\\bullet\\quad$运行表达式$\\textrm{(deriv '(* x y (+ x 3)) 'x)}$进行验证："
   ]
  },
  {
   "cell_type": "raw",
   "metadata": {
    "collapsed": true
   },
   "source": [
    "1 ]=> (deriv '(* x y (+ x 3)) 'x)\n",
    "\n",
    ";Value 13: (+ (* x y) (* y (+ x 3)))"
   ]
  },
  {
   "cell_type": "markdown",
   "metadata": {
    "collapsed": true
   },
   "source": [
    "一个较复杂的表达式的求值："
   ]
  },
  {
   "cell_type": "raw",
   "metadata": {
    "collapsed": true
   },
   "source": [
    "1 ]=> (deriv '(* (** x 4) y (+ x 3)) 'x)\n",
    "\n",
    ";Value 15: (+ (* (** x 4) y) (* (* 4 (** x 3)) (* y (+ x 3))))"
   ]
  },
  {
   "cell_type": "markdown",
   "metadata": {
    "collapsed": true
   },
   "source": [
    "## Exercise 2.58: \n",
    "Suppose we want to modify the differentiation program so that it works with ordinary mathematical notation, in which $\\text{+}$ and $\\ast$ are infix rather than prefix operators.Since the differentiation program is defined in terms of abstract data, we can modify it to work with different representations of expressions solely by changing the $\\text{predicates}$,$\\text{selectors}$, and $\\text{constructors}$ that define the representation of the algebraic expressions on which the differentiator is to operate."
   ]
  },
  {
   "cell_type": "markdown",
   "metadata": {
    "collapsed": true
   },
   "source": [
    "$\\quad a.\\;$Show how to do this in order to differentiate algebraic expressions presented in infix form, such as $\\textrm{(x + (3 * (x + (y + 2))))}$. To simplify the task, assume that $\\text{+}$ and $\\ast$ always take two arguments and that expressions are fully parenthesized."
   ]
  },
  {
   "cell_type": "markdown",
   "metadata": {
    "collapsed": true
   },
   "source": [
    "$\\quad b.\\;$The problem becomes substantially harder if we allow standard algebraic notation, such as $\\textrm{(x + 3 * (x + y + 2))}$, which drops unnecessary parentheses and assumes that multiplication is done before addition. Can you design appropriate predicates, selectors, and constructors for this notation such that our derivative program still works?"
   ]
  },
  {
   "cell_type": "markdown",
   "metadata": {
    "collapsed": true
   },
   "source": [
    "## 2.3.3 Example: Representing Sets"
   ]
  },
  {
   "cell_type": "markdown",
   "metadata": {
    "collapsed": true
   },
   "source": [
    "In the previous examples we built representations for two kinds of compound data objects: $\\text{rational numbers}$ and $\\text{algebraic expressions}$. In one of these examples we had the choice of simplifying (reducing) the expressions at either construction time or selection time, but other than that the choice of a representation for these structures in terms of lists was straightforward. When we turn to the representation of sets, the choice of a representation is not so obvious. Indeed, there are a number of possible representations, and they differ significantly from one another in several ways."
   ]
  },
  {
   "cell_type": "markdown",
   "metadata": {
    "collapsed": true
   },
   "source": [
    "Informally, a set is simply a collection of distinct objects. To give a more precise definition we can employ the method of data abstraction.That is, we define “set” by specifying the operations that are to be used on sets. These are $\\texttt{union-set}$, $\\texttt{intersection-set}$, $\\texttt{element-ofset?}$,and $\\texttt{adjoin-set}$. $\\texttt{element-of-set?}$ is a predicate that determines whether a given element is a member of a set. $\\texttt{adjoin-set}$ takes an object and a set as arguments and returns a set that contains the elements\n",
    "of the original set and also the adjoined element. $\\texttt{union-set}$ computes the union of two sets, which is the set containing each element that appears in either argument. $\\texttt{intersection-set}$ computes the intersection of two sets, which is the set containing only elements that appear in both arguments. From the viewpoint of data abstraction, we are free to design any representation that implements these operations in a way\n",
    "consistent with the interpretations given above."
   ]
  },
  {
   "cell_type": "markdown",
   "metadata": {
    "collapsed": true
   },
   "source": [
    "## Example 16: Sets as unordered lists"
   ]
  },
  {
   "cell_type": "markdown",
   "metadata": {
    "collapsed": true
   },
   "source": [
    "One way to represent a set is as a list of its elements in which no element appears more than once. The empty set is represented by the empty list. In this representation, $\\texttt{element-of-set?}$ is similar to the procedure $\\texttt{memq}$ of Section 2.3.1. It uses $\\texttt{equal?}$ instead of $\\texttt{eq?}$ so that the set elements need not be symbols:"
   ]
  },
  {
   "cell_type": "code",
   "execution_count": 1,
   "metadata": {
    "collapsed": false
   },
   "outputs": [
    {
     "name": "stdout",
     "output_type": "stream",
     "text": [
      "(define (element-of-set? x set)\r\n",
      "  (cond ((null? set) #f)\r\n",
      "        ((equal? x (car set)) #t)\r\n",
      "        (else (element-of-set? x (cdr set)))))\r\n"
     ]
    }
   ],
   "source": [
    "cat 2.3/Example_16/element-of-set.scm"
   ]
  },
  {
   "cell_type": "markdown",
   "metadata": {
    "collapsed": true
   },
   "source": [
    "Using this, we can write $\\texttt{adjoin-set}$. If the object to be adjoined is already in the set, we just return the set. Otherwise, we use $\\texttt{cons}$ to add the object to the list that represents the set:"
   ]
  },
  {
   "cell_type": "code",
   "execution_count": 2,
   "metadata": {
    "collapsed": false
   },
   "outputs": [
    {
     "name": "stdout",
     "output_type": "stream",
     "text": [
      "(define (adjoin-set x set)\r\n",
      "  (if (element-of-set? x set) set (cons x set)))\r\n"
     ]
    }
   ],
   "source": [
    "cat 2.3/Example_16/adjoin-set.scm"
   ]
  },
  {
   "cell_type": "markdown",
   "metadata": {
    "collapsed": true
   },
   "source": [
    "For $\\texttt{intersection-set}$ we can use a recursive strategy. If we know how to form the intersection of $\\text{set2}$ and the $\\text{cdr}$ of $\\text{set1}$, we only need to decide whether to include the $\\text{car}$ of $\\text{set1}$ in this. But this depends on whether $\\textrm{(car set1)}$ is also in $\\text{set2}$. Here is the resulting procedure:"
   ]
  },
  {
   "cell_type": "code",
   "execution_count": 3,
   "metadata": {
    "collapsed": false
   },
   "outputs": [
    {
     "name": "stdout",
     "output_type": "stream",
     "text": [
      "(define (intersection-set set1 set2)\r\n",
      "  (cond ((or (null? set1) (null? set2)) '())\r\n",
      "        ((element-of-set? (car set1) set2)\r\n",
      "         (cons (car set1) (intersection-set (cdr set1) set2)))\r\n",
      "        (else (intersection-set (cdr set1) set2))))\r\n"
     ]
    }
   ],
   "source": [
    "cat 2.3/Example_16/intersection-set.scm"
   ]
  },
  {
   "cell_type": "markdown",
   "metadata": {
    "collapsed": true
   },
   "source": [
    "In designing a representation, one of the issues we should be concerned with is $\\text{efficiency}$."
   ]
  },
  {
   "cell_type": "markdown",
   "metadata": {
    "collapsed": true
   },
   "source": [
    "Consider the number of steps required by our set operations. Since they all use $\\texttt{element-of-set?}$, the speed of this operation has a major impact on the efficiency of the set implementation as a whole. Now, in order to check whether an object is a member of a set,$\\texttt{element-of-set?}$ may have to scan the entire set. (In the worst case, the object turns out not to be in the set.) Hence, if the set has $n$ elements, $\\texttt{element-of-set?}$ might take up to $n$ steps. Thus, the number of steps required grows as $\\Theta(n)$. The number of steps required by $\\texttt{adjoin-set}$, which uses this operation, also grows as $\\Theta(n)$. For $\\texttt{intersection-set}$, which does an $\\texttt{element-of-set?}$ check for each element of $\\text{set1}$, the number of steps required grows as the product of the sizes of the sets involved, or $\\Theta(n^2)$ for two sets of size $n$. The same will be true of $\\texttt{union-set}$."
   ]
  },
  {
   "cell_type": "markdown",
   "metadata": {
    "collapsed": true
   },
   "source": [
    "## Exercise 2.59: \n",
    "Implement the $\\texttt{union-set}$ operation for the $\\text{unordered-list}$ representation of sets."
   ]
  },
  {
   "cell_type": "markdown",
   "metadata": {
    "collapsed": true
   },
   "source": [
    "## 解答："
   ]
  },
  {
   "cell_type": "markdown",
   "metadata": {},
   "source": [
    "$\\texttt{union-set}$过程将给定的两个表用$\\texttt{append}$过程组合成一个新的输入表，然后调用内部过程$\\texttt{iter}$，$\\texttt{iter}$维持输入表(input)和一个结果表(result)，它每次从输入表中取出一个元素，用 $\\texttt{element-of-set?}$检查这个元素是否已经存在于结果表，如果不存在，就用 $\\texttt{cons}$把这个元素加入结果表，否则就检查输入表的下一个元素，一直到输入表成为空表为止。"
   ]
  },
  {
   "cell_type": "markdown",
   "metadata": {},
   "source": [
    "在返回结果表之前对它执行了一次$\\texttt{reverse}$过程调用，因为$\\texttt{iter}$产生的结果表是逆序的"
   ]
  },
  {
   "cell_type": "code",
   "execution_count": 4,
   "metadata": {
    "collapsed": false
   },
   "outputs": [
    {
     "name": "stdout",
     "output_type": "stream",
     "text": [
      "(load \"2.3/Example_16/element-of-set.scm\")\r\n",
      "(define (iter input result)\r\n",
      "  (if (null? input) (reverse result)\r\n",
      "      (let ((current-element (car input))\r\n",
      "            (remain-element (cdr input)))\r\n",
      "        (if (element-of-set? current-element result)\r\n",
      "            (iter remian-element result)\r\n",
      "            (iter remain-element (cons current-element result))))))\r\n",
      "\r\n",
      "(define (union-set set1 set2)\r\n",
      "  (iter (append set1 set2) '()))\r\n"
     ]
    }
   ],
   "source": [
    "cat 2.3/Exercise_2.59/union-set.scm"
   ]
  },
  {
   "cell_type": "markdown",
   "metadata": {},
   "source": [
    "为了方便起见，我们将集合所拥有的四个基本操作过程定义在同一个文件中："
   ]
  },
  {
   "cell_type": "code",
   "execution_count": 5,
   "metadata": {
    "collapsed": false
   },
   "outputs": [
    {
     "name": "stdout",
     "output_type": "stream",
     "text": [
      "(define (element-of-set? x set)\r\n",
      "  (cond ((null? set) #f)\r\n",
      "        ((equal? x (car set)) #t)\r\n",
      "        (else (element-of-set? x (cdr set)))))\r\n",
      "\r\n",
      "(define (adjoin-set x set)\r\n",
      "  (if (element-of-set? x set) set (cons x set)))\r\n",
      "\r\n",
      "(define (intersection-set set1 set2)\r\n",
      "  (cond ((or (null? set1) (null? set2)) '())\r\n",
      "        ((element-of-set? (car set1) set2)\r\n",
      "         (cons (car set1) (intersection-set (cdr set1) set2)))\r\n",
      "        (else (intersection-set (cdr set1) set2))))\r\n",
      "\r\n",
      "\r\n",
      "(define (union-set set1 set2)\r\n",
      "  (define (iter input result)\r\n",
      "    (if (null? input) (reverse result)\r\n",
      "        (let ((current-element (car input))\r\n",
      "              (remain-element (cdr input)))\r\n",
      "          (if (element-of-set? current-element result)\r\n",
      "              (iter remian-element result)\r\n",
      "              (iter remain-element (cons current-element result))))))\r\n",
      "  (iter (append set1 set2) '()))\r\n"
     ]
    }
   ],
   "source": [
    "cat 2.3/Exercise_2.59/set-rules.scm"
   ]
  },
  {
   "cell_type": "markdown",
   "metadata": {},
   "source": [
    "### Running Instance:"
   ]
  },
  {
   "cell_type": "raw",
   "metadata": {},
   "source": [
    "1 ]=> (load \"2.3/Exercise_2.59/set-rules.scm\")\n",
    "\n",
    ";Loading \"2.3/Exercise_2.59/set-rules.scm\"... done\n",
    ";Value: union-set\n",
    "\n",
    "1 ]=> (element-of-set? '1 '(3 2 4 1))\n",
    "\n",
    ";Value: #t\n",
    "\n",
    "1 ]=> (element-of-set? '5 '(3 2 4 1))\n",
    "\n",
    ";Value: #f\n",
    "\n",
    "1 ]=> (adjoin-set '5 '(3 2 4 1))\n",
    "\n",
    ";Value 13: (5 3 2 4 1)\n",
    "\n",
    "1 ]=> (adjoin-set '4 '(3 2 4 1))\n",
    "\n",
    ";Value 14: (3 2 4 1)\n",
    "\n",
    "1 ]=> (intersection-set '(3 2 1) '(3 2 4 1))\n",
    "\n",
    ";Value 15: (3 2 1)\n",
    "\n",
    "1 ]=> (intersection-set '() '(3 2 4 1))\n",
    "\n",
    ";Value: ()\n",
    "\n",
    "1 ]=> (union-set '(1 5) '(3 2 4 1))\n",
    "\n",
    ";Value 16: (1 5 3 2 4)\n",
    "\n",
    "1 ]=> (union-set '() '(3 2 4 1))\n",
    "\n",
    ";Value 17: (3 2 4 1)"
   ]
  },
  {
   "cell_type": "markdown",
   "metadata": {
    "collapsed": true
   },
   "source": [
    "## Exercise 2.60: \n",
    "We specified that a set would be represented as a list with no duplicates. Now suppose we allow duplicates.For instance, the set $\\textrm{{1, 2, 3}}$ could be represented as the list $\\textrm{(2 3 2 1 3 2 2)}$. Design procedures $\\texttt{element-of-set?}$, $\\texttt{adjoin-set}$, $\\texttt{union-set}$, and $\\texttt{intersection-set}$ that operate on this representation. How does the efficiency of each compare with the corresponding procedure for the non-duplicate representation? Are there applications for which you would use this representation in preference to the non-duplicate one?"
   ]
  },
  {
   "cell_type": "markdown",
   "metadata": {
    "collapsed": true
   },
   "source": [
    "## 解答："
   ]
  },
  {
   "cell_type": "markdown",
   "metadata": {
    "collapsed": true
   },
   "source": [
    "$\\bullet\\quad$过程$\\texttt{element-of-set?}$可同时用于重复元素与无重复元素的集合版本，复杂度为$\\Theta(n)$"
   ]
  },
  {
   "cell_type": "code",
   "execution_count": 6,
   "metadata": {
    "collapsed": false
   },
   "outputs": [
    {
     "name": "stdout",
     "output_type": "stream",
     "text": [
      "(define (element-of-set? x set)\r\n",
      "  (cond ((null? set) #f)\r\n",
      "        ((equal? x (car set)) #t)\r\n",
      "        (else (element-of-set? x (cdr set)))))\r\n"
     ]
    }
   ],
   "source": [
    "cat 2.3/Exercise_2.60/element-of-set.scm"
   ]
  },
  {
   "cell_type": "markdown",
   "metadata": {
    "collapsed": true
   },
   "source": [
    "$\\bullet\\quad$过程$\\texttt{adjoin-set}$的重复元素版本无需调用$\\texttt{element-of-set?}$过程来检查要加入的元素是否已经存在于集合中，只需简单地使用$\\texttt{cons}$组合起来即可，因此复杂度为$\\Theta(1)$"
   ]
  },
  {
   "cell_type": "code",
   "execution_count": 7,
   "metadata": {
    "collapsed": false
   },
   "outputs": [
    {
     "name": "stdout",
     "output_type": "stream",
     "text": [
      "(define (adjoin-set x set) (cons x set))\r\n"
     ]
    }
   ],
   "source": [
    "cat 2.3/Exercise_2.60/adjoin-set.scm"
   ]
  },
  {
   "cell_type": "markdown",
   "metadata": {
    "collapsed": true
   },
   "source": [
    "$\\bullet\\quad$有重复元素集合的$\\texttt{intersection-set}$过程和无重复元素集合的$\\texttt{intersection-set}$过程很相似，但是重复元素集合的$\\texttt{intersection-set}$还需要增加一个条件：如果某个元素在两个输入列表中都存在的话，那么还要检查它在已有的结果表中是否存在，如果在结果表里已经有了这个元素，那么就忽略它，否则，就将它加入结果表。复杂度为$\\Theta(n^2)$"
   ]
  },
  {
   "cell_type": "code",
   "execution_count": 8,
   "metadata": {
    "collapsed": false
   },
   "outputs": [
    {
     "name": "stdout",
     "output_type": "stream",
     "text": [
      "(define (intersection-set set another)\r\n",
      "  (define (iter set result)\r\n",
      "    (if (or (null? set) (null? another)) (reverse result)\r\n",
      "        (let ((current-element (car set))\r\n",
      "              (remain-element (cdr set)))\r\n",
      "          (if (and (element-of-set? current-element another)\r\n",
      "                   (not (element-of-set? current-element result)))\r\n",
      "              (iter remain-element (cons current-element result))\r\n",
      "              (iter remain-element result)))))\r\n",
      "  (iter set '()))\r\n"
     ]
    }
   ],
   "source": [
    "cat 2.3/Exercise_2.60/intersection-set.scm"
   ]
  },
  {
   "cell_type": "markdown",
   "metadata": {
    "collapsed": true
   },
   "source": [
    "$\\bullet\\quad$过程$\\texttt{union-set}$可同时用于重复元素与无重复元素的集合版本，复杂度为$\\Theta(n^2)$"
   ]
  },
  {
   "cell_type": "code",
   "execution_count": 10,
   "metadata": {
    "collapsed": false
   },
   "outputs": [
    {
     "name": "stdout",
     "output_type": "stream",
     "text": [
      "(define (union-set set1 set2)\r\n",
      "  (define (iter input result)\r\n",
      "    (if (null? input) (reverse result)\r\n",
      "        (let ((current-element (car input))\r\n",
      "              (remain-element (cdr input)))\r\n",
      "          (if (element-of-set? current-element result)\r\n",
      "              (iter remian-element result)\r\n",
      "              (iter remain-element (cons current-element result))))))\r\n",
      "  (iter (append set1 set2) '()))\r\n"
     ]
    }
   ],
   "source": [
    "cat 2.3/Exercise_2.60/union-set.scm"
   ]
  },
  {
   "cell_type": "markdown",
   "metadata": {
    "collapsed": true
   },
   "source": [
    "可以看出，在复杂度方面，有重复元素集合的$\\texttt{adjoin-set}$比无重复元素集合的$\\texttt{adjoin-set}$要低一个量级，除此之外，两个版本的其他操作的复杂度都是一样的。"
   ]
  },
  {
   "cell_type": "markdown",
   "metadata": {
    "collapsed": true
   },
   "source": [
    "不过尽管如此，在有重复元素的集合进行$\\texttt{element-of-set?}$ 、$\\texttt{union-set}$和$\\texttt{intersection-set}$ ，算法的系数会比无重复元素的集合要高，随着重复元素的不断增多，带重复元素的集合进行以上三个操作将会越来越慢"
   ]
  },
  {
   "cell_type": "markdown",
   "metadata": {
    "collapsed": true
   },
   "source": [
    "因此，对于插入操作频繁的应用来说，可以使用有重复元素的集合；  \n",
    "而对于频繁进行查找、交集、并集这三个操作的应用来说，使用无重复元素的集合比较好。"
   ]
  },
  {
   "cell_type": "markdown",
   "metadata": {},
   "source": [
    "为了方便起见，我们将集合所拥有的四个基本操作过程定义在同一个文件中："
   ]
  },
  {
   "cell_type": "code",
   "execution_count": 16,
   "metadata": {
    "collapsed": false
   },
   "outputs": [
    {
     "name": "stdout",
     "output_type": "stream",
     "text": [
      "(define (element-of-set? x set)\r\n",
      "  (cond ((null? set) #f)\r\n",
      "        ((equal? x (car set)) #t)\r\n",
      "        (else (element-of-set? x (cdr set)))))\r\n",
      "\r\n",
      "(define (adjoin-set x set) (cons x set))\r\n",
      "\r\n",
      "(define (intersection-set set another)\r\n",
      "  (define (iter set result)\r\n",
      "    (if (or (null? set) (null? another)) (reverse result)\r\n",
      "        (let ((current-element (car set))\r\n",
      "              (remain-element (cdr set)))\r\n",
      "          (if (and (element-of-set? current-element another)\r\n",
      "                   (not (element-of-set? current-element result)))\r\n",
      "              (iter remain-element (cons current-element result))\r\n",
      "              (iter remain-element result)))))\r\n",
      "  (iter set '()))\r\n",
      "\r\n",
      "(define (union-set set1 set2)\r\n",
      "  (define (iter input result)\r\n",
      "    (if (null? input) (reverse result)\r\n",
      "        (let ((current-element (car input))\r\n",
      "              (remain-element (cdr input)))\r\n",
      "          (if (element-of-set? current-element result)\r\n",
      "              (iter remian-element result)\r\n",
      "              (iter remain-element (cons current-element result))))))\r\n",
      "  (iter (append set1 set2) '()))\r\n"
     ]
    }
   ],
   "source": [
    "cat 2.3/Exercise_2.60/set-rules.scm"
   ]
  },
  {
   "cell_type": "markdown",
   "metadata": {},
   "source": [
    "### Running Instance:"
   ]
  },
  {
   "cell_type": "raw",
   "metadata": {},
   "source": [
    "1 ]=> (load \"2.3/Exercise_2.60/set-rules.scm\")\n",
    "\n",
    ";Loading \"2.3/Exercise_2.60/set-rules.scm\"... done\n",
    ";Value: union-set\n",
    "\n",
    "1 ]=> (element-of-set? 3 (list 4 1 2 3 3))\n",
    "\n",
    ";Value: #t\n",
    "\n",
    "1 ]=> (element-of-set? 5 (list 4 1 2 3 3))\n",
    "\n",
    ";Value: #f\n",
    "\n",
    "1 ]=> (adjoin-set 3 (list 4 1 2 3 3))\n",
    "\n",
    ";Value 13: (3 4 1 2 3 3)\n",
    "\n",
    "1 ]=> (intersection-set (list 1 2 1 2) (list 1 2 1 2 3))\n",
    "\n",
    ";Value 15: (1 2)\n",
    "\n",
    "1 ]=> (union-set '(1 2 3) '(3 4 5 6))\n",
    "\n",
    ";Value 13: (1 2 3 4 5 6)\n",
    "\n",
    "1 ]=> (union-set '(1 2 3 3) '(3 4 5 6))\n",
    "\n",
    ";Value 14: (1 2 3 4 5 6)"
   ]
  },
  {
   "cell_type": "markdown",
   "metadata": {
    "collapsed": true
   },
   "source": [
    "## Example 17: Sets as ordered lists"
   ]
  },
  {
   "cell_type": "markdown",
   "metadata": {
    "collapsed": true
   },
   "source": [
    "One way to speed up our set operations is to change the representation so that the set elements are listed in increasing order. To do this, we need some way to compare two objects so that we can say which is bigger. For example, we could compare symbols lexicographically, or we could agree on some method for assigning a unique number to an object and then compare the elements by comparing the corresponding numbers. To keep our discussion simple, we will consider only the case where the set elements are numbers, so that we can compare elements using $\\text{>}$ and $\\text{<}$. We will represent a set of numbers by listing its elements in increasing order. Whereas our first representation above allowed us to represent the set $\\textrm{{1, 3, 6, 10}}$ by listing the elements in any order, our new representation allows only the list $\\textrm{(1 3 6 10)}$."
   ]
  },
  {
   "cell_type": "markdown",
   "metadata": {
    "collapsed": true
   },
   "source": [
    "One advantage of ordering shows up in $\\texttt{element-of-set?}$: In checking for the presence of an item, we no longer have to scan the entire set. If we reach a set element that is larger than the item we are looking for, then we know that the item is not in the set:"
   ]
  },
  {
   "cell_type": "code",
   "execution_count": 11,
   "metadata": {
    "collapsed": false
   },
   "outputs": [
    {
     "name": "stdout",
     "output_type": "stream",
     "text": [
      "(define (element-of-set? x set)\r\n",
      "  (cond ((null? set) #f)\r\n",
      "        ((= x (car set)) #t)\r\n",
      "        ((< x (car set)) #f)\r\n",
      "        (else (element-of-set? x (cdr set)))))\r\n"
     ]
    }
   ],
   "source": [
    "cat 2.3/Example_17/element-of-set.scm"
   ]
  },
  {
   "cell_type": "markdown",
   "metadata": {
    "collapsed": true
   },
   "source": [
    "How many steps does this save? In the worst case, the item we are looking for may be the largest one in the set, so the number of steps is the same as for the unordered representation. On the other hand, if we search for items of many different sizes we can expect that sometimes we will be able to stop searching at a point near the beginning of the list and that other times we will still need to examine most of the list. On the average we should expect to have to examine about half of the items in the set. Thus, the average number of steps required will be about $n/2$. This is still $\\Theta(n)$ growth, but it does save us, on the average, a factor of 2 in number of steps over the previous implementation."
   ]
  },
  {
   "cell_type": "markdown",
   "metadata": {
    "collapsed": true
   },
   "source": [
    "We obtain a more impressive speedup with $\\texttt{intersection-set}$. In the unordered representation this operation required $\\Theta(n^2)$ steps, because we performed a complete scan of $\\text{set2}$ for each element of $\\text{set1}$. But with the ordered representation, we can use a more clever method. Begin by comparing the initial elements, $x1$ and $x2$, of the two sets. If $x1$ equals $x2$, then that gives an element of the intersection, and the rest of the intersection is the intersection of the $\\text{cdr}$-s of the two sets. Suppose,however, that $x1$ is less than $x2$. Since $x2$ is the smallest element in $\\text{set2}$, we can immediately conclude that $x1$ cannot appear anywhere in $\\text{set2}$ and hence is not in the intersection. Hence, the intersection is equal to the intersection of $\\text{set2}$ with the $\\text{cdr}$ of $\\text{set1}$. Similarly, if $x2$ is less than $x1$, then the intersection is given by the intersection of $\\text{set1}$ with the $\\text{cdr}$ of $\\text{set2}$. Here is the procedure:"
   ]
  },
  {
   "cell_type": "code",
   "execution_count": 12,
   "metadata": {
    "collapsed": false
   },
   "outputs": [
    {
     "name": "stdout",
     "output_type": "stream",
     "text": [
      "(define (intersection-set set1 set2)\r\n",
      "  (if (or (null? set1) (null? set2)) '()\r\n",
      "      (let ((x1 (car set1)) (x2 (car set2)))\r\n",
      "        (cond ((= x1 x2)\r\n",
      "               (cons x1 (intersection-set (cdr set1) (cdr set2))))\r\n",
      "              ((< x1 x2)\r\n",
      "               (intersection-set (cdr set1) set2))\r\n",
      "              ((< x2 x1)\r\n",
      "               (intersection-set set1 (cdr set2)))))))\r\n"
     ]
    }
   ],
   "source": [
    "cat 2.3/Example_17/intersection-set.scm"
   ]
  },
  {
   "cell_type": "markdown",
   "metadata": {
    "collapsed": true
   },
   "source": [
    "To estimate the number of steps required by this process, observe that at each step we reduce the intersection problem to computing intersections of smaller sets—removing the first element from $\\text{set1}$ or $\\text{set2}$ or both. Thus, the number of steps required is at most the sum of the sizes of $\\text{set1}$ and $\\text{set2}$, rather than the product of the sizes as with the unordered representation. This is $\\Theta(n)$ growth rather than $\\Theta(n^2)$—a considerable speedup, even for sets of moderate size."
   ]
  },
  {
   "cell_type": "markdown",
   "metadata": {
    "collapsed": true
   },
   "source": [
    "## Exercise 2.61: \n",
    "Give an implementation of $\\texttt{adjoin-set}$ using the ordered representation. By analogy with $\\texttt{element-of-set?}$ show how to take advantage of the ordering to produce a procedure that requires on the average about half as many steps as with the unordered representation."
   ]
  },
  {
   "cell_type": "markdown",
   "metadata": {
    "collapsed": true
   },
   "source": [
    "## 解答："
   ]
  },
  {
   "cell_type": "markdown",
   "metadata": {
    "collapsed": true
   },
   "source": [
    "$\\texttt{adjoin-set}$过程遍历列表并使用$\\texttt{cons}$重新组合整个表，并在重新组合的过程中将$x$加入到集合中去，复杂度为$\\Theta(n)$"
   ]
  },
  {
   "cell_type": "code",
   "execution_count": 14,
   "metadata": {
    "collapsed": false
   },
   "outputs": [
    {
     "name": "stdout",
     "output_type": "stream",
     "text": [
      "(define (adjoin-set x set)\r\n",
      "  (if (null? set) (list x)\r\n",
      "      (let ((current-element (car set))\r\n",
      "            (remain-element (cdr set)))\r\n",
      "        (cond ((= x current-element) set)\r\n",
      "              ((> x current-element)\r\n",
      "               (cons current-element (adjoin-set x remain-element)))\r\n",
      "              ((< x current-element) (cons x set))))))\r\n"
     ]
    }
   ],
   "source": [
    "cat 2.3/Exercise_2.61/adjoin-set.scm"
   ]
  },
  {
   "cell_type": "markdown",
   "metadata": {
    "collapsed": true
   },
   "source": [
    "## Exercise 2.62: \n",
    "Give a $\\Theta(n)$ implementation of $\\texttt{union-set}$ for sets represented as ordered lists."
   ]
  },
  {
   "cell_type": "markdown",
   "metadata": {
    "collapsed": true
   },
   "source": [
    "## Answer:"
   ]
  },
  {
   "cell_type": "code",
   "execution_count": 15,
   "metadata": {
    "collapsed": false
   },
   "outputs": [
    {
     "name": "stdout",
     "output_type": "stream",
     "text": [
      "(define (union-set set1 set2)\r\n",
      "  (cond ((and (null? set1) (null? set2)) '())\r\n",
      "        ((null? set1) set2)\r\n",
      "        ((null? set2) set1)\r\n",
      "        (else\r\n",
      "          (let ((x1 (car set1)) (x2 (car set2)))\r\n",
      "            (cond ((= x1 x2) (cons x1 (union-set (cdr set1) (cdr set2))))\r\n",
      "                  ((< x1 x2) (cons x1 (union-set (cdr set1) set2)))\r\n",
      "                  ((> x1 x2) (cons x2 (union-set set1 (cdr set2)))))))))\r\n"
     ]
    }
   ],
   "source": [
    "cat 2.3/Exercise_2.62/union-set.scm"
   ]
  },
  {
   "cell_type": "markdown",
   "metadata": {
    "collapsed": true
   },
   "source": [
    "为了方便测试，我们Example_17，Exercise_2.61与Exercise_2.62中集合的四个基本操作过程定义在同一个文件中："
   ]
  },
  {
   "cell_type": "code",
   "execution_count": 17,
   "metadata": {
    "collapsed": false
   },
   "outputs": [
    {
     "name": "stdout",
     "output_type": "stream",
     "text": [
      "(define (element-of-set? x set)\r\n",
      "  (cond ((null? set) #f)\r\n",
      "        ((= x (car set)) #t)\r\n",
      "        ((< x (car set)) #f)\r\n",
      "        (else (element-of-set? x (cdr set)))))\r\n",
      "\r\n",
      "(define (adjoin-set x set)\r\n",
      "  (if (null? set) (list x)\r\n",
      "      (let ((current-element (car set))\r\n",
      "            (remain-element (cdr set)))\r\n",
      "        (cond ((= x current-element) set)\r\n",
      "              ((> x current-element)\r\n",
      "               (cons current-element (adjoin-set x remain-element)))\r\n",
      "              ((< x current-element) (cons x set))))))\r\n",
      "\r\n",
      "(define (intersection-set set1 set2)\r\n",
      "  (if (or (null? set1) (null? set2)) '()\r\n",
      "      (let ((x1 (car set1)) (x2 (car set2)))\r\n",
      "        (cond ((= x1 x2)\r\n",
      "               (cons x1 (intersection-set (cdr set1) (cdr set2))))\r\n",
      "              ((< x1 x2)\r\n",
      "               (intersection-set (cdr set1) set2))\r\n",
      "              ((< x2 x1)\r\n",
      "               (intersection-set set1 (cdr set2)))))))\r\n",
      "\r\n",
      "(define (union-set set1 set2)\r\n",
      "  (cond ((and (null? set1) (null? set2)) '())\r\n",
      "        ((null? set1) set2)\r\n",
      "        ((null? set2) set1)\r\n",
      "        (else\r\n",
      "          (let ((x1 (car set1)) (x2 (car set2)))\r\n",
      "            (cond ((= x1 x2) (cons x1 (union-set (cdr set1) (cdr set2))))\r\n",
      "                  ((< x1 x2) (cons x1 (union-set (cdr set1) set2)))\r\n",
      "                  ((> x1 x2) (cons x2 (union-set set1 (cdr set2)))))))))\r\n"
     ]
    }
   ],
   "source": [
    "cat 2.3/Exercise_2.62/set-rules.scm"
   ]
  },
  {
   "cell_type": "markdown",
   "metadata": {
    "collapsed": true
   },
   "source": [
    "### Running Instance:"
   ]
  },
  {
   "cell_type": "raw",
   "metadata": {
    "collapsed": true
   },
   "source": [
    "1 ]=> (load \"2.3/Exercise_2.62/set-rules.scm\")\n",
    "\n",
    ";Loading \"2.3/Exercise_2.62/set-rules.scm\"... done\n",
    ";Value: union-set\n",
    "\n",
    "1 ]=> (element-of-set? 1 (list 1 3 5 7))\n",
    "\n",
    ";Value: #t\n",
    "\n",
    "1 ]=> (element-of-set? 2 (list 1 3 5 7))\n",
    "\n",
    ";Value: #f\n",
    "\n",
    "1 ]=> (adjoin-set 2 (list 1 3 5 7))\n",
    "\n",
    ";Value 13: (1 2 3 5 7)\n",
    "\n",
    "1 ]=> (adjoin-set 8 (list 1 3 5 7))\n",
    "\n",
    ";Value 14: (1 3 5 7 8)\n",
    "\n",
    "1 ]=> (intersection-set '(1 2 3 4) '(1 3 5 7))\n",
    "\n",
    ";Value 15: (1 3)\n",
    "\n",
    "1 ]=> (intersection-set '(2 4 6 8) '(1 3 5 7))\n",
    "\n",
    ";Value: ()\n",
    "\n",
    "1 ]=> (union-set '(2 4 6 8) '(1 3 5 7))\n",
    "\n",
    ";Value 16: (1 2 3 4 5 6 7 8)"
   ]
  },
  {
   "cell_type": "markdown",
   "metadata": {
    "collapsed": true
   },
   "source": [
    "## Example 18: Sets as binary trees"
   ]
  },
  {
   "cell_type": "markdown",
   "metadata": {
    "collapsed": true
   },
   "source": [
    "We can do better than the ordered-list representation by arranging the set elements in the form of a tree. Each node of the tree holds one element of the set, called the “entry” at that node, and a link to each of two other (possibly empty) nodes. The “left” link points to elements smaller than the one at the node, and the “right” link to elements greater than the one at the node."
   ]
  },
  {
   "cell_type": "raw",
   "metadata": {
    "collapsed": true
   },
   "source": [
    "     7                 3                  `5\n",
    "    `/ \\                / \\                 / \\\n",
    "    3  `9              `1  `7                3  `9\n",
    "   / \\  `\\                / \\              `/  `/ \\\n",
    "  `1  `5  `11              5  `9             1  `7  `11\n",
    "                          \\\n",
    "                          `11"
   ]
  },
  {
   "cell_type": "markdown",
   "metadata": {
    "collapsed": true
   },
   "source": [
    "Figure above shows some trees that represent the set $\\textrm{{1, 3, 5, 7, 9, 11}}$.The same set may be represented by a tree in a number of different ways. The only thing we require for a valid representation is that all elements in the left subtree be smaller than the node entry and that all elements in the right subtree be larger."
   ]
  },
  {
   "cell_type": "markdown",
   "metadata": {
    "collapsed": true
   },
   "source": [
    "The advantage of the tree representation is this: Suppose we want to check whether a number $x$ is contained in a $\\text{set}$. We begin by comparing $x$ with the entry in the top node. If $x$ is less than this, we know that we need only search the left subtree; if $x$ is greater, we need only search the right subtree. Now, if the tree is “balanced,” each of these subtrees will be about half the size of the original.Thus,in one step we have reduced the problem of searching a tree of size $n$ to searching a tree of size $n/2$. Since the size of the tree is halved at each step, we should expect that the number of steps needed to search a tree of size $n$ grows as $\\Theta(logn)$.For large sets, this will be a significant speedup over the previous representations."
   ]
  },
  {
   "cell_type": "markdown",
   "metadata": {
    "collapsed": true
   },
   "source": [
    "We can represent trees by using lists. Each node will be a list of three items: the entry at the node, the left subtree, and the right subtree. A left or a right subtree of the empty list will indicate that there is no subtree connected there. We can describe this representation by the following procedures:"
   ]
  },
  {
   "cell_type": "code",
   "execution_count": 18,
   "metadata": {
    "collapsed": false
   },
   "outputs": [
    {
     "name": "stdout",
     "output_type": "stream",
     "text": [
      "(define (make-tree entry left right)\r\n",
      "  (list entry left right))\r\n",
      "\r\n",
      "(define (entry tree) (car tree))\r\n",
      "(define (left-branch tree) (cadr tree))\r\n",
      "(define (right-branch tree) (caddr tree))\r\n"
     ]
    }
   ],
   "source": [
    "cat 2.3/Example_18/set-repr.scm"
   ]
  },
  {
   "cell_type": "markdown",
   "metadata": {
    "collapsed": true
   },
   "source": [
    "Now we can write the $\\texttt{element-of-set?}$ procedure using the strategy described above:"
   ]
  },
  {
   "cell_type": "code",
   "execution_count": 20,
   "metadata": {
    "collapsed": false
   },
   "outputs": [
    {
     "name": "stdout",
     "output_type": "stream",
     "text": [
      "(define (element-of-set? x set)\r\n",
      "  (cond ((null? set) #f)\r\n",
      "        ((= x (entry set)) #t)\r\n",
      "        ((< x (entry-set)) (element-of-set? x (left-branch set)))\r\n",
      "        ((> x (entry-set)) (element-of-set? x (right-branch set)))))\r\n"
     ]
    }
   ],
   "source": [
    "cat 2.3/Example_18/element-of-set.scm"
   ]
  },
  {
   "cell_type": "markdown",
   "metadata": {
    "collapsed": true
   },
   "source": [
    "Adjoining an item to a set is implemented similarly and also requires $\\Theta(logn)$ steps. To adjoin an item $x$, we compare $x$ with the node entry to determine whether $x$ should be added to the right or to the left branch, and having adjoined $x$ to the appropriate branch we piece this newly constructed branch together with the original entry and the other branch. If $x$ is equal to the entry, we just return the node. If we are asked\n",
    "to adjoin $x$ to an empty tree, we generate a tree that has $x$ as the entry and empty right and left branches. Here is the procedure:"
   ]
  },
  {
   "cell_type": "code",
   "execution_count": 21,
   "metadata": {
    "collapsed": false
   },
   "outputs": [
    {
     "name": "stdout",
     "output_type": "stream",
     "text": [
      "(define (adjoin-set x set)\r\n",
      "  (cond ((null? set) (make-tree x '() '()))\r\n",
      "        ((= x (entry set)) set)\r\n",
      "        ((< x (entry set))\r\n",
      "         (make-tree (entry set)\r\n",
      "                    (adjoin-set x (left-branch set))\r\n",
      "                    (right-branch set)))\r\n",
      "        ((> x (entry set))\r\n",
      "         (make-tree (entry set)\r\n",
      "                    (left-branch set)\r\n",
      "                    (adjoin-set x (right-branch set))))))\r\n"
     ]
    }
   ],
   "source": [
    "cat 2.3/Example_18/adjoin-set.scm"
   ]
  },
  {
   "cell_type": "markdown",
   "metadata": {
    "collapsed": true
   },
   "source": [
    "The above claim that searching the tree can be performed in a logarithmic number of steps rests on the assumption that the tree is “balanced,” i.e., that the left and the right subtree of every tree have approximately the same number of elements, so that each subtree contains about half the elements of its parent. But how can we be certain that the trees we construct will be balanced? Even if we start with a balanced tree, adding elements with $\\texttt{adjoin-set}$ may produce an unbalanced result. Since the position of a newly adjoined element depends on how the element compares with the items already in the set, we can expect that if we add elements “randomly” the tree will tend to be balanced on the average. But this is not a guarantee. For example, if we start with an empty set and adjoin the numbers 1 through 7 in sequence we end up with the highly unbalanced tree shown in Figure below:"
   ]
  },
  {
   "cell_type": "raw",
   "metadata": {
    "collapsed": true
   },
   "source": [
    "     1\n",
    "      \\\n",
    "      `2\n",
    "       \\\n",
    "        3\n",
    "        `\\\n",
    "         4\n",
    "          \\\n",
    "          `5\n",
    "           \\\n",
    "           `6\n",
    "            `\\\n",
    "             7"
   ]
  },
  {
   "cell_type": "markdown",
   "metadata": {
    "collapsed": true
   },
   "source": [
    "In this tree all the left subtrees are empty, so it has no advantage over a simple ordered list. One way to solve this problem is to define an operation that transforms an arbitrary tree into a balanced tree with the same elements. Then we can perform this transformation after every few $\\texttt{adjoin-set}$ operations to keep our\n",
    "set in balance. There are also other ways to solve this problem, most of which involve designing new data structures for which searching and insertion both can be done in $\\Theta(logn)$ steps."
   ]
  },
  {
   "cell_type": "code",
   "execution_count": null,
   "metadata": {
    "collapsed": true
   },
   "outputs": [],
   "source": []
  },
  {
   "cell_type": "code",
   "execution_count": null,
   "metadata": {
    "collapsed": true
   },
   "outputs": [],
   "source": []
  },
  {
   "cell_type": "code",
   "execution_count": null,
   "metadata": {
    "collapsed": true
   },
   "outputs": [],
   "source": []
  },
  {
   "cell_type": "code",
   "execution_count": null,
   "metadata": {
    "collapsed": true
   },
   "outputs": [],
   "source": []
  },
  {
   "cell_type": "code",
   "execution_count": null,
   "metadata": {
    "collapsed": true
   },
   "outputs": [],
   "source": []
  },
  {
   "cell_type": "code",
   "execution_count": null,
   "metadata": {
    "collapsed": true
   },
   "outputs": [],
   "source": []
  },
  {
   "cell_type": "code",
   "execution_count": null,
   "metadata": {
    "collapsed": true
   },
   "outputs": [],
   "source": []
  },
  {
   "cell_type": "code",
   "execution_count": null,
   "metadata": {
    "collapsed": true
   },
   "outputs": [],
   "source": []
  },
  {
   "cell_type": "code",
   "execution_count": null,
   "metadata": {
    "collapsed": true
   },
   "outputs": [],
   "source": []
  },
  {
   "cell_type": "code",
   "execution_count": null,
   "metadata": {
    "collapsed": true
   },
   "outputs": [],
   "source": []
  },
  {
   "cell_type": "code",
   "execution_count": null,
   "metadata": {
    "collapsed": true
   },
   "outputs": [],
   "source": []
  },
  {
   "cell_type": "code",
   "execution_count": null,
   "metadata": {
    "collapsed": true
   },
   "outputs": [],
   "source": []
  },
  {
   "cell_type": "code",
   "execution_count": null,
   "metadata": {
    "collapsed": true
   },
   "outputs": [],
   "source": []
  },
  {
   "cell_type": "code",
   "execution_count": null,
   "metadata": {
    "collapsed": true
   },
   "outputs": [],
   "source": []
  },
  {
   "cell_type": "code",
   "execution_count": null,
   "metadata": {
    "collapsed": true
   },
   "outputs": [],
   "source": []
  },
  {
   "cell_type": "code",
   "execution_count": null,
   "metadata": {
    "collapsed": true
   },
   "outputs": [],
   "source": []
  },
  {
   "cell_type": "code",
   "execution_count": null,
   "metadata": {
    "collapsed": true
   },
   "outputs": [],
   "source": []
  },
  {
   "cell_type": "code",
   "execution_count": null,
   "metadata": {
    "collapsed": true
   },
   "outputs": [],
   "source": []
  },
  {
   "cell_type": "code",
   "execution_count": null,
   "metadata": {
    "collapsed": true
   },
   "outputs": [],
   "source": []
  },
  {
   "cell_type": "code",
   "execution_count": null,
   "metadata": {
    "collapsed": true
   },
   "outputs": [],
   "source": []
  },
  {
   "cell_type": "code",
   "execution_count": null,
   "metadata": {
    "collapsed": true
   },
   "outputs": [],
   "source": []
  },
  {
   "cell_type": "code",
   "execution_count": null,
   "metadata": {
    "collapsed": true
   },
   "outputs": [],
   "source": []
  },
  {
   "cell_type": "code",
   "execution_count": null,
   "metadata": {
    "collapsed": true
   },
   "outputs": [],
   "source": []
  },
  {
   "cell_type": "code",
   "execution_count": null,
   "metadata": {
    "collapsed": true
   },
   "outputs": [],
   "source": []
  },
  {
   "cell_type": "code",
   "execution_count": null,
   "metadata": {
    "collapsed": true
   },
   "outputs": [],
   "source": []
  },
  {
   "cell_type": "code",
   "execution_count": null,
   "metadata": {
    "collapsed": true
   },
   "outputs": [],
   "source": []
  },
  {
   "cell_type": "code",
   "execution_count": null,
   "metadata": {
    "collapsed": true
   },
   "outputs": [],
   "source": []
  },
  {
   "cell_type": "code",
   "execution_count": null,
   "metadata": {
    "collapsed": true
   },
   "outputs": [],
   "source": []
  },
  {
   "cell_type": "code",
   "execution_count": null,
   "metadata": {
    "collapsed": true
   },
   "outputs": [],
   "source": []
  },
  {
   "cell_type": "code",
   "execution_count": null,
   "metadata": {
    "collapsed": true
   },
   "outputs": [],
   "source": []
  },
  {
   "cell_type": "code",
   "execution_count": null,
   "metadata": {
    "collapsed": true
   },
   "outputs": [],
   "source": []
  },
  {
   "cell_type": "code",
   "execution_count": null,
   "metadata": {
    "collapsed": true
   },
   "outputs": [],
   "source": []
  },
  {
   "cell_type": "code",
   "execution_count": null,
   "metadata": {
    "collapsed": true
   },
   "outputs": [],
   "source": []
  },
  {
   "cell_type": "code",
   "execution_count": null,
   "metadata": {
    "collapsed": true
   },
   "outputs": [],
   "source": []
  },
  {
   "cell_type": "code",
   "execution_count": null,
   "metadata": {
    "collapsed": true
   },
   "outputs": [],
   "source": []
  },
  {
   "cell_type": "code",
   "execution_count": null,
   "metadata": {
    "collapsed": true
   },
   "outputs": [],
   "source": []
  },
  {
   "cell_type": "code",
   "execution_count": null,
   "metadata": {
    "collapsed": true
   },
   "outputs": [],
   "source": []
  },
  {
   "cell_type": "code",
   "execution_count": null,
   "metadata": {
    "collapsed": true
   },
   "outputs": [],
   "source": []
  },
  {
   "cell_type": "code",
   "execution_count": null,
   "metadata": {
    "collapsed": true
   },
   "outputs": [],
   "source": []
  },
  {
   "cell_type": "code",
   "execution_count": null,
   "metadata": {
    "collapsed": true
   },
   "outputs": [],
   "source": []
  },
  {
   "cell_type": "code",
   "execution_count": null,
   "metadata": {
    "collapsed": true
   },
   "outputs": [],
   "source": []
  },
  {
   "cell_type": "code",
   "execution_count": null,
   "metadata": {
    "collapsed": true
   },
   "outputs": [],
   "source": []
  },
  {
   "cell_type": "code",
   "execution_count": null,
   "metadata": {
    "collapsed": true
   },
   "outputs": [],
   "source": []
  },
  {
   "cell_type": "code",
   "execution_count": null,
   "metadata": {
    "collapsed": true
   },
   "outputs": [],
   "source": []
  },
  {
   "cell_type": "code",
   "execution_count": null,
   "metadata": {
    "collapsed": true
   },
   "outputs": [],
   "source": []
  },
  {
   "cell_type": "code",
   "execution_count": null,
   "metadata": {
    "collapsed": true
   },
   "outputs": [],
   "source": []
  },
  {
   "cell_type": "code",
   "execution_count": null,
   "metadata": {
    "collapsed": true
   },
   "outputs": [],
   "source": []
  },
  {
   "cell_type": "code",
   "execution_count": null,
   "metadata": {
    "collapsed": true
   },
   "outputs": [],
   "source": []
  },
  {
   "cell_type": "code",
   "execution_count": null,
   "metadata": {
    "collapsed": true
   },
   "outputs": [],
   "source": []
  },
  {
   "cell_type": "code",
   "execution_count": null,
   "metadata": {
    "collapsed": true
   },
   "outputs": [],
   "source": []
  },
  {
   "cell_type": "code",
   "execution_count": null,
   "metadata": {
    "collapsed": true
   },
   "outputs": [],
   "source": []
  },
  {
   "cell_type": "code",
   "execution_count": null,
   "metadata": {
    "collapsed": true
   },
   "outputs": [],
   "source": []
  },
  {
   "cell_type": "code",
   "execution_count": null,
   "metadata": {
    "collapsed": true
   },
   "outputs": [],
   "source": []
  },
  {
   "cell_type": "code",
   "execution_count": null,
   "metadata": {
    "collapsed": true
   },
   "outputs": [],
   "source": []
  },
  {
   "cell_type": "code",
   "execution_count": null,
   "metadata": {
    "collapsed": true
   },
   "outputs": [],
   "source": []
  },
  {
   "cell_type": "code",
   "execution_count": null,
   "metadata": {
    "collapsed": true
   },
   "outputs": [],
   "source": []
  }
 ],
 "metadata": {
  "kernelspec": {
   "display_name": "Python [Root]",
   "language": "python",
   "name": "Python [Root]"
  },
  "language_info": {
   "codemirror_mode": {
    "name": "ipython",
    "version": 2
   },
   "file_extension": ".py",
   "mimetype": "text/x-python",
   "name": "python",
   "nbconvert_exporter": "python",
   "pygments_lexer": "ipython2",
   "version": "2.7.12"
  }
 },
 "nbformat": 4,
 "nbformat_minor": 0
}
