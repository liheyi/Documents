{
 "cells": [
  {
   "cell_type": "markdown",
   "metadata": {},
   "source": [
    "# 2.1 Introduction to Data Abstraction"
   ]
  },
  {
   "cell_type": "markdown",
   "metadata": {},
   "source": [
    "In Section 1.1.8, we noted that a procedure used as an element in creating a more complex procedure could be regarded not only as a collection of particular operations but also as a $\\textbf{procedural abstraction}$. That is, the details of how the procedure was implemented could be suppressed, and the particular procedure itself could be replaced by any other procedure with the same overall behavior. In other words, we could make an abstraction that would separate the way the procedure would be used from the details of how the procedure would be implemented in terms of more primitive procedures. The analogous notion for compound data is called $\\textbf{data abstraction}$. Data abstraction is a methodology that enables us to isolate how a compound data object is used from the details of how it is constructed from more primitive data objects."
   ]
  },
  {
   "cell_type": "markdown",
   "metadata": {},
   "source": [
    "The basic idea of $\\textbf{data abstraction}$ is to structure the programs that are to use compound data objects so that they operate on “abstract data.”That is, our programs should use data in such a way as to make no assumptions about the data that are not strictly necessary for performing the task at hand. At the same time, a “concrete” data representation is defined independent of the programs that use the data. The interface between\n",
    "these two parts of our system will be a set of procedures, called $\\textbf{selectors}$ and $\\textbf{constructors}$, that implement the abstract data in terms of the concrete representation. To illustrate this technique, we will consider how to design a set of procedures for manipulating rational numbers."
   ]
  },
  {
   "cell_type": "markdown",
   "metadata": {},
   "source": [
    "### 2.1.1"
   ]
  },
  {
   "cell_type": "markdown",
   "metadata": {},
   "source": [
    "## Example 1: Arithmetic Operations for Rational Numbers"
   ]
  },
  {
   "cell_type": "markdown",
   "metadata": {},
   "source": [
    "Suppose we want to do arithmetic with rational numbers. We want to be able to $\\text{add}$, $\\text{subtract}$, $\\text{multiply}$, and $\\text{divide}$ them and to $\\text{test}$ whether two rational numbers are $\\text{equal}$."
   ]
  },
  {
   "cell_type": "markdown",
   "metadata": {},
   "source": [
    "Let us begin by assuming that we already have a way of constructing a rational number from a numerator and a denominator. We also assume that, given a rational number, we have a way of extracting (or selecting) its numerator and its denominator. Let us further assume that the constructor and selectors are available as procedures:"
   ]
  },
  {
   "cell_type": "markdown",
   "metadata": {},
   "source": [
    "$\\bullet\\;\\;\\text{(make-rat ⟨n⟩ ⟨d⟩)}$ returns the rational number whose numerator is the integer $\\text{⟨n⟩}$ and whose denominator is the integer $\\text{⟨d⟩}$."
   ]
  },
  {
   "cell_type": "markdown",
   "metadata": {},
   "source": [
    "$\\bullet\\;\\;\\text{(numer ⟨x⟩)}$ returns the numerator of the rational number $\\text{⟨x⟩}$."
   ]
  },
  {
   "cell_type": "markdown",
   "metadata": {},
   "source": [
    "$\\bullet\\;\\;\\text{(denom ⟨x⟩)}$ returns the denominator of the rational number $\\text{⟨x⟩}$."
   ]
  },
  {
   "cell_type": "markdown",
   "metadata": {},
   "source": [
    "We are using here a powerful strategy of synthesis: $wishful$ $thinking$. We haven’t yet said how a rational number is represented, or how the procedures $\\text{numer}$, $\\text{denom}$, and $\\text{make-rat}$ should be implemented. Even so, if we did have these three procedures, we could then add, subtract, multiply, divide, and test equality by using the following relations:"
   ]
  },
  {
   "cell_type": "markdown",
   "metadata": {},
   "source": [
    "\\begin{align}\n",
    "\\frac{n_1}{d_1} + \\frac{n_2}{d_2} &= \\frac{n_1d_2 + n_2d_1}{d_1d_2},\\\\\n",
    "\\frac{n_1}{d_1} - \\frac{n_2}{d_2} &= \\frac{n_1d_2 - n_2d_1}{d_1d_2},\\\\\n",
    "\\frac{n_1}{d_1} \\cdot \\frac{n_2}{d_2} &= \\frac{n_1n_2}{d_1d_2},\\\\\n",
    "\\frac{n_1/d_1}{n_2/d_2} &= \\frac{n_1d_2}{n_2d_1},\\\\\n",
    "\\frac{n_1}{d_1} &= \\frac{n_2}{d_2}\\qquad\\text{if and only if $n_1d_2 = n_2d_1$}.\n",
    "\\end{align}"
   ]
  },
  {
   "cell_type": "markdown",
   "metadata": {},
   "source": [
    "We can express these rules as procedures:"
   ]
  },
  {
   "cell_type": "code",
   "execution_count": 1,
   "metadata": {
    "collapsed": false
   },
   "outputs": [
    {
     "name": "stdout",
     "output_type": "stream",
     "text": [
      ";; addition of rational number\r\n",
      "(define (add-rat x y)\r\n",
      "  (make-rat (+ (* (numer x) (denom y))\r\n",
      "               (* (numer y) (denom x)))\r\n",
      "            (* (denom x) (denom y))))\r\n",
      "\r\n",
      ";; subtraction of rational number\r\n",
      "(define (sub-rat x y)\r\n",
      "  (make-rat (- (* (numer x) (denom y))\r\n",
      "               (* (numer y) (denom x)))\r\n",
      "             (* (denom x) (denom y))))\r\n",
      "\r\n",
      ";; multiplication of rational number\r\n",
      "(define (mul-rat x y)\r\n",
      "  (make-rat (* (numer x) (numer y))\r\n",
      "            (* (denom x) (denom y))))\r\n",
      "\r\n",
      ";; division of rational numbers\r\n",
      "(define (div-rat x y)\r\n",
      "  (make-rat (* (numer x) (denom y))\r\n",
      "            (* (denom x) (numer y))))\r\n",
      "\r\n",
      ";; equality of rational numbers\r\n",
      "(define (equal-rat? x y)\r\n",
      "  (= (* (numer x) (denom y))\r\n",
      "     (* (numer y) (denom x))))\r\n"
     ]
    }
   ],
   "source": [
    "cat 2.1/Example_1/rat_op_rules.scm"
   ]
  },
  {
   "cell_type": "markdown",
   "metadata": {},
   "source": [
    "Now we have the $\\textbf{operations}$ on rational numbers defined in terms of the selector and constructor procedures numer, denom, and make-rat.But we $\\textbf{haven’t}$ yet defined these. What we need is some way to $\\textbf{glue together}$ a numerator and a denominator to form a rational number."
   ]
  },
  {
   "cell_type": "markdown",
   "metadata": {},
   "source": [
    "### Representing rational numbers"
   ]
  },
  {
   "cell_type": "markdown",
   "metadata": {},
   "source": [
    "$\\textbf{Pairs}$ offer a natural way to complete the rational-number system. Simply represent a rational number as a pair of two integers: a numerator and a denominator. Then $\\text{make-rat}$, $\\text{numer}$, and $\\text{denom}$ are readily implemented as follows:"
   ]
  },
  {
   "cell_type": "code",
   "execution_count": 2,
   "metadata": {
    "collapsed": false
   },
   "outputs": [
    {
     "name": "stdout",
     "output_type": "stream",
     "text": [
      ";; Another way to define the selectors and constructor\r\n",
      ";;\r\n",
      ";; (define make-rat cons)\r\n",
      ";; (define numer car)\r\n",
      ";; (define denom cdr)\r\n",
      "\r\n",
      "(define (make-rat n d) (cons n d))\r\n",
      "(define (numer x) (car x))\r\n",
      "(define (denom x) (cdr x))\r\n"
     ]
    }
   ],
   "source": [
    "cat 2.1/Example_1/rat_repr_by_pair.scm"
   ]
  },
  {
   "cell_type": "markdown",
   "metadata": {},
   "source": [
    "Also, in order to display the results of our computations, we can print rational numbers by printing the numerator, a slash, and the denominator:"
   ]
  },
  {
   "cell_type": "code",
   "execution_count": 3,
   "metadata": {
    "collapsed": false
   },
   "outputs": [
    {
     "name": "stdout",
     "output_type": "stream",
     "text": [
      "(define (print-rat x)\r\n",
      "  (newline)\r\n",
      "  (display (numer x))\r\n",
      "  (display \"/\")\r\n",
      "  (display (denom x)))\r\n"
     ]
    }
   ],
   "source": [
    "cat 2.1/Example_1/rat_print.scm"
   ]
  },
  {
   "cell_type": "markdown",
   "metadata": {},
   "source": [
    "Now we can try our $\\textbf{rational-number}$ procedures:"
   ]
  },
  {
   "cell_type": "raw",
   "metadata": {},
   "source": [
    "1 ]=> (load \"2.1/Example_1/rat_op_rules.scm\")\n",
    "\n",
    ";Loading \"2.1/Example_1/rat_op_rules.scm\"... done\n",
    ";Value: equal-rat?\n",
    "\n",
    "1 ]=> (load \"2.1/Example_1/rat_repr_by_pair.scm\")\n",
    "\n",
    ";Loading \"2.1/Example_1/rat_repr_by_pair.scm\"... done\n",
    ";Value: denom\n",
    "\n",
    "1 ]=> (load \"2.1/Example_1/rat_print.scm\")\n",
    "\n",
    ";Loading \"2.1/Example_1/rat_print.scm\"... done\n",
    ";Value: print-rat"
   ]
  },
  {
   "cell_type": "raw",
   "metadata": {},
   "source": [
    "1 ]=> (define one-half (make-rat 1 2))\n",
    "\n",
    ";Value: one-half\n",
    "\n",
    "1 ]=> (print-rat one-half)\n",
    "\n",
    "1/2"
   ]
  },
  {
   "cell_type": "raw",
   "metadata": {},
   "source": [
    "1 ]=> (define one-third (make-rat 1 3))\n",
    "\n",
    ";Value: one-third\n",
    "\n",
    "1 ]=> (print-rat (add-rat one-half one-third))\n",
    "\n",
    "5/6\n",
    "\n",
    "1 ]=> (print-rat (mul-rat one-half one-third))\n",
    "\n",
    "1/6\n",
    "\n",
    "1 ]=> (print-rat (add-rat one-third one-third))\n",
    "\n",
    "6/9"
   ]
  },
  {
   "cell_type": "markdown",
   "metadata": {},
   "source": [
    "As the final example shows, our rational-number implementation does not reduce rational numbers to lowest terms. We can remedy this by changing $\\text{make-rat}$. If we have a $gcd $procedure like the one in Section 1.2.5 that produces the greatest common divisor of two integers, we can"
   ]
  },
  {
   "cell_type": "code",
   "execution_count": 4,
   "metadata": {
    "collapsed": false
   },
   "outputs": [
    {
     "name": "stdout",
     "output_type": "stream",
     "text": [
      "(load \"../Chapter_1/1.2/Example_7/gcd_by_Euclid_Algorithm.scm\")\r\n",
      "\r\n",
      "(define (make-rat n d)\r\n",
      "  (let ((g (gcd n d)))\r\n",
      "    (cons (/ n g) (/ d g))))\r\n",
      "\r\n",
      "(define (numer x) (car x))\r\n",
      "(define (denom x) (cdr x))\r\n"
     ]
    }
   ],
   "source": [
    "cat 2.1/Example_1/rat_repr_by_gcd.scm"
   ]
  },
  {
   "cell_type": "markdown",
   "metadata": {},
   "source": [
    "Now we have"
   ]
  },
  {
   "cell_type": "raw",
   "metadata": {},
   "source": [
    "1 ]=> (load \"2.1/Example_1/rat_repr_by_gcd.scm\")\n",
    "\n",
    ";Loading \"2.1/Example_1/rat_repr_by_gcd.scm\"...\n",
    ";  Loading \"../Chapter_1/1.2/Example_7/gcd_by_Euclid_Algorithm.scm\"... done\n",
    ";... done\n",
    ";Value: denom\n",
    "\n",
    "1 ]=> (print-rat (add-rat one-third one-third))\n",
    "\n",
    "2/3"
   ]
  },
  {
   "cell_type": "markdown",
   "metadata": {},
   "source": [
    "as desired. This modification was accomplished by changing the constructor make-rat $\\textbf{without}$ changing any of the procedures (such as add-rat and mul-rat) that implement the actual operations."
   ]
  },
  {
   "cell_type": "markdown",
   "metadata": {},
   "source": [
    "## Exercise 2.1: \n",
    "Define a better version of $\\textbf{make-rat}$ that handles both positive and negative arguments. make-rat should normalize the sign so that if the rational number is positive, both the numerator and denominator are positive, and if the rational number is negative, only the numerator is negative."
   ]
  },
  {
   "cell_type": "markdown",
   "metadata": {},
   "source": [
    "## Answer:"
   ]
  },
  {
   "cell_type": "code",
   "execution_count": 5,
   "metadata": {
    "collapsed": false
   },
   "outputs": [
    {
     "name": "stdout",
     "output_type": "stream",
     "text": [
      "(load \"../Chapter_1/1.2/Example_7/gcd_by_Euclid_Algorithm.scm\")\r\n",
      "\r\n",
      "(define (make-rat n d)\r\n",
      "  (let ((g (gcd (abs n) (abs d))))\r\n",
      "    (if (< d 0)\r\n",
      "      (cons (- (/ n g)) (- (/ d g)))\r\n",
      "      (cons (/ n g) (/ d g)))))\r\n",
      "\r\n",
      "(define (numer x) (car x))\r\n",
      "(define (denom x) (cdr x))\r\n"
     ]
    }
   ],
   "source": [
    "cat 2.1/Exercise_2.1/rat_repr.scm"
   ]
  },
  {
   "cell_type": "markdown",
   "metadata": {},
   "source": [
    "### Running Instance:"
   ]
  },
  {
   "cell_type": "raw",
   "metadata": {},
   "source": [
    "1 ]=> (load \"2.1/Example_1/rat_op_rules.scm\")\n",
    "\n",
    ";Loading \"2.1/Example_1/rat_op_rules.scm\"... done\n",
    ";Value: equal-rat?\n",
    "\n",
    "1 ]=> (load \"2.1/Example_1/rat_print.scm\")\n",
    "\n",
    ";Loading \"2.1/Example_1/rat_print.scm\"... done\n",
    ";Value: print-rat\n",
    "\n",
    "1 ]=> (load \"2.1/Exercise_2.1/rat_repr.scm\")\n",
    "\n",
    ";Loading \"2.1/Exercise_2.1/rat_repr.scm\"...\n",
    ";  Loading \"../Chapter_1/1.2/Example_7/gcd_by_Euclid_Algorithm.scm\"... done\n",
    ";... done\n",
    ";Value: denom"
   ]
  },
  {
   "cell_type": "markdown",
   "metadata": {},
   "source": [
    "1 ]=> (define negative-one-half (make-rat (- 1) 2))\n",
    "\n",
    ";Value: negative-one-half\n",
    "\n",
    "1 ]=> (print-rat negative-one-half)\n",
    "\n",
    "-1/2"
   ]
  },
  {
   "cell_type": "raw",
   "metadata": {},
   "source": [
    "1 ]=> (define negative-one-half (make-rat 1 (- 2)))\n",
    "\n",
    ";Value: negative-one-half\n",
    "\n",
    "1 ]=> (print-rat negative-one-half)\n",
    "\n",
    "-1/2"
   ]
  },
  {
   "cell_type": "raw",
   "metadata": {},
   "source": [
    "1 ]=> (define two-thirds (make-rat 2 3))\n",
    "\n",
    ";Value: two-thirds\n",
    "\n",
    "1 ]=> (print-rat two-thirds)\n",
    "\n",
    "2/3"
   ]
  },
  {
   "cell_type": "raw",
   "metadata": {},
   "source": [
    "1 ]=> (print-rat (add-rat negative-one-half two-thirds))\n",
    "\n",
    "1/6\n",
    "\n",
    "1 ]=> (print-rat (mul-rat negative-one-half two-thirds))\n",
    "\n",
    "-1/3\n",
    "\n",
    "1 ]=> (print-rat (add-rat negative-one-half negative-one-half))\n",
    "\n",
    "-1/1\n",
    "\n",
    "1 ]=> (print-rat (add-rat two-thirds two-thirds))\n",
    "\n",
    "4/3"
   ]
  },
  {
   "cell_type": "markdown",
   "metadata": {},
   "source": [
    "### 2.1.2 Abstraction Barriers"
   ]
  },
  {
   "cell_type": "markdown",
   "metadata": {},
   "source": [
    "Before continuing with more examples of compound data and data abstraction,let us consider some of the issues raised by the rational-number example. We defined the rational-number operations in terms of a constructor make-rat and selectors numer and denom. In general, the underlying idea of data abstraction is to identify for each type of data object a basic set of operations in terms of which all manipulations of data objects of that type will be expressed, and then to use only those operations in manipulating the data."
   ]
  },
  {
   "cell_type": "markdown",
   "metadata": {},
   "source": [
    "We can envision the structure of the rational-number system as shown in Figure 2.1. The horizontal lines represent $abstraction$ $barriers$ that isolate different “levels” of the system. At each level, the barrier separates the programs (above) that use the data abstraction from the programs (below) that implement the data abstraction. Programs that use rational numbers manipulate them solely in terms of the procedures supplied “for public use” by the rational-number package: addrat, sub-rat, mul-rat, div-rat, and equal-rat?. These, in turn, are implemented solely in terms of the constructor and selectors make-rat, numer, and denom, which themselves are implemented in terms of pairs. The details of how pairs are implemented are irrelevant to the rest of the rational-number package so long as pairs can be manipulated by the use of cons, car, and cdr. In effect, procedures at each level are the interfaces that define the abstraction barriers and connect the different levels."
   ]
  },
  {
   "cell_type": "markdown",
   "metadata": {},
   "source": [
    "This simple idea has many advantages. One advantage is that it makes programs much easier to maintain and to modify. Any complex data structure can be represented in a variety of ways with the primitive data structures provided by a programming language. Of course, the choice of representation influences the programs that operate on it; thus, if the representation were to be changed at some later time, all such programs might have to be modified accordingly. This task could be time-consuming and expensive in the case of large programs unless the dependence on the representation were to be confined by design to a very few program modules."
   ]
  },
  {
   "cell_type": "markdown",
   "metadata": {},
   "source": [
    "For example, an alternate way to address the problem of reducing rational numbers to lowest terms is to perform the reduction whenever we access the parts of a rational number, rather than when we construct it. This leads to different constructor and selector procedures:"
   ]
  },
  {
   "cell_type": "raw",
   "metadata": {},
   "source": [
    "(define (make-rat n d) (cons n d))\n",
    "(define (numer x)\n",
    "  (let ((g (gcd (car x) (cdr x))))\n",
    "   (/ (car x) g)))\n",
    "(define (denom x)\n",
    "  (let ((g (gcd (car x) (cdr x))))\n",
    "   (/ (cdr x) g)))"
   ]
  },
  {
   "cell_type": "markdown",
   "metadata": {},
   "source": [
    "The difference between this implementation and the previous one lies in when we compute the gcd. If in our typical use of rational numbers we access the numerators and denominators of the same rational numbers many times, it would be preferable to compute the gcd when the rational numbers are constructed. If not, we may be better off waiting until access time to compute the gcd. In any case, when we change from one representation to the other, the procedures add-rat, sub-rat, and so on do not have to be modified at all."
   ]
  },
  {
   "cell_type": "markdown",
   "metadata": {},
   "source": [
    "Constraining the dependence on the representation to a few interface procedures helps us design programs as well as modify them, because it allows us to maintain the flexibility to consider alternate implementations. To continue with our simple example, suppose we are designing a rational-number package and we can’t decide initially whether to perform the gcd at construction time or at selection time. The data-abstraction methodology gives us a way to defer that decision without losing the ability to make progress on the rest of the system."
   ]
  },
  {
   "cell_type": "markdown",
   "metadata": {},
   "source": [
    "## Exercise 2.2: \n",
    "Consider the problem of representing line segments in a plane. Each segment is represented as a pair of points: a starting point and an ending point. Define a constructor $\\texttt{make-segment}$ and selectors $\\texttt{start-segment}$ and $\\texttt{end-segment}$ that define the representation of segments in terms of points. Furthermore, a point can be represented as a pair of numbers: the $x$ coordinate and the $y$ coordinate. Accordingly, specify a constructor $\\texttt{make-point}$ and selectors $\\texttt{x-point}$ and $\\texttt{y-point}$ that define this representation. Finally, using your selectors and constructors, define a procedure $\\texttt{midpoint-segment}$ that takes a line segment as argument and returns its midpoint (the point whose coordinates are the average of the coordinates of the endpoints).To try your procedures, you’ll need a way to $\\text{print points}$:"
   ]
  },
  {
   "cell_type": "raw",
   "metadata": {},
   "source": [
    "(define (print-point p)\n",
    "(newline)\n",
    "(display \"(\")\n",
    "(display (x-point p))\n",
    "(display \",\")\n",
    "(display (y-point p))\n",
    "(display \")\"))"
   ]
  },
  {
   "cell_type": "markdown",
   "metadata": {},
   "source": [
    "## Answer:"
   ]
  },
  {
   "cell_type": "markdown",
   "metadata": {},
   "source": [
    "$\\spadesuit$  The constructor and selectors of line segment"
   ]
  },
  {
   "cell_type": "code",
   "execution_count": 6,
   "metadata": {
    "collapsed": false
   },
   "outputs": [
    {
     "name": "stdout",
     "output_type": "stream",
     "text": [
      ";; segment constructor\r\n",
      "(define (make-segment start-point end-point)\r\n",
      "  (cons start-point end-point))\r\n",
      "\r\n",
      ";; segment selector\r\n",
      "(define (start-segment seg) (car seg))\r\n",
      "(define (end-segment seg) (cdr seg))\r\n"
     ]
    }
   ],
   "source": [
    "cat 2.1/Exercise_2.2/segment_repr.scm"
   ]
  },
  {
   "cell_type": "markdown",
   "metadata": {},
   "source": [
    "$\\spadesuit$  The constructor and selectors of a point"
   ]
  },
  {
   "cell_type": "code",
   "execution_count": 8,
   "metadata": {
    "collapsed": false
   },
   "outputs": [
    {
     "name": "stdout",
     "output_type": "stream",
     "text": [
      ";; point constructor\r\n",
      "(define (make-point x y) (cons x y))\r\n",
      "\r\n",
      ";; point selector\r\n",
      "(define (x-point p) (car p))\r\n",
      "(define (y-point p) (cdr p))\r\n"
     ]
    }
   ],
   "source": [
    "cat 2.1/Exercise_2.2/point_repr.scm"
   ]
  },
  {
   "cell_type": "markdown",
   "metadata": {},
   "source": [
    "$\\spadesuit$ The mid-point of line segment was defined by using the following relations"
   ]
  },
  {
   "cell_type": "markdown",
   "metadata": {},
   "source": [
    "$$\\left(\\frac{x_{start}+x_{end}}{2},\\frac{y_{start}+y_{end}}{2}\\right)$$"
   ]
  },
  {
   "cell_type": "markdown",
   "metadata": {},
   "source": [
    "So,this mid-point formula can easily express the $\\text{average}$ procedure"
   ]
  },
  {
   "cell_type": "code",
   "execution_count": 9,
   "metadata": {
    "collapsed": false
   },
   "outputs": [
    {
     "name": "stdout",
     "output_type": "stream",
     "text": [
      "(define (average x y) (/ (+ x y) 2.0))\r\n"
     ]
    }
   ],
   "source": [
    "cat 2.1/Exercise_2.2/mid_point_rule.scm"
   ]
  },
  {
   "cell_type": "markdown",
   "metadata": {},
   "source": [
    "$\\spadesuit$ The $\\text{print-point}$ procedure above given"
   ]
  },
  {
   "cell_type": "code",
   "execution_count": 10,
   "metadata": {
    "collapsed": false
   },
   "outputs": [
    {
     "name": "stdout",
     "output_type": "stream",
     "text": [
      "(define (print-point p)\r\n",
      "  (newline)\r\n",
      "  (display \"(\")\r\n",
      "  (display (x-point p))\r\n",
      "  (display \",\")\r\n",
      "  (display (y-point p))\r\n",
      "  (display \")\"))\r\n"
     ]
    }
   ],
   "source": [
    "cat 2.1/Exercise_2.2/print_point.scm"
   ]
  },
  {
   "cell_type": "markdown",
   "metadata": {},
   "source": [
    "So, we can get the $\\text{mid-point}$ procedure"
   ]
  },
  {
   "cell_type": "code",
   "execution_count": 11,
   "metadata": {
    "collapsed": false
   },
   "outputs": [
    {
     "name": "stdout",
     "output_type": "stream",
     "text": [
      "(load \"2.1/Exercise_2.2/point_repr.scm\")\r\n",
      "(load \"2.1/Exercise_2.2/segment_repr.scm\")\r\n",
      "(load \"2.1/Exercise_2.2/mid_point_rule.scm\")\r\n",
      "\r\n",
      "(define (midpoint-segment seg)\r\n",
      "  (let ((start (start-segment seg))\r\n",
      "        (end (end-segment seg)))\r\n",
      "    (make-point (average (x-point start) (x-point end))\r\n",
      "                (average (y-point start) (y-point end)))))\r\n"
     ]
    }
   ],
   "source": [
    "cat 2.1/Exercise_2.2/mid_point_of_segment.scm"
   ]
  },
  {
   "cell_type": "markdown",
   "metadata": {},
   "source": [
    "### Running Instance:"
   ]
  },
  {
   "cell_type": "raw",
   "metadata": {},
   "source": [
    "1 ]=> (load \"2.1/Exercise_2.2/print_point.scm\")\n",
    "\n",
    ";Loading \"2.1/Exercise_2.2/print_point.scm\"... done\n",
    ";Value: print-point\n",
    "\n",
    "1 ]=> (load \"2.1/Exercise_2.2/mid_point_of_segment.scm\")\n",
    "\n",
    ";Loading \"2.1/Exercise_2.2/mid_point_of_segment.scm\"...\n",
    ";  Loading \"2.1/Exercise_2.2/point_repr.scm\"... done\n",
    ";  Loading \"2.1/Exercise_2.2/segment_repr.scm\"... done\n",
    ";  Loading \"2.1/Exercise_2.2/mid_point_rule.scm\"... done\n",
    ";... done\n",
    ";Value: midpoint-segment"
   ]
  },
  {
   "cell_type": "raw",
   "metadata": {},
   "source": [
    "1 ]=> (define start (make-point 1 3))\n",
    "\n",
    ";Value: start\n",
    "\n",
    "1 ]=> (define end (make-point 4 3))\n",
    "\n",
    ";Value: end\n",
    "\n",
    "1 ]=> (define seg (make-segment start end))\n",
    "\n",
    ";Value: seg\n",
    "\n",
    "1 ]=> (define mid (midpoint-segment seg))\n",
    "\n",
    ";Value: mid\n",
    "\n",
    "1 ]=> (print-point mid)\n",
    "\n",
    "(2.5,3.)"
   ]
  },
  {
   "cell_type": "markdown",
   "metadata": {},
   "source": [
    "## Exercise 2.3: \n",
    "Implement a representation for $\\texttt{rectangles}$ in a plane. (Hint: You may want to make use of Exercise 2.2.) In terms of your constructors and selectors, create procedures that compute the $\\texttt{perimeter}$ and the $\\texttt{area}$ of a given rectangle. Now implement a different representation for rectangles. Can you design your system with suitable abstraction barriers, so that the same perimeter and area procedures will work using either representation?"
   ]
  },
  {
   "cell_type": "markdown",
   "metadata": {},
   "source": [
    "## 解答："
   ]
  },
  {
   "cell_type": "markdown",
   "metadata": {},
   "source": [
    "$\\spadesuit\\quad$ 定义矩形的操作--周长和面积"
   ]
  },
  {
   "cell_type": "markdown",
   "metadata": {},
   "source": [
    "假设我们已经有了某种矩形的生成器，已经如下两个矩形的选择器"
   ]
  },
  {
   "cell_type": "markdown",
   "metadata": {},
   "source": [
    "$\\bullet\\quad\\text{length-of-rectangle}$ 以一个矩形作为参数，返回矩形的长度"
   ]
  },
  {
   "cell_type": "markdown",
   "metadata": {},
   "source": [
    "$\\bullet\\quad\\text{width-of-rectangle}$ 以一个矩形作为参数，返回矩形的宽度"
   ]
  },
  {
   "cell_type": "markdown",
   "metadata": {},
   "source": [
    "以上面两个选择器，我们就能根据相应的公式计算给定矩形的周长和面积"
   ]
  },
  {
   "cell_type": "markdown",
   "metadata": {},
   "source": [
    "$\\bullet\\quad$周长"
   ]
  },
  {
   "cell_type": "markdown",
   "metadata": {},
   "source": [
    "矩形的周长通过如下公式计算："
   ]
  },
  {
   "cell_type": "markdown",
   "metadata": {},
   "source": [
    "$perimeter=2∗(length+width)$"
   ]
  },
  {
   "cell_type": "markdown",
   "metadata": {},
   "source": [
    "因此得到周长计算函数的定义："
   ]
  },
  {
   "cell_type": "code",
   "execution_count": 12,
   "metadata": {
    "collapsed": false
   },
   "outputs": [
    {
     "name": "stdout",
     "output_type": "stream",
     "text": [
      "(define (perimeter-rectangle r)\r\n",
      "  (let ((length (length-of-rectangle r))\r\n",
      "        (width (width-of-rectangle r)))\r\n",
      "    (* 2 (+ length width))))\r\n"
     ]
    }
   ],
   "source": [
    "cat 2.1/Exercise_2.3/perimeter.scm"
   ]
  },
  {
   "cell_type": "markdown",
   "metadata": {},
   "source": [
    "$\\bullet\\quad$面积"
   ]
  },
  {
   "cell_type": "markdown",
   "metadata": {},
   "source": [
    "矩形的面积通过如下公式计算："
   ]
  },
  {
   "cell_type": "markdown",
   "metadata": {},
   "source": [
    "$area=length∗width$"
   ]
  },
  {
   "cell_type": "markdown",
   "metadata": {},
   "source": [
    "因此得到面积计算函数的定义:"
   ]
  },
  {
   "cell_type": "code",
   "execution_count": 13,
   "metadata": {
    "collapsed": false
   },
   "outputs": [
    {
     "name": "stdout",
     "output_type": "stream",
     "text": [
      "(define (area-rectangle r)\r\n",
      "  (* (length-of-rectangle r)\r\n",
      "     (width-of-rectangle r)))\r\n"
     ]
    }
   ],
   "source": [
    "cat 2.1/Exercise_2.3/area.scm"
   ]
  },
  {
   "cell_type": "markdown",
   "metadata": {},
   "source": [
    "$\\spadesuit\\quad$定义矩形的生成器和选择器--使用两对线段"
   ]
  },
  {
   "cell_type": "markdown",
   "metadata": {},
   "source": [
    "$\\bullet\\quad$最直观的表示矩形的方法是使用两对线段，一对表示矩形的长，另一对表示矩形的宽"
   ]
  },
  {
   "cell_type": "code",
   "execution_count": 18,
   "metadata": {
    "collapsed": false
   },
   "outputs": [
    {
     "name": "stdout",
     "output_type": "stream",
     "text": [
      "(load \"2.1/Exercise_2.2/segment_repr.scm\")\r\n",
      "(load \"2.1/Exercise_2.2/point_repr.scm\")\r\n",
      "\r\n",
      ";;\r\n",
      ";; rectangle constructor\r\n",
      ";;\r\n",
      "(define (make-rectangle length-1 length-2 width-1 width-2)\r\n",
      "  (cons (cons length-1 length-2) (cons width-1 width-2)))\r\n",
      "\r\n",
      ";;\r\n",
      ";; rectangle selectors\r\n",
      ";; \r\n",
      "(define (length-1-rectangle r)\r\n",
      "  (car (car r)))\r\n",
      "\r\n",
      "(define (length-2-rectangle r)\r\n",
      "  (cdr (car r)))\r\n",
      "\r\n",
      "(define (width-1-rectangle r)\r\n",
      "  (car (cdr r)))\r\n",
      "\r\n",
      "(define (width-2-rectangle r) \r\n",
      "  (cdr (cdr r)))\r\n",
      "\r\n",
      ";;\r\n",
      ";; length of rectangle\r\n",
      ";;\r\n",
      "(define (length-of-rectangle r)\r\n",
      "  (let ((length (length-1-rectangle r)))\r\n",
      "    (let ((start (start-segment length))\r\n",
      "          (end (end-segment length)))\r\n",
      "      (- (x-point end) (x-point start)))))\r\n",
      "\r\n",
      ";;\r\n",
      ";; width of rectangle\r\n",
      ";;\r\n",
      "(define (width-of-rectangle r)\r\n",
      "  (let ((width (width-1-rectangle r)))\r\n",
      "    (let ((start (start-segment width))\r\n",
      "          (end (end-segment width)))\r\n",
      "      (- (y-point end) (y-point start)))))\r\n"
     ]
    }
   ],
   "source": [
    "cat 2.1/Exercise_2.3/rectangle-repr.scm"
   ]
  },
  {
   "cell_type": "markdown",
   "metadata": {},
   "source": [
    "$\\bullet\\quad$ 矩形打印"
   ]
  },
  {
   "cell_type": "code",
   "execution_count": 15,
   "metadata": {
    "collapsed": false
   },
   "outputs": [
    {
     "name": "stdout",
     "output_type": "stream",
     "text": [
      "(load \"2.1/Exercise_2.2/print_point.scm\")\r\n",
      "(define (print-rectangle r)\r\n",
      "  (let ((L1 (length-1-rectangle r))\r\n",
      "        (L2 (length-2-rectangle r))\r\n",
      "        (W1 (width-1-rectangle r))\r\n",
      "        (W2 (width-2-rectangle r)))\r\n",
      "\r\n",
      "    (newline)\r\n",
      "    (display \"Length 1:\")\r\n",
      "    (print-point (start-segment L1))\r\n",
      "    (print-point (end-segment L1))\r\n",
      "    \r\n",
      "    (newline)\r\n",
      "    (display \"Length 2:\")\r\n",
      "    (print-point (start-segment L2))\r\n",
      "    (print-point (end-segment L2))\r\n",
      "    \r\n",
      "    (newline)\r\n",
      "    (display \"Width 1:\")\r\n",
      "    (print-point (start-segment W1))\r\n",
      "    (print-point (end-segment W1))\r\n",
      "    \r\n",
      "    (newline)\r\n",
      "    (display \"Width 2:\")\r\n",
      "    (print-point (start-segment W2))\r\n",
      "    (print-point (end-segment W2))))\r\n"
     ]
    }
   ],
   "source": [
    "cat 2.1/Exercise_2.3/print-rectangle.scm"
   ]
  },
  {
   "cell_type": "markdown",
   "metadata": {},
   "source": [
    "### Running Instance:"
   ]
  },
  {
   "cell_type": "raw",
   "metadata": {},
   "source": [
    "1 ]=> (load \"2.1/Exercise_2.3/rectangle-repr.scm\")\n",
    "\n",
    ";Loading \"2.1/Exercise_2.3/rectangle-repr.scm\"...\n",
    ";  Loading \"2.1/Exercise_2.2/segment_repr.scm\"... done\n",
    ";  Loading \"2.1/Exercise_2.2/point_repr.scm\"... done\n",
    ";... done\n",
    ";Value: width-of-rectangle\n",
    "\n",
    "1 ]=> (define length-1 (make-segment (make-point 1 4) (make-point 4 4)))\n",
    "\n",
    ";Value: length-1\n",
    "\n",
    "1 ]=> (define length-2 (make-segment (make-point 1 2) (make-point 4 2)))\n",
    "\n",
    ";Value: length-2\n",
    "\n",
    "1 ]=> (define width-1 (make-segment (make-point 1 2) (make-point 1 4)))\n",
    "\n",
    ";Value: width-1\n",
    "\n",
    "1 ]=> (define width-2 (make-segment (make-point 4 2) (make-point 4 4)))\n",
    "\n",
    ";Value: width-2\n",
    "\n",
    "1 ]=> (define rectangle (make-rectangle length-1 length-2 width-1 width-2))\n",
    "\n",
    ";Value: rectangle\n",
    "\n",
    "1 ]=> (load \"2.1/Exercise_2.3/print-rectangle.scm\")\n",
    "\n",
    ";Loading \"2.1/Exercise_2.3/print-rectangle.scm\"...\n",
    ";  Loading \"2.1/Exercise_2.2/print_point.scm\"... done\n",
    ";... done\n",
    ";Value: print-rectangle\n",
    "\n",
    "1 ]=> (print-rectangle rectangle)\n",
    "\n",
    "Length 1:\n",
    "(1,4)\n",
    "(4,4)\n",
    "Length 2:\n",
    "(1,2)\n",
    "(4,2)\n",
    "Width 1:\n",
    "(1,2)\n",
    "(1,4)\n",
    "Width 2:\n",
    "(4,2)\n",
    "(4,4)\n",
    ";Unspecified return value\n",
    "\n",
    "1 ]=> (load \"2.1/Exercise_2.3/perimeter.scm\")\n",
    "\n",
    ";Loading \"2.1/Exercise_2.3/perimeter.scm\"... done\n",
    ";Value: perimeter-rectangle\n",
    "\n",
    "1 ]=> (perimeter-rectangle rectangle)\n",
    "\n",
    ";Value: 10\n",
    "\n",
    "1 ]=> (load \"2.1/Exercise_2.3/area.scm\")\n",
    "\n",
    ";Loading \"2.1/Exercise_2.3/area.scm\"... done\n",
    ";Value: area-rectangle\n",
    "\n",
    "1 ]=> (area-rectangle rectangle)\n",
    "\n",
    ";Value: 6"
   ]
  },
  {
   "cell_type": "markdown",
   "metadata": {},
   "source": [
    "$\\spadesuit\\quad$定义矩形的生成器和选择器--使用两条线段"
   ]
  },
  {
   "cell_type": "markdown",
   "metadata": {},
   "source": [
    "#### 只需要重新定义矩阵的表示即可"
   ]
  },
  {
   "cell_type": "code",
   "execution_count": 20,
   "metadata": {
    "collapsed": false
   },
   "outputs": [
    {
     "name": "stdout",
     "output_type": "stream",
     "text": [
      ";;\r\n",
      ";; rectangle constructor\r\n",
      ";;\r\n",
      "(define (make-rectangle length width)\r\n",
      "  (cons length width))\r\n",
      "\r\n",
      ";;\r\n",
      ";; rectangle selectors\r\n",
      ";;\r\n",
      "(define (length-rectangle r)\r\n",
      "  (car r))\r\n",
      "\r\n",
      "(define (width-rectangle r)\r\n",
      "  (cdr r))\r\n",
      "\r\n",
      ";;\r\n",
      ";; length of rectangle\r\n",
      ";;\r\n",
      "(define (length-of-rectangle r)\r\n",
      "  (let ((length (length-rectangle r)))\r\n",
      "    (let ((start (start-segment length))\r\n",
      "          (end (end-segment length)))\r\n",
      "      (- (x-point end) (x-point start)))))\r\n",
      "\r\n",
      ";;\r\n",
      ";; width of rectangle\r\n",
      ";;\r\n",
      "(define (width-of-rectangle r)\r\n",
      "  (let ((width (width-rectangle r)))\r\n",
      "    (let ((start (start-segment width))\r\n",
      "          (end (end-segment width)))\r\n",
      "      (- (y-point end) (y-point start)))))\r\n"
     ]
    }
   ],
   "source": [
    "cat 2.1/Exercise_2.3/another-rectangle-repr.scm"
   ]
  },
  {
   "cell_type": "markdown",
   "metadata": {},
   "source": [
    "### Running Instance:"
   ]
  },
  {
   "cell_type": "raw",
   "metadata": {},
   "source": [
    "1 ]=> (load \"2.1/Exercise_2.3/another-rectangle-repr.scm\")\n",
    "\n",
    ";Loading \"2.1/Exercise_2.3/another-rectangle-repr.scm\"...\n",
    ";  Loading \"2.1/Exercise_2.2/segment_repr.scm\"... done\n",
    ";  Loading \"2.1/Exercise_2.2/point_repr.scm\"... done\n",
    ";... done\n",
    ";Value: width-of-rectangle\n",
    "\n",
    "1 ]=> (define len (make-segment (make-point 1 2) (make-point 4 2)))\n",
    "\n",
    ";Value: len\n",
    "\n",
    "1 ]=> (define wid (make-segment (make-point 1 2) (make-point 1 4)))\n",
    "\n",
    ";Value: wid\n",
    "\n",
    "1 ]=> (define rec (make-rectangle len wid))\n",
    "\n",
    ";Value: rec\n",
    "\n",
    "1 ]=> (length-of-rectangle rec)\n",
    "\n",
    ";Value: 3\n",
    "\n",
    "1 ]=> (width-of-rectangle rec)\n",
    "\n",
    ";Value: 2\n",
    "\n",
    "1 ]=> (load \"2.1/Exercise_2.3/perimeter.scm\")\n",
    "\n",
    ";Loading \"2.1/Exercise_2.3/perimeter.scm\"... done\n",
    ";Value: perimeter-rectangle\n",
    "\n",
    "1 ]=> (perimeter-rectangle rec)\n",
    "\n",
    ";Value: 10\n",
    "\n",
    "1 ]=> (load \"2.1/Exercise_2.3/area.scm\")\n",
    "\n",
    ";Loading \"2.1/Exercise_2.3/area.scm\"... done\n",
    ";Value: area-rectangle\n",
    "\n",
    "1 ]=> (area-rectangle rec)\n",
    "\n",
    ";Value: 6"
   ]
  },
  {
   "cell_type": "markdown",
   "metadata": {
    "collapsed": true
   },
   "source": [
    "### 2.1.3 What Is Meant by Data?"
   ]
  },
  {
   "cell_type": "markdown",
   "metadata": {
    "collapsed": true
   },
   "source": [
    "We began the rational-number implementation in Section 2.1.1 by implementing the rational-number operations add-rat, sub-rat, and so on in terms of three unspecified procedures: make-rat, numer, and denom. At that point, we could think of the operations as being defined in terms of data objects—numerators, denominators, and rational number—whose behavior was specified by the latter three procedures."
   ]
  },
  {
   "cell_type": "markdown",
   "metadata": {
    "collapsed": true
   },
   "source": [
    "But exactly what is meant by $\\textbf{data}$? It is not enough to say “whatever is implemented by the given selectors and constructors.” Clearly, not every arbitrary set of three procedures can serve as an appropriate basis for the rational-number implementation. We need to guarantee that, if we construct a rational number $\\textit{x}$ from a pair of integers $\\textit{n}$ and $\\textit{d}$, then extracting the numer and the denom of $\\textit{x}$ and dividing them should yield the same result as dividing $\\textit{n}$ by $\\textit{d}$. In other words, $\\texttt{make-rat}$, $\\texttt{numer}$, and $\\texttt{denom}$ must satisfy the condition that, for any integer $\\textit{n}$ and any non-zero integer $\\textit{d}$, if $\\textit{x}$ is $\\textrm{(make-rat n d)}$, then"
   ]
  },
  {
   "cell_type": "markdown",
   "metadata": {
    "collapsed": true
   },
   "source": [
    "$$\\frac{\\text{(numer x)}}{\\text{(denom x)}}=\\frac{\\text{n}}{\\text{d}}.$$"
   ]
  },
  {
   "cell_type": "markdown",
   "metadata": {
    "collapsed": true
   },
   "source": [
    "In fact, this is the only condition $\\texttt{make-rat}$, $\\texttt{numer}$, and $\\texttt{denom}$ must fulfill in order to form a suitable basis for a rational-number representation. In general, we can think of data as defined by some collection of selectors and constructors, together with specified conditions that these procedures must fulfill in order to be a valid representation."
   ]
  },
  {
   "cell_type": "markdown",
   "metadata": {
    "collapsed": true
   },
   "source": [
    "This point of view can serve to define not only “high-level” data objects, such as rational numbers, but lower-level objects as well. Consider the notion of a pair, which we used in order to define our rational numbers. We never actually said what a pair was, only that the language supplied procedures $\\texttt{cons}$, $\\texttt{car}$, and $\\texttt{cdr}$ for operating on pairs. But the only thing we need to know about these three operations is that if we glue two objects together using $\\texttt{cons}$ we can retrieve the objects using $\\texttt{car}$ and $\\texttt{cdr}$. That is, the operations satisfy the condition that, for any objects $x$ and $y$, if $z$ is $\\textrm{(cons x y)}$ then $\\textrm{(car z)}$ is $x$ and $\\textrm{(cdr z)}$ is $y$."
   ]
  },
  {
   "cell_type": "markdown",
   "metadata": {
    "collapsed": true
   },
   "source": [
    "Indeed, we mentioned that these three procedures are included as primitives in our language. However, any triple of procedures that satisfies the above condition can be used as the basis for implementing pairs. This point is illustrated strikingly by the fact that we could implement $\\texttt{cons}$, $\\texttt{car}$, and $\\texttt{cdr}$ without using any data structures at all but only using procedures. Here are the definitions:"
   ]
  },
  {
   "cell_type": "code",
   "execution_count": 1,
   "metadata": {
    "collapsed": false
   },
   "outputs": [
    {
     "name": "stdout",
     "output_type": "stream",
     "text": [
      "(define (cons x y)\r\n",
      "  (define (dispatch m)\r\n",
      "    (cond ((= m 0) x)\r\n",
      "          ((= m 1) y)\r\n",
      "          (else (error \"Argument not 0 or 1: CONS\" m))))\r\n",
      "  dispatch)\r\n",
      "\r\n",
      "(define (car z) (z 0))\r\n",
      "(define (cdr z) (z 1))\r\n"
     ]
    }
   ],
   "source": [
    "cat 2.1/Example_2/pairs_repr.scm"
   ]
  },
  {
   "cell_type": "markdown",
   "metadata": {
    "collapsed": true
   },
   "source": [
    "This use of procedures corresponds to nothing like our intuitive notion of what data should be. Nevertheless, all we need to do to show that this is a valid way to represent pairs is to verify that these procedures satisfy the condition given above."
   ]
  },
  {
   "cell_type": "markdown",
   "metadata": {
    "collapsed": true
   },
   "source": [
    "The subtle point to notice is that the value returned by $\\textrm{(cons x y)}$ is a procedure—namely the internally defined procedure $\\texttt{dispatch}$, which takes one argument and returns either $x$ or $y$ depending on whether the argument is 0 or 1. Correspondingly, $\\textrm{(car z)}$ is defined to apply $z$ to 0. Hence, if $z$ is the procedure formed by $\\textrm{(cons x y)}$, then $z$ applied to 0 will yield $x$. Thus, we have shown that $\\textrm{(car (cons x y))}$ yields $x$, as desired. Similarly, $\\textrm{(cdr (cons x y))}$ applies the procedure returned by $\\textrm{(cons x y)}$ to 1, which returns $y$. Therefore, this procedural implementation of pairs is a valid implementation, and if we access pairs using only $\\texttt{cons}$, $\\texttt{car}$, and $\\texttt{cdr}$ we cannot distinguish this implementation from one that uses “real” data structures."
   ]
  },
  {
   "cell_type": "markdown",
   "metadata": {
    "collapsed": true
   },
   "source": [
    "The point of exhibiting the procedural representation of pairs is not that our language works this way (Scheme, and Lisp systems in general, implement pairs directly, for efficiency reasons) but that it could work this way. The procedural representation, although obscure, is a perfectly adequate way to represent pairs, since it fulfills the only conditions that pairs need to fulfill. This example also demonstrates that the ability to manipulate procedures as objects automatically provides the ability to represent compound data. This may seem a curiosity now, but procedural representations of data will play a central role in our programming repertoire. This style of programming is often called message passing, and we will be using it as a basic tool in Chapter 3 when we address the issues of modeling and simulation."
   ]
  },
  {
   "cell_type": "markdown",
   "metadata": {
    "collapsed": true
   },
   "source": [
    "## Exercise 2.4: \n",
    "Here is an alternative procedural representation of pairs. For this representation, verify that $\\textrm{(car (cons x y))}$ yields $x$ for any objects $x$ and $y$."
   ]
  },
  {
   "cell_type": "raw",
   "metadata": {
    "collapsed": true
   },
   "source": [
    "(define (cons x y)\n",
    "  (lambda (m) (m x y)))\n",
    "(define (car z)\n",
    "  (z (lambda (p q) p)))"
   ]
  },
  {
   "cell_type": "markdown",
   "metadata": {
    "collapsed": true
   },
   "source": [
    "What is the corresponding definition of $\\texttt{cdr}$? (Hint: To verify that this works, make use of the substitution model of Section 1.1.5.)"
   ]
  },
  {
   "cell_type": "markdown",
   "metadata": {
    "collapsed": true
   },
   "source": [
    "### 解答："
   ]
  },
  {
   "cell_type": "markdown",
   "metadata": {
    "collapsed": true
   },
   "source": [
    "表达式$\\textrm{(car (cons 1 2))}$的展开序列如下"
   ]
  },
  {
   "cell_type": "raw",
   "metadata": {
    "collapsed": true
   },
   "source": [
    "(car (cons 1 2))\n",
    "\n",
    "(car (lambda (m) (m 1 2)))\n",
    "\n",
    "((lambda (z) (z (lambda (p q) p)))\n",
    "` (lambda (m) (m 1 2)))\n",
    "  \n",
    "((lambda (m) (m 1 2))\n",
    "` (lambda (p q) p))\n",
    "\n",
    "((lambda (p q) p) 1 2)\n",
    "\n",
    "1"
   ]
  },
  {
   "cell_type": "markdown",
   "metadata": {
    "collapsed": true
   },
   "source": [
    "根据$\\texttt{car}$的定义，以及上面的展开序列给出的线索，我们可以写出对应$\\texttt{cdr}$函数"
   ]
  },
  {
   "cell_type": "raw",
   "metadata": {
    "collapsed": true
   },
   "source": [
    "(define (cdr z)\n",
    "  (z (lambda (p q) q)))"
   ]
  },
  {
   "cell_type": "markdown",
   "metadata": {
    "collapsed": true
   },
   "source": [
    "表达式$\\textrm{(cdr (cons 1 2))}$的展开序列如下"
   ]
  },
  {
   "cell_type": "raw",
   "metadata": {
    "collapsed": true
   },
   "source": [
    "(cdr (cons 1 2))\n",
    "\n",
    "(cdr (lambda (m) (m 1 2)))\n",
    "\n",
    "((lambda (z) (z (lambda (p q) q)))\n",
    "` (lambda (m) (m 1 2)))\n",
    "\n",
    "((lambda (m) (m 1 2))\n",
    "` (lambda (p q) q))\n",
    "\n",
    "((lambda (p q) q) 1 2)\n",
    "\n",
    "2"
   ]
  },
  {
   "cell_type": "markdown",
   "metadata": {
    "collapsed": true
   },
   "source": [
    "### Running Instance:"
   ]
  },
  {
   "cell_type": "code",
   "execution_count": 1,
   "metadata": {
    "collapsed": false
   },
   "outputs": [
    {
     "name": "stdout",
     "output_type": "stream",
     "text": [
      "(define (cons x y)\r\n",
      "  (lambda (m) (m x y)))\r\n",
      "\r\n",
      "(define (car z)\r\n",
      "  (z (lambda (p q) p)))\r\n",
      "\r\n",
      "(define (cdr z)\r\n",
      "  (z (lambda (p q) q)))\r\n"
     ]
    }
   ],
   "source": [
    "cat 2.1/Exercise_2.4/cons-car-cdr.scm"
   ]
  },
  {
   "cell_type": "raw",
   "metadata": {
    "collapsed": true
   },
   "source": [
    "1 ]=> (load \"2.1/Exercise_2.4/cons-car-cdr.scm\")\n",
    "\n",
    ";Loading \"2.1/Exercise_2.4/cons-car-cdr.scm\"... done\n",
    ";Value: cdr\n",
    "\n",
    "1 ]=> (cdr (cons 1 2))\n",
    "\n",
    ";Value: 2"
   ]
  },
  {
   "cell_type": "markdown",
   "metadata": {
    "collapsed": true
   },
   "source": [
    "## Exercise 2.5: \n",
    "Show that we can represent pairs of nonnegative integers using only numbers and arithmetic operations if we represent the pair $a$ and $b$ as the integer that is the product $2^a3^b$ . Give the corresponding definitions of the procedures $\\texttt{cons}$, $\\texttt{car}$, and $\\texttt{cdr}$."
   ]
  },
  {
   "cell_type": "markdown",
   "metadata": {
    "collapsed": true
   },
   "source": [
    "## 解答："
   ]
  },
  {
   "cell_type": "markdown",
   "metadata": {
    "collapsed": true
   },
   "source": [
    "$\\spadesuit\\quad$直接使用两个乘幂来构造$\\texttt{cons}$过程"
   ]
  },
  {
   "cell_type": "code",
   "execution_count": 2,
   "metadata": {
    "collapsed": false
   },
   "outputs": [
    {
     "name": "stdout",
     "output_type": "stream",
     "text": [
      "(load \"../Chapter_1/1.2/Example_6/expt_by_iteration.scm\")\r\n",
      "(define (cons x y) (* (expt 2 x) (expt 3 y))) \r\n"
     ]
    }
   ],
   "source": [
    "cat 2.1/Exercise_2.5/cons.scm"
   ]
  },
  {
   "cell_type": "markdown",
   "metadata": {
    "collapsed": true
   },
   "source": [
    "$\\spadesuit\\quad$基本算术定理：每个正整数都可以被分解为唯一的素数相乘序列"
   ]
  },
  {
   "cell_type": "markdown",
   "metadata": {
    "collapsed": true
   },
   "source": [
    "因此，通过分解$\\texttt{cons}$计算出的整数的序列，从而复原$\\texttt{car}$和$\\texttt{cdr}$"
   ]
  },
  {
   "cell_type": "code",
   "execution_count": 3,
   "metadata": {
    "collapsed": false
   },
   "outputs": [
    {
     "name": "stdout",
     "output_type": "stream",
     "text": [
      "(define (car z)\r\n",
      "  (if (= 0 (remainder z 2))\r\n",
      "      (+ 1 (car (/ z 2)))\r\n",
      "      0))\r\n",
      "\r\n",
      "(define (cdr z)\r\n",
      "  (if (= 0 (remainder z 3))\r\n",
      "      (+ 1 (cdr (/ z 3)))\r\n",
      "      0))\r\n"
     ]
    }
   ],
   "source": [
    "cat 2.1/Exercise_2.5/car-and-cdr.scm"
   ]
  },
  {
   "cell_type": "markdown",
   "metadata": {},
   "source": [
    "### Running Instance:"
   ]
  },
  {
   "cell_type": "raw",
   "metadata": {},
   "source": [
    "1 ]=> (load \"2.1/Exercise_2.5/cons.scm\")\n",
    "\n",
    ";Loading \"2.1/Exercise_2.5/cons.scm\"...\n",
    ";  Loading \"../Chapter_1/1.2/Example_6/expt_by_iteration.scm\"... done\n",
    ";... done\n",
    ";Value: cons\n",
    "\n",
    "1 ]=> (load \"2.1/Exercise_2.5/car-and-cdr.scm\")\n",
    "\n",
    ";Loading \"2.1/Exercise_2.5/car-and-cdr.scm\"... done\n",
    ";Value: cdr\n",
    "\n",
    "1 ]=> (define x (cons 3 2))\n",
    "\n",
    ";Value: x\n",
    "\n",
    "1 ]=> x\n",
    "\n",
    ";Value: 72\n",
    "\n",
    "1 ]=> (car x)\n",
    "\n",
    ";Value: 3\n",
    "\n",
    "1 ]=> (cdr x)\n",
    "\n",
    ";Value: 2"
   ]
  },
  {
   "cell_type": "markdown",
   "metadata": {},
   "source": [
    "## Exercise 2.6: \n",
    "In case representing pairs as procedures wasn’t mind-boggling enough, consider that, in a language that can manipulate procedures, we can get by without numbers (at least insofar as nonnegative integers are concerned) by implementing $\\texttt{0}$ and the operation of adding $\\texttt{1}$ as"
   ]
  },
  {
   "cell_type": "raw",
   "metadata": {},
   "source": [
    "(define zero (lambda (f) (lambda (x) x)))\n",
    "(define (add-1 n)\n",
    "  (lambda (f) (lambda (x) (f ((n f) x)))))"
   ]
  },
  {
   "cell_type": "markdown",
   "metadata": {},
   "source": [
    "This representation is known as $\\textbf{Church numerals}$, after its inventor, Alonzo Church, the logician who invented the $\\textrm{λ-calculus}$."
   ]
  },
  {
   "cell_type": "markdown",
   "metadata": {},
   "source": [
    "Define $\\texttt{one}$ and $\\texttt{two}$ directly (not in terms of $\\texttt{zero}$ and $\\texttt{add-1}$). (Hint: Use substitution to evaluate $\\textrm{(add-1 zero)}$). Give a direct definition of the addition procedure $\\textbf{+}$ (not in terms of repeated application of $\\texttt{add-1}$)."
   ]
  },
  {
   "cell_type": "markdown",
   "metadata": {
    "collapsed": true
   },
   "source": [
    "## 解答："
   ]
  },
  {
   "cell_type": "markdown",
   "metadata": {
    "collapsed": true
   },
   "source": [
    "$\\bullet\\quad$ 使用题目中给定的$\\texttt{zero}$和$\\texttt{add-1}$，将表达式 $\\textrm{(add-1 zero)}$)展开，我们能够得到$\\texttt{one}$的定义："
   ]
  },
  {
   "cell_type": "code",
   "execution_count": 3,
   "metadata": {
    "collapsed": false
   },
   "outputs": [
    {
     "name": "stdout",
     "output_type": "stream",
     "text": [
      ";;重写zero的定义\r\n",
      "(define zero\r\n",
      "  (lambda (f)\r\n",
      "    (lambda (x)\r\n",
      "      x)))\r\n",
      "\r\n",
      ";;重写add-1的定义\r\n",
      "(define (add-1 n)\r\n",
      "  (lambda (f)\r\n",
      "    (lambda (x)\r\n",
      "      (f\r\n",
      "        ((n f) \r\n",
      "         x)))))\r\n",
      ";;展开\r\n",
      "(add-1 zero)\r\n",
      "\r\n",
      "(lambda (f)\r\n",
      "  (lambda (x)\r\n",
      "    (f\r\n",
      "      ((zero f)\r\n",
      "       x))))\r\n",
      "\r\n",
      "(lambda (f)\r\n",
      "  (lambda (x)\r\n",
      "    (f (\r\n",
      "        ((lambda (f)\r\n",
      "          (lambda (x) x))\r\n",
      "        f)\r\n",
      "       x))))\r\n",
      "\r\n",
      "(lambda (f)\r\n",
      "  (lambda (x)\r\n",
      "    (f (\r\n",
      "      (lambda (x) x))\r\n",
      "       x)))\r\n",
      "\r\n",
      "(lambda (f)\r\n",
      "  (lambda (x)\r\n",
      "    (f x)))\r\n",
      "\r\n",
      ";;\r\n",
      ";;one的定义\r\n",
      ";;\r\n",
      "(define one\r\n",
      "  (lambda (f)\r\n",
      "    (lambda (x)\r\n",
      "      (f x))))\r\n"
     ]
    }
   ],
   "source": [
    "cat 2.1/Exercise_2.6/one.scm"
   ]
  },
  {
   "cell_type": "markdown",
   "metadata": {
    "collapsed": true
   },
   "source": [
    "$\\bullet\\quad$使用$\\texttt{add-1}$和刚刚得到的$\\texttt{one}$，将表达式$\\textrm{(add-1 one)}$展开，我们能得到$\\texttt{two}$的定义"
   ]
  },
  {
   "cell_type": "code",
   "execution_count": 5,
   "metadata": {
    "collapsed": false
   },
   "outputs": [
    {
     "name": "stdout",
     "output_type": "stream",
     "text": [
      ";;one \r\n",
      "(define one\r\n",
      "  (lambda (f)\r\n",
      "    (lambda (x)\r\n",
      "      (f x))))\r\n",
      "\r\n",
      ";;add-1\r\n",
      "(define (add-1 n)\r\n",
      "  (lambda (f)\r\n",
      "    (lambda (x)\r\n",
      "      (f (\r\n",
      "          (n f)\r\n",
      "         x)))))\r\n",
      "\r\n",
      ";;two\r\n",
      "(add-1 one)\r\n",
      "\r\n",
      "(lambda (f)\r\n",
      "  (lambda (x)\r\n",
      "    (f\r\n",
      "      ((one f)\r\n",
      "       x))))\r\n",
      "\r\n",
      "(lambda (f)\r\n",
      "  (lambda (x)\r\n",
      "    (f (\r\n",
      "        ((lambda (f)\r\n",
      "           (lambda (x)\r\n",
      "             (f x)))\r\n",
      "         f)\r\n",
      "        x))))\r\n",
      "\r\n",
      "(lambda (f)\r\n",
      "  (lambda (x)\r\n",
      "    (f (\r\n",
      "        (lambda (x)\r\n",
      "          (f x))\r\n",
      "       x))))\r\n",
      "\r\n",
      "(lambda (f)\r\n",
      "  (lambda (x)\r\n",
      "    (f (f x))))\r\n",
      "\r\n",
      ";;\r\n",
      ";;two的定义\r\n",
      ";;\r\n",
      "(define two\r\n",
      "  (lambda (f)\r\n",
      "    (lambda (x)\r\n",
      "      (f (f x)))))\r\n"
     ]
    }
   ],
   "source": [
    "cat 2.1/Exercise_2.6/two.scm"
   ]
  },
  {
   "cell_type": "markdown",
   "metadata": {},
   "source": [
    "$\\bullet\\quad$通过观察$\\texttt{zero}$，$\\texttt{one}$和$\\texttt{two}$的定义，可以发现他们接受两个参数$f$和$x$，不同之处在于调用$f$的次数"
   ]
  },
  {
   "cell_type": "raw",
   "metadata": {},
   "source": [
    ";;zero -- 调用f参数0次\n",
    "(define zero\n",
    "  (lambda (f)\n",
    "   (lambda (x)\n",
    "     x)))\n",
    "     \n",
    ";;one -- 调用f参数1次\n",
    "(define one\n",
    "  (lambda (f)\n",
    "   (lambda (x)\n",
    "     (f x))))\n",
    "\n",
    ";;two -- 调用f参数2次\n",
    "(define two\n",
    "  (lambda (f)\n",
    "   (lambda (x)\n",
    "     (f (f x)))))"
   ]
  },
  {
   "cell_type": "markdown",
   "metadata": {},
   "source": [
    "因此我们能够推测$\\texttt{three}$和$\\texttt{four}$的定义为"
   ]
  },
  {
   "cell_type": "raw",
   "metadata": {},
   "source": [
    ";;three -- 调用f参数3次\n",
    "(define three\n",
    "  (lambda (f)\n",
    "   (lambda (x)\n",
    "     (f (f (f x))))))\n",
    "     \n",
    ";;four -- 调用f参数4次\n",
    "(define four\n",
    "  (lambda (f)\n",
    "   (lambda (x)\n",
    "     (f (f (f (f x)))))))"
   ]
  },
  {
   "cell_type": "markdown",
   "metadata": {},
   "source": [
    "所以我们能够推测Church计数表示非负整数的一般规则是：  \n",
    "$\\spadesuit\\quad$从$\\texttt{zero}$的定义开始，每次数增加1时，函数体内都会增加一个(嵌套的)$f$函数的调用  \n",
    "$\\spadesuit\\quad$当两个Chruch数相加时，它们的和就等于累积起两个过程中的$f$调用"
   ]
  },
  {
   "cell_type": "markdown",
   "metadata": {},
   "source": [
    "根据上述规则，可以写出相应的Church计数的加法$\\texttt{add}$过程："
   ]
  },
  {
   "cell_type": "code",
   "execution_count": 6,
   "metadata": {
    "collapsed": false
   },
   "outputs": [
    {
     "name": "stdout",
     "output_type": "stream",
     "text": [
      "(define +\r\n",
      "  (lambda (m)\r\n",
      "    (lambda (n)\r\n",
      "      (lambda (f)\r\n",
      "        (lambda (x)\r\n",
      "          (m f (n f x)))))))\r\n"
     ]
    }
   ],
   "source": [
    "cat 2.1/Exercise_2.6/add.scm"
   ]
  },
  {
   "cell_type": "markdown",
   "metadata": {},
   "source": [
    "加法函数接受两个参数$m$和$n$，然后返回一个接受两个参数$f$和$x$的函数，加法函数的函数体内，$n$的函数体被表达式 $\\textrm{(n f x)}$取了出来，然后又在表达式$\\textrm{(m f (n f x))}$中作为函数$m$的第二个函数被调用，从而将$m$和$n$函数体内的$f$调用累积起来（如果有的话），从而形成加法效果。例如："
   ]
  },
  {
   "cell_type": "code",
   "execution_count": 7,
   "metadata": {
    "collapsed": false
   },
   "outputs": [
    {
     "name": "stdout",
     "output_type": "stream",
     "text": [
      "(+ 2 1)\r\n",
      "\r\n",
      ";;expand +\r\n",
      "((lambda (m)\r\n",
      "  (lambda (n)\r\n",
      "\t(lambda (f)\r\n",
      "\t  (lambda (x)\r\n",
      "\t\t(m f (n f x))))))\r\n",
      " 2\r\n",
      " 1)\r\n",
      "\r\n",
      ";;apply 2 to m\r\n",
      "((lambda (n)\r\n",
      "   (lambda (f)\r\n",
      "\t (lambda (x)\r\n",
      "\t   (2 f (n f x)))))\r\n",
      " 1)\r\n",
      "\r\n",
      ";;apply 1 to n\r\n",
      "(lambda (f)\r\n",
      "   (lambda (x)\r\n",
      "\t (2 f (1 f x))))\r\n",
      "\r\n",
      ";;expand 1\r\n",
      "(lambda (f)\r\n",
      "  (lambda (x)\r\n",
      "\t(2 f (\r\n",
      "\t\t  (lambda (f)\r\n",
      "\t\t\t(lambda (x)\r\n",
      "\t\t\t  (f x)))\r\n",
      "\t\t  f\r\n",
      "\t\t  x))))\r\n",
      "\r\n",
      ";;apply f to f\r\n",
      "(lambda (f)\r\n",
      "  (lambda (x)\r\n",
      "\t(2 f (\r\n",
      "\t\t  (lambda (x)\r\n",
      "\t\t\t(f x))\r\n",
      "\t\t  x))))\r\n",
      "\r\n",
      ";;apply x to x\r\n",
      "(lambda (f)\r\n",
      "  (lambda (x)\r\n",
      "\t(2 f (f x))))\r\n",
      "\r\n",
      ";;expand 2\r\n",
      "(lambda (f)\r\n",
      "  (lambda (x)\r\n",
      "\t(\r\n",
      "\t (lambda (f)\r\n",
      "\t   (lambda (x)\r\n",
      "\t\t (f (f x))))\r\n",
      "\t f\r\n",
      "\t (f x))))\r\n",
      "\r\n",
      ";;apply f to f\r\n",
      "(lambda (f)\r\n",
      "  (lambda (x)\r\n",
      "\t(lambda (x)\r\n",
      "\t  (f (f x)))\r\n",
      "\t(f x)))\r\n",
      "\r\n",
      ";;apply (f x) to x\r\n",
      "(lambda (f)\r\n",
      "  (lambda (x)\r\n",
      "\t(f (f (f x)))))\r\n"
     ]
    }
   ],
   "source": [
    "cat 2.1/Exercise_2.6/two-plus-one.scm"
   ]
  },
  {
   "cell_type": "markdown",
   "metadata": {},
   "source": [
    "从上述例子中，表达式$\\textrm{(+ 2 1)}$的计算结果与$\\texttt{three}$的定义一致，说明$\\textbf{+}$的定义是正确的"
   ]
  },
  {
   "cell_type": "markdown",
   "metadata": {
    "collapsed": true
   },
   "source": [
    "## Example 3: Interval Arithmetic"
   ]
  },
  {
   "cell_type": "markdown",
   "metadata": {
    "collapsed": true
   },
   "source": [
    "Alyssa P. Hacker is designing a system to help people solve engineering problems. One feature she wants to provide in her system is the ability to manipulate inexact quantities (such as measured parameters of physical devices) with known precision, so that when computations are done with such approximate quantities the results will be numbers of known precision."
   ]
  },
  {
   "cell_type": "markdown",
   "metadata": {
    "collapsed": true
   },
   "source": [
    "Electrical engineers will be using Alyssa’s system to compute electrical quantities. It is sometimes necessary for them to compute the value of a parallel equivalent resistance $R_p$ of two resistors $R_1$, $R_2$ using the formula"
   ]
  },
  {
   "cell_type": "markdown",
   "metadata": {
    "collapsed": true
   },
   "source": [
    "$$R_p=\\frac{1}{1/R_1+1/R_2}.$$"
   ]
  },
  {
   "cell_type": "markdown",
   "metadata": {
    "collapsed": true
   },
   "source": [
    "Resistance values are usually known only up to some tolerance guaranteed by the manufacturer of the resistor. For example, if you buy a resistor labeled “6.8 ohms with 10% tolerance” you can only be sure that the resistor has a resistance between $\\textrm{6.8 - 0:68 = 6:12}$ and $\\textrm{6.8 + 0.68 = 7.48}$ ohms. Thus, if you have a 6.8-ohm 10% resistor in parallel with a 4.7-ohm 5% resistor, the resistance of the combination can range from about 2.58 ohms (if the two resistors are at the lower bounds) to about 2.97 ohms (if the two resistors are at the upper bounds)."
   ]
  },
  {
   "cell_type": "markdown",
   "metadata": {},
   "source": [
    "Alyssa’s idea is to implement “$\\textrm{interval arithmetic}$” as a set of arithmetic operations for combining “intervals” (objects that represent the range of possible values of an inexact quantity). The result of adding, subtracting, multiplying, or dividing two intervals is itself an interval, representing the range of the result."
   ]
  },
  {
   "cell_type": "markdown",
   "metadata": {},
   "source": [
    "Alyssa postulates the existence of an abstract object called an “interval” that has two endpoints: a lower bound and an upper bound. She also presumes that, given the endpoints of an interval, she can construct the interval using the data constructor $\\texttt{make-interval}$. "
   ]
  },
  {
   "cell_type": "markdown",
   "metadata": {},
   "source": [
    "$\\bullet\\quad$Alyssa first writes a procedure for $\\text{adding}$ two intervals. She reasons that the minimum value the sum could be is the sum of the two lower bounds and the maximum value it could be is the sum of the two upper bounds:"
   ]
  },
  {
   "cell_type": "raw",
   "metadata": {},
   "source": [
    "(define (add-interval x y)\n",
    "  (make-interval (+ (lower-bound x) (lower-bound y))\n",
    "            (+ (upper-bound x) (upper-bound y))))"
   ]
  },
  {
   "cell_type": "markdown",
   "metadata": {},
   "source": [
    "$\\bullet\\quad$Alyssa also works out the $\\text{product}$ of two intervals by finding the minimum and the maximum of the products of the bounds and using them as the bounds of the resulting interval. ($\\texttt{min}$ and $\\text{max}$ are primitives that find the minimum or maximum of any number of arguments.)"
   ]
  },
  {
   "cell_type": "raw",
   "metadata": {},
   "source": [
    "(define (mul-interval x y)\n",
    "  (let ((p1 (* (lower-bound x) (lower-bound y)))\n",
    "      (p2 (* (lower-bound x) (upper-bound y)))\n",
    "      (p3 (* (upper-bound x) (lower-bound y)))\n",
    "      (p4 (* (upper-bound x) (upper-bound y))))\n",
    "   (make-interval (min p1 p2 p3 p4)\n",
    "             (max p1 p2 p3 p4))))        "
   ]
  },
  {
   "cell_type": "markdown",
   "metadata": {},
   "source": [
    "$\\bullet\\quad$To $\\text{divide}$ two intervals, Alyssa multiplies the first by the reciprocal of the second. Note that the bounds of the reciprocal interval are the reciprocal of the upper bound and the reciprocal of the lower bound, in that order."
   ]
  },
  {
   "cell_type": "raw",
   "metadata": {},
   "source": [
    "(define (div-interval x y)\n",
    "  (mul-interval\n",
    "`  x\n",
    "`  (make-interval (/ 1.0 (upper-bound y))\n",
    "`            (/ 1.0 (lower-bound y)))))\n",
    "   "
   ]
  },
  {
   "cell_type": "markdown",
   "metadata": {},
   "source": [
    "## Exercise 2.7: \n",
    "Alyssa’s program is incomplete because she has not specified the implementation of the interval abstraction. Here is a definition of the interval constructor:"
   ]
  },
  {
   "cell_type": "raw",
   "metadata": {},
   "source": [
    "(define (make-interval a b) (cons a b))"
   ]
  },
  {
   "cell_type": "markdown",
   "metadata": {},
   "source": [
    "Define selectors $\\texttt{upper-bound}$ and $\\texttt{lower-bound}$ to complete the implementation."
   ]
  },
  {
   "cell_type": "code",
   "execution_count": null,
   "metadata": {
    "collapsed": true
   },
   "outputs": [],
   "source": []
  },
  {
   "cell_type": "code",
   "execution_count": null,
   "metadata": {
    "collapsed": true
   },
   "outputs": [],
   "source": []
  },
  {
   "cell_type": "code",
   "execution_count": null,
   "metadata": {
    "collapsed": true
   },
   "outputs": [],
   "source": []
  }
 ],
 "metadata": {
  "kernelspec": {
   "display_name": "Python [Root]",
   "language": "python",
   "name": "Python [Root]"
  },
  "language_info": {
   "codemirror_mode": {
    "name": "ipython",
    "version": 2
   },
   "file_extension": ".py",
   "mimetype": "text/x-python",
   "name": "python",
   "nbconvert_exporter": "python",
   "pygments_lexer": "ipython2",
   "version": "2.7.12"
  }
 },
 "nbformat": 4,
 "nbformat_minor": 0
}
