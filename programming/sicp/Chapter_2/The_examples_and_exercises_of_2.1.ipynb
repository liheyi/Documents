{
 "cells": [
  {
   "cell_type": "markdown",
   "metadata": {},
   "source": [
    "# 2.1 Introduction to Data Abstraction"
   ]
  },
  {
   "cell_type": "markdown",
   "metadata": {},
   "source": [
    "In Section 1.1.8, we noted that a procedure used as an element in creating a more complex procedure could be regarded not only as a collection of particular operations but also as a $\\textbf{procedural abstraction}$. That is, the details of how the procedure was implemented could be suppressed, and the particular procedure itself could be replaced by any other procedure with the same overall behavior. In other words, we could make an abstraction that would separate the way the procedure would be used from the details of how the procedure would be implemented in terms of more primitive procedures. The analogous notion for compound data is called $\\textbf{data abstraction}$. Data abstraction is a methodology that enables us to isolate how a compound data object is used from the details of how it is constructed from more primitive data objects."
   ]
  },
  {
   "cell_type": "markdown",
   "metadata": {},
   "source": [
    "The basic idea of $\\textbf{data abstraction}$ is to structure the programs that are to use compound data objects so that they operate on “abstract data.”That is, our programs should use data in such a way as to make no assumptions about the data that are not strictly necessary for performing the task at hand. At the same time, a “concrete” data representation is defined independent of the programs that use the data. The interface between\n",
    "these two parts of our system will be a set of procedures, called $\\textbf{selectors}$ and $\\textbf{constructors}$, that implement the abstract data in terms of the concrete representation. To illustrate this technique, we will consider how to design a set of procedures for manipulating rational numbers."
   ]
  },
  {
   "cell_type": "markdown",
   "metadata": {},
   "source": [
    "## Example 1: Arithmetic Operations for Rational Numbers"
   ]
  },
  {
   "cell_type": "markdown",
   "metadata": {},
   "source": [
    "Suppose we want to do arithmetic with rational numbers. We want to be able to $\\text{add}$, $\\text{subtract}$, $\\text{multiply}$, and $\\text{divide}$ them and to $\\text{test}$ whether two rational numbers are $\\text{equal}$."
   ]
  },
  {
   "cell_type": "markdown",
   "metadata": {},
   "source": [
    "Let us begin by assuming that we already have a way of constructing a rational number from a numerator and a denominator. We also assume that, given a rational number, we have a way of extracting (or selecting) its numerator and its denominator. Let us further assume that the constructor and selectors are available as procedures:"
   ]
  },
  {
   "cell_type": "markdown",
   "metadata": {},
   "source": [
    "$\\bullet\\;\\;\\text{(make-rat ⟨n⟩ ⟨d⟩)}$ returns the rational number whose numerator is the integer $\\text{⟨n⟩}$ and whose denominator is the integer $\\text{⟨d⟩}$."
   ]
  },
  {
   "cell_type": "markdown",
   "metadata": {},
   "source": [
    "$\\bullet\\;\\;\\text{(numer ⟨x⟩)}$ returns the numerator of the rational number $\\text{⟨x⟩}$."
   ]
  },
  {
   "cell_type": "markdown",
   "metadata": {},
   "source": [
    "$\\bullet\\;\\;\\text{(denom ⟨x⟩)}$ returns the denominator of the rational number $\\text{⟨x⟩}$."
   ]
  },
  {
   "cell_type": "markdown",
   "metadata": {},
   "source": [
    "We are using here a powerful strategy of synthesis: $wishful$ $thinking$. We haven’t yet said how a rational number is represented, or how the procedures $\\text{numer}$, $\\text{denom}$, and $\\text{make-rat}$ should be implemented. Even so, if we did have these three procedures, we could then add, subtract, multiply, divide, and test equality by using the following relations:"
   ]
  },
  {
   "cell_type": "markdown",
   "metadata": {},
   "source": [
    "\\begin{align}\n",
    "\\frac{n_1}{d_1} + \\frac{n_2}{d_2} &= \\frac{n_1d_2 + n_2d_1}{d_1d_2},\\\\\n",
    "\\frac{n_1}{d_1} - \\frac{n_2}{d_2} &= \\frac{n_1d_2 - n_2d_1}{d_1d_2},\\\\\n",
    "\\frac{n_1}{d_1} \\cdot \\frac{n_2}{d_2} &= \\frac{n_1n_2}{d_1d_2},\\\\\n",
    "\\frac{n_1/d_1}{n_2/d_2} &= \\frac{n_1d_2}{n_2d_1},\\\\\n",
    "\\frac{n_1}{d_1} &= \\frac{n_2}{d_2}\\qquad\\text{if and only if $n_1d_2 = n_2d_1$}.\n",
    "\\end{align}"
   ]
  },
  {
   "cell_type": "markdown",
   "metadata": {},
   "source": [
    "We can express these rules as procedures:"
   ]
  },
  {
   "cell_type": "code",
   "execution_count": 1,
   "metadata": {
    "collapsed": false
   },
   "outputs": [
    {
     "name": "stdout",
     "output_type": "stream",
     "text": [
      ";; addition of rational number\r\n",
      "(define (add-rat x y)\r\n",
      "  (make-rat (+ (* (numer x) (denom y))\r\n",
      "               (* (numer y) (denom x)))\r\n",
      "            (* (denom x) (denom y))))\r\n",
      "\r\n",
      ";; subtraction of rational number\r\n",
      "(define (sub-rat x y)\r\n",
      "  (make-rat (- (* (numer x) (denom y))\r\n",
      "               (* (numer y) (denom x)))\r\n",
      "             (* (denom x) (denom y))))\r\n",
      "\r\n",
      ";; multiplication of rational number\r\n",
      "(define (mul-rat x y)\r\n",
      "  (make-rat (* (numer x) (numer y))\r\n",
      "            (* (denom x) (denom y))))\r\n",
      "\r\n",
      ";; division of rational numbers\r\n",
      "(define (div-rat x y)\r\n",
      "  (make-rat (* (numer x) (denom y))\r\n",
      "            (* (denom x) (numer y))))\r\n",
      "\r\n",
      ";; equality of rational numbers\r\n",
      "(define (equal-rat? x y)\r\n",
      "  (= (* (numer x) (denom y))\r\n",
      "     (* (numer y) (denom x))))\r\n"
     ]
    }
   ],
   "source": [
    "cat 2.1/Example_1/rat_op_rules.scm"
   ]
  },
  {
   "cell_type": "markdown",
   "metadata": {},
   "source": [
    "Now we have the $\\textbf{operations}$ on rational numbers defined in terms of the selector and constructor procedures numer, denom, and make-rat.But we $\\textbf{haven’t}$ yet defined these. What we need is some way to $\\textbf{glue together}$ a numerator and a denominator to form a rational number."
   ]
  },
  {
   "cell_type": "markdown",
   "metadata": {},
   "source": [
    "### Representing rational numbers"
   ]
  },
  {
   "cell_type": "markdown",
   "metadata": {},
   "source": [
    "$\\textbf{Pairs}$ offer a natural way to complete the rational-number system. Simply represent a rational number as a pair of two integers: a numerator and a denominator. Then $\\text{make-rat}$, $\\text{numer}$, and $\\text{denom}$ are readily implemented as follows:"
   ]
  },
  {
   "cell_type": "code",
   "execution_count": 2,
   "metadata": {
    "collapsed": false
   },
   "outputs": [
    {
     "name": "stdout",
     "output_type": "stream",
     "text": [
      ";; Another way to define the selectors and constructor\r\n",
      ";;\r\n",
      ";; (define make-rat cons)\r\n",
      ";; (define numer car)\r\n",
      ";; (define denom cdr)\r\n",
      "\r\n",
      "(define (make-rat n d) (cons n d))\r\n",
      "(define (numer x) (car x))\r\n",
      "(define (denom x) (cdr x))\r\n"
     ]
    }
   ],
   "source": [
    "cat 2.1/Example_1/rat_repr_by_pair.scm"
   ]
  },
  {
   "cell_type": "markdown",
   "metadata": {},
   "source": [
    "Also, in order to display the results of our computations, we can print rational numbers by printing the numerator, a slash, and the denominator:"
   ]
  },
  {
   "cell_type": "code",
   "execution_count": 3,
   "metadata": {
    "collapsed": false
   },
   "outputs": [
    {
     "name": "stdout",
     "output_type": "stream",
     "text": [
      "(define (print-rat x)\r\n",
      "  (newline)\r\n",
      "  (display (numer x))\r\n",
      "  (display \"/\")\r\n",
      "  (display (denom x)))\r\n"
     ]
    }
   ],
   "source": [
    "cat 2.1/Example_1/rat_print.scm"
   ]
  },
  {
   "cell_type": "markdown",
   "metadata": {},
   "source": [
    "Now we can try our $\\textbf{rational-number}$ procedures:"
   ]
  },
  {
   "cell_type": "raw",
   "metadata": {},
   "source": [
    "1 ]=> (load \"2.1/Example_1/rat_op_rules.scm\")\n",
    "\n",
    ";Loading \"2.1/Example_1/rat_op_rules.scm\"... done\n",
    ";Value: equal-rat?\n",
    "\n",
    "1 ]=> (load \"2.1/Example_1/rat_repr_by_pair.scm\")\n",
    "\n",
    ";Loading \"2.1/Example_1/rat_repr_by_pair.scm\"... done\n",
    ";Value: denom\n",
    "\n",
    "1 ]=> (load \"2.1/Example_1/rat_print.scm\")\n",
    "\n",
    ";Loading \"2.1/Example_1/rat_print.scm\"... done\n",
    ";Value: print-rat"
   ]
  },
  {
   "cell_type": "raw",
   "metadata": {},
   "source": [
    "1 ]=> (define one-half (make-rat 1 2))\n",
    "\n",
    ";Value: one-half\n",
    "\n",
    "1 ]=> (print-rat one-half)\n",
    "\n",
    "1/2"
   ]
  },
  {
   "cell_type": "raw",
   "metadata": {},
   "source": [
    "1 ]=> (define one-third (make-rat 1 3))\n",
    "\n",
    ";Value: one-third\n",
    "\n",
    "1 ]=> (print-rat (add-rat one-half one-third))\n",
    "\n",
    "5/6\n",
    "\n",
    "1 ]=> (print-rat (mul-rat one-half one-third))\n",
    "\n",
    "1/6\n",
    "\n",
    "1 ]=> (print-rat (add-rat one-third one-third))\n",
    "\n",
    "6/9"
   ]
  },
  {
   "cell_type": "markdown",
   "metadata": {},
   "source": [
    "As the final example shows, our rational-number implementation does not reduce rational numbers to lowest terms. We can remedy this by changing $\\text{make-rat}$. If we have a $gcd $procedure like the one in Section 1.2.5 that produces the greatest common divisor of two integers, we can"
   ]
  },
  {
   "cell_type": "code",
   "execution_count": 4,
   "metadata": {
    "collapsed": false
   },
   "outputs": [
    {
     "name": "stdout",
     "output_type": "stream",
     "text": [
      "(load \"../Chapter_1/1.2/Example_7/gcd_by_Euclid_Algorithm.scm\")\r\n",
      "\r\n",
      "(define (make-rat n d)\r\n",
      "  (let ((g (gcd n d)))\r\n",
      "    (cons (/ n g) (/ d g))))\r\n",
      "\r\n",
      "(define (numer x) (car x))\r\n",
      "(define (denom x) (cdr x))\r\n"
     ]
    }
   ],
   "source": [
    "cat 2.1/Example_1/rat_repr_by_gcd.scm"
   ]
  },
  {
   "cell_type": "markdown",
   "metadata": {},
   "source": [
    "Now we have"
   ]
  },
  {
   "cell_type": "raw",
   "metadata": {},
   "source": [
    "1 ]=> (load \"2.1/Example_1/rat_repr_by_gcd.scm\")\n",
    "\n",
    ";Loading \"2.1/Example_1/rat_repr_by_gcd.scm\"...\n",
    ";  Loading \"../Chapter_1/1.2/Example_7/gcd_by_Euclid_Algorithm.scm\"... done\n",
    ";... done\n",
    ";Value: denom\n",
    "\n",
    "1 ]=> (print-rat (add-rat one-third one-third))\n",
    "\n",
    "2/3"
   ]
  },
  {
   "cell_type": "markdown",
   "metadata": {},
   "source": [
    "as desired. This modification was accomplished by changing the constructor make-rat $\\textbf{without}$ changing any of the procedures (such as add-rat and mul-rat) that implement the actual operations."
   ]
  },
  {
   "cell_type": "markdown",
   "metadata": {},
   "source": [
    "## Exercise 2.1: \n",
    "Define a better version of $\\textbf{make-rat}$ that handles both positive and negative arguments. make-rat should normalize the sign so that if the rational number is positive, both the numerator and denominator are positive, and if the rational number is negative, only the numerator is negative."
   ]
  },
  {
   "cell_type": "markdown",
   "metadata": {},
   "source": [
    "## Answer:"
   ]
  },
  {
   "cell_type": "code",
   "execution_count": 5,
   "metadata": {
    "collapsed": false
   },
   "outputs": [
    {
     "name": "stdout",
     "output_type": "stream",
     "text": [
      "(load \"../Chapter_1/1.2/Example_7/gcd_by_Euclid_Algorithm.scm\")\r\n",
      "\r\n",
      "(define (make-rat n d)\r\n",
      "  (let ((g (gcd (abs n) (abs d))))\r\n",
      "    (if (< d 0)\r\n",
      "      (cons (- (/ n g)) (- (/ d g)))\r\n",
      "      (cons (/ n g) (/ d g)))))\r\n",
      "\r\n",
      "(define (numer x) (car x))\r\n",
      "(define (denom x) (cdr x))\r\n"
     ]
    }
   ],
   "source": [
    "cat 2.1/Exercise_2.1/rat_repr.scm"
   ]
  },
  {
   "cell_type": "markdown",
   "metadata": {},
   "source": [
    "### Running Instance:"
   ]
  },
  {
   "cell_type": "raw",
   "metadata": {},
   "source": [
    "1 ]=> (load \"2.1/Example_1/rat_op_rules.scm\")\n",
    "\n",
    ";Loading \"2.1/Example_1/rat_op_rules.scm\"... done\n",
    ";Value: equal-rat?\n",
    "\n",
    "1 ]=> (load \"2.1/Example_1/rat_print.scm\")\n",
    "\n",
    ";Loading \"2.1/Example_1/rat_print.scm\"... done\n",
    ";Value: print-rat\n",
    "\n",
    "1 ]=> (load \"2.1/Exercise_2.1/rat_repr.scm\")\n",
    "\n",
    ";Loading \"2.1/Exercise_2.1/rat_repr.scm\"...\n",
    ";  Loading \"../Chapter_1/1.2/Example_7/gcd_by_Euclid_Algorithm.scm\"... done\n",
    ";... done\n",
    ";Value: denom"
   ]
  },
  {
   "cell_type": "markdown",
   "metadata": {},
   "source": [
    "1 ]=> (define negative-one-half (make-rat (- 1) 2))\n",
    "\n",
    ";Value: negative-one-half\n",
    "\n",
    "1 ]=> (print-rat negative-one-half)\n",
    "\n",
    "-1/2"
   ]
  },
  {
   "cell_type": "raw",
   "metadata": {},
   "source": [
    "1 ]=> (define negative-one-half (make-rat 1 (- 2)))\n",
    "\n",
    ";Value: negative-one-half\n",
    "\n",
    "1 ]=> (print-rat negative-one-half)\n",
    "\n",
    "-1/2"
   ]
  },
  {
   "cell_type": "raw",
   "metadata": {},
   "source": [
    "1 ]=> (define two-thirds (make-rat 2 3))\n",
    "\n",
    ";Value: two-thirds\n",
    "\n",
    "1 ]=> (print-rat two-thirds)\n",
    "\n",
    "2/3"
   ]
  },
  {
   "cell_type": "raw",
   "metadata": {},
   "source": [
    "1 ]=> (print-rat (add-rat negative-one-half two-thirds))\n",
    "\n",
    "1/6\n",
    "\n",
    "1 ]=> (print-rat (mul-rat negative-one-half two-thirds))\n",
    "\n",
    "-1/3\n",
    "\n",
    "1 ]=> (print-rat (add-rat negative-one-half negative-one-half))\n",
    "\n",
    "-1/1\n",
    "\n",
    "1 ]=> (print-rat (add-rat two-thirds two-thirds))\n",
    "\n",
    "4/3"
   ]
  },
  {
   "cell_type": "markdown",
   "metadata": {},
   "source": [
    "### Abstraction Barriers"
   ]
  },
  {
   "cell_type": "markdown",
   "metadata": {},
   "source": [
    "Before continuing with more examples of compound data and data abstraction,let us consider some of the issues raised by the rational-number example. We defined the rational-number operations in terms of a constructor make-rat and selectors numer and denom. In general, the underlying idea of data abstraction is to identify for each type of data object a basic set of operations in terms of which all manipulations of data objects of that type will be expressed, and then to use only those operations in manipulating the data."
   ]
  },
  {
   "cell_type": "markdown",
   "metadata": {},
   "source": [
    "We can envision the structure of the rational-number system as shown in Figure 2.1. The horizontal lines represent $abstraction$ $barriers$ that isolate different “levels” of the system. At each level, the barrier separates the programs (above) that use the data abstraction from the programs (below) that implement the data abstraction. Programs that use rational numbers manipulate them solely in terms of the procedures supplied “for public use” by the rational-number package: addrat, sub-rat, mul-rat, div-rat, and equal-rat?. These, in turn, are implemented solely in terms of the constructor and selectors make-rat, numer, and denom, which themselves are implemented in terms of pairs. The details of how pairs are implemented are irrelevant to the rest of the rational-number package so long as pairs can be manipulated by the use of cons, car, and cdr. In effect, procedures at each level are the interfaces that define the abstraction barriers and connect the different levels."
   ]
  },
  {
   "cell_type": "markdown",
   "metadata": {},
   "source": [
    "This simple idea has many advantages. One advantage is that it makes programs much easier to maintain and to modify. Any complex data structure can be represented in a variety of ways with the primitive data structures provided by a programming language. Of course, the choice of representation influences the programs that operate on it; thus, if the representation were to be changed at some later time, all such programs might have to be modified accordingly. This task could be time-consuming and expensive in the case of large programs unless the dependence on the representation were to be confined by design to a very few program modules."
   ]
  },
  {
   "cell_type": "markdown",
   "metadata": {},
   "source": [
    "For example, an alternate way to address the problem of reducing rational numbers to lowest terms is to perform the reduction whenever we access the parts of a rational number, rather than when we construct it. This leads to different constructor and selector procedures:"
   ]
  },
  {
   "cell_type": "raw",
   "metadata": {},
   "source": [
    "(define (make-rat n d) (cons n d))\n",
    "(define (numer x)\n",
    "  (let ((g (gcd (car x) (cdr x))))\n",
    "   (/ (car x) g)))\n",
    "(define (denom x)\n",
    "  (let ((g (gcd (car x) (cdr x))))\n",
    "   (/ (cdr x) g)))"
   ]
  },
  {
   "cell_type": "markdown",
   "metadata": {},
   "source": [
    "The difference between this implementation and the previous one lies in when we compute the gcd. If in our typical use of rational numbers we access the numerators and denominators of the same rational numbers many times, it would be preferable to compute the gcd when the rational numbers are constructed. If not, we may be better off waiting until access time to compute the gcd. In any case, when we change from one representation to the other, the procedures add-rat, sub-rat, and so on do not have to be modified at all."
   ]
  },
  {
   "cell_type": "markdown",
   "metadata": {},
   "source": [
    "Constraining the dependence on the representation to a few interface procedures helps us design programs as well as modify them, because it allows us to maintain the flexibility to consider alternate implementations. To continue with our simple example, suppose we are designing a rational-number package and we can’t decide initially whether to perform the gcd at construction time or at selection time. The data-abstraction methodology gives us a way to defer that decision without losing the ability to make progress on the rest of the system."
   ]
  },
  {
   "cell_type": "markdown",
   "metadata": {},
   "source": [
    "## Exercise 2.2: \n",
    "Consider the problem of representing line segments in a plane. Each segment is represented as a pair of points: a starting point and an ending point. Define a constructor $\\textbf{make-segment}$ and selectors $\\textbf{start-segment}$ and $\\textbf{end-segment}$ that define the representation of segments in terms of points. Furthermore, a point can be represented as a pair of numbers: the $x$ coordinate and the $y$ coordinate. Accordingly, specify a constructor $\\textbf{make-point}$ and selectors $\\textbf{x-point}$ and $\\textbf{y-point}$ that define this representation. Finally, using your selectors and constructors, define a procedure $\\textbf{midpoint-segment}$ that takes a line segment as argument and returns its midpoint (the point whose coordinates are the average of the coordinates of the endpoints).To try your procedures, you’ll need a way to $\\text{print points}$:"
   ]
  },
  {
   "cell_type": "raw",
   "metadata": {},
   "source": [
    "(define (print-point p)\n",
    "(newline)\n",
    "(display \"(\")\n",
    "(display (x-point p))\n",
    "(display \",\")\n",
    "(display (y-point p))\n",
    "(display \")\"))"
   ]
  },
  {
   "cell_type": "markdown",
   "metadata": {},
   "source": [
    "## Answer:"
   ]
  },
  {
   "cell_type": "markdown",
   "metadata": {},
   "source": [
    "$\\spadesuit$  The constructor and selectors of line segment"
   ]
  },
  {
   "cell_type": "code",
   "execution_count": 6,
   "metadata": {
    "collapsed": false
   },
   "outputs": [
    {
     "name": "stdout",
     "output_type": "stream",
     "text": [
      ";; segment constructor\r\n",
      "(define (make-segment start-point end-point)\r\n",
      "  (cons start-point end-point))\r\n",
      "\r\n",
      ";; segment selector\r\n",
      "(define (start-segment seg) (car seg))\r\n",
      "(define (end-segment seg) (cdr seg))\r\n"
     ]
    }
   ],
   "source": [
    "cat 2.1/Exercise_2.2/segment_repr.scm"
   ]
  },
  {
   "cell_type": "markdown",
   "metadata": {},
   "source": [
    "$\\spadesuit$  The constructor and selectors of a point"
   ]
  },
  {
   "cell_type": "code",
   "execution_count": 8,
   "metadata": {
    "collapsed": false
   },
   "outputs": [
    {
     "name": "stdout",
     "output_type": "stream",
     "text": [
      ";; point constructor\r\n",
      "(define (make-point x y) (cons x y))\r\n",
      "\r\n",
      ";; point selector\r\n",
      "(define (x-point p) (car p))\r\n",
      "(define (y-point p) (cdr p))\r\n"
     ]
    }
   ],
   "source": [
    "cat 2.1/Exercise_2.2/point_repr.scm"
   ]
  },
  {
   "cell_type": "markdown",
   "metadata": {},
   "source": [
    "$\\spadesuit$ The mid-point of line segment was defined by using the following relations"
   ]
  },
  {
   "cell_type": "markdown",
   "metadata": {},
   "source": [
    "$$\\left(\\frac{x_{start}+x_{end}}{2},\\frac{y_{start}+y_{end}}{2}\\right)$$"
   ]
  },
  {
   "cell_type": "markdown",
   "metadata": {},
   "source": [
    "So,this mid-point formula can easily express the $\\text{average}$ procedure"
   ]
  },
  {
   "cell_type": "code",
   "execution_count": 9,
   "metadata": {
    "collapsed": false
   },
   "outputs": [
    {
     "name": "stdout",
     "output_type": "stream",
     "text": [
      "(define (average x y) (/ (+ x y) 2.0))\r\n"
     ]
    }
   ],
   "source": [
    "cat 2.1/Exercise_2.2/mid_point_rule.scm"
   ]
  },
  {
   "cell_type": "markdown",
   "metadata": {},
   "source": [
    "$\\spadesuit$ The $\\text{print-point}$ procedure above given"
   ]
  },
  {
   "cell_type": "code",
   "execution_count": 10,
   "metadata": {
    "collapsed": false
   },
   "outputs": [
    {
     "name": "stdout",
     "output_type": "stream",
     "text": [
      "(define (print-point p)\r\n",
      "  (newline)\r\n",
      "  (display \"(\")\r\n",
      "  (display (x-point p))\r\n",
      "  (display \",\")\r\n",
      "  (display (y-point p))\r\n",
      "  (display \")\"))\r\n"
     ]
    }
   ],
   "source": [
    "cat 2.1/Exercise_2.2/print_point.scm"
   ]
  },
  {
   "cell_type": "markdown",
   "metadata": {},
   "source": [
    "So, we can get the $\\text{mid-point}$ procedure"
   ]
  },
  {
   "cell_type": "code",
   "execution_count": 11,
   "metadata": {
    "collapsed": false
   },
   "outputs": [
    {
     "name": "stdout",
     "output_type": "stream",
     "text": [
      "(load \"2.1/Exercise_2.2/point_repr.scm\")\r\n",
      "(load \"2.1/Exercise_2.2/segment_repr.scm\")\r\n",
      "(load \"2.1/Exercise_2.2/mid_point_rule.scm\")\r\n",
      "\r\n",
      "(define (midpoint-segment seg)\r\n",
      "  (let ((start (start-segment seg))\r\n",
      "        (end (end-segment seg)))\r\n",
      "    (make-point (average (x-point start) (x-point end))\r\n",
      "                (average (y-point start) (y-point end)))))\r\n"
     ]
    }
   ],
   "source": [
    "cat 2.1/Exercise_2.2/mid_point_of_segment.scm"
   ]
  },
  {
   "cell_type": "markdown",
   "metadata": {},
   "source": [
    "### Running Instance:"
   ]
  },
  {
   "cell_type": "raw",
   "metadata": {},
   "source": [
    "1 ]=> (load \"2.1/Exercise_2.2/print_point.scm\")\n",
    "\n",
    ";Loading \"2.1/Exercise_2.2/print_point.scm\"... done\n",
    ";Value: print-point\n",
    "\n",
    "1 ]=> (load \"2.1/Exercise_2.2/mid_point_of_segment.scm\")\n",
    "\n",
    ";Loading \"2.1/Exercise_2.2/mid_point_of_segment.scm\"...\n",
    ";  Loading \"2.1/Exercise_2.2/point_repr.scm\"... done\n",
    ";  Loading \"2.1/Exercise_2.2/segment_repr.scm\"... done\n",
    ";  Loading \"2.1/Exercise_2.2/mid_point_rule.scm\"... done\n",
    ";... done\n",
    ";Value: midpoint-segment"
   ]
  },
  {
   "cell_type": "raw",
   "metadata": {},
   "source": [
    "1 ]=> (define start (make-point 1 3))\n",
    "\n",
    ";Value: start\n",
    "\n",
    "1 ]=> (define end (make-point 4 3))\n",
    "\n",
    ";Value: end\n",
    "\n",
    "1 ]=> (define seg (make-segment start end))\n",
    "\n",
    ";Value: seg\n",
    "\n",
    "1 ]=> (define mid (midpoint-segment seg))\n",
    "\n",
    ";Value: mid\n",
    "\n",
    "1 ]=> (print-point mid)\n",
    "\n",
    "(2.5,3.)"
   ]
  },
  {
   "cell_type": "markdown",
   "metadata": {},
   "source": [
    "## Exercise 2.3: \n",
    "Implement a representation for $\\textbf{rectangles}$ in a plane. (Hint: You may want to make use of Exercise 2.2.) In terms of your constructors and selectors, create procedures that compute the $\\textbf{perimeter}$ and the $\\textbf{area}$ of a given rectangle. Now implement a different representation for rectangles. Can you design your system with suitable abstraction barriers, so that the same perimeter and area procedures will work using either representation?"
   ]
  },
  {
   "cell_type": "markdown",
   "metadata": {},
   "source": [
    "## 解答："
   ]
  },
  {
   "cell_type": "markdown",
   "metadata": {},
   "source": [
    "$\\spadesuit\\quad$ 定义矩形的操作--周长和面积"
   ]
  },
  {
   "cell_type": "markdown",
   "metadata": {},
   "source": [
    "假设我们已经有了某种矩形的生成器，已经如下两个矩形的选择器"
   ]
  },
  {
   "cell_type": "markdown",
   "metadata": {},
   "source": [
    "$\\bullet\\quad\\text{length-of-rectangle}$ 以一个矩形作为参数，返回矩形的长度"
   ]
  },
  {
   "cell_type": "markdown",
   "metadata": {},
   "source": [
    "$\\bullet\\quad\\text{width-of-rectangle}$ 以一个矩形作为参数，返回矩形的宽度"
   ]
  },
  {
   "cell_type": "markdown",
   "metadata": {},
   "source": [
    "以上面两个选择器，我们就能根据相应的公式计算给定矩形的周长和面积"
   ]
  },
  {
   "cell_type": "markdown",
   "metadata": {},
   "source": [
    "$\\bullet\\quad$周长"
   ]
  },
  {
   "cell_type": "markdown",
   "metadata": {},
   "source": [
    "矩形的周长通过如下公式计算："
   ]
  },
  {
   "cell_type": "markdown",
   "metadata": {},
   "source": [
    "$perimeter=2∗(length+width)$"
   ]
  },
  {
   "cell_type": "markdown",
   "metadata": {},
   "source": [
    "因此得到周长计算函数的定义："
   ]
  },
  {
   "cell_type": "code",
   "execution_count": 12,
   "metadata": {
    "collapsed": false
   },
   "outputs": [
    {
     "name": "stdout",
     "output_type": "stream",
     "text": [
      "(define (perimeter-rectangle r)\r\n",
      "  (let ((length (length-of-rectangle r))\r\n",
      "        (width (width-of-rectangle r)))\r\n",
      "    (* 2 (+ length width))))\r\n"
     ]
    }
   ],
   "source": [
    "cat 2.1/Exercise_2.3/perimeter.scm"
   ]
  },
  {
   "cell_type": "markdown",
   "metadata": {},
   "source": [
    "$\\bullet\\quad$面积"
   ]
  },
  {
   "cell_type": "markdown",
   "metadata": {},
   "source": [
    "矩形的面积通过如下公式计算："
   ]
  },
  {
   "cell_type": "markdown",
   "metadata": {},
   "source": [
    "$area=length∗width$"
   ]
  },
  {
   "cell_type": "markdown",
   "metadata": {},
   "source": [
    "因此得到面积计算函数的定义:"
   ]
  },
  {
   "cell_type": "code",
   "execution_count": 13,
   "metadata": {
    "collapsed": false
   },
   "outputs": [
    {
     "name": "stdout",
     "output_type": "stream",
     "text": [
      "(define (area-rectangle r)\r\n",
      "  (* (length-of-rectangle r)\r\n",
      "     (width-of-rectangle r)))\r\n"
     ]
    }
   ],
   "source": [
    "cat 2.1/Exercise_2.3/area.scm"
   ]
  },
  {
   "cell_type": "markdown",
   "metadata": {},
   "source": [
    "$\\spadesuit\\quad$定义矩形的生成器和选择器--使用两对线段"
   ]
  },
  {
   "cell_type": "markdown",
   "metadata": {},
   "source": [
    "$\\bullet\\quad$最直观的表示矩形的方法是使用两对线段，一对表示矩形的长，另一对表示矩形的宽"
   ]
  },
  {
   "cell_type": "code",
   "execution_count": 18,
   "metadata": {
    "collapsed": false
   },
   "outputs": [
    {
     "name": "stdout",
     "output_type": "stream",
     "text": [
      "(load \"2.1/Exercise_2.2/segment_repr.scm\")\r\n",
      "(load \"2.1/Exercise_2.2/point_repr.scm\")\r\n",
      "\r\n",
      ";;\r\n",
      ";; rectangle constructor\r\n",
      ";;\r\n",
      "(define (make-rectangle length-1 length-2 width-1 width-2)\r\n",
      "  (cons (cons length-1 length-2) (cons width-1 width-2)))\r\n",
      "\r\n",
      ";;\r\n",
      ";; rectangle selectors\r\n",
      ";; \r\n",
      "(define (length-1-rectangle r)\r\n",
      "  (car (car r)))\r\n",
      "\r\n",
      "(define (length-2-rectangle r)\r\n",
      "  (cdr (car r)))\r\n",
      "\r\n",
      "(define (width-1-rectangle r)\r\n",
      "  (car (cdr r)))\r\n",
      "\r\n",
      "(define (width-2-rectangle r) \r\n",
      "  (cdr (cdr r)))\r\n",
      "\r\n",
      ";;\r\n",
      ";; length of rectangle\r\n",
      ";;\r\n",
      "(define (length-of-rectangle r)\r\n",
      "  (let ((length (length-1-rectangle r)))\r\n",
      "    (let ((start (start-segment length))\r\n",
      "          (end (end-segment length)))\r\n",
      "      (- (x-point end) (x-point start)))))\r\n",
      "\r\n",
      ";;\r\n",
      ";; width of rectangle\r\n",
      ";;\r\n",
      "(define (width-of-rectangle r)\r\n",
      "  (let ((width (width-1-rectangle r)))\r\n",
      "    (let ((start (start-segment width))\r\n",
      "          (end (end-segment width)))\r\n",
      "      (- (y-point end) (y-point start)))))\r\n"
     ]
    }
   ],
   "source": [
    "cat 2.1/Exercise_2.3/rectangle-repr.scm"
   ]
  },
  {
   "cell_type": "markdown",
   "metadata": {},
   "source": [
    "$\\bullet\\quad$ 矩形打印"
   ]
  },
  {
   "cell_type": "code",
   "execution_count": 15,
   "metadata": {
    "collapsed": false
   },
   "outputs": [
    {
     "name": "stdout",
     "output_type": "stream",
     "text": [
      "(load \"2.1/Exercise_2.2/print_point.scm\")\r\n",
      "(define (print-rectangle r)\r\n",
      "  (let ((L1 (length-1-rectangle r))\r\n",
      "        (L2 (length-2-rectangle r))\r\n",
      "        (W1 (width-1-rectangle r))\r\n",
      "        (W2 (width-2-rectangle r)))\r\n",
      "\r\n",
      "    (newline)\r\n",
      "    (display \"Length 1:\")\r\n",
      "    (print-point (start-segment L1))\r\n",
      "    (print-point (end-segment L1))\r\n",
      "    \r\n",
      "    (newline)\r\n",
      "    (display \"Length 2:\")\r\n",
      "    (print-point (start-segment L2))\r\n",
      "    (print-point (end-segment L2))\r\n",
      "    \r\n",
      "    (newline)\r\n",
      "    (display \"Width 1:\")\r\n",
      "    (print-point (start-segment W1))\r\n",
      "    (print-point (end-segment W1))\r\n",
      "    \r\n",
      "    (newline)\r\n",
      "    (display \"Width 2:\")\r\n",
      "    (print-point (start-segment W2))\r\n",
      "    (print-point (end-segment W2))))\r\n"
     ]
    }
   ],
   "source": [
    "cat 2.1/Exercise_2.3/print-rectangle.scm"
   ]
  },
  {
   "cell_type": "markdown",
   "metadata": {},
   "source": [
    "### Running Instance:"
   ]
  },
  {
   "cell_type": "markdown",
   "metadata": {},
   "source": [
    "1 ]=> (load \"2.1/Exercise_2.3/rectangle-repr.scm\")\n",
    "\n",
    ";Loading \"2.1/Exercise_2.3/rectangle-repr.scm\"...\n",
    ";  Loading \"2.1/Exercise_2.2/segment_repr.scm\"... done\n",
    ";  Loading \"2.1/Exercise_2.2/point_repr.scm\"... done\n",
    ";... done\n",
    ";Value: width-of-rectangle\n",
    "\n",
    "1 ]=> (define length-1 (make-segment (make-point 1 4) (make-point 4 4)))\n",
    "\n",
    ";Value: length-1\n",
    "\n",
    "1 ]=> (define length-2 (make-segment (make-point 1 2) (make-point 4 2)))\n",
    "\n",
    ";Value: length-2\n",
    "\n",
    "1 ]=> (define width-1 (make-segment (make-point 1 2) (make-point 1 4)))\n",
    "\n",
    ";Value: width-1\n",
    "\n",
    "1 ]=> (define width-2 (make-segment (make-point 4 2) (make-point 4 4)))\n",
    "\n",
    ";Value: width-2\n",
    "\n",
    "1 ]=> (define rectangle (make-rectangle length-1 length-2 width-1 width-2))\n",
    "\n",
    ";Value: rectangle\n",
    "\n",
    "1 ]=> (load \"2.1/Exercise_2.3/print-rectangle.scm\")\n",
    "\n",
    ";Loading \"2.1/Exercise_2.3/print-rectangle.scm\"...\n",
    ";  Loading \"2.1/Exercise_2.2/print_point.scm\"... done\n",
    ";... done\n",
    ";Value: print-rectangle\n",
    "\n",
    "1 ]=> (print-rectangle rectangle)\n",
    "\n",
    "Length 1:\n",
    "(1,4)\n",
    "(4,4)\n",
    "Length 2:\n",
    "(1,2)\n",
    "(4,2)\n",
    "Width 1:\n",
    "(1,2)\n",
    "(1,4)\n",
    "Width 2:\n",
    "(4,2)\n",
    "(4,4)\n",
    ";Unspecified return value\n",
    "\n",
    "1 ]=> (load \"2.1/Exercise_2.3/perimeter.scm\")\n",
    "\n",
    ";Loading \"2.1/Exercise_2.3/perimeter.scm\"... done\n",
    ";Value: perimeter-rectangle\n",
    "\n",
    "1 ]=> (perimeter-rectangle rectangle)\n",
    "\n",
    ";Value: 10\n",
    "\n",
    "1 ]=> (load \"2.1/Exercise_2.3/area.scm\")\n",
    "\n",
    ";Loading \"2.1/Exercise_2.3/area.scm\"... done\n",
    ";Value: area-rectangle\n",
    "\n",
    "1 ]=> (area-rectangle rectangle)\n",
    "\n",
    ";Value: 6"
   ]
  },
  {
   "cell_type": "markdown",
   "metadata": {},
   "source": [
    "$\\spadesuit\\quad$定义矩形的生成器和选择器--使用两条线段"
   ]
  },
  {
   "cell_type": "markdown",
   "metadata": {},
   "source": [
    "#### 只需要重新定义矩阵的表示即可"
   ]
  },
  {
   "cell_type": "code",
   "execution_count": 20,
   "metadata": {
    "collapsed": false
   },
   "outputs": [
    {
     "name": "stdout",
     "output_type": "stream",
     "text": [
      ";;\r\n",
      ";; rectangle constructor\r\n",
      ";;\r\n",
      "(define (make-rectangle length width)\r\n",
      "  (cons length width))\r\n",
      "\r\n",
      ";;\r\n",
      ";; rectangle selectors\r\n",
      ";;\r\n",
      "(define (length-rectangle r)\r\n",
      "  (car r))\r\n",
      "\r\n",
      "(define (width-rectangle r)\r\n",
      "  (cdr r))\r\n",
      "\r\n",
      ";;\r\n",
      ";; length of rectangle\r\n",
      ";;\r\n",
      "(define (length-of-rectangle r)\r\n",
      "  (let ((length (length-rectangle r)))\r\n",
      "    (let ((start (start-segment length))\r\n",
      "          (end (end-segment length)))\r\n",
      "      (- (x-point end) (x-point start)))))\r\n",
      "\r\n",
      ";;\r\n",
      ";; width of rectangle\r\n",
      ";;\r\n",
      "(define (width-of-rectangle r)\r\n",
      "  (let ((width (width-rectangle r)))\r\n",
      "    (let ((start (start-segment width))\r\n",
      "          (end (end-segment width)))\r\n",
      "      (- (y-point end) (y-point start)))))\r\n"
     ]
    }
   ],
   "source": [
    "cat 2.1/Exercise_2.3/another-rectangle-repr.scm"
   ]
  },
  {
   "cell_type": "markdown",
   "metadata": {},
   "source": [
    "### Running Instance:"
   ]
  },
  {
   "cell_type": "raw",
   "metadata": {},
   "source": [
    "1 ]=> (load \"2.1/Exercise_2.3/another-rectangle-repr.scm\")\n",
    "\n",
    ";Loading \"2.1/Exercise_2.3/another-rectangle-repr.scm\"...\n",
    ";  Loading \"2.1/Exercise_2.2/segment_repr.scm\"... done\n",
    ";  Loading \"2.1/Exercise_2.2/point_repr.scm\"... done\n",
    ";... done\n",
    ";Value: width-of-rectangle\n",
    "\n",
    "1 ]=> (define len (make-segment (make-point 1 2) (make-point 4 2)))\n",
    "\n",
    ";Value: len\n",
    "\n",
    "1 ]=> (define wid (make-segment (make-point 1 2) (make-point 1 4)))\n",
    "\n",
    ";Value: wid\n",
    "\n",
    "1 ]=> (define rec (make-rectangle len wid))\n",
    "\n",
    ";Value: rec\n",
    "\n",
    "1 ]=> (length-of-rectangle rec)\n",
    "\n",
    ";Value: 3\n",
    "\n",
    "1 ]=> (width-of-rectangle rec)\n",
    "\n",
    ";Value: 2\n",
    "\n",
    "1 ]=> (load \"2.1/Exercise_2.3/perimeter.scm\")\n",
    "\n",
    ";Loading \"2.1/Exercise_2.3/perimeter.scm\"... done\n",
    ";Value: perimeter-rectangle\n",
    "\n",
    "1 ]=> (perimeter-rectangle rec)\n",
    "\n",
    ";Value: 10\n",
    "\n",
    "1 ]=> (load \"2.1/Exercise_2.3/area.scm\")\n",
    "\n",
    ";Loading \"2.1/Exercise_2.3/area.scm\"... done\n",
    ";Value: area-rectangle\n",
    "\n",
    "1 ]=> (area-rectangle rec)\n",
    "\n",
    ";Value: 6"
   ]
  },
  {
   "cell_type": "code",
   "execution_count": null,
   "metadata": {
    "collapsed": true
   },
   "outputs": [],
   "source": []
  },
  {
   "cell_type": "code",
   "execution_count": null,
   "metadata": {
    "collapsed": true
   },
   "outputs": [],
   "source": []
  },
  {
   "cell_type": "code",
   "execution_count": null,
   "metadata": {
    "collapsed": true
   },
   "outputs": [],
   "source": []
  },
  {
   "cell_type": "code",
   "execution_count": null,
   "metadata": {
    "collapsed": true
   },
   "outputs": [],
   "source": []
  },
  {
   "cell_type": "code",
   "execution_count": null,
   "metadata": {
    "collapsed": true
   },
   "outputs": [],
   "source": []
  },
  {
   "cell_type": "code",
   "execution_count": null,
   "metadata": {
    "collapsed": true
   },
   "outputs": [],
   "source": []
  },
  {
   "cell_type": "code",
   "execution_count": null,
   "metadata": {
    "collapsed": true
   },
   "outputs": [],
   "source": []
  },
  {
   "cell_type": "code",
   "execution_count": null,
   "metadata": {
    "collapsed": true
   },
   "outputs": [],
   "source": []
  },
  {
   "cell_type": "code",
   "execution_count": null,
   "metadata": {
    "collapsed": true
   },
   "outputs": [],
   "source": []
  },
  {
   "cell_type": "code",
   "execution_count": null,
   "metadata": {
    "collapsed": true
   },
   "outputs": [],
   "source": []
  },
  {
   "cell_type": "code",
   "execution_count": null,
   "metadata": {
    "collapsed": true
   },
   "outputs": [],
   "source": []
  },
  {
   "cell_type": "code",
   "execution_count": null,
   "metadata": {
    "collapsed": true
   },
   "outputs": [],
   "source": []
  },
  {
   "cell_type": "code",
   "execution_count": null,
   "metadata": {
    "collapsed": true
   },
   "outputs": [],
   "source": []
  },
  {
   "cell_type": "code",
   "execution_count": null,
   "metadata": {
    "collapsed": true
   },
   "outputs": [],
   "source": []
  },
  {
   "cell_type": "code",
   "execution_count": null,
   "metadata": {
    "collapsed": true
   },
   "outputs": [],
   "source": []
  },
  {
   "cell_type": "code",
   "execution_count": null,
   "metadata": {
    "collapsed": true
   },
   "outputs": [],
   "source": []
  },
  {
   "cell_type": "code",
   "execution_count": null,
   "metadata": {
    "collapsed": true
   },
   "outputs": [],
   "source": []
  },
  {
   "cell_type": "code",
   "execution_count": null,
   "metadata": {
    "collapsed": true
   },
   "outputs": [],
   "source": []
  },
  {
   "cell_type": "code",
   "execution_count": null,
   "metadata": {
    "collapsed": true
   },
   "outputs": [],
   "source": []
  },
  {
   "cell_type": "code",
   "execution_count": null,
   "metadata": {
    "collapsed": true
   },
   "outputs": [],
   "source": []
  },
  {
   "cell_type": "code",
   "execution_count": null,
   "metadata": {
    "collapsed": true
   },
   "outputs": [],
   "source": []
  },
  {
   "cell_type": "code",
   "execution_count": null,
   "metadata": {
    "collapsed": true
   },
   "outputs": [],
   "source": []
  },
  {
   "cell_type": "code",
   "execution_count": null,
   "metadata": {
    "collapsed": true
   },
   "outputs": [],
   "source": []
  },
  {
   "cell_type": "code",
   "execution_count": null,
   "metadata": {
    "collapsed": true
   },
   "outputs": [],
   "source": []
  },
  {
   "cell_type": "code",
   "execution_count": null,
   "metadata": {
    "collapsed": true
   },
   "outputs": [],
   "source": []
  },
  {
   "cell_type": "code",
   "execution_count": null,
   "metadata": {
    "collapsed": true
   },
   "outputs": [],
   "source": []
  },
  {
   "cell_type": "code",
   "execution_count": null,
   "metadata": {
    "collapsed": true
   },
   "outputs": [],
   "source": []
  },
  {
   "cell_type": "code",
   "execution_count": null,
   "metadata": {
    "collapsed": true
   },
   "outputs": [],
   "source": []
  },
  {
   "cell_type": "code",
   "execution_count": null,
   "metadata": {
    "collapsed": true
   },
   "outputs": [],
   "source": []
  },
  {
   "cell_type": "code",
   "execution_count": null,
   "metadata": {
    "collapsed": true
   },
   "outputs": [],
   "source": []
  },
  {
   "cell_type": "code",
   "execution_count": null,
   "metadata": {
    "collapsed": true
   },
   "outputs": [],
   "source": []
  }
 ],
 "metadata": {
  "kernelspec": {
   "display_name": "Python 2",
   "language": "python",
   "name": "python2"
  },
  "language_info": {
   "codemirror_mode": {
    "name": "ipython",
    "version": 2
   },
   "file_extension": ".py",
   "mimetype": "text/x-python",
   "name": "python",
   "nbconvert_exporter": "python",
   "pygments_lexer": "ipython2",
   "version": "2.7.11"
  }
 },
 "nbformat": 4,
 "nbformat_minor": 0
}
