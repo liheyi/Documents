{
 "cells": [
  {
   "cell_type": "markdown",
   "metadata": {},
   "source": [
    "# 2.2 Hierarchical Data and the Closure Property"
   ]
  },
  {
   "cell_type": "markdown",
   "metadata": {},
   "source": [
    "The ability to create pairs whose elements are pairs is the essence of list structure’s importance as a representational tool. We refer to this ability as the $closure$ $property$ of $\\texttt{cons}$. In general, an operation for combining data objects satisfies the closure property if the results of combining things with that operation can themselves be combined using the same operation. $\\textrm{Closure}$ is the key to power in any means of combination because it permits us to create hierarchical structures-structures made up of parts, which themselves are made up of parts, and so on."
   ]
  },
  {
   "cell_type": "markdown",
   "metadata": {},
   "source": [
    "From the outset of Chapter 1, we’ve made essential use of closure in dealing with procedures, because all but the very simplest programs rely on the fact that the elements of a combination can themselves be combinations. In this section, we take up the consequences of closure for compound data. We describe some conventional techniques for using $\\texttt{pairs}$ to represent $\\text{sequences}$ and $\\text{trees}$, and we exhibit a graphics language that illustrates closure in a vivid way."
   ]
  },
  {
   "cell_type": "markdown",
   "metadata": {},
   "source": [
    "## 2.2.1 Representing Sequences"
   ]
  },
  {
   "cell_type": "markdown",
   "metadata": {},
   "source": [
    "One of the useful structures we can build with $\\texttt{pairs}$ is a $\\text{sequence}$—an ordered collection of data objects. There are, of course, many ways to represent sequences in terms of $\\texttt{pairs}$. One particularly straightforward representation is illustrated in Figure 2.4, where the sequence 1, 2, 3, 4 is represented as a chain of pairs. The $\\texttt{car}$ of each pair is the corresponding item in the chain, and the $\\texttt{cdr}$ of the pair is the next pair in the chain. The $\\texttt{cdr}$ of the final pair signals the end of the sequence by pointing to a distinguished value that is not a pair, represented in $\\textrm{box-and-pointer}$ diagrams as a diagonal line and in programs as the value of the variable $\\textbf{nil}$. The entire sequence is constructed by nested $\\texttt{cons}$ operations:"
   ]
  },
  {
   "cell_type": "raw",
   "metadata": {},
   "source": [
    "(cons 1\n",
    "  (cons 2\n",
    "   (cons 3\n",
    "`    (cons 4 nil))))"
   ]
  },
  {
   "cell_type": "markdown",
   "metadata": {},
   "source": [
    "Such a sequence of pairs, formed by nested $\\texttt{cons}$es, is called a $\\textbf{list}$, and Scheme provides a primitive called $\\texttt{list}$ to help in constructing lists. The above sequence could be produced by $\\textrm{(list 1 2 3 4)}$. In general,"
   ]
  },
  {
   "cell_type": "markdown",
   "metadata": {},
   "source": [
    "$(\\texttt{list}\\;\\;⟨a_1⟩\\;\\;⟨a_2⟩\\;\\;\\dots\\;\\;⟨a_n⟩)$"
   ]
  },
  {
   "cell_type": "markdown",
   "metadata": {},
   "source": [
    "is equivalent to"
   ]
  },
  {
   "cell_type": "markdown",
   "metadata": {},
   "source": [
    "$(cons\\;\\;⟨a_1⟩\\\\\n",
    "\\quad(cons\\;\\;⟨a_2⟩\\\\\n",
    "\\quad\\quad(cons\\;\\;\\dots\\\\\n",
    "\\quad\\quad\\quad(cons\\;\\;⟨a_n⟩\\\\\n",
    "\\quad\\quad\\quad\\quad\\quad\\quad nil)\\dots)))\n",
    "$"
   ]
  },
  {
   "cell_type": "markdown",
   "metadata": {},
   "source": [
    "Lisp systems conventionally print lists by printing the sequence of elements, enclosed in parentheses. Thus, the data object in Figure 2.4 is printed as $\\textrm{(1 2 3 4)}$:"
   ]
  },
  {
   "cell_type": "raw",
   "metadata": {},
   "source": [
    "1 ]=> (define one-through-four (list 1 2 3 4))\n",
    "\n",
    ";Value: one-through-four\n",
    "\n",
    "1 ]=> one-through-four\n",
    "\n",
    ";Value 13: (1 2 3 4)"
   ]
  },
  {
   "cell_type": "markdown",
   "metadata": {},
   "source": [
    "Be careful not to confuse the expression $\\textrm{(list 1 2 3 4)}$ with the list $\\textrm{(1 2 3 4)}$, which is the result obtained when the expression is evaluated. Attempting to evaluate the expression $\\textrm{(1 2 3 4)}$ will signal an error when the interpreter tries to apply the procedure $\\texttt{1}$ to arguments $\\texttt{2}$, $\\texttt{3}$, and $\\texttt{4}$."
   ]
  },
  {
   "cell_type": "raw",
   "metadata": {},
   "source": [
    "1 ]=> (1 2 3 4)\n",
    "\n",
    ";The object 1 is not applicable.\n",
    ";To continue, call RESTART with an option number:\n",
    "; (RESTART 2) => Specify a procedure to use in its place.\n",
    "; (RESTART 1) => Return to read-eval-print level 1."
   ]
  },
  {
   "cell_type": "markdown",
   "metadata": {},
   "source": [
    "We can think of $\\texttt{car}$ as selecting the first item in the list, and of $\\texttt{cdr}$ as selecting the sublist consisting of all but the first item. Nested\n",
    "applications of $\\texttt{car}$ and $\\texttt{cdr}$ can be used to extract the second, third, and subsequent items in the list. The constructor $\\texttt{cons}$ makes a list like the original one, but with an additional item at the beginning."
   ]
  },
  {
   "cell_type": "raw",
   "metadata": {},
   "source": [
    "1 ]=> (car one-through-four)\n",
    "\n",
    ";Value: 1\n",
    "\n",
    "1 ]=> (cdr one-through-four)\n",
    "\n",
    ";Value 14: (2 3 4)\n",
    "\n",
    "1 ]=> (cons 10 one-through-four)\n",
    "\n",
    ";Value 15: (10 1 2 3 4)\n",
    "\n",
    "1 ]=> (cons 5 one-through-four)\n",
    "\n",
    ";Value 16: (5 1 2 3 4)"
   ]
  },
  {
   "cell_type": "markdown",
   "metadata": {},
   "source": [
    "The value of $\\textbf{nil}$, used to terminate the chain of pairs, can be thought of\n",
    "as a sequence of no elements, the empty list. The word nil is a contraction of the Latin word nihil, which means “nothing.”"
   ]
  },
  {
   "cell_type": "markdown",
   "metadata": {},
   "source": [
    "### List operations"
   ]
  },
  {
   "cell_type": "markdown",
   "metadata": {},
   "source": [
    "The use of pairs to represent sequences of elements as lists is accompanied by conventional programming techniques for manipulating lists by successively “$\\textbf{cdring down}$” the lists."
   ]
  },
  {
   "cell_type": "markdown",
   "metadata": {},
   "source": [
    "## Example 4: Index list element"
   ]
  },
  {
   "cell_type": "markdown",
   "metadata": {},
   "source": [
    "For example, the procedure $\\texttt{list-ref}$ takes as arguments a list and a number n and returns the $n^{th}$ item of the list. It is customary to number the elements of the list beginning with 0. The method for computing $\\texttt{list-ref}$ is the following:"
   ]
  },
  {
   "cell_type": "markdown",
   "metadata": {},
   "source": [
    "$\\bullet\\quad$For $\\text{n = 0}$, $\\texttt{list-ref}$ should return the $\\texttt{car}$ of the list."
   ]
  },
  {
   "cell_type": "markdown",
   "metadata": {},
   "source": [
    "$\\bullet\\quad$Otherwise, $\\texttt{list-ref}$ should return the $\\text{(n - 1)-st}$ item of the $\\texttt{cdr}$ of the list."
   ]
  },
  {
   "cell_type": "code",
   "execution_count": 1,
   "metadata": {
    "collapsed": false
   },
   "outputs": [
    {
     "name": "stdout",
     "output_type": "stream",
     "text": [
      "(define (list-ref items n)\r\n",
      "  (if (= n 0) (car items)\r\n",
      "      (list-ref (cdr items) (- n 1))))\r\n"
     ]
    }
   ],
   "source": [
    "cat 2.2/Example_4/list-ref.scm"
   ]
  },
  {
   "cell_type": "markdown",
   "metadata": {},
   "source": [
    "### Running Instance:"
   ]
  },
  {
   "cell_type": "raw",
   "metadata": {},
   "source": [
    "1 ]=> (load \"2.2/Example_4/list-ref.scm\")\n",
    "\n",
    ";Loading \"2.2/Example_4/list-ref.scm\"... done\n",
    ";Value: list-ref\n",
    "\n",
    "1 ]=> (define squares (list 1 4 9 16 25))\n",
    "\n",
    ";Value: squares\n",
    "\n",
    "1 ]=> (list-ref squares 3)\n",
    "\n",
    ";Value: 16\n",
    "\n",
    "1 ]=> (list-ref squares 4)\n",
    "\n",
    ";Value: 25"
   ]
  },
  {
   "cell_type": "markdown",
   "metadata": {},
   "source": [
    "## Example 5: The length of list"
   ]
  },
  {
   "cell_type": "markdown",
   "metadata": {},
   "source": [
    "Often we cdr down the whole list. To aid in this, Scheme includes a primitive predicate $\\texttt{null?}$, which tests whether its argument is the empty list. The procedure $\\texttt{length}$, which returns the number of items in a list."
   ]
  },
  {
   "cell_type": "markdown",
   "metadata": {},
   "source": [
    "The $\\texttt{length}$ procedure implements a simple $\\text{recursive}$ plan. The reduction step is:"
   ]
  },
  {
   "cell_type": "markdown",
   "metadata": {},
   "source": [
    "$\\bullet\\quad$The $\\texttt{length}$ of any list is $\\texttt{1}$ plus the $\\texttt{length}$ of the $\\texttt{cdr}$ of the list."
   ]
  },
  {
   "cell_type": "markdown",
   "metadata": {},
   "source": [
    "This is applied successively until we reach the base case:"
   ]
  },
  {
   "cell_type": "markdown",
   "metadata": {},
   "source": [
    "$\\bullet\\quad$The $\\texttt{length}$ of the empty list is $\\texttt{0}$."
   ]
  },
  {
   "cell_type": "markdown",
   "metadata": {},
   "source": [
    "Illustrates this typical pattern of use:"
   ]
  },
  {
   "cell_type": "code",
   "execution_count": 3,
   "metadata": {
    "collapsed": false
   },
   "outputs": [
    {
     "name": "stdout",
     "output_type": "stream",
     "text": [
      "(define (length items)\r\n",
      "  (if (null? items) 0\r\n",
      "      (+ 1 (length (cdr items)))))\r\n"
     ]
    }
   ],
   "source": [
    "cat 2.2/Example_5/length-by-recursion.scm"
   ]
  },
  {
   "cell_type": "markdown",
   "metadata": {},
   "source": [
    "### Running Instance:"
   ]
  },
  {
   "cell_type": "raw",
   "metadata": {},
   "source": [
    "1 ]=> (load \"2.2/Example_5/length-by-recursion.scm\")\n",
    "\n",
    ";Loading \"2.2/Example_5/length-by-recursion.scm\"... done\n",
    ";Value: length\n",
    "\n",
    "1 ]=> (define odds (list 1 3 5 7 9 11))\n",
    "\n",
    ";Value: odds\n",
    "\n",
    "1 ]=> (length odds)\n",
    "\n",
    ";Value: 6"
   ]
  },
  {
   "cell_type": "markdown",
   "metadata": {},
   "source": [
    "We could also compute $\\texttt{length}$ in an $\\text{iterative}$ style:"
   ]
  },
  {
   "cell_type": "code",
   "execution_count": 4,
   "metadata": {
    "collapsed": false
   },
   "outputs": [
    {
     "name": "stdout",
     "output_type": "stream",
     "text": [
      "(define (length items)\r\n",
      "  (define (iter a count)\r\n",
      "    (if (null? a) count\r\n",
      "        (iter (cdr a) (+ 1 count))))\r\n",
      "  (iter items 0))\r\n"
     ]
    }
   ],
   "source": [
    "cat 2.2/Example_5/length-by-iteration.scm"
   ]
  },
  {
   "cell_type": "markdown",
   "metadata": {},
   "source": [
    "## Example 6: Append two lists"
   ]
  },
  {
   "cell_type": "markdown",
   "metadata": {},
   "source": [
    "Another conventional programming technique is to “$\\textbf{cons up}$” an answer list while cdring down a list, as in the procedure $\\texttt{append}$, which takes two lists as arguments and combines their elements to make a new list."
   ]
  },
  {
   "cell_type": "markdown",
   "metadata": {},
   "source": [
    "$\\texttt{append}$ is also implemented using a $\\text{recursive}$ plan.To $\\texttt{append}$ lists $\\texttt{list1}$ and $\\texttt{list2}$, do the following:"
   ]
  },
  {
   "cell_type": "markdown",
   "metadata": {},
   "source": [
    "$\\bullet\\quad$If $\\texttt{list1}$ is the empty list, then the result is just $\\texttt{list2}$."
   ]
  },
  {
   "cell_type": "markdown",
   "metadata": {},
   "source": [
    "$\\bullet\\quad$Otherwise, $\\texttt{append}$ the $\\texttt{cdr}$ of $\\texttt{list1}$ and $\\texttt{list2}$, and $\\texttt{cons}$ the $\\texttt{car}$ of $\\texttt{list1}$ onto the result:"
   ]
  },
  {
   "cell_type": "code",
   "execution_count": 5,
   "metadata": {
    "collapsed": false
   },
   "outputs": [
    {
     "name": "stdout",
     "output_type": "stream",
     "text": [
      "(define (append list1 list2)\r\n",
      "  (if (null? list1) list2\r\n",
      "      (cons (car list1) (append (cdr list1) list2))))\r\n"
     ]
    }
   ],
   "source": [
    "cat 2.2/Example_6/append-two-lists.scm"
   ]
  },
  {
   "cell_type": "markdown",
   "metadata": {},
   "source": [
    "### Running Instance:"
   ]
  },
  {
   "cell_type": "raw",
   "metadata": {},
   "source": [
    "1 ]=> (load \"2.2/Example_6/append-two-lists.scm\")\n",
    "\n",
    ";Loading \"2.2/Example_6/append-two-lists.scm\"... done\n",
    ";Value: append\n",
    "\n",
    "1 ]=> (define squares (list 1 4 9 16 25))\n",
    "\n",
    ";Value: squares\n",
    "\n",
    "1 ]=> (define odds (list 1 3 5 7 9 11))\n",
    "\n",
    ";Value: odds\n",
    "\n",
    "1 ]=> (append squares odds)\n",
    "\n",
    ";Value 15: (1 4 9 16 25 1 3 5 7 9 11)\n",
    "\n",
    "1 ]=> (append odds squares)\n",
    "\n",
    ";Value 16: (1 3 5 7 9 11 1 4 9 16 25)"
   ]
  },
  {
   "cell_type": "markdown",
   "metadata": {
    "collapsed": true
   },
   "source": [
    "## Exercise 2.17: \n",
    "Define a procedure $\\texttt{last-pair}$ that returns the list that contains only the last element of a given (nonempty) list:"
   ]
  },
  {
   "cell_type": "raw",
   "metadata": {},
   "source": [
    "(last-pair (list 23 72 149 34))\n",
    "(34)"
   ]
  },
  {
   "cell_type": "markdown",
   "metadata": {},
   "source": [
    "## Answer:"
   ]
  },
  {
   "cell_type": "code",
   "execution_count": 1,
   "metadata": {
    "collapsed": false
   },
   "outputs": [
    {
     "name": "stdout",
     "output_type": "stream",
     "text": [
      "(define (last-pair items)\r\n",
      "  (cond ((null? items)\r\n",
      "         (error \"list is empty -- LAST-PAIR\"))\r\n",
      "        ((null? (cdr items)) items)\r\n",
      "        (else (last-pair (cdr items)))))\r\n"
     ]
    }
   ],
   "source": [
    "cat 2.2/Exercise_2.17/last-pair.scm"
   ]
  },
  {
   "cell_type": "markdown",
   "metadata": {},
   "source": [
    "### Running Instance:"
   ]
  },
  {
   "cell_type": "raw",
   "metadata": {},
   "source": [
    "1 ]=> (load \"2.2/Exercise_2.17/last-pair.scm\")\n",
    "\n",
    ";Loading \"2.2/Exercise_2.17/last-pair.scm\"... done\n",
    ";Value: last-pair\n",
    "\n",
    "1 ]=> (last-pair (list 23 72 149 34))\n",
    "\n",
    ";Value 13: (34)\n",
    "\n",
    "1 ]=> (last-pair (list 23))\n",
    "\n",
    ";Value 14: (23)\n",
    "\n",
    "1 ]=> (last-pair (list))\n",
    "\n",
    ";list is empty -- LAST-PAIR\n",
    ";To continue, call RESTART with an option number:\n",
    "; (RESTART 1) => Return to read-eval-print level 1."
   ]
  },
  {
   "cell_type": "markdown",
   "metadata": {},
   "source": [
    "## Exercise 2.18: \n",
    "Define a procedure $\\texttt{reverse}$ that takes a list as argument and returns a list of the same elements in reverse order:"
   ]
  },
  {
   "cell_type": "raw",
   "metadata": {},
   "source": [
    "(reverse (list 1 4 9 16 25))\n",
    "(25 16 9 4 1)"
   ]
  },
  {
   "cell_type": "markdown",
   "metadata": {},
   "source": [
    "## Answer:"
   ]
  },
  {
   "cell_type": "code",
   "execution_count": 2,
   "metadata": {
    "collapsed": false
   },
   "outputs": [
    {
     "name": "stdout",
     "output_type": "stream",
     "text": [
      "(define (reverse items)\r\n",
      "  (define (iter remained-items result)\r\n",
      "    (if (null? remained-items) result\r\n",
      "        (iter (cdr remained-items))\r\n",
      "              (cons (car remained-items) result)))\r\n",
      "  (iter items '()))\r\n"
     ]
    }
   ],
   "source": [
    "cat 2.2/Exercise_2.18/reverse.scm"
   ]
  },
  {
   "cell_type": "markdown",
   "metadata": {},
   "source": [
    "### Running Instance:"
   ]
  },
  {
   "cell_type": "raw",
   "metadata": {},
   "source": [
    "1 ]=> (load \"2.2/Exercise_2.18/reverse.scm\")\n",
    "\n",
    ";Loading \"2.2/Exercise_2.18/reverse.scm\"... done\n",
    ";Value: reverse\n",
    "\n",
    "1 ]=> (reverse (list 1 4 9 16 25))\n",
    "\n",
    ";Value 16: (25 16 9 4 1)"
   ]
  },
  {
   "cell_type": "markdown",
   "metadata": {},
   "source": [
    "## Exercise 2.19: \n",
    "Consider the change-counting program of Section 1.2.2. It would be nice to be able to easily change the currency used by the program, so that we could compute the number of ways to change a British pound, for example. As the program is wrien, the knowledge of the currency is distributed partly into the procedure $\\texttt{first-denomination}$ and partly into the procedure $\\texttt{count-change}$ (which knows that there are five kinds of U.S. coins). It would be nicer to be able to supply a list of coins to be used for making change."
   ]
  },
  {
   "cell_type": "markdown",
   "metadata": {},
   "source": [
    "We want to rewrite the procedure $\\texttt{cc}$ so that its second argument is a list of the values of the coins to use rather than an integer specifying which coins to use. We could then have lists that defined each kind of currency:"
   ]
  },
  {
   "cell_type": "raw",
   "metadata": {},
   "source": [
    "(define us-coins (list 50 25 10 5 1))\n",
    "(define uk-coins (list 100 50 20 10 5 2 1 0.5))"
   ]
  },
  {
   "cell_type": "markdown",
   "metadata": {},
   "source": [
    "We could then call $\\texttt{cc}$ as follows:"
   ]
  },
  {
   "cell_type": "raw",
   "metadata": {},
   "source": [
    "(cc 100 us-coins)\n",
    "292"
   ]
  },
  {
   "cell_type": "markdown",
   "metadata": {},
   "source": [
    "To do this will require changing the program $\\texttt{cc}$ somewhat.It will still have the same form, but it will access its second argument differently, as follows:"
   ]
  },
  {
   "cell_type": "raw",
   "metadata": {},
   "source": [
    "(define (cc amount coin-values)\n",
    "  (cond ((= amount 0) 1)\n",
    "      ((or (< amount 0) (no-more? coin-values)) 0)\n",
    "      (else (+ (cc amount (except-first-denomination coin-values))\n",
    "          (cc (- amount (first-denomination coin-values)) coin-values)))))"
   ]
  },
  {
   "cell_type": "markdown",
   "metadata": {},
   "source": [
    "Define the procedures $\\texttt{first-denomination}$, $\\texttt{except-firstdenomination}$, and $\\texttt{no-more?}$ in terms of primitive operations on list structures. Does the order of the list $\\texttt{coin-values}$ affect the answer produced by $\\texttt{cc}$? Why or why not?"
   ]
  },
  {
   "cell_type": "markdown",
   "metadata": {},
   "source": [
    "## Answer:"
   ]
  },
  {
   "cell_type": "code",
   "execution_count": 3,
   "metadata": {
    "collapsed": false
   },
   "outputs": [
    {
     "name": "stdout",
     "output_type": "stream",
     "text": [
      "(define us-coins (list 50 25 10 5 1))\r\n",
      "(define uk-coins (list 100 50 20 10 5 2 1 0.5))\r\n",
      "\r\n",
      "(define (first-denomination coin-values) (car coin-values))\r\n",
      "(define (except-first-denomination coin-values) (cdr coin-values))\r\n",
      "(define (no-more? coin-values) (null? coin-values))\r\n",
      "\r\n",
      "(define (cc amount coin-values)\r\n",
      "  (cond ((= amount 0) 1)\r\n",
      "        ((or (< amount 0) (no-more? coin-values)) 0)\r\n",
      "        (else (+ (cc amount (except-first-denomination coin-values))\r\n",
      "                 (cc (- amount (first-denomination coin-values)) coin-values)))))\r\n"
     ]
    }
   ],
   "source": [
    "cat 2.2/Exercise_2.19/cc.scm"
   ]
  },
  {
   "cell_type": "markdown",
   "metadata": {},
   "source": [
    "### Running Instance:"
   ]
  },
  {
   "cell_type": "raw",
   "metadata": {},
   "source": [
    "1 ]=> (load \"2.2/Exercise_2.19/cc.scm\")\n",
    "\n",
    ";Loading \"2.2/Exercise_2.19/cc.scm\"... done\n",
    ";Value: cc\n",
    "\n",
    "1 ]=> (cc 100 us-coins)\n",
    "\n",
    ";Value: 292\n",
    "\n",
    "1 ]=> (cc 100 uk-coins)\n",
    "\n",
    ";Value: 104561"
   ]
  },
  {
   "cell_type": "markdown",
   "metadata": {},
   "source": [
    "$\\bullet\\quad$The order of the list $\\texttt{coin-values}$ does't affect the $\\textrm{answer}$ produced by $\\texttt{cc}$.In order to prove the fact,we can $\\texttt{reverse}$ the list $\\texttt{coin-values}$"
   ]
  },
  {
   "cell_type": "raw",
   "metadata": {},
   "source": [
    "1 ]=> (cc 100 (reverse us-coins))\n",
    "\n",
    ";Value: 292\n",
    "\n",
    "1 ]=> (cc 100 (reverse uk-coins))\n",
    "\n",
    ";Value: 104561"
   ]
  },
  {
   "cell_type": "markdown",
   "metadata": {},
   "source": [
    "## Exercise 2.20: \n",
    "The procedures $\\text{+}$, $\\ast$ and $\\text{list}$ take arbitrary numbers of arguments. One way to define such procedures is to use $\\textrm{define}$ with $\\textbf{dotted-tail}$ notation. In a procedure definition, a parameter list that has a dot before the last parameter name indicates that, when the procedure is called, the initial parameters (if any) will have as values the initial arguments, as usual, but the final parameter’s value will be a list of any remaining arguments. For instance, given the definition"
   ]
  },
  {
   "cell_type": "raw",
   "metadata": {},
   "source": [
    "(define (f x y . z) ⟨body⟩)"
   ]
  },
  {
   "cell_type": "markdown",
   "metadata": {},
   "source": [
    "Or,"
   ]
  },
  {
   "cell_type": "raw",
   "metadata": {},
   "source": [
    "(define f (lambda (x y . z) ⟨body⟩))"
   ]
  },
  {
   "cell_type": "markdown",
   "metadata": {
    "collapsed": true
   },
   "source": [
    "the procedure $f$ can be called with two or more arguments.If we evaluate"
   ]
  },
  {
   "cell_type": "raw",
   "metadata": {
    "collapsed": true
   },
   "source": [
    "(f 1 2 3 4 5 6)"
   ]
  },
  {
   "cell_type": "markdown",
   "metadata": {},
   "source": [
    "then in the body of $f$, $x$ will be $\\texttt{1}$, $y$ will be $\\texttt{2}$, and $z$ will be the list $\\textrm{(3 4 5 6)}$."
   ]
  },
  {
   "cell_type": "markdown",
   "metadata": {},
   "source": [
    "Given the definition"
   ]
  },
  {
   "cell_type": "raw",
   "metadata": {},
   "source": [
    "(define (g . w) ⟨body⟩)"
   ]
  },
  {
   "cell_type": "markdown",
   "metadata": {},
   "source": [
    "Or,"
   ]
  },
  {
   "cell_type": "raw",
   "metadata": {},
   "source": [
    "(define g (lambda w ⟨body⟩))"
   ]
  },
  {
   "cell_type": "markdown",
   "metadata": {},
   "source": [
    "the procedure $g$ can be called with zero or more arguments.If we evaluate"
   ]
  },
  {
   "cell_type": "raw",
   "metadata": {},
   "source": [
    "(g 1 2 3 4 5 6)"
   ]
  },
  {
   "cell_type": "markdown",
   "metadata": {},
   "source": [
    "then in the body of $g$, $w$ will be the list $\\textrm{(1 2 3 4 5 6)}$."
   ]
  },
  {
   "cell_type": "markdown",
   "metadata": {},
   "source": [
    "Use this notation to write a procedure $\\texttt{same-parity}$ that takes one or more integers and returns a list of all the arguments that have the same even-odd parity as the first argument. For example,"
   ]
  },
  {
   "cell_type": "raw",
   "metadata": {},
   "source": [
    "(same-parity 1 2 3 4 5 6 7)\n",
    "(1 3 5 7)\n",
    "(same-parity 2 3 4 5 6 7)\n",
    "(2 4 6)"
   ]
  },
  {
   "cell_type": "markdown",
   "metadata": {},
   "source": [
    "## Answer:"
   ]
  },
  {
   "cell_type": "markdown",
   "metadata": {},
   "source": [
    "We can use $\\texttt{odd?}$, $\\texttt{even?}$, and $\\texttt{filter}$ primitive procedures to achieve the procedure $\\texttt{same-parity}$"
   ]
  },
  {
   "cell_type": "code",
   "execution_count": 4,
   "metadata": {
    "collapsed": false
   },
   "outputs": [
    {
     "name": "stdout",
     "output_type": "stream",
     "text": [
      "(define (same-parity sample . others)\r\n",
      "  (filter (if (even? sample) even? odd?)\r\n",
      "          (cons sample others)))\r\n"
     ]
    }
   ],
   "source": [
    "cat 2.2/Exercise_2.20/same-parity.scm"
   ]
  },
  {
   "cell_type": "markdown",
   "metadata": {},
   "source": [
    "### Running Instance:"
   ]
  },
  {
   "cell_type": "raw",
   "metadata": {},
   "source": [
    "1 ]=> (filter even? (list 1 2 3 4 5 6 7))\n",
    "\n",
    ";Value 18: (2 4 6)\n",
    "\n",
    "1 ]=> (load \"2.2/Exercise_2.20/same-parity.scm\")\n",
    "\n",
    ";Loading \"2.2/Exercise_2.20/same-parity.scm\"... done\n",
    ";Value: same-parity\n",
    "\n",
    "1 ]=> (same-parity 1 2 3 4 5 6 7)\n",
    "\n",
    ";Value 19: (1 3 5 7)\n",
    "\n",
    "1 ]=> (same-parity 2 3 4 5 6 7)\n",
    "\n",
    ";Value 20: (2 4 6)"
   ]
  },
  {
   "cell_type": "markdown",
   "metadata": {},
   "source": [
    "### Mapping over lists"
   ]
  },
  {
   "cell_type": "markdown",
   "metadata": {},
   "source": [
    "One extremely useful operation is to apply some transformation to each element in a list and generate the list of results."
   ]
  },
  {
   "cell_type": "markdown",
   "metadata": {},
   "source": [
    "## Example 7: Scale each number in a list"
   ]
  },
  {
   "cell_type": "markdown",
   "metadata": {},
   "source": [
    " For instance, the following procedure scales each number in a list by a given factor:"
   ]
  },
  {
   "cell_type": "code",
   "execution_count": 6,
   "metadata": {
    "collapsed": false
   },
   "outputs": [
    {
     "name": "stdout",
     "output_type": "stream",
     "text": [
      "(define (scale-list items factor)\r\n",
      "  (if (null? items) '()\r\n",
      "      (cons (* (car items) factor)\r\n",
      "            (scale-list (cdr items) factor))))\r\n"
     ]
    }
   ],
   "source": [
    "cat 2.2/Example_7/scale-list.scm"
   ]
  },
  {
   "cell_type": "markdown",
   "metadata": {},
   "source": [
    "### Running Instance:"
   ]
  },
  {
   "cell_type": "raw",
   "metadata": {},
   "source": [
    "1 ]=> (load \"2.2/Example_7/scale-list.scm\")\n",
    "\n",
    ";Loading \"2.2/Example_7/scale-list.scm\"... done\n",
    ";Value: scale-list\n",
    "\n",
    "1 ]=> (scale-list (list 1 2 3 4 5) 10)\n",
    "\n",
    ";Value 13: (10 20 30 40 50)"
   ]
  },
  {
   "cell_type": "markdown",
   "metadata": {},
   "source": [
    "We can abstract this general idea and capture it as a common pattern expressed as a higher-order procedure, just as in Section 1.3. The higher-order procedure here is called $\\texttt{map}$.$\\texttt{map}$ takes as arguments a procedure of one argument and a list, and returns a list of the results produced by applying the procedure to each element in the list:"
   ]
  },
  {
   "cell_type": "code",
   "execution_count": 9,
   "metadata": {
    "collapsed": false
   },
   "outputs": [
    {
     "name": "stdout",
     "output_type": "stream",
     "text": [
      "(define (map proc items)\r\n",
      "  (if (null? items) '()\r\n",
      "      (cons (proc (car items))\r\n",
      "            (map proc (cdr items)))))\r\n"
     ]
    }
   ],
   "source": [
    "cat 2.2/Example_7/map.scm"
   ]
  },
  {
   "cell_type": "markdown",
   "metadata": {},
   "source": [
    "### Running Instance:"
   ]
  },
  {
   "cell_type": "raw",
   "metadata": {},
   "source": [
    "1 ]=> (load \"2.2/Example_7/map.scm\")\n",
    "\n",
    ";Loading \"2.2/Example_7/map.scm\"... done\n",
    ";Value: map\n",
    "\n",
    "1 ]=> (map abs (list -10 2.5 -11.6 17))\n",
    "\n",
    ";Value 16: (10 2.5 11.6 17)\n",
    "\n",
    "1 ]=> (map (lambda (x) (* x x)) (list 1 2 3 4))\n",
    "\n",
    ";Value 17: (1 4 9 16)"
   ]
  },
  {
   "cell_type": "markdown",
   "metadata": {},
   "source": [
    "Scheme standardly provides a $\\texttt{map}$ procedure that is more general than the one described here. This more general $\\texttt{map}$ takes a procedure of $n$ arguments, together with $n$ lists, and applies the procedure to all the first elements of the lists, all the second elements of the lists, and so on, returning a list of the results. For example:"
   ]
  },
  {
   "cell_type": "raw",
   "metadata": {},
   "source": [
    "1 ]=> (map + (list 1 2 3) (list 40 50 60) (list 700 800 900))\n",
    "\n",
    ";Value 13: (741 852 963)\n",
    "\n",
    "1 ]=> (map (lambda (x y) (+ x (* 2 y))) (list 1 2 3) (list 4 5 6))\n",
    "\n",
    ";Value 14: (9 12 15)"
   ]
  },
  {
   "cell_type": "markdown",
   "metadata": {},
   "source": [
    "Now we can give a new definition of $\\texttt{scale-list}$ in terms of $\\texttt{map}$:"
   ]
  },
  {
   "cell_type": "code",
   "execution_count": 10,
   "metadata": {
    "collapsed": false
   },
   "outputs": [
    {
     "name": "stdout",
     "output_type": "stream",
     "text": [
      "(define (scale-list items factor)\r\n",
      "  (map (lambda (x) (* x factor)) items))\r\n"
     ]
    }
   ],
   "source": [
    "cat 2.2/Example_7/scale-list-by-map.scm"
   ]
  },
  {
   "cell_type": "markdown",
   "metadata": {},
   "source": [
    "$\\texttt{map}$ is an important construct, not only because it captures a common pattern, but because it establishes a higher level of abstraction in dealing with lists. In the original definition of $\\texttt{scale-list}$, the recursive structure of the program draws attention to the element-by-element processing of the list. Defining $\\texttt{scale-list}$ in terms of $\\texttt{map}$ suppresses that level of detail and emphasizes that scaling transforms a list of elements to a list of results. The difference between the two definitions is not that the computer is performing a different process (it isn’t) but that we think about the process differently. In effect, $\\texttt{map}$ helps establish an abstraction barrier that isolates the implementation of procedures that transform lists from the details of how the elements of the list are extracted and combined. Like the barriers shown in Figure 2.1, this abstraction gives us the flexibility to change the low-level details of how sequences are implemented, while preserving the conceptual framework of operations that transform sequences to sequences. Section 2.2.3 expands on this use of sequences as a framework for organizing programs."
   ]
  },
  {
   "cell_type": "markdown",
   "metadata": {},
   "source": [
    "## Exercise 2.21: \n",
    "The procedure $\\texttt{square-list}$ takes a list of numbers as argument and returns a list of the squares of those numbers."
   ]
  },
  {
   "cell_type": "raw",
   "metadata": {},
   "source": [
    "(square-list (list 1 2 3 4))\n",
    "(1 4 9 16)"
   ]
  },
  {
   "cell_type": "markdown",
   "metadata": {},
   "source": [
    "Here are two different definitions of $\\texttt{square-list}$. Complete both of them by filling in the missing expressions:"
   ]
  },
  {
   "cell_type": "raw",
   "metadata": {},
   "source": [
    "(define (square-list items)\n",
    "  (if (null? items) nil\n",
    "`    (cons ⟨??⟩ ⟨??⟩)))"
   ]
  },
  {
   "cell_type": "raw",
   "metadata": {},
   "source": [
    "(define (square-list items)\n",
    "  (map ⟨??⟩ ⟨??⟩))"
   ]
  },
  {
   "cell_type": "markdown",
   "metadata": {},
   "source": [
    "## Answer:"
   ]
  },
  {
   "cell_type": "code",
   "execution_count": 11,
   "metadata": {
    "collapsed": false
   },
   "outputs": [
    {
     "name": "stdout",
     "output_type": "stream",
     "text": [
      "(define (square-list items)\r\n",
      "  (if (null? items) '()\r\n",
      "      (cons (square (car items))\r\n",
      "            (square-list (cdr items)))))\r\n"
     ]
    }
   ],
   "source": [
    "cat 2.2/Exercise_2.21/square-list.scm"
   ]
  },
  {
   "cell_type": "markdown",
   "metadata": {},
   "source": [
    "### Running Instance:"
   ]
  },
  {
   "cell_type": "raw",
   "metadata": {},
   "source": [
    "1 ]=> (load \"2.2/Exercise_2.21/square-list.scm\")\n",
    "\n",
    ";Loading \"2.2/Exercise_2.21/square-list.scm\"... done\n",
    ";Value: square-list\n",
    "\n",
    "1 ]=> (square-list (list 1 2 3 4))\n",
    "\n",
    ";Value 13: (1 4 9 16)"
   ]
  },
  {
   "cell_type": "code",
   "execution_count": 12,
   "metadata": {
    "collapsed": false
   },
   "outputs": [
    {
     "name": "stdout",
     "output_type": "stream",
     "text": [
      "(load \"2.2/Example_7/map.scm\")\r\n",
      "(define (square-list items)\r\n",
      "  (map square items))\r\n"
     ]
    }
   ],
   "source": [
    "cat 2.2/Exercise_2.21/square-list-by-map.scm"
   ]
  },
  {
   "cell_type": "markdown",
   "metadata": {},
   "source": [
    "### Running Instance:"
   ]
  },
  {
   "cell_type": "raw",
   "metadata": {},
   "source": [
    "1 ]=> (load \"2.2/Exercise_2.21/square-list-by-map.scm\")\n",
    "\n",
    ";Loading \"2.2/Exercise_2.21/square-list-by-map.scm\"...\n",
    ";  Loading \"2.2/Example_7/map.scm\"... done\n",
    ";... done\n",
    ";Value: square-list\n",
    "\n",
    "1 ]=> (square-list (list 1 2 3 4))\n",
    "\n",
    ";Value 14: (1 4 9 16)"
   ]
  },
  {
   "cell_type": "markdown",
   "metadata": {},
   "source": [
    "## Exercise 2.22: \n",
    "Louis Reasoner tries to rewrite the first $\\texttt{square-list}$ procedure of Exercise 2.21 so that it evolves an $\\text{iterative}$ process:"
   ]
  },
  {
   "cell_type": "code",
   "execution_count": 13,
   "metadata": {
    "collapsed": false
   },
   "outputs": [
    {
     "name": "stdout",
     "output_type": "stream",
     "text": [
      "(define (square-list items)\r\n",
      "  (define (iter things answer)\r\n",
      "    (if (null? things) answer\r\n",
      "        (iter (cdr things)\r\n",
      "              (cons (square (car things)) answer))))\r\n",
      "  (iter items '())\r\n"
     ]
    }
   ],
   "source": [
    "cat 2.2/Exercise_2.22/square-list.scm"
   ]
  },
  {
   "cell_type": "markdown",
   "metadata": {},
   "source": [
    "Unfortunately, defining $\\texttt{square-list}$ this way produces the answer list in the $\\text{reverse}$ order of the one desired. Why?"
   ]
  },
  {
   "cell_type": "markdown",
   "metadata": {},
   "source": [
    "Louis then tries to fix his bug by interchanging the arguments to $\\texttt{cons}$:"
   ]
  },
  {
   "cell_type": "code",
   "execution_count": 17,
   "metadata": {
    "collapsed": false
   },
   "outputs": [
    {
     "name": "stdout",
     "output_type": "stream",
     "text": [
      "(define (square-list items)\r\n",
      "  (define (iter things answer)\r\n",
      "    (if (null? things) answer\r\n",
      "        (iter (cdr things)\r\n",
      "              (cons answer (square (car things))))))\r\n",
      "  (iter items '()))\r\n"
     ]
    }
   ],
   "source": [
    "cat 2.2/Exercise_2.22/square-list-error.scm"
   ]
  },
  {
   "cell_type": "markdown",
   "metadata": {},
   "source": [
    "This doesn’t work either. Explain."
   ]
  },
  {
   "cell_type": "markdown",
   "metadata": {},
   "source": [
    "## Answer:"
   ]
  },
  {
   "cell_type": "markdown",
   "metadata": {},
   "source": [
    "$\\bullet\\quad$ Expand the expression $\\textrm{(square-list (list 1 2 3 4))}$ by calling $\\text{square-list.scm}$"
   ]
  },
  {
   "cell_type": "raw",
   "metadata": {},
   "source": [
    "(square-list '(1 2 3 4))\n",
    "\n",
    "(iter '(1 2 3 4) '())\n",
    "\n",
    "(iter '(2 3 4) '(1))\n",
    "\n",
    "(iter '(3 4) '(4 1))\n",
    "\n",
    "(iter '(4) '(9 4 1))\n",
    "\n",
    "(iter '() '(16 9 4 1))\n",
    "\n",
    "'(16 9 4 1)"
   ]
  },
  {
   "cell_type": "markdown",
   "metadata": {},
   "source": [
    "If we remove $\\texttt{square}$ calling above given, it becomes to the $\\texttt{reverse}$ procedure in Exercise_2.18:"
   ]
  },
  {
   "cell_type": "code",
   "execution_count": 15,
   "metadata": {
    "collapsed": false
   },
   "outputs": [
    {
     "name": "stdout",
     "output_type": "stream",
     "text": [
      "(define (reverse items)\r\n",
      "  (define (iter remained-items result)\r\n",
      "    (if (null? remained-items) result\r\n",
      "        (iter (cdr remained-items)\r\n",
      "              (cons (car remained-items) result))))\r\n",
      "  (iter items '()))\r\n"
     ]
    }
   ],
   "source": [
    "cat 2.2/Exercise_2.18/reverse.scm"
   ]
  },
  {
   "cell_type": "markdown",
   "metadata": {},
   "source": [
    "In fact,we can get the correct $\\texttt{square-list}$ iterative procedure through minor changes:"
   ]
  },
  {
   "cell_type": "code",
   "execution_count": 16,
   "metadata": {
    "collapsed": false
   },
   "outputs": [
    {
     "name": "stdout",
     "output_type": "stream",
     "text": [
      "(define (square-list items)\r\n",
      "  (define (iter things answer)\r\n",
      "    (if (null? things)\r\n",
      "        (reverse answer)\r\n",
      "        (iter (cdr things)\r\n",
      "              (cons (square (car things)) answer))))\r\n",
      "  (iter items '()))\r\n"
     ]
    }
   ],
   "source": [
    "cat 2.2/Exercise_2.22/square-list-right.scm"
   ]
  },
  {
   "cell_type": "markdown",
   "metadata": {},
   "source": [
    "### Running Instance:"
   ]
  },
  {
   "cell_type": "raw",
   "metadata": {},
   "source": [
    ";Loading \"2.2/Exercise_2.22/square-list-right.scm\"... done\n",
    ";Value: square-list\n",
    "\n",
    "1 ]=> (square-list '(1 2 3 4))\n",
    "\n",
    ";Value 13: (1 4 9 16)"
   ]
  },
  {
   "cell_type": "markdown",
   "metadata": {},
   "source": [
    "$\\bullet\\quad$Expand the expression $\\textrm{(square-list (list 1 2 3 4))}$ by calling $\\text{square-list-error.scm}$"
   ]
  },
  {
   "cell_type": "raw",
   "metadata": {},
   "source": [
    "(square-list '(1 2 3 4))\n",
    "\n",
    "(iter '(1 2 3 4) '())\n",
    "\n",
    "(iter '(2 3 4) (cons '() 1))\n",
    "\n",
    "(iter '(3 4) (cons (cons '() 1) 4))\n",
    "\n",
    "(iter '(4) (cons (cons (cons '() 1) 4) 9))\n",
    "\n",
    "(iter '() (cons (cons (cons (cons '() 1) 4) 9) 16))\n",
    "\n",
    "(cons (cons (cons (cons '() 1) 4) 9) 16)"
   ]
  },
  {
   "cell_type": "markdown",
   "metadata": {},
   "source": [
    "The result is not a $\\texttt{list}$."
   ]
  },
  {
   "cell_type": "markdown",
   "metadata": {},
   "source": [
    "When running this procedure,you can see:"
   ]
  },
  {
   "cell_type": "raw",
   "metadata": {},
   "source": [
    ";Loading \"2.2/Exercise_2.22/square-list-error.scm\"... done\n",
    ";Value: square-list\n",
    "\n",
    "1 ]=> (square-list '(1 2 3 4))\n",
    "\n",
    ";Value 14: ((((() . 1) . 4) . 9) . 16)"
   ]
  },
  {
   "cell_type": "markdown",
   "metadata": {},
   "source": [
    "## Exercise 2.23: \n",
    "The procedure $\\texttt{for-each}$ is similar to $\\texttt{map}$. It takes as arguments a procedure and a list of elements. However, rather than forming a list of the results, $\\texttt{for-each}$ just applies the procedure to each of the elements in turn, from left to right. The values returned by applying the procedure to the elements are not used at all—$\\texttt{for-each}$ is used with procedures that perform an action, such as $\\text{printing}$. For example,"
   ]
  },
  {
   "cell_type": "raw",
   "metadata": {},
   "source": [
    "1 ]=> (for-each (lambda (x) (newline) (display x)) (list 57 321 88))\n",
    "\n",
    "57\n",
    "321\n",
    "88"
   ]
  },
  {
   "cell_type": "markdown",
   "metadata": {},
   "source": [
    "The value returned by the call to $\\texttt{for-each}$ (not illustrated above) can be something arbitrary, such as $\\text{true}$. Give an implementation of $\\texttt{for-each}$."
   ]
  },
  {
   "cell_type": "markdown",
   "metadata": {},
   "source": [
    "## 解答："
   ]
  },
  {
   "cell_type": "markdown",
   "metadata": {},
   "source": [
    "$\\spadesuit\\quad$使用特殊形式$\\texttt{begin}$和$\\texttt{if}$来实现$\\texttt{for-each}$"
   ]
  },
  {
   "cell_type": "code",
   "execution_count": 19,
   "metadata": {
    "collapsed": false
   },
   "outputs": [
    {
     "name": "stdout",
     "output_type": "stream",
     "text": [
      "(define (for-each proc items)\r\n",
      "  (if (not (null? items))\r\n",
      "      (begin\r\n",
      "        (proc (car items))\r\n",
      "        (for-each proc (cdr items)))))\r\n"
     ]
    }
   ],
   "source": [
    "cat 2.2/Exercise_2.23/for-each-by-if.scm"
   ]
  },
  {
   "cell_type": "markdown",
   "metadata": {},
   "source": [
    "特殊形式$\\texttt{begin}$可以确保多条表达式按顺序求值，它可以将多条表达式当作一条表达式来运行，因此可以用在只支持单条表达式的$\\texttt{if}$特殊形式中。"
   ]
  },
  {
   "cell_type": "markdown",
   "metadata": {},
   "source": [
    "### Running Instance:"
   ]
  },
  {
   "cell_type": "raw",
   "metadata": {},
   "source": [
    "1 ]=> (load \"2.2/Exercise_2.23/for-each-by-if.scm\")\n",
    "\n",
    ";Loading \"2.2/Exercise_2.23/for-each-by-if.scm\"... done\n",
    ";Value: for-each\n",
    "\n",
    "1 ]=> (for-each (lambda (x) (newline) (display x)) (list 57 321 88))\n",
    "\n",
    "57\n",
    "321\n",
    "88"
   ]
  },
  {
   "cell_type": "markdown",
   "metadata": {},
   "source": [
    "$\\spadesuit\\quad$使用特殊形式$\\texttt{cond}$来实现$\\texttt{for-each}$"
   ]
  },
  {
   "cell_type": "code",
   "execution_count": 20,
   "metadata": {
    "collapsed": false
   },
   "outputs": [
    {
     "name": "stdout",
     "output_type": "stream",
     "text": [
      "(define (for-each proc items)\r\n",
      "  (cond ((not (null? items))\r\n",
      "         (proc (car items))\r\n",
      "         (for-each proc (cdr items)))))\r\n"
     ]
    }
   ],
   "source": [
    "cat 2.2/Exercise_2.23/for-each-by-cond.scm"
   ]
  },
  {
   "cell_type": "markdown",
   "metadata": {},
   "source": [
    "$\\texttt{cond}$特殊形式支持多条表达式，因此可以直接将两个表达式都放进 cond 形式之内。  \n",
    "实际上，$\\texttt{cond}$特殊形式体内有一个隐式的$\\texttt{begin}$."
   ]
  },
  {
   "cell_type": "markdown",
   "metadata": {},
   "source": [
    "### Running Instance:"
   ]
  },
  {
   "cell_type": "raw",
   "metadata": {},
   "source": [
    "1 ]=> (load \"2.2/Exercise_2.23/for-each-by-cond.scm\")\n",
    "\n",
    ";Loading \"2.2/Exercise_2.23/for-each-by-cond.scm\"... done\n",
    ";Value: for-each\n",
    "\n",
    "1 ]=> (for-each (lambda (x) (newline) (display x)) (list 57 321 88))\n",
    "\n",
    "57\n",
    "321\n",
    "88"
   ]
  },
  {
   "cell_type": "markdown",
   "metadata": {},
   "source": [
    "## 2.2.2 Hierarchical Structures"
   ]
  },
  {
   "cell_type": "markdown",
   "metadata": {},
   "source": [
    "The representation of sequences in terms of lists generalizes naturally to represent sequences whose elements may themselves be sequences. For example, we can regard the object $\\textrm{((1 2) 3 4)}$ constructed by"
   ]
  },
  {
   "cell_type": "markdown",
   "metadata": {},
   "source": [
    "(cons (list 1 2) (list 3 4))"
   ]
  },
  {
   "cell_type": "markdown",
   "metadata": {},
   "source": [
    "as a list of three items, the first of which is itself a list, $\\textrm{(1 2)}$. Indeed, this is suggested by the form in which the result is printed by the interpreter. Figure 2.5 shows the representation of this structure in terms of pairs."
   ]
  },
  {
   "cell_type": "markdown",
   "metadata": {},
   "source": [
    "Another way to think of sequences whose elements are sequences is as $\\texttt{trees}$. The elements of the sequence are the branches of the tree, and elements that are themselves sequences are $\\texttt{subtrees}$. Figure 2.6 shows the structure in Figure 2.5 viewed as a tree."
   ]
  },
  {
   "cell_type": "markdown",
   "metadata": {},
   "source": [
    "$\\text{Recursion}$ is a natural tool for dealing with $\\texttt{tree}$ structures, since we can often reduce operations on trees to operations on their branches,which reduce in turn to operations on the branches of the branches, and so on, until we reach the $\\texttt{leaves}$ of the tree."
   ]
  },
  {
   "cell_type": "markdown",
   "metadata": {},
   "source": [
    "## Example 8: Compute the number of leaves of a tree"
   ]
  },
  {
   "cell_type": "markdown",
   "metadata": {},
   "source": [
    "As an example, compare the $\\texttt{length}$ procedure of Section 2.2.1 with the $\\texttt{count-leaves}$ procedure, which returns the total number of leaves of a tree.To implement $\\texttt{count-leaves}$, recall the $\\text{recursive}$ plan for computing $\\texttt{length}$:"
   ]
  },
  {
   "cell_type": "markdown",
   "metadata": {},
   "source": [
    "$\\bullet\\quad$$\\texttt{length}$ of a list $\\text{x}$ is $\\text{1}$ plus $\\texttt{length}$ of the $\\texttt{cdr}$ of $\\text{x}$."
   ]
  },
  {
   "cell_type": "markdown",
   "metadata": {},
   "source": [
    "$\\bullet\\quad$$\\texttt{length}$ of the empty list is $\\text{0}$."
   ]
  },
  {
   "cell_type": "markdown",
   "metadata": {},
   "source": [
    "$\\texttt{count-leaves}$ is similar. The value for the empty list is the same:"
   ]
  },
  {
   "cell_type": "markdown",
   "metadata": {},
   "source": [
    "$\\bullet\\quad$$\\texttt{count-leaves}$ of the empty list is $\\text{0}$."
   ]
  },
  {
   "cell_type": "markdown",
   "metadata": {},
   "source": [
    "But in the $\\text{reduction}$ step, where we strip off the $\\texttt{car}$ of the list, we must take into account that the $\\texttt{car}$ may itself be a tree whose leaves we need to count. Thus, the appropriate reduction step is"
   ]
  },
  {
   "cell_type": "markdown",
   "metadata": {},
   "source": [
    "$\\bullet\\quad$$\\texttt{count-leaves}$ of a tree $\\text{x}$ is $\\texttt{count-leaves}$ of the $\\texttt{car}$ of $\\text{x}$ plus $\\texttt{count-leaves}$ of the $\\texttt{cdr}$ of $\\text{x}$."
   ]
  },
  {
   "cell_type": "markdown",
   "metadata": {},
   "source": [
    "Finally, by taking cars we reach actual leaves, so we need another base case:"
   ]
  },
  {
   "cell_type": "markdown",
   "metadata": {},
   "source": [
    "$\\bullet\\quad$$\\texttt{count-leaves}$ of a leaf is $\\text{1}$."
   ]
  },
  {
   "cell_type": "markdown",
   "metadata": {},
   "source": [
    "To aid in writing recursive procedures on trees, Scheme provides the primitive predicate $\\texttt{pair?}$, which tests whether its argument is a pair. Here is the complete procedure:"
   ]
  },
  {
   "cell_type": "code",
   "execution_count": 21,
   "metadata": {
    "collapsed": false
   },
   "outputs": [
    {
     "name": "stdout",
     "output_type": "stream",
     "text": [
      "(define (count-leaves x)\r\n",
      "  (cond ((null? x) 0)\r\n",
      "        ((not (pair? x)) 1)\r\n",
      "        (else (+ (count-leaves (car x))\r\n",
      "                 (count-leaves (cdr x))))))\r\n"
     ]
    }
   ],
   "source": [
    "cat 2.2/Example_8/count-leaves.scm"
   ]
  },
  {
   "cell_type": "markdown",
   "metadata": {},
   "source": [
    "### Running Instance:"
   ]
  },
  {
   "cell_type": "raw",
   "metadata": {},
   "source": [
    ";Loading \"2.2/Example_8/count-leaves.scm\"... done\n",
    ";Value: count-leaves\n",
    "\n",
    "1 ]=> (define x (cons (list 1 2) (list 3 4)))\n",
    "\n",
    ";Value: x\n",
    "\n",
    "1 ]=> (length x)\n",
    "\n",
    ";Value: 3\n",
    "\n",
    "1 ]=> (count-leaves x)\n",
    "\n",
    ";Value: 4"
   ]
  },
  {
   "cell_type": "raw",
   "metadata": {},
   "source": [
    "1 ]=> (list x x)\n",
    "\n",
    ";Value 13: (((1 2) 3 4) ((1 2) 3 4))\n",
    "\n",
    "1 ]=> (length (list x x))\n",
    "\n",
    ";Value: 2\n",
    "\n",
    "1 ]=> (count-leaves (list x x))\n",
    "\n",
    ";Value: 8"
   ]
  },
  {
   "cell_type": "markdown",
   "metadata": {},
   "source": [
    "## Exercise 2.24: \n",
    "Suppose we evaluate the expression $\\textrm{(list 1 (list 2 (list 3 4)))}$. Give the result printed by the interpreter, the corresponding box-and-pointer structure, and the interpretation of this as a tree (as in Figure 2.6)."
   ]
  },
  {
   "cell_type": "markdown",
   "metadata": {},
   "source": [
    "## Answer:"
   ]
  },
  {
   "cell_type": "markdown",
   "metadata": {},
   "source": [
    "$\\spadesuit\\quad$The result printed by the interpreter:"
   ]
  },
  {
   "cell_type": "raw",
   "metadata": {},
   "source": [
    "1 ]=> (list 1 (list 2 (list 3 4)))\n",
    "\n",
    ";Value 14: (1 (2 (3 4)))"
   ]
  },
  {
   "cell_type": "markdown",
   "metadata": {},
   "source": [
    "$\\spadesuit\\quad$The box-and-pointer structure:"
   ]
  },
  {
   "cell_type": "raw",
   "metadata": {},
   "source": [
    "(1 (2 (3 4)))    ((2 (3 4)))\n",
    "    [*]-------------->[*]\n",
    "`    |            |\n",
    "`    |            |\n",
    "`    v            v (2 (3 4))     ((3 4))\n",
    "`    1           [*]---------------->[*]\n",
    "`                |             |\n",
    "`                |             |\n",
    "`                v             v (3 4)        (4)\n",
    "                 2            [*]--------------->[*]-------------> '()\n",
    "`                |             |\n",
    "`                |             |\n",
    "`                v             v\n",
    "`                3             4"
   ]
  },
  {
   "cell_type": "markdown",
   "metadata": {},
   "source": [
    "$\\spadesuit\\quad$The interpretation of this as a tree:"
   ]
  },
  {
   "cell_type": "raw",
   "metadata": {},
   "source": [
    "                   (1 (2 (3 4)))\n",
    "                       *\n",
    "                      /  \\\n",
    "                     /   \\\n",
    "                     1    *\n",
    "                        /  \\\n",
    "                       /   \\\n",
    "                       2    *\n",
    "`                          /  \\\n",
    "                          /   \\\n",
    "                          3    4"
   ]
  },
  {
   "cell_type": "markdown",
   "metadata": {},
   "source": [
    "## Exercise 2.25: \n",
    "Give combinations of $\\texttt{cars}$ and $\\texttt{cdrs}$ that will pick 7 from each of the following lists:"
   ]
  },
  {
   "cell_type": "raw",
   "metadata": {},
   "source": [
    "(1 3 (5 7) 9)\n",
    "((7))\n",
    "(1 (2 (3 (4 (5 (6 7))))))"
   ]
  },
  {
   "cell_type": "markdown",
   "metadata": {},
   "source": [
    "### Running Instance:"
   ]
  },
  {
   "cell_type": "markdown",
   "metadata": {},
   "source": [
    "$\\spadesuit\\quad$The expression $\\textrm{(1 3 (5 7) 9)}$"
   ]
  },
  {
   "cell_type": "raw",
   "metadata": {},
   "source": [
    "1 ]=> (define x (list 1 3 (list 5 7) 9))\n",
    "\n",
    ";Value: x\n",
    "\n",
    "1 ]=> x\n",
    "\n",
    ";Value 17: (1 3 (5 7) 9)\n",
    "\n",
    "1 ]=> (cdr x)\n",
    "\n",
    ";Value 18: (3 (5 7) 9)\n",
    "\n",
    "1 ]=> (cddr x)\n",
    "\n",
    ";Value 19: ((5 7) 9)\n",
    "\n",
    "1 ]=> (caddr x)\n",
    "\n",
    ";Value 20: (5 7)\n",
    "\n",
    "1 ]=> (cdaddr x)\n",
    "\n",
    ";Value 21: (7)\n",
    "\n",
    "1 ]=> (car (cdaddr x))\n",
    "\n",
    ";Value: 7"
   ]
  },
  {
   "cell_type": "markdown",
   "metadata": {},
   "source": [
    "$\\spadesuit\\quad$The expression $\\textrm{((7))}$"
   ]
  },
  {
   "cell_type": "raw",
   "metadata": {},
   "source": [
    "1 ]=> (define y (list (list 7)))\n",
    "\n",
    ";Value: y\n",
    "\n",
    "1 ]=> y\n",
    "\n",
    ";Value 22: ((7))\n",
    "\n",
    "1 ]=> (car y)\n",
    "\n",
    ";Value 23: (7)\n",
    "\n",
    "1 ]=> (caar y)\n",
    "\n",
    ";Value: 7"
   ]
  },
  {
   "cell_type": "markdown",
   "metadata": {},
   "source": [
    "$\\spadesuit\\quad$The expression $\\textrm{(1 (2 (3 (4 (5 (6 7))))))}$"
   ]
  },
  {
   "cell_type": "raw",
   "metadata": {},
   "source": [
    "1 ]=> (define z (list 1 (list 2 (list 3 (list 4 (list 5 (list 6 7)))))))\n",
    "\n",
    ";Value: z\n",
    "\n",
    "1 ]=> z\n",
    "\n",
    ";Value 24: (1 (2 (3 (4 (5 (6 7))))))\n",
    "\n",
    "1 ]=> (cdr z)\n",
    "\n",
    ";Value 25: ((2 (3 (4 (5 (6 7))))))\n",
    "\n",
    "1 ]=> (cadr z)\n",
    "\n",
    ";Value 26: (2 (3 (4 (5 (6 7)))))\n",
    "\n",
    "1 ]=> (cdadr z)\n",
    "\n",
    ";Value 27: ((3 (4 (5 (6 7)))))\n",
    "\n",
    "1 ]=> (cadadr z)\n",
    "\n",
    ";Value 28: (3 (4 (5 (6 7))))\n",
    "\n",
    "1 ]=> (cdr (cadadr z))\n",
    "\n",
    ";Value 29: ((4 (5 (6 7))))\n",
    "\n",
    "1 ]=> (cadr (cadadr z))\n",
    "\n",
    ";Value 30: (4 (5 (6 7)))\n",
    "\n",
    "1 ]=> (cdadr (cadadr z))\n",
    "\n",
    ";Value 31: ((5 (6 7)))\n",
    "\n",
    "1 ]=> (cdr (cadadr (cadadr z)))\n",
    "\n",
    ";Value 32: ((6 7))\n",
    "\n",
    "1 ]=> (cdadr (cadadr (cadadr z)))\n",
    "\n",
    ";Value 33: (7)\n",
    "\n",
    "1 ]=> (cadadr (cadadr (cadadr z)))\n",
    "\n",
    ";Value: 7"
   ]
  },
  {
   "cell_type": "markdown",
   "metadata": {},
   "source": [
    "## Exercise 2.26: \n",
    "Suppose we define $x$ and $y$ to be two lists:"
   ]
  },
  {
   "cell_type": "raw",
   "metadata": {},
   "source": [
    "(define x (list 1 2 3))\n",
    "(define y (list 4 5 6))"
   ]
  },
  {
   "cell_type": "markdown",
   "metadata": {},
   "source": [
    "What result is printed by the interpreter in response to evaluating each of the following expressions:"
   ]
  },
  {
   "cell_type": "raw",
   "metadata": {},
   "source": [
    "(append x y)\n",
    "(cons x y)\n",
    "(list x y)"
   ]
  },
  {
   "cell_type": "markdown",
   "metadata": {},
   "source": [
    "### Running Instance:"
   ]
  },
  {
   "cell_type": "raw",
   "metadata": {},
   "source": [
    "1 ]=> (define x (list 1 2 3))\n",
    "\n",
    ";Value: x\n",
    "\n",
    "1 ]=> (define y (list 4 5 6))\n",
    "\n",
    ";Value: y"
   ]
  },
  {
   "cell_type": "raw",
   "metadata": {},
   "source": [
    "1 ]=> (append x y)\n",
    "\n",
    ";Value 13: (1 2 3 4 5 6)"
   ]
  },
  {
   "cell_type": "raw",
   "metadata": {},
   "source": [
    "(1 2 3 4 5 6)    (2 3 4 5 6)     (3 4 5 6)    (4 5 6)    (5 6)    (6)\n",
    "[*]-------------> [*]------------> [*]---------> [*]--------> [*]-----> [*]---> nil\n",
    " |            |           |         |   `     | `     |\n",
    " v            v           v         v   `     v `     v\n",
    " 1            2           3         4   `     5 `     6"
   ]
  },
  {
   "cell_type": "raw",
   "metadata": {},
   "source": [
    "1 ]=> (cons x y)\n",
    "\n",
    ";Value 14: ((1 2 3) 4 5 6)"
   ]
  },
  {
   "cell_type": "raw",
   "metadata": {},
   "source": [
    " ((1 2 3) 4 5 6)   (4 5 6)     (5 6)     (6)\n",
    "[*]---------------> [*]--------> [*]-------> [*]---> nil\n",
    " |             |    ``    |        |\n",
    " |             v    ``    v        v\n",
    " |             4    ``    5        6\n",
    " |\n",
    " | (1 2 3)   (2 3)       (3)\n",
    "[*]---------> [*]---------> [*]-----> nil\n",
    " |         |         |\n",
    " v         v         v\n",
    " 1         2         3"
   ]
  },
  {
   "cell_type": "raw",
   "metadata": {},
   "source": [
    "1 ]=> (list x y)\n",
    "\n",
    ";Value 15: ((1 2 3) (4 5 6))"
   ]
  },
  {
   "cell_type": "raw",
   "metadata": {},
   "source": [
    " ((1 2 3) (4 5 6))    ((4 5 6))\n",
    "[*]------------------> [*]------------> nil\n",
    " |               |\n",
    " |               |\n",
    " |               | (4 5 6)    (5 6)     (6)\n",
    " |   `           [*]----------> [*]------> [*]---> nil\n",
    " |   `            |          |       |\n",
    " |   `            v          v       v\n",
    " |   `            4          5       6\n",
    " |\n",
    " | (1 2 3)    (2 3)      (3)\n",
    "[*]----------> [*]--------> [*]----> nil\n",
    " |          |      ``  |\n",
    " v          v      ``  v\n",
    " 1          2      ``  3"
   ]
  },
  {
   "cell_type": "markdown",
   "metadata": {},
   "source": [
    "## Exercise 2.27: \n",
    "Modify your $\\texttt{reverse}$ procedure of Exercise 2.18 to produce a $\\texttt{deep-reverse}$ procedure that takes a list as argument and returns as its value the list with its elements reversed and with all sublists deep-reversed as well.For example,"
   ]
  },
  {
   "cell_type": "raw",
   "metadata": {},
   "source": [
    "(define x (list (list 1 2) (list 3 4)))\n",
    "x\n",
    "((1 2) (3 4))\n",
    "\n",
    "(reverse x)\n",
    "((3 4) (1 2))\n",
    "\n",
    "(deep-reverse x)\n",
    "((4 3) (2 1))"
   ]
  },
  {
   "cell_type": "markdown",
   "metadata": {},
   "source": [
    "## Answer:"
   ]
  },
  {
   "cell_type": "code",
   "execution_count": 23,
   "metadata": {
    "collapsed": false
   },
   "outputs": [
    {
     "name": "stdout",
     "output_type": "stream",
     "text": [
      "(define (deep-reverse tree)\r\n",
      "  (cond ((null? tree) '())\r\n",
      "        ((not (pair? tree)) tree)\r\n",
      "        (else\r\n",
      "          (reverse (list (deep-reverse (car tree))\r\n",
      "                         (deep-reverse (cadr tree)))))))\r\n"
     ]
    }
   ],
   "source": [
    "cat 2.2/Exercise_2.27/deep-reverse.scm"
   ]
  },
  {
   "cell_type": "markdown",
   "metadata": {},
   "source": [
    "### Running Instance:"
   ]
  },
  {
   "cell_type": "raw",
   "metadata": {},
   "source": [
    "1 ]=> (load \"2.2/Exercise_2.27/deep-reverse.scm\")\n",
    "\n",
    ";Loading \"2.2/Exercise_2.27/deep-reverse.scm\"... done\n",
    ";Value: deep-reverse\n",
    "\n",
    "1 ]=> (define x (list (list 1 2) (list 3 4)))\n",
    "\n",
    ";Value: x\n",
    "\n",
    "1 ]=> x\n",
    "\n",
    ";Value 13: ((1 2) (3 4))\n",
    "\n",
    "1 ]=> (reverse x)\n",
    "\n",
    ";Value 14: ((3 4) (1 2))\n",
    "\n",
    "1 ]=> (deep-reverse x)\n",
    "\n",
    ";Value 15: ((4 3) (2 1))"
   ]
  },
  {
   "cell_type": "markdown",
   "metadata": {},
   "source": [
    "To make the $\\texttt{deep-reverse}$ more readable:"
   ]
  },
  {
   "cell_type": "code",
   "execution_count": 24,
   "metadata": {
    "collapsed": false
   },
   "outputs": [
    {
     "name": "stdout",
     "output_type": "stream",
     "text": [
      "(define (empty-tree? tree) (null? tree))\r\n",
      "(define (leaf? tree) (not (pair? tree)))\r\n",
      "(define (left-branch tree) (car tree))\r\n",
      "(define (right-branch tree) (cadr tree))\r\n",
      "(define (make-tree left-branch right-branch)\r\n",
      "  (list left-branch right-branch))\r\n",
      "\r\n",
      "(define (deep-reverse tree)\r\n",
      "  (cond ((empty-tree? tree) '())\r\n",
      "    ((leaf? tree) tree)\r\n",
      "    (else\r\n",
      "      (reverse (make-tree (deep-reverse (left-branch tree))\r\n",
      "                          (deep-reverse (right-branch tree)))))))\r\n"
     ]
    }
   ],
   "source": [
    "cat 2.2/Exercise_2.27/deep-reverse-easily-reading.scm"
   ]
  },
  {
   "cell_type": "code",
   "execution_count": null,
   "metadata": {
    "collapsed": true
   },
   "outputs": [],
   "source": []
  },
  {
   "cell_type": "code",
   "execution_count": null,
   "metadata": {
    "collapsed": true
   },
   "outputs": [],
   "source": []
  },
  {
   "cell_type": "code",
   "execution_count": null,
   "metadata": {
    "collapsed": true
   },
   "outputs": [],
   "source": []
  },
  {
   "cell_type": "code",
   "execution_count": null,
   "metadata": {
    "collapsed": true
   },
   "outputs": [],
   "source": []
  },
  {
   "cell_type": "code",
   "execution_count": null,
   "metadata": {
    "collapsed": true
   },
   "outputs": [],
   "source": []
  },
  {
   "cell_type": "code",
   "execution_count": null,
   "metadata": {
    "collapsed": true
   },
   "outputs": [],
   "source": []
  },
  {
   "cell_type": "code",
   "execution_count": null,
   "metadata": {
    "collapsed": true
   },
   "outputs": [],
   "source": []
  },
  {
   "cell_type": "code",
   "execution_count": null,
   "metadata": {
    "collapsed": true
   },
   "outputs": [],
   "source": []
  },
  {
   "cell_type": "code",
   "execution_count": null,
   "metadata": {
    "collapsed": true
   },
   "outputs": [],
   "source": []
  },
  {
   "cell_type": "code",
   "execution_count": null,
   "metadata": {
    "collapsed": true
   },
   "outputs": [],
   "source": []
  },
  {
   "cell_type": "code",
   "execution_count": null,
   "metadata": {
    "collapsed": true
   },
   "outputs": [],
   "source": []
  },
  {
   "cell_type": "code",
   "execution_count": null,
   "metadata": {
    "collapsed": true
   },
   "outputs": [],
   "source": []
  },
  {
   "cell_type": "code",
   "execution_count": null,
   "metadata": {
    "collapsed": true
   },
   "outputs": [],
   "source": []
  },
  {
   "cell_type": "code",
   "execution_count": null,
   "metadata": {
    "collapsed": true
   },
   "outputs": [],
   "source": []
  },
  {
   "cell_type": "code",
   "execution_count": null,
   "metadata": {
    "collapsed": true
   },
   "outputs": [],
   "source": []
  },
  {
   "cell_type": "code",
   "execution_count": null,
   "metadata": {
    "collapsed": true
   },
   "outputs": [],
   "source": []
  },
  {
   "cell_type": "code",
   "execution_count": null,
   "metadata": {
    "collapsed": true
   },
   "outputs": [],
   "source": []
  },
  {
   "cell_type": "code",
   "execution_count": null,
   "metadata": {
    "collapsed": true
   },
   "outputs": [],
   "source": []
  },
  {
   "cell_type": "code",
   "execution_count": null,
   "metadata": {
    "collapsed": true
   },
   "outputs": [],
   "source": []
  },
  {
   "cell_type": "code",
   "execution_count": null,
   "metadata": {
    "collapsed": true
   },
   "outputs": [],
   "source": []
  },
  {
   "cell_type": "code",
   "execution_count": null,
   "metadata": {
    "collapsed": true
   },
   "outputs": [],
   "source": []
  },
  {
   "cell_type": "code",
   "execution_count": null,
   "metadata": {
    "collapsed": true
   },
   "outputs": [],
   "source": []
  },
  {
   "cell_type": "code",
   "execution_count": null,
   "metadata": {
    "collapsed": true
   },
   "outputs": [],
   "source": []
  },
  {
   "cell_type": "code",
   "execution_count": null,
   "metadata": {
    "collapsed": true
   },
   "outputs": [],
   "source": []
  },
  {
   "cell_type": "code",
   "execution_count": null,
   "metadata": {
    "collapsed": true
   },
   "outputs": [],
   "source": []
  },
  {
   "cell_type": "code",
   "execution_count": null,
   "metadata": {
    "collapsed": true
   },
   "outputs": [],
   "source": []
  },
  {
   "cell_type": "code",
   "execution_count": null,
   "metadata": {
    "collapsed": true
   },
   "outputs": [],
   "source": []
  },
  {
   "cell_type": "code",
   "execution_count": null,
   "metadata": {
    "collapsed": true
   },
   "outputs": [],
   "source": []
  },
  {
   "cell_type": "code",
   "execution_count": null,
   "metadata": {
    "collapsed": true
   },
   "outputs": [],
   "source": []
  },
  {
   "cell_type": "code",
   "execution_count": null,
   "metadata": {
    "collapsed": true
   },
   "outputs": [],
   "source": []
  },
  {
   "cell_type": "code",
   "execution_count": null,
   "metadata": {
    "collapsed": true
   },
   "outputs": [],
   "source": []
  },
  {
   "cell_type": "code",
   "execution_count": null,
   "metadata": {
    "collapsed": true
   },
   "outputs": [],
   "source": []
  },
  {
   "cell_type": "code",
   "execution_count": null,
   "metadata": {
    "collapsed": true
   },
   "outputs": [],
   "source": []
  },
  {
   "cell_type": "code",
   "execution_count": null,
   "metadata": {
    "collapsed": true
   },
   "outputs": [],
   "source": []
  },
  {
   "cell_type": "code",
   "execution_count": null,
   "metadata": {
    "collapsed": true
   },
   "outputs": [],
   "source": []
  },
  {
   "cell_type": "code",
   "execution_count": null,
   "metadata": {
    "collapsed": true
   },
   "outputs": [],
   "source": []
  },
  {
   "cell_type": "code",
   "execution_count": null,
   "metadata": {
    "collapsed": true
   },
   "outputs": [],
   "source": []
  },
  {
   "cell_type": "code",
   "execution_count": null,
   "metadata": {
    "collapsed": true
   },
   "outputs": [],
   "source": []
  },
  {
   "cell_type": "code",
   "execution_count": null,
   "metadata": {
    "collapsed": true
   },
   "outputs": [],
   "source": []
  },
  {
   "cell_type": "code",
   "execution_count": null,
   "metadata": {
    "collapsed": true
   },
   "outputs": [],
   "source": []
  },
  {
   "cell_type": "code",
   "execution_count": null,
   "metadata": {
    "collapsed": true
   },
   "outputs": [],
   "source": []
  },
  {
   "cell_type": "code",
   "execution_count": null,
   "metadata": {
    "collapsed": true
   },
   "outputs": [],
   "source": []
  },
  {
   "cell_type": "code",
   "execution_count": null,
   "metadata": {
    "collapsed": true
   },
   "outputs": [],
   "source": []
  },
  {
   "cell_type": "code",
   "execution_count": null,
   "metadata": {
    "collapsed": true
   },
   "outputs": [],
   "source": []
  },
  {
   "cell_type": "code",
   "execution_count": null,
   "metadata": {
    "collapsed": true
   },
   "outputs": [],
   "source": []
  },
  {
   "cell_type": "code",
   "execution_count": null,
   "metadata": {
    "collapsed": true
   },
   "outputs": [],
   "source": []
  },
  {
   "cell_type": "code",
   "execution_count": null,
   "metadata": {
    "collapsed": true
   },
   "outputs": [],
   "source": []
  },
  {
   "cell_type": "code",
   "execution_count": null,
   "metadata": {
    "collapsed": true
   },
   "outputs": [],
   "source": []
  },
  {
   "cell_type": "code",
   "execution_count": null,
   "metadata": {
    "collapsed": true
   },
   "outputs": [],
   "source": []
  },
  {
   "cell_type": "code",
   "execution_count": null,
   "metadata": {
    "collapsed": true
   },
   "outputs": [],
   "source": []
  },
  {
   "cell_type": "code",
   "execution_count": null,
   "metadata": {
    "collapsed": true
   },
   "outputs": [],
   "source": []
  },
  {
   "cell_type": "code",
   "execution_count": null,
   "metadata": {
    "collapsed": true
   },
   "outputs": [],
   "source": []
  },
  {
   "cell_type": "code",
   "execution_count": null,
   "metadata": {
    "collapsed": true
   },
   "outputs": [],
   "source": []
  }
 ],
 "metadata": {
  "kernelspec": {
   "display_name": "Python [Root]",
   "language": "python",
   "name": "Python [Root]"
  },
  "language_info": {
   "codemirror_mode": {
    "name": "ipython",
    "version": 2
   },
   "file_extension": ".py",
   "mimetype": "text/x-python",
   "name": "python",
   "nbconvert_exporter": "python",
   "pygments_lexer": "ipython2",
   "version": "2.7.12"
  }
 },
 "nbformat": 4,
 "nbformat_minor": 0
}
