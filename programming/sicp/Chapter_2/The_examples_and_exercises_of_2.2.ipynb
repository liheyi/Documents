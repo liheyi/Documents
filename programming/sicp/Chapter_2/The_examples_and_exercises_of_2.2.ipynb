{
 "cells": [
  {
   "cell_type": "markdown",
   "metadata": {},
   "source": [
    "# 2.2 Hierarchical Data and the Closure Property"
   ]
  },
  {
   "cell_type": "markdown",
   "metadata": {},
   "source": [
    "The ability to create pairs whose elements are pairs is the essence of list structure’s importance as a representational tool. We refer to this ability as the $closure$ $property$ of $\\texttt{cons}$. In general, an operation for combining data objects satisfies the closure property if the results of combining things with that operation can themselves be combined using the same operation. $\\textrm{Closure}$ is the key to power in any means of combination because it permits us to create hierarchical structures-structures made up of parts, which themselves are made up of parts, and so on."
   ]
  },
  {
   "cell_type": "markdown",
   "metadata": {},
   "source": [
    "From the outset of Chapter 1, we’ve made essential use of closure in dealing with procedures, because all but the very simplest programs rely on the fact that the elements of a combination can themselves be combinations. In this section, we take up the consequences of closure for compound data. We describe some conventional techniques for using $\\texttt{pairs}$ to represent $\\text{sequences}$ and $\\text{trees}$, and we exhibit a graphics language that illustrates closure in a vivid way."
   ]
  },
  {
   "cell_type": "markdown",
   "metadata": {},
   "source": [
    "## 2.2.1 Representing Sequences"
   ]
  },
  {
   "cell_type": "markdown",
   "metadata": {},
   "source": [
    "One of the useful structures we can build with $\\texttt{pairs}$ is a $\\text{sequence}$—an ordered collection of data objects. There are, of course, many ways to represent sequences in terms of $\\texttt{pairs}$. One particularly straightforward representation is illustrated in Figure 2.4, where the sequence 1, 2, 3, 4 is represented as a chain of pairs. The $\\texttt{car}$ of each pair is the corresponding item in the chain, and the $\\texttt{cdr}$ of the pair is the next pair in the chain. The $\\texttt{cdr}$ of the final pair signals the end of the sequence by pointing to a distinguished value that is not a pair, represented in $\\textrm{box-and-pointer}$ diagrams as a diagonal line and in programs as the value of the variable $\\textbf{nil}$. The entire sequence is constructed by nested $\\texttt{cons}$ operations:"
   ]
  },
  {
   "cell_type": "raw",
   "metadata": {},
   "source": [
    "(cons 1\n",
    "  (cons 2\n",
    "   (cons 3\n",
    "`    (cons 4 nil))))"
   ]
  },
  {
   "cell_type": "markdown",
   "metadata": {},
   "source": [
    "Such a sequence of pairs, formed by nested $\\texttt{cons}$es, is called a $\\textbf{list}$, and Scheme provides a primitive called $\\texttt{list}$ to help in constructing lists. The above sequence could be produced by $\\textrm{(list 1 2 3 4)}$. In general,"
   ]
  },
  {
   "cell_type": "markdown",
   "metadata": {},
   "source": [
    "$(\\texttt{list}\\;\\;⟨a_1⟩\\;\\;⟨a_2⟩\\;\\;\\dots\\;\\;⟨a_n⟩)$"
   ]
  },
  {
   "cell_type": "markdown",
   "metadata": {},
   "source": [
    "is equivalent to"
   ]
  },
  {
   "cell_type": "markdown",
   "metadata": {},
   "source": [
    "$(cons\\;\\;⟨a_1⟩\\\\\n",
    "\\quad(cons\\;\\;⟨a_2⟩\\\\\n",
    "\\quad\\quad(cons\\;\\;\\dots\\\\\n",
    "\\quad\\quad\\quad(cons\\;\\;⟨a_n⟩\\\\\n",
    "\\quad\\quad\\quad\\quad\\quad\\quad nil)\\dots)))\n",
    "$"
   ]
  },
  {
   "cell_type": "markdown",
   "metadata": {},
   "source": [
    "Lisp systems conventionally print lists by printing the sequence of elements, enclosed in parentheses. Thus, the data object in Figure 2.4 is printed as $\\textrm{(1 2 3 4)}$:"
   ]
  },
  {
   "cell_type": "raw",
   "metadata": {},
   "source": [
    "1 ]=> (define one-through-four (list 1 2 3 4))\n",
    "\n",
    ";Value: one-through-four\n",
    "\n",
    "1 ]=> one-through-four\n",
    "\n",
    ";Value 13: (1 2 3 4)"
   ]
  },
  {
   "cell_type": "markdown",
   "metadata": {},
   "source": [
    "Be careful not to confuse the expression $\\textrm{(list 1 2 3 4)}$ with the list $\\textrm{(1 2 3 4)}$, which is the result obtained when the expression is evaluated. Attempting to evaluate the expression $\\textrm{(1 2 3 4)}$ will signal an error when the interpreter tries to apply the procedure $\\texttt{1}$ to arguments $\\texttt{2}$, $\\texttt{3}$, and $\\texttt{4}$."
   ]
  },
  {
   "cell_type": "raw",
   "metadata": {},
   "source": [
    "1 ]=> (1 2 3 4)\n",
    "\n",
    ";The object 1 is not applicable.\n",
    ";To continue, call RESTART with an option number:\n",
    "; (RESTART 2) => Specify a procedure to use in its place.\n",
    "; (RESTART 1) => Return to read-eval-print level 1."
   ]
  },
  {
   "cell_type": "markdown",
   "metadata": {},
   "source": [
    "We can think of $\\texttt{car}$ as selecting the first item in the list, and of $\\texttt{cdr}$ as selecting the sublist consisting of all but the first item. Nested\n",
    "applications of $\\texttt{car}$ and $\\texttt{cdr}$ can be used to extract the second, third, and subsequent items in the list. The constructor $\\texttt{cons}$ makes a list like the original one, but with an additional item at the beginning."
   ]
  },
  {
   "cell_type": "raw",
   "metadata": {},
   "source": [
    "1 ]=> (car one-through-four)\n",
    "\n",
    ";Value: 1\n",
    "\n",
    "1 ]=> (cdr one-through-four)\n",
    "\n",
    ";Value 14: (2 3 4)\n",
    "\n",
    "1 ]=> (cons 10 one-through-four)\n",
    "\n",
    ";Value 15: (10 1 2 3 4)\n",
    "\n",
    "1 ]=> (cons 5 one-through-four)\n",
    "\n",
    ";Value 16: (5 1 2 3 4)"
   ]
  },
  {
   "cell_type": "markdown",
   "metadata": {},
   "source": [
    "The value of $\\textbf{nil}$, used to terminate the chain of pairs, can be thought of\n",
    "as a sequence of no elements, the empty list. The word nil is a contraction of the Latin word nihil, which means “nothing.”"
   ]
  },
  {
   "cell_type": "markdown",
   "metadata": {},
   "source": [
    "### List operations"
   ]
  },
  {
   "cell_type": "markdown",
   "metadata": {},
   "source": [
    "The use of pairs to represent sequences of elements as lists is accompanied by conventional programming techniques for manipulating lists by successively “$\\textbf{cdring down}$” the lists."
   ]
  },
  {
   "cell_type": "markdown",
   "metadata": {},
   "source": [
    "## Example 4: Index list element"
   ]
  },
  {
   "cell_type": "markdown",
   "metadata": {},
   "source": [
    "For example, the procedure $\\texttt{list-ref}$ takes as arguments a list and a number n and returns the $n^{th}$ item of the list. It is customary to number the elements of the list beginning with 0. The method for computing $\\texttt{list-ref}$ is the following:"
   ]
  },
  {
   "cell_type": "markdown",
   "metadata": {},
   "source": [
    "$\\bullet\\quad$For $\\text{n = 0}$, $\\texttt{list-ref}$ should return the $\\texttt{car}$ of the list."
   ]
  },
  {
   "cell_type": "markdown",
   "metadata": {},
   "source": [
    "$\\bullet\\quad$Otherwise, $\\texttt{list-ref}$ should return the $\\text{(n - 1)-st}$ item of the $\\texttt{cdr}$ of the list."
   ]
  },
  {
   "cell_type": "code",
   "execution_count": 1,
   "metadata": {
    "collapsed": false
   },
   "outputs": [
    {
     "name": "stdout",
     "output_type": "stream",
     "text": [
      "(define (list-ref items n)\r\n",
      "  (if (= n 0) (car items)\r\n",
      "      (list-ref (cdr items) (- n 1))))\r\n"
     ]
    }
   ],
   "source": [
    "cat 2.2/Example_4/list-ref.scm"
   ]
  },
  {
   "cell_type": "markdown",
   "metadata": {},
   "source": [
    "### Running Instance:"
   ]
  },
  {
   "cell_type": "raw",
   "metadata": {},
   "source": [
    "1 ]=> (load \"2.2/Example_4/list-ref.scm\")\n",
    "\n",
    ";Loading \"2.2/Example_4/list-ref.scm\"... done\n",
    ";Value: list-ref\n",
    "\n",
    "1 ]=> (define squares (list 1 4 9 16 25))\n",
    "\n",
    ";Value: squares\n",
    "\n",
    "1 ]=> (list-ref squares 3)\n",
    "\n",
    ";Value: 16\n",
    "\n",
    "1 ]=> (list-ref squares 4)\n",
    "\n",
    ";Value: 25"
   ]
  },
  {
   "cell_type": "markdown",
   "metadata": {},
   "source": [
    "## Example 5: The length of list"
   ]
  },
  {
   "cell_type": "markdown",
   "metadata": {},
   "source": [
    "Often we cdr down the whole list. To aid in this, Scheme includes a primitive predicate $\\texttt{null?}$, which tests whether its argument is the empty list. The procedure $\\texttt{length}$, which returns the number of items in a list."
   ]
  },
  {
   "cell_type": "markdown",
   "metadata": {},
   "source": [
    "The $\\texttt{length}$ procedure implements a simple $\\text{recursive}$ plan. The reduction step is:"
   ]
  },
  {
   "cell_type": "markdown",
   "metadata": {},
   "source": [
    "$\\bullet\\quad$The $\\texttt{length}$ of any list is $\\texttt{1}$ plus the $\\texttt{length}$ of the $\\texttt{cdr}$ of the list."
   ]
  },
  {
   "cell_type": "markdown",
   "metadata": {},
   "source": [
    "This is applied successively until we reach the base case:"
   ]
  },
  {
   "cell_type": "markdown",
   "metadata": {},
   "source": [
    "$\\bullet\\quad$The $\\texttt{length}$ of the empty list is $\\texttt{0}$."
   ]
  },
  {
   "cell_type": "markdown",
   "metadata": {},
   "source": [
    "Illustrates this typical pattern of use:"
   ]
  },
  {
   "cell_type": "code",
   "execution_count": 3,
   "metadata": {
    "collapsed": false
   },
   "outputs": [
    {
     "name": "stdout",
     "output_type": "stream",
     "text": [
      "(define (length items)\r\n",
      "  (if (null? items) 0\r\n",
      "      (+ 1 (length (cdr items)))))\r\n"
     ]
    }
   ],
   "source": [
    "cat 2.2/Example_5/length-by-recursion.scm"
   ]
  },
  {
   "cell_type": "markdown",
   "metadata": {},
   "source": [
    "### Running Instance:"
   ]
  },
  {
   "cell_type": "raw",
   "metadata": {},
   "source": [
    "1 ]=> (load \"2.2/Example_5/length-by-recursion.scm\")\n",
    "\n",
    ";Loading \"2.2/Example_5/length-by-recursion.scm\"... done\n",
    ";Value: length\n",
    "\n",
    "1 ]=> (define odds (list 1 3 5 7 9 11))\n",
    "\n",
    ";Value: odds\n",
    "\n",
    "1 ]=> (length odds)\n",
    "\n",
    ";Value: 6"
   ]
  },
  {
   "cell_type": "markdown",
   "metadata": {},
   "source": [
    "We could also compute $\\texttt{length}$ in an $\\text{iterative}$ style:"
   ]
  },
  {
   "cell_type": "code",
   "execution_count": 4,
   "metadata": {
    "collapsed": false
   },
   "outputs": [
    {
     "name": "stdout",
     "output_type": "stream",
     "text": [
      "(define (length items)\r\n",
      "  (define (iter a count)\r\n",
      "    (if (null? a) count\r\n",
      "        (iter (cdr a) (+ 1 count))))\r\n",
      "  (iter items 0))\r\n"
     ]
    }
   ],
   "source": [
    "cat 2.2/Example_5/length-by-iteration.scm"
   ]
  },
  {
   "cell_type": "markdown",
   "metadata": {},
   "source": [
    "## Example 6: Append two lists"
   ]
  },
  {
   "cell_type": "markdown",
   "metadata": {},
   "source": [
    "Another conventional programming technique is to “$\\textbf{cons up}$” an answer list while cdring down a list, as in the procedure $\\texttt{append}$, which takes two lists as arguments and combines their elements to make a new list."
   ]
  },
  {
   "cell_type": "markdown",
   "metadata": {},
   "source": [
    "$\\texttt{append}$ is also implemented using a $\\text{recursive}$ plan.To $\\texttt{append}$ lists $\\texttt{list1}$ and $\\texttt{list2}$, do the following:"
   ]
  },
  {
   "cell_type": "markdown",
   "metadata": {},
   "source": [
    "$\\bullet\\quad$If $\\texttt{list1}$ is the empty list, then the result is just $\\texttt{list2}$."
   ]
  },
  {
   "cell_type": "markdown",
   "metadata": {},
   "source": [
    "$\\bullet\\quad$Otherwise, $\\texttt{append}$ the $\\texttt{cdr}$ of $\\texttt{list1}$ and $\\texttt{list2}$, and $\\texttt{cons}$ the $\\texttt{car}$ of $\\texttt{list1}$ onto the result:"
   ]
  },
  {
   "cell_type": "code",
   "execution_count": 5,
   "metadata": {
    "collapsed": false
   },
   "outputs": [
    {
     "name": "stdout",
     "output_type": "stream",
     "text": [
      "(define (append list1 list2)\r\n",
      "  (if (null? list1) list2\r\n",
      "      (cons (car list1) (append (cdr list1) list2))))\r\n"
     ]
    }
   ],
   "source": [
    "cat 2.2/Example_6/append-two-lists.scm"
   ]
  },
  {
   "cell_type": "markdown",
   "metadata": {},
   "source": [
    "### Running Instance:"
   ]
  },
  {
   "cell_type": "raw",
   "metadata": {},
   "source": [
    "1 ]=> (load \"2.2/Example_6/append-two-lists.scm\")\n",
    "\n",
    ";Loading \"2.2/Example_6/append-two-lists.scm\"... done\n",
    ";Value: append\n",
    "\n",
    "1 ]=> (define squares (list 1 4 9 16 25))\n",
    "\n",
    ";Value: squares\n",
    "\n",
    "1 ]=> (define odds (list 1 3 5 7 9 11))\n",
    "\n",
    ";Value: odds\n",
    "\n",
    "1 ]=> (append squares odds)\n",
    "\n",
    ";Value 15: (1 4 9 16 25 1 3 5 7 9 11)\n",
    "\n",
    "1 ]=> (append odds squares)\n",
    "\n",
    ";Value 16: (1 3 5 7 9 11 1 4 9 16 25)"
   ]
  },
  {
   "cell_type": "code",
   "execution_count": null,
   "metadata": {
    "collapsed": true
   },
   "outputs": [],
   "source": []
  },
  {
   "cell_type": "code",
   "execution_count": null,
   "metadata": {
    "collapsed": true
   },
   "outputs": [],
   "source": []
  },
  {
   "cell_type": "code",
   "execution_count": null,
   "metadata": {
    "collapsed": true
   },
   "outputs": [],
   "source": []
  }
 ],
 "metadata": {
  "kernelspec": {
   "display_name": "Python [Root]",
   "language": "python",
   "name": "Python [Root]"
  },
  "language_info": {
   "codemirror_mode": {
    "name": "ipython",
    "version": 2
   },
   "file_extension": ".py",
   "mimetype": "text/x-python",
   "name": "python",
   "nbconvert_exporter": "python",
   "pygments_lexer": "ipython2",
   "version": "2.7.12"
  }
 },
 "nbformat": 4,
 "nbformat_minor": 0
}
