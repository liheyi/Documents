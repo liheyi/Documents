{
 "cells": [
  {
   "cell_type": "markdown",
   "metadata": {},
   "source": [
    "# 2.2 Hierarchical Data and the Closure Property"
   ]
  },
  {
   "cell_type": "markdown",
   "metadata": {},
   "source": [
    "The ability to create pairs whose elements are pairs is the essence of list structure’s importance as a representational tool. We refer to this ability as the $closure$ $property$ of $\\texttt{cons}$. In general, an operation for combining data objects satisfies the closure property if the results of combining things with that operation can themselves be combined using the same operation. $\\textrm{Closure}$ is the key to power in any means of combination because it permits us to create hierarchical structures-structures made up of parts, which themselves are made up of parts, and so on."
   ]
  },
  {
   "cell_type": "markdown",
   "metadata": {},
   "source": [
    "From the outset of Chapter 1, we’ve made essential use of closure in dealing with procedures, because all but the very simplest programs rely on the fact that the elements of a combination can themselves be combinations. In this section, we take up the consequences of closure for compound data. We describe some conventional techniques for using $\\texttt{pairs}$ to represent $\\text{sequences}$ and $\\text{trees}$, and we exhibit a graphics language that illustrates closure in a vivid way."
   ]
  },
  {
   "cell_type": "markdown",
   "metadata": {},
   "source": [
    "## 2.2.1 Representing Sequences"
   ]
  },
  {
   "cell_type": "markdown",
   "metadata": {},
   "source": [
    "One of the useful structures we can build with $\\texttt{pairs}$ is a $\\text{sequence}$—an ordered collection of data objects. There are, of course, many ways to represent sequences in terms of $\\texttt{pairs}$. One particularly straightforward representation is illustrated in Figure 2.4, where the sequence 1, 2, 3, 4 is represented as a chain of pairs. The $\\texttt{car}$ of each pair is the corresponding item in the chain, and the $\\texttt{cdr}$ of the pair is the next pair in the chain. The $\\texttt{cdr}$ of the final pair signals the end of the sequence by pointing to a distinguished value that is not a pair, represented in $\\textrm{box-and-pointer}$ diagrams as a diagonal line and in programs as the value of the variable $\\textbf{nil}$. The entire sequence is constructed by nested $\\texttt{cons}$ operations:"
   ]
  },
  {
   "cell_type": "raw",
   "metadata": {},
   "source": [
    "(cons 1\n",
    "  (cons 2\n",
    "   (cons 3\n",
    "`    (cons 4 nil))))"
   ]
  },
  {
   "cell_type": "markdown",
   "metadata": {},
   "source": [
    "Such a sequence of pairs, formed by nested $\\texttt{cons}$es, is called a $\\textbf{list}$, and Scheme provides a primitive called $\\texttt{list}$ to help in constructing lists. The above sequence could be produced by $\\textrm{(list 1 2 3 4)}$. In general,"
   ]
  },
  {
   "cell_type": "markdown",
   "metadata": {},
   "source": [
    "$(\\texttt{list}\\;\\;⟨a_1⟩\\;\\;⟨a_2⟩\\;\\;\\dots\\;\\;⟨a_n⟩)$"
   ]
  },
  {
   "cell_type": "markdown",
   "metadata": {},
   "source": [
    "is equivalent to"
   ]
  },
  {
   "cell_type": "markdown",
   "metadata": {},
   "source": [
    "$(cons\\;\\;⟨a_1⟩\\\\\n",
    "\\quad(cons\\;\\;⟨a_2⟩\\\\\n",
    "\\quad\\quad(cons\\;\\;\\dots\\\\\n",
    "\\quad\\quad\\quad(cons\\;\\;⟨a_n⟩\\\\\n",
    "\\quad\\quad\\quad\\quad\\quad\\quad nil)\\dots)))\n",
    "$"
   ]
  },
  {
   "cell_type": "markdown",
   "metadata": {},
   "source": [
    "Lisp systems conventionally print lists by printing the sequence of elements, enclosed in parentheses. Thus, the data object in Figure 2.4 is printed as $\\textrm{(1 2 3 4)}$:"
   ]
  },
  {
   "cell_type": "raw",
   "metadata": {},
   "source": [
    "1 ]=> (define one-through-four (list 1 2 3 4))\n",
    "\n",
    ";Value: one-through-four\n",
    "\n",
    "1 ]=> one-through-four\n",
    "\n",
    ";Value 13: (1 2 3 4)"
   ]
  },
  {
   "cell_type": "markdown",
   "metadata": {},
   "source": [
    "Be careful not to confuse the expression $\\textrm{(list 1 2 3 4)}$ with the list $\\textrm{(1 2 3 4)}$, which is the result obtained when the expression is evaluated. Attempting to evaluate the expression $\\textrm{(1 2 3 4)}$ will signal an error when the interpreter tries to apply the procedure $\\texttt{1}$ to arguments $\\texttt{2}$, $\\texttt{3}$, and $\\texttt{4}$."
   ]
  },
  {
   "cell_type": "raw",
   "metadata": {},
   "source": [
    "1 ]=> (1 2 3 4)\n",
    "\n",
    ";The object 1 is not applicable.\n",
    ";To continue, call RESTART with an option number:\n",
    "; (RESTART 2) => Specify a procedure to use in its place.\n",
    "; (RESTART 1) => Return to read-eval-print level 1."
   ]
  },
  {
   "cell_type": "markdown",
   "metadata": {},
   "source": [
    "We can think of $\\texttt{car}$ as selecting the first item in the list, and of $\\texttt{cdr}$ as selecting the sublist consisting of all but the first item. Nested\n",
    "applications of $\\texttt{car}$ and $\\texttt{cdr}$ can be used to extract the second, third, and subsequent items in the list. The constructor $\\texttt{cons}$ makes a list like the original one, but with an additional item at the beginning."
   ]
  },
  {
   "cell_type": "raw",
   "metadata": {},
   "source": [
    "1 ]=> (car one-through-four)\n",
    "\n",
    ";Value: 1\n",
    "\n",
    "1 ]=> (cdr one-through-four)\n",
    "\n",
    ";Value 14: (2 3 4)\n",
    "\n",
    "1 ]=> (cons 10 one-through-four)\n",
    "\n",
    ";Value 15: (10 1 2 3 4)\n",
    "\n",
    "1 ]=> (cons 5 one-through-four)\n",
    "\n",
    ";Value 16: (5 1 2 3 4)"
   ]
  },
  {
   "cell_type": "markdown",
   "metadata": {},
   "source": [
    "The value of $\\textbf{nil}$, used to terminate the chain of pairs, can be thought of\n",
    "as a sequence of no elements, the empty list. The word nil is a contraction of the Latin word nihil, which means “nothing.”"
   ]
  },
  {
   "cell_type": "markdown",
   "metadata": {},
   "source": [
    "### List operations"
   ]
  },
  {
   "cell_type": "markdown",
   "metadata": {},
   "source": [
    "The use of pairs to represent sequences of elements as lists is accompanied by conventional programming techniques for manipulating lists by successively “$\\textbf{cdring down}$” the lists."
   ]
  },
  {
   "cell_type": "markdown",
   "metadata": {},
   "source": [
    "## Example 4: Index list element"
   ]
  },
  {
   "cell_type": "markdown",
   "metadata": {},
   "source": [
    "For example, the procedure $\\texttt{list-ref}$ takes as arguments a list and a number n and returns the $n^{th}$ item of the list. It is customary to number the elements of the list beginning with 0. The method for computing $\\texttt{list-ref}$ is the following:"
   ]
  },
  {
   "cell_type": "markdown",
   "metadata": {},
   "source": [
    "$\\bullet\\quad$For $\\text{n = 0}$, $\\texttt{list-ref}$ should return the $\\texttt{car}$ of the list."
   ]
  },
  {
   "cell_type": "markdown",
   "metadata": {},
   "source": [
    "$\\bullet\\quad$Otherwise, $\\texttt{list-ref}$ should return the $\\text{(n - 1)-st}$ item of the $\\texttt{cdr}$ of the list."
   ]
  },
  {
   "cell_type": "code",
   "execution_count": 1,
   "metadata": {
    "collapsed": false
   },
   "outputs": [
    {
     "name": "stdout",
     "output_type": "stream",
     "text": [
      "(define (list-ref items n)\r\n",
      "  (if (= n 0) (car items)\r\n",
      "      (list-ref (cdr items) (- n 1))))\r\n"
     ]
    }
   ],
   "source": [
    "cat 2.2/Example_4/list-ref.scm"
   ]
  },
  {
   "cell_type": "markdown",
   "metadata": {},
   "source": [
    "### Running Instance:"
   ]
  },
  {
   "cell_type": "raw",
   "metadata": {},
   "source": [
    "1 ]=> (load \"2.2/Example_4/list-ref.scm\")\n",
    "\n",
    ";Loading \"2.2/Example_4/list-ref.scm\"... done\n",
    ";Value: list-ref\n",
    "\n",
    "1 ]=> (define squares (list 1 4 9 16 25))\n",
    "\n",
    ";Value: squares\n",
    "\n",
    "1 ]=> (list-ref squares 3)\n",
    "\n",
    ";Value: 16\n",
    "\n",
    "1 ]=> (list-ref squares 4)\n",
    "\n",
    ";Value: 25"
   ]
  },
  {
   "cell_type": "markdown",
   "metadata": {},
   "source": [
    "## Example 5: The length of list"
   ]
  },
  {
   "cell_type": "markdown",
   "metadata": {},
   "source": [
    "Often we cdr down the whole list. To aid in this, Scheme includes a primitive predicate $\\texttt{null?}$, which tests whether its argument is the empty list. The procedure $\\texttt{length}$, which returns the number of items in a list."
   ]
  },
  {
   "cell_type": "markdown",
   "metadata": {},
   "source": [
    "The $\\texttt{length}$ procedure implements a simple $\\text{recursive}$ plan. The reduction step is:"
   ]
  },
  {
   "cell_type": "markdown",
   "metadata": {},
   "source": [
    "$\\bullet\\quad$The $\\texttt{length}$ of any list is $\\texttt{1}$ plus the $\\texttt{length}$ of the $\\texttt{cdr}$ of the list."
   ]
  },
  {
   "cell_type": "markdown",
   "metadata": {},
   "source": [
    "This is applied successively until we reach the base case:"
   ]
  },
  {
   "cell_type": "markdown",
   "metadata": {},
   "source": [
    "$\\bullet\\quad$The $\\texttt{length}$ of the empty list is $\\texttt{0}$."
   ]
  },
  {
   "cell_type": "markdown",
   "metadata": {},
   "source": [
    "Illustrates this typical pattern of use:"
   ]
  },
  {
   "cell_type": "code",
   "execution_count": 3,
   "metadata": {
    "collapsed": false
   },
   "outputs": [
    {
     "name": "stdout",
     "output_type": "stream",
     "text": [
      "(define (length items)\r\n",
      "  (if (null? items) 0\r\n",
      "      (+ 1 (length (cdr items)))))\r\n"
     ]
    }
   ],
   "source": [
    "cat 2.2/Example_5/length-by-recursion.scm"
   ]
  },
  {
   "cell_type": "markdown",
   "metadata": {},
   "source": [
    "### Running Instance:"
   ]
  },
  {
   "cell_type": "raw",
   "metadata": {},
   "source": [
    "1 ]=> (load \"2.2/Example_5/length-by-recursion.scm\")\n",
    "\n",
    ";Loading \"2.2/Example_5/length-by-recursion.scm\"... done\n",
    ";Value: length\n",
    "\n",
    "1 ]=> (define odds (list 1 3 5 7 9 11))\n",
    "\n",
    ";Value: odds\n",
    "\n",
    "1 ]=> (length odds)\n",
    "\n",
    ";Value: 6"
   ]
  },
  {
   "cell_type": "markdown",
   "metadata": {},
   "source": [
    "We could also compute $\\texttt{length}$ in an $\\text{iterative}$ style:"
   ]
  },
  {
   "cell_type": "code",
   "execution_count": 4,
   "metadata": {
    "collapsed": false
   },
   "outputs": [
    {
     "name": "stdout",
     "output_type": "stream",
     "text": [
      "(define (length items)\r\n",
      "  (define (iter a count)\r\n",
      "    (if (null? a) count\r\n",
      "        (iter (cdr a) (+ 1 count))))\r\n",
      "  (iter items 0))\r\n"
     ]
    }
   ],
   "source": [
    "cat 2.2/Example_5/length-by-iteration.scm"
   ]
  },
  {
   "cell_type": "markdown",
   "metadata": {},
   "source": [
    "## Example 6: Append two lists"
   ]
  },
  {
   "cell_type": "markdown",
   "metadata": {},
   "source": [
    "Another conventional programming technique is to “$\\textbf{cons up}$” an answer list while cdring down a list, as in the procedure $\\texttt{append}$, which takes two lists as arguments and combines their elements to make a new list."
   ]
  },
  {
   "cell_type": "markdown",
   "metadata": {},
   "source": [
    "$\\texttt{append}$ is also implemented using a $\\text{recursive}$ plan.To $\\texttt{append}$ lists $\\texttt{list1}$ and $\\texttt{list2}$, do the following:"
   ]
  },
  {
   "cell_type": "markdown",
   "metadata": {},
   "source": [
    "$\\bullet\\quad$If $\\texttt{list1}$ is the empty list, then the result is just $\\texttt{list2}$."
   ]
  },
  {
   "cell_type": "markdown",
   "metadata": {},
   "source": [
    "$\\bullet\\quad$Otherwise, $\\texttt{append}$ the $\\texttt{cdr}$ of $\\texttt{list1}$ and $\\texttt{list2}$, and $\\texttt{cons}$ the $\\texttt{car}$ of $\\texttt{list1}$ onto the result:"
   ]
  },
  {
   "cell_type": "code",
   "execution_count": 5,
   "metadata": {
    "collapsed": false
   },
   "outputs": [
    {
     "name": "stdout",
     "output_type": "stream",
     "text": [
      "(define (append list1 list2)\r\n",
      "  (if (null? list1) list2\r\n",
      "      (cons (car list1) (append (cdr list1) list2))))\r\n"
     ]
    }
   ],
   "source": [
    "cat 2.2/Example_6/append-two-lists.scm"
   ]
  },
  {
   "cell_type": "markdown",
   "metadata": {},
   "source": [
    "### Running Instance:"
   ]
  },
  {
   "cell_type": "raw",
   "metadata": {},
   "source": [
    "1 ]=> (load \"2.2/Example_6/append-two-lists.scm\")\n",
    "\n",
    ";Loading \"2.2/Example_6/append-two-lists.scm\"... done\n",
    ";Value: append\n",
    "\n",
    "1 ]=> (define squares (list 1 4 9 16 25))\n",
    "\n",
    ";Value: squares\n",
    "\n",
    "1 ]=> (define odds (list 1 3 5 7 9 11))\n",
    "\n",
    ";Value: odds\n",
    "\n",
    "1 ]=> (append squares odds)\n",
    "\n",
    ";Value 15: (1 4 9 16 25 1 3 5 7 9 11)\n",
    "\n",
    "1 ]=> (append odds squares)\n",
    "\n",
    ";Value 16: (1 3 5 7 9 11 1 4 9 16 25)"
   ]
  },
  {
   "cell_type": "markdown",
   "metadata": {
    "collapsed": true
   },
   "source": [
    "## Exercise 2.17: \n",
    "Define a procedure $\\texttt{last-pair}$ that returns the list that contains only the last element of a given (nonempty) list:"
   ]
  },
  {
   "cell_type": "raw",
   "metadata": {},
   "source": [
    "(last-pair (list 23 72 149 34))\n",
    "(34)"
   ]
  },
  {
   "cell_type": "markdown",
   "metadata": {},
   "source": [
    "## Answer:"
   ]
  },
  {
   "cell_type": "code",
   "execution_count": 1,
   "metadata": {
    "collapsed": false
   },
   "outputs": [
    {
     "name": "stdout",
     "output_type": "stream",
     "text": [
      "(define (last-pair items)\r\n",
      "  (cond ((null? items)\r\n",
      "         (error \"list is empty -- LAST-PAIR\"))\r\n",
      "        ((null? (cdr items)) items)\r\n",
      "        (else (last-pair (cdr items)))))\r\n"
     ]
    }
   ],
   "source": [
    "cat 2.2/Exercise_2.17/last-pair.scm"
   ]
  },
  {
   "cell_type": "markdown",
   "metadata": {},
   "source": [
    "### Running Instance:"
   ]
  },
  {
   "cell_type": "raw",
   "metadata": {},
   "source": [
    "1 ]=> (load \"2.2/Exercise_2.17/last-pair.scm\")\n",
    "\n",
    ";Loading \"2.2/Exercise_2.17/last-pair.scm\"... done\n",
    ";Value: last-pair\n",
    "\n",
    "1 ]=> (last-pair (list 23 72 149 34))\n",
    "\n",
    ";Value 13: (34)\n",
    "\n",
    "1 ]=> (last-pair (list 23))\n",
    "\n",
    ";Value 14: (23)\n",
    "\n",
    "1 ]=> (last-pair (list))\n",
    "\n",
    ";list is empty -- LAST-PAIR\n",
    ";To continue, call RESTART with an option number:\n",
    "; (RESTART 1) => Return to read-eval-print level 1."
   ]
  },
  {
   "cell_type": "markdown",
   "metadata": {},
   "source": [
    "## Exercise 2.18: \n",
    "Define a procedure $\\texttt{reverse}$ that takes a list as argument and returns a list of the same elements in reverse order:"
   ]
  },
  {
   "cell_type": "raw",
   "metadata": {},
   "source": [
    "(reverse (list 1 4 9 16 25))\n",
    "(25 16 9 4 1)"
   ]
  },
  {
   "cell_type": "markdown",
   "metadata": {},
   "source": [
    "## Answer:"
   ]
  },
  {
   "cell_type": "code",
   "execution_count": 2,
   "metadata": {
    "collapsed": false
   },
   "outputs": [
    {
     "name": "stdout",
     "output_type": "stream",
     "text": [
      "(define (reverse items)\r\n",
      "  (define (iter remained-items result)\r\n",
      "    (if (null? remained-items) result\r\n",
      "        (iter (cdr remained-items))\r\n",
      "              (cons (car remained-items) result)))\r\n",
      "  (iter items '()))\r\n"
     ]
    }
   ],
   "source": [
    "cat 2.2/Exercise_2.18/reverse.scm"
   ]
  },
  {
   "cell_type": "markdown",
   "metadata": {},
   "source": [
    "### Running Instance:"
   ]
  },
  {
   "cell_type": "raw",
   "metadata": {},
   "source": [
    "1 ]=> (load \"2.2/Exercise_2.18/reverse.scm\")\n",
    "\n",
    ";Loading \"2.2/Exercise_2.18/reverse.scm\"... done\n",
    ";Value: reverse\n",
    "\n",
    "1 ]=> (reverse (list 1 4 9 16 25))\n",
    "\n",
    ";Value 16: (25 16 9 4 1)"
   ]
  },
  {
   "cell_type": "markdown",
   "metadata": {},
   "source": [
    "## Exercise 2.19: \n",
    "Consider the change-counting program of Section 1.2.2. It would be nice to be able to easily change the currency used by the program, so that we could compute the number of ways to change a British pound, for example. As the program is wrien, the knowledge of the currency is distributed partly into the procedure $\\texttt{first-denomination}$ and partly into the procedure $\\texttt{count-change}$ (which knows that there are five kinds of U.S. coins). It would be nicer to be able to supply a list of coins to be used for making change."
   ]
  },
  {
   "cell_type": "markdown",
   "metadata": {},
   "source": [
    "We want to rewrite the procedure $\\texttt{cc}$ so that its second argument is a list of the values of the coins to use rather than an integer specifying which coins to use. We could then have lists that defined each kind of currency:"
   ]
  },
  {
   "cell_type": "raw",
   "metadata": {},
   "source": [
    "(define us-coins (list 50 25 10 5 1))\n",
    "(define uk-coins (list 100 50 20 10 5 2 1 0.5))"
   ]
  },
  {
   "cell_type": "markdown",
   "metadata": {},
   "source": [
    "We could then call $\\texttt{cc}$ as follows:"
   ]
  },
  {
   "cell_type": "raw",
   "metadata": {},
   "source": [
    "(cc 100 us-coins)\n",
    "292"
   ]
  },
  {
   "cell_type": "markdown",
   "metadata": {},
   "source": [
    "To do this will require changing the program $\\texttt{cc}$ somewhat.It will still have the same form, but it will access its second argument differently, as follows:"
   ]
  },
  {
   "cell_type": "raw",
   "metadata": {},
   "source": [
    "(define (cc amount coin-values)\n",
    "  (cond ((= amount 0) 1)\n",
    "      ((or (< amount 0) (no-more? coin-values)) 0)\n",
    "      (else (+ (cc amount (except-first-denomination coin-values))\n",
    "          (cc (- amount (first-denomination coin-values)) coin-values)))))"
   ]
  },
  {
   "cell_type": "markdown",
   "metadata": {},
   "source": [
    "Define the procedures $\\texttt{first-denomination}$, $\\texttt{except-firstdenomination}$, and $\\texttt{no-more?}$ in terms of primitive operations on list structures. Does the order of the list $\\texttt{coin-values}$ affect the answer produced by $\\texttt{cc}$? Why or why not?"
   ]
  },
  {
   "cell_type": "markdown",
   "metadata": {},
   "source": [
    "## Answer:"
   ]
  },
  {
   "cell_type": "code",
   "execution_count": 3,
   "metadata": {
    "collapsed": false
   },
   "outputs": [
    {
     "name": "stdout",
     "output_type": "stream",
     "text": [
      "(define us-coins (list 50 25 10 5 1))\r\n",
      "(define uk-coins (list 100 50 20 10 5 2 1 0.5))\r\n",
      "\r\n",
      "(define (first-denomination coin-values) (car coin-values))\r\n",
      "(define (except-first-denomination coin-values) (cdr coin-values))\r\n",
      "(define (no-more? coin-values) (null? coin-values))\r\n",
      "\r\n",
      "(define (cc amount coin-values)\r\n",
      "  (cond ((= amount 0) 1)\r\n",
      "        ((or (< amount 0) (no-more? coin-values)) 0)\r\n",
      "        (else (+ (cc amount (except-first-denomination coin-values))\r\n",
      "                 (cc (- amount (first-denomination coin-values)) coin-values)))))\r\n"
     ]
    }
   ],
   "source": [
    "cat 2.2/Exercise_2.19/cc.scm"
   ]
  },
  {
   "cell_type": "markdown",
   "metadata": {},
   "source": [
    "### Running Instance:"
   ]
  },
  {
   "cell_type": "raw",
   "metadata": {},
   "source": [
    "1 ]=> (load \"2.2/Exercise_2.19/cc.scm\")\n",
    "\n",
    ";Loading \"2.2/Exercise_2.19/cc.scm\"... done\n",
    ";Value: cc\n",
    "\n",
    "1 ]=> (cc 100 us-coins)\n",
    "\n",
    ";Value: 292\n",
    "\n",
    "1 ]=> (cc 100 uk-coins)\n",
    "\n",
    ";Value: 104561"
   ]
  },
  {
   "cell_type": "markdown",
   "metadata": {},
   "source": [
    "$\\bullet\\quad$The order of the list $\\texttt{coin-values}$ does't affect the $\\textrm{answer}$ produced by $\\texttt{cc}$.In order to prove the fact,we can $\\texttt{reverse}$ the list $\\texttt{coin-values}$"
   ]
  },
  {
   "cell_type": "raw",
   "metadata": {},
   "source": [
    "1 ]=> (cc 100 (reverse us-coins))\n",
    "\n",
    ";Value: 292\n",
    "\n",
    "1 ]=> (cc 100 (reverse uk-coins))\n",
    "\n",
    ";Value: 104561"
   ]
  },
  {
   "cell_type": "markdown",
   "metadata": {},
   "source": [
    "## Exercise 2.20: \n",
    "The procedures $\\text{+}$, $\\ast$ and $\\text{list}$ take arbitrary numbers of arguments. One way to define such procedures is to use $\\textrm{define}$ with $\\textbf{dotted-tail}$ notation. In a procedure definition, a parameter list that has a dot before the last parameter name indicates that, when the procedure is called, the initial parameters (if any) will have as values the initial arguments, as usual, but the final parameter’s value will be a list of any remaining arguments. For instance, given the definition"
   ]
  },
  {
   "cell_type": "raw",
   "metadata": {},
   "source": [
    "(define (f x y . z) ⟨body⟩)"
   ]
  },
  {
   "cell_type": "markdown",
   "metadata": {},
   "source": [
    "Or,"
   ]
  },
  {
   "cell_type": "raw",
   "metadata": {},
   "source": [
    "(define f (lambda (x y . z) ⟨body⟩))"
   ]
  },
  {
   "cell_type": "markdown",
   "metadata": {
    "collapsed": true
   },
   "source": [
    "the procedure $f$ can be called with two or more arguments.If we evaluate"
   ]
  },
  {
   "cell_type": "raw",
   "metadata": {
    "collapsed": true
   },
   "source": [
    "(f 1 2 3 4 5 6)"
   ]
  },
  {
   "cell_type": "markdown",
   "metadata": {},
   "source": [
    "then in the body of $f$, $x$ will be $\\texttt{1}$, $y$ will be $\\texttt{2}$, and $z$ will be the list $\\textrm{(3 4 5 6)}$."
   ]
  },
  {
   "cell_type": "markdown",
   "metadata": {},
   "source": [
    "Given the definition"
   ]
  },
  {
   "cell_type": "raw",
   "metadata": {},
   "source": [
    "(define (g . w) ⟨body⟩)"
   ]
  },
  {
   "cell_type": "markdown",
   "metadata": {},
   "source": [
    "Or,"
   ]
  },
  {
   "cell_type": "raw",
   "metadata": {},
   "source": [
    "(define g (lambda w ⟨body⟩))"
   ]
  },
  {
   "cell_type": "markdown",
   "metadata": {},
   "source": [
    "the procedure $g$ can be called with zero or more arguments.If we evaluate"
   ]
  },
  {
   "cell_type": "raw",
   "metadata": {},
   "source": [
    "(g 1 2 3 4 5 6)"
   ]
  },
  {
   "cell_type": "markdown",
   "metadata": {},
   "source": [
    "then in the body of $g$, $w$ will be the list $\\textrm{(1 2 3 4 5 6)}$."
   ]
  },
  {
   "cell_type": "markdown",
   "metadata": {},
   "source": [
    "Use this notation to write a procedure $\\texttt{same-parity}$ that takes one or more integers and returns a list of all the arguments that have the same even-odd parity as the first argument. For example,"
   ]
  },
  {
   "cell_type": "raw",
   "metadata": {},
   "source": [
    "(same-parity 1 2 3 4 5 6 7)\n",
    "(1 3 5 7)\n",
    "(same-parity 2 3 4 5 6 7)\n",
    "(2 4 6)"
   ]
  },
  {
   "cell_type": "markdown",
   "metadata": {},
   "source": [
    "## Answer:"
   ]
  },
  {
   "cell_type": "markdown",
   "metadata": {},
   "source": [
    "We can use $\\texttt{odd?}$, $\\texttt{even?}$, and $\\texttt{filter}$ primitive procedures to achieve the procedure $\\texttt{same-parity}$"
   ]
  },
  {
   "cell_type": "code",
   "execution_count": 4,
   "metadata": {
    "collapsed": false
   },
   "outputs": [
    {
     "name": "stdout",
     "output_type": "stream",
     "text": [
      "(define (same-parity sample . others)\r\n",
      "  (filter (if (even? sample) even? odd?)\r\n",
      "          (cons sample others)))\r\n"
     ]
    }
   ],
   "source": [
    "cat 2.2/Exercise_2.20/same-parity.scm"
   ]
  },
  {
   "cell_type": "markdown",
   "metadata": {},
   "source": [
    "### Running Instance:"
   ]
  },
  {
   "cell_type": "raw",
   "metadata": {},
   "source": [
    "1 ]=> (filter even? (list 1 2 3 4 5 6 7))\n",
    "\n",
    ";Value 18: (2 4 6)\n",
    "\n",
    "1 ]=> (load \"2.2/Exercise_2.20/same-parity.scm\")\n",
    "\n",
    ";Loading \"2.2/Exercise_2.20/same-parity.scm\"... done\n",
    ";Value: same-parity\n",
    "\n",
    "1 ]=> (same-parity 1 2 3 4 5 6 7)\n",
    "\n",
    ";Value 19: (1 3 5 7)\n",
    "\n",
    "1 ]=> (same-parity 2 3 4 5 6 7)\n",
    "\n",
    ";Value 20: (2 4 6)"
   ]
  },
  {
   "cell_type": "markdown",
   "metadata": {},
   "source": [
    "### Mapping over lists"
   ]
  },
  {
   "cell_type": "markdown",
   "metadata": {},
   "source": [
    "One extremely useful operation is to apply some transformation to each element in a list and generate the list of results."
   ]
  },
  {
   "cell_type": "markdown",
   "metadata": {},
   "source": [
    "## Example 7: Scale each number in a list"
   ]
  },
  {
   "cell_type": "markdown",
   "metadata": {},
   "source": [
    " For instance, the following procedure scales each number in a list by a given factor:"
   ]
  },
  {
   "cell_type": "code",
   "execution_count": 6,
   "metadata": {
    "collapsed": false
   },
   "outputs": [
    {
     "name": "stdout",
     "output_type": "stream",
     "text": [
      "(define (scale-list items factor)\r\n",
      "  (if (null? items) '()\r\n",
      "      (cons (* (car items) factor)\r\n",
      "            (scale-list (cdr items) factor))))\r\n"
     ]
    }
   ],
   "source": [
    "cat 2.2/Example_7/scale-list.scm"
   ]
  },
  {
   "cell_type": "markdown",
   "metadata": {},
   "source": [
    "### Running Instance:"
   ]
  },
  {
   "cell_type": "raw",
   "metadata": {},
   "source": [
    "1 ]=> (load \"2.2/Example_7/scale-list.scm\")\n",
    "\n",
    ";Loading \"2.2/Example_7/scale-list.scm\"... done\n",
    ";Value: scale-list\n",
    "\n",
    "1 ]=> (scale-list (list 1 2 3 4 5) 10)\n",
    "\n",
    ";Value 13: (10 20 30 40 50)"
   ]
  },
  {
   "cell_type": "markdown",
   "metadata": {},
   "source": [
    "We can abstract this general idea and capture it as a common pattern expressed as a higher-order procedure, just as in Section 1.3. The higher-order procedure here is called $\\texttt{map}$.$\\texttt{map}$ takes as arguments a procedure of one argument and a list, and returns a list of the results produced by applying the procedure to each element in the list:"
   ]
  },
  {
   "cell_type": "code",
   "execution_count": 9,
   "metadata": {
    "collapsed": false
   },
   "outputs": [
    {
     "name": "stdout",
     "output_type": "stream",
     "text": [
      "(define (map proc items)\r\n",
      "  (if (null? items) '()\r\n",
      "      (cons (proc (car items))\r\n",
      "            (map proc (cdr items)))))\r\n"
     ]
    }
   ],
   "source": [
    "cat 2.2/Example_7/map.scm"
   ]
  },
  {
   "cell_type": "markdown",
   "metadata": {},
   "source": [
    "### Running Instance:"
   ]
  },
  {
   "cell_type": "raw",
   "metadata": {},
   "source": [
    "1 ]=> (load \"2.2/Example_7/map.scm\")\n",
    "\n",
    ";Loading \"2.2/Example_7/map.scm\"... done\n",
    ";Value: map\n",
    "\n",
    "1 ]=> (map abs (list -10 2.5 -11.6 17))\n",
    "\n",
    ";Value 16: (10 2.5 11.6 17)\n",
    "\n",
    "1 ]=> (map (lambda (x) (* x x)) (list 1 2 3 4))\n",
    "\n",
    ";Value 17: (1 4 9 16)"
   ]
  },
  {
   "cell_type": "markdown",
   "metadata": {},
   "source": [
    "Scheme standardly provides a $\\texttt{map}$ procedure that is more general than the one described here. This more general $\\texttt{map}$ takes a procedure of $n$ arguments, together with $n$ lists, and applies the procedure to all the first elements of the lists, all the second elements of the lists, and so on, returning a list of the results. For example:"
   ]
  },
  {
   "cell_type": "raw",
   "metadata": {},
   "source": [
    "1 ]=> (map + (list 1 2 3) (list 40 50 60) (list 700 800 900))\n",
    "\n",
    ";Value 13: (741 852 963)\n",
    "\n",
    "1 ]=> (map (lambda (x y) (+ x (* 2 y))) (list 1 2 3) (list 4 5 6))\n",
    "\n",
    ";Value 14: (9 12 15)"
   ]
  },
  {
   "cell_type": "markdown",
   "metadata": {},
   "source": [
    "Now we can give a new definition of $\\texttt{scale-list}$ in terms of $\\texttt{map}$:"
   ]
  },
  {
   "cell_type": "code",
   "execution_count": 10,
   "metadata": {
    "collapsed": false
   },
   "outputs": [
    {
     "name": "stdout",
     "output_type": "stream",
     "text": [
      "(define (scale-list items factor)\r\n",
      "  (map (lambda (x) (* x factor)) items))\r\n"
     ]
    }
   ],
   "source": [
    "cat 2.2/Example_7/scale-list-by-map.scm"
   ]
  },
  {
   "cell_type": "markdown",
   "metadata": {},
   "source": [
    "$\\texttt{map}$ is an important construct, not only because it captures a common pattern, but because it establishes a higher level of abstraction in dealing with lists. In the original definition of $\\texttt{scale-list}$, the recursive structure of the program draws attention to the element-by-element processing of the list. Defining $\\texttt{scale-list}$ in terms of $\\texttt{map}$ suppresses that level of detail and emphasizes that scaling transforms a list of elements to a list of results. The difference between the two definitions is not that the computer is performing a different process (it isn’t) but that we think about the process differently. In effect, $\\texttt{map}$ helps establish an abstraction barrier that isolates the implementation of procedures that transform lists from the details of how the elements of the list are extracted and combined. Like the barriers shown in Figure 2.1, this abstraction gives us the flexibility to change the low-level details of how sequences are implemented, while preserving the conceptual framework of operations that transform sequences to sequences. Section 2.2.3 expands on this use of sequences as a framework for organizing programs."
   ]
  },
  {
   "cell_type": "markdown",
   "metadata": {},
   "source": [
    "## Exercise 2.21: \n",
    "The procedure $\\texttt{square-list}$ takes a list of numbers as argument and returns a list of the squares of those numbers."
   ]
  },
  {
   "cell_type": "raw",
   "metadata": {},
   "source": [
    "(square-list (list 1 2 3 4))\n",
    "(1 4 9 16)"
   ]
  },
  {
   "cell_type": "markdown",
   "metadata": {},
   "source": [
    "Here are two different definitions of $\\texttt{square-list}$. Complete both of them by filling in the missing expressions:"
   ]
  },
  {
   "cell_type": "raw",
   "metadata": {},
   "source": [
    "(define (square-list items)\n",
    "  (if (null? items) nil\n",
    "`    (cons ⟨??⟩ ⟨??⟩)))"
   ]
  },
  {
   "cell_type": "raw",
   "metadata": {},
   "source": [
    "(define (square-list items)\n",
    "  (map ⟨??⟩ ⟨??⟩))"
   ]
  },
  {
   "cell_type": "markdown",
   "metadata": {},
   "source": [
    "## Answer:"
   ]
  },
  {
   "cell_type": "code",
   "execution_count": 11,
   "metadata": {
    "collapsed": false
   },
   "outputs": [
    {
     "name": "stdout",
     "output_type": "stream",
     "text": [
      "(define (square-list items)\r\n",
      "  (if (null? items) '()\r\n",
      "      (cons (square (car items))\r\n",
      "            (square-list (cdr items)))))\r\n"
     ]
    }
   ],
   "source": [
    "cat 2.2/Exercise_2.21/square-list.scm"
   ]
  },
  {
   "cell_type": "markdown",
   "metadata": {},
   "source": [
    "### Running Instance:"
   ]
  },
  {
   "cell_type": "raw",
   "metadata": {},
   "source": [
    "1 ]=> (load \"2.2/Exercise_2.21/square-list.scm\")\n",
    "\n",
    ";Loading \"2.2/Exercise_2.21/square-list.scm\"... done\n",
    ";Value: square-list\n",
    "\n",
    "1 ]=> (square-list (list 1 2 3 4))\n",
    "\n",
    ";Value 13: (1 4 9 16)"
   ]
  },
  {
   "cell_type": "code",
   "execution_count": 12,
   "metadata": {
    "collapsed": false
   },
   "outputs": [
    {
     "name": "stdout",
     "output_type": "stream",
     "text": [
      "(load \"2.2/Example_7/map.scm\")\r\n",
      "(define (square-list items)\r\n",
      "  (map square items))\r\n"
     ]
    }
   ],
   "source": [
    "cat 2.2/Exercise_2.21/square-list-by-map.scm"
   ]
  },
  {
   "cell_type": "markdown",
   "metadata": {},
   "source": [
    "### Running Instance:"
   ]
  },
  {
   "cell_type": "raw",
   "metadata": {},
   "source": [
    "1 ]=> (load \"2.2/Exercise_2.21/square-list-by-map.scm\")\n",
    "\n",
    ";Loading \"2.2/Exercise_2.21/square-list-by-map.scm\"...\n",
    ";  Loading \"2.2/Example_7/map.scm\"... done\n",
    ";... done\n",
    ";Value: square-list\n",
    "\n",
    "1 ]=> (square-list (list 1 2 3 4))\n",
    "\n",
    ";Value 14: (1 4 9 16)"
   ]
  },
  {
   "cell_type": "markdown",
   "metadata": {},
   "source": [
    "## Exercise 2.22: \n",
    "Louis Reasoner tries to rewrite the first $\\texttt{square-list}$ procedure of Exercise 2.21 so that it evolves an $\\text{iterative}$ process:"
   ]
  },
  {
   "cell_type": "code",
   "execution_count": 13,
   "metadata": {
    "collapsed": false
   },
   "outputs": [
    {
     "name": "stdout",
     "output_type": "stream",
     "text": [
      "(define (square-list items)\r\n",
      "  (define (iter things answer)\r\n",
      "    (if (null? things) answer\r\n",
      "        (iter (cdr things)\r\n",
      "              (cons (square (car things)) answer))))\r\n",
      "  (iter items '())\r\n"
     ]
    }
   ],
   "source": [
    "cat 2.2/Exercise_2.22/square-list.scm"
   ]
  },
  {
   "cell_type": "markdown",
   "metadata": {},
   "source": [
    "Unfortunately, defining $\\texttt{square-list}$ this way produces the answer list in the $\\text{reverse}$ order of the one desired. Why?"
   ]
  },
  {
   "cell_type": "markdown",
   "metadata": {},
   "source": [
    "Louis then tries to fix his bug by interchanging the arguments to $\\texttt{cons}$:"
   ]
  },
  {
   "cell_type": "code",
   "execution_count": 17,
   "metadata": {
    "collapsed": false
   },
   "outputs": [
    {
     "name": "stdout",
     "output_type": "stream",
     "text": [
      "(define (square-list items)\r\n",
      "  (define (iter things answer)\r\n",
      "    (if (null? things) answer\r\n",
      "        (iter (cdr things)\r\n",
      "              (cons answer (square (car things))))))\r\n",
      "  (iter items '()))\r\n"
     ]
    }
   ],
   "source": [
    "cat 2.2/Exercise_2.22/square-list-error.scm"
   ]
  },
  {
   "cell_type": "markdown",
   "metadata": {},
   "source": [
    "This doesn’t work either. Explain."
   ]
  },
  {
   "cell_type": "markdown",
   "metadata": {},
   "source": [
    "## Answer:"
   ]
  },
  {
   "cell_type": "markdown",
   "metadata": {},
   "source": [
    "$\\bullet\\quad$ Expand the expression $\\textrm{(square-list (list 1 2 3 4))}$ by calling $\\text{square-list.scm}$"
   ]
  },
  {
   "cell_type": "raw",
   "metadata": {},
   "source": [
    "(square-list '(1 2 3 4))\n",
    "\n",
    "(iter '(1 2 3 4) '())\n",
    "\n",
    "(iter '(2 3 4) '(1))\n",
    "\n",
    "(iter '(3 4) '(4 1))\n",
    "\n",
    "(iter '(4) '(9 4 1))\n",
    "\n",
    "(iter '() '(16 9 4 1))\n",
    "\n",
    "'(16 9 4 1)"
   ]
  },
  {
   "cell_type": "markdown",
   "metadata": {},
   "source": [
    "If we remove $\\texttt{square}$ calling above given, it becomes to the $\\texttt{reverse}$ procedure in Exercise_2.18:"
   ]
  },
  {
   "cell_type": "code",
   "execution_count": 15,
   "metadata": {
    "collapsed": false
   },
   "outputs": [
    {
     "name": "stdout",
     "output_type": "stream",
     "text": [
      "(define (reverse items)\r\n",
      "  (define (iter remained-items result)\r\n",
      "    (if (null? remained-items) result\r\n",
      "        (iter (cdr remained-items)\r\n",
      "              (cons (car remained-items) result))))\r\n",
      "  (iter items '()))\r\n"
     ]
    }
   ],
   "source": [
    "cat 2.2/Exercise_2.18/reverse.scm"
   ]
  },
  {
   "cell_type": "markdown",
   "metadata": {},
   "source": [
    "In fact,we can get the correct $\\texttt{square-list}$ iterative procedure through minor changes:"
   ]
  },
  {
   "cell_type": "code",
   "execution_count": 16,
   "metadata": {
    "collapsed": false
   },
   "outputs": [
    {
     "name": "stdout",
     "output_type": "stream",
     "text": [
      "(define (square-list items)\r\n",
      "  (define (iter things answer)\r\n",
      "    (if (null? things)\r\n",
      "        (reverse answer)\r\n",
      "        (iter (cdr things)\r\n",
      "              (cons (square (car things)) answer))))\r\n",
      "  (iter items '()))\r\n"
     ]
    }
   ],
   "source": [
    "cat 2.2/Exercise_2.22/square-list-right.scm"
   ]
  },
  {
   "cell_type": "markdown",
   "metadata": {},
   "source": [
    "### Running Instance:"
   ]
  },
  {
   "cell_type": "raw",
   "metadata": {},
   "source": [
    ";Loading \"2.2/Exercise_2.22/square-list-right.scm\"... done\n",
    ";Value: square-list\n",
    "\n",
    "1 ]=> (square-list '(1 2 3 4))\n",
    "\n",
    ";Value 13: (1 4 9 16)"
   ]
  },
  {
   "cell_type": "markdown",
   "metadata": {},
   "source": [
    "$\\bullet\\quad$Expand the expression $\\textrm{(square-list (list 1 2 3 4))}$ by calling $\\text{square-list-error.scm}$"
   ]
  },
  {
   "cell_type": "raw",
   "metadata": {},
   "source": [
    "(square-list '(1 2 3 4))\n",
    "\n",
    "(iter '(1 2 3 4) '())\n",
    "\n",
    "(iter '(2 3 4) (cons '() 1))\n",
    "\n",
    "(iter '(3 4) (cons (cons '() 1) 4))\n",
    "\n",
    "(iter '(4) (cons (cons (cons '() 1) 4) 9))\n",
    "\n",
    "(iter '() (cons (cons (cons (cons '() 1) 4) 9) 16))\n",
    "\n",
    "(cons (cons (cons (cons '() 1) 4) 9) 16)"
   ]
  },
  {
   "cell_type": "markdown",
   "metadata": {},
   "source": [
    "The result is not a $\\texttt{list}$."
   ]
  },
  {
   "cell_type": "markdown",
   "metadata": {},
   "source": [
    "When running this procedure,you can see:"
   ]
  },
  {
   "cell_type": "raw",
   "metadata": {},
   "source": [
    ";Loading \"2.2/Exercise_2.22/square-list-error.scm\"... done\n",
    ";Value: square-list\n",
    "\n",
    "1 ]=> (square-list '(1 2 3 4))\n",
    "\n",
    ";Value 14: ((((() . 1) . 4) . 9) . 16)"
   ]
  },
  {
   "cell_type": "markdown",
   "metadata": {},
   "source": [
    "## Exercise 2.23: \n",
    "The procedure $\\texttt{for-each}$ is similar to $\\texttt{map}$. It takes as arguments a procedure and a list of elements. However, rather than forming a list of the results, $\\texttt{for-each}$ just applies the procedure to each of the elements in turn, from left to right. The values returned by applying the procedure to the elements are not used at all—$\\texttt{for-each}$ is used with procedures that perform an action, such as $\\text{printing}$. For example,"
   ]
  },
  {
   "cell_type": "raw",
   "metadata": {},
   "source": [
    "1 ]=> (for-each (lambda (x) (newline) (display x)) (list 57 321 88))\n",
    "\n",
    "57\n",
    "321\n",
    "88"
   ]
  },
  {
   "cell_type": "markdown",
   "metadata": {},
   "source": [
    "The value returned by the call to $\\texttt{for-each}$ (not illustrated above) can be something arbitrary, such as $\\text{true}$. Give an implementation of $\\texttt{for-each}$."
   ]
  },
  {
   "cell_type": "markdown",
   "metadata": {},
   "source": [
    "## 解答："
   ]
  },
  {
   "cell_type": "markdown",
   "metadata": {},
   "source": [
    "$\\spadesuit\\quad$使用特殊形式$\\texttt{begin}$和$\\texttt{if}$来实现$\\texttt{for-each}$"
   ]
  },
  {
   "cell_type": "code",
   "execution_count": 19,
   "metadata": {
    "collapsed": false
   },
   "outputs": [
    {
     "name": "stdout",
     "output_type": "stream",
     "text": [
      "(define (for-each proc items)\r\n",
      "  (if (not (null? items))\r\n",
      "      (begin\r\n",
      "        (proc (car items))\r\n",
      "        (for-each proc (cdr items)))))\r\n"
     ]
    }
   ],
   "source": [
    "cat 2.2/Exercise_2.23/for-each-by-if.scm"
   ]
  },
  {
   "cell_type": "markdown",
   "metadata": {},
   "source": [
    "特殊形式$\\texttt{begin}$可以确保多条表达式按顺序求值，它可以将多条表达式当作一条表达式来运行，因此可以用在只支持单条表达式的$\\texttt{if}$特殊形式中。"
   ]
  },
  {
   "cell_type": "markdown",
   "metadata": {},
   "source": [
    "### Running Instance:"
   ]
  },
  {
   "cell_type": "raw",
   "metadata": {},
   "source": [
    "1 ]=> (load \"2.2/Exercise_2.23/for-each-by-if.scm\")\n",
    "\n",
    ";Loading \"2.2/Exercise_2.23/for-each-by-if.scm\"... done\n",
    ";Value: for-each\n",
    "\n",
    "1 ]=> (for-each (lambda (x) (newline) (display x)) (list 57 321 88))\n",
    "\n",
    "57\n",
    "321\n",
    "88"
   ]
  },
  {
   "cell_type": "markdown",
   "metadata": {},
   "source": [
    "$\\spadesuit\\quad$使用特殊形式$\\texttt{cond}$来实现$\\texttt{for-each}$"
   ]
  },
  {
   "cell_type": "code",
   "execution_count": 20,
   "metadata": {
    "collapsed": false
   },
   "outputs": [
    {
     "name": "stdout",
     "output_type": "stream",
     "text": [
      "(define (for-each proc items)\r\n",
      "  (cond ((not (null? items))\r\n",
      "         (proc (car items))\r\n",
      "         (for-each proc (cdr items)))))\r\n"
     ]
    }
   ],
   "source": [
    "cat 2.2/Exercise_2.23/for-each-by-cond.scm"
   ]
  },
  {
   "cell_type": "markdown",
   "metadata": {},
   "source": [
    "$\\texttt{cond}$特殊形式支持多条表达式，因此可以直接将两个表达式都放进 cond 形式之内。  \n",
    "实际上，$\\texttt{cond}$特殊形式体内有一个隐式的$\\texttt{begin}$."
   ]
  },
  {
   "cell_type": "markdown",
   "metadata": {},
   "source": [
    "### Running Instance:"
   ]
  },
  {
   "cell_type": "raw",
   "metadata": {},
   "source": [
    "1 ]=> (load \"2.2/Exercise_2.23/for-each-by-cond.scm\")\n",
    "\n",
    ";Loading \"2.2/Exercise_2.23/for-each-by-cond.scm\"... done\n",
    ";Value: for-each\n",
    "\n",
    "1 ]=> (for-each (lambda (x) (newline) (display x)) (list 57 321 88))\n",
    "\n",
    "57\n",
    "321\n",
    "88"
   ]
  },
  {
   "cell_type": "markdown",
   "metadata": {},
   "source": [
    "## 2.2.2 Hierarchical Structures"
   ]
  },
  {
   "cell_type": "markdown",
   "metadata": {},
   "source": [
    "The representation of sequences in terms of lists generalizes naturally to represent sequences whose elements may themselves be sequences. For example, we can regard the object $\\textrm{((1 2) 3 4)}$ constructed by"
   ]
  },
  {
   "cell_type": "markdown",
   "metadata": {},
   "source": [
    "(cons (list 1 2) (list 3 4))"
   ]
  },
  {
   "cell_type": "markdown",
   "metadata": {},
   "source": [
    "as a list of three items, the first of which is itself a list, $\\textrm{(1 2)}$. Indeed, this is suggested by the form in which the result is printed by the interpreter. Figure 2.5 shows the representation of this structure in terms of pairs."
   ]
  },
  {
   "cell_type": "markdown",
   "metadata": {},
   "source": [
    "Another way to think of sequences whose elements are sequences is as $\\texttt{trees}$. The elements of the sequence are the branches of the tree, and elements that are themselves sequences are $\\texttt{subtrees}$. Figure 2.6 shows the structure in Figure 2.5 viewed as a tree."
   ]
  },
  {
   "cell_type": "markdown",
   "metadata": {},
   "source": [
    "$\\text{Recursion}$ is a natural tool for dealing with $\\texttt{tree}$ structures, since we can often reduce operations on trees to operations on their branches,which reduce in turn to operations on the branches of the branches, and so on, until we reach the $\\texttt{leaves}$ of the tree."
   ]
  },
  {
   "cell_type": "markdown",
   "metadata": {},
   "source": [
    "## Example 8: Compute the number of leaves of a tree"
   ]
  },
  {
   "cell_type": "markdown",
   "metadata": {},
   "source": [
    "As an example, compare the $\\texttt{length}$ procedure of Section 2.2.1 with the $\\texttt{count-leaves}$ procedure, which returns the total number of leaves of a tree.To implement $\\texttt{count-leaves}$, recall the $\\text{recursive}$ plan for computing $\\texttt{length}$:"
   ]
  },
  {
   "cell_type": "markdown",
   "metadata": {},
   "source": [
    "$\\bullet\\quad$$\\texttt{length}$ of a list $\\text{x}$ is $\\text{1}$ plus $\\texttt{length}$ of the $\\texttt{cdr}$ of $\\text{x}$."
   ]
  },
  {
   "cell_type": "markdown",
   "metadata": {},
   "source": [
    "$\\bullet\\quad$$\\texttt{length}$ of the empty list is $\\text{0}$."
   ]
  },
  {
   "cell_type": "markdown",
   "metadata": {},
   "source": [
    "$\\texttt{count-leaves}$ is similar. The value for the empty list is the same:"
   ]
  },
  {
   "cell_type": "markdown",
   "metadata": {},
   "source": [
    "$\\bullet\\quad$$\\texttt{count-leaves}$ of the empty list is $\\text{0}$."
   ]
  },
  {
   "cell_type": "markdown",
   "metadata": {},
   "source": [
    "But in the $\\text{reduction}$ step, where we strip off the $\\texttt{car}$ of the list, we must take into account that the $\\texttt{car}$ may itself be a tree whose leaves we need to count. Thus, the appropriate reduction step is"
   ]
  },
  {
   "cell_type": "markdown",
   "metadata": {},
   "source": [
    "$\\bullet\\quad$$\\texttt{count-leaves}$ of a tree $\\text{x}$ is $\\texttt{count-leaves}$ of the $\\texttt{car}$ of $\\text{x}$ plus $\\texttt{count-leaves}$ of the $\\texttt{cdr}$ of $\\text{x}$."
   ]
  },
  {
   "cell_type": "markdown",
   "metadata": {},
   "source": [
    "Finally, by taking cars we reach actual leaves, so we need another base case:"
   ]
  },
  {
   "cell_type": "markdown",
   "metadata": {},
   "source": [
    "$\\bullet\\quad$$\\texttt{count-leaves}$ of a leaf is $\\text{1}$."
   ]
  },
  {
   "cell_type": "markdown",
   "metadata": {},
   "source": [
    "To aid in writing recursive procedures on trees, Scheme provides the primitive predicate $\\texttt{pair?}$, which tests whether its argument is a pair. Here is the complete procedure:"
   ]
  },
  {
   "cell_type": "code",
   "execution_count": 21,
   "metadata": {
    "collapsed": false
   },
   "outputs": [
    {
     "name": "stdout",
     "output_type": "stream",
     "text": [
      "(define (count-leaves x)\r\n",
      "  (cond ((null? x) 0)\r\n",
      "        ((not (pair? x)) 1)\r\n",
      "        (else (+ (count-leaves (car x))\r\n",
      "                 (count-leaves (cdr x))))))\r\n"
     ]
    }
   ],
   "source": [
    "cat 2.2/Example_8/count-leaves.scm"
   ]
  },
  {
   "cell_type": "markdown",
   "metadata": {},
   "source": [
    "### Running Instance:"
   ]
  },
  {
   "cell_type": "raw",
   "metadata": {},
   "source": [
    ";Loading \"2.2/Example_8/count-leaves.scm\"... done\n",
    ";Value: count-leaves\n",
    "\n",
    "1 ]=> (define x (cons (list 1 2) (list 3 4)))\n",
    "\n",
    ";Value: x\n",
    "\n",
    "1 ]=> (length x)\n",
    "\n",
    ";Value: 3\n",
    "\n",
    "1 ]=> (count-leaves x)\n",
    "\n",
    ";Value: 4"
   ]
  },
  {
   "cell_type": "raw",
   "metadata": {},
   "source": [
    "1 ]=> (list x x)\n",
    "\n",
    ";Value 13: (((1 2) 3 4) ((1 2) 3 4))\n",
    "\n",
    "1 ]=> (length (list x x))\n",
    "\n",
    ";Value: 2\n",
    "\n",
    "1 ]=> (count-leaves (list x x))\n",
    "\n",
    ";Value: 8"
   ]
  },
  {
   "cell_type": "markdown",
   "metadata": {},
   "source": [
    "## Exercise 2.24: \n",
    "Suppose we evaluate the expression $\\textrm{(list 1 (list 2 (list 3 4)))}$. Give the result printed by the interpreter, the corresponding box-and-pointer structure, and the interpretation of this as a tree (as in Figure 2.6)."
   ]
  },
  {
   "cell_type": "markdown",
   "metadata": {},
   "source": [
    "## Answer:"
   ]
  },
  {
   "cell_type": "markdown",
   "metadata": {},
   "source": [
    "$\\spadesuit\\quad$The result printed by the interpreter:"
   ]
  },
  {
   "cell_type": "raw",
   "metadata": {},
   "source": [
    "1 ]=> (list 1 (list 2 (list 3 4)))\n",
    "\n",
    ";Value 14: (1 (2 (3 4)))"
   ]
  },
  {
   "cell_type": "markdown",
   "metadata": {},
   "source": [
    "$\\spadesuit\\quad$The box-and-pointer structure:"
   ]
  },
  {
   "cell_type": "raw",
   "metadata": {},
   "source": [
    "(1 (2 (3 4)))    ((2 (3 4)))\n",
    "    [*]-------------->[*]\n",
    "`    |            |\n",
    "`    |            |\n",
    "`    v            v (2 (3 4))     ((3 4))\n",
    "`    1           [*]---------------->[*]\n",
    "`                |             |\n",
    "`                |             |\n",
    "`                v             v (3 4)        (4)\n",
    "                 2            [*]--------------->[*]-------------> '()\n",
    "`                |             |\n",
    "`                |             |\n",
    "`                v             v\n",
    "`                3             4"
   ]
  },
  {
   "cell_type": "markdown",
   "metadata": {},
   "source": [
    "$\\spadesuit\\quad$The interpretation of this as a tree:"
   ]
  },
  {
   "cell_type": "raw",
   "metadata": {},
   "source": [
    "                   (1 (2 (3 4)))\n",
    "                       *\n",
    "                      /  \\\n",
    "                     /   \\\n",
    "                     1    *\n",
    "                        /  \\\n",
    "                       /   \\\n",
    "                       2    *\n",
    "`                          /  \\\n",
    "                          /   \\\n",
    "                          3    4"
   ]
  },
  {
   "cell_type": "markdown",
   "metadata": {},
   "source": [
    "## Exercise 2.25: \n",
    "Give combinations of $\\texttt{cars}$ and $\\texttt{cdrs}$ that will pick 7 from each of the following lists:"
   ]
  },
  {
   "cell_type": "raw",
   "metadata": {},
   "source": [
    "(1 3 (5 7) 9)\n",
    "((7))\n",
    "(1 (2 (3 (4 (5 (6 7))))))"
   ]
  },
  {
   "cell_type": "markdown",
   "metadata": {},
   "source": [
    "### Running Instance:"
   ]
  },
  {
   "cell_type": "markdown",
   "metadata": {},
   "source": [
    "$\\spadesuit\\quad$The expression $\\textrm{(1 3 (5 7) 9)}$"
   ]
  },
  {
   "cell_type": "raw",
   "metadata": {},
   "source": [
    "1 ]=> (define x (list 1 3 (list 5 7) 9))\n",
    "\n",
    ";Value: x\n",
    "\n",
    "1 ]=> x\n",
    "\n",
    ";Value 17: (1 3 (5 7) 9)\n",
    "\n",
    "1 ]=> (cdr x)\n",
    "\n",
    ";Value 18: (3 (5 7) 9)\n",
    "\n",
    "1 ]=> (cddr x)\n",
    "\n",
    ";Value 19: ((5 7) 9)\n",
    "\n",
    "1 ]=> (caddr x)\n",
    "\n",
    ";Value 20: (5 7)\n",
    "\n",
    "1 ]=> (cdaddr x)\n",
    "\n",
    ";Value 21: (7)\n",
    "\n",
    "1 ]=> (car (cdaddr x))\n",
    "\n",
    ";Value: 7"
   ]
  },
  {
   "cell_type": "markdown",
   "metadata": {},
   "source": [
    "$\\spadesuit\\quad$The expression $\\textrm{((7))}$"
   ]
  },
  {
   "cell_type": "raw",
   "metadata": {},
   "source": [
    "1 ]=> (define y (list (list 7)))\n",
    "\n",
    ";Value: y\n",
    "\n",
    "1 ]=> y\n",
    "\n",
    ";Value 22: ((7))\n",
    "\n",
    "1 ]=> (car y)\n",
    "\n",
    ";Value 23: (7)\n",
    "\n",
    "1 ]=> (caar y)\n",
    "\n",
    ";Value: 7"
   ]
  },
  {
   "cell_type": "markdown",
   "metadata": {},
   "source": [
    "$\\spadesuit\\quad$The expression $\\textrm{(1 (2 (3 (4 (5 (6 7))))))}$"
   ]
  },
  {
   "cell_type": "raw",
   "metadata": {},
   "source": [
    "1 ]=> (define z (list 1 (list 2 (list 3 (list 4 (list 5 (list 6 7)))))))\n",
    "\n",
    ";Value: z\n",
    "\n",
    "1 ]=> z\n",
    "\n",
    ";Value 24: (1 (2 (3 (4 (5 (6 7))))))\n",
    "\n",
    "1 ]=> (cdr z)\n",
    "\n",
    ";Value 25: ((2 (3 (4 (5 (6 7))))))\n",
    "\n",
    "1 ]=> (cadr z)\n",
    "\n",
    ";Value 26: (2 (3 (4 (5 (6 7)))))\n",
    "\n",
    "1 ]=> (cdadr z)\n",
    "\n",
    ";Value 27: ((3 (4 (5 (6 7)))))\n",
    "\n",
    "1 ]=> (cadadr z)\n",
    "\n",
    ";Value 28: (3 (4 (5 (6 7))))\n",
    "\n",
    "1 ]=> (cdr (cadadr z))\n",
    "\n",
    ";Value 29: ((4 (5 (6 7))))\n",
    "\n",
    "1 ]=> (cadr (cadadr z))\n",
    "\n",
    ";Value 30: (4 (5 (6 7)))\n",
    "\n",
    "1 ]=> (cdadr (cadadr z))\n",
    "\n",
    ";Value 31: ((5 (6 7)))\n",
    "\n",
    "1 ]=> (cdr (cadadr (cadadr z)))\n",
    "\n",
    ";Value 32: ((6 7))\n",
    "\n",
    "1 ]=> (cdadr (cadadr (cadadr z)))\n",
    "\n",
    ";Value 33: (7)\n",
    "\n",
    "1 ]=> (cadadr (cadadr (cadadr z)))\n",
    "\n",
    ";Value: 7"
   ]
  },
  {
   "cell_type": "markdown",
   "metadata": {},
   "source": [
    "## Exercise 2.26: \n",
    "Suppose we define $x$ and $y$ to be two lists:"
   ]
  },
  {
   "cell_type": "raw",
   "metadata": {},
   "source": [
    "(define x (list 1 2 3))\n",
    "(define y (list 4 5 6))"
   ]
  },
  {
   "cell_type": "markdown",
   "metadata": {},
   "source": [
    "What result is printed by the interpreter in response to evaluating each of the following expressions:"
   ]
  },
  {
   "cell_type": "raw",
   "metadata": {},
   "source": [
    "(append x y)\n",
    "(cons x y)\n",
    "(list x y)"
   ]
  },
  {
   "cell_type": "markdown",
   "metadata": {},
   "source": [
    "### Running Instance:"
   ]
  },
  {
   "cell_type": "raw",
   "metadata": {},
   "source": [
    "1 ]=> (define x (list 1 2 3))\n",
    "\n",
    ";Value: x\n",
    "\n",
    "1 ]=> (define y (list 4 5 6))\n",
    "\n",
    ";Value: y"
   ]
  },
  {
   "cell_type": "raw",
   "metadata": {},
   "source": [
    "1 ]=> (append x y)\n",
    "\n",
    ";Value 13: (1 2 3 4 5 6)"
   ]
  },
  {
   "cell_type": "raw",
   "metadata": {},
   "source": [
    "(1 2 3 4 5 6)    (2 3 4 5 6)     (3 4 5 6)    (4 5 6)    (5 6)    (6)\n",
    "[*]-------------> [*]------------> [*]---------> [*]--------> [*]-----> [*]---> nil\n",
    " |            |           |         |   `     | `     |\n",
    " v            v           v         v   `     v `     v\n",
    " 1            2           3         4   `     5 `     6"
   ]
  },
  {
   "cell_type": "raw",
   "metadata": {},
   "source": [
    "1 ]=> (cons x y)\n",
    "\n",
    ";Value 14: ((1 2 3) 4 5 6)"
   ]
  },
  {
   "cell_type": "raw",
   "metadata": {},
   "source": [
    " ((1 2 3) 4 5 6)   (4 5 6)     (5 6)     (6)\n",
    "[*]---------------> [*]--------> [*]-------> [*]---> nil\n",
    " |             |    ``    |        |\n",
    " |             v    ``    v        v\n",
    " |             4    ``    5        6\n",
    " |\n",
    " | (1 2 3)   (2 3)       (3)\n",
    "[*]---------> [*]---------> [*]-----> nil\n",
    " |         |         |\n",
    " v         v         v\n",
    " 1         2         3"
   ]
  },
  {
   "cell_type": "raw",
   "metadata": {},
   "source": [
    "1 ]=> (list x y)\n",
    "\n",
    ";Value 15: ((1 2 3) (4 5 6))"
   ]
  },
  {
   "cell_type": "raw",
   "metadata": {},
   "source": [
    " ((1 2 3) (4 5 6))    ((4 5 6))\n",
    "[*]------------------> [*]------------> nil\n",
    " |               |\n",
    " |               |\n",
    " |               | (4 5 6)    (5 6)     (6)\n",
    " |   `           [*]----------> [*]------> [*]---> nil\n",
    " |   `            |          |       |\n",
    " |   `            v          v       v\n",
    " |   `            4          5       6\n",
    " |\n",
    " | (1 2 3)    (2 3)      (3)\n",
    "[*]----------> [*]--------> [*]----> nil\n",
    " |          |      ``  |\n",
    " v          v      ``  v\n",
    " 1          2      ``  3"
   ]
  },
  {
   "cell_type": "markdown",
   "metadata": {},
   "source": [
    "## Exercise 2.27: \n",
    "Modify your $\\texttt{reverse}$ procedure of Exercise 2.18 to produce a $\\texttt{deep-reverse}$ procedure that takes a list as argument and returns as its value the list with its elements reversed and with all sublists deep-reversed as well.For example,"
   ]
  },
  {
   "cell_type": "raw",
   "metadata": {},
   "source": [
    "(define x (list (list 1 2) (list 3 4)))\n",
    "x\n",
    "((1 2) (3 4))\n",
    "\n",
    "(reverse x)\n",
    "((3 4) (1 2))\n",
    "\n",
    "(deep-reverse x)\n",
    "((4 3) (2 1))"
   ]
  },
  {
   "cell_type": "markdown",
   "metadata": {},
   "source": [
    "## Answer:"
   ]
  },
  {
   "cell_type": "code",
   "execution_count": 23,
   "metadata": {
    "collapsed": false
   },
   "outputs": [
    {
     "name": "stdout",
     "output_type": "stream",
     "text": [
      "(define (deep-reverse tree)\r\n",
      "  (cond ((null? tree) '())\r\n",
      "        ((not (pair? tree)) tree)\r\n",
      "        (else\r\n",
      "          (reverse (list (deep-reverse (car tree))\r\n",
      "                         (deep-reverse (cadr tree)))))))\r\n"
     ]
    }
   ],
   "source": [
    "cat 2.2/Exercise_2.27/deep-reverse.scm"
   ]
  },
  {
   "cell_type": "markdown",
   "metadata": {},
   "source": [
    "### Running Instance:"
   ]
  },
  {
   "cell_type": "raw",
   "metadata": {},
   "source": [
    "1 ]=> (load \"2.2/Exercise_2.27/deep-reverse.scm\")\n",
    "\n",
    ";Loading \"2.2/Exercise_2.27/deep-reverse.scm\"... done\n",
    ";Value: deep-reverse\n",
    "\n",
    "1 ]=> (define x (list (list 1 2) (list 3 4)))\n",
    "\n",
    ";Value: x\n",
    "\n",
    "1 ]=> x\n",
    "\n",
    ";Value 13: ((1 2) (3 4))\n",
    "\n",
    "1 ]=> (reverse x)\n",
    "\n",
    ";Value 14: ((3 4) (1 2))\n",
    "\n",
    "1 ]=> (deep-reverse x)\n",
    "\n",
    ";Value 15: ((4 3) (2 1))"
   ]
  },
  {
   "cell_type": "markdown",
   "metadata": {},
   "source": [
    "To make the $\\texttt{deep-reverse}$ more readable:"
   ]
  },
  {
   "cell_type": "code",
   "execution_count": 24,
   "metadata": {
    "collapsed": false
   },
   "outputs": [
    {
     "name": "stdout",
     "output_type": "stream",
     "text": [
      "(define (empty-tree? tree) (null? tree))\r\n",
      "(define (leaf? tree) (not (pair? tree)))\r\n",
      "(define (left-branch tree) (car tree))\r\n",
      "(define (right-branch tree) (cadr tree))\r\n",
      "(define (make-tree left-branch right-branch)\r\n",
      "  (list left-branch right-branch))\r\n",
      "\r\n",
      "(define (deep-reverse tree)\r\n",
      "  (cond ((empty-tree? tree) '())\r\n",
      "    ((leaf? tree) tree)\r\n",
      "    (else\r\n",
      "      (reverse (make-tree (deep-reverse (left-branch tree))\r\n",
      "                          (deep-reverse (right-branch tree)))))))\r\n"
     ]
    }
   ],
   "source": [
    "cat 2.2/Exercise_2.27/deep-reverse-easily-reading.scm"
   ]
  },
  {
   "cell_type": "markdown",
   "metadata": {
    "collapsed": true
   },
   "source": [
    "## Exercise 2.28: \n",
    "Write a procedure $\\texttt{fringe}$ that takes as argument a tree (represented as a list) and returns a list whose elements are all the leaves of the tree arranged in left-to-right order."
   ]
  },
  {
   "cell_type": "markdown",
   "metadata": {
    "collapsed": true
   },
   "source": [
    "## Answer:"
   ]
  },
  {
   "cell_type": "code",
   "execution_count": 1,
   "metadata": {
    "collapsed": false
   },
   "outputs": [
    {
     "name": "stdout",
     "output_type": "stream",
     "text": [
      "(define (fringe tree)\r\n",
      "  (cond ((null? tree) '())\r\n",
      "        ((not (pair? tree)) (list tree))\r\n",
      "        (else\r\n",
      "          (append (fringe (car tree))\r\n",
      "                  (fringe (cadr tree))))))\r\n"
     ]
    }
   ],
   "source": [
    "cat 2.2/Exercise_2.28/fringe.scm"
   ]
  },
  {
   "cell_type": "markdown",
   "metadata": {
    "collapsed": true
   },
   "source": [
    "### Running Instance:"
   ]
  },
  {
   "cell_type": "raw",
   "metadata": {
    "collapsed": true
   },
   "source": [
    "1 ]=> (load \"2.2/Exercise_2.28/fringe.scm\")\n",
    "\n",
    ";Loading \"2.2/Exercise_2.28/fringe.scm\"... done\n",
    ";Value: fringe\n",
    "\n",
    "1 ]=> (define x (list (list 1 2) (list 3 4)))\n",
    "\n",
    ";Value: x\n",
    "\n",
    "1 ]=> (fringe x)\n",
    "\n",
    ";Value 13: (1 2 3 4)\n",
    "\n",
    "1 ]=> (fringe (list x x))\n",
    "\n",
    ";Value 14: (1 2 3 4 1 2 3 4)"
   ]
  },
  {
   "cell_type": "markdown",
   "metadata": {
    "collapsed": true
   },
   "source": [
    "## Exercise 2.29: \n",
    "A $\\texttt{binary mobile}$ consists of two branches, a left branch and a right branch. Each branch is a rod of a certain length, from which hangs either a weight or another binary mobile. We can represent a $\\texttt{binary mobile}$ using compound data by constructing it from two branches (for example, using list):"
   ]
  },
  {
   "cell_type": "raw",
   "metadata": {
    "collapsed": true
   },
   "source": [
    "(define (make-mobile left right) (list left right))"
   ]
  },
  {
   "cell_type": "markdown",
   "metadata": {
    "collapsed": true
   },
   "source": [
    "A branch is constructed from a length (which must be a number) together with a structure, which may be either a number (representing a simple weight) or another mobile:"
   ]
  },
  {
   "cell_type": "raw",
   "metadata": {
    "collapsed": true
   },
   "source": [
    "(define (make-branch length structure) (list length structure))"
   ]
  },
  {
   "cell_type": "markdown",
   "metadata": {
    "collapsed": true
   },
   "source": [
    "$\\textbf{a.}\\;\\;$Write the corresponding selectors $\\texttt{left-branch}$ and $\\texttt{right-branch}$, which return the branches of a mobile,and $\\texttt{branch-length}$ and $\\texttt{branch-structure}$, which return the components of a branch."
   ]
  },
  {
   "cell_type": "markdown",
   "metadata": {
    "collapsed": true
   },
   "source": [
    "$\\textbf{b.}\\;\\;$Using your selectors, define a procedure $\\texttt{total-weight}$ that returns the total weight of a mobile."
   ]
  },
  {
   "cell_type": "markdown",
   "metadata": {
    "collapsed": true
   },
   "source": [
    "$\\textbf{c.}\\;\\;$A mobile is said to be $balanced$ if the torque applied by its top-left branch is equal to that applied by its top-right branch (that is, if the length of the left rod multiplied by the weight hanging from that rod is equal to the corresponding product for the right side) and if each of the submobiles hanging off its branches is balanced. Design a predicate that tests whether a binary mobile is balanced."
   ]
  },
  {
   "cell_type": "markdown",
   "metadata": {
    "collapsed": true
   },
   "source": [
    "$\\textbf{d.}\\;\\;$Suppose we change the representation of mobiles so that the constructors are"
   ]
  },
  {
   "cell_type": "raw",
   "metadata": {
    "collapsed": true
   },
   "source": [
    "(define (make-mobile left right) (cons left right))\n",
    "(define (make-branch length structure) (cons length structure))"
   ]
  },
  {
   "cell_type": "markdown",
   "metadata": {
    "collapsed": true
   },
   "source": [
    "How much do you need to change your programs to convert to the new representation?"
   ]
  },
  {
   "cell_type": "markdown",
   "metadata": {
    "collapsed": true
   },
   "source": [
    "## 解答："
   ]
  },
  {
   "cell_type": "markdown",
   "metadata": {
    "collapsed": true
   },
   "source": [
    "$\\textbf{a.}$  \n",
    "$\\bullet\\quad$根据题目中给定的生成器$\\texttt{make-mobile}$我们能够容易地写出选择器$\\texttt{left-branch}$和$\\texttt{right-branch}$"
   ]
  },
  {
   "cell_type": "code",
   "execution_count": 2,
   "metadata": {
    "collapsed": false
   },
   "outputs": [
    {
     "name": "stdout",
     "output_type": "stream",
     "text": [
      "(define (make-mobile left right)\r\n",
      "  (list left right))\r\n",
      "\r\n",
      "(define (left-branch mobile)\r\n",
      "  (car mobile))\r\n",
      "\r\n",
      "(define (right-branch mobile)\r\n",
      "  (cadr mobile))\r\n"
     ]
    }
   ],
   "source": [
    "cat 2.2/Exercise_2.29/mobile-repr.scm"
   ]
  },
  {
   "cell_type": "markdown",
   "metadata": {
    "collapsed": true
   },
   "source": [
    "$\\bullet\\quad$根据题目中给定的构造器$\\texttt{make-branch}$我们能够容易地写出选择器$\\texttt{branch-length}$和$\\texttt{branch-structure}$"
   ]
  },
  {
   "cell_type": "code",
   "execution_count": 3,
   "metadata": {
    "collapsed": false
   },
   "outputs": [
    {
     "name": "stdout",
     "output_type": "stream",
     "text": [
      "(define (make-branch length structure)\r\n",
      "  (list length structure))\r\n",
      "\r\n",
      "(define (branch-length branch)\r\n",
      "  (car branch))\r\n",
      "\r\n",
      "(define (branch-structure branch)\r\n",
      "  (cadr branch))\r\n"
     ]
    }
   ],
   "source": [
    "cat 2.2/Exercise_2.29/branch-repr.scm"
   ]
  },
  {
   "cell_type": "markdown",
   "metadata": {
    "collapsed": true
   },
   "source": [
    "### Running Instance:"
   ]
  },
  {
   "cell_type": "raw",
   "metadata": {
    "collapsed": true
   },
   "source": [
    "1 ]=> (load \"2.2/Exercise_2.29/mobile-repr.scm\")\n",
    "\n",
    ";Loading \"2.2/Exercise_2.29/mobile-repr.scm\"... done\n",
    ";Value: right-branch\n",
    "\n",
    "1 ]=> (load \"2.2/Exercise_2.29/branch-repr.scm\")\n",
    "\n",
    ";Loading \"2.2/Exercise_2.29/branch-repr.scm\"... done\n",
    ";Value: branch-structure\n",
    "\n",
    "1 ]=> (define mobile (make-mobile (make-branch 10 25) (make-branch 5 20)))\n",
    "\n",
    ";Value: mobile\n",
    "\n",
    "1 ]=> mobile\n",
    "\n",
    ";Value 21: ((10 25) (5 20))\n",
    "\n",
    "1 ]=> (left-branch mobile)\n",
    "\n",
    ";Value 22: (10 25)\n",
    "\n",
    "1 ]=> (right-branch mobile)\n",
    "\n",
    ";Value 23: (5 20)\n",
    "\n",
    "1 ]=> (branch-length (right-branch mobile))\n",
    "\n",
    ";Value: 5\n",
    "\n",
    "1 ]=> (branch-structure (right-branch mobile))\n",
    "\n",
    ";Value: 20"
   ]
  },
  {
   "cell_type": "markdown",
   "metadata": {
    "collapsed": true
   },
   "source": [
    "$\\textbf{b.}$  \n",
    "计算一个mobile的重量按照如下两条计算规则："
   ]
  },
  {
   "cell_type": "markdown",
   "metadata": {
    "collapsed": true
   },
   "source": [
    "$\\bullet\\quad$一个mobile的重量是mobile的左右两个分支的重量"
   ]
  },
  {
   "cell_type": "markdown",
   "metadata": {
    "collapsed": true
   },
   "source": [
    "$\\bullet\\quad$对于某个分支，  \n",
    "$\\quad\\circ\\quad$如果该分支的structure是某个数，那么这个数就是该分支的重量；  \n",
    "$\\quad\\circ\\quad$如果该分支的structure是一个mobile，则该mobile的重量是该分支的重量"
   ]
  },
  {
   "cell_type": "markdown",
   "metadata": {
    "collapsed": true
   },
   "source": [
    "因此使用上述两条规则我们可以定义$\\texttt{total-weight}$过程："
   ]
  },
  {
   "cell_type": "code",
   "execution_count": 4,
   "metadata": {
    "collapsed": false
   },
   "outputs": [
    {
     "name": "stdout",
     "output_type": "stream",
     "text": [
      "(load \"2.2/Exercise_2.29/mobile-repr.scm\")\r\n",
      "(load \"2.2/Exercise_2.29/branch-repr.scm\")\r\n",
      "\r\n",
      "(define (hangs-another-mobile branch)\r\n",
      "  (pair? (branch-structure branch)))\r\n",
      "\r\n",
      "(define (branch-weight branch)\r\n",
      "  (if (hangs-another-mobile branch)\r\n",
      "      (total-weight (branch-structure branch))\r\n",
      "      (branch-structure branch)))\r\n",
      "\r\n",
      "(define (total-weight mobile)\r\n",
      "  (+ (branch-weight (left-branch mobile))\r\n",
      "     (branch-weight (right-branch mobile))))\r\n"
     ]
    }
   ],
   "source": [
    "cat 2.2/Exercise_2.29/total-weight.scm"
   ]
  },
  {
   "cell_type": "markdown",
   "metadata": {
    "collapsed": true
   },
   "source": [
    "### Running Instance:"
   ]
  },
  {
   "cell_type": "raw",
   "metadata": {
    "collapsed": true
   },
   "source": [
    "1 ]=> (load \"2.2/Exercise_2.29/total-weight.scm\")\n",
    "\n",
    ";Loading \"2.2/Exercise_2.29/total-weight.scm\"...\n",
    ";  Loading \"2.2/Exercise_2.29/mobile-repr.scm\"... done\n",
    ";  Loading \"2.2/Exercise_2.29/branch-repr.scm\"... done\n",
    ";... done\n",
    ";Value: total-weight\n",
    "\n",
    "1 ]=> (define mobile (make-mobile (make-branch 10 20) (make-branch 10 25)))\n",
    "\n",
    ";Value: mobile\n",
    "\n",
    "1 ]=> (total-weight mobile)\n",
    "\n",
    ";Value: 45\n",
    "\n",
    "1 ]=> (define another-mobile (make-mobile (make-branch 10 mobile) (make-branch 10 20)))\n",
    "\n",
    ";Value: another-mobile\n",
    "\n",
    "1 ]=> another-mobile\n",
    "\n",
    ";Value 13: ((10 ((10 20) (10 25))) (10 20))\n",
    "\n",
    "1 ]=> (total-weight another-mobile)\n",
    "\n",
    ";Value: 65"
   ]
  },
  {
   "cell_type": "markdown",
   "metadata": {
    "collapsed": true
   },
   "source": [
    "$\\textbf{c.}$   \n",
    "一个mobile是否平衡需要满足以下两个条件："
   ]
  },
  {
   "cell_type": "markdown",
   "metadata": {
    "collapsed": true
   },
   "source": [
    "$\\bullet\\quad$mobile的左右两个分支的力矩相等"
   ]
  },
  {
   "cell_type": "markdown",
   "metadata": {
    "collapsed": true
   },
   "source": [
    "$\\bullet\\quad$mobile的左右两个分支上的所有submobile(如果有的话)的力矩也是平衡的"
   ]
  },
  {
   "cell_type": "markdown",
   "metadata": {
    "collapsed": true
   },
   "source": [
    "$\\quad\\spadesuit\\quad$我们首先写出计算左右分支力矩的过程$\\texttt{branch-torque}$"
   ]
  },
  {
   "cell_type": "code",
   "execution_count": 5,
   "metadata": {
    "collapsed": false
   },
   "outputs": [
    {
     "name": "stdout",
     "output_type": "stream",
     "text": [
      "(load \"2.2/Exercise_2.29/total-weight.scm\")\r\n",
      "(define (branch-torque branch)\r\n",
      "  (* (branch-length branch)\r\n",
      "     (branch-weight branch)))\r\n"
     ]
    }
   ],
   "source": [
    "cat 2.2/Exercise_2.29/branch-torque.scm"
   ]
  },
  {
   "cell_type": "markdown",
   "metadata": {
    "collapsed": true
   },
   "source": [
    "### Running Instance:"
   ]
  },
  {
   "cell_type": "raw",
   "metadata": {
    "collapsed": true
   },
   "source": [
    "1 ]=> mobile\n",
    "\n",
    ";Value 16: ((10 20) (10 25))\n",
    "\n",
    "1 ]=> (left-branch mobile)\n",
    "\n",
    ";Value 14: (10 20)\n",
    "\n",
    "1 ]=> (branch-torque (left-branch mobile))\n",
    "\n",
    ";Value: 200\n",
    "\n",
    "1 ]=> (right-branch mobile)\n",
    "\n",
    ";Value 15: (10 25)\n",
    "\n",
    "1 ]=> (branch-torque (right-branch mobile))\n",
    "\n",
    ";Value: 250"
   ]
  },
  {
   "cell_type": "markdown",
   "metadata": {
    "collapsed": true
   },
   "source": [
    "$\\quad\\spadesuit\\quad$通过上述的$\\texttt{branch-torque}$过程，我们能定义检查mobile是否平衡的$\\texttt{mobile-balance}$过程"
   ]
  },
  {
   "cell_type": "code",
   "execution_count": 6,
   "metadata": {
    "collapsed": false
   },
   "outputs": [
    {
     "name": "stdout",
     "output_type": "stream",
     "text": [
      "(load \"2.2/Exercise_2.29/branch-torque.scm\")\r\n",
      "\r\n",
      "(define (same-torque? left right)\r\n",
      "  (= (branch-torque left)\r\n",
      "     (branch-torque right)))\r\n",
      "\r\n",
      "(define (branch-balance? branch)\r\n",
      "  (if (hangs-another-mobile branch)\r\n",
      "      (mobile-balance? (branch-structure branch))\r\n",
      "      #t))\r\n",
      "\r\n",
      "(define (mobile-balance? mobile)\r\n",
      "  (let ((left (left-branch mobile))\r\n",
      "        (right (right-branch mobile)))\r\n",
      "    (and\r\n",
      "      (same-torque? left right)\r\n",
      "      (branch-balance? left)\r\n",
      "      (branch-balance? right))))\r\n"
     ]
    }
   ],
   "source": [
    "cat 2.2/Exercise_2.29/mobile-balance.scm"
   ]
  },
  {
   "cell_type": "markdown",
   "metadata": {
    "collapsed": true
   },
   "source": [
    "### Running Instance:"
   ]
  },
  {
   "cell_type": "raw",
   "metadata": {
    "collapsed": true
   },
   "source": [
    "1 ]=> (load \"2.2/Exercise_2.29/mobile-balance.scm\")\n",
    "\n",
    ";Loading \"2.2/Exercise_2.29/mobile-balance.scm\"...\n",
    ";  Loading \"2.2/Exercise_2.29/branch-torque.scm\"...\n",
    ";    Loading \"2.2/Exercise_2.29/total-weight.scm\"...\n",
    ";      Loading \"2.2/Exercise_2.29/mobile-repr.scm\"... done\n",
    ";      Loading \"2.2/Exercise_2.29/branch-repr.scm\"... done\n",
    ";    ... done\n",
    ";  ... done\n",
    ";... done\n",
    ";Value: mobile-balance?\n",
    "\n",
    "1 ]=> (define balance-mobile (make-mobile (make-branch 10 10) (make-branch 10 10)))\n",
    "\n",
    ";Value: balance-mobile\n",
    "\n",
    "1 ]=> balance-mobile\n",
    "\n",
    ";Value 17: ((10 10) (10 10))\n",
    "\n",
    "1 ]=> (mobile-balance? balance-mobile)\n",
    "\n",
    ";Value: #t\n",
    "\n",
    "1 ]=> (define unbalance-mobile (make-mobile (make-branch 5 10) (make-branch 10 10)))\n",
    "\n",
    ";Value: unbalance-mobile\n",
    "\n",
    "1 ]=> unbalance-mobile\n",
    "\n",
    ";Value 18: ((5 10) (10 10))\n",
    "\n",
    "1 ]=> (mobile-balance? unbalance-mobile)\n",
    "\n",
    ";Value: #f\n",
    "\n",
    "1 ]=> (define mobile-with-sub-mobile (make-mobile (make-branch 10 balance-mobile) (make-branch 10 balance-mobile)))\n",
    "\n",
    ";Value: mobile-with-sub-mobile\n",
    "\n",
    "1 ]=> mobile-with-sub-mobile\n",
    "\n",
    ";Value 19: ((10 ((10 10) (10 10))) (10 ((10 10) (10 10))))\n",
    "\n",
    "1 ]=> (mobile-balance? mobile-with-sub-mobile)\n",
    "\n",
    ";Value: #t"
   ]
  },
  {
   "cell_type": "markdown",
   "metadata": {
    "collapsed": true
   },
   "source": [
    "$\\textbf{d.}$  \n",
    "由于我们的mobile程序通过实现数据抽象的方式将程序之间的关系，利用构造器与选择器很好地隔离开了。  \n",
    "由于题目中对构造器$\\texttt{make-mobile}$和$\\texttt{make-branch}$使用了新的实现，那么我们只是需要重写对应的选择器即可"
   ]
  },
  {
   "cell_type": "markdown",
   "metadata": {
    "collapsed": true
   },
   "source": [
    "$\\spadesuit\\quad$重写$\\texttt{left-branch}$和$\\texttt{right-branch}$选择器"
   ]
  },
  {
   "cell_type": "code",
   "execution_count": 7,
   "metadata": {
    "collapsed": false
   },
   "outputs": [
    {
     "name": "stdout",
     "output_type": "stream",
     "text": [
      "(define (make-mobile left right)\r\n",
      "  (cons left right))\r\n",
      "\r\n",
      "(define (left-branch mobile)\r\n",
      "  (car mobile))\r\n",
      "\r\n",
      "(define (right-branch mobile)\r\n",
      "  (cdr mobile))\r\n"
     ]
    }
   ],
   "source": [
    "cat 2.2/Exercise_2.29/new-mobile-repr.scm"
   ]
  },
  {
   "cell_type": "markdown",
   "metadata": {
    "collapsed": true
   },
   "source": [
    "$\\spadesuit\\quad$重写$\\texttt{branch-length}$和$\\texttt{branch-structure}$选择器"
   ]
  },
  {
   "cell_type": "code",
   "execution_count": 8,
   "metadata": {
    "collapsed": false
   },
   "outputs": [
    {
     "name": "stdout",
     "output_type": "stream",
     "text": [
      "(define (make-branch length structure)\r\n",
      "  (cons length structure))\r\n",
      "\r\n",
      "(define (branch-length branch)\r\n",
      "  (car branch))\r\n",
      "\r\n",
      "(define (branch-structure branch)\r\n",
      "  (cdr branch))\r\n"
     ]
    }
   ],
   "source": [
    "cat 2.2/Exercise_2.29/new-branch-repr.scm"
   ]
  },
  {
   "cell_type": "markdown",
   "metadata": {
    "collapsed": true
   },
   "source": [
    "### Running Instance:"
   ]
  },
  {
   "cell_type": "markdown",
   "metadata": {
    "collapsed": true
   },
   "source": [
    "$\\bullet\\quad$首先导入先前定义的$\\texttt{mobile-balance}$过程"
   ]
  },
  {
   "cell_type": "raw",
   "metadata": {
    "collapsed": true
   },
   "source": [
    "1 ]=> (load \"2.2/Exercise_2.29/mobile-balance.scm\")\n",
    "\n",
    ";Loading \"2.2/Exercise_2.29/mobile-balance.scm\"...\n",
    ";  Loading \"2.2/Exercise_2.29/branch-torque.scm\"...\n",
    ";    Loading \"2.2/Exercise_2.29/total-weight.scm\"...\n",
    ";      Loading \"2.2/Exercise_2.29/mobile-repr.scm\"... done\n",
    ";      Loading \"2.2/Exercise_2.29/branch-repr.scm\"... done\n",
    ";    ... done\n",
    ";  ... done\n",
    ";... done\n",
    ";Value: mobile-balance?"
   ]
  },
  {
   "cell_type": "markdown",
   "metadata": {
    "collapsed": true
   },
   "source": [
    "$\\bullet\\quad$导入新的构造器和选择器"
   ]
  },
  {
   "cell_type": "raw",
   "metadata": {
    "collapsed": true
   },
   "source": [
    "1 ]=> (load \"2.2/Exercise_2.29/new-mobile-repr.scm\")\n",
    "\n",
    ";Loading \"2.2/Exercise_2.29/new-mobile-repr.scm\"... done\n",
    ";Value: right-branch\n",
    "\n",
    "1 ]=> (load \"2.2/Exercise_2.29/new-branch-repr.scm\")\n",
    "\n",
    ";Loading \"2.2/Exercise_2.29/new-branch-repr.scm\"... done\n",
    ";Value: branch-structure"
   ]
  },
  {
   "cell_type": "markdown",
   "metadata": {
    "collapsed": true
   },
   "source": [
    "$\\bullet\\quad$测试"
   ]
  },
  {
   "cell_type": "markdown",
   "metadata": {
    "collapsed": true
   },
   "source": [
    "$\\quad\\spadesuit\\quad$ 计算分支力矩"
   ]
  },
  {
   "cell_type": "raw",
   "metadata": {
    "collapsed": true
   },
   "source": [
    "1 ]=> (define mobile (make-mobile (make-branch 15 20) (make-branch 10 30)))\n",
    "\n",
    ";Value: mobile\n",
    "\n",
    "1 ]=> (left-branch mobile)\n",
    "\n",
    ";Value 13: (15 . 20)\n",
    "\n",
    "1 ]=> (branch-torque (left-branch mobile))\n",
    "\n",
    ";Value: 300\n",
    "\n",
    "1 ]=> (right-branch mobile)\n",
    "\n",
    ";Value 14: (10 . 30)\n",
    "\n",
    "1 ]=> (branch-torque (right-branch mobile))\n",
    "\n",
    ";Value: 300"
   ]
  },
  {
   "cell_type": "markdown",
   "metadata": {},
   "source": [
    "$\\quad\\spadesuit\\quad$测试mobile是否平衡"
   ]
  },
  {
   "cell_type": "raw",
   "metadata": {},
   "source": [
    "1 ]=> (define balance-mobile (make-mobile (make-branch 5 mobile) (make-branch 5 mobile)))\n",
    "\n",
    ";Value: balance-mobile\n",
    "\n",
    "1 ]=> balance-mobile\n",
    "\n",
    ";Value 19: ((5 (15 . 20) 10 . 30) 5 (15 . 20) 10 . 30)\n",
    "\n",
    "1 ]=> (car balance-mobile)\n",
    "\n",
    ";Value 20: (5 (15 . 20) 10 . 30)\n",
    "\n",
    "1 ]=> (cdr balance-mobile)\n",
    "\n",
    ";Value 21: (5 (15 . 20) 10 . 30)\n",
    "\n",
    "1 ]=> (mobile-balance? balance-mobile)\n",
    "\n",
    ";Value: #t"
   ]
  },
  {
   "cell_type": "markdown",
   "metadata": {},
   "source": [
    "### Mapping over trees"
   ]
  },
  {
   "cell_type": "markdown",
   "metadata": {},
   "source": [
    "Just as $\\texttt{map}$ is a powerful abstraction for dealing with $\\text{sequences}$, $\\texttt{map}$ together with $\\texttt{recursion}$ is a powerful abstraction for dealing with $\\text{trees}$."
   ]
  },
  {
   "cell_type": "code",
   "execution_count": null,
   "metadata": {
    "collapsed": true
   },
   "outputs": [],
   "source": []
  },
  {
   "cell_type": "markdown",
   "metadata": {},
   "source": [
    "For instance, the $\\texttt{scale-tree}$ procedure, analogous to $\\texttt{scale-list}$ of Section 2.2.1, takes as arguments a numeric factor and a tree whose leaves are numbers. It returns a tree of the same shape, where each number is multiplied by the factor. The $\\texttt{recursive}$ plan for $\\texttt{scale-tree}$ is similar to the one for $\\texttt{count-leaves}$:"
   ]
  },
  {
   "cell_type": "code",
   "execution_count": 9,
   "metadata": {
    "collapsed": false
   },
   "outputs": [
    {
     "name": "stdout",
     "output_type": "stream",
     "text": [
      "(define (scale-tree tree factor)\r\n",
      "  (cond ((null? tree) '())\r\n",
      "        ((not (pair? tree)) (* tree factor))\r\n",
      "        (else (cons (scale-tree (car tree) factor)\r\n",
      "                    (scale-tree (cdr tree) factor)))))\r\n"
     ]
    }
   ],
   "source": [
    "cat 2.2/Example_9/scale-tree.scm"
   ]
  },
  {
   "cell_type": "markdown",
   "metadata": {},
   "source": [
    "### Running Instance:"
   ]
  },
  {
   "cell_type": "raw",
   "metadata": {},
   "source": [
    "1 ]=> (load \"2.2/Example_9/scale-tree.scm\")\n",
    "\n",
    ";Loading \"2.2/Example_9/scale-tree.scm\"... done\n",
    ";Value: scale-tree\n",
    "\n",
    "1 ]=> (define tree (list 1 (list 2 (list 3 4) 5) (list 6 7)))\n",
    "\n",
    ";Value: tree\n",
    "\n",
    "1 ]=> tree\n",
    "\n",
    ";Value 14: (1 (2 (3 4) 5) (6 7))\n",
    "\n",
    "1 ]=> (scale-tree tree 10)\n",
    "\n",
    ";Value 15: (10 (20 (30 40) 50) (60 70))"
   ]
  },
  {
   "cell_type": "markdown",
   "metadata": {},
   "source": [
    "Another way to implement $\\texttt{scale-tree}$ is to regard the $\\text{tree}$ as a sequence of $\\textrm{sub-trees}$ and use $\\texttt{map}$. We map over the sequence, scaling each $\\textrm{sub-trees}$ in turn, and return the list of results. In the base case,where the $\\text{tree}$ is a $\\text{leaf}$, we simply multiply by the factor:"
   ]
  },
  {
   "cell_type": "code",
   "execution_count": 10,
   "metadata": {
    "collapsed": false
   },
   "outputs": [
    {
     "name": "stdout",
     "output_type": "stream",
     "text": [
      "(define (scale-tree tree factor)\r\n",
      "  (map (lambda (sub-tree)\r\n",
      "         (if (pair? sub-tree)\r\n",
      "             (scale-tree sub-tree factor)\r\n",
      "             (* sub-tree factor)))\r\n",
      "       tree))\r\n"
     ]
    }
   ],
   "source": [
    "cat 2.2/Example_9/scale-tree-by-map.scm"
   ]
  },
  {
   "cell_type": "markdown",
   "metadata": {},
   "source": [
    "Many $\\text{tree operations}$ can be implemented by similar combinations of $\\text{sequence operations}$ and $\\text{recursion}$."
   ]
  },
  {
   "cell_type": "markdown",
   "metadata": {},
   "source": [
    "## Exercise 2.30: \n",
    "Define a procedure $\\texttt{square-tree}$ analogous to the $\\texttt{square-list}$ procedure of Exercise 2.21. Define $\\texttt{square-tree}$ both directly (i.e., without using any higher-order procedures) and also by using $\\text{map}$ and $\\text{recursion}$."
   ]
  },
  {
   "cell_type": "markdown",
   "metadata": {},
   "source": [
    "## Answer:"
   ]
  },
  {
   "cell_type": "markdown",
   "metadata": {},
   "source": [
    "$\\bullet\\quad$Define $\\texttt{square-tree}$ directly:"
   ]
  },
  {
   "cell_type": "code",
   "execution_count": 11,
   "metadata": {
    "collapsed": false
   },
   "outputs": [
    {
     "name": "stdout",
     "output_type": "stream",
     "text": [
      "(define (square-tree tree)\r\n",
      "  (cond ((null? tree) '())\r\n",
      "        ((not (pair? tree)) (square tree))\r\n",
      "        (else\r\n",
      "          (cons (square-tree (car tree))\r\n",
      "                (square-tree (cdr tree))))))\r\n"
     ]
    }
   ],
   "source": [
    "cat 2.2/Exercise_2.30/square-tree.scm"
   ]
  },
  {
   "cell_type": "markdown",
   "metadata": {},
   "source": [
    "$\\bullet\\quad$Define $\\texttt{square-tree}$ by using $\\text{map}$ and $\\text{recursion}$:"
   ]
  },
  {
   "cell_type": "code",
   "execution_count": 12,
   "metadata": {
    "collapsed": false
   },
   "outputs": [
    {
     "name": "stdout",
     "output_type": "stream",
     "text": [
      "(define (square-tree tree)\r\n",
      "  (map (lambda (sub-tree)\r\n",
      "         (if (pair? sub-tree)\r\n",
      "             (square-tree sub-tree)\r\n",
      "             (square sub-tree)))\r\n",
      "       tree))\r\n"
     ]
    }
   ],
   "source": [
    "cat 2.2/Exercise_2.30/square-tree-by-map.scm"
   ]
  },
  {
   "cell_type": "markdown",
   "metadata": {},
   "source": [
    "### Running Instance:"
   ]
  },
  {
   "cell_type": "raw",
   "metadata": {},
   "source": [
    "1 ]=> (define tree (list 1 (list 2 (list 3 4) 5) (list 6 7))))\n",
    "\n",
    ";Value: tree\n",
    "\n",
    "1 ]=> tree\n",
    "\n",
    ";Value 15: (1 (2 (3 4) 5) (6 7))"
   ]
  },
  {
   "cell_type": "raw",
   "metadata": {},
   "source": [
    "1 ]=> (load \"2.2/Exercise_2.30/square-tree.scm\")\n",
    "\n",
    ";Loading \"2.2/Exercise_2.30/square-tree.scm\"... done\n",
    ";Value: square-tree\n",
    "\n",
    "1 ]=> (square-tree tree)\n",
    "\n",
    ";Value 16: (1 (4 (9 16) 25) (36 49))"
   ]
  },
  {
   "cell_type": "raw",
   "metadata": {},
   "source": [
    "1 ]=> (load \"2.2/Exercise_2.30/square-tree-by-map.scm\")\n",
    "\n",
    ";Loading \"2.2/Exercise_2.30/square-tree-by-map.scm\"... done\n",
    ";Value: square-tree\n",
    "\n",
    "1 ]=> (square-tree tree)\n",
    "\n",
    ";Value 17: (1 (4 (9 16) 25) (36 49))"
   ]
  },
  {
   "cell_type": "markdown",
   "metadata": {},
   "source": [
    "## Exercise 2.31: \n",
    "Abstract your answer to Exercise 2.30 to produce a procedure $\\texttt{tree-map}$ with the property that $\\texttt{square-tree}$ could be defined as"
   ]
  },
  {
   "cell_type": "raw",
   "metadata": {},
   "source": [
    "(define (square-tree tree) (tree-map square tree))"
   ]
  },
  {
   "cell_type": "markdown",
   "metadata": {},
   "source": [
    "## Answer:"
   ]
  },
  {
   "cell_type": "markdown",
   "metadata": {},
   "source": [
    "$\\bullet\\quad$Define $\\texttt{tree-map}$ directly:"
   ]
  },
  {
   "cell_type": "code",
   "execution_count": 14,
   "metadata": {
    "collapsed": false
   },
   "outputs": [
    {
     "name": "stdout",
     "output_type": "stream",
     "text": [
      "(define (tree-map proc tree)\r\n",
      "  (cond ((null? tree) '())\r\n",
      "        ((not (pair? tree)) (proc tree))\r\n",
      "        (else\r\n",
      "          (cons (tree-map proc (car tree))\r\n",
      "                (tree-map proc (cdr tree))))))\r\n"
     ]
    }
   ],
   "source": [
    "cat 2.2/Exercise_2.31/tree-map.scm"
   ]
  },
  {
   "cell_type": "markdown",
   "metadata": {},
   "source": [
    "$\\bullet\\quad$Define $\\texttt{tree-map}$ by using $\\text{map}$ and $\\text{recursion}$:"
   ]
  },
  {
   "cell_type": "code",
   "execution_count": 15,
   "metadata": {
    "collapsed": false
   },
   "outputs": [
    {
     "name": "stdout",
     "output_type": "stream",
     "text": [
      "(define (tree-map proc tree)\r\n",
      "  (map (lambda (sub-tree)\r\n",
      "         (if (pair? sub-tree)\r\n",
      "             (tree-map proc sub-tree)\r\n",
      "             (proc sub-tree)))\r\n",
      "       tree))\r\n"
     ]
    }
   ],
   "source": [
    "cat 2.2/Exercise_2.31/tree-map-by-map.scm"
   ]
  },
  {
   "cell_type": "markdown",
   "metadata": {},
   "source": [
    "### Running Instance:"
   ]
  },
  {
   "cell_type": "raw",
   "metadata": {},
   "source": [
    "1 ]=> (load \"2.2/Exercise_2.31/tree-map.scm\")\n",
    "\n",
    ";Loading \"2.2/Exercise_2.31/tree-map.scm\"... done\n",
    ";Value: tree-map\n",
    "\n",
    "1 ]=> (tree-map square (list (list 1 2) (list 3 4)))\n",
    "\n",
    ";Value 13: ((1 4) (9 16))"
   ]
  },
  {
   "cell_type": "raw",
   "metadata": {},
   "source": [
    "1 ]=> (load \"2.2/Exercise_2.31/tree-map-by-map.scm\")\n",
    "\n",
    ";Loading \"2.2/Exercise_2.31/tree-map-by-map.scm\"... done\n",
    ";Value: tree-map\n",
    "\n",
    "1 ]=> (tree-map square (list (list 1 2) (list 3 4)))\n",
    "\n",
    ";Value 14: ((1 4) (9 16))"
   ]
  },
  {
   "cell_type": "markdown",
   "metadata": {},
   "source": [
    "## Exercise 2.32: \n",
    "We can represent a $\\text{set}$ as a list of distinct elements, and we can represent the $\\text{set}$ of all $\\texttt{subsets}$ of the $\\text{set}$ as a list of lists. For example, if the set is (1 2 3), then the $\\text{set}$ of all subsets is $\\textrm{(() (3) (2) (2 3) (1) (1 3) (1 2) (1 2 3))}$. Complete the following definition of a procedure that generates the set of subsets of a set and give a clear explanation of why it works:"
   ]
  },
  {
   "cell_type": "code",
   "execution_count": 16,
   "metadata": {
    "collapsed": false
   },
   "outputs": [
    {
     "name": "stdout",
     "output_type": "stream",
     "text": [
      "(define (subsets s)\r\n",
      "  (if (null? s) (list '())\r\n",
      "      (let ((rest (subsets (cdr s))))\r\n",
      "        (append rest (map (lambda (x)\r\n",
      "                            (cons (car s) x))\r\n",
      "                          rest)))))\r\n"
     ]
    }
   ],
   "source": [
    "cat 2.2/Exercise_2.32/subsets.scm"
   ]
  },
  {
   "cell_type": "markdown",
   "metadata": {},
   "source": [
    "### Running Instance:"
   ]
  },
  {
   "cell_type": "raw",
   "metadata": {},
   "source": [
    "1 ]=> (load \"2.2/Exercise_2.32/subsets.scm\")\n",
    "\n",
    ";Loading \"2.2/Exercise_2.32/subsets.scm\"... done\n",
    ";Value: subsets\n",
    "\n",
    "1 ]=> (subsets (list 1 2 3))\n",
    "\n",
    ";Value 16: (() (3) (2) (2 3) (1) (1 3) (1 2) (1 2 3))"
   ]
  },
  {
   "cell_type": "markdown",
   "metadata": {},
   "source": [
    "## 2.2.3 Sequences as Conventional Interfaces"
   ]
  },
  {
   "cell_type": "markdown",
   "metadata": {},
   "source": [
    "In working with compound data, we’ve stressed how $\\text{data abstraction}$ permits us to design programs without becoming enmeshed in the details of data representations, and how abstraction preserves for us the flexibility to experiment with alternative representations. In this section, we introduce another powerful design principle for working with data structures—the use of $\\text{conventional interfaces}$."
   ]
  },
  {
   "cell_type": "markdown",
   "metadata": {},
   "source": [
    "## Example 10: Just a example"
   ]
  },
  {
   "cell_type": "markdown",
   "metadata": {},
   "source": [
    "In Section 1.3 we saw how program abstractions, implemented as $\\texttt{higher-order}$ procedures, can capture common patterns in programs that deal with numerical data. Our ability to formulate analogous operations for working with compound data depends crucially on the style in which we manipulate our data structures. Consider, for example, the following procedure, analogous to the $\\texttt{count-leaves}$ procedure of Section 2.2.2, which takes a tree as argument and computes the sum of the squares of the leaves that are $\\text{odd}$:"
   ]
  },
  {
   "cell_type": "code",
   "execution_count": 17,
   "metadata": {
    "collapsed": false
   },
   "outputs": [
    {
     "name": "stdout",
     "output_type": "stream",
     "text": [
      "(define (sum-odd-squares tree)\r\n",
      "  (cond ((null? tree) 0)\r\n",
      "        ((not (pair? tree))\r\n",
      "         (if (odd? tree) (square tree) 0))\r\n",
      "        (else (+ (sum-odd-squares (car tree))\r\n",
      "                 (sum-odd-squares (cdr tree))))))\r\n"
     ]
    }
   ],
   "source": [
    "cat 2.2/Example_10/sum-odd-squares.scm"
   ]
  },
  {
   "cell_type": "markdown",
   "metadata": {},
   "source": [
    "On the surface, this procedure is very different from the following one, which constructs a list of all the $\\text{even}$ Fibonacci number $\\texttt{Fib(k)}$, where $k$ is less than or equal to a given integer $n$:"
   ]
  },
  {
   "cell_type": "code",
   "execution_count": 18,
   "metadata": {
    "collapsed": false
   },
   "outputs": [
    {
     "name": "stdout",
     "output_type": "stream",
     "text": [
      "(define (even-fibs-list n)\r\n",
      "  (define (next k)\r\n",
      "    (if (> k n) '()\r\n",
      "        (let ((f (fib k)))\r\n",
      "          (if (even? f)\r\n",
      "              (cons f (next (+ k 1)))\r\n",
      "              (next (+ k 1))))))\r\n",
      "  (next 0)\r\n"
     ]
    }
   ],
   "source": [
    "cat 2.2/Example_10/even-fibs-list.scm"
   ]
  },
  {
   "cell_type": "markdown",
   "metadata": {},
   "source": [
    "Despite the fact that these two procedures are structurally very different, a more abstract description of the two computations reveals a great deal of similarity. "
   ]
  },
  {
   "cell_type": "markdown",
   "metadata": {},
   "source": [
    "$\\spadesuit\\quad$The first program"
   ]
  },
  {
   "cell_type": "markdown",
   "metadata": {},
   "source": [
    "$\\quad\\bullet\\quad$enumerates the leaves of a tree;"
   ]
  },
  {
   "cell_type": "markdown",
   "metadata": {},
   "source": [
    "$\\quad\\bullet\\quad$filters them, selecting the odd ones;"
   ]
  },
  {
   "cell_type": "markdown",
   "metadata": {},
   "source": [
    "$\\quad\\bullet\\quad$squares each of the selected ones; and"
   ]
  },
  {
   "cell_type": "markdown",
   "metadata": {},
   "source": [
    "$\\quad\\bullet\\quad$accumulates the results using $\\text{+}$, starting with $\\text{0}$."
   ]
  },
  {
   "cell_type": "markdown",
   "metadata": {},
   "source": [
    "$\\spadesuit\\quad$The second program"
   ]
  },
  {
   "cell_type": "markdown",
   "metadata": {},
   "source": [
    "$\\quad\\bullet\\quad$enumerates the integers from 0 to $\\text{n}$;"
   ]
  },
  {
   "cell_type": "markdown",
   "metadata": {},
   "source": [
    "$\\quad\\bullet\\quad$computes the Fibonacci number for each integer;"
   ]
  },
  {
   "cell_type": "markdown",
   "metadata": {},
   "source": [
    "$\\quad\\bullet\\quad$filters them, selecting the even ones; and"
   ]
  },
  {
   "cell_type": "markdown",
   "metadata": {},
   "source": [
    "$\\quad\\bullet\\quad$accumulates the results using $\\texttt{cons}$, starting with the empty list."
   ]
  },
  {
   "cell_type": "markdown",
   "metadata": {},
   "source": [
    "A signal-processing engineer would find it natural to conceptualize these processes in terms of signals flowing through a cascade of stages, each of which implements part of the program plan, as shown in Figure 2.7. $\\texttt{In sum-odd-squares}$, we begin with an $enumerator$, which generates a “signal” consisting of the leaves of a given tree. This signal is passed through a $filter$, which eliminates all but the odd elements. The resulting signal is in turn passed through a $map$, which is a “transducer” that applies the $\\text{square}$ procedure to each element. The output of the map is then fed to an $accumulator$, which combines the elements using +, starting from an initial 0. The plan for $\\texttt{even-fibs}$ is analogous."
   ]
  },
  {
   "cell_type": "markdown",
   "metadata": {},
   "source": [
    "Unfortunately, the two procedure definitions above fail to exhibit this signal-flow structure. For instance, if we examine the $\\texttt{sum-odd-squares}$ procedure, we find that the enumeration is implemented partly by the $\\texttt{null?}$ and $\\texttt{pair?}$ tests and partly by the $\\texttt{tree-recursive}$ structure of the procedure. Similarly, the accumulation is found partly in the tests and partly in the addition used in the recursion. In general, there are no distinct parts of either procedure that correspond to the elements in the\n",
    "signal-flow description. Our two procedures decompose the computations in a different way, spreading the enumeration over the program and mingling it with the map, the filter, and the accumulation. If we could organize our programs to make the signal-flow structure manifest in the procedures we write, this would increase the conceptual clarity of the resulting code."
   ]
  },
  {
   "cell_type": "markdown",
   "metadata": {},
   "source": [
    "### Sequence Operations"
   ]
  },
  {
   "cell_type": "markdown",
   "metadata": {},
   "source": [
    "The key to organizing programs so as to more clearly reflect the signal-flow structure is to concentrate on the “signals” that flow from one stage in the process to the next. If we represent these signals as lists, then we\n",
    "can use list operations to implement the processing at each of the stages."
   ]
  },
  {
   "cell_type": "markdown",
   "metadata": {},
   "source": [
    "## Example 11: Build signal-flow structure"
   ]
  },
  {
   "cell_type": "markdown",
   "metadata": {},
   "source": [
    "$\\bullet\\quad$For instance, we can implement the $\\textrm{mapping}$ stages of the signal-flow diagrams using the $\\texttt{map}$ procedure from Section 2.2.1:"
   ]
  },
  {
   "cell_type": "raw",
   "metadata": {},
   "source": [
    "(map square (list 1 2 3 4 5))\n",
    "(1 4 9 16 25)"
   ]
  },
  {
   "cell_type": "markdown",
   "metadata": {},
   "source": [
    "$\\bullet\\quad\\textrm{Filtering}$ a sequence to select only those elements that satisfy a given predicate is accomplished by.(Of course,you can use the primitive procedure $\\textrm{filter}$ provided by list interpreter)"
   ]
  },
  {
   "cell_type": "code",
   "execution_count": 19,
   "metadata": {
    "collapsed": false
   },
   "outputs": [
    {
     "name": "stdout",
     "output_type": "stream",
     "text": [
      "(define (filter predicate sequence)\r\n",
      "  (cond ((null? sequence) '())\r\n",
      "        ((predicate (car sequence))\r\n",
      "         (cons (car sequence) (filter predicate (cdr sequence))))\r\n",
      "        (else (filter predicate (cdr sequence)))))\r\n"
     ]
    }
   ],
   "source": [
    "cat 2.2/Example_11/filter.scm"
   ]
  },
  {
   "cell_type": "markdown",
   "metadata": {},
   "source": [
    "For example,"
   ]
  },
  {
   "cell_type": "raw",
   "metadata": {},
   "source": [
    "1 ]=> (load \"2.2/Example_11/filter.scm\")\n",
    "\n",
    ";Loading \"2.2/Example_11/filter.scm\"... done\n",
    ";Value: filter\n",
    "\n",
    "1 ]=> (filter odd? (list 1 2 3 4 5))\n",
    "\n",
    ";Value 13: (1 3 5)"
   ]
  },
  {
   "cell_type": "markdown",
   "metadata": {},
   "source": [
    "$\\bullet\\quad\\textrm{Accumulations}$ can be implemented by"
   ]
  },
  {
   "cell_type": "code",
   "execution_count": null,
   "metadata": {
    "collapsed": true
   },
   "outputs": [],
   "source": []
  }
 ],
 "metadata": {
  "kernelspec": {
   "display_name": "Python [Root]",
   "language": "python",
   "name": "Python [Root]"
  },
  "language_info": {
   "codemirror_mode": {
    "name": "ipython",
    "version": 2
   },
   "file_extension": ".py",
   "mimetype": "text/x-python",
   "name": "python",
   "nbconvert_exporter": "python",
   "pygments_lexer": "ipython2",
   "version": "2.7.12"
  }
 },
 "nbformat": 4,
 "nbformat_minor": 0
}
