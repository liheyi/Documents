{
 "cells": [
  {
   "cell_type": "markdown",
   "metadata": {},
   "source": [
    "### Exercise 1.8: \n",
    "Newton’s method for $cube$ $roots$ is based on the fact that if $y$ is an approximation to the cube root of $x$, then a better approximation is given by the value"
   ]
  },
  {
   "cell_type": "markdown",
   "metadata": {},
   "source": [
    "$$\\frac{x/y^2+2y}{3}.$$"
   ]
  },
  {
   "cell_type": "markdown",
   "metadata": {},
   "source": [
    "Use this formula to implement a $cube$-$root$ procedure analogous to the $square$-$root$ procedure.(In Section 1.3.4 we will see how to implement Newton’s method in general as an abstraction of these square-root and cube-root procedures.)"
   ]
  },
  {
   "cell_type": "markdown",
   "metadata": {},
   "source": [
    "### Answer:"
   ]
  },
  {
   "cell_type": "code",
   "execution_count": 1,
   "metadata": {
    "collapsed": false
   },
   "outputs": [
    {
     "name": "stdout",
     "output_type": "stream",
     "text": [
      "(define (improve guess x)\r\n",
      "  (/ (+ (/ x (square guess)) ( * 2 guess)) 3))\r\n",
      "\r\n",
      "(define (good-enough? old-guess new-guess)\r\n",
      "  (< (/ (abs (- new-guess old-guess)) old-guess) 0.001))\r\n",
      "\r\n",
      "(define (cube-iter guess x)\r\n",
      "  (if (good-enough? guess (improve guess x))\r\n",
      "      (improve guess x)\r\n",
      "      (cube-iter (improve guess x) x)))\r\n",
      "\r\n",
      "(define (cube-root x) (cube-iter 1.0 x))\r\n"
     ]
    }
   ],
   "source": [
    "cat cube-root-by-newton-method.scm"
   ]
  },
  {
   "cell_type": "markdown",
   "metadata": {},
   "source": [
    "#### Running Instance:"
   ]
  },
  {
   "cell_type": "raw",
   "metadata": {},
   "source": [
    "1 ]=> (load \"cube-root-by-newton-method.scm\")\n",
    "\n",
    ";Loading \"cube-root-by-newton-method.scm\"... done\n",
    ";Value: cube-root\n",
    "\n",
    "1 ]=> (cube-root 27)\n",
    "\n",
    ";Value: 3.0000005410641766\n",
    "\n",
    "1 ]=> (cube-root 125)\n",
    "\n",
    ";Value: 5.000000000287929\n",
    "\n",
    "1 ]=> (cube-root 0.000000009)\n",
    "\n",
    ";Value: .00208008382311658\n",
    "\n",
    "1 ]=> (cube-root 5e100)\n",
    "\n",
    ";Value: 3.6840315091118755e33"
   ]
  }
 ],
 "metadata": {
  "kernelspec": {
   "display_name": "Python 2",
   "language": "python",
   "name": "python2"
  },
  "language_info": {
   "codemirror_mode": {
    "name": "ipython",
    "version": 2
   },
   "file_extension": ".py",
   "mimetype": "text/x-python",
   "name": "python",
   "nbconvert_exporter": "python",
   "pygments_lexer": "ipython2",
   "version": "2.7.11"
  }
 },
 "nbformat": 4,
 "nbformat_minor": 0
}
