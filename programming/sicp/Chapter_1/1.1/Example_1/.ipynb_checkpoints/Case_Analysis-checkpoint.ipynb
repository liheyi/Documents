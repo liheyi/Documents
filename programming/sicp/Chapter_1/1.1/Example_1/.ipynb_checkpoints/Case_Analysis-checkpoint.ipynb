{
 "cells": [
  {
   "cell_type": "markdown",
   "metadata": {},
   "source": [
    "The absolute-value function:"
   ]
  },
  {
   "cell_type": "markdown",
   "metadata": {},
   "source": [
    "$$\\begin{eqnarray}f(x)=\n",
    "\\begin{cases}\n",
    "1, &x>0\\cr 0, &x=0 \\cr -1, &x<0\\end{cases}\n",
    "\\end{eqnarray}$$"
   ]
  },
  {
   "cell_type": "markdown",
   "metadata": {},
   "source": [
    "This construct is called a $case$ $analysis$, and there is a special form in Lisp for notating such a case analysis. It is called cond (which stands for“conditional”), and it is used as follows:"
   ]
  },
  {
   "cell_type": "raw",
   "metadata": {},
   "source": [
    "(define (abs x)\n",
    "  (cond ((> x 0) x)\n",
    "      ((= x 0) 0)\n",
    "      ((< x 0) (- x))))"
   ]
  },
  {
   "cell_type": "markdown",
   "metadata": {},
   "source": [
    "Another way to write the absolute-value procedure is:"
   ]
  },
  {
   "cell_type": "raw",
   "metadata": {},
   "source": [
    "(define (abs x)\n",
    "  (cond ((< x 0) (- x))\n",
    "      (else x)))"
   ]
  },
  {
   "cell_type": "markdown",
   "metadata": {},
   "source": [
    "Here is yet another way to write the absolute-value procedure:"
   ]
  },
  {
   "cell_type": "raw",
   "metadata": {},
   "source": [
    "(define (abs x) (if (< x 0) (- x) x))"
   ]
  }
 ],
 "metadata": {
  "kernelspec": {
   "display_name": "Python 2",
   "language": "python",
   "name": "python2"
  },
  "language_info": {
   "codemirror_mode": {
    "name": "ipython",
    "version": 2
   },
   "file_extension": ".py",
   "mimetype": "text/x-python",
   "name": "python",
   "nbconvert_exporter": "python",
   "pygments_lexer": "ipython2",
   "version": "2.7.11"
  }
 },
 "nbformat": 4,
 "nbformat_minor": 0
}
