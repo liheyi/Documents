{
 "cells": [
  {
   "cell_type": "markdown",
   "metadata": {},
   "source": [
    "### Exercise 1.6: \n",
    "Alyssa P. Hacker doesn’t see why $if$ needs to be provided as a special form. “Why can’t I just define it as an ordinary procedure in terms of $cond$?” she asks. Alyssa’s friend Eva Lu Ator claims this can indeed be done, and she defines a new version of $if$:"
   ]
  },
  {
   "cell_type": "raw",
   "metadata": {},
   "source": [
    "(define (new-if predicate then-clause else-clause)\n",
    "  (cond (predicate then-clause)\n",
    "      (else else-clause)))"
   ]
  },
  {
   "cell_type": "markdown",
   "metadata": {},
   "source": [
    "Eva demonstrates the program for Alyssa:"
   ]
  },
  {
   "cell_type": "raw",
   "metadata": {},
   "source": [
    "(new-if (= 2 3) 0 5)\n",
    "5\n",
    "(new-if (= 1 1) 0 5)\n",
    "0"
   ]
  },
  {
   "cell_type": "markdown",
   "metadata": {},
   "source": [
    "Delighted, Alyssa uses $new$-$if$ to rewrite the $square$-$root$ program:"
   ]
  },
  {
   "cell_type": "raw",
   "metadata": {},
   "source": [
    "(define (sqrt-iter guess x)\n",
    "  (new-if (good-enough? guess x)\n",
    "       guess\n",
    "       (sqrt-iter (improve guess x) x)))"
   ]
  },
  {
   "cell_type": "markdown",
   "metadata": {},
   "source": [
    "What happens when Alyssa attempts to use this to compute square roots? Explain."
   ]
  },
  {
   "cell_type": "markdown",
   "metadata": {},
   "source": [
    "### 解答："
   ]
  },
  {
   "cell_type": "markdown",
   "metadata": {},
   "source": [
    "使用new-if过程来构建新的平方根过程："
   ]
  },
  {
   "cell_type": "code",
   "execution_count": 1,
   "metadata": {
    "collapsed": false
   },
   "outputs": [
    {
     "name": "stdout",
     "output_type": "stream",
     "text": [
      "(define (average x y) (/ (+ x y) 2))\r\n",
      "(define (improve guess x) (average guess (/ x guess)))\r\n",
      "\r\n",
      "(define (good-enough? guess x)\r\n",
      "  (< (abs (- (square guess) x)) 0.001))\r\n",
      "\r\n",
      ";;The define of new-if\r\n",
      "(define (new-if predicate then-clause else-clause)\r\n",
      "  (cond (predicate then-clause) (else else-clause)))\r\n",
      "\r\n",
      ";;The define of sqrt-iter used by new-if\r\n",
      "(define (sqrt-iter guess x)\r\n",
      "  (new-if (good-enough? guess x)\r\n",
      "          guess\r\n",
      "          (sqrt-iter (improve guess x) x)))\r\n",
      "\r\n",
      "(define (square-root x) (sqrt-iter 1.0 x))\r\n"
     ]
    }
   ],
   "source": [
    "cat square-root-by-new-if.scm"
   ]
  },
  {
   "cell_type": "markdown",
   "metadata": {},
   "source": [
    "#### Running Instance:"
   ]
  },
  {
   "cell_type": "markdown",
   "metadata": {},
   "source": [
    "1 ]=> (load \"square-root-by-new-if.scm\")\n",
    "\n",
    ";Loading \"square-root-by-new-if.scm\"... done\n",
    ";Value: square-root\n",
    "\n",
    "1 ]=> (square-root 9)\n",
    "\n",
    ";Aborting!: maximum recursion depth exceeded"
   ]
  },
  {
   "cell_type": "markdown",
   "metadata": {},
   "source": [
    "#### 原因分析:"
   ]
  },
  {
   "cell_type": "markdown",
   "metadata": {},
   "source": [
    "The special form $if$, a restricted type of conditional that can be used when there are precisely two cases in the case analysis."
   ]
  },
  {
   "cell_type": "raw",
   "metadata": {},
   "source": [
    "(if ⟨predicate⟩ ⟨consequent⟩ ⟨alternative⟩)"
   ]
  },
  {
   "cell_type": "markdown",
   "metadata": {},
   "source": [
    "To evaluate an $if$ expression, the interpreter starts by evaluating the ⟨predicate⟩ part of the expression. If the ⟨predicate⟩ evaluates to a true value, the interpreter then evaluates the ⟨consequent⟩ and returns its value. Otherwise it evaluates the ⟨alternative⟩ and returns its value."
   ]
  },
  {
   "cell_type": "markdown",
   "metadata": {},
   "source": [
    "另一方面，new-if只是一个普通过程，没有if所具有的特殊形式，根据解释器使用的应用序求值规则，当过程调用时，该过程的实际参数在传入的时候都会被求值。因此当使用new-if时，无论predicate的真假，then-clause和else-clause都会被求值。"
   ]
  },
  {
   "cell_type": "markdown",
   "metadata": {},
   "source": [
    "起初让我困惑的地方在于，混淆了条件表达式cond的求值规则和一般过程应用序求值规则之间的关系。在上面的new-if的测试实例中"
   ]
  },
  {
   "cell_type": "raw",
   "metadata": {},
   "source": [
    "(new-if (= 2 3) 0 5)\n",
    "5\n",
    "(new-if (= 1 1) 0 5)\n",
    "0"
   ]
  },
  {
   "cell_type": "markdown",
   "metadata": {},
   "source": [
    "在实际参数(= 2 3),0和5传入过程new-if的过程体中时，已经按照应用序求值规则对它们进行了求值，分别的求值结果为#f，0和5，然后按照cond条件表达式的求值规则返回对应的值。这里需要特别注意的是：在cond条件表达式进行计算之前，其谓语和所有对应的分支值已经被计算出来了，cond所做的工作仅仅是根据#t或者#f来返回第一个或者第二个值。"
   ]
  },
  {
   "cell_type": "markdown",
   "metadata": {},
   "source": [
    "为了验证这一理解是否合理，我们使用display过程构造一个new-if的调用，对过程display的调用会立即输出相应的内容："
   ]
  },
  {
   "cell_type": "raw",
   "metadata": {},
   "source": [
    "1 ]=> (new-if (> 2 3) (display \"then clause\") (+ 2 3))\n",
    "then clause\n",
    ";Value: 5\n",
    "\n",
    "1 ]=> (new-if (< 2 3) (display \"then clause\") (+ 2 3))\n",
    "then clause\n",
    ";Unspecified return value"
   ]
  },
  {
   "cell_type": "markdown",
   "metadata": {},
   "source": [
    "我们对第一个调用进行分析，按照上面的理解，首先按照应用序求值规则对谓语(> 2 3)和then分支语句(display \"then clause\")即else分支语句(+ 2 3)进行求值，分别得到#f,在屏幕上输出\"then clause\"，以及整数5；然后进入new-if过程体中cond表达式进行求值，由于谓语为#f，则cond表达式返回else分支语句的值，即5，所以有如上的运行结果。对于第二个调用来说，在执行cond表达式求值之前，得到的应用序求值结果分别是#t，在屏幕上输出\"then clause\",以及整数5，在执行cond表达式求值时，由于谓语为#t，则返回then分支语句的值作为cond表达式的返回值，然而display过程在上面传入前被调用后无返回值，所以会在屏幕输出\"Unspecified return value\"的提示，所以有如上的运行结果。"
   ]
  },
  {
   "cell_type": "markdown",
   "metadata": {},
   "source": [
    "通过上面这个实例，我们就不难理解在习题集中给出的另外一个实例："
   ]
  },
  {
   "cell_type": "raw",
   "metadata": {},
   "source": [
    "1 ]=> (if #t (display \"good\") (display \"bad\"))\n",
    "good\n",
    ";Unspecified return value\n",
    "\n",
    "1 ]=> (new-if #t (display \"good\") (display \"bad\"))\n",
    "badgood\n",
    ";Unspecified return value"
   ]
  },
  {
   "cell_type": "markdown",
   "metadata": {},
   "source": [
    "#### 总结："
   ]
  },
  {
   "cell_type": "markdown",
   "metadata": {},
   "source": [
    "根据上述原因分析，说明了为什么用new-if重新定义的sqrt-iter会导致错误：  \n",
    "无论good-enough?过程的测试结果如何，sqrt-iter过程会一直递归下去，直到栈溢出。"
   ]
  }
 ],
 "metadata": {
  "kernelspec": {
   "display_name": "Python 2",
   "language": "python",
   "name": "python2"
  },
  "language_info": {
   "codemirror_mode": {
    "name": "ipython",
    "version": 2
   },
   "file_extension": ".py",
   "mimetype": "text/x-python",
   "name": "python",
   "nbconvert_exporter": "python",
   "pygments_lexer": "ipython2",
   "version": "2.7.11"
  }
 },
 "nbformat": 4,
 "nbformat_minor": 0
}
