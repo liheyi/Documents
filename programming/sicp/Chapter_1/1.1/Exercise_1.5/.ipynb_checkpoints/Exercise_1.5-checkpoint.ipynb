{
 "cells": [
  {
   "cell_type": "markdown",
   "metadata": {},
   "source": [
    "### Exercise 1.5: \n",
    "Ben Bitdiddle has invented a test to determine whether the interpreter he is faced with is using applicativeorder evaluation or normal-order evaluation. He defines the following two procedures:"
   ]
  },
  {
   "cell_type": "raw",
   "metadata": {},
   "source": [
    "(define (p) (p))\n",
    "(define (test x y) (if (= x 0) 0 y))"
   ]
  },
  {
   "cell_type": "markdown",
   "metadata": {},
   "source": [
    "Then he evaluates the expression"
   ]
  },
  {
   "cell_type": "raw",
   "metadata": {},
   "source": [
    "(test 0 (p))"
   ]
  },
  {
   "cell_type": "markdown",
   "metadata": {},
   "source": [
    "What behavior will Ben observe with an interpreter that uses applicative-order evaluation? What behavior will he observe with an interpreter that uses normal-order evaluation? Explain your answer. (Assume that the evaluation rule for the special form if is the same whether the interpreter is using normal or applicative order: The predicate expression is evaluated first, and the result determines whether to evaluate the consequent or the alternative expression.)"
   ]
  },
  {
   "cell_type": "markdown",
   "metadata": {},
   "source": [
    "### 解答:"
   ]
  },
  {
   "cell_type": "markdown",
   "metadata": {},
   "source": [
    "首先可以确定的是，无论解释器使用何种求值方式，调用(p)总是会进入无限循环，因为过程p会不断调用自身。具体到解释器中，调用(p)会让解释器陷入停滞："
   ]
  },
  {
   "cell_type": "raw",
   "metadata": {},
   "source": [
    "1 ]=> (define (p) (p))\n",
    "\n",
    ";Value: p\n",
    "\n",
    "1 ]=> (p)\n",
    "\n",
    "[3]+  Stopped                 rlwrap scheme\n",
    "liheyi@analysis:~$ killall scheme"
   ]
  },
  {
   "cell_type": "markdown",
   "metadata": {},
   "source": [
    "由于在应用序求值过程中，所有传入的实际参数都会立刻被求值，因此在使用应用序的解释器里执行(test 0 (p))时，实际参数0和(p)都会被立刻求值，而对(p)的求值使得解释器进入无线循环而停滞；因此如果一个解释器在运行Ben的测试时立刻陷入停滞，则说明该解释器使用的是应用序求值模式。"
   ]
  },
  {
   "cell_type": "markdown",
   "metadata": {},
   "source": [
    "另一方面，在正则序求值模式中，所有传入的实际参数只有在有需要时才会被求值，因此在使用正则序的解释器里执行(test 0 (p))时，0和(p)都不会立刻被求值，当解释进行到if表达式时，形式参数x的实际参数(即0)会被求值(求值结果也是0)，然后和另一个0进行比较((= x 0)),因为比较结果为真(#t),所以if表达式返回0作为值，即作为test过程调用返回的值。而对于(p)始终没有被执行，所以就不会产生无限循环而让解释器陷入停滞，因此如果一个解释器在运行Ben的测试时返回0，那么说解该解释器使用的是正则序求值模式。"
   ]
  },
  {
   "cell_type": "markdown",
   "metadata": {
    "collapsed": true
   },
   "source": [
    "测试我的scheme解释器的求值模式为应用序求值模式:"
   ]
  },
  {
   "cell_type": "code",
   "execution_count": 1,
   "metadata": {
    "collapsed": false
   },
   "outputs": [
    {
     "name": "stdout",
     "output_type": "stream",
     "text": [
      "(define (p) (p))\r\n",
      "(define (test x y) (if (= x 0) 0 y))\r\n"
     ]
    }
   ],
   "source": [
    "cat applicative-order?_or_normal-order?.scm"
   ]
  },
  {
   "cell_type": "markdown",
   "metadata": {},
   "source": [
    "#### Running Instance:"
   ]
  },
  {
   "cell_type": "raw",
   "metadata": {},
   "source": [
    "1 ]=> (load \"applicative-order?_or_normal-order?.scm\")\n",
    "\n",
    ";Loading \"applicative-order?_or_normal-order?.scm\"... done\n",
    ";Value: test\n",
    "\n",
    "1 ]=> (test 0 (p))\n",
    "^Z\n",
    "[1]+  Stopped                 rlwrap scheme"
   ]
  }
 ],
 "metadata": {
  "kernelspec": {
   "display_name": "Python 2",
   "language": "python",
   "name": "python2"
  },
  "language_info": {
   "codemirror_mode": {
    "name": "ipython",
    "version": 2
   },
   "file_extension": ".py",
   "mimetype": "text/x-python",
   "name": "python",
   "nbconvert_exporter": "python",
   "pygments_lexer": "ipython2",
   "version": "2.7.11"
  }
 },
 "nbformat": 4,
 "nbformat_minor": 0
}
