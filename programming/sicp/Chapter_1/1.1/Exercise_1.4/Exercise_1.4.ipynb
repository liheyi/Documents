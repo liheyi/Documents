{
 "cells": [
  {
   "cell_type": "markdown",
   "metadata": {},
   "source": [
    "### Exercise 1.4: \n",
    "Observe that our model of evaluation allows for combinations whose operators are compound expressions.Use this observation to describe the behavior of the following procedure:"
   ]
  },
  {
   "cell_type": "raw",
   "metadata": {},
   "source": [
    "(define (a-plus-abs-b a b)\n",
    "  ((if (> b 0) + -) a b))"
   ]
  },
  {
   "cell_type": "markdown",
   "metadata": {},
   "source": [
    "### Answer:"
   ]
  },
  {
   "cell_type": "markdown",
   "metadata": {},
   "source": [
    "$a$-$plus$-$abs$-b$ is the first example of a higher order procedure."
   ]
  },
  {
   "cell_type": "markdown",
   "metadata": {},
   "source": [
    "In $if$ conditional expression,when $b>0$,it returns $+$ primitive procedure."
   ]
  },
  {
   "cell_type": "raw",
   "metadata": {},
   "source": [
    "1 ]=> (if (> 1 0) + -)\n",
    "\n",
    ";Value 13: #[arity-dispatched-procedure 13]\n",
    "\n",
    "1 ]=> +\n",
    "\n",
    ";Value 13: #[arity-dispatched-procedure 13]"
   ]
  },
  {
   "cell_type": "markdown",
   "metadata": {},
   "source": [
    "When $b<0$ or $b=0$,it returns $-$ primitive procedure."
   ]
  },
  {
   "cell_type": "raw",
   "metadata": {},
   "source": [
    "1 ]=> (if (> -1 0) + -)\n",
    "\n",
    ";Value 14: #[arity-dispatched-procedure 14]\n",
    "\n",
    "1 ]=> -\n",
    "\n",
    ";Value 14: #[arity-dispatched-procedure 14]"
   ]
  },
  {
   "cell_type": "markdown",
   "metadata": {},
   "source": [
    "#### Running Instance:"
   ]
  },
  {
   "cell_type": "code",
   "execution_count": 1,
   "metadata": {
    "collapsed": false
   },
   "outputs": [
    {
     "name": "stdout",
     "output_type": "stream",
     "text": [
      "(define (a-plus-abs-b a b)\r\n",
      "  ((if (> b 0) + -) a b))\r\n"
     ]
    }
   ],
   "source": [
    "cat a-plus-abs-b.scm"
   ]
  },
  {
   "cell_type": "raw",
   "metadata": {},
   "source": [
    "1 ]=> (load \"a-plus-abs-b.scm\")\n",
    "\n",
    ";Loading \"a-plus-abs-b.scm\"... done\n",
    ";Value: a-plus-abs-b\n",
    "\n",
    "1 ]=> (a-plus-abs-b 2 2)\n",
    "\n",
    ";Value: 4\n",
    "\n",
    "1 ]=> (a-plus-abs-b 2 (- 2))\n",
    "\n",
    ";Value: 4"
   ]
  }
 ],
 "metadata": {
  "kernelspec": {
   "display_name": "Python 2",
   "language": "python",
   "name": "python2"
  },
  "language_info": {
   "codemirror_mode": {
    "name": "ipython",
    "version": 2
   },
   "file_extension": ".py",
   "mimetype": "text/x-python",
   "name": "python",
   "nbconvert_exporter": "python",
   "pygments_lexer": "ipython2",
   "version": "2.7.11"
  }
 },
 "nbformat": 4,
 "nbformat_minor": 0
}
