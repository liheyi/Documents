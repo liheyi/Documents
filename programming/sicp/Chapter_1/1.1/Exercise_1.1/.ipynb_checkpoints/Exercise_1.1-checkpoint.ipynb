{
 "cells": [
  {
   "cell_type": "markdown",
   "metadata": {},
   "source": [
    "### Exercise 1.1: \n",
    "Below is a sequence of expressions. What is the result printed by the interpreter in response to each expression? Assume that the sequence is to be evaluated in the order in which it is presented."
   ]
  },
  {
   "cell_type": "markdown",
   "metadata": {},
   "source": [
    "#### Running Instance:"
   ]
  },
  {
   "cell_type": "raw",
   "metadata": {},
   "source": [
    "1 ]=> 10\n",
    "\n",
    ";Value: 10"
   ]
  },
  {
   "cell_type": "raw",
   "metadata": {},
   "source": [
    "1 ]=> (+ 5 3 4)\n",
    "\n",
    ";Value: 12"
   ]
  },
  {
   "cell_type": "raw",
   "metadata": {},
   "source": [
    "1 ]=> (+ (* 2 4) (- 4 6))\n",
    "\n",
    ";Value: 6"
   ]
  },
  {
   "cell_type": "raw",
   "metadata": {},
   "source": [
    "1 ]=> (define a 3)\n",
    "\n",
    ";Value: a\n",
    "\n",
    "1 ]=> (define b (+ a 1))\n",
    "\n",
    ";Value: b\n",
    "\n",
    "1 ]=> (+ a b (* a b))\n",
    "\n",
    ";Value: 19\n",
    "\n",
    "1 ]=> (= a b)\n",
    "\n",
    ";Value: #f"
   ]
  },
  {
   "cell_type": "raw",
   "metadata": {},
   "source": [
    "1 ]=> (if (and (> b a) (< b (* a b)))\n",
    "       b\n",
    "       a)\n",
    "\n",
    ";Value: 4"
   ]
  },
  {
   "cell_type": "raw",
   "metadata": {},
   "source": [
    "1 ]=> (cond ((= a 4) 6)\n",
    "`        ((= b 4) (+ 6 7 a))\n",
    "`        (else 25))\n",
    "\n",
    ";Value: 16"
   ]
  },
  {
   "cell_type": "raw",
   "metadata": {},
   "source": [
    "1 ]=> (+ 2 (if (> b a) b a))\n",
    "\n",
    ";Value: 6"
   ]
  },
  {
   "cell_type": "raw",
   "metadata": {},
   "source": [
    "1 ]=> (* (cond ((> a b) a)\n",
    "`          ((< a b) b)\n",
    "`          (else -1))\n",
    "`      (+ a 1))\n",
    "\n",
    ";Value: 16"
   ]
  }
 ],
 "metadata": {
  "kernelspec": {
   "display_name": "Python 2",
   "language": "python",
   "name": "python2"
  },
  "language_info": {
   "codemirror_mode": {
    "name": "ipython",
    "version": 2
   },
   "file_extension": ".py",
   "mimetype": "text/x-python",
   "name": "python",
   "nbconvert_exporter": "python",
   "pygments_lexer": "ipython2",
   "version": "2.7.11"
  }
 },
 "nbformat": 4,
 "nbformat_minor": 0
}
