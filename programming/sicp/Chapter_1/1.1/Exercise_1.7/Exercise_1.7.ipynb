{
 "cells": [
  {
   "cell_type": "markdown",
   "metadata": {},
   "source": [
    "### Exercise 1.7: \n",
    "The good-enough? test used in computing square roots will not be very effective for finding the square roots of very small numbers. Also, in realcomputers, arithmetic operations are almost always performed with limited precision. This makes our test inadequate for very large numbers. Explain these statements, with examples showing how the test fails for small and large numbers. An alternative strategy for implementing good-enough? is to watch how guess changes from one iteration to the next and to stop when the change is a very small fraction of the guess.Design a square-root procedure that uses this kind of end test. Does this work better for small and large numbers?"
   ]
  },
  {
   "cell_type": "markdown",
   "metadata": {},
   "source": [
    "### 解答:"
   ]
  },
  {
   "cell_type": "markdown",
   "metadata": {},
   "source": [
    "使用Example_2中平方根过程对很小的数和很大的数进行求平方根测试："
   ]
  },
  {
   "cell_type": "code",
   "execution_count": 2,
   "metadata": {
    "collapsed": false
   },
   "outputs": [
    {
     "name": "stdout",
     "output_type": "stream",
     "text": [
      "(define (average x y) (/ (+ x y) 2))\r\n",
      "(define (improve guess x) (average guess (/ x guess)))\r\n",
      "\r\n",
      "(define (good-enough? guess x)\r\n",
      "  (< (abs (- (square guess) x)) 0.001))\r\n",
      "\r\n",
      "(define (sqrt-iter guess x)\r\n",
      "  (if (good-enough? guess x)\r\n",
      "      guess\r\n",
      "      (sqrt-iter (improve guess x) x)))\r\n",
      "\r\n",
      "(define (square-root x) (sqrt-iter 1.0 x))\r\n"
     ]
    }
   ],
   "source": [
    "cat ../Example_2/square-root-by-newton-method.scm"
   ]
  },
  {
   "cell_type": "markdown",
   "metadata": {},
   "source": [
    "#### Running Instance:"
   ]
  },
  {
   "cell_type": "raw",
   "metadata": {},
   "source": [
    "1 ]=> (load \"../Example_2/square-root-by-newton-method.scm\")\n",
    "\n",
    ";Loading \"../Example_2/square-root-by-newton-method.scm\"... done\n",
    ";Value: square-root\n",
    "\n",
    "1 ]=> (square-root 0.00009)\n",
    "\n",
    ";Value: .03220324381282134\n",
    "\n",
    ";;反向平方验证\n",
    ";;发现误差很大\n",
    "1 ]=> (square .03220324381282134)\n",
    "\n",
    ";Value: 1.0370489120680158e-3\n",
    "\n",
    ";;误差率达到1052%！\n",
    "In [1]: (1.0370489120680158e-3 - 0.00009) / 0.00009\n",
    "Out[1]: 10.522765689644618"
   ]
  },
  {
   "cell_type": "raw",
   "metadata": {},
   "source": [
    "1 ]=> (load \"../Example_2/square-root-by-newton-method.scm\")\n",
    "\n",
    ";Loading \"../Example_2/square-root-by-newton-method.scm\"... done\n",
    ";Value: square-root\n",
    "\n",
    "1 ]=> (square-root 90000000000000000000000000000000000000000000000000)\n",
    "\n",
    ";;直接停滞！\n",
    "Interrupt option (? for help): \n",
    ";Up!"
   ]
  },
  {
   "cell_type": "markdown",
   "metadata": {},
   "source": [
    "对于特别小的数，比如 0.00009，实例Example_2中的square-root并不能计算出正确的答案；  \n",
    "对于特别大的数，由于mit-scheme实现的小数精度不足以表示两个大数之间的差，所以square-root会陷入死循环而无法得出正确结果"
   ]
  },
  {
   "cell_type": "markdown",
   "metadata": {},
   "source": [
    "按照题目中给出的提示，我们重新定义good-enough？过程：检测相邻两个猜测值guess之间的比率，当比率变化非常小时，如0.001，则停止improve"
   ]
  },
  {
   "cell_type": "code",
   "execution_count": 4,
   "metadata": {
    "collapsed": false
   },
   "outputs": [
    {
     "name": "stdout",
     "output_type": "stream",
     "text": [
      "(define (average x y) (/ (+ x y) 2))\r\n",
      "(define (improve guess x) (average guess (/ x guess)))\r\n",
      "\r\n",
      ";(define (good-enough? guess x)\r\n",
      ";  (< (abs (- (square guess) x)) 0.001))\r\n",
      "(define (good-enough? old-guess new-guess)\r\n",
      "  (< (/ (abs (- new-guess old-guess)) old-guess) 0.001))\r\n",
      "\r\n",
      ";(define (sqrt-iter guess x)\r\n",
      ";  (if (good-enough? guess x)\r\n",
      ";      guess\r\n",
      ";      (sqrt-iter (improve guess x) x)))\r\n",
      "(define (sqrt-iter guess x)\r\n",
      "  (if (good-enough? guess (improve guess x))\r\n",
      "      (improve guess x)\r\n",
      "      (sqrt-iter (improve guess x) x)))\r\n",
      "\r\n",
      "(define (square-root x) (sqrt-iter 1.0 x))\r\n"
     ]
    }
   ],
   "source": [
    "cat square-root-by-ratio.scm"
   ]
  },
  {
   "cell_type": "markdown",
   "metadata": {},
   "source": [
    "#### Running Instance:"
   ]
  },
  {
   "cell_type": "raw",
   "metadata": {},
   "source": [
    "1 ]=> (load \"square-root-by-ratio.scm\")\n",
    "\n",
    ";Loading \"square-root-by-ratio.scm\"... done\n",
    ";Value: square-root\n",
    "\n",
    "1 ]=> (square-root 0.00009)\n",
    "\n",
    ";Value: 9.486833049684392e-3\n",
    "\n",
    ";;反向验证发现误差很小\n",
    "1 ]=> (square 9.486833049684392e-3)\n",
    "\n",
    ";Value: 9.000000131258407e-5"
   ]
  },
  {
   "cell_type": "markdown",
   "metadata": {},
   "source": [
    "1 ]=> (load \"square-root-by-ratio.scm\")\n",
    "\n",
    ";Loading \"square-root-by-ratio.scm\"... done\n",
    ";Value: square-root\n",
    "\n",
    "1 ]=> (square-root 90000000000000000000000000000000000000000000000000)\n",
    "\n",
    ";Value: 9.486834544542365e24\n",
    "\n",
    "1 ]=> (square-root 9e50)\n",
    "\n",
    ";Value: 3.0000000065711664e25"
   ]
  }
 ],
 "metadata": {
  "kernelspec": {
   "display_name": "Python 2",
   "language": "python",
   "name": "python2"
  },
  "language_info": {
   "codemirror_mode": {
    "name": "ipython",
    "version": 2
   },
   "file_extension": ".py",
   "mimetype": "text/x-python",
   "name": "python",
   "nbconvert_exporter": "python",
   "pygments_lexer": "ipython2",
   "version": "2.7.11"
  }
 },
 "nbformat": 4,
 "nbformat_minor": 0
}
