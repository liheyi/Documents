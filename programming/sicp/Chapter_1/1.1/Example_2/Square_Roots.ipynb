{
 "cells": [
  {
   "cell_type": "markdown",
   "metadata": {},
   "source": [
    "## Square Roots by Newton’s Method"
   ]
  },
  {
   "cell_type": "markdown",
   "metadata": {},
   "source": [
    "Consider the problem of computing square roots.We can define the square-root function as"
   ]
  },
  {
   "cell_type": "markdown",
   "metadata": {},
   "source": [
    "$$\\sqrt{x}\\;=\\;\\text{the y such that}\\;y\\geq0\\;\\text{and}\\;y^2=x.$$"
   ]
  },
  {
   "cell_type": "markdown",
   "metadata": {},
   "source": [
    "How does one compute square roots? The most common way is to use Newton’s method of successive approximations, which says that whenever we have a guess $y$ for the value of the square root of a number $x$, we can perform a simple manipulation to get a better guess (one closer to the actual square root) by averaging $y$ with $x/y$. For example, we\n",
    "can compute the square root of 2 as follows. Suppose our initial guess is 1:"
   ]
  },
  {
   "cell_type": "raw",
   "metadata": {},
   "source": [
    "Guess           Quotient            Average\n",
    "1              (2/1) = 2           ((2 + 1)/2) = 1.5\n",
    "1.5            `(2/1.5) = 1.3333      `((1.3333 + 1.5)/2) = 1.4167\n",
    "1.4167          `(2/1.4167) = 1.4118    `((1.4167 + 1.4118)/2) = 1.4142\n",
    "1.4142           ...               ..."
   ]
  },
  {
   "cell_type": "markdown",
   "metadata": {},
   "source": [
    "Continuing this process, we obtain better and better approximations to the square root."
   ]
  },
  {
   "cell_type": "markdown",
   "metadata": {},
   "source": [
    "Now let’s formalize the process in terms of procedures. We start with a value for the radicand (the number whose square root we are trying to compute) and a value for the guess. If the guess is good enough for our purposes, we are done; if not, we must repeat the process with an improved guess. We write this basic strategy as a procedure:"
   ]
  },
  {
   "cell_type": "raw",
   "metadata": {},
   "source": [
    "(define (sqrt-iter guess x)\n",
    "  (if (good-enough? guess x)\n",
    "`    guess\n",
    "`    (sqrt-iter (improve guess x) x)))"
   ]
  },
  {
   "cell_type": "markdown",
   "metadata": {},
   "source": [
    "A guess is improved by averaging it with the quotient of the radicand and the old guess:"
   ]
  },
  {
   "cell_type": "raw",
   "metadata": {},
   "source": [
    "(define (improve guess x) (average guess (/ x guess)))\n",
    "(define (average x y) (/ (+ x y) 2))"
   ]
  },
  {
   "cell_type": "markdown",
   "metadata": {},
   "source": [
    "We also have to say what we mean by “good enough.”The idea is to improve the answer until it is close enough so that its square differs from the radicand by less than a predetermined tolerance (here 0.001)"
   ]
  },
  {
   "cell_type": "raw",
   "metadata": {},
   "source": [
    "(define (good-enough? guess x) (< (abs (- (square guess) x)) 0.001))"
   ]
  },
  {
   "cell_type": "markdown",
   "metadata": {},
   "source": [
    "Finally, we need a way to get started.   \n",
    "For instance, we can always guess that the square root of any number is 1.0:"
   ]
  },
  {
   "cell_type": "raw",
   "metadata": {},
   "source": [
    "(define (square-root x) (sqrt-iter 1.0 x))"
   ]
  },
  {
   "cell_type": "markdown",
   "metadata": {},
   "source": [
    "If we type these definitions to the interpreter, we can use square-root just as we can use any procedure"
   ]
  },
  {
   "cell_type": "code",
   "execution_count": 1,
   "metadata": {
    "collapsed": false
   },
   "outputs": [
    {
     "name": "stdout",
     "output_type": "stream",
     "text": [
      "(define (average x y) (/ (+ x y) 2))\r\n",
      "(define (improve guess x) (average guess (/ x guess)))\r\n",
      "\r\n",
      "(define (good-enough? guess x)\r\n",
      "  (< (abs (- (square guess) x)) 0.001))\r\n",
      "\r\n",
      "(define (sqrt-iter guess x)\r\n",
      "  (if (good-enough? guess x)\r\n",
      "      guess\r\n",
      "      (sqrt-iter (improve guess x) x)))\r\n",
      "\r\n",
      "(define (square-root x) (sqrt-iter 1.0 x))\r\n"
     ]
    }
   ],
   "source": [
    "cat square-root-by-newton-method.scm"
   ]
  },
  {
   "cell_type": "markdown",
   "metadata": {},
   "source": [
    "#### Running Instance:"
   ]
  },
  {
   "cell_type": "raw",
   "metadata": {},
   "source": [
    "1 ]=> (load \"square-root-by-newton-method.scm\")\n",
    "\n",
    ";Loading \"square-root-by-newton-method.scm\"... done\n",
    ";Value: square-root\n",
    "\n",
    "1 ]=> (square-root 9)\n",
    "\n",
    ";Value: 3.00009155413138\n",
    "\n",
    "1 ]=> (square-root (+ 100 37))\n",
    "\n",
    ";Value: 11.704699917758145\n",
    "\n",
    "1 ]=> (square-root (+ (square-root 2) (square-root 3)))\n",
    "\n",
    ";Value: 1.7739279023207892\n",
    "\n",
    "1 ]=> (square (square-root 1000))\n",
    "\n",
    ";Value: 1000.000369924366"
   ]
  }
 ],
 "metadata": {
  "kernelspec": {
   "display_name": "Python 2",
   "language": "python",
   "name": "python2"
  },
  "language_info": {
   "codemirror_mode": {
    "name": "ipython",
    "version": 2
   },
   "file_extension": ".py",
   "mimetype": "text/x-python",
   "name": "python",
   "nbconvert_exporter": "python",
   "pygments_lexer": "ipython2",
   "version": "2.7.11"
  }
 },
 "nbformat": 4,
 "nbformat_minor": 0
}
