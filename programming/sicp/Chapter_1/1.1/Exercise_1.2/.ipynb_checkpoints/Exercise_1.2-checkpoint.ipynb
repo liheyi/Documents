{
 "cells": [
  {
   "cell_type": "markdown",
   "metadata": {},
   "source": [
    "### Exercise 1.2: \n",
    "Translate the following expression into prefix form:\n",
    "$$\\frac{5\\,+\\,4\\,+\\,(2\\,-\\,(3\\,-\\,(6\\,+\\,\\frac{4}{5})))}{3(6\\,-\\,2)(2\\,-\\,7)}.$$"
   ]
  },
  {
   "cell_type": "markdown",
   "metadata": {},
   "source": [
    "#### Running Instance:"
   ]
  },
  {
   "cell_type": "raw",
   "metadata": {},
   "source": [
    "1 ]=> (/ (+ 5 4 (- 2 (- 3 (+ 6 (/ 4 5)))))\n",
    "         (* 3 (- 6 2) (- 2 7)))\n",
    "\n",
    ";Value: -37/150"
   ]
  }
 ],
 "metadata": {
  "kernelspec": {
   "display_name": "Python 2",
   "language": "python",
   "name": "python2"
  },
  "language_info": {
   "codemirror_mode": {
    "name": "ipython",
    "version": 2
   },
   "file_extension": ".py",
   "mimetype": "text/x-python",
   "name": "python",
   "nbconvert_exporter": "python",
   "pygments_lexer": "ipython2",
   "version": "2.7.11"
  }
 },
 "nbformat": 4,
 "nbformat_minor": 0
}
