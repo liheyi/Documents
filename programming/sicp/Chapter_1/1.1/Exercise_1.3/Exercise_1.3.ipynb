{
 "cells": [
  {
   "cell_type": "markdown",
   "metadata": {},
   "source": [
    "### Exercise 1.3: \n",
    "Define a procedure that takes three numbers as arguments and returns the sum of the squares of the two larger numbers."
   ]
  },
  {
   "cell_type": "markdown",
   "metadata": {},
   "source": [
    "### Answer:"
   ]
  },
  {
   "cell_type": "markdown",
   "metadata": {},
   "source": [
    "$sum$-$of$-$squares$ procedure produces the sum of squares of any two numbers,such as $x^2+y^2$:"
   ]
  },
  {
   "cell_type": "code",
   "execution_count": 1,
   "metadata": {
    "collapsed": false
   },
   "outputs": [
    {
     "name": "stdout",
     "output_type": "stream",
     "text": [
      "(define (sum-of-square x y)\r\n",
      "  (+ (square x) (square y)))\r\n"
     ]
    }
   ],
   "source": [
    "cat sum-of-square.scm"
   ]
  },
  {
   "cell_type": "markdown",
   "metadata": {},
   "source": [
    "The key idea is how to determine the two larger numbers in any given three numbers:"
   ]
  },
  {
   "cell_type": "markdown",
   "metadata": {},
   "source": [
    "### A.intuitive method\n",
    "An intuitive method that we can use $cond$ or $if$ conditional expression:"
   ]
  },
  {
   "cell_type": "code",
   "execution_count": 2,
   "metadata": {
    "collapsed": false
   },
   "outputs": [
    {
     "name": "stdout",
     "output_type": "stream",
     "text": [
      "(load \"sum-of-square.scm\")\r\n",
      "\r\n",
      "(define (bigger-sum-of-square-by-cond x y z) \r\n",
      "  (cond ((and (> x y) (> y z)) (sum-of-square x y))\r\n",
      "        ((and (> x y) (> z y)) (sum-of-square x z))\r\n",
      "        ((and (> y x) (> x z)) (sum-of-square y x))\r\n",
      "        ((and (> y x) (> z x)) (sum-of-square y z))))\r\n"
     ]
    }
   ],
   "source": [
    "cat bigger-sum-of-square-by-cond.scm"
   ]
  },
  {
   "cell_type": "markdown",
   "metadata": {},
   "source": [
    "#### Running Instance:"
   ]
  },
  {
   "cell_type": "raw",
   "metadata": {},
   "source": [
    "1 ]=> (load \"bigger-sum-of-square-by-cond.scm\")\n",
    "\n",
    ";Loading \"bigger-sum-of-square-by-cond.scm\"...\n",
    ";  Loading \"sum-of-square.scm\"... done\n",
    ";... done\n",
    ";Value: bigger-sum-of-square-by-cond\n",
    "\n",
    "1 ]=> (bigger-sum-of-square-by-cond 4 2 3)\n",
    "\n",
    ";Value: 25\n",
    "\n",
    "1 ]=> (bigger-sum-of-square-by-cond 12 15 2)\n",
    "\n",
    ";Value: 369"
   ]
  },
  {
   "cell_type": "code",
   "execution_count": 4,
   "metadata": {
    "collapsed": false
   },
   "outputs": [
    {
     "name": "stdout",
     "output_type": "stream",
     "text": [
      "(load \"sum-of-square.scm\")\r\n",
      "\r\n",
      "(define (bigger-sum-of-square-by-if x y z)\r\n",
      "  (if (> x y)\r\n",
      "      (if (> y z)\r\n",
      "          (sum-of-square x y)\r\n",
      "          (sum-of-square x z))\r\n",
      "      (if (> x z)\r\n",
      "          (sum-of-square y x)\r\n",
      "          (sum-of-square y z))))\r\n"
     ]
    }
   ],
   "source": [
    "cat bigger-sum-of-square-by-if.scm"
   ]
  },
  {
   "cell_type": "markdown",
   "metadata": {},
   "source": [
    "#### Running Instance:"
   ]
  },
  {
   "cell_type": "raw",
   "metadata": {},
   "source": [
    "1 ]=> (load \"bigger-sum-of-square-by-if.scm\")\n",
    "\n",
    ";Loading \"bigger-sum-of-square-by-if.scm\"...\n",
    ";  Loading \"sum-of-square.scm\"... done\n",
    ";... done\n",
    ";Value: bigger-sum-of-square-by-if\n",
    "\n",
    "1 ]=> (bigger-sum-of-square-by-if 4 2 3)\n",
    "\n",
    ";Value: 25\n",
    "\n",
    "1 ]=> (bigger-sum-of-square-by-if 12 15 2)\n",
    "\n",
    ";Value: 369"
   ]
  },
  {
   "cell_type": "markdown",
   "metadata": {},
   "source": [
    "### B.abstract method"
   ]
  },
  {
   "cell_type": "markdown",
   "metadata": {},
   "source": [
    "We can define $bigger$ procedure that returns maximum of any two numbers,and $smaller$ procedure that retruns minimum of any two numbers"
   ]
  },
  {
   "cell_type": "code",
   "execution_count": 5,
   "metadata": {
    "collapsed": false
   },
   "outputs": [
    {
     "name": "stdout",
     "output_type": "stream",
     "text": [
      "(define (bigger x y) (if (> x y) x y))\r\n",
      "(define (smaller x y) (if (> x y) y x))\r\n"
     ]
    }
   ],
   "source": [
    "cat  bigger-and-smaller.scm"
   ]
  },
  {
   "cell_type": "markdown",
   "metadata": {},
   "source": [
    "So,we can do it:"
   ]
  },
  {
   "cell_type": "code",
   "execution_count": 6,
   "metadata": {
    "collapsed": false
   },
   "outputs": [
    {
     "name": "stdout",
     "output_type": "stream",
     "text": [
      "(load \"sum-of-square.scm\")\r\n",
      "(load \"bigger-and-smaller.scm\")\r\n",
      "\r\n",
      "(define (bigger-sum-of-square-by-abstract x y z)\r\n",
      "  (sum-of-square (bigger x y) (bigger (smaller x y) z)))\r\n"
     ]
    }
   ],
   "source": [
    "cat bigger-sum-of-square-by-abstract.scm"
   ]
  },
  {
   "cell_type": "markdown",
   "metadata": {},
   "source": [
    "#### Running Instance:"
   ]
  },
  {
   "cell_type": "raw",
   "metadata": {},
   "source": [
    "1 ]=> (load \"bigger-sum-of-square-by-abstract.scm\")\n",
    "\n",
    ";Loading \"bigger-sum-of-square-by-abstract.scm\"...\n",
    ";  Loading \"sum-of-square.scm\"... done\n",
    ";  Loading \"bigger-and-smaller.scm\"... done\n",
    ";... done\n",
    ";Value: bigger-sum-of-square-by-abstract\n",
    "\n",
    "1 ]=> (bigger-sum-of-square-by-abstract 4 2 3)\n",
    "\n",
    ";Value: 25\n",
    "\n",
    "1 ]=> (bigger-sum-of-square-by-abstract 12 15 2)\n",
    "\n",
    ";Value: 369"
   ]
  }
 ],
 "metadata": {
  "kernelspec": {
   "display_name": "Python 2",
   "language": "python",
   "name": "python2"
  },
  "language_info": {
   "codemirror_mode": {
    "name": "ipython",
    "version": 2
   },
   "file_extension": ".py",
   "mimetype": "text/x-python",
   "name": "python",
   "nbconvert_exporter": "python",
   "pygments_lexer": "ipython2",
   "version": "2.7.11"
  }
 },
 "nbformat": 4,
 "nbformat_minor": 0
}
