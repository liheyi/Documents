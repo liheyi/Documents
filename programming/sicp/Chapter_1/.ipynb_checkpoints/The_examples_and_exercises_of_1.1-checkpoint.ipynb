{
 "cells": [
  {
   "cell_type": "markdown",
   "metadata": {},
   "source": [
    "# 1.1 The Elements of Programming"
   ]
  },
  {
   "cell_type": "markdown",
   "metadata": {
    "collapsed": true
   },
   "source": [
    "## Example 1:Case Analysis"
   ]
  },
  {
   "cell_type": "markdown",
   "metadata": {},
   "source": [
    "The absolute-value function:"
   ]
  },
  {
   "cell_type": "markdown",
   "metadata": {},
   "source": [
    "$$\\begin{eqnarray}f(x)=\n",
    "\\begin{cases}\n",
    "1, &x>0\\cr 0, &x=0 \\cr -1, &x<0\\end{cases}\n",
    "\\end{eqnarray}$$"
   ]
  },
  {
   "cell_type": "markdown",
   "metadata": {},
   "source": [
    "This construct is called a $case$ $analysis$, and there is a special form in Lisp for notating such a case analysis. It is called cond (which stands for“conditional”), and it is used as follows:"
   ]
  },
  {
   "cell_type": "raw",
   "metadata": {},
   "source": [
    "(define (abs x)\n",
    "  (cond ((> x 0) x)\n",
    "      ((= x 0) 0)\n",
    "      ((< x 0) (- x))))"
   ]
  },
  {
   "cell_type": "markdown",
   "metadata": {},
   "source": [
    "Another way to write the absolute-value procedure is:"
   ]
  },
  {
   "cell_type": "raw",
   "metadata": {},
   "source": [
    "(define (abs x)\n",
    "  (cond ((< x 0) (- x))\n",
    "      (else x)))"
   ]
  },
  {
   "cell_type": "markdown",
   "metadata": {},
   "source": [
    "Here is yet another way to write the absolute-value procedure:"
   ]
  },
  {
   "cell_type": "raw",
   "metadata": {},
   "source": [
    "(define (abs x) (if (< x 0) (- x) x))"
   ]
  },
  {
   "cell_type": "markdown",
   "metadata": {},
   "source": [
    "### Exercise 1.1: \n",
    "Below is a sequence of expressions. What is the result printed by the interpreter in response to each expression? Assume that the sequence is to be evaluated in the order in which it is presented."
   ]
  },
  {
   "cell_type": "markdown",
   "metadata": {},
   "source": [
    "### Answer:"
   ]
  },
  {
   "cell_type": "markdown",
   "metadata": {},
   "source": [
    "#### Running Instance:"
   ]
  },
  {
   "cell_type": "raw",
   "metadata": {},
   "source": [
    "1 ]=> 10\n",
    "\n",
    ";Value: 10"
   ]
  },
  {
   "cell_type": "raw",
   "metadata": {},
   "source": [
    "1 ]=> (+ 5 3 4)\n",
    "\n",
    ";Value: 12"
   ]
  },
  {
   "cell_type": "raw",
   "metadata": {},
   "source": [
    "1 ]=> (+ (* 2 4) (- 4 6))\n",
    "\n",
    ";Value: 6"
   ]
  },
  {
   "cell_type": "raw",
   "metadata": {},
   "source": [
    "1 ]=> (define a 3)\n",
    "\n",
    ";Value: a\n",
    "\n",
    "1 ]=> (define b (+ a 1))\n",
    "\n",
    ";Value: b\n",
    "\n",
    "1 ]=> (+ a b (* a b))\n",
    "\n",
    ";Value: 19\n",
    "\n",
    "1 ]=> (= a b)\n",
    "\n",
    ";Value: #f"
   ]
  },
  {
   "cell_type": "raw",
   "metadata": {},
   "source": [
    "1 ]=> (if (and (> b a) (< b (* a b)))\n",
    "       b\n",
    "       a)\n",
    "\n",
    ";Value: 4"
   ]
  },
  {
   "cell_type": "raw",
   "metadata": {},
   "source": [
    "1 ]=> (cond ((= a 4) 6)\n",
    "`        ((= b 4) (+ 6 7 a))\n",
    "`        (else 25))\n",
    "\n",
    ";Value: 16"
   ]
  },
  {
   "cell_type": "raw",
   "metadata": {},
   "source": [
    "1 ]=> (+ 2 (if (> b a) b a))\n",
    "\n",
    ";Value: 6"
   ]
  },
  {
   "cell_type": "raw",
   "metadata": {},
   "source": [
    "1 ]=> (* (cond ((> a b) a)\n",
    "`          ((< a b) b)\n",
    "`          (else -1))\n",
    "`      (+ a 1))\n",
    "\n",
    ";Value: 16"
   ]
  },
  {
   "cell_type": "markdown",
   "metadata": {},
   "source": [
    "### Exercise 1.2: \n",
    "Translate the following expression into prefix form:\n",
    "$$\\frac{5\\,+\\,4\\,+\\,(2\\,-\\,(3\\,-\\,(6\\,+\\,\\frac{4}{5})))}{3(6\\,-\\,2)(2\\,-\\,7)}.$$"
   ]
  },
  {
   "cell_type": "markdown",
   "metadata": {},
   "source": [
    "### Answer:"
   ]
  },
  {
   "cell_type": "markdown",
   "metadata": {},
   "source": [
    "#### Running Instance:"
   ]
  },
  {
   "cell_type": "raw",
   "metadata": {},
   "source": [
    "1 ]=> (/ (+ 5 4 (- 2 (- 3 (+ 6 (/ 4 5)))))\n",
    "         (* 3 (- 6 2) (- 2 7)))\n",
    "\n",
    ";Value: -37/150"
   ]
  },
  {
   "cell_type": "markdown",
   "metadata": {},
   "source": [
    "### Exercise 1.3: \n",
    "Define a procedure that takes three numbers as arguments and returns the sum of the squares of the two larger numbers."
   ]
  },
  {
   "cell_type": "markdown",
   "metadata": {},
   "source": [
    "### Answer:"
   ]
  },
  {
   "cell_type": "markdown",
   "metadata": {},
   "source": [
    "$sum$-$of$-$squares$ procedure produces the sum of squares of any two numbers,such as $x^2+y^2$:"
   ]
  },
  {
   "cell_type": "code",
   "execution_count": 1,
   "metadata": {
    "collapsed": false
   },
   "outputs": [
    {
     "name": "stdout",
     "output_type": "stream",
     "text": [
      "(define (sum-of-square x y)\r\n",
      "  (+ (square x) (square y)))\r\n"
     ]
    }
   ],
   "source": [
    "cat 1.1/Exercise_1.3/sum-of-square.scm"
   ]
  },
  {
   "cell_type": "markdown",
   "metadata": {},
   "source": [
    "#### The key idea is how to determine the two larger numbers in any given three numbers."
   ]
  },
  {
   "cell_type": "markdown",
   "metadata": {},
   "source": [
    "### A. Intuitive Method\n",
    "An intuitive method that we can use $cond$ or $if$ conditional expression:"
   ]
  },
  {
   "cell_type": "markdown",
   "metadata": {},
   "source": [
    "###### 1. implemented by cond conditional expression"
   ]
  },
  {
   "cell_type": "code",
   "execution_count": 5,
   "metadata": {
    "collapsed": false
   },
   "outputs": [
    {
     "name": "stdout",
     "output_type": "stream",
     "text": [
      "(load \"1.1/Exercise_1.3/sum-of-square.scm\")\r\n",
      "\r\n",
      "(define (bigger-sum-of-square-by-cond x y z) \r\n",
      "  (cond ((and (> x y) (> y z)) (sum-of-square x y))\r\n",
      "        ((and (> x y) (> z y)) (sum-of-square x z))\r\n",
      "        ((and (> y x) (> x z)) (sum-of-square y x))\r\n",
      "        ((and (> y x) (> z x)) (sum-of-square y z))))\r\n"
     ]
    }
   ],
   "source": [
    "cat 1.1/Exercise_1.3/bigger-sum-of-square-by-cond.scm"
   ]
  },
  {
   "cell_type": "markdown",
   "metadata": {},
   "source": [
    "#### Running Instance:"
   ]
  },
  {
   "cell_type": "raw",
   "metadata": {},
   "source": [
    "1 ]=> (load \"1.1/Exercise_1.3/bigger-sum-of-square-by-cond.scm\")\n",
    "\n",
    ";Loading \"1.1/Exercise_1.3/bigger-sum-of-square-by-cond.scm\"...\n",
    ";  Loading \"1.1/Exercise_1.3/sum-of-square.scm\"... done\n",
    ";... done\n",
    ";Value: bigger-sum-of-square-by-cond\n",
    "\n",
    "1 ]=> (bigger-sum-of-square-by-cond 4 2 3)\n",
    "\n",
    ";Value: 25\n",
    "\n",
    "1 ]=> (bigger-sum-of-square-by-cond 12 15 2)\n",
    "\n",
    ";Value: 369"
   ]
  },
  {
   "cell_type": "markdown",
   "metadata": {},
   "source": [
    "###### 2. implemented by if conditional expression"
   ]
  },
  {
   "cell_type": "code",
   "execution_count": 4,
   "metadata": {
    "collapsed": false
   },
   "outputs": [
    {
     "name": "stdout",
     "output_type": "stream",
     "text": [
      "(load \"1.1/Exercise_1.3/sum-of-square.scm\")\r\n",
      "\r\n",
      "(define (bigger-sum-of-square-by-if x y z)\r\n",
      "  (if (> x y)\r\n",
      "      (if (> y z)\r\n",
      "          (sum-of-square x y)\r\n",
      "          (sum-of-square x z))\r\n",
      "      (if (> x z)\r\n",
      "          (sum-of-square y x)\r\n",
      "          (sum-of-square y z))))\r\n"
     ]
    }
   ],
   "source": [
    "cat 1.1/Exercise_1.3/bigger-sum-of-square-by-if.scm"
   ]
  },
  {
   "cell_type": "markdown",
   "metadata": {},
   "source": [
    "#### Running Instance:"
   ]
  },
  {
   "cell_type": "raw",
   "metadata": {},
   "source": [
    "1 ]=> (load \"1.1/Exercise_1.3/bigger-sum-of-square-by-if.scm\")\n",
    "\n",
    ";Loading \"1.1/Exercise_1.3/bigger-sum-of-square-by-if.scm\"...\n",
    ";  Loading \"1.1/Exercise_1.3/sum-of-square.scm\"... done\n",
    ";... done\n",
    ";Value: bigger-sum-of-square-by-if\n",
    "\n",
    "1 ]=> (bigger-sum-of-square-by-if 4 2 3)\n",
    "\n",
    ";Value: 25\n",
    "\n",
    "1 ]=> (bigger-sum-of-square-by-if 12 15 2)\n",
    "\n",
    ";Value: 369"
   ]
  },
  {
   "cell_type": "markdown",
   "metadata": {},
   "source": [
    "### B. Abstract Method"
   ]
  },
  {
   "cell_type": "markdown",
   "metadata": {},
   "source": [
    "We can define $bigger$ procedure that returns maximum of any two numbers,and $smaller$ procedure that retruns minimum of any two numbers"
   ]
  },
  {
   "cell_type": "code",
   "execution_count": 6,
   "metadata": {
    "collapsed": false
   },
   "outputs": [
    {
     "name": "stdout",
     "output_type": "stream",
     "text": [
      "(define (bigger x y) (if (> x y) x y))\r\n",
      "(define (smaller x y) (if (> x y) y x))\r\n"
     ]
    }
   ],
   "source": [
    "cat  1.1/Exercise_1.3/bigger-and-smaller.scm"
   ]
  },
  {
   "cell_type": "markdown",
   "metadata": {},
   "source": [
    "So,we can do it:"
   ]
  },
  {
   "cell_type": "code",
   "execution_count": 7,
   "metadata": {
    "collapsed": false
   },
   "outputs": [
    {
     "name": "stdout",
     "output_type": "stream",
     "text": [
      "(load \"1.1/Exercise_1.3/sum-of-square.scm\")\r\n",
      "(load \"1.1/Exercise_1.3/bigger-and-smaller.scm\")\r\n",
      "\r\n",
      "(define (bigger-sum-of-square-by-abstract x y z)\r\n",
      "  (sum-of-square (bigger x y) (bigger (smaller x y) z)))\r\n"
     ]
    }
   ],
   "source": [
    "cat 1.1/Exercise_1.3/bigger-sum-of-square-by-abstract.scm"
   ]
  },
  {
   "cell_type": "markdown",
   "metadata": {},
   "source": [
    "#### Running Instance:"
   ]
  },
  {
   "cell_type": "raw",
   "metadata": {},
   "source": [
    "1 ]=> (load \"1.1/Exercise_1.3/bigger-sum-of-square-by-abstract.scm\")\n",
    "\n",
    ";Loading \"1.1/Exercise_1.3/bigger-sum-of-square-by-abstract.scm\"...\n",
    ";  Loading \"1.1/Exercise_1.3/sum-of-square.scm\"... done\n",
    ";  Loading \"1.1/Exercise_1.3/bigger-and-smaller.scm\"... done\n",
    ";... done\n",
    ";Value: bigger-sum-of-square-by-abstract\n",
    "\n",
    "1 ]=> (bigger-sum-of-square-by-abstract 4 2 3)\n",
    "\n",
    ";Value: 25\n",
    "\n",
    "1 ]=> (bigger-sum-of-square-by-abstract 12 15 2)\n",
    "\n",
    ";Value: 369"
   ]
  },
  {
   "cell_type": "markdown",
   "metadata": {},
   "source": [
    "### Exercise 1.4: \n",
    "Observe that our model of evaluation allows for combinations whose operators are compound expressions.Use this observation to describe the behavior of the following procedure:"
   ]
  },
  {
   "cell_type": "raw",
   "metadata": {},
   "source": [
    "(define (a-plus-abs-b a b)\n",
    "  ((if (> b 0) + -) a b))"
   ]
  },
  {
   "cell_type": "markdown",
   "metadata": {},
   "source": [
    "### Answer:"
   ]
  },
  {
   "cell_type": "markdown",
   "metadata": {},
   "source": [
    "$a$-$plus$-$abs$-b$ is the first example of a higher order procedure."
   ]
  },
  {
   "cell_type": "markdown",
   "metadata": {},
   "source": [
    "In $if$ conditional expression,when $b>0$,it returns $+$ primitive procedure."
   ]
  },
  {
   "cell_type": "raw",
   "metadata": {},
   "source": [
    "1 ]=> (if (> 1 0) + -)\n",
    "\n",
    ";Value 13: #[arity-dispatched-procedure 13]\n",
    "\n",
    "1 ]=> +\n",
    "\n",
    ";Value 13: #[arity-dispatched-procedure 13]"
   ]
  },
  {
   "cell_type": "markdown",
   "metadata": {},
   "source": [
    "When $b<0$ or $b=0$,it returns $-$ primitive procedure."
   ]
  },
  {
   "cell_type": "raw",
   "metadata": {},
   "source": [
    "1 ]=> (if (> -1 0) + -)\n",
    "\n",
    ";Value 14: #[arity-dispatched-procedure 14]\n",
    "\n",
    "1 ]=> -\n",
    "\n",
    ";Value 14: #[arity-dispatched-procedure 14]"
   ]
  },
  {
   "cell_type": "markdown",
   "metadata": {},
   "source": [
    "#### Running Instance:"
   ]
  },
  {
   "cell_type": "code",
   "execution_count": 9,
   "metadata": {
    "collapsed": false
   },
   "outputs": [
    {
     "name": "stdout",
     "output_type": "stream",
     "text": [
      "(define (a-plus-abs-b a b)\r\n",
      "  ((if (> b 0) + -) a b))\r\n"
     ]
    }
   ],
   "source": [
    "cat 1.1/Exercise_1.4/a-plus-abs-b.scm"
   ]
  },
  {
   "cell_type": "raw",
   "metadata": {},
   "source": [
    "1 ]=> (load \"1.1/Exercise_1.4/a-plus-abs-b.scm\")\n",
    "\n",
    ";Loading \"1.1/Exercise_1.4/a-plus-abs-b.scm\"... done\n",
    ";Value: a-plus-abs-b\n",
    "\n",
    "1 ]=> (a-plus-abs-b 2 2)\n",
    "\n",
    ";Value: 4\n",
    "\n",
    "1 ]=> (a-plus-abs-b 2 (- 2))\n",
    "\n",
    ";Value: 4"
   ]
  },
  {
   "cell_type": "markdown",
   "metadata": {},
   "source": [
    "### Exercise 1.5: \n",
    "Ben Bitdiddle has invented a test to determine whether the interpreter he is faced with is using applicativeorder evaluation or normal-order evaluation. He defines the following two procedures:"
   ]
  },
  {
   "cell_type": "raw",
   "metadata": {},
   "source": [
    "(define (p) (p))\n",
    "(define (test x y) (if (= x 0) 0 y))"
   ]
  },
  {
   "cell_type": "markdown",
   "metadata": {},
   "source": [
    "Then he evaluates the expression"
   ]
  },
  {
   "cell_type": "raw",
   "metadata": {},
   "source": [
    "(test 0 (p))"
   ]
  },
  {
   "cell_type": "markdown",
   "metadata": {},
   "source": [
    "What behavior will Ben observe with an interpreter that uses applicative-order evaluation? What behavior will he observe with an interpreter that uses normal-order evaluation? Explain your answer. (Assume that the evaluation rule for the special form if is the same whether the interpreter is using normal or applicative order: The predicate expression is evaluated first, and the result determines whether to evaluate the consequent or the alternative expression.)"
   ]
  },
  {
   "cell_type": "markdown",
   "metadata": {},
   "source": [
    "### 解答:"
   ]
  },
  {
   "cell_type": "markdown",
   "metadata": {},
   "source": [
    "首先可以确定的是，无论解释器使用何种求值方式，调用(p)总是会进入无限循环，因为过程p会不断调用自身。具体到解释器中，调用(p)会让解释器陷入停滞："
   ]
  },
  {
   "cell_type": "raw",
   "metadata": {},
   "source": [
    "1 ]=> (define (p) (p))\n",
    "\n",
    ";Value: p\n",
    "\n",
    "1 ]=> (p)\n",
    "\n",
    "[3]+  Stopped                 rlwrap scheme\n",
    "liheyi@analysis:~$ killall scheme"
   ]
  },
  {
   "cell_type": "markdown",
   "metadata": {},
   "source": [
    "由于在应用序求值过程中，所有传入的实际参数都会立刻被求值，因此在使用应用序的解释器里执行(test 0 (p))时，实际参数0和(p)都会被立刻求值，而对(p)的求值使得解释器进入无线循环而停滞；因此如果一个解释器在运行Ben的测试时立刻陷入停滞，则说明该解释器使用的是应用序求值模式。"
   ]
  },
  {
   "cell_type": "markdown",
   "metadata": {},
   "source": [
    "另一方面，在正则序求值模式中，所有传入的实际参数只有在有需要时才会被求值，因此在使用正则序的解释器里执行(test 0 (p))时，0和(p)都不会立刻被求值，当解释进行到if表达式时，形式参数x的实际参数(即0)会被求值(求值结果也是0)，然后和另一个0进行比较((= x 0)),因为比较结果为真(#t),所以if表达式返回0作为值，即作为test过程调用返回的值。而对于(p)始终没有被执行，所以就不会产生无限循环而让解释器陷入停滞，因此如果一个解释器在运行Ben的测试时返回0，那么说解该解释器使用的是正则序求值模式。"
   ]
  },
  {
   "cell_type": "markdown",
   "metadata": {},
   "source": [
    "测试我的scheme解释器的求值模式为应用序求值模式:"
   ]
  },
  {
   "cell_type": "code",
   "execution_count": 11,
   "metadata": {
    "collapsed": false
   },
   "outputs": [
    {
     "name": "stdout",
     "output_type": "stream",
     "text": [
      "(define (p) (p))\r\n",
      "(define (test x y) (if (= x 0) 0 y))\r\n"
     ]
    }
   ],
   "source": [
    "cat 1.1/Exercise_1.5/applicative-order?_or_normal-order?.scm"
   ]
  },
  {
   "cell_type": "markdown",
   "metadata": {},
   "source": [
    "#### Running Instance:"
   ]
  },
  {
   "cell_type": "raw",
   "metadata": {},
   "source": [
    "1 ]=> (load \"1.1/Exercise_1.5/applicative-order?_or_normal-order?.scm\")\n",
    "\n",
    ";Loading \"1.1/Exercise_1.5/applicative-order?_or_normal-order?.scm\"... done\n",
    ";Value: test\n",
    "\n",
    "1 ]=> (test 0 (p))\n",
    "\n",
    "[1]+  Stopped                 rlwrap scheme"
   ]
  },
  {
   "cell_type": "code",
   "execution_count": null,
   "metadata": {
    "collapsed": true
   },
   "outputs": [],
   "source": []
  }
 ],
 "metadata": {
  "kernelspec": {
   "display_name": "Python 2",
   "language": "python",
   "name": "python2"
  },
  "language_info": {
   "codemirror_mode": {
    "name": "ipython",
    "version": 2
   },
   "file_extension": ".py",
   "mimetype": "text/x-python",
   "name": "python",
   "nbconvert_exporter": "python",
   "pygments_lexer": "ipython2",
   "version": "2.7.11"
  }
 },
 "nbformat": 4,
 "nbformat_minor": 0
}
