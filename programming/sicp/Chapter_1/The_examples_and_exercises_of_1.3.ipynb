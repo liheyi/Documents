{
 "cells": [
  {
   "cell_type": "markdown",
   "metadata": {},
   "source": [
    "# 1.3 Formulating Abstractions with Higher-Order Procedures"
   ]
  },
  {
   "cell_type": "markdown",
   "metadata": {},
   "source": [
    "## 1.3.1 Procedures as Arguments"
   ]
  },
  {
   "cell_type": "markdown",
   "metadata": {},
   "source": [
    "## Example 9: Summation"
   ]
  },
  {
   "cell_type": "markdown",
   "metadata": {},
   "source": [
    "Consider the following three procedures.  \n",
    "The first computes the $sum$ of the integers from $a$ through $b$:"
   ]
  },
  {
   "cell_type": "raw",
   "metadata": {},
   "source": [
    "(define (sum-integers a b)\n",
    "  (if (> a b) 0\n",
    "`    (+ a (sum-integers (+ a 1) b))))"
   ]
  },
  {
   "cell_type": "markdown",
   "metadata": {},
   "source": [
    "The second computes the $sum$ of the $cubes$ of the integers in the given range:"
   ]
  },
  {
   "cell_type": "raw",
   "metadata": {},
   "source": [
    "(define (sum-cubes a b)\n",
    "  (if (> a b) 0\n",
    "`    (+ (cube a) (sum-cubes (+ a 1) b))))"
   ]
  },
  {
   "cell_type": "markdown",
   "metadata": {},
   "source": [
    "The third computes the $sum$ of a sequence of $terms$ in the series  "
   ]
  },
  {
   "cell_type": "markdown",
   "metadata": {},
   "source": [
    "$$\\frac{1}{1 \\centerdot 3} + \\frac{1}{5 \\centerdot 7} + \\frac{1}{9 \\centerdot 11} + \\ldots$$"
   ]
  },
  {
   "cell_type": "markdown",
   "metadata": {},
   "source": [
    "which converges to $\\pi$/8 (very slowly):"
   ]
  },
  {
   "cell_type": "raw",
   "metadata": {},
   "source": [
    "(define (pi-sum a b)\n",
    "  (if (> a b) 0\n",
    "`    (+ (/ 1.0 (* a (+ a 2)))\n",
    "`      (pi-sum (+ a 4) b))))"
   ]
  },
  {
   "cell_type": "markdown",
   "metadata": {},
   "source": [
    "Indeed, mathematicians long ago identified the abstraction of $summation$ of a series and invented \"sigma notation\", for example,to express this concept."
   ]
  },
  {
   "cell_type": "markdown",
   "metadata": {},
   "source": [
    "$$\\sum_{n=a}^bf(n) = f(a) + \\ldots+ f(b)$$"
   ]
  },
  {
   "cell_type": "markdown",
   "metadata": {},
   "source": [
    "With the aid of the procedures sum as follows,we can express the $mathematical$ $concepts$ of $summation$:"
   ]
  },
  {
   "cell_type": "code",
   "execution_count": 1,
   "metadata": {
    "collapsed": false
   },
   "outputs": [
    {
     "name": "stdout",
     "output_type": "stream",
     "text": [
      "(define (sum term a next b)\r\n",
      "  (if (> a b) 0\r\n",
      "      (+ (term a)\r\n",
      "         (sum term (next a) next b))))\r\n"
     ]
    }
   ],
   "source": [
    "cat 1.3/Example_9/sum_by_recursion.scm"
   ]
  },
  {
   "cell_type": "markdown",
   "metadata": {},
   "source": [
    "$\\bullet$ We can redefine the process $sum$-$integers$ to compute the $sum$ of the integers from $a$ through $b$:"
   ]
  },
  {
   "cell_type": "code",
   "execution_count": 3,
   "metadata": {
    "collapsed": false
   },
   "outputs": [
    {
     "name": "stdout",
     "output_type": "stream",
     "text": [
      "(load \"1.3/Example_9/sum_by_recursion.scm\")\r\n",
      "\r\n",
      "(define (identity x) x)\r\n",
      "(define (inc n) (+ n 1))\r\n",
      "\r\n",
      "(define (sum-integers a b)\r\n",
      "  (sum identity a inc b))\r\n"
     ]
    }
   ],
   "source": [
    "cat 1.3/Example_9/sum_integers.scm"
   ]
  },
  {
   "cell_type": "markdown",
   "metadata": {},
   "source": [
    "### Running Instance:"
   ]
  },
  {
   "cell_type": "raw",
   "metadata": {},
   "source": [
    "1 ]=> (load \"1.3/Example_9/sum_integers.scm\")\n",
    "\n",
    ";Loading \"1.3/Example_9/sum_integers.scm\"...\n",
    ";  Loading \"1.3/Example_9/sum_by_recursion.scm\"... done\n",
    ";... done\n",
    ";Value: sum-integers\n",
    "\n",
    "1 ]=> (sum-integers 1 100)\n",
    "\n",
    ";Value: 5050"
   ]
  },
  {
   "cell_type": "markdown",
   "metadata": {},
   "source": [
    "$\\bullet$ Redefine the process $sum$-$cubes$ to compute the sum of the cubes of the integers from a through b:"
   ]
  },
  {
   "cell_type": "code",
   "execution_count": 4,
   "metadata": {
    "collapsed": false
   },
   "outputs": [
    {
     "name": "stdout",
     "output_type": "stream",
     "text": [
      "(load \"1.3/Example_9/sum_by_recursion.scm\")\r\n",
      "\r\n",
      "(define (cube x) (* x x x))\r\n",
      "(define (inc n) (+ n 1))\r\n",
      "\r\n",
      "(define (sum-cubes a b)\r\n",
      "  (sum cube a inc b))\r\n"
     ]
    }
   ],
   "source": [
    "cat 1.3/Example_9/sum_cubes.scm"
   ]
  },
  {
   "cell_type": "markdown",
   "metadata": {},
   "source": [
    "### Running Instance:"
   ]
  },
  {
   "cell_type": "raw",
   "metadata": {},
   "source": [
    "1 ]=> (load \"1.3/Example_9/sum_cubes.scm\")\n",
    "\n",
    ";Loading \"1.3/Example_9/sum_cubes.scm\"...\n",
    ";  Loading \"1.3/Example_9/sum_by_recursion.scm\"... done\n",
    ";... done\n",
    ";Value: sum-cubes\n",
    "\n",
    "1 ]=> (sum-cubes 1 100)\n",
    "\n",
    ";Value: 25502500"
   ]
  },
  {
   "cell_type": "markdown",
   "metadata": {},
   "source": [
    "$\\bullet$ We can also redefine $pi$-$sum$ in the same way:"
   ]
  },
  {
   "cell_type": "code",
   "execution_count": 5,
   "metadata": {
    "collapsed": false
   },
   "outputs": [
    {
     "name": "stdout",
     "output_type": "stream",
     "text": [
      "(load \"1.3/Example_9/sum_by_recursion.scm\")\r\n",
      "\r\n",
      "(define (pi-sum a b)\r\n",
      "  (define (pi-term x)\r\n",
      "    (/ 1.0 (* x (+ x 2))))\r\n",
      "  (define (pi-next x) (+ x 4))\r\n",
      "  (sum pi-term a pi-next b))\r\n"
     ]
    }
   ],
   "source": [
    "cat 1.3/Example_9/pi_sum.scm"
   ]
  },
  {
   "cell_type": "markdown",
   "metadata": {},
   "source": [
    "### Running Instance:"
   ]
  },
  {
   "cell_type": "raw",
   "metadata": {},
   "source": [
    "1 ]=> (load \"1.3/Example_9/pi_sum.scm\")\n",
    "\n",
    ";Loading \"1.3/Example_9/pi_sum.scm\"...\n",
    ";  Loading \"1.3/Example_9/sum_by_recursion.scm\"... done\n",
    ";... done\n",
    ";Value: pi-sum\n",
    "\n",
    "1 ]=> (* 8 (pi-sum 1 10000))\n",
    "\n",
    ";Value: 3.141392653591793\n",
    "\n",
    "1 ]=> (* 8 (pi-sum 1 10001))\n",
    "\n",
    ";Value: 3.1413927335598038"
   ]
  },
  {
   "cell_type": "markdown",
   "metadata": {},
   "source": [
    "Once we have $sum$, we can use it as a building block in formulating further concepts. For instance, the $definite$ $integral$ of a function $f$ between the limits $a$ and $b$ can be approximated numerically using the formula"
   ]
  },
  {
   "cell_type": "markdown",
   "metadata": {},
   "source": [
    "$$\\int_a^bf=\\left[f\\left(a + \\frac{dx}{2}\\right) + f\\left(a + dx + \\frac{dx}{2}\\right) + f\\left(a + 2dx + \\frac{dx}{2}\\right) + \\centerdot\\centerdot\\centerdot\\right]dx$$"
   ]
  },
  {
   "cell_type": "markdown",
   "metadata": {},
   "source": [
    "for small values of $dx$. We can express this directly as a procedure:"
   ]
  },
  {
   "cell_type": "code",
   "execution_count": 6,
   "metadata": {
    "collapsed": false
   },
   "outputs": [
    {
     "name": "stdout",
     "output_type": "stream",
     "text": [
      "(load \"1.3/Example_9/sum_by_recursion.scm\")\r\n",
      "\r\n",
      "(define (integral f a b dx)\r\n",
      "  (define (add-dx x) (+ x dx))\r\n",
      "  (* (sum f (+ a (/ dx 2.0)) add-dx b) dx))\r\n"
     ]
    }
   ],
   "source": [
    "cat 1.3/Example_9/definite_integral.scm"
   ]
  },
  {
   "cell_type": "markdown",
   "metadata": {},
   "source": [
    "For example,we can let $f$ is $cube$ function:"
   ]
  },
  {
   "cell_type": "markdown",
   "metadata": {},
   "source": [
    "### Running Instance:"
   ]
  },
  {
   "cell_type": "raw",
   "metadata": {},
   "source": [
    "1 ]=> (define (cube x) (* x x x))\n",
    "\n",
    ";Value: cube\n",
    "\n",
    "1 ]=> (load \"1.3/Example_9/definite_integral.scm\")\n",
    "\n",
    ";Loading \"1.3/Example_9/definite_integral.scm\"...\n",
    ";  Loading \"1.3/Example_9/sum_by_recursion.scm\"... done\n",
    ";... done\n",
    ";Value: integral\n",
    "\n",
    "1 ]=> (integral cube 0 1 0.001)\n",
    "\n",
    ";Value: .249999875000001\n",
    "\n",
    "1 ]=> (integral cube 0 1 0.0001)\n",
    "\n",
    ";Value: .24999999874993412"
   ]
  },
  {
   "cell_type": "markdown",
   "metadata": {},
   "source": [
    "#### The exact value of the integral of cube between 0 and 1 is 1/4."
   ]
  },
  {
   "cell_type": "markdown",
   "metadata": {},
   "source": [
    "## Exercise 1.29:\n",
    "Simpson’s Rule is a more accurate method of numerical integration than the method illustrated above. Using Simpson’s Rule, the integral of a function $f$ between $a$ and $b$ is approximated as"
   ]
  },
  {
   "cell_type": "markdown",
   "metadata": {},
   "source": [
    "$$\\frac{h}{3}(y_0 + 4y_1 + 2y_2 + 4y_3 + 2y_4 + \\cdots + 2y_{n-2} + 4y_{n-1} + y_n)$$"
   ]
  },
  {
   "cell_type": "markdown",
   "metadata": {},
   "source": [
    "where $h = (b -a)/n$,for some even integer n, and $y_k = f(a + kh)$.(Increasing n increases the accuracy of the approximation.)Define a procedure that takes as arguments $f$ , $a$, $b$, and $n$ and returns the value of the integral, computed using Simpson’s Rule.Use your procedure to integrate cube between 0 and 1 (with $n = 100$ and $n = 1000$), and compare the results to those of the integral procedure shown above."
   ]
  },
  {
   "cell_type": "markdown",
   "metadata": {},
   "source": [
    "### Answer:"
   ]
  },
  {
   "cell_type": "code",
   "execution_count": 7,
   "metadata": {
    "collapsed": false
   },
   "outputs": [
    {
     "name": "stdout",
     "output_type": "stream",
     "text": [
      "(load \"1.3/Example_9/sum_by_recursion.scm\")\r\n",
      "\r\n",
      "(define (simpson f a b n)\r\n",
      "  (define h (/ (- b a) n))\r\n",
      "  (define (y k) (f (+ a (* k h))))\r\n",
      "  (define (factor k)\r\n",
      "    (cond ((or (= k 0) (= k n)) 1)\r\n",
      "          ((odd? k) 4)\r\n",
      "          (else 2)))\r\n",
      "  (define (term k) (* (factor k) (y k)))\r\n",
      "  (define (next k) (+ k 1))\r\n",
      "  (if (not (even? n))\r\n",
      "      (error \"n can't be odd number.\")\r\n",
      "      (* (/ h 3) (sum term (exact->inexact 0) next n))))\r\n"
     ]
    }
   ],
   "source": [
    "cat 1.3/Exercise_1.29/simpson.scm"
   ]
  },
  {
   "cell_type": "markdown",
   "metadata": {},
   "source": [
    "### Running Instance:"
   ]
  },
  {
   "cell_type": "raw",
   "metadata": {},
   "source": [
    "1 ]=> (define (cube x) (* x x x))\n",
    "\n",
    ";Value: cube\n",
    "\n",
    "1 ]=> (load \"1.3/Exercise_1.29/simpson.scm\")\n",
    "\n",
    ";Loading \"1.3/Exercise_1.29/simpson.scm\"...\n",
    ";  Loading \"1.3/Example_9/sum_by_recursion.scm\"... done\n",
    ";... done\n",
    ";Value: simpson\n",
    "\n",
    "1 ]=> (simpson cube 0 1 100)\n",
    "\n",
    ";Value: .24999999999999992\n",
    "\n",
    "1 ]=> (simpson cube 0 1 1000)\n",
    "\n",
    ";Value: .2500000000000003"
   ]
  },
  {
   "cell_type": "markdown",
   "metadata": {},
   "source": [
    "## Exercise 1.30: \n",
    "The $sum$ procedure above generates a $linear$ $recursion$. The procedure can be rewritten so that the sum is performed $iteratively$. Show how to do this by filling in the missing expressions in the following definition:"
   ]
  },
  {
   "cell_type": "raw",
   "metadata": {},
   "source": [
    "(define (sum term a next b)\n",
    "  (define (iter a result)\n",
    "   (if <??>\n",
    "      <??>\n",
    "      (iter <??> <??>)))\n",
    "  (iter <??> <??>))"
   ]
  },
  {
   "cell_type": "markdown",
   "metadata": {},
   "source": [
    "### Answer:"
   ]
  },
  {
   "cell_type": "code",
   "execution_count": 8,
   "metadata": {
    "collapsed": false
   },
   "outputs": [
    {
     "name": "stdout",
     "output_type": "stream",
     "text": [
      "(define (sum term a next b)\r\n",
      "  (define (iter a result)\r\n",
      "    (if (> a b)\r\n",
      "        result\r\n",
      "        (iter (next a)\r\n",
      "              (+ (term a) result))))\r\n",
      "  (iter a 0))\r\n",
      "\t\t\r\n"
     ]
    }
   ],
   "source": [
    "cat 1.3/Exercise_1.30/sum_by_iteration.scm"
   ]
  },
  {
   "cell_type": "markdown",
   "metadata": {},
   "source": [
    "## Exercise 1.31:\n",
    "a. The $sum$ procedure is only the simplest of a vast number of similar abstractions that can be captured as higher-order procedures.Write an analogous procedure called $product$ that returns the product of the values of a function at points over a given range. Show how to define $factorial$ in terms of $product$. Also use product to compute approximations to $\\pi$ using the formula"
   ]
  },
  {
   "cell_type": "markdown",
   "metadata": {},
   "source": [
    "$$\\frac{\\pi}{4} = \\frac{2\\centerdot4\\centerdot4\\centerdot6\\centerdot6\\centerdot8\\cdots}{3\\centerdot3\\centerdot5\\centerdot5\\centerdot7\\centerdot7\\cdots}$$"
   ]
  },
  {
   "cell_type": "markdown",
   "metadata": {},
   "source": [
    "b. If your product procedure generates a recursive process,write one that generates an iterative process. If it generates an iterative process, write one that generates a recursive process."
   ]
  },
  {
   "cell_type": "markdown",
   "metadata": {},
   "source": [
    "### Answer:"
   ]
  },
  {
   "cell_type": "markdown",
   "metadata": {},
   "source": [
    "$\\bullet$ The $product$ procedure as follows"
   ]
  },
  {
   "cell_type": "code",
   "execution_count": 9,
   "metadata": {
    "collapsed": false
   },
   "outputs": [
    {
     "name": "stdout",
     "output_type": "stream",
     "text": [
      "(define (product term a next b)\r\n",
      "  (if (> a b) 1\r\n",
      "      (* (term a)\r\n",
      "         (product term (next a) next b))))\r\n"
     ]
    }
   ],
   "source": [
    "cat 1.3/Exercise_1.31/product_by_recursion.scm"
   ]
  },
  {
   "cell_type": "markdown",
   "metadata": {},
   "source": [
    "$\\bullet$ Redefine $factorial$ procedure in terms of $product$ procedure"
   ]
  },
  {
   "cell_type": "code",
   "execution_count": 11,
   "metadata": {
    "collapsed": false
   },
   "outputs": [
    {
     "name": "stdout",
     "output_type": "stream",
     "text": [
      "(load \"1.3/Exercise_1.31/product_by_recursion.scm\")\r\n",
      "\r\n",
      "(define (identity x) x)\r\n",
      "(define (inc n) (+ n 1))\r\n",
      "(define (factorial b)\r\n",
      "  (product identity 1 inc b))\r\n"
     ]
    }
   ],
   "source": [
    "cat 1.3/Exercise_1.31/factorial_by_product_recursion.scm"
   ]
  },
  {
   "cell_type": "markdown",
   "metadata": {},
   "source": [
    "### Running Instance:"
   ]
  },
  {
   "cell_type": "raw",
   "metadata": {},
   "source": [
    "1 ]=> (load \"1.3/Exercise_1.31/factorial_by_product_recursion.scm\")\n",
    "\n",
    ";Loading \"1.3/Exercise_1.31/factorial_by_product_recursion.scm\"...\n",
    ";  Loading \"1.3/Exercise_1.31/product_by_recursion.scm\"... done\n",
    ";... done\n",
    ";Value: factorial\n",
    "\n",
    "1 ]=> (factorial 6)\n",
    "\n",
    ";Value: 720"
   ]
  },
  {
   "cell_type": "markdown",
   "metadata": {},
   "source": [
    "$\\bullet$ Use $product$ procedure to compute approximations to $\\pi$"
   ]
  },
  {
   "cell_type": "code",
   "execution_count": 13,
   "metadata": {
    "collapsed": false
   },
   "outputs": [
    {
     "name": "stdout",
     "output_type": "stream",
     "text": [
      "(load \"1.3/Exercise_1.31/product_by_recursion.scm\")\r\n",
      "\r\n",
      "(define (product-pi a b)\r\n",
      "  (define (pi-next n) (+ n 2))\r\n",
      "  (define (pi-term a)\r\n",
      "    ( * 1.0 (/ (* a (pi-next a)) (square (+ a 1)))))\r\n",
      "  (product pi-term a pi-next b))\r\n"
     ]
    }
   ],
   "source": [
    "cat 1.3/Exercise_1.31/pi_by_product_recursion.scm"
   ]
  },
  {
   "cell_type": "markdown",
   "metadata": {},
   "source": [
    "### Running Instance:"
   ]
  },
  {
   "cell_type": "raw",
   "metadata": {},
   "source": [
    "1 ]=> (load \"1.3/Exercise_1.31/pi_by_product_recursion\")\n",
    "\n",
    ";Loading \"1.3/Exercise_1.31/pi_by_product_recursion.scm\"...\n",
    ";  Loading \"1.3/Exercise_1.31/product_by_recursion.scm\"... done\n",
    ";... done\n",
    ";Value: product-pi\n",
    "\n",
    "1 ]=> (* 4 (product-pi 2 1000))\n",
    "\n",
    ";Value: 3.1431607055322752\n",
    "\n",
    "1 ]=> (* 4 (product-pi 2 10000))\n",
    "\n",
    ";Value: 3.141749705738071"
   ]
  },
  {
   "cell_type": "markdown",
   "metadata": {},
   "source": [
    "Since the product procedure above generates a recursive process;we should write one that generates an $iterative$ process"
   ]
  },
  {
   "cell_type": "code",
   "execution_count": 14,
   "metadata": {
    "collapsed": false
   },
   "outputs": [
    {
     "name": "stdout",
     "output_type": "stream",
     "text": [
      "(define (product term a next b)\r\n",
      "  (define (iter a result)\r\n",
      "    (if (> a b) result\r\n",
      "        (iter (next a) (* (term a) result))))\r\n",
      "  (iter a 1))\r\n"
     ]
    }
   ],
   "source": [
    "cat 1.3/Exercise_1.31/product_by_iteration.scm"
   ]
  },
  {
   "cell_type": "markdown",
   "metadata": {},
   "source": [
    "## Exercise 1.32:\n",
    "a. Show that $sum$ and $product$ (Exercise 1.31) are both special cases of a still more general notion called $accumulate$ that combines a collection of terms, using some general accumulation function:"
   ]
  },
  {
   "cell_type": "raw",
   "metadata": {},
   "source": [
    "(accumulate combiner null-value term a next b)"
   ]
  },
  {
   "cell_type": "markdown",
   "metadata": {},
   "source": [
    "$accumulate$ takes as arguments the same term and range specifications as $sum$ and $product$, together with a $combiner$ procedure (of two arguments) that specifies how the current term is to be combined with the accumulation of the preceding terms and a null-value that specifies what base value to use when the terms run out. Write $accumulate$ and show how $sum$ and $product$ can both be defined as simple calls to $accumulate$."
   ]
  },
  {
   "cell_type": "markdown",
   "metadata": {},
   "source": [
    "b. If your $accumulate$ procedure generates a recursive process, write one that generates an iterative process.If it generates an iterative process, write one that generates a recursive process."
   ]
  },
  {
   "cell_type": "markdown",
   "metadata": {},
   "source": [
    "### Answer:"
   ]
  },
  {
   "cell_type": "markdown",
   "metadata": {},
   "source": [
    "$\\bullet$ The $accumulate$ recursive procedure:"
   ]
  },
  {
   "cell_type": "code",
   "execution_count": 15,
   "metadata": {
    "collapsed": false
   },
   "outputs": [
    {
     "name": "stdout",
     "output_type": "stream",
     "text": [
      "(define (accumulate combiner null-value term a next b)\r\n",
      "  (if (> a b) null-value\r\n",
      "      (combiner (term a)\r\n",
      "                (accumulate combiner\r\n",
      "                            null-value\r\n",
      "                            term\r\n",
      "                            (next a)\r\n",
      "                            next\r\n",
      "                            b))))\r\n"
     ]
    }
   ],
   "source": [
    "cat 1.3/Exercise_1.32/accumulate_by_recursion.scm"
   ]
  },
  {
   "cell_type": "markdown",
   "metadata": {},
   "source": [
    "$\\bullet$ Redefine the $sum$ procedure by way of the $accumulate$ recursive procedure:"
   ]
  },
  {
   "cell_type": "code",
   "execution_count": 16,
   "metadata": {
    "collapsed": false
   },
   "outputs": [
    {
     "name": "stdout",
     "output_type": "stream",
     "text": [
      "(load \"1.3/Exercise_1.32/accumulate_by_recursion.scm\")\r\n",
      "\r\n",
      "(define (sum term a next b)\r\n",
      "  (accumulate + 0 term a next b))\r\n"
     ]
    }
   ],
   "source": [
    "cat 1.3/Exercise_1.32/sum_by_accumulate_recursion.scm"
   ]
  },
  {
   "cell_type": "markdown",
   "metadata": {},
   "source": [
    "$\\bullet$ Redefine the $product$ procedure by way of the $accumulate$ recursive procedure:"
   ]
  },
  {
   "cell_type": "code",
   "execution_count": 17,
   "metadata": {
    "collapsed": false
   },
   "outputs": [
    {
     "name": "stdout",
     "output_type": "stream",
     "text": [
      "(load \"1.3/Exercise_1.32/accumulate_by_recursion.scm\")\r\n",
      "\r\n",
      "(define (product term a next b)\r\n",
      "  (accumulate * 1 term a next b))\r\n"
     ]
    }
   ],
   "source": [
    "cat 1.3/Exercise_1.32/product_by_accumulate_recursion.scm"
   ]
  },
  {
   "cell_type": "markdown",
   "metadata": {
    "collapsed": true
   },
   "source": [
    "### Test 1: Summation"
   ]
  },
  {
   "cell_type": "code",
   "execution_count": 1,
   "metadata": {
    "collapsed": false
   },
   "outputs": [
    {
     "name": "stdout",
     "output_type": "stream",
     "text": [
      "(load \"1.3/Exercise_1.32/sum_by_accumulate_recursion.scm\")\r\n",
      "\r\n",
      "(define (identity x) x)\r\n",
      "(define (inc n) (+ n 1))\r\n",
      "(define (sum-integers a b)\r\n",
      "  (sum identity a inc b))\r\n"
     ]
    }
   ],
   "source": [
    "cat 1.3/Exercise_1.32/sum_integers_by_accumulate_recursion.scm"
   ]
  },
  {
   "cell_type": "markdown",
   "metadata": {},
   "source": [
    "### Running Instance:"
   ]
  },
  {
   "cell_type": "raw",
   "metadata": {},
   "source": [
    "1 ]=> (load \"1.3/Exercise_1.32/sum_integers_by_accumulate_recursion.scm\")\n",
    "\n",
    ";Loading \"1.3/Exercise_1.32/sum_integers_by_accumulate_recursion.scm\"...\n",
    ";  Loading \"1.3/Exercise_1.32/sum_by_accumulate_recursion.scm\"...\n",
    ";    Loading \"1.3/Exercise_1.32/accumulate_by_recursion.scm\"... done\n",
    ";  ... done\n",
    ";... done\n",
    ";Value: sum-integers\n",
    "\n",
    "1 ]=> (sum-integers 1 100)\n",
    "\n",
    ";Value: 5050"
   ]
  },
  {
   "cell_type": "markdown",
   "metadata": {},
   "source": [
    "### Test 2: Product"
   ]
  },
  {
   "cell_type": "code",
   "execution_count": 3,
   "metadata": {
    "collapsed": false
   },
   "outputs": [
    {
     "name": "stdout",
     "output_type": "stream",
     "text": [
      "(load \"1.3/Exercise_1.32/product_by_accumulate_recursion.scm\")\r\n",
      "\r\n",
      "(define (pi-next n) (+ n 2))\r\n",
      "(define (pi-term a)\r\n",
      "  (* 1.0 (/ (* a (pi-next a)) (square (+ a 1)))))\r\n",
      "(define (product-pi a b)\r\n",
      "  (product pi-term a pi-next b))\r\n"
     ]
    }
   ],
   "source": [
    "cat 1.3/Exercise_1.32/pi_product_by_accumulate_recursion.scm"
   ]
  },
  {
   "cell_type": "markdown",
   "metadata": {},
   "source": [
    "### Running Instance:"
   ]
  },
  {
   "cell_type": "raw",
   "metadata": {},
   "source": [
    "1 ]=> (load \"1.3/Exercise_1.32/pi_product_by_accumulate_recursion\")\n",
    "\n",
    ";Loading \"1.3/Exercise_1.32/pi_product_by_accumulate_recursion.scm\"...\n",
    ";  Loading \"1.3/Exercise_1.32/product_by_accumulate_recursion.scm\"...\n",
    ";    Loading \"1.3/Exercise_1.32/accumulate_by_recursion.scm\"... done\n",
    ";  ... done\n",
    ";... done\n",
    ";Value: product-pi\n",
    "\n",
    "1 ]=> (* 4 (product-pi 2 10000))\n",
    "\n",
    ";Value: 3.141749705738071"
   ]
  },
  {
   "cell_type": "markdown",
   "metadata": {},
   "source": [
    "The $accumulate$ $iterative$ procedure:"
   ]
  },
  {
   "cell_type": "code",
   "execution_count": 4,
   "metadata": {
    "collapsed": false
   },
   "outputs": [
    {
     "name": "stdout",
     "output_type": "stream",
     "text": [
      "(define (accumulate combiner null-value term a next b)\r\n",
      "  (define (iter a result)\r\n",
      "    (if (> a b) result\r\n",
      "        (iter (next a)\r\n",
      "              (combiner (term a) result))))\r\n",
      "  (iter a null-value))\r\n"
     ]
    }
   ],
   "source": [
    "cat 1.3/Exercise_1.32/accumulate_by_iteration.scm"
   ]
  },
  {
   "cell_type": "markdown",
   "metadata": {},
   "source": [
    "## Exercise 1.33:\n",
    "You can obtain an even more general version of $accumulate$ (Exercise 1.32) by introducing the notion of a $filter$ on the terms to be combined. That is, combine only those terms derived from values in the range that satisfy a specified condition. The resulting $filtered$-$accumulate$ abstraction takes the same arguments as $accumulate$, together with an additional predicate of one argument that specifies the $filter$. Write filtered accumulate as a procedure.Show how to express the following using $filtered$-$accumulate$:"
   ]
  },
  {
   "cell_type": "markdown",
   "metadata": {},
   "source": [
    "### Answer:"
   ]
  },
  {
   "cell_type": "markdown",
   "metadata": {},
   "source": [
    "#### A.The filtered-accumulate recursive procedure:"
   ]
  },
  {
   "cell_type": "code",
   "execution_count": 5,
   "metadata": {
    "collapsed": false
   },
   "outputs": [
    {
     "name": "stdout",
     "output_type": "stream",
     "text": [
      "(define (filtered-accumulate combine null-value term a next b valid)\r\n",
      "  (if (> a b) null-value\r\n",
      "      (if (valid a)\r\n",
      "         (combine (term a)\r\n",
      "                  (filtered-accumulate combine\r\n",
      "                                       null-value\r\n",
      "                                       term\r\n",
      "                                       (next a)\r\n",
      "                                       next\r\n",
      "                                       b\r\n",
      "                                       valid))\r\n",
      "        (filtered-accumulate combine\r\n",
      "       \t                     null-value\r\n",
      "       \t                     term\r\n",
      "       \t                     (next a)\r\n",
      "       \t                     next\r\n",
      "       \t                     b\r\n",
      "       \t                     valid))))\r\n"
     ]
    }
   ],
   "source": [
    "cat 1.3/Exercise_1.33/filtered_accumulate_by_recursion.scm"
   ]
  },
  {
   "cell_type": "markdown",
   "metadata": {},
   "source": [
    "#### a.\n",
    "the $sum$ of the squares of the prime numbers in the interval a to b (assuming that you have a $prime$ predicate already written)"
   ]
  },
  {
   "cell_type": "code",
   "execution_count": 7,
   "metadata": {
    "collapsed": false
   },
   "outputs": [
    {
     "name": "stdout",
     "output_type": "stream",
     "text": [
      "(load \"1.3/Exercise_1.33/filtered_accumulate_by_recursion.scm\")\r\n",
      "(load \"1.2/Example_8/prime_by_search_divisor.scm\")\r\n",
      "\r\n",
      "(define (inc n) (+ n 1))\r\n",
      "(define (sum-prime a b)\r\n",
      "  (filtered-accumulate + 0 square a inc b prime?))\r\n"
     ]
    }
   ],
   "source": [
    "cat 1.3/Exercise_1.33/sum_square_of_prime_by_filtered_accumulate_by_recursion.scm"
   ]
  },
  {
   "cell_type": "markdown",
   "metadata": {},
   "source": [
    "### Running Instance:"
   ]
  },
  {
   "cell_type": "raw",
   "metadata": {},
   "source": [
    "1 ]=> (load \"1.3/Exercise_1.33/sum_square_of_prime_by_filtered_accumulate_by_recursion.scm\")\n",
    "\n",
    ";Loading \"1.3/Exercise_1.33/sum_square_of_prime_by_filtered_accumulate_by_recursion.scm\"...\n",
    ";  Loading \"1.3/Exercise_1.33/filtered_accumulate_by_recursion.scm\"... done\n",
    ";  Loading \"1.2/Example_8/prime_by_search_divisor.scm\"... done\n",
    ";... done\n",
    ";Value: sum-prime\n",
    "\n",
    "1 ]=> (sum-prime 1 5)\n",
    "\n",
    ";Value: 38\n",
    "\n",
    "1 ]=> (sum-prime 1 100)\n",
    "\n",
    ";Value: 65796"
   ]
  },
  {
   "cell_type": "markdown",
   "metadata": {},
   "source": [
    "#### b. \n",
    "the $product$ of all the positive integers less than $n$ that are relatively prime to $n$  \n",
    "(i.e., all positive integers $i \\lt n$ such that $GCD(i,n) = 1$)."
   ]
  },
  {
   "cell_type": "code",
   "execution_count": 8,
   "metadata": {
    "collapsed": false
   },
   "outputs": [
    {
     "name": "stdout",
     "output_type": "stream",
     "text": [
      "(load \"1.3/Exercise_1.33/filtered_accumulate_by_recursion.scm\")\r\n",
      "(load \"1.2/Example_7/gcd_by_Euclid_Algorithm.scm\")\r\n",
      "\r\n",
      "(define (identity x) x)\r\n",
      "(define (coprime a b) (and (< a b) (= 1 (gcd a b))))\r\n",
      "(define (inc n) (+ n 1))\r\n",
      "(define (product-of-coprimes n)\r\n",
      "  (filtered-accumulate * 1 identity 1 inc n (lambda (x) (coprime x n))))\r\n"
     ]
    }
   ],
   "source": [
    "cat 1.3/Exercise_1.33/product_of_coprimes.scm"
   ]
  },
  {
   "cell_type": "markdown",
   "metadata": {},
   "source": [
    "### Running Instance:"
   ]
  },
  {
   "cell_type": "raw",
   "metadata": {},
   "source": [
    "1 ]=> (load \"1.3/Exercise_1.33/product_of_coprimes.scm\")\n",
    "\n",
    ";Loading \"1.3/Exercise_1.33/product_of_coprimes.scm\"...\n",
    ";  Loading \"1.3/Exercise_1.33/filtered_accumulate_by_recursion.scm\"... done\n",
    ";  Loading \"1.2/Example_7/gcd_by_Euclid_Algorithm.scm\"... done\n",
    ";... done\n",
    ";Value: product-of-coprimes\n",
    "\n",
    "1 ]=> (product-of-coprimes 5)\n",
    "\n",
    ";Value: 24\n",
    "\n",
    "1 ]=> (product-of-coprimes 100)\n",
    "\n",
    ";Value: 426252881942771063138176712755660145456313428952105524817872601"
   ]
  },
  {
   "cell_type": "markdown",
   "metadata": {},
   "source": [
    "#### B.The filtered-accumulate iterative procedure:"
   ]
  },
  {
   "cell_type": "code",
   "execution_count": 9,
   "metadata": {
    "collapsed": false
   },
   "outputs": [
    {
     "name": "stdout",
     "output_type": "stream",
     "text": [
      "(define (filtered-accumulate combine null-value term a next b valid)\r\n",
      "  (define (iter i result)\r\n",
      "    (cond ((> i b) result)\r\n",
      "          ((valid i)\r\n",
      "           (iter (next i) (combine (term i) result)))\r\n",
      "          (else (iter (next i) result))))\r\n",
      "  (iter a null-value))\r\n"
     ]
    }
   ],
   "source": [
    "cat 1.3/Exercise_1.33/filtered_accumulate_by_iteration.scm"
   ]
  },
  {
   "cell_type": "markdown",
   "metadata": {},
   "source": [
    "#### a.\n",
    "the sum of the cubes of the prime numbers in the interval a to b:"
   ]
  },
  {
   "cell_type": "code",
   "execution_count": 10,
   "metadata": {
    "collapsed": false
   },
   "outputs": [
    {
     "name": "stdout",
     "output_type": "stream",
     "text": [
      "(load \"1.3/Exercise_1.33/filtered_accumulate_by_iteration.scm\")\r\n",
      "(load \"1.2/Example_8/prime_by_search_divisor.scm\")\r\n",
      "\r\n",
      "(define (inc n) (+ n 1))\r\n",
      "(define (cube x) (* x x x))\r\n",
      "(define (sum-prime a b)\r\n",
      "  (filtered-accumulate + 0 cube a inc b prime?))\r\n"
     ]
    }
   ],
   "source": [
    "cat 1.3/Exercise_1.33/sum_cube_of_prime_by_filtered_accumulate_by_iteration.scm"
   ]
  },
  {
   "cell_type": "markdown",
   "metadata": {},
   "source": [
    "### Running Instance:"
   ]
  },
  {
   "cell_type": "raw",
   "metadata": {},
   "source": [
    "1 ]=> (load \"1.3/Exercise_1.33/sum_cube_of_prime_by_filtered_accumulate_by_iteration.scm\")\n",
    "\n",
    ";Loading \"1.3/Exercise_1.33/sum_cube_of_prime_by_filtered_accumulate_by_iteration.scm\"...\n",
    ";  Loading \"1.3/Exercise_1.33/filtered_accumulate_by_iteration.scm\"... done\n",
    ";  Loading \"1.2/Example_8/prime_by_search_divisor.scm\"... done\n",
    ";... done\n",
    ";Value: sum-prime\n",
    "\n",
    "1 ]=> (sum-prime 1 100)\n",
    "\n",
    ";Value: 4696450"
   ]
  },
  {
   "cell_type": "markdown",
   "metadata": {},
   "source": [
    "#### b.\n",
    "the product of all the positive even integers less than n to n:"
   ]
  },
  {
   "cell_type": "code",
   "execution_count": 12,
   "metadata": {
    "collapsed": false
   },
   "outputs": [
    {
     "name": "stdout",
     "output_type": "stream",
     "text": [
      "(load \"1.3/Exercise_1.33/filtered_accumulate_by_iteration.scm\")\r\n",
      "\r\n",
      "(define (identity x) x)\r\n",
      "(define (inc n) (+ n 1))\r\n",
      "(define (sum-even-integers n)\r\n",
      "  (filtered-accumulate + 0 identity 1 inc n even?))\r\n"
     ]
    }
   ],
   "source": [
    "cat 1.3/Exercise_1.33/sum_even_integers_by_filtered_accumulate_by_iteration.scm"
   ]
  },
  {
   "cell_type": "markdown",
   "metadata": {},
   "source": [
    "### Runing Instance:"
   ]
  },
  {
   "cell_type": "raw",
   "metadata": {},
   "source": [
    "1 ]=> (load \"1.3/Exercise_1.33/sum_even_integers_by_filtered_accumulate_by_iteration.scm\")\n",
    "\n",
    ";Loading \"1.3/Exercise_1.33/sum_even_integers_by_filtered_accumulate_by_iteration.scm\"...\n",
    ";  Loading \"1.3/Exercise_1.33/filtered_accumulate_by_iteration.scm\"... done\n",
    ";... done\n",
    ";Value: sum-even-integers\n",
    "\n",
    "1 ]=> (sum-even-integers 999)\n",
    "\n",
    ";Value: 249500"
   ]
  },
  {
   "cell_type": "markdown",
   "metadata": {},
   "source": [
    "## 1.3.2 Constructing Procedures Using lambda"
   ]
  },
  {
   "cell_type": "markdown",
   "metadata": {},
   "source": [
    "## Example 10: Summation by lambda"
   ]
  },
  {
   "cell_type": "markdown",
   "metadata": {},
   "source": [
    "In using $sum$ as in Section 1.3.1, it seems terribly awkward to have to define trivial procedures such as $pi$-$term$ and $pi$-$next$ just so we can use them as arguments to our higher-order procedure. Rather than define $pi$-$next$ and $pi$-$term$, it would be more convenient to have a way to directly specify “the procedure that returns its input incremented by 4” and “the procedure that returns the reciprocal of its input times its input plus 2.” We can do this by introducing the special form $lambda$, which creates procedures. Using $lambda$ we can describe what we want as"
   ]
  },
  {
   "cell_type": "markdown",
   "metadata": {},
   "source": [
    "(lambda (x) (+ x 4))"
   ]
  },
  {
   "cell_type": "markdown",
   "metadata": {},
   "source": [
    "and"
   ]
  },
  {
   "cell_type": "raw",
   "metadata": {},
   "source": [
    "(lambda (x) (/ 1.0 (* x (+ x 2))))"
   ]
  },
  {
   "cell_type": "markdown",
   "metadata": {},
   "source": [
    "Then our $pi$-$sum$ procedure can be expressed without defining any $auxiliary$ procedures as"
   ]
  },
  {
   "cell_type": "code",
   "execution_count": 13,
   "metadata": {
    "collapsed": false
   },
   "outputs": [
    {
     "name": "stdout",
     "output_type": "stream",
     "text": [
      "(load \"1.3/Example_9/sum_by_recursion.scm\")\r\n",
      "\r\n",
      "(define (pi-sum a b)\r\n",
      "  (sum (lambda (x) (/ 1.0 (* x (+ x 2))))\r\n",
      "       a\r\n",
      "       (lambda (x) (+ x 4))\r\n",
      "       b))\r\n"
     ]
    }
   ],
   "source": [
    "cat 1.3/Example_10/pi_sum_by_lambda_recursion.scm"
   ]
  },
  {
   "cell_type": "markdown",
   "metadata": {},
   "source": [
    "### Running Instance:"
   ]
  },
  {
   "cell_type": "raw",
   "metadata": {},
   "source": [
    "1 ]=> (load \"1.3/Example_10/pi_sum_by_lambda_recursion.scm\")\n",
    "\n",
    ";Loading \"1.3/Example_10/pi_sum_by_lambda_recursion.scm\"...\n",
    ";  Loading \"1.3/Example_9/sum_by_recursion.scm\"... done\n",
    ";... done\n",
    ";Value: pi-sum\n",
    "\n",
    "1 ]=> (* 8 (pi-sum 1 10000))\n",
    "\n",
    ";Value: 3.141392653591793"
   ]
  },
  {
   "cell_type": "markdown",
   "metadata": {},
   "source": [
    "Again using $lambda$, we can write the $integral$ procedure without having to define the auxiliary procedure $add$-$dx$:"
   ]
  },
  {
   "cell_type": "code",
   "execution_count": 14,
   "metadata": {
    "collapsed": false
   },
   "outputs": [
    {
     "name": "stdout",
     "output_type": "stream",
     "text": [
      "(load \"1.3/Example_9/sum_by_recursion.scm\")\r\n",
      "\r\n",
      "(define (integral f a b dx)\r\n",
      "  (* (sum f\r\n",
      "          (+ a (/ dx 2.0))\r\n",
      "          (lambda (x) (+ x dx))\r\n",
      "          b)\r\n",
      "     dx))\r\n"
     ]
    }
   ],
   "source": [
    "cat 1.3/Example_10/definite_integral_by_lambda.scm"
   ]
  },
  {
   "cell_type": "markdown",
   "metadata": {},
   "source": [
    "### Running Instance:"
   ]
  },
  {
   "cell_type": "raw",
   "metadata": {},
   "source": [
    "1 ]=> (define (cube x) (* x x x))\n",
    "\n",
    ";Value: cube\n",
    "\n",
    "1 ]=> (load \"1.3/Example_10/definite_integral_by_lambda.scm\")\n",
    "\n",
    ";Loading \"1.3/Example_10/definite_integral_by_lambda.scm\"...\n",
    ";  Loading \"1.3/Example_9/sum_by_recursion.scm\"... done\n",
    ";... done\n",
    ";Value: integral\n",
    "\n",
    "1 ]=> (integral cube 0 1 0.0001)\n",
    "\n",
    ";Value: .24999999874993412"
   ]
  },
  {
   "cell_type": "markdown",
   "metadata": {},
   "source": [
    "In general, $lambda$ is used to create procedures in the same way as $define$, except that no name is specified for the procedure:"
   ]
  },
  {
   "cell_type": "raw",
   "metadata": {},
   "source": [
    "(lambda (⟨formal-parameters⟩) ⟨body⟩)"
   ]
  },
  {
   "cell_type": "markdown",
   "metadata": {},
   "source": [
    "The resulting procedure is just as much a procedure as one that is created using $define$.   \n",
    "The only difference is that it has not been associated with any name in the environment. In fact,"
   ]
  },
  {
   "cell_type": "raw",
   "metadata": {},
   "source": [
    "(define (plus4 x) (+ x 4))"
   ]
  },
  {
   "cell_type": "markdown",
   "metadata": {},
   "source": [
    "is equivalent to"
   ]
  },
  {
   "cell_type": "raw",
   "metadata": {},
   "source": [
    "(define plus4 (lambda (x) (+ x 4)))"
   ]
  },
  {
   "cell_type": "markdown",
   "metadata": {},
   "source": [
    "Like any expression that has a procedure as its value, a $lambda$ expression can be used as the operator in a combination such as"
   ]
  },
  {
   "cell_type": "raw",
   "metadata": {},
   "source": [
    "1 ]=> ((lambda (x y z) (+ x y (square z))) 1 2 3)\n",
    "\n",
    ";Value: 12"
   ]
  },
  {
   "cell_type": "markdown",
   "metadata": {},
   "source": [
    "## Using let to create local variables"
   ]
  },
  {
   "cell_type": "markdown",
   "metadata": {},
   "source": [
    "Another use of $lambda$ is in creating $local$ $variables$.We often need $local$ $variables$ in our procedures other than those that have been bound as $formal$ $parameters$.For example, suppose we wish to compute the function"
   ]
  },
  {
   "cell_type": "markdown",
   "metadata": {},
   "source": [
    "$$f(x,y) = x(1 + xy)^2 + y(1 - y) + (1 + xy)(1 -y),$$"
   ]
  },
  {
   "cell_type": "markdown",
   "metadata": {},
   "source": [
    "which we could also express as"
   ]
  },
  {
   "cell_type": "markdown",
   "metadata": {},
   "source": [
    "$$a = 1 + xy,$$\n",
    "$$b = 1 - y,$$\n",
    "$$f(x,y) = xa^2 + yb + ab.$$"
   ]
  },
  {
   "cell_type": "markdown",
   "metadata": {},
   "source": [
    "In writing a procedure to compute $f$ , we would like to include as $local$ $variables$ not only $x$ and $y$ but also the names of intermediate quantities like $a$ and $b$. One way to accomplish this is to use an auxiliary procedure to bind the $local$ $variables$:"
   ]
  },
  {
   "cell_type": "code",
   "execution_count": 15,
   "metadata": {
    "collapsed": false
   },
   "outputs": [
    {
     "name": "stdout",
     "output_type": "stream",
     "text": [
      "(define (f x y)\r\n",
      "  (define (f-helper a b)\r\n",
      "    (+ (* x (square a))\r\n",
      "       (* y b)\r\n",
      "       (* a b)))\r\n",
      "  (f-helper (+ 1 (* x y)) (- 1 y)))\r\n"
     ]
    }
   ],
   "source": [
    "cat 1.3/Example_11/bind_local_variables_by_auxiliary.scm"
   ]
  },
  {
   "cell_type": "markdown",
   "metadata": {},
   "source": [
    "Of course, we could use a $lambda$ expression to specify an anonymous procedure for binding our $local$ $variables$. The body of $f$ then becomes a single call to that procedure:"
   ]
  },
  {
   "cell_type": "code",
   "execution_count": 16,
   "metadata": {
    "collapsed": false
   },
   "outputs": [
    {
     "name": "stdout",
     "output_type": "stream",
     "text": [
      "(define (f x y)\r\n",
      "  ((lambda (a b)\r\n",
      "    (+ (* x (square a))\r\n",
      "    (* y b)\r\n",
      "    (* a b)))\r\n",
      "  (+ 1 (* x y))\r\n",
      "  (- 1 y)))\r\n"
     ]
    }
   ],
   "source": [
    "cat 1.3/Example_11/bind_local_variables_by_lambda.scm"
   ]
  },
  {
   "cell_type": "markdown",
   "metadata": {},
   "source": [
    "This construct is so useful that there is a special form called $let$ to make its use more convenient.  \n",
    "Using $let$, the $f$ procedure could be written as"
   ]
  },
  {
   "cell_type": "code",
   "execution_count": 17,
   "metadata": {
    "collapsed": false
   },
   "outputs": [
    {
     "name": "stdout",
     "output_type": "stream",
     "text": [
      "(define (f x y)\r\n",
      "  (let ((a (+ 1 (* x y)))\r\n",
      "        (b (- 1 y)))\r\n",
      "    (+ (* x (square a))\r\n",
      "    (* y b)\r\n",
      "    (* a b))))\r\n"
     ]
    }
   ],
   "source": [
    "cat 1.3/Example_11/bind_local_variables_by_let.scm"
   ]
  },
  {
   "cell_type": "markdown",
   "metadata": {},
   "source": [
    "The general form of a $let$ expression is"
   ]
  },
  {
   "cell_type": "raw",
   "metadata": {},
   "source": [
    "(let ((⟨var1⟩ ⟨exp1⟩)\n",
    "`    (⟨var2⟩ ⟨exp2⟩)\n",
    "     ...\n",
    "`    (⟨varn⟩ ⟨expn⟩))\n",
    "  ⟨body⟩)"
   ]
  },
  {
   "cell_type": "markdown",
   "metadata": {},
   "source": [
    "The first part of the $let$ expression is a list of $name$-$expression$ pairs.  \n",
    "When the $let$ is evaluated, each $name$ is associated with the value of the corresponding $expression$.   \n",
    "The body of the $let$ is evaluated with these names bound as $local$ $variables$.   \n",
    "The way this happens is that the $let$ expression is interpreted as an alternate syntax for"
   ]
  },
  {
   "cell_type": "raw",
   "metadata": {},
   "source": [
    "((lambda (⟨var1⟩ ... ⟨varn⟩)\n",
    "   <body>)\n",
    "  <exp1>\n",
    "  ...\n",
    "  <expn>)"
   ]
  },
  {
   "cell_type": "markdown",
   "metadata": {},
   "source": [
    "No new mechanism is required in the interpreter in order to provide $local$ $variables$.   \n",
    "A $let$ expression is simply $syntactic$ $sugar$ for the underlying $lambda$ application"
   ]
  },
  {
   "cell_type": "markdown",
   "metadata": {},
   "source": [
    "We can see from this equivalence that the scope of a variable specified by a $let$ expression is the body of the $let$.This implies that:"
   ]
  },
  {
   "cell_type": "markdown",
   "metadata": {},
   "source": [
    "$\\bullet$ $let$ allows one to bind variables as locally as possible to where they are to be used. For example, if the value of $x$ is 5, the value of the expression"
   ]
  },
  {
   "cell_type": "raw",
   "metadata": {},
   "source": [
    "(+ (let ((x 3)) (+ x (* x 10)))\n",
    "`  x)"
   ]
  },
  {
   "cell_type": "markdown",
   "metadata": {},
   "source": [
    "is 38. Here, the $x$ in the body of the $let$ is 3, so the value of the let expression is 33.   \n",
    "On the other hand, the $x$ that is the second argument to the outermost $+$ is still 5."
   ]
  },
  {
   "cell_type": "markdown",
   "metadata": {},
   "source": [
    "$\\bullet$ The variables’values are computed outside the $let$. This matters when the expressions that provide the values for the $local$ $variables$ depend upon variables having the same names as the local variables themselves. For example, if the value of $x$ is 2, the expression"
   ]
  },
  {
   "cell_type": "raw",
   "metadata": {},
   "source": [
    "(let ((x 3) \n",
    "`    (y (+ x 2)))\n",
    "  (* x y))"
   ]
  },
  {
   "cell_type": "markdown",
   "metadata": {},
   "source": [
    "will have the value 12 because, inside the body of the $let$, $x$ will be 3 and $y$ will be 4 (which is the outer $x$ plus 2)."
   ]
  },
  {
   "cell_type": "markdown",
   "metadata": {},
   "source": [
    "Sometimes we can use $internal$ $definitions$ to get the same effect as with $let$.   \n",
    "For example, we could have defined the procedure $f$ above as"
   ]
  },
  {
   "cell_type": "code",
   "execution_count": 18,
   "metadata": {
    "collapsed": false
   },
   "outputs": [
    {
     "name": "stdout",
     "output_type": "stream",
     "text": [
      "(define (f x y)\r\n",
      "  (define a (+ 1 (* x y)))\r\n",
      "  (define b (- 1 y))\r\n",
      "  (+ (* x (square a))\r\n",
      "     (* y b)\r\n",
      "     (* a b)))\r\n"
     ]
    }
   ],
   "source": [
    "cat 1.3/Example_11/bind_local_variables_by_internal.scm"
   ]
  },
  {
   "cell_type": "markdown",
   "metadata": {},
   "source": [
    "We prefer,however,to use $let$ in situations like this and to use $internal$ $define$ only for $internal$ $procedures$."
   ]
  },
  {
   "cell_type": "markdown",
   "metadata": {},
   "source": [
    "## Exercise 1.34: \n",
    "Suppose we define the procedure"
   ]
  },
  {
   "cell_type": "raw",
   "metadata": {},
   "source": [
    "(define (f g) (g 2))"
   ]
  },
  {
   "cell_type": "markdown",
   "metadata": {},
   "source": [
    "Then we have"
   ]
  },
  {
   "cell_type": "raw",
   "metadata": {},
   "source": [
    "(f square)\n",
    "4\n",
    "(f (lambda (z) (* z (+ z 1))))\n",
    "6"
   ]
  },
  {
   "cell_type": "markdown",
   "metadata": {},
   "source": [
    "What happens if we (perversely) ask the interpreter to evaluate the combination $(f \\;\\, f)$? Explain."
   ]
  },
  {
   "cell_type": "markdown",
   "metadata": {},
   "source": [
    "### 解答："
   ]
  },
  {
   "cell_type": "markdown",
   "metadata": {},
   "source": [
    "根据上述的一般过程定义"
   ]
  },
  {
   "cell_type": "raw",
   "metadata": {},
   "source": [
    "(define (plus4 x) (+ x 4))"
   ]
  },
  {
   "cell_type": "markdown",
   "metadata": {},
   "source": [
    "等价于"
   ]
  },
  {
   "cell_type": "raw",
   "metadata": {},
   "source": [
    "(define plus4 (lambda (x) (+ x 4)))"
   ]
  },
  {
   "cell_type": "markdown",
   "metadata": {},
   "source": [
    "则我们可以将题中的定义"
   ]
  },
  {
   "cell_type": "raw",
   "metadata": {},
   "source": [
    "(define (f g) (g 2))"
   ]
  },
  {
   "cell_type": "markdown",
   "metadata": {},
   "source": [
    "改写成$lambda$形式"
   ]
  },
  {
   "cell_type": "raw",
   "metadata": {},
   "source": [
    "(define f (lambda (g) (g 2)))"
   ]
  },
  {
   "cell_type": "markdown",
   "metadata": {},
   "source": [
    "然后展开$(f\\;\\,f)$的执行过程"
   ]
  },
  {
   "cell_type": "raw",
   "metadata": {},
   "source": [
    "(f f)                 --> 使用lambda形式的定义替换\n",
    "(f (lambda (g) (g 2)))      --> 使用一般过程的定义替换\n",
    "((lambda (g) (g 2)) 2)      --> labmda表达式在组合式中能作为操作符\n",
    "(2 2)"
   ]
  },
  {
   "cell_type": "markdown",
   "metadata": {},
   "source": [
    "执行到 (2 2) 这一步时，解释器试图以2作为函数进行调用，但是2并不是一个过程  \n",
    "所以执行出错并打印信息： The object 2 is not applicable "
   ]
  },
  {
   "cell_type": "raw",
   "metadata": {},
   "source": [
    "1 ]=> (define (f g) (g 2))\n",
    "\n",
    ";Value: f\n",
    "\n",
    "1 ]=> (f square)\n",
    "\n",
    ";Value: 4\n",
    "\n",
    "1 ]=> (f (lambda (z) (* z (+ z 1))))\n",
    "\n",
    ";Value: 6\n",
    "\n",
    "1 ]=> (f f)\n",
    "\n",
    ";The object 2 is not applicable.\n",
    ";To continue, call RESTART with an option number:\n",
    "; (RESTART 2) => Specify a procedure to use in its place.\n",
    "; (RESTART 1) => Return to read-eval-print level 1."
   ]
  },
  {
   "cell_type": "markdown",
   "metadata": {},
   "source": [
    "## 1.3.3 Procedures as General Methods"
   ]
  },
  {
   "cell_type": "markdown",
   "metadata": {},
   "source": [
    "## Example 12: Finding roots of equations by the half-interval method"
   ]
  },
  {
   "cell_type": "markdown",
   "metadata": {},
   "source": [
    "The $half$-$interval$ $method$ is a simple but powerful technique for finding roots of an equation $f(x) = 0$, where $f$ is a continuous function. The idea is that, if we are given points $a$ and $b$ such that $f(a) < 0 < f(b)$,then $f$ must have at least one zero between $a$ and $b$. To locate a zero,let $x$ be the average of $a$ and $b$, and compute $f(x)$. If $f(x) > 0$, then $f$ must have a zero between $a$ and $x$. If $f(x) < 0$, then $f$ must have a zero between $x$ and $b$. Continuing in this way, we can identify smaller and smaller intervals on which $f$ must have a zero. When we reach a point where the interval is small enough, the process stops. Since the interval of uncertainty is reduced by half at each step of the process, the number of steps required grows as $\\Theta(log(L/T))$, where $L$ is the length of the original interval and $T$ is the error tolerance (that is, the size of the interval we will consider “small enough”). Here is a procedure that implements this strategy:"
   ]
  },
  {
   "cell_type": "raw",
   "metadata": {},
   "source": [
    "(define (average a b) (/ (+ a b) 2.0))\n",
    "(define (close-enough? x y) (< (abs (- x y)) 0.001))\n",
    "\n",
    "(define (search f neg-point pos-point)\n",
    "  (let ((midpoint (average neg-point pos-point)))\n",
    "   (if (close-enough neg-point pos-point) midpoint\n",
    "      (let ((test-value (f midpoint)))\n",
    "       (cond ((positive? test-value) (search f neg-point midpoint))\n",
    "           ((negative? test-value) (search f midpoint pos-point))\n",
    "           (else midpoint))))))"
   ]
  },
  {
   "cell_type": "markdown",
   "metadata": {},
   "source": [
    "$search$ is awkward to use directly, because we can accidentally give it points at which $f$’s values do not have the required sign, in which case we get a wrong answer. Instead we will use search via the following procedure, which checks to see which of the endpoints has a negative function value and which has a positive value, and calls the search procedure accordingly. If the function has the same sign on the two given points, the half-interval method cannot be used, in which case the procedure signals an error."
   ]
  },
  {
   "cell_type": "raw",
   "metadata": {},
   "source": [
    "(define (half-interval-method f a b)\n",
    "  (let ((a-value (f a)) (b-value (f b)))\n",
    "   (cond ((and (negative? a-value) (positive? b-value)) (search f a b))\n",
    "       ((and (negative? b-value) (posivive? a-value)) (search f b a))\n",
    "       (else (error \"Values are not of opposite sign\" a b)))))"
   ]
  },
  {
   "cell_type": "markdown",
   "metadata": {},
   "source": [
    "We can group the processes above:"
   ]
  },
  {
   "cell_type": "code",
   "execution_count": 20,
   "metadata": {
    "collapsed": false
   },
   "outputs": [
    {
     "name": "stdout",
     "output_type": "stream",
     "text": [
      "(define (average a b) (/ (+ a b) 2.0))\r\n",
      "(define (close-enough x y) (< (abs (- x y)) 0.001))\r\n",
      "\r\n",
      "(define (search f neg-point pos-point)\r\n",
      "  (let ((midpoint (average neg-point pos-point)))\r\n",
      "    (if (close-enough neg-point pos-point) midpoint\r\n",
      "      (let ((test-value (f midpoint)))\r\n",
      "        (cond ((positive? test-value) (search f neg-point midpoint))\r\n",
      "              ((negative? test-value) (search f midpoint pos-point))\r\n",
      "              (else midpoint))))))\r\n",
      "\r\n",
      "(define (half-interval-method f a b)\r\n",
      "  (let ((a-value (f a)) (b-value (f b)))\r\n",
      "    (cond ((and (negative? a-value) (positive? b-value)) (search f a b))\r\n",
      "          ((and (negative? b-value) (positive? a-value)) (search f b a))\r\n",
      "          (else (error \"Values are not of opposite sign\" a b)))))\r\n"
     ]
    }
   ],
   "source": [
    "cat 1.3/Example_12/half_interval_method.scm"
   ]
  },
  {
   "cell_type": "markdown",
   "metadata": {},
   "source": [
    "### Running Instance:"
   ]
  },
  {
   "cell_type": "raw",
   "metadata": {},
   "source": [
    "1 ]=> (load \"1.3/Example_12/half_interval_method.scm\")\n",
    "\n",
    ";Loading \"1.3/Example_12/half_interval_method.scm\"... done\n",
    ";Value: half-interval-method\n",
    "\n",
    "1 ]=> (half-interval-method (lambda (x) (- (* x x x) (* 2 x) 3)) 1.0 2.0)\n",
    "\n",
    ";Value: 1.89306640625"
   ]
  },
  {
   "cell_type": "markdown",
   "metadata": {},
   "source": [
    "## Example 13: Finding fixed points of functions"
   ]
  },
  {
   "cell_type": "markdown",
   "metadata": {},
   "source": [
    "A number $x$ is called a $fixed$ $point$ of a function $f$ if $x$ satisfies the equation $f(x) = x$. For some functions $f$ we can locate a $fixed$ $point$ by beginning with an initial $guess$ and applying $f$ repeatedly,"
   ]
  },
  {
   "cell_type": "markdown",
   "metadata": {},
   "source": [
    "$$f(x),\\;\\;\\;f(f(x)),\\;\\;\\;f(f(f(x))),\\;\\;\\;\\ldots,$$"
   ]
  },
  {
   "cell_type": "markdown",
   "metadata": {},
   "source": [
    "until the value does not change very much. Using this idea, we can devise a procedure $fixed$-$point$ that takes as inputs a function and an initial guess and produces an approximation to a $fixed$ $point$ of the function. We apply the function repeatedly until we find two successive values whose difference is less than some prescribed tolerance:"
   ]
  },
  {
   "cell_type": "code",
   "execution_count": 21,
   "metadata": {
    "collapsed": false
   },
   "outputs": [
    {
     "name": "stdout",
     "output_type": "stream",
     "text": [
      "(define tolerance 0.00001)\r\n",
      "(define (fixed-point f first-guess)\r\n",
      "  (define (close-enough v1 v2)\r\n",
      "    (< (abs (- v1 v2)) tolerance))\r\n",
      "  (define (try guess)\r\n",
      "    (let ((next (f guess)))\r\n",
      "      (if (close-enough guess next)\r\n",
      "          next\r\n",
      "          (try next))))\r\n",
      "  (try first-guess))\r\n"
     ]
    }
   ],
   "source": [
    "cat 1.3/Example_13/fixed_point_of_function.scm"
   ]
  },
  {
   "cell_type": "markdown",
   "metadata": {},
   "source": [
    "### Running Instance:"
   ]
  },
  {
   "cell_type": "markdown",
   "metadata": {},
   "source": [
    "For example, we can use this method to approximate the $fixed$ $point$ of the $cosine$ function, starting with 1 as an initial approximation:"
   ]
  },
  {
   "cell_type": "raw",
   "metadata": {},
   "source": [
    "1 ]=> (load \"1.3/Example_13/fixed_point_of_function.scm\")\n",
    "\n",
    ";Loading \"1.3/Example_13/fixed_point_of_function.scm\"... done\n",
    ";Value: fixed-point\n",
    "\n",
    "1 ]=> (fixed-point cos 1.0)\n",
    "\n",
    ";Value: .7390822985224024"
   ]
  },
  {
   "cell_type": "markdown",
   "metadata": {},
   "source": [
    "Similarly, we can find a solution to the equation $y\\,=\\,siny\\;+\\;cosy$:"
   ]
  },
  {
   "cell_type": "raw",
   "metadata": {},
   "source": [
    "1 ]=> (fixed-point (lambda (y) (+ (sin y) (cos y))) 1.0)\n",
    "\n",
    ";Value: 1.2587315962971173"
   ]
  },
  {
   "cell_type": "markdown",
   "metadata": {},
   "source": [
    "The $fixed$-$point$ process is reminiscent of the process we used for finding $square$ $roots$ in Section 1.1.7. Both are based on the idea of repeatedly improving a guess until the result satisfies some criterion. In fact, we can readily formulate the $square$-$root$ computation as a $fixed$-$point$ search. Computing the $square$ $root$ of some number $x$ requires finding a $y$ such that $y^2 = x$. Putting this equation into the equivalent form $y = x/y$,we recognize that we are looking for a fixed point of the function $y\\mapsto x=y$, and we can therefore try to compute $square$ $roots$ as"
   ]
  },
  {
   "cell_type": "raw",
   "metadata": {},
   "source": [
    "(define (sqrt x) (fixed-point (lambda (y) (/ x y)) 1.0)"
   ]
  },
  {
   "cell_type": "markdown",
   "metadata": {},
   "source": [
    "Unfortunately, this $fixed$-$point$ $search$ does not converge. Consider an initial guess $y_1$. The next guess is $y_2 = x/y_1$ and the next guess is $y_3 = x/y_2 = x/(x/y_1) = y_1$. This results in an infinite loop in which the two guesses $y_1$ and $y_2$ repeat over and over, oscillating about the answer."
   ]
  },
  {
   "cell_type": "markdown",
   "metadata": {},
   "source": [
    "One way to control such oscillations is to prevent the guesses from changing so much. Since the answer is always between our guess $y$ and $x/y$, we can make a new guess that is not as far from $y$ as $x/y$ by averaging $y$ with $x/y$, so that the next guess after $y$ is $\\frac{1}{2}(y + x/y)$ instead of $x/y$. The process of making such a sequence of guesses is simply the process of looking for a fixed point of $y\\mapsto\\frac{1}{2}(y + x/y)$:"
   ]
  },
  {
   "cell_type": "raw",
   "metadata": {},
   "source": [
    "(define (average a b) (/ (+ a b) 2.0))\n",
    "(define (sqrt x) (fixed-point (lambda (y) (average y (/ x y))) 1.0)"
   ]
  },
  {
   "cell_type": "markdown",
   "metadata": {},
   "source": [
    "(Note that $y = \\frac{1}{2}(y + x/y)$ is a simple transformation of the equation $y = x/y$; to derive it, add y to both sides of the equation and divide by 2.)"
   ]
  },
  {
   "cell_type": "markdown",
   "metadata": {},
   "source": [
    "With this modification, the $square$-$root$ procedure works. In fact, if we unravel the definitions, we can see that the sequence of approximations to the square root generated here is precisely the same as the one generated by our original $square$-$root$ procedure of Section 1.1.7. This approach of averaging successive approximations to a solution, a technique that we call $average$ $damping$, often aids the convergence of $fixed$-$point$ searches."
   ]
  },
  {
   "cell_type": "markdown",
   "metadata": {},
   "source": [
    "## Exercise 1.35: \n",
    "Show that the $golden$ $ratio$ $\\varphi$ (Section 1.2.2) is a $fixed$ $point$ of the transformation $x \\mapsto 1 + 1/x$, and use this fact to compute $\\varphi$ by means of the $fixed$-$point$ procedure."
   ]
  },
  {
   "cell_type": "markdown",
   "metadata": {},
   "source": [
    "### Answer:"
   ]
  },
  {
   "cell_type": "code",
   "execution_count": 23,
   "metadata": {
    "collapsed": false
   },
   "outputs": [
    {
     "name": "stdout",
     "output_type": "stream",
     "text": [
      "(load \"1.3/Example_13/fixed_point_of_function.scm\")\r\n",
      "\r\n",
      "(define golden-ratio\r\n",
      "  (fixed-point (lambda (x) (+ 1 (/ 1 x))) 1.0))\r\n"
     ]
    }
   ],
   "source": [
    "cat 1.3/Exercise_1.35/golden_ratio.scm"
   ]
  },
  {
   "cell_type": "markdown",
   "metadata": {},
   "source": [
    "### Running Instance:"
   ]
  },
  {
   "cell_type": "markdown",
   "metadata": {},
   "source": [
    "1 ]=> (load \"1.3/Exercise_1.34/golden_ratio.scm\")\n",
    "\n",
    ";Loading \"1.3/Exercise_1.34/golden_ratio.scm\"...\n",
    ";  Loading \"1.3/Example_13/fixed_point_of_function.scm\"... done\n",
    ";... done\n",
    ";Value: golden-ratio\n",
    "\n",
    "1 ]=> golden-ratio\n",
    "\n",
    ";Value: 1.6180327868852458"
   ]
  },
  {
   "cell_type": "markdown",
   "metadata": {},
   "source": [
    "## Exercise 1.36: \n",
    "Modify $fixed$-$point$ so that it prints the sequence of approximations it generates, using the newline and display primitives shown in Exercise 1.22. Then find a solution to $x^x = 1000$ by finding a fixed point of $x \\mapsto log(1000)/log(x)$. (Use Scheme’s primitive $log$ procedure, which computes natural logarithms.) Compare the number of steps this takes with and without $average$ $damping$. (Note that you cannot start $fixed$-$point$ with a guess of 1, as this would cause division by $log(1) = 0$.)"
   ]
  },
  {
   "cell_type": "markdown",
   "metadata": {},
   "source": [
    "### 解答："
   ]
  },
  {
   "cell_type": "markdown",
   "metadata": {},
   "source": [
    "$\\bullet$ 修改Example_13中的fixed-point-of-function过程，使其能够打印生成的近似值序列"
   ]
  },
  {
   "cell_type": "code",
   "execution_count": 27,
   "metadata": {
    "collapsed": false
   },
   "outputs": [
    {
     "name": "stdout",
     "output_type": "stream",
     "text": [
      ";;Add 2-9 lines\r\n",
      "(define (display-info guess step)\r\n",
      "  (display \"Step: \")\r\n",
      "  (display step)\r\n",
      "  (display \" \")\r\n",
      "\r\n",
      "  (display \"Guess: \")\r\n",
      "  (display guess)\r\n",
      "  (newline))\r\n",
      "\r\n",
      "(define tolerance 0.00001)\r\n",
      "(define (fixed-point f first-guess)\r\n",
      "  (define (close-enough v1 v2)\r\n",
      "    (< (abs (- v1 v2)) tolerance))\r\n",
      "  (define (try guess step)\r\n",
      "    (display-info guess step)\r\n",
      "    (let ((next (f guess)))\r\n",
      "      (if (close-enough guess next)\r\n",
      "          (begin\r\n",
      "            (display-info next (+ 1 step))\r\n",
      "            next)\r\n",
      "          (try next (+ 1 step)))))\r\n",
      "  (try first-guess 1))\r\n"
     ]
    }
   ],
   "source": [
    "cat 1.3/Exercise_1.36/fixed_point_of_function.scm"
   ]
  },
  {
   "cell_type": "markdown",
   "metadata": {},
   "source": [
    "$\\bullet$ 我们也需要平均阻尼过程"
   ]
  },
  {
   "cell_type": "code",
   "execution_count": 19,
   "metadata": {
    "collapsed": false
   },
   "outputs": [
    {
     "name": "stdout",
     "output_type": "stream",
     "text": [
      "(define (average a b) (/ (+ a b) 2.0))\r\n",
      "(define (average-damp f) (lambda (x) (average x (f x))))\r\n"
     ]
    }
   ],
   "source": [
    "cat 1.3/Exercise_1.36/average_damp.scm"
   ]
  },
  {
   "cell_type": "markdown",
   "metadata": {},
   "source": [
    "$\\bullet$ 将 $x^x = 1000$形式化为$x \\mapsto log(1000)/log(x)$"
   ]
  },
  {
   "cell_type": "code",
   "execution_count": 20,
   "metadata": {
    "collapsed": false
   },
   "outputs": [
    {
     "name": "stdout",
     "output_type": "stream",
     "text": [
      "(define formula (lambda (x) (/ (log 1000) (log x))))\r\n"
     ]
    }
   ],
   "source": [
    "cat 1.3/Exercise_1.36/formula.scm"
   ]
  },
  {
   "cell_type": "markdown",
   "metadata": {},
   "source": [
    "### Running Instance:"
   ]
  },
  {
   "cell_type": "markdown",
   "metadata": {},
   "source": [
    "#### I. 不带average-damp过程的计算过程："
   ]
  },
  {
   "cell_type": "raw",
   "metadata": {},
   "source": [
    "1 ]=> (load \"1.3/Exercise_1.36/fixed_point_of_function.scm\")\n",
    "\n",
    ";Loading \"1.3/Exercise_1.36/fixed_point_of_function.scm\"... done\n",
    ";Value: fixed-point\n",
    "\n",
    "1 ]=> (load \"1.3/Exercise_1.36/formula.scm\")\n",
    "\n",
    ";Loading \"1.3/Exercise_1.36/formula.scm\"... done\n",
    ";Value: formula\n",
    "\n",
    "1 ]=> (fixed-point formula 2.0)\n",
    "Step: 1 Guess: 2.\n",
    "Step: 2 Guess: 9.965784284662087\n",
    "Step: 3 Guess: 3.004472209841214\n",
    "Step: 4 Guess: 6.279195757507157\n",
    "Step: 5 Guess: 3.759850702401539\n",
    "Step: 6 Guess: 5.215843784925895\n",
    "Step: 7 Guess: 4.182207192401397\n",
    "Step: 8 Guess: 4.8277650983445906\n",
    "Step: 9 Guess: 4.387593384662677\n",
    "Step: 10 Guess: 4.671250085763899\n",
    "Step: 11 Guess: 4.481403616895052\n",
    "Step: 12 Guess: 4.6053657460929\n",
    "Step: 13 Guess: 4.5230849678718865\n",
    "Step: 14 Guess: 4.577114682047341\n",
    "Step: 15 Guess: 4.541382480151454\n",
    "Step: 16 Guess: 4.564903245230833\n",
    "Step: 17 Guess: 4.549372679303342\n",
    "Step: 18 Guess: 4.559606491913287\n",
    "Step: 19 Guess: 4.552853875788271\n",
    "Step: 20 Guess: 4.557305529748263\n",
    "Step: 21 Guess: 4.554369064436181\n",
    "Step: 22 Guess: 4.556305311532999\n",
    "Step: 23 Guess: 4.555028263573554\n",
    "Step: 24 Guess: 4.555870396702851\n",
    "Step: 25 Guess: 4.555315001192079\n",
    "Step: 26 Guess: 4.5556812635433275\n",
    "Step: 27 Guess: 4.555439715736846\n",
    "Step: 28 Guess: 4.555599009998291\n",
    "Step: 29 Guess: 4.555493957531389\n",
    "Step: 30 Guess: 4.555563237292884\n",
    "Step: 31 Guess: 4.555517548417651\n",
    "Step: 32 Guess: 4.555547679306398\n",
    "Step: 33 Guess: 4.555527808516254\n",
    "Step: 34 Guess: 4.555540912917957\n",
    "Step: 35 Guess: 4.555532270803653\n",
    ";Value: 4.555532270803653"
   ]
  },
  {
   "cell_type": "markdown",
   "metadata": {},
   "source": [
    "#### II. 带average-damp过程的计算过程："
   ]
  },
  {
   "cell_type": "raw",
   "metadata": {},
   "source": [
    "1 ]=> (load \"1.3/Exercise_1.36/average_damp.scm\")\n",
    "\n",
    ";Loading \"1.3/Exercise_1.36/average_damp.scm\"... done\n",
    ";Value: average-damp\n",
    "\n",
    "1 ]=> (fixed-point (average-damp formula) 2.0)\n",
    "Step: 1 Guess: 2.\n",
    "Step: 2 Guess: 5.9828921423310435\n",
    "Step: 3 Guess: 4.922168721308343\n",
    "Step: 4 Guess: 4.628224318195455\n",
    "Step: 5 Guess: 4.568346513136242\n",
    "Step: 6 Guess: 4.5577305909237005\n",
    "Step: 7 Guess: 4.555909809045131\n",
    "Step: 8 Guess: 4.555599411610624\n",
    "Step: 9 Guess: 4.5555465521473675\n",
    "Step: 10 Guess: 4.555537551999825\n",
    ";Value: 4.555537551999825"
   ]
  },
  {
   "cell_type": "markdown",
   "metadata": {},
   "source": [
    "对比上述两个计算过程，不使用average-damp过程的计算共35步；而使用average-damp过程的计算共10步；  \n",
    "由此可见，使用average-damp过程能使得计算过程快速收敛。"
   ]
  },
  {
   "cell_type": "markdown",
   "metadata": {},
   "source": [
    "## Exercise 1.37:"
   ]
  },
  {
   "cell_type": "markdown",
   "metadata": {},
   "source": [
    "a. An infinite $continued$ $fraction$ is an expression of the form"
   ]
  },
  {
   "cell_type": "markdown",
   "metadata": {},
   "source": [
    "$$f = \\cfrac{N_1}{D_1 + \\cfrac{N_2}{D_2 + \\cfrac{N_3}{D_3 + \\cdots}}}$$"
   ]
  },
  {
   "cell_type": "markdown",
   "metadata": {},
   "source": [
    "As an example, one can show that the infinite $continued$ $fraction$ expansion with the $N_i$ and the $D_i$ all equal to 1 produces $1/\\varphi$, where $\\varphi$ is the $golden$ $ratio$ (described in Section 1.2.2). One way to approximate an infinite continued fraction is to truncate the expansion after a given number of terms. Such a truncation—a so-called $k$-$term$ $finite$ $continued$ $fraction$—has the form"
   ]
  },
  {
   "cell_type": "markdown",
   "metadata": {},
   "source": [
    "$$\\cfrac{N_1}{D_1 + \\cfrac{N_2}{\\ddots + \\cfrac{N_k}{D_k}}}.$$"
   ]
  },
  {
   "cell_type": "markdown",
   "metadata": {},
   "source": [
    "Suppose that $n$ and $d$ are procedures of one argument (the term index $i$) that return the $N_i$ and $D_i$ of the terms of the continued fraction. Define a procedure $cont$-$frac$ such that evaluating ($cont$-$frac$ $n$ $d$ $k$) computes the value of the $k$-$term$ finite continued fraction.Check your procedure by approximating $1/\\varphi$ using"
   ]
  },
  {
   "cell_type": "raw",
   "metadata": {},
   "source": [
    "(cont-frac (lambda (i) 1.0) (lambda (i) 1.0) k)"
   ]
  },
  {
   "cell_type": "markdown",
   "metadata": {},
   "source": [
    "for successive values of $k$. How large must you make $k$ in order to get an approximation that is accurate to 4 decimal places?"
   ]
  },
  {
   "cell_type": "markdown",
   "metadata": {},
   "source": [
    "b. If your $cont$-$frac$ procedure generates a recursive process, write one that generates an iterative process. If it generates an iterative process, write one that generates a recursive process."
   ]
  },
  {
   "cell_type": "markdown",
   "metadata": {},
   "source": [
    "### 解答："
   ]
  },
  {
   "cell_type": "markdown",
   "metadata": {},
   "source": [
    "#### I.递归版本的连分式过程"
   ]
  },
  {
   "cell_type": "markdown",
   "metadata": {},
   "source": [
    "因为连分式本质上就是一个除法计算序列，所以题目给出$\\textbf{k}$项连分式"
   ]
  },
  {
   "cell_type": "markdown",
   "metadata": {},
   "source": [
    "$$\\cfrac{N_1}{D_1 + \\cfrac{N_2}{\\ddots + \\cfrac{N_k}{D_k}}}.$$"
   ]
  },
  {
   "cell_type": "markdown",
   "metadata": {},
   "source": [
    "可以转换成以下等价的除法计算序列"
   ]
  },
  {
   "cell_type": "markdown",
   "metadata": {},
   "source": [
    "$$N_1/(D_1+(N_2/(D_2+\\cdots+(N_k/D_k))))$$"
   ]
  },
  {
   "cell_type": "markdown",
   "metadata": {},
   "source": [
    "而这个除法序列又可以用一个递归表达式来表示"
   ]
  },
  {
   "cell_type": "markdown",
   "metadata": {},
   "source": [
    "$$\n",
    "cf(1) \\\\\n",
    "N_1/(D_1+cf(2)) \\\\\n",
    "N_1/(D_1 + (N_2/(D_2 + cf(3)))) \\\\\n",
    "N_1/(D_1 + (N_2/(D_2 + (N_3/(D_3 + cf(4)))))) \\\\\n",
    "\\cdots \\\\\n",
    "N_1/(D_1 + (N_2/(D_2 + (N_3/(D_3 + \\cdots + (N_k/D_k))))))\n",
    "$$"
   ]
  },
  {
   "cell_type": "markdown",
   "metadata": {},
   "source": [
    "其中函数$cf(i)$表示连分式的第$\\textbf{i}$个项"
   ]
  },
  {
   "cell_type": "markdown",
   "metadata": {},
   "source": [
    "根据上述递归表达式，我们可以给出连分式过程的递归过程$cont$-$frac$-$by$-$recursion$"
   ]
  },
  {
   "cell_type": "code",
   "execution_count": 29,
   "metadata": {
    "collapsed": false
   },
   "outputs": [
    {
     "name": "stdout",
     "output_type": "stream",
     "text": [
      "(define (cont-frac N D k)\r\n",
      "  (define (cf i)\r\n",
      "    (if (= k i)\r\n",
      "        (/ (N k) (D k))\r\n",
      "        (/ (N i) (+ (D i) (cf (+ i 1))))))\r\n",
      "  (cf 1))\r\n"
     ]
    }
   ],
   "source": [
    "cat 1.3/Exercise_1.37/continued_fraction_by_recursion.scm"
   ]
  },
  {
   "cell_type": "markdown",
   "metadata": {},
   "source": [
    "#### II.迭代版本的连分式过程"
   ]
  },
  {
   "cell_type": "markdown",
   "metadata": {},
   "source": [
    "一个$\\textbf{k}$项连分式等价于除法计算序列"
   ]
  },
  {
   "cell_type": "markdown",
   "metadata": {},
   "source": [
    "$$N_1/(D_1+(N_2/(D_2+\\cdots+(N_k/D_k))))$$"
   ]
  },
  {
   "cell_type": "markdown",
   "metadata": {},
   "source": [
    "如果要迭代地计算这个除法计算序列，我们必须倒转公式中各个除法项计算的先后顺序，先计算高次项，然后才是低次项"
   ]
  },
  {
   "cell_type": "markdown",
   "metadata": {},
   "source": [
    "也即是说，我们必须先计算"
   ]
  },
  {
   "cell_type": "markdown",
   "metadata": {},
   "source": [
    "$$cf(k)=N_k/D_k$$"
   ]
  },
  {
   "cell_type": "markdown",
   "metadata": {},
   "source": [
    "然后计算"
   ]
  },
  {
   "cell_type": "markdown",
   "metadata": {},
   "source": [
    "$$cf(k-1)=N_{k-1}/(D_{k-1} + cf(k))$$"
   ]
  },
  {
   "cell_type": "markdown",
   "metadata": {},
   "source": [
    "再然后计算"
   ]
  },
  {
   "cell_type": "markdown",
   "metadata": {},
   "source": [
    "$$cf(k-2)=N_{k-2}/(D_{k-2} + cf(k-1))$$"
   ]
  },
  {
   "cell_type": "markdown",
   "metadata": {},
   "source": [
    "直到到达"
   ]
  },
  {
   "cell_type": "markdown",
   "metadata": {},
   "source": [
    "$$N_1/(D_1 + cf(2))$$"
   ]
  },
  {
   "cell_type": "markdown",
   "metadata": {},
   "source": [
    "这时我们就得出了整个连分式的解，而且整个计算过程是迭代地进行的"
   ]
  },
  {
   "cell_type": "markdown",
   "metadata": {},
   "source": [
    "根据上述迭代过程，我们可以给出连分式过程的迭代过程$cont$-$frac$-$by$-$iteration$"
   ]
  },
  {
   "cell_type": "code",
   "execution_count": 30,
   "metadata": {
    "collapsed": false
   },
   "outputs": [
    {
     "name": "stdout",
     "output_type": "stream",
     "text": [
      "(define (cont-frac N D k)\r\n",
      "  (define (iter i result)\r\n",
      "    (if (= i 0) result\r\n",
      "        (iter (- i 1) (/ (N i) (+ (D i) result)))))\r\n",
      "  (iter (- k 1) (/ (N k) (D k))))\r\n"
     ]
    }
   ],
   "source": [
    "cat 1.3/Exercise_1.37/continued_fraction_by_iteration.scm"
   ]
  },
  {
   "cell_type": "markdown",
   "metadata": {},
   "source": [
    "#### III.连分式定义的黄金分割率函数"
   ]
  },
  {
   "cell_type": "code",
   "execution_count": 31,
   "metadata": {
    "collapsed": false
   },
   "outputs": [
    {
     "name": "stdout",
     "output_type": "stream",
     "text": [
      "(define (cont-frac N D k)\r\n",
      "  (define (cf i)\r\n",
      "    (if (= k i)\r\n",
      "        (/ (N k) (D k))\r\n",
      "        (/ (N i) (+ (D i) (cf (+ i 1))))))\r\n",
      "  (cf 1))\r\n"
     ]
    }
   ],
   "source": [
    "cat 1.3/Exercise_1.37/continued_fraction_by_recursion.scm"
   ]
  },
  {
   "cell_type": "markdown",
   "metadata": {},
   "source": [
    "### Running Instance:"
   ]
  },
  {
   "cell_type": "raw",
   "metadata": {},
   "source": [
    "1 ]=> (load \"1.3/Exercise_1.37/continued_fraction_by_recursion.scm\")\n",
    "\n",
    ";Loading \"1.3/Exercise_1.37/continued_fraction_by_recursion.scm\"... done\n",
    ";Value: cont-frac\n",
    "\n",
    "1 ]=> (load \"1.3/Exercise_1.37/golden_ratio_recursion.scm\")\n",
    "\n",
    ";Loading \"1.3/Exercise_1.37/golden_ratio_recursion.scm\"...\n",
    ";  Loading \"1.3/Exercise_1.37/continued_fraction_by_recursion.scm\"... done\n",
    ";... done\n",
    ";Value: golden-ratio\n",
    "\n",
    "1 ]=> (golden-ratio 1)\n",
    "\n",
    ";Value: 2.\n",
    "\n",
    "1 ]=> (golden-ratio 10)\n",
    "\n",
    ";Value: 1.6179775280898876\n",
    "\n",
    "1 ]=> (golden-ratio 11)\n",
    "\n",
    ";Value: 1.6180555555555556\n",
    "\n",
    "1 ]=> (golden-ratio 100)\n",
    "\n",
    ";Value: 1.618033988749895"
   ]
  },
  {
   "cell_type": "code",
   "execution_count": 32,
   "metadata": {
    "collapsed": false
   },
   "outputs": [
    {
     "name": "stdout",
     "output_type": "stream",
     "text": [
      "(load \"1.3/Exercise_1.37/continued_fraction_by_iteration.scm\")\r\n",
      "(define (golden-ratio k)\r\n",
      "  (+ 1\r\n",
      "     (cont-frac (lambda (i) 1.0)\r\n",
      "                (lambda (i) 1.0)\r\n",
      "                k)))\r\n"
     ]
    }
   ],
   "source": [
    "cat 1.3/Exercise_1.37/golden_ratio_iteration.scm"
   ]
  },
  {
   "cell_type": "markdown",
   "metadata": {},
   "source": [
    "### Running Instance:"
   ]
  },
  {
   "cell_type": "raw",
   "metadata": {},
   "source": [
    "1 ]=> (load \"1.3/Exercise_1.37/golden_ratio_iteration.scm\")\n",
    "\n",
    ";Loading \"1.3/Exercise_1.37/golden_ratio_iteration.scm\"...\n",
    ";  Loading \"1.3/Exercise_1.37/continued_fraction_by_iteration.scm\"... done\n",
    ";... done\n",
    ";Value: golden-ratio\n",
    "\n",
    "1 ]=> (golden-ratio 1)\n",
    "\n",
    ";Value: 2.\n",
    "\n",
    "1 ]=> (golden-ratio 10)\n",
    "\n",
    ";Value: 1.6179775280898876\n",
    "\n",
    "1 ]=> (golden-ratio 11)\n",
    "\n",
    ";Value: 1.6180555555555556\n",
    "\n",
    "1 ]=> (golden-ratio 100)\n",
    "\n",
    ";Value: 1.618033988749895\n",
    "\n",
    "1 ]=> (golden-ratio 10000)\n",
    "\n",
    ";Value: 1.618033988749895"
   ]
  },
  {
   "cell_type": "markdown",
   "metadata": {},
   "source": [
    "## Exercise 1.38: \n",
    "In 1737, the Swiss mathematician Leonhard Euler published a memoir $De$ $Fractionibus$ $Continuis$, which included a continued fraction expansion for $e$ $-$ $2$, where $e$ is the base of the natural logarithms. In this fraction, the $N_i$ are all $1$, and the $D_i$ are successively $1, 2, 1, 1, 4, 1, 1, 6, 1, 1, 8, \\ldots$. Write a program that uses your $cont$-$frac$ procedure from Exercise 1.37 to approximate $e$, based on Euler’s expansion."
   ]
  },
  {
   "cell_type": "markdown",
   "metadata": {},
   "source": [
    "### 解答："
   ]
  },
  {
   "cell_type": "markdown",
   "metadata": {},
   "source": [
    "根据题中提示，我们列出$\\textbf{i}$和$\\textbf{$N_i$}$以及$\\textbf{$D_i$}$的对应序列"
   ]
  },
  {
   "cell_type": "markdown",
   "metadata": {},
   "source": [
    "\\begin{aligned}\n",
    "i\\;\\;\\;\\;& 1\\;\\;\\;2\\;\\;3\\;\\;4\\;\\;5\\;\\;6\\;\\;7\\;\\;8\\;\\;9\\;\\;10\\;\\;11\\;\\;\\dots \\\\\n",
    "D_i\\;\\;\\;\\;& 1\\;\\;2\\;\\;1\\;\\;1\\;\\;4\\;\\;1\\;\\;1\\;\\;6\\;\\;1\\;\\;1\\;\\;8\\;\\;\\dots\n",
    "\\end{aligned}"
   ]
  },
  {
   "cell_type": "markdown",
   "metadata": {},
   "source": [
    "观察以上序列，可以发现$\\textbf{$D_i$}$的规律："
   ]
  },
  {
   "cell_type": "markdown",
   "metadata": {},
   "source": [
    "$\\bullet$ 当$\\textbf{(i+1)}$取模$\\textbf{3}$等于$\\textbf{0}$时，$\\textbf{$D_i$}$等于$\\textbf{(i + 1)/3 * 2}$"
   ]
  },
  {
   "cell_type": "markdown",
   "metadata": {},
   "source": [
    "$\\bullet$ 其他情况下，$\\textbf{$D_i$}$均等于$\\textbf{1}$"
   ]
  },
  {
   "cell_type": "code",
   "execution_count": 33,
   "metadata": {
    "collapsed": false
   },
   "outputs": [
    {
     "name": "stdout",
     "output_type": "stream",
     "text": [
      "(load \"1.3/Exercise_1.37/continued_fraction_by_iteration.scm\")\r\n",
      "(define (e k)\r\n",
      "  (define (N i) 1)\r\n",
      "  (define (D i)\r\n",
      "    (if (= 0 (remainder (+ i 1) 3))\r\n",
      "        (* 2 (/ (+ i 1) 3))\r\n",
      "        1))\r\n",
      "  (+ 2.0 (cont-frac N D k)))\r\n"
     ]
    }
   ],
   "source": [
    "cat 1.3/Exercise_1.38/e.scm"
   ]
  },
  {
   "cell_type": "markdown",
   "metadata": {},
   "source": [
    "### Running Instance:"
   ]
  },
  {
   "cell_type": "raw",
   "metadata": {},
   "source": [
    "1 ]=> (load \"1.3/Exercise_1.38/e.scm\")\n",
    "\n",
    ";Loading \"1.3/Exercise_1.38/e.scm\"...\n",
    ";  Loading \"1.3/Exercise_1.37/continued_fraction_by_iteration.scm\"... done\n",
    ";... done\n",
    ";Value: e\n",
    "\n",
    "1 ]=> (e 1)\n",
    "\n",
    ";Value: 3.\n",
    "\n",
    "1 ]=> (e 2)\n",
    "\n",
    ";Value: 2.6666666666666665\n",
    "\n",
    "1 ]=> (e 3)\n",
    "\n",
    ";Value: 2.75\n",
    "\n",
    "1 ]=> (e 4)\n",
    "\n",
    ";Value: 2.7142857142857144\n",
    "\n",
    "1 ]=> (e 5)\n",
    "\n",
    ";Value: 2.71875\n",
    "\n",
    "1 ]=> (e 10)\n",
    "\n",
    ";Value: 2.7182817182817183\n",
    "\n",
    "1 ]=> (e 100)\n",
    "\n",
    ";Value: 2.718281828459045\n",
    "\n",
    "1 ]=> (e 1000)\n",
    "\n",
    ";Value: 2.718281828459045"
   ]
  },
  {
   "cell_type": "markdown",
   "metadata": {},
   "source": [
    "## Exercise 1.39: \n",
    "A continued fraction representation of the $tangent$ function was published in 1770 by the German mathematician J.H. Lambert:"
   ]
  },
  {
   "cell_type": "markdown",
   "metadata": {},
   "source": [
    "$$\\tan x = \\cfrac{x}{1 - \\cfrac{x^2}{3 - \\cfrac{x^2}{5 - \\ldots}}}$$"
   ]
  },
  {
   "cell_type": "markdown",
   "metadata": {},
   "source": [
    "where $x$ is in radians. Define a procedure $(tan-cf\\;x\\;k)$ that computes an approximation to the $tangent$ function based on Lambert’s formula. $k$ specifies the number of terms to compute, as in Exercise 1.37."
   ]
  },
  {
   "cell_type": "markdown",
   "metadata": {},
   "source": [
    "### 解答："
   ]
  },
  {
   "cell_type": "markdown",
   "metadata": {},
   "source": [
    "根据题意我们可以给出$\\textbf{N}$与$\\textbf{D}$的变化规律  \n",
    "其中$\\textbf{$N_i$}$只有$\\textbf{i}$为$\\textbf{1}$时返回$x$，其他情况下返回$-x^2$    \n",
    "$\\textbf{$D_i$}$返回$\\textbf{i}$所指定位置的奇数,即当$\\textbf{i}$为$\\textbf{i}$时，返回$\\textbf{1}$，$\\textbf{i}$为$\\textbf{2}$时，返回$\\textbf{3}$，以此类推"
   ]
  },
  {
   "cell_type": "code",
   "execution_count": 1,
   "metadata": {
    "collapsed": false
   },
   "outputs": [
    {
     "name": "stdout",
     "output_type": "stream",
     "text": [
      "(load \"1.3/Exercise_1.37/continued_fraction_by_iteration.scm\")\r\n",
      "\r\n",
      "(define (tan-cf x k)\r\n",
      "  (define (N i) (if (= i 1) x (- (square x))))\r\n",
      "  (define (D i) (- (* i 2) 1))\r\n",
      "  (exact->inexact (cont-frac N D k)))\r\n"
     ]
    }
   ],
   "source": [
    "cat 1.3/Exercise_1.39/tan_cf.scm"
   ]
  },
  {
   "cell_type": "markdown",
   "metadata": {},
   "source": [
    "使用MIT Scheme内置的$tan$函数和$tan$-$cf$进行对比测试验证$tan$-$cf$的正确性"
   ]
  },
  {
   "cell_type": "markdown",
   "metadata": {},
   "source": [
    "### Running Instance:"
   ]
  },
  {
   "cell_type": "raw",
   "metadata": {},
   "source": [
    "1 ]=> (load \"1.3/Exercise_1.39/tan_cf.scm\")\n",
    "\n",
    ";Loading \"1.3/Exercise_1.39/tan_cf.scm\"...\n",
    ";  Loading \"1.3/Exercise_1.37/continued_fraction_by_iteration.scm\"... done\n",
    ";... done\n",
    ";Value: tan-cf\n",
    "\n",
    "1 ]=> (tan 10)\n",
    "\n",
    ";Value: .6483608274590866\n",
    "\n",
    "1 ]=> (tan-cf 10 100)\n",
    "\n",
    ";Value: .6483608274590866\n",
    "\n",
    "1 ]=> (tan 25)\n",
    "\n",
    ";Value: -.13352640702153587\n",
    "\n",
    "1 ]=> (tan-cf 25 100)\n",
    "\n",
    ";Value: -.13352640702153587"
   ]
  },
  {
   "cell_type": "markdown",
   "metadata": {},
   "source": [
    "## 1.3.4 Procedures as Returned Values"
   ]
  },
  {
   "cell_type": "markdown",
   "metadata": {},
   "source": [
    "## Example 14: Square Root -- Fixed Point"
   ]
  },
  {
   "cell_type": "markdown",
   "metadata": {},
   "source": [
    "The above examples demonstrate how the ability to pass procedures as arguments significantly enhances the expressive power of our programming language. We can achieve even more expressive power by creating procedures whose returned values are themselves procedures."
   ]
  },
  {
   "cell_type": "markdown",
   "metadata": {},
   "source": [
    "We can illustrate this idea by looking again at the fixed-point example described at the end of Section 1.3.3. We formulated a new version of the square-root procedure as a fixed-point search, starting with the observation that $\\sqrt{x}$ is a fixed-point of the function $y \\mapsto x/y$.Then we used average damping to make the approximations converge. Average damping is a useful general technique in itself. Namely, given a function $f$, we consider the function whose value at $x$ is equal to the average of $x$ and $f(x)$."
   ]
  },
  {
   "cell_type": "markdown",
   "metadata": {},
   "source": [
    "We can express the idea of average damping by means of the following procedure:"
   ]
  },
  {
   "cell_type": "code",
   "execution_count": 8,
   "metadata": {
    "collapsed": false
   },
   "outputs": [
    {
     "name": "stdout",
     "output_type": "stream",
     "text": [
      "(define (average a b) (/ (+ a b) 2))\r\n",
      "(define (average-damp f) (lambda (x) (average x (f x))))\r\n"
     ]
    }
   ],
   "source": [
    "cat 1.3/Example_14/average_damp.scm"
   ]
  },
  {
   "cell_type": "markdown",
   "metadata": {},
   "source": [
    "$average$-$damp$ is a procedure that takes as its argument a procedure $f$ and returns as its value a procedure (produced by the lambda) that,when applied to a number x, produces the average of $x$ and $(f\\;x)$. For example, applying $average$-$damp$ to the square procedure produces a procedure whose value at some number $x$ is the average of \n",
    "$x$ and $x^2$.Applying this resulting procedure to 10 returns the average of 10 and 100, or 55"
   ]
  },
  {
   "cell_type": "raw",
   "metadata": {},
   "source": [
    "((average-damp square) 10)\n",
    "55"
   ]
  },
  {
   "cell_type": "markdown",
   "metadata": {},
   "source": [
    "Using $average$-$damp$, we can reformulate the $square$-$root$ procedure as follows:"
   ]
  },
  {
   "cell_type": "code",
   "execution_count": 6,
   "metadata": {
    "collapsed": false
   },
   "outputs": [
    {
     "name": "stdout",
     "output_type": "stream",
     "text": [
      "(load \"1.3/Example_13/fixed_point_of_function.scm\")\r\n",
      "(load \"1.3/Example_14/average_damp.scm\")\r\n",
      "(define (square-root x)\r\n",
      "  (fixed-point (average-damp (lambda (y) (/ x y))) 1.0))\r\n"
     ]
    }
   ],
   "source": [
    "cat 1.3/Example_14/square_root_by_fixed_point.scm"
   ]
  },
  {
   "cell_type": "markdown",
   "metadata": {},
   "source": [
    "### Running Instance:"
   ]
  },
  {
   "cell_type": "raw",
   "metadata": {},
   "source": [
    "1 ]=> (load \"1.3/Example_14/square_root_by_fixed_point.scm\")\n",
    "\n",
    ";Loading \"1.3/Example_14/square_root_by_fixed_point.scm\"...\n",
    ";  Loading \"1.3/Example_13/fixed_point_of_function.scm\"... done\n",
    ";  Loading \"1.3/Example_14/average_damp.scm\"... done\n",
    ";... done\n",
    ";Value: square-root\n",
    "\n",
    "1 ]=> (square-root 4)\n",
    "\n",
    ";Value: 2.000000000000002\n",
    "\n",
    "1 ]=> (square-root 10)\n",
    "\n",
    ";Value: 3.162277660168379"
   ]
  },
  {
   "cell_type": "markdown",
   "metadata": {},
   "source": [
    "Notice how this formulation makes explicit the three ideas in the method:fixed-point search, average damping, and the function $y \\mapsto x/y$. It is instructive to compare this formulation of the $square$-$root$ method with the original version given in Section 1.1.7. Bear in mind that these procedures express the same process, and notice how much clearer the idea becomes when we express the process in terms of these abstractions. In\n",
    "general, there are many ways to formulate a process as a procedure. Experienced programmers know how to choose procedural formulations that are particularly perspicuous, and where useful elements of the process are exposed as separate entities that can be reused in other applications. As a simple example of $reuse$, notice that the cube root of $x$ is a fixed point of the function $y \\mapsto x/y^2$, so we can immediately generalize our square-root procedure to one that extracts cube roots:"
   ]
  },
  {
   "cell_type": "code",
   "execution_count": 7,
   "metadata": {
    "collapsed": false
   },
   "outputs": [
    {
     "name": "stdout",
     "output_type": "stream",
     "text": [
      "(load \"1.3/Example_13/fixed_point_of_function.scm\")\r\n",
      "(load \"1.3/Example_14/average_damp.scm\")\r\n",
      "(define (cube-root x)\r\n",
      "  (fixed-point (average-damp (lambda (y) (/ x (square y)))) 1.0))\r\n"
     ]
    }
   ],
   "source": [
    "cat 1.3/Example_14/cube_root_by_fixed_point.scm"
   ]
  },
  {
   "cell_type": "markdown",
   "metadata": {},
   "source": [
    "## Example 15: Square Root --  Newton’s method"
   ]
  },
  {
   "cell_type": "markdown",
   "metadata": {},
   "source": [
    "When we first introduced the $square$-$root$ procedure, in Section 1.1.7, we mentioned that this was a special case of $Newton’s\\; method$.If $x\\mapsto g(x)$ is a differentiable function, then a solution of the equation $g(x)\\,=\\,0$ is a fixed point of the function $x \\mapsto f(x)$, where"
   ]
  },
  {
   "cell_type": "markdown",
   "metadata": {},
   "source": [
    "$$f(x) = x - \\frac{g(x)}{Dg(x)}$$"
   ]
  },
  {
   "cell_type": "markdown",
   "metadata": {},
   "source": [
    "and $Dg(x)$ is the derivative of $g$ evaluated at $x$."
   ]
  },
  {
   "cell_type": "markdown",
   "metadata": {},
   "source": [
    "Newton’s method is the use of the fixed-point method we saw above to approximate a solution of the equation by finding a fixed point of the function $f$."
   ]
  },
  {
   "cell_type": "markdown",
   "metadata": {},
   "source": [
    "For many functions $g$ and for sufficiently good initial guesses for $x$, Newton’s method converges very rapidly to a solution of $g(x)\\, =\\, 0$."
   ]
  },
  {
   "cell_type": "markdown",
   "metadata": {},
   "source": [
    "In order to implement Newton’s method as a procedure, we must first express the idea of derivative. Note that “derivative,” like average damping, is something that transforms a function into another function. For instance, the derivative of the function $x \\mapsto x^3$ is the function $x \\mapsto 3x^2$. In general, if $g$ is a function and dx is a small number, then the derivative $Dg$ of $g$ is the function whose value at any number $x$ is given (in the limit of small $dx$) by"
   ]
  },
  {
   "cell_type": "markdown",
   "metadata": {},
   "source": [
    "$$Dg(x) = \\frac{g(x + dx) - g(x)}{dx}.$$"
   ]
  },
  {
   "cell_type": "markdown",
   "metadata": {},
   "source": [
    "Thus, we can express the idea of $derivative$ (taking $dx$ to be, say, 0.00001) as the procedure"
   ]
  },
  {
   "cell_type": "raw",
   "metadata": {},
   "source": [
    "(define dx 0.00001)\n",
    "(define (deriv g) (lambda (x) (/ (- (g (+ x dx)) (g x)) dx)))"
   ]
  },
  {
   "cell_type": "markdown",
   "metadata": {},
   "source": [
    "Like $average$-$damp$, $deriv$ is a procedure that takes a procedure as argument and returns a procedure as value. For example, to approximate the derivative of $x \\mapsto x^3$ at 5 (whose exact value is 75) we can evaluate"
   ]
  },
  {
   "cell_type": "raw",
   "metadata": {},
   "source": [
    "(define dx 0.00001)\n",
    "\n",
    ";Value: dx\n",
    "\n",
    "1 ]=> (define (deriv g) (lambda (x) (/ (- (g (+ x dx)) (g x)) dx)))\n",
    "\n",
    ";Value: deriv\n",
    "\n",
    "1 ]=> (define (cube x) (* x x x))\n",
    "\n",
    ";Value: cube\n",
    "\n",
    "1 ]=> ((deriv cube) 5)\n",
    "\n",
    ";Value: 75.00014999664018"
   ]
  },
  {
   "cell_type": "markdown",
   "metadata": {},
   "source": [
    "With the aid of $deriv$, we can express Newton’s method as a fixed-point process:"
   ]
  },
  {
   "cell_type": "raw",
   "metadata": {},
   "source": [
    "(define (newton-transform g)\n",
    "  (lambda (x) (- x (/ (g x) ((deriv g) x)))))"
   ]
  },
  {
   "cell_type": "raw",
   "metadata": {},
   "source": [
    "(define (newtons-method g guess)\n",
    "  (fixed-point (newton-transform g) guess))"
   ]
  },
  {
   "cell_type": "markdown",
   "metadata": {},
   "source": [
    "The $newton$-$transform$ procedure expresses the formula at the beginning of this section, and newtons-method is readily defined in terms of this. It takes as arguments a procedure that computes the function for which we want to find a zero, together with an initial guess. For instance,to find the square root of x, we can use Newton’s method to find a zero of the function $y \\mapsto y^2 - x$ starting with an initial guess of 1."
   ]
  },
  {
   "cell_type": "markdown",
   "metadata": {},
   "source": [
    "This provides yet another form of the $square$-$root$ procedure:"
   ]
  },
  {
   "cell_type": "raw",
   "metadata": {},
   "source": [
    "(define (sqrt x)\n",
    "  (newtons-method (lambda (y) (- (square y) x)) 1.0))"
   ]
  },
  {
   "cell_type": "code",
   "execution_count": 2,
   "metadata": {
    "collapsed": false
   },
   "outputs": [
    {
     "name": "stdout",
     "output_type": "stream",
     "text": [
      "(load \"1.3/Example_13/fixed_point_of_function.scm\")\r\n",
      "\r\n",
      "(define dx 0.00001)\r\n",
      "(define (deriv g) (lambda (x) (/ (- (g (+ x dx)) (g x)) dx)))\r\n",
      "(define (newton-transform g)\r\n",
      "  (lambda (x) (- x (/ (g x) ((deriv g) x)))))\r\n",
      "(define (newtons-method g guess)\r\n",
      "  (fixed-point (newton-transform g) guess))\r\n",
      "(define (square-root x)\r\n",
      "  (newtons-method (lambda (y) (- (square y) x)) 1.0))\r\n"
     ]
    }
   ],
   "source": [
    "cat 1.3/Example_15/square_root_by_newton_method.scm"
   ]
  },
  {
   "cell_type": "markdown",
   "metadata": {},
   "source": [
    "### Running Instance:"
   ]
  },
  {
   "cell_type": "raw",
   "metadata": {},
   "source": [
    "1 ]=> (load \"1.3/Example_15/square_root_by_newton_method.scm\")\n",
    "\n",
    ";Loading \"1.3/Example_15/square_root_by_newton_method.scm\"...\n",
    ";  Loading \"1.3/Example_13/fixed_point_of_function.scm\"... done\n",
    ";... done\n",
    ";Value: square-root\n",
    "\n",
    "1 ]=> (square-root 4)\n",
    "\n",
    ";Value: 2.0000000000002385\n",
    "\n",
    "1 ]=> (square-root 10)\n",
    "\n",
    ";Value: 3.162277660168388"
   ]
  },
  {
   "cell_type": "markdown",
   "metadata": {},
   "source": [
    "## Abstractions and first-class procedures"
   ]
  },
  {
   "cell_type": "markdown",
   "metadata": {},
   "source": [
    "## Example 16: Square Root -- General Method"
   ]
  },
  {
   "cell_type": "markdown",
   "metadata": {},
   "source": [
    "We’ve seen two ways to express the $square$-$root$ computation as an instance of a more general method, once as a $fixed$-$point\\; search$ and once using $Newton’s\\; method$. Since Newton’s method was itself expressed as a fixed-point process, we actually saw two ways to compute square roots as $fixed$ $points$. Each method begins with a function and finds a fixed point of some transformation of the function. We can express this general idea itself as a procedure:"
   ]
  },
  {
   "cell_type": "code",
   "execution_count": 11,
   "metadata": {
    "collapsed": false
   },
   "outputs": [
    {
     "name": "stdout",
     "output_type": "stream",
     "text": [
      "(load \"1.3/Example_13/fixed_point_of_function.scm\")\r\n",
      "(define (fixed-point-of-transform g transform guess)\r\n",
      "  (fixed-point (transform g) guess))\r\n"
     ]
    }
   ],
   "source": [
    "cat 1.3/Example_16/fixed_point_of_transform.scm"
   ]
  },
  {
   "cell_type": "markdown",
   "metadata": {},
   "source": [
    "This very general procedure takes as its arguments a procedure $g$ that computes some function, a procedure that transforms $g$, and an initial guess. The returned result is a fixed point of the transformed function."
   ]
  },
  {
   "cell_type": "markdown",
   "metadata": {},
   "source": [
    "Using this abstraction, we can recast the first $square$-$root$ computation from this section (where we look for a fixed point of the $average$-$damped$ version of $y \\mapsto x/y$) as an instance of this general method:"
   ]
  },
  {
   "cell_type": "code",
   "execution_count": 13,
   "metadata": {
    "collapsed": false
   },
   "outputs": [
    {
     "name": "stdout",
     "output_type": "stream",
     "text": [
      "(load \"1.3/Example_14/average_damp.scm\")\r\n",
      "(load \"1.3/Example_16/fixed_point_of_transform.scm\")\r\n",
      "(define (square-root x)\r\n",
      "  (fixed-point-of-transform\r\n",
      "    (lambda (y) (/ x y)) average-damp 1.0))\r\n"
     ]
    }
   ],
   "source": [
    "cat 1.3/Example_16/square_root_by_fixed_point_general_method.scm"
   ]
  },
  {
   "cell_type": "markdown",
   "metadata": {},
   "source": [
    "### Running Instance:"
   ]
  },
  {
   "cell_type": "raw",
   "metadata": {},
   "source": [
    "1 ]=> (load \"1.3/Example_16/square_root_by_fixed_point_general_method.scm\")\n",
    "\n",
    ";Loading \"1.3/Example_16/square_root_by_fixed_point_general_method.scm\"...\n",
    ";  Loading \"1.3/Example_14/average_damp.scm\"... done\n",
    ";  Loading \"1.3/Example_16/fixed_point_of_transform.scm\"...\n",
    ";    Loading \"1.3/Example_13/fixed_point_of_function.scm\"... done\n",
    ";  ... done\n",
    ";... done\n",
    ";Value: square-root\n",
    "\n",
    "1 ]=> (square-root 4)\n",
    "\n",
    ";Value: 2.000000000000002\n",
    "\n",
    "1 ]=> (square-root 10)\n",
    "\n",
    ";Value: 3.162277660168379"
   ]
  },
  {
   "cell_type": "markdown",
   "metadata": {},
   "source": [
    "Similarly, we can express the second $square$-$root$ computation from this section (an instance of $Newton’s\\; method$ that finds a fixed point of the $Newton\\; transform$ of $y \\mapsto y^2-x$) as"
   ]
  },
  {
   "cell_type": "code",
   "execution_count": 15,
   "metadata": {
    "collapsed": false
   },
   "outputs": [
    {
     "name": "stdout",
     "output_type": "stream",
     "text": [
      "(load \"1.3/Example_16/newton_transform.scm\")\r\n",
      "(load \"1.3/Example_16/fixed_point_of_transform.scm\")\r\n",
      "(define (square-root x)\r\n",
      "  (fixed-point-of-transform\r\n",
      "    (lambda (y) (- (square y) x)) newton-transform 1.0))\r\n"
     ]
    }
   ],
   "source": [
    "cat 1.3/Example_16/square_root_by_newton_method_general_method.scm"
   ]
  },
  {
   "cell_type": "markdown",
   "metadata": {},
   "source": [
    "### Running Instance:"
   ]
  },
  {
   "cell_type": "raw",
   "metadata": {},
   "source": [
    "1 ]=> (load \"1.3/Example_16/square_root_by_newton_method_general_method.scm\")\n",
    "\n",
    ";Loading \"1.3/Example_16/square_root_by_newton_method_general_method.scm\"...\n",
    ";  Loading \"1.3/Example_16/newton_transform.scm\"... done\n",
    ";  Loading \"1.3/Example_16/fixed_point_of_transform.scm\"...\n",
    ";    Loading \"1.3/Example_13/fixed_point_of_function.scm\"... done\n",
    ";  ... done\n",
    ";... done\n",
    ";Value: square-root\n",
    "\n",
    "1 ]=> (square-root 4)\n",
    "\n",
    ";Value: 2.0000000000002385\n",
    "\n",
    "1 ]=> (square-root 10)\n",
    "\n",
    ";Value: 3.162277660168388"
   ]
  },
  {
   "cell_type": "markdown",
   "metadata": {
    "collapsed": true
   },
   "source": [
    "We began Section 1.3 with the observation that $compound$ $procedures$ are a crucial abstraction mechanism, because they permit us to express general methods of computing as explicit elements in our programming language. Now we’ve seen how $higher$-$order$ $procedures$ permit us to manipulate these general methods to create further abstractions."
   ]
  },
  {
   "cell_type": "markdown",
   "metadata": {
    "collapsed": true
   },
   "source": [
    "As programmers, we should be alert to opportunities to identify the underlying abstractions in our programs and to build upon them and generalize them to create more powerful abstractions. This is not to say that one should always write programs in the most abstract way possible; expert programmers know how to choose the level of abstraction appropriate to their task. But it is important to be able to think in terms of these abstractions, so that we can be ready to apply them in new contexts. The significance of higher-order procedures is that they\n",
    "enable us to represent these abstractions explicitly as elements in our programming language, so that they can be handled just like other computational elements."
   ]
  },
  {
   "cell_type": "markdown",
   "metadata": {
    "collapsed": true
   },
   "source": [
    "In general, programming languages impose restrictions on the ways in which computational elements can be manipulated. Elements with the fewest restrictions are said to have $first$-$class$ status. Some of the “rights and privileges” of first-class elements are:"
   ]
  },
  {
   "cell_type": "markdown",
   "metadata": {
    "collapsed": true
   },
   "source": [
    "$\\bullet$ They may be named by variables."
   ]
  },
  {
   "cell_type": "markdown",
   "metadata": {
    "collapsed": true
   },
   "source": [
    "$\\bullet$ They may be passed as arguments to procedures."
   ]
  },
  {
   "cell_type": "markdown",
   "metadata": {
    "collapsed": true
   },
   "source": [
    "$\\bullet$ They may be returned as the results of procedures."
   ]
  },
  {
   "cell_type": "markdown",
   "metadata": {},
   "source": [
    "$\\bullet$ They may be included in data structures."
   ]
  },
  {
   "cell_type": "markdown",
   "metadata": {},
   "source": [
    "Lisp, unlike other common programming languages, awards procedures full first-class status. This poses challenges for efficient implementation,but the resulting gain in expressive power is enormous."
   ]
  },
  {
   "cell_type": "markdown",
   "metadata": {},
   "source": [
    "## Exercise 1.40: \n",
    "Define a procedure $\\textbf{cubic}$ that can be used together with the $\\textbf{newtons-method}$ procedure in expressions of the form"
   ]
  },
  {
   "cell_type": "raw",
   "metadata": {},
   "source": [
    "(newtons-method (cubic a b c) 1)"
   ]
  },
  {
   "cell_type": "markdown",
   "metadata": {},
   "source": [
    "to approximate zeros of the cubic $x^3 + ax^2 + b^x + c$."
   ]
  },
  {
   "cell_type": "markdown",
   "metadata": {},
   "source": [
    "### Answer:"
   ]
  },
  {
   "cell_type": "markdown",
   "metadata": {},
   "source": [
    "$\\bullet$ First,we can define procedure $\\textbf{cubic}$"
   ]
  },
  {
   "cell_type": "raw",
   "metadata": {},
   "source": [
    "(define (cube x) (* x x x))\n",
    "(define (cubic a b c)\n",
    "  (lambda (x) (+ (cube x) (* a (square x)) (* b x) c)))"
   ]
  },
  {
   "cell_type": "markdown",
   "metadata": {},
   "source": [
    "$\\bullet$ The $\\textbf{newtons-method}$ procedure"
   ]
  },
  {
   "cell_type": "code",
   "execution_count": 3,
   "metadata": {
    "collapsed": false
   },
   "outputs": [
    {
     "name": "stdout",
     "output_type": "stream",
     "text": [
      "(load \"1.3/Example_13/fixed_point_of_function.scm\")\r\n",
      "(define dx 0.00001)\r\n",
      "(define (deriv g) (lambda (x) (/ (- (g (+ x dx)) (g x)) dx)))\r\n",
      "(define (newton-transform g)\r\n",
      "  (lambda (x) (- x (/ (g x) ((deriv g) x)))))\r\n",
      "(define (newtons-method g guess)\r\n",
      "  (fixed-point (newton-transform g) guess))\r\n"
     ]
    }
   ],
   "source": [
    "cat 1.3/Exercise_1.40/newton_method.scm"
   ]
  },
  {
   "cell_type": "markdown",
   "metadata": {},
   "source": [
    "$\\bullet$ Then in terms of the $\\textbf{newtons-method}$ procedure above,we can get $\\textbf{zero-of-cubic}$ procedure"
   ]
  },
  {
   "cell_type": "code",
   "execution_count": 4,
   "metadata": {
    "collapsed": false
   },
   "outputs": [
    {
     "name": "stdout",
     "output_type": "stream",
     "text": [
      "(load \"1.3/Exercise_1.40/cubic.scm\")\r\n",
      "(load \"1.3/Exercise_1.40/newton_method.scm\")\r\n",
      "(define (zero-of-cubic a b c)\r\n",
      "  (newtons-method (cubic a b c) 1.0))\r\n"
     ]
    }
   ],
   "source": [
    "cat 1.3/Exercise_1.40/zero_of_cubic.scm"
   ]
  },
  {
   "cell_type": "markdown",
   "metadata": {},
   "source": [
    "### Running Instance:"
   ]
  },
  {
   "cell_type": "raw",
   "metadata": {},
   "source": [
    "1 ]=> (load \"1.3/Exercise_1.40/zero_of_cubic.scm\")\n",
    "\n",
    ";Loading \"1.3/Exercise_1.40/zero_of_cubic.scm\"...\n",
    ";  Loading \"1.3/Exercise_1.40/cubic.scm\"... done\n",
    ";  Loading \"1.3/Exercise_1.40/newton_method.scm\"...\n",
    ";    Loading \"1.3/Example_13/fixed_point_of_function.scm\"... done\n",
    ";  ... done\n",
    ";... done\n",
    ";Value: zero-of-cubic\n",
    "\n",
    "1 ]=> (zero-of-cubic 3 2 1)\n",
    "\n",
    ";Value: -2.3247179572447267\n",
    "\n",
    "1 ]=> (zero-of-cubic 2 5 5)\n",
    "\n",
    ";Value: -1.2332293376819243"
   ]
  },
  {
   "cell_type": "markdown",
   "metadata": {},
   "source": [
    "## Exercise 1.41: \n",
    "Define a procedure $\\text{double}$ that takes a procedure of one argument as argument and returns a procedure that applies the original procedure twice. For example,if $\\text{inc}$ is a procedure that adds 1 to its argument, then $\\text{(double inc)}$ should be a procedure that adds 2. What value is returned by"
   ]
  },
  {
   "cell_type": "raw",
   "metadata": {},
   "source": [
    "(((double (double double)) inc) 5)"
   ]
  },
  {
   "cell_type": "markdown",
   "metadata": {},
   "source": [
    "### 解答："
   ]
  },
  {
   "cell_type": "markdown",
   "metadata": {},
   "source": [
    "对于一个接受单个参数$\\textbf{x}$的函数$\\textbf{f}$来说，要将它应用两次的方法是执行如下表达式"
   ]
  },
  {
   "cell_type": "raw",
   "metadata": {},
   "source": [
    "(f (f x))"
   ]
  },
  {
   "cell_type": "markdown",
   "metadata": {},
   "source": [
    "由此可以给出相应的$\\textbf{double}$过程，它接受一个过程$\\textbf{f}$，并且返回一个能将$\\textbf{f}$应用两次的过程"
   ]
  },
  {
   "cell_type": "code",
   "execution_count": 6,
   "metadata": {
    "collapsed": false
   },
   "outputs": [
    {
     "name": "stdout",
     "output_type": "stream",
     "text": [
      "(define (double f) (lambda (x) (f (f x))))\r\n"
     ]
    }
   ],
   "source": [
    "cat 1.3/Exercise_1.41/double.scm"
   ]
  },
  {
   "cell_type": "markdown",
   "metadata": {},
   "source": [
    "### Running Instance:"
   ]
  },
  {
   "cell_type": "raw",
   "metadata": {},
   "source": [
    "1 ]=> (load \"1.3/Exercise_1.41/double.scm\")\n",
    "\n",
    ";Loading \"1.3/Exercise_1.41/double.scm\"... done\n",
    ";Value: double\n",
    "\n",
    "1 ]=> (define (inc n) (+ n 1))\n",
    "\n",
    ";Value: inc\n",
    "\n",
    "1 ]=> (((double (double double)) inc) 5)\n",
    "\n",
    ";Value: 21"
   ]
  },
  {
   "cell_type": "markdown",
   "metadata": {},
   "source": [
    "## Exercise 1.42: \n",
    "Let ${f}$ and ${g}$ be two one-argument functions.The composition ${f}$ after ${g}$ is defined to be the function $x \\mapsto f(g(x))$. Define a procedure $\\text{compose}$ that implements composition.For example, if $inc$ is a procedure that adds 1 to its argument,"
   ]
  },
  {
   "cell_type": "raw",
   "metadata": {},
   "source": [
    "((compose square inc) 6)\n",
    "49"
   ]
  },
  {
   "cell_type": "markdown",
   "metadata": {},
   "source": [
    "### 解答："
   ]
  },
  {
   "cell_type": "markdown",
   "metadata": {},
   "source": [
    "根据Example 1.41中$\\text{double}$过程提示，我们能直接得到题目中要求的$\\text{compose}$过程"
   ]
  },
  {
   "cell_type": "code",
   "execution_count": 7,
   "metadata": {
    "collapsed": false
   },
   "outputs": [
    {
     "name": "stdout",
     "output_type": "stream",
     "text": [
      "(define (compose f g) (lambda (x) (f (g x))))\r\n"
     ]
    }
   ],
   "source": [
    "cat 1.3/Exercise_1.42/compose.scm"
   ]
  },
  {
   "cell_type": "markdown",
   "metadata": {},
   "source": [
    "### Running Instance:"
   ]
  },
  {
   "cell_type": "raw",
   "metadata": {},
   "source": [
    "1 ]=> (load \"1.3/Exercise_1.42/compose.scm\")\n",
    "\n",
    ";Loading \"1.3/Exercise_1.42/compose.scm\"... done\n",
    ";Value: compose\n",
    "\n",
    "1 ]=> (define (inc n) (+ n 1))\n",
    "\n",
    ";Value: inc\n",
    "\n",
    "1 ]=> ((compose square inc) 6)\n",
    "\n",
    ";Value: 49"
   ]
  },
  {
   "cell_type": "markdown",
   "metadata": {},
   "source": [
    "## Exercise 1.43: \n",
    "If $f$ is a numerical function and $n$ is a positive integer, then we can form the $n^{th}$ repeated application\n",
    "of $f$, which is defined to be the function whose value at $x$ is $f(f(\\dots(f(x))\\dots))$. For example, if $f$ is the function $x \\mapsto x + 1$,then the $n^{th}$ repeated application of $f$ is the function $x \\mapsto x + n$. If $f$ is the operation of squaring a number,then the $n^{th}$ repeated application of $f$ is the function that raises its argument to the $\\text{$2^n$-th}$ power. Write a procedure that takes as inputs a procedure that computes $f$ and a positive integer $n$ and returns the procedure that computes the $n^{th}$ repeated application of $f$. Your procedure should be able to be used as follows:"
   ]
  },
  {
   "cell_type": "raw",
   "metadata": {},
   "source": [
    "((repeated square 2) 5)\n",
    "625"
   ]
  },
  {
   "cell_type": "markdown",
   "metadata": {},
   "source": [
    "Hint: You may find it convenient to use $\\text{compose}$ from Exercise 1.42."
   ]
  },
  {
   "cell_type": "markdown",
   "metadata": {},
   "source": [
    "## 解答："
   ]
  },
  {
   "cell_type": "markdown",
   "metadata": {},
   "source": [
    "对于表达式"
   ]
  },
  {
   "cell_type": "raw",
   "metadata": {},
   "source": [
    "(repeated f n)"
   ]
  },
  {
   "cell_type": "markdown",
   "metadata": {},
   "source": [
    "$\\text{repeated}$过程返回一个接受单个参数${x}$的过程g，在过程${g}$中，过程$f$被调用$n$次"
   ]
  },
  {
   "cell_type": "markdown",
   "metadata": {},
   "source": [
    "比如表达式$\\text{(repeated square 4)}$使用$\\text{lambda}$展开为"
   ]
  },
  {
   "cell_type": "raw",
   "metadata": {},
   "source": [
    "(repeated square 4)\n",
    "\n",
    "(lambda (x)\n",
    "  (square ((repeated square 3) \n",
    "        x))\n",
    "        \n",
    "(lambda (x)\n",
    "  (square ((lambda (x)\n",
    "        (square ((repeated square 2))\n",
    "              x)))\n",
    "        x)))\n",
    "        \n",
    "(lambda (x)\n",
    "  (square ((lambda (x)\n",
    "        (square ((lambda (x)\n",
    "              (square ((repeated square 1) x)))\n",
    "                    x)))\n",
    "        x)))\n",
    "        \n",
    "\n",
    "(lambda (x)\n",
    "  (square ((lambda (x)\n",
    "        (square ((lambda (x)\n",
    "              (square (square x)))\n",
    "                    x)))\n",
    "        x)))"
   ]
  },
  {
   "cell_type": "markdown",
   "metadata": {},
   "source": [
    "根据上述递归计算过程，我们能定义出$\\text{repeated}$递归过程"
   ]
  },
  {
   "cell_type": "code",
   "execution_count": 8,
   "metadata": {
    "collapsed": false
   },
   "outputs": [
    {
     "name": "stdout",
     "output_type": "stream",
     "text": [
      "(define (repeated f n)\r\n",
      "  (if (= n 1) f\r\n",
      "      (lambda (x) (f ((repeated f (- n 1)) x)))))\r\n"
     ]
    }
   ],
   "source": [
    "cat 1.3/Exercise_1.43/repeated_by_recursion.scm"
   ]
  },
  {
   "cell_type": "markdown",
   "metadata": {},
   "source": [
    "### Running Instance:"
   ]
  },
  {
   "cell_type": "raw",
   "metadata": {},
   "source": [
    "1 ]=> (load \"1.3/Exercise_1.43/repeated_by_recursion.scm\")\n",
    "\n",
    ";Loading \"1.3/Exercise_1.43/repeated_by_recursion.scm\"... done\n",
    ";Value: repeated\n",
    "\n",
    "1 ]=> ((repeated square 2) 5)\n",
    "\n",
    ";Value: 625"
   ]
  },
  {
   "cell_type": "markdown",
   "metadata": {},
   "source": [
    "$\\text{repeated}$过程的迭代版本"
   ]
  },
  {
   "cell_type": "code",
   "execution_count": 9,
   "metadata": {
    "collapsed": false
   },
   "outputs": [
    {
     "name": "stdout",
     "output_type": "stream",
     "text": [
      "(define (repeated f n)\r\n",
      "  (define (iter i repeated-f)\r\n",
      "    (if (= i 1) repeated-f\r\n",
      "        (iter (- i 1) (lambda (x) (f (repeated-f x))))))\r\n",
      "  (iter n f))\r\n"
     ]
    }
   ],
   "source": [
    "cat 1.3/Exercise_1.43/repeated_by_iteration.scm"
   ]
  },
  {
   "cell_type": "markdown",
   "metadata": {},
   "source": [
    "然而，根据题末给出的Hint，我们可以使用Example 1.42中的过程$\\text{compose}$来定义我们的$\\text{repeated}$过程"
   ]
  },
  {
   "cell_type": "markdown",
   "metadata": {},
   "source": [
    "#### 递归版本"
   ]
  },
  {
   "cell_type": "code",
   "execution_count": 10,
   "metadata": {
    "collapsed": false
   },
   "outputs": [
    {
     "name": "stdout",
     "output_type": "stream",
     "text": [
      "(load \"1.3/Exercise_1.42/compose.scm\")\r\n",
      "(define (repeated f n)\r\n",
      "  (if (= n 1) f\r\n",
      "      (compose f (repeated f (- n 1)))))\r\n"
     ]
    }
   ],
   "source": [
    "cat 1.3/Exercise_1.43/repeated_by_compose_recursion.scm"
   ]
  },
  {
   "cell_type": "markdown",
   "metadata": {},
   "source": [
    "#### 迭代版本"
   ]
  },
  {
   "cell_type": "code",
   "execution_count": 11,
   "metadata": {
    "collapsed": false
   },
   "outputs": [
    {
     "name": "stdout",
     "output_type": "stream",
     "text": [
      "(load \"1.3/Exercise_1.42/compose.scm\")\r\n",
      "(define (repeated f n)\r\n",
      "  (define (iter i repeated-f)\r\n",
      "    (if (= i 1) repeated-f\r\n",
      "        (iter (- i 1) (compose f repeated-f))))\r\n",
      "  (iter n f))\r\n"
     ]
    }
   ],
   "source": [
    "cat 1.3/Exercise_1.43/repeated_by_compose_iteration.scm"
   ]
  },
  {
   "cell_type": "markdown",
   "metadata": {},
   "source": [
    "### Running Instance:"
   ]
  },
  {
   "cell_type": "raw",
   "metadata": {},
   "source": [
    "1 ]=> (load \"1.3/Exercise_1.43/repeated_by_compose_recursion.scm\")\n",
    "\n",
    ";Loading \"1.3/Exercise_1.43/repeated_by_compose_recursion.scm\"...\n",
    ";  Loading \"1.3/Exercise_1.42/compose.scm\"... done\n",
    ";... done\n",
    ";Value: repeated\n",
    "\n",
    "1 ]=> ((repeated square 2) 5)\n",
    "\n",
    ";Value: 625"
   ]
  },
  {
   "cell_type": "raw",
   "metadata": {},
   "source": [
    "1 ]=> (load \"1.3/Exercise_1.43/repeated_by_compose_iteration.scm\")\n",
    "\n",
    ";Loading \"1.3/Exercise_1.43/repeated_by_compose_iteration.scm\"...\n",
    ";  Loading \"1.3/Exercise_1.42/compose.scm\"... done\n",
    ";... done\n",
    ";Value: repeated\n",
    "\n",
    "1 ]=> ((repeated square 2) 5)\n",
    "\n",
    ";Value: 625"
   ]
  },
  {
   "cell_type": "markdown",
   "metadata": {},
   "source": [
    "## Exercise 1.44:\n",
    "The idea of $smoothing$ a function is an important concept in signal processing. If $f$ is a function and $dx$ is some small number, then the smoothed version of $f$ is the function whose value at a point $x$ is the average of $f(x-dx),f(x),f(x+dx)$.Write a procedure $smooth$ that takes as input a procedure that computes $f$ and returns a procedure that computes the smoothed $f$. It is sometimes valuable to repeatedly smooth a function (that is, smooth the smoothed function, and so on) to obtain the $n-fold\\;smoothed function$. Show how to generate the n-fold smoothed function of any given function using $smooth$ and $repeated$ from Exercise 1.43."
   ]
  },
  {
   "cell_type": "markdown",
   "metadata": {},
   "source": [
    "## 解答："
   ]
  },
  {
   "cell_type": "markdown",
   "metadata": {},
   "source": [
    "$\\clubsuit$ 根据题中给出的关于平滑函数的说明，我们能直接定义$smooth$过程"
   ]
  },
  {
   "cell_type": "code",
   "execution_count": 12,
   "metadata": {
    "collapsed": false
   },
   "outputs": [
    {
     "name": "stdout",
     "output_type": "stream",
     "text": [
      "(define dx 0.00001)\r\n",
      "(define (smooth f)\r\n",
      "  (lambda (x) (/ (+ (f (- x dx)) (f x) (f (+ x dx))) 3)))\r\n"
     ]
    }
   ],
   "source": [
    "cat 1.3/Exercise_1.44/smooth.scm"
   ]
  },
  {
   "cell_type": "markdown",
   "metadata": {},
   "source": [
    "### Running Instance:"
   ]
  },
  {
   "cell_type": "raw",
   "metadata": {},
   "source": [
    "1 ]=> (load \"1.3/Exercise_1.44/smooth.scm\")\n",
    "\n",
    ";Loading \"1.3/Exercise_1.44/smooth.scm\"... done\n",
    ";Value: smooth\n",
    "\n",
    "1 ]=> ((smooth square) 5)\n",
    "\n",
    ";Value: 25.000000000066663"
   ]
  },
  {
   "cell_type": "markdown",
   "metadata": {},
   "source": [
    "$\\clubsuit$ 对于连续n次平滑函数，根据如下表达式的展开"
   ]
  },
  {
   "cell_type": "raw",
   "metadata": {},
   "source": [
    "(smooth-n-times f 3)\n",
    "\n",
    "(smooth (smooth-n-times f 2))\n",
    "\n",
    "(smooth (smooth (smooth-n-times f 1)))\n",
    "\n",
    "(smooth (smooth (smooth f)))"
   ]
  },
  {
   "cell_type": "markdown",
   "metadata": {},
   "source": [
    "直观地得到$\\text{smooth-n-times}$过程的递归版本定义"
   ]
  },
  {
   "cell_type": "code",
   "execution_count": 13,
   "metadata": {
    "collapsed": false
   },
   "outputs": [
    {
     "name": "stdout",
     "output_type": "stream",
     "text": [
      "(load \"1.3/Exercise_1.44/smooth.scm\")\r\n",
      "(define (smooth-n-times f n)\r\n",
      "  (if (= n 0) f (smooth (smooth-n-times f (- n 1)))))\r\n"
     ]
    }
   ],
   "source": [
    "cat 1.3/Exercise_1.44/smooth_n_times_by_recursion.scm"
   ]
  },
  {
   "cell_type": "markdown",
   "metadata": {},
   "source": [
    "而$\\text{smooth-n-times}$过程的迭代版本定义"
   ]
  },
  {
   "cell_type": "code",
   "execution_count": 14,
   "metadata": {
    "collapsed": false
   },
   "outputs": [
    {
     "name": "stdout",
     "output_type": "stream",
     "text": [
      "(load \"1.3/Exercise_1.44/smooth.scm\")\r\n",
      "(define (smooth-n-times f n)\r\n",
      "  (define (iter i smoothed-f)\r\n",
      "    (if (= i 0) smoothed-f\r\n",
      "        (iter (- i 1) (smooth smoothed-f))))\r\n",
      "  (iter n f))\r\n"
     ]
    }
   ],
   "source": [
    "cat 1.3/Exercise_1.44/smooth_n_times_by_iteration.scm"
   ]
  },
  {
   "cell_type": "markdown",
   "metadata": {},
   "source": [
    "### Running Instance:"
   ]
  },
  {
   "cell_type": "raw",
   "metadata": {},
   "source": [
    "1 ]=> (load \"1.3/Exercise_1.44/smooth_n_times_by_recursion.scm\")\n",
    "\n",
    ";Loading \"1.3/Exercise_1.44/smooth_n_times_by_recursion.scm\"...\n",
    ";  Loading \"1.3/Exercise_1.44/smooth.scm\"... done\n",
    ";... done\n",
    ";Value: smooth-n-times\n",
    "\n",
    "1 ]=> ((smooth-n-times square 10) 5)\n",
    "\n",
    ";Value: 25.000000000666663"
   ]
  },
  {
   "cell_type": "raw",
   "metadata": {},
   "source": [
    "1 ]=> (load \"1.3/Exercise_1.44/smooth_n_times_by_iteration.scm\")\n",
    "\n",
    ";Loading \"1.3/Exercise_1.44/smooth_n_times_by_iteration.scm\"...\n",
    ";  Loading \"1.3/Exercise_1.44/smooth.scm\"... done\n",
    ";... done\n",
    ";Value: smooth-n-times\n",
    "\n",
    "1 ]=> ((smooth-n-times square 10) 5)\n",
    "\n",
    ";Value: 25.000000000666663"
   ]
  },
  {
   "cell_type": "markdown",
   "metadata": {},
   "source": [
    "$\\clubsuit$ 使用$\\text{repeated}$定义$\\text{smooth-n-times}$"
   ]
  },
  {
   "cell_type": "markdown",
   "metadata": {},
   "source": [
    "对于表达式$\\text{(repeated smooth 3)}$的$lambda$展开"
   ]
  },
  {
   "cell_type": "raw",
   "metadata": {},
   "source": [
    "(repeated smooth 3)\n",
    "\n",
    "(lambda (f)\n",
    "    (smooth (repeated smooth 2)))\n",
    "\n",
    "(lambda (f)\n",
    "    (smooth (smooth (repeated smooth 1))))\n",
    "\n",
    "(lambda (f)\n",
    "    (smooth (smooth (smooth f))))"
   ]
  },
  {
   "cell_type": "markdown",
   "metadata": {},
   "source": [
    "有上述计算过程，我们能得到使用$\\text{repeated}$定义$\\text{smooth-n-times}$的版本  \n",
    "(依据使用的repeated过程的版本来确定递归还是迭代)"
   ]
  },
  {
   "cell_type": "code",
   "execution_count": 15,
   "metadata": {
    "collapsed": false
   },
   "outputs": [
    {
     "name": "stdout",
     "output_type": "stream",
     "text": [
      "(load \"1.3/Exercise_1.43/repeated_by_recursion.scm\")\r\n",
      "(load \"1.3/Exercise_1.44/smooth.scm\")\r\n",
      "(define (smooth-n-times f n)\r\n",
      "  (let ((n-times-smooth (repeated smooth n)))\r\n",
      "    (n-times-smooth f)))\r\n"
     ]
    }
   ],
   "source": [
    "cat 1.3/Exercise_1.44/smooth_n_times_by_repeated_recursion.scm"
   ]
  },
  {
   "cell_type": "markdown",
   "metadata": {},
   "source": [
    "### Running Instance:"
   ]
  },
  {
   "cell_type": "raw",
   "metadata": {},
   "source": [
    "1 ]=> (load \"1.3/Exercise_1.44/smooth_n_times_by_repeated.scm\")\n",
    "\n",
    ";Loading \"1.3/Exercise_1.44/smooth_n_times_by_repeated.scm\"...\n",
    ";  Loading \"1.3/Exercise_1.43/repeated_by_recursion.scm\"... done\n",
    ";  Loading \"1.3/Exercise_1.44/smooth.scm\"... done\n",
    ";... done\n",
    ";Value: smooth-n-times\n",
    "\n",
    "1 ]=> ((smooth-n-times square 10) 5)\n",
    "\n",
    ";Value: 25.000000000666663"
   ]
  },
  {
   "cell_type": "markdown",
   "metadata": {},
   "source": [
    "## Exercise 1.45: \n",
    "We saw in Section 1.3.3 that attempting to compute square roots by naively finding a fixed point of $y \\mapsto x/y$ does not converge, and that this can be fixed by average damping. The same method works for finding cube\n",
    "roots as fixed points of the average-damped $y \\mapsto x/y^2$. Unfortunately,the process does not work for fourth roots—a single average damp is not enough to make a fixed-point search for $y \\mapsto x/y^3$ converge. On the other hand, if we average damp twice (i.e., use the average damp of the average damp of $y \\mapsto x/y^3$) the fixed-point search does converge. Do some experiments to determine how many average damps are required to compute $n^{th}$ roots as a fixedpoint search based upon repeated average damping of $y \\mapsto x/y^{n-1}$. Use this to implement a simple procedure for computing $n^{th}$ roots using $\\text{fixed-point}$, $\\text{average-damp}$, and the $\\text{repeated}$ procedure of Exercise 1.43. Assume that any arithmetic operations you need are available as primitives."
   ]
  },
  {
   "cell_type": "markdown",
   "metadata": {},
   "source": [
    "$\\spadesuit$ 使用$\\text{repeated}$过程重新定义$\\text{expt}$过程"
   ]
  },
  {
   "cell_type": "markdown",
   "metadata": {},
   "source": [
    "$\\text{expt}$用于计算$y^{n-1}$，接受两个参数$base$和$n$，计算出$base^n$"
   ]
  },
  {
   "cell_type": "markdown",
   "metadata": {},
   "source": [
    "我们调用$\\text{repeated}$过程来计算表达式$2^5$的替换模型:"
   ]
  },
  {
   "cell_type": "raw",
   "metadata": {},
   "source": [
    "((repeated (lambda (x) (* base x)) 5) 1)\n",
    "\n",
    "(* 2 ((repeated (lambda (x) (* base x)) 4) 1))\n",
    "\n",
    "(* 2 (* 2 ((repeated (lambda (x) (* base x)) 3) 1)))\n",
    "\n",
    "(* 2 (* 2 (* 2 ((repeated (lambda (x) (* base x)) 2) 1))))\n",
    "\n",
    "(* 2 (* 2 (* 2 (* 2 ((repeated (lambda (x) (* base x)) 2) 1)))))\n",
    "\n",
    "(* 2 (* 2 (* 2 (* 2 (* 2 1)))))\n",
    "\n",
    "(* 2 (* 2 (* 2 (* 2 2))))\n",
    "\n",
    "(* 2 (* 2 (* 2 4)))\n",
    "\n",
    "(* 2 (* 2 8))\n",
    "\n",
    "(* 2 16)\n",
    "\n",
    "32"
   ]
  },
  {
   "cell_type": "markdown",
   "metadata": {},
   "source": [
    "根据上述计算过程，我们能够直接定义$\\text{expt}$过程"
   ]
  },
  {
   "cell_type": "code",
   "execution_count": 16,
   "metadata": {
    "collapsed": false
   },
   "outputs": [
    {
     "name": "stdout",
     "output_type": "stream",
     "text": [
      "(load \"1.3/Exercise_1.43/repeated_by_recursion\")\r\n",
      "(define (expt base n)\r\n",
      "  (if (= n 0) 1 ((repeated (lambda (x) (* base x)) n) 1)))\r\n"
     ]
    }
   ],
   "source": [
    "cat 1.3/Exercise_1.45/expt.scm"
   ]
  },
  {
   "cell_type": "markdown",
   "metadata": {},
   "source": [
    "$\\spadesuit$ 使用$\\text{repeated}$过程定义可进行不定次数平均阻尼的过程$\\text{average-damp-n-times}$"
   ]
  },
  {
   "cell_type": "markdown",
   "metadata": {},
   "source": [
    "因为需要对输入的公式进行不定次数的$\\text{average-damp}$变换以确保不动点收敛，所以我们需要定义$\\text{average-damp-n-times}$  \n",
    "$\\text{average-damp-n-times}$过程接受参数$f$和$n$，返回一个经过$n$次$\\text{average-damp}$变换的$f$作为返回值"
   ]
  },
  {
   "cell_type": "code",
   "execution_count": 22,
   "metadata": {
    "collapsed": false
   },
   "outputs": [
    {
     "name": "stdout",
     "output_type": "stream",
     "text": [
      "(load \"1.3/Exercise_1.43/repeated_by_recursion\")\r\n",
      "(load \"1.3/Example_14/average_damp.scm\")\r\n",
      "(define (average-damp-n-times f n)\r\n",
      "  ((repeated average-damp n) f))\r\n"
     ]
    }
   ],
   "source": [
    "cat 1.3/Exercise_1.45/average_damp_n_times.scm"
   ]
  },
  {
   "cell_type": "markdown",
   "metadata": {},
   "source": [
    "$\\spadesuit$ 使用上述的$\\text{expt}$过程，$\\text{average-damp-n-times}$过程以及$\\text{fixed-point}$过程，我们能够定义求$n$次方根的过程$\\text{dampd-nth-root}$ "
   ]
  },
  {
   "cell_type": "markdown",
   "metadata": {},
   "source": [
    "过程$\\text{dampd-nth-root}$接受两个参数$n$和$damp$-$times$：  \n",
    "$n$表示要计算的方根次数，  \n",
    "$damp$-$times$指定要对公式进行多少次平均阻尼变换  \n",
    "返回值是一个过程，该过程接受参数$x$，返回$x$的$n$次方根"
   ]
  },
  {
   "cell_type": "code",
   "execution_count": 23,
   "metadata": {
    "collapsed": false
   },
   "outputs": [
    {
     "name": "stdout",
     "output_type": "stream",
     "text": [
      "(load \"1.3/Example_13/fixed_point_of_function.scm\")\r\n",
      "(load \"1.3/Exercise_1.45/expt.scm\")\r\n",
      "(load \"1.3/Exercise_1.45/average_damp_n_times.scm\")\r\n",
      "(define (damped-nth-root n damp-times)\r\n",
      "  (lambda (x) (fixed-point (average-damp-n-times (lambda (y) (/ x (expt y (- n 1)))) damp-times) 1.0)))\r\n"
     ]
    }
   ],
   "source": [
    "cat 1.3/Exercise_1.45/damped_nth_root.scm"
   ]
  },
  {
   "cell_type": "markdown",
   "metadata": {},
   "source": [
    "通过定义平方根、立方根和四次方根来测试$\\text{damped-nth-root}$过程"
   ]
  },
  {
   "cell_type": "markdown",
   "metadata": {},
   "source": [
    "### Running Instance:"
   ]
  },
  {
   "cell_type": "raw",
   "metadata": {},
   "source": [
    "1 ]=> (load \"1.3/Exercise_1.45/damped_nth_root.scm\")\n",
    "\n",
    ";Loading \"1.3/Exercise_1.45/damped_nth_root.scm\"...\n",
    ";  Loading \"1.3/Example_13/fixed_point_of_function.scm\"... done\n",
    ";  Loading \"1.3/Exercise_1.45/expt.scm\"...\n",
    ";    Loading \"1.3/Exercise_1.43/repeated_by_recursion.scm\"... done\n",
    ";  ... done\n",
    ";  Loading \"1.3/Exercise_1.45/average_damp_n_times.scm\"...\n",
    ";    Loading \"1.3/Exercise_1.43/repeated_by_recursion.scm\"... done\n",
    ";    Loading \"1.3/Example_14/average_damp.scm\"... done\n",
    ";  ... done\n",
    ";... done\n",
    ";Value: damped-nth-root\n",
    "\n",
    "1 ]=> (define square-root (damped-nth-root 2 1))\n",
    "\n",
    ";Value: square-root\n",
    "\n",
    "1 ]=> (square-root (* 3 3))\n",
    "\n",
    ";Value: 3."
   ]
  },
  {
   "cell_type": "raw",
   "metadata": {},
   "source": [
    "1 ]=> (define cube-root (damped-nth-root 3 1))\n",
    "\n",
    ";Value: cube-root\n",
    "\n",
    "1 ]=> (cube-root (* 3 3 3))\n",
    "\n",
    ";Value: 2.9999972321057697"
   ]
  },
  {
   "cell_type": "markdown",
   "metadata": {},
   "source": [
    "$\\bullet$ 当只是调用一次平均阻尼变换时，计算四次方根时不动点序列已经不收敛"
   ]
  },
  {
   "cell_type": "raw",
   "metadata": {},
   "source": [
    "1 ]=> (define 4th-root (damped-nth-root 4 1))\n",
    "\n",
    ";Value: 4th-root\n",
    "\n",
    "1 ]=> (4th-root (* 3 3 3 3))\n",
    "\n",
    "[1]+  Stopped                 rlwrap scheme"
   ]
  },
  {
   "cell_type": "markdown",
   "metadata": {},
   "source": [
    "因此我们增加一次平均阻尼变换"
   ]
  },
  {
   "cell_type": "raw",
   "metadata": {},
   "source": [
    "1 ]=> (define 4th-root (damped-nth-root 4 2))\n",
    "\n",
    ";Value: 4th-root\n",
    "\n",
    "1 ]=> (4th-root (* 3 3 3 3))\n",
    "\n",
    ";Value: 3.000000000000033"
   ]
  },
  {
   "cell_type": "raw",
   "metadata": {},
   "source": [
    "1 ]=> (define 5th-root (damped-nth-root 5 2))\n",
    "\n",
    ";Value: 5th-root\n",
    "\n",
    "1 ]=> (5th-root (* 3 3 3 3 3))\n",
    "\n",
    ";Value: 3.0000008877496294"
   ]
  },
  {
   "cell_type": "markdown",
   "metadata": {},
   "source": [
    "$\\spadesuit$ 确定关于计算n次方根和不动点收敛所需的平均阻尼变换次数之间的关系"
   ]
  },
  {
   "cell_type": "markdown",
   "metadata": {},
   "source": [
    "通过上述过程我们可以得到如下一些测试数据"
   ]
  },
  {
   "cell_type": "raw",
   "metadata": {},
   "source": [
    "n次方根         平均阻尼次数\n",
    "  1                1\n",
    "  2                1\n",
    "  3                1\n",
    "  4                2\n",
    "  5                2\n",
    "  6                2\n",
    "  7                2\n",
    "  8                3\n",
    "  ...              ...\n",
    "  15               3\n",
    "  16               4\n",
    "  ...              ...\n",
    "  31               4\n",
    "  32               5\n",
    "  ...              ..."
   ]
  },
  {
   "cell_type": "markdown",
   "metadata": {},
   "source": [
    "可以看出，要使得计算$n$次方根的不动点收敛，最少需要$lgn$次平均阻尼变换"
   ]
  },
  {
   "cell_type": "markdown",
   "metadata": {},
   "source": [
    "所以我们需要定义$lg$过程"
   ]
  },
  {
   "cell_type": "code",
   "execution_count": 24,
   "metadata": {
    "collapsed": false
   },
   "outputs": [
    {
     "name": "stdout",
     "output_type": "stream",
     "text": [
      "(define (lg n)\r\n",
      "  (cond ((> (/ n 2) 1) (+ 1 (lg (/ n 2))))\r\n",
      "        ((< (/ n 2) 1) 0)\r\n",
      "        (else 1)))\r\n"
     ]
    }
   ],
   "source": [
    "cat 1.3/Exercise_1.45/lg.scm"
   ]
  },
  {
   "cell_type": "markdown",
   "metadata": {},
   "source": [
    "$\\spadesuit$ 定义$\\text{nth-root}$过程"
   ]
  },
  {
   "cell_type": "code",
   "execution_count": 25,
   "metadata": {
    "collapsed": false
   },
   "outputs": [
    {
     "name": "stdout",
     "output_type": "stream",
     "text": [
      "(load \"1.3/Exercise_1.45/damped_nth_root.scm\")\r\n",
      "(load \"1.3/Exercise_1.45/lg.scm\")\r\n",
      "(define (nth-root n) (damped-nth-root n (lg n)))\r\n"
     ]
    }
   ],
   "source": [
    "cat 1.3/Exercise_1.45/nth-root.scm"
   ]
  },
  {
   "cell_type": "markdown",
   "metadata": {},
   "source": [
    "### Running Instance:"
   ]
  },
  {
   "cell_type": "raw",
   "metadata": {},
   "source": [
    "1 ]=> (load \"1.3/Exercise_1.45/nth-root.scm\")\n",
    "\n",
    ";Loading \"1.3/Exercise_1.45/nth-root.scm\"...\n",
    ";  Loading \"1.3/Exercise_1.45/damped_nth_root.scm\"...\n",
    ";    Loading \"1.3/Example_13/fixed_point_of_function.scm\"... done\n",
    ";    Loading \"1.3/Exercise_1.45/expt.scm\"...\n",
    ";      Loading \"1.3/Exercise_1.43/repeated_by_recursion.scm\"... done\n",
    ";    ... done\n",
    ";    Loading \"1.3/Exercise_1.45/average_damp_n_times.scm\"...\n",
    ";      Loading \"1.3/Exercise_1.43/repeated_by_recursion.scm\"... done\n",
    ";      Loading \"1.3/Example_14/average_damp.scm\"... done\n",
    ";    ... done\n",
    ";  ... done\n",
    ";  Loading \"1.3/Exercise_1.45/lg.scm\"... done\n",
    ";... done\n",
    ";Value: nth-root\n",
    "\n",
    "1 ]=> (define square-root (nth-root 2))\n",
    "\n",
    ";Value: square-root\n",
    "\n",
    "1 ]=> (square-root (* 5 5))\n",
    "\n",
    ";Value: 5."
   ]
  },
  {
   "cell_type": "raw",
   "metadata": {},
   "source": [
    "1 ]=> (define cube-root (nth-root 3))\n",
    "\n",
    ";Value: cube-root\n",
    "\n",
    "1 ]=> (cube-root (* 5 5 5))\n",
    "\n",
    ";Value: 4.999997738179904"
   ]
  },
  {
   "cell_type": "raw",
   "metadata": {},
   "source": [
    "1 ]=> (define 4th-root (nth-root 4))\n",
    "\n",
    ";Value: 4th-root\n",
    "\n",
    "1 ]=> (4th-root (* 5 5 5 5))\n",
    "\n",
    ";Value: 5.000000000004688"
   ]
  },
  {
   "cell_type": "raw",
   "metadata": {},
   "source": [
    "1 ]=> (define 10th-root (nth-root 10))\n",
    "\n",
    ";Value: 10th-root\n",
    "\n",
    "1 ]=> (10th-root 1024)\n",
    "\n",
    ";Value: 2.000001183010332"
   ]
  },
  {
   "cell_type": "markdown",
   "metadata": {},
   "source": [
    "## Exercise 1.46: \n",
    "Several of the numerical methods described in this chapter are instances of an extremely general computational\n",
    "strategy known as $\\textbf{iterative improvement}$.Iterative improvement says that, to compute something, we start with an initial guess for the answer, test if the guess is good enough, and otherwise improve the guess and continue the process using the improved guess as the new guess. Write a procedure $\\text{iterative-improve}$ that takes two procedures as arguments: a method for telling whether a guess is good enough and a method for improving a guess. $\\text{iterative-improve}$ should return as its value a procedure that takes a guess as argument and keeps improving the guess until it is good enough. Rewrite the $\\text{square-root}$ procedure of Section 1.1.7 and the $\\text{fixed-point}$ procedure of Section 1.3.3 in terms of $\\text{iterative-improve}$."
   ]
  },
  {
   "cell_type": "markdown",
   "metadata": {},
   "source": [
    "根据描述，我们给出如下形式的过程"
   ]
  },
  {
   "cell_type": "raw",
   "metadata": {},
   "source": [
    "(define (iterative-improve close-enough? improve)\n",
    "    (lambda (first-guess)\n",
    "        ; ...\n",
    "    ))"
   ]
  },
  {
   "cell_type": "markdown",
   "metadata": {},
   "source": [
    "而Example_13中$\\text{fixed-point}$过程"
   ]
  },
  {
   "cell_type": "code",
   "execution_count": 26,
   "metadata": {
    "collapsed": false
   },
   "outputs": [
    {
     "name": "stdout",
     "output_type": "stream",
     "text": [
      "(define tolerance 0.00001)\r\n",
      "(define (fixed-point f first-guess)\r\n",
      "  (define (close-enough v1 v2)\r\n",
      "    (< (abs (- v1 v2)) tolerance))\r\n",
      "  (define (try guess)\r\n",
      "    (let ((next (f guess)))\r\n",
      "      (if (close-enough guess next)\r\n",
      "          next\r\n",
      "          (try next))))\r\n",
      "  (try first-guess))\r\n"
     ]
    }
   ],
   "source": [
    "cat 1.3/Example_13/fixed_point_of_function.scm"
   ]
  },
  {
   "cell_type": "markdown",
   "metadata": {},
   "source": [
    "$\\text{fixed-point}$过程不仅仅和$\\text{iterative-improve}$非常相似，事实上，$\\text{iterative-improve}$就隐藏在$\\text{fixed-point}$当中"
   ]
  },
  {
   "cell_type": "markdown",
   "metadata": {},
   "source": [
    "在$\\text{fixed-point}$中，$\\text{close-enough?}$负责检查猜测是否足够好，而函数$f$负责改进猜测，如果我们将$\\text{close-enough?}$过程抽取出来，成为额外的参数，那么$\\text{fixed-point}$过程的定义就变成了"
   ]
  },
  {
   "cell_type": "raw",
   "metadata": {},
   "source": [
    "(define tolerance 0.00001)\n",
    "(define (close-enough? v1 v2)\n",
    "  (< (abs (- v1 v2)) tolerance))\n",
    "\n",
    "(define (fixed-point f first-guess close-enough?)\n",
    "  (define (try guess)\n",
    "   (let ((next (f guess)))\n",
    "     (if (close-enough? guess next)\n",
    "`        next\n",
    "`        (try next))))\n",
    "  (try first-guess))"
   ]
  },
  {
   "cell_type": "markdown",
   "metadata": {},
   "source": [
    "如果再将$\\text{first-guess}$从$\\text{fixed-point}$过程的参数列表中移走，变成另一个包裹$\\text{try}$过程的$lambda$ 的参数，$\\text{fixed-point}$过程的定义"
   ]
  },
  {
   "cell_type": "raw",
   "metadata": {},
   "source": [
    "(define tolerance 0.00001)\n",
    "(define (close-enough? v1 v2)\n",
    "  (< (abs (- v1 v2)) tolerance))\n",
    "  \n",
    "(define (fixed-point f close-enough?)\n",
    "  (lambda (first-guess)\n",
    "   (define (try guess)\n",
    "`    (let ((next (f guess)))\n",
    "      (if (close-enough? guess next)\n",
    "         next\n",
    "         (try next))))\n",
    "   (try first-guess)))"
   ]
  },
  {
   "cell_type": "markdown",
   "metadata": {},
   "source": [
    "现在的$\\text{first-guess}$定义已经和前面给出的$\\text{iterative-improve}$形式一样了，如果将$\\text{fixed-point}$改名成$\\text{iterative-improve}$，将参数$f$改名成$improve$，并且删除$\\text{close-enough?}$过程和$dx$变量，题目要求的$\\text{iterative-improve}$就出现了"
   ]
  },
  {
   "cell_type": "code",
   "execution_count": 27,
   "metadata": {
    "collapsed": false
   },
   "outputs": [
    {
     "name": "stdout",
     "output_type": "stream",
     "text": [
      "(define (iterative-improve close-enough? improve)\r\n",
      "  (lambda (first-guess)\r\n",
      "    (define (try guess)\r\n",
      "      (let ((next (improve guess)))\r\n",
      "           (if (close-enough? guess next)\r\n",
      "               next\r\n",
      "               (try next)))) \r\n",
      "    (try first-guess)))\r\n"
     ]
    }
   ],
   "source": [
    "cat 1.3/Exercise_1.46/iterative_improve.scm"
   ]
  },
  {
   "cell_type": "markdown",
   "metadata": {},
   "source": [
    "$\\spadesuit$  用$\\text{iterative-improve}$重新定义$\\text{fixed-point}$"
   ]
  },
  {
   "cell_type": "code",
   "execution_count": 28,
   "metadata": {
    "collapsed": false
   },
   "outputs": [
    {
     "name": "stdout",
     "output_type": "stream",
     "text": [
      "(load \"1.3/Exercise_1.46/iterative_improve.scm\")\r\n",
      "\r\n",
      "(define (fixed-point f first-guess)\r\n",
      "  (define tolerance 0.00001)\r\n",
      "  (define (close-enough? v1 v2)\r\n",
      "    (< (abs (- v1 v2)) tolerance))\r\n",
      "  (define (improve guess)\r\n",
      "    (f guess))\r\n",
      "  ((iterative-improve close-enough? improve) first-guess))\r\n"
     ]
    }
   ],
   "source": [
    "cat 1.3/Exercise_1.46/fixed_point_by_iterative_improve.scm"
   ]
  },
  {
   "cell_type": "markdown",
   "metadata": {},
   "source": [
    "### Running Instance:"
   ]
  },
  {
   "cell_type": "raw",
   "metadata": {},
   "source": [
    "1 ]=> (load \"1.3/Exercise_1.46/fixed_point_by_iterative_improve.scm\")\n",
    "\n",
    ";Loading \"1.3/Exercise_1.46/fixed_point_by_iterative_improve.scm\"...\n",
    ";  Loading \"1.3/Exercise_1.46/iterative_improve.scm\"... done\n",
    ";... done\n",
    ";Value: fixed-point\n",
    "\n",
    "1 ]=> (fixed-point cos 1.0)\n",
    "\n",
    ";Value: .7390822985224024"
   ]
  },
  {
   "cell_type": "markdown",
   "metadata": {},
   "source": [
    "$\\spadesuit$  用$\\text{iterative-improve}$重新定义$\\text{square-root}$"
   ]
  },
  {
   "cell_type": "code",
   "execution_count": 29,
   "metadata": {
    "collapsed": false
   },
   "outputs": [
    {
     "name": "stdout",
     "output_type": "stream",
     "text": [
      "(load \"1.3/Exercise_1.46/iterative_improve.scm\")\r\n",
      "\r\n",
      "(define (square-root x)\r\n",
      "  (define dx 0.00001)\r\n",
      "  (define (close-enough? v1 v2)\r\n",
      "    (< (abs (- v1 v2)) dx))\r\n",
      "  (define (improve guess)\r\n",
      "    (average guess (/ x guess)))\r\n",
      "  (define (average x y)\r\n",
      "    (/ (+ x y) 2))\r\n",
      "  ((iterative-improve close-enough? improve) 1.0))\r\n"
     ]
    }
   ],
   "source": [
    "cat 1.3/Exercise_1.46/square_root_by_iterative_improve.scm"
   ]
  },
  {
   "cell_type": "markdown",
   "metadata": {},
   "source": [
    "### Running Instance:"
   ]
  },
  {
   "cell_type": "raw",
   "metadata": {},
   "source": [
    "1 ]=> (load \"1.3/Exercise_1.46/square_root_by_iterative_improve.scm\")\n",
    "\n",
    ";Loading \"1.3/Exercise_1.46/square_root_by_iterative_improve.scm\"...\n",
    ";  Loading \"1.3/Exercise_1.46/iterative_improve.scm\"... done\n",
    ";... done\n",
    ";Value: square-root\n",
    "\n",
    "1 ]=> (square-root 6561)\n",
    "\n",
    ";Value: 81."
   ]
  }
 ],
 "metadata": {
  "kernelspec": {
   "display_name": "Python 2",
   "language": "python",
   "name": "python2"
  },
  "language_info": {
   "codemirror_mode": {
    "name": "ipython",
    "version": 2
   },
   "file_extension": ".py",
   "mimetype": "text/x-python",
   "name": "python",
   "nbconvert_exporter": "python",
   "pygments_lexer": "ipython2",
   "version": "2.7.11"
  }
 },
 "nbformat": 4,
 "nbformat_minor": 0
}
