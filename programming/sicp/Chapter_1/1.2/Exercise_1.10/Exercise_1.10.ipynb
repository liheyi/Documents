{
 "cells": [
  {
   "cell_type": "markdown",
   "metadata": {},
   "source": [
    "### Exercise 1.10: \n",
    "The following procedure computes a mathematical function called $Ackermann’s$ function."
   ]
  },
  {
   "cell_type": "raw",
   "metadata": {},
   "source": [
    "(define (A x y)\n",
    "  (cond ((= y 0) 0)\n",
    "      ((= x 0) (* 2 y))\n",
    "      ((= y 1) 2)\n",
    "      (else (A (- x 1) (A x (- y 1))))))"
   ]
  },
  {
   "cell_type": "markdown",
   "metadata": {},
   "source": [
    "What are the values of the following expressions?"
   ]
  },
  {
   "cell_type": "markdown",
   "metadata": {},
   "source": [
    "(A 1 10)  \n",
    "(A 2 4)  \n",
    "(A 3 3)  "
   ]
  },
  {
   "cell_type": "markdown",
   "metadata": {},
   "source": [
    "Consider the following procedures, where $A$ is the procedure defined above:"
   ]
  },
  {
   "cell_type": "markdown",
   "metadata": {},
   "source": [
    "$(define$ $(f$ $n)$ $(A$ $0$ $n))$  \n",
    "$(define$ $(g$ $n)$ $(A$ $1$ $n))$  \n",
    "$(define$ $(h$ $n)$ $(A$ $2$ $n))$  \n",
    "$(define$ $(k$ $n)$ $(*$ $5$ $n$ $n))$  "
   ]
  },
  {
   "cell_type": "markdown",
   "metadata": {},
   "source": [
    "Give concise mathematical definitions for the functions computed by the procedures $f$, $g$, and $h$ for positive integer values of n. For example, $(k$ $n)$ computes $5n^2$."
   ]
  },
  {
   "cell_type": "markdown",
   "metadata": {},
   "source": [
    "### Answer:"
   ]
  },
  {
   "cell_type": "markdown",
   "metadata": {},
   "source": [
    "First,we can compute these expressions aboved used by interpreter:"
   ]
  },
  {
   "cell_type": "markdown",
   "metadata": {},
   "source": [
    "#### Running Instance:"
   ]
  },
  {
   "cell_type": "code",
   "execution_count": 1,
   "metadata": {
    "collapsed": false
   },
   "outputs": [
    {
     "name": "stdout",
     "output_type": "stream",
     "text": [
      "(define (A x y)\r\n",
      "  (cond ((= y 0) 0)\r\n",
      "        ((= x 0) (* 2 y))\r\n",
      "        ((= y 1) 2)\r\n",
      "        (else (A (- x 1) (A x (- y 1))))))\r\n"
     ]
    }
   ],
   "source": [
    "cat Ackermann.scm "
   ]
  },
  {
   "cell_type": "raw",
   "metadata": {},
   "source": [
    "1 ]=> (load \"Ackermann.scm\")\n",
    "\n",
    ";Loading \"Ackermann.scm\"... done\n",
    ";Value: a\n",
    "\n",
    "1 ]=> (A 1 10)\n",
    "\n",
    ";Value: 1024\n",
    "\n",
    "1 ]=> (A 2 4)\n",
    "\n",
    ";Value: 65536\n",
    "\n",
    "1 ]=> (A 3 3)\n",
    "\n",
    ";Value: 65536"
   ]
  },
  {
   "cell_type": "markdown",
   "metadata": {},
   "source": [
    "We can use the substitution model to watch computing these expressions above:"
   ]
  },
  {
   "cell_type": "raw",
   "metadata": {},
   "source": [
    "(A 1 10)\n",
    "(A 0 (A 1 9))\n",
    "(2 * (A 0 (A 1 8)))\n",
    "(2 * (2 * (A 0 (A 1 7))))\n",
    "(2 * (2 * (2 * (A 0 (A 1 6)))))\n",
    "(2 * (2 * (2 * (2 * (A 0 (A 1 5))))))\n",
    "(2 * (2 * (2 * (2 * (2 * (A 0 (A 1 4)))))))\n",
    "(2 * (2 * (2 * (2 * (2 * (2 * (A 0 (A 1 3))))))))\n",
    "(2 * (2 * (2 * (2 * (2 * (2 * (2 * (A 0 (A 1 2)))))))))\n",
    "(2 * (2 * (2 * (2 * (2 * (2 * (2 * (2 * (A 0 A(1 1))))))))))\n",
    "(2 * (2 * (2 * (2 * (2 * (2 * (2 * (2 * (2 * 2)))))))))\n",
    "(2 * (2 * (2 * (2 * (2 * (2 * (2 * (2 * 4))))))))\n",
    "(2 * (2 * (2 * (2 * (2 * (2 * (2 * 8)))))))\n",
    "(2 * (2 * (2 * (2 * (2 * (2 * 16))))))\n",
    "(2 * (2 * (2 * (2 * (2 * 32)))))\n",
    "(2 * (2 * (2 * (2 * 64))))\n",
    "(2 * (2 * (2 * 128)))\n",
    "(2 * (2 * 256))\n",
    "(2 * 512)\n",
    "1024"
   ]
  },
  {
   "cell_type": "markdown",
   "metadata": {},
   "source": [
    "$1024=2^{10}$"
   ]
  },
  {
   "cell_type": "raw",
   "metadata": {},
   "source": [
    "(A 2 4)\n",
    "(A 1 (A 2 3))\n",
    "(A 1 (A 1 (A 2 2)))\n",
    "(A 1 (A 1 (A 1 (A 2 1))))  ==> (A 2 1)=2\n",
    "(A 1 (A 1 (A 1 2)))      ==> (A 1 2)=2^2\n",
    "(A 1 (A 1 4))          ==> (A 1 4)=2^4\n",
    "(A 1 16)             ==> (A 1 16)=2^16\n",
    "65536"
   ]
  },
  {
   "cell_type": "markdown",
   "metadata": {},
   "source": [
    "$65536=2^{2^{2^2}}$ $\\text{The number of 2 is 4}.$"
   ]
  },
  {
   "cell_type": "raw",
   "metadata": {},
   "source": [
    "(A 3 3)\n",
    "(A 2 (A 3 2))\n",
    "(A 2 (A 2 (A 3 1)))     ==> (A 3 1)=2\n",
    "(A 2 (A 2 2))         ==> (A 2 2)=2^2\n",
    "(A 2 4)\n",
    "65536"
   ]
  },
  {
   "cell_type": "markdown",
   "metadata": {},
   "source": [
    "$(define$ $(f$ $n)$ $(A$ $0$ $n))$ $\\rightarrow$ $f(n)=2n$"
   ]
  },
  {
   "cell_type": "markdown",
   "metadata": {},
   "source": [
    "$(define$ $(g$ $n)$ $(A$ $1$ $n))$ $\\rightarrow$ $g(n)=2^n$"
   ]
  },
  {
   "cell_type": "markdown",
   "metadata": {},
   "source": [
    "$(define$ $(h$ $n)$ $(A$ $2$ $n))$ $\\rightarrow$ $h(n)=2^{2^{\\cdot^{\\cdot^{\\cdot^2}}}}$ $\\text{The number of 2 is n}.$"
   ]
  }
 ],
 "metadata": {
  "kernelspec": {
   "display_name": "Python [Root]",
   "language": "python",
   "name": "Python [Root]"
  },
  "language_info": {
   "codemirror_mode": {
    "name": "ipython",
    "version": 2
   },
   "file_extension": ".py",
   "mimetype": "text/x-python",
   "name": "python",
   "nbconvert_exporter": "python",
   "pygments_lexer": "ipython2",
   "version": "2.7.12"
  }
 },
 "nbformat": 4,
 "nbformat_minor": 0
}
