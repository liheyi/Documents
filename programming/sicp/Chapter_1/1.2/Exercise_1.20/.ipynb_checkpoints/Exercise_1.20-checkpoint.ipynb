{
 "cells": [
  {
   "cell_type": "markdown",
   "metadata": {},
   "source": [
    "### Exercise 1.20: \n",
    "The process that a procedure generates is of course dependent on the rules used by the interpreter.As an example, consider the iterative gcd procedure given above. Suppose we were to interpret this procedure using normal-order evaluation, as discussed in Section 1.1.5. (The normal-order-evaluation rule for if is described in Exercise 1.5.) Using the substitution method (for normal order), illustrate the process generated in evaluating $\\textbf{(gcd 206 40)}$ and indicate the remainder operations that are actually performed. How many remainder operations are actually performed in the normal-order evaluation of $\\textbf{(gcd 206 40)}$?In the applicative-order evaluation?"
   ]
  },
  {
   "cell_type": "markdown",
   "metadata": {},
   "source": [
    "### Answer:"
   ]
  },
  {
   "cell_type": "markdown",
   "metadata": {},
   "source": [
    "#### Interpreter execution process:"
   ]
  },
  {
   "cell_type": "raw",
   "metadata": {},
   "source": [
    "1 ]=> (load \"gcd_by_Euclid_Algorithm.scm\")\n",
    "\n",
    ";Loading \"gcd_by_Euclid_Algorithm.scm\"... done\n",
    ";Value: gcd\n",
    "\n",
    "1 ]=> (trace-entry gcd)\n",
    "\n",
    ";Unspecified return value\n",
    "\n",
    "1 ]=> (trace-entry remainder)\n",
    "\n",
    ";Unspecified return value\n",
    "\n",
    "1 ]=> (gcd 206 40)\n",
    "\n",
    "[Entering #[compound-procedure 16 gcd]\n",
    "    Args: 206\n",
    "        40]\n",
    "[Entering #[compound-procedure 16 gcd]\n",
    "    Args: 40\n",
    "        6]\n",
    "[Entering #[compound-procedure 16 gcd]\n",
    "    Args: 6\n",
    "        4]\n",
    "[Entering #[compound-procedure 16 gcd]\n",
    "    Args: 4\n",
    "        2]\n",
    "[Entering #[compound-procedure 16 gcd]\n",
    "    Args: 2\n",
    "        0]\n",
    ";Value: 2"
   ]
  },
  {
   "cell_type": "markdown",
   "metadata": {},
   "source": [
    "#### I.applicative-order evaluation"
   ]
  },
  {
   "cell_type": "raw",
   "metadata": {},
   "source": [
    "(gcd 206 40)\n",
    "(gcd 40 6)      ; (gcd 40 (remainder 206 40)\n",
    "(gcd 6 4)       ; (gcd 6 (remainder 40 6))\n",
    "(gcd 4 2)       ; (gcd 4 (remainder 6 4))\n",
    "(gcd 2 0)       ; (gcd 2 (remainder 2 2))\n",
    "2"
   ]
  },
  {
   "cell_type": "markdown",
   "metadata": {},
   "source": [
    "所以在应用序求值规则中，(gcd 206 40) 共有 4 次 remainder 调用."
   ]
  },
  {
   "cell_type": "markdown",
   "metadata": {},
   "source": [
    "#### II.normal-order evaluation"
   ]
  },
  {
   "cell_type": "raw",
   "metadata": {},
   "source": [
    "(gcd 206 40)\n",
    "\n",
    "(gcd 40 (remainder 206 40)) ; a = 40, b = 6, t1 = (remainder 206 40)\n",
    "\n",
    "(if (= t1 0) ...)   ; #f\n",
    "\n",
    "(gcd t1 (remainder 40 t1))  ; a = 6, b = 4, t2 = (remainder 40 t1)\n",
    "\n",
    "(if (= t2 0) ...)   ; #f\n",
    "\n",
    "(gcd t2 (remainder t1 t2))  ; a = 4, b = 2, t3 = (remainder t1 t2)\n",
    "\n",
    "(if (= t3 0) ...)   ; #f\n",
    "\n",
    "(gcd t3 (remainder t2 t3))  ; a = 2, b = 0, t4 = (remainder t2 t3)\n",
    "\n",
    "(if (= t4 0) ...)   ; #t\n",
    "\n",
    "t3\n",
    "\n",
    "(remainder t1 t2)\n",
    "\n",
    "(remainder t1\n",
    "           (remainder 40 t1))   ; t2\n",
    "\n",
    "(remainder t1\n",
    "           (remainder 40\n",
    "                      (remainder 206 40)))    ; t1\n",
    "\n",
    "(remainder t1\n",
    "           (remainder 40 6))\n",
    "\n",
    "(remainder t1 4)\n",
    "\n",
    "(remainder (remainder 206 40)   ; t1\n",
    "           4)\n",
    "\n",
    "(remainder 6 4)\n",
    "\n",
    "2"
   ]
  },
  {
   "cell_type": "markdown",
   "metadata": {},
   "source": [
    "所以在正则序求值规则中，(gcd 206 40)有比使用应用序求值规则时，多了很多次remainder调用."
   ]
  }
 ],
 "metadata": {
  "kernelspec": {
   "display_name": "Python 2",
   "language": "python",
   "name": "python2"
  },
  "language_info": {
   "codemirror_mode": {
    "name": "ipython",
    "version": 2
   },
   "file_extension": ".py",
   "mimetype": "text/x-python",
   "name": "python",
   "nbconvert_exporter": "python",
   "pygments_lexer": "ipython2",
   "version": "2.7.11"
  }
 },
 "nbformat": 4,
 "nbformat_minor": 0
}
