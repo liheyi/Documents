{
 "cells": [
  {
   "cell_type": "markdown",
   "metadata": {},
   "source": [
    "## Greatest Common Divisors"
   ]
  },
  {
   "cell_type": "markdown",
   "metadata": {},
   "source": [
    "The greatest common divisor $(\\mathrm{GCD})$ of two integers $a$ and $b$ is defined to be the largest integer that divides both $a$ and $b$ with no remainder.One way to find the $(\\mathrm{GCD})$ of two integers is to factor them and search for common factors, but there is a famous algorithm that is much more efficient."
   ]
  },
  {
   "cell_type": "markdown",
   "metadata": {},
   "source": [
    "The idea of the algorithm is based on the observation that, if $r$ is the remainder when $a$ is divided by $b$, then the common divisors of $a$ and $b$ are precisely the same as the common divisors of $b$ and $r$ . Thus, we can use the equation"
   ]
  },
  {
   "cell_type": "markdown",
   "metadata": {},
   "source": [
    "$$\\mathrm{GCD(a,b)}\\;=\\;\\mathrm{GCD(b,r)}$$"
   ]
  },
  {
   "cell_type": "markdown",
   "metadata": {},
   "source": [
    "to successively reduce the problem of computing a $\\mathrm{GCD}$ to the problem of computing the $\\mathrm{GCD}$ of smaller and smaller pairs of integers.For example,"
   ]
  },
  {
   "cell_type": "markdown",
   "metadata": {},
   "source": [
    "\\begin{aligned}\n",
    "\\mathrm{GCD(206,40)} \n",
    "& = \\mathrm{GCD(40,6)}\\\\\n",
    "& = \\mathrm{GCD(6,4)}\\\\\n",
    "& = \\mathrm{GCD(4,2)}\\\\\n",
    "& = \\mathrm{GCD(2,0)}\\\\\n",
    "& = 2\n",
    "\\end{aligned}"
   ]
  },
  {
   "cell_type": "markdown",
   "metadata": {},
   "source": [
    "reduces $\\mathrm{GCD(206,40)}$ to $\\mathrm{GCD(2,0)}$,which is 2. It is possible to show that starting with any two positive integers and performing repeated reductions will always eventually produce a pair where the second number is 0. Then the $\\mathrm{GCD}$ is the other number in the pair. This method for computing the $\\mathrm{GCD}$ is known as $Euclid’s Algorithm$."
   ]
  },
  {
   "cell_type": "markdown",
   "metadata": {},
   "source": [
    "It is easy to express Euclid’s Algorithm as a procedure:"
   ]
  },
  {
   "cell_type": "code",
   "execution_count": 1,
   "metadata": {
    "collapsed": false
   },
   "outputs": [
    {
     "name": "stdout",
     "output_type": "stream",
     "text": [
      "(define (gcd a b )\r\n",
      "  (if (= b 0) a\r\n",
      "      (gcd b (remainder a b))))\r\n"
     ]
    }
   ],
   "source": [
    "cat gcd_by_Euclid_Algorithm.scm"
   ]
  },
  {
   "cell_type": "markdown",
   "metadata": {},
   "source": [
    "#### Running Instance:"
   ]
  },
  {
   "cell_type": "raw",
   "metadata": {},
   "source": [
    "1 ]=> (load \"gcd_by_Euclid_Algorithm.scm\")\n",
    "\n",
    ";Loading \"gcd_by_Euclid_Algorithm.scm\"... done\n",
    ";Value: gcd\n",
    "\n",
    "1 ]=> (gcd 206 40)\n",
    "\n",
    ";Value: 2"
   ]
  },
  {
   "cell_type": "markdown",
   "metadata": {},
   "source": [
    "This generates an iterative process, whose number of steps grows as the logarithm of the numbers involved."
   ]
  }
 ],
 "metadata": {
  "kernelspec": {
   "display_name": "Python 2",
   "language": "python",
   "name": "python2"
  },
  "language_info": {
   "codemirror_mode": {
    "name": "ipython",
    "version": 2
   },
   "file_extension": ".py",
   "mimetype": "text/x-python",
   "name": "python",
   "nbconvert_exporter": "python",
   "pygments_lexer": "ipython2",
   "version": "2.7.11"
  }
 },
 "nbformat": 4,
 "nbformat_minor": 0
}
