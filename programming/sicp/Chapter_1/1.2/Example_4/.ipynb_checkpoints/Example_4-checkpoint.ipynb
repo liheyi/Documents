{
 "cells": [
  {
   "cell_type": "markdown",
   "metadata": {},
   "source": [
    "## Tree Recursion"
   ]
  },
  {
   "cell_type": "markdown",
   "metadata": {},
   "source": [
    "Another common pattern of computation is called $tree$ $recursion$. As an example, consider computing the sequence of $Fibonacci$ numbers, in which each number is the sum of the preceding two:"
   ]
  },
  {
   "cell_type": "markdown",
   "metadata": {},
   "source": [
    "$$0,\\;1,\\;1,\\;2,\\;3,\\;5,\\;8,\\;13,\\;21,\\;\\dots.$$"
   ]
  },
  {
   "cell_type": "markdown",
   "metadata": {},
   "source": [
    "In general, the $Fibonacci$ numbers can be defined by the rule"
   ]
  },
  {
   "cell_type": "markdown",
   "metadata": {},
   "source": [
    "\\begin{equation}\n",
    "    Fib(n)=\n",
    "   \\begin{cases}\n",
    "   0 &\\mbox{if n = 0,}\\\\\n",
    "   1 &\\mbox{if n = 1,}\\\\\n",
    "   Fib(n-1)+Fib(n-2) &\\mbox{otherwise.}\n",
    "   \\end{cases}\n",
    "  \\end{equation}"
   ]
  },
  {
   "cell_type": "markdown",
   "metadata": {},
   "source": [
    "We can immediately translate this definition into a $recursive$ procedure for computing $Fibonacci$ numbers:"
   ]
  },
  {
   "cell_type": "code",
   "execution_count": 2,
   "metadata": {
    "collapsed": false
   },
   "outputs": [
    {
     "name": "stdout",
     "output_type": "stream",
     "text": [
      "(define (fib n)\r\n",
      "  (cond ((= n 0) 0)\r\n",
      "        ((= n 1) 1)\r\n",
      "        (else (+ (fib (- n 1) (fib (- n 2)))))))\r\n"
     ]
    }
   ],
   "source": [
    "cat fib_by_recursion.scm"
   ]
  },
  {
   "cell_type": "markdown",
   "metadata": {},
   "source": [
    "#### Running Instance:"
   ]
  },
  {
   "cell_type": "raw",
   "metadata": {},
   "source": [
    "1 ]=> (load \"fib_by_recursion.scm\")\n",
    "\n",
    ";Loading \"fib_by_recursion.scm\"... done\n",
    ";Value: fib\n",
    "\n",
    "1 ]=> (fib 20)\n",
    "\n",
    ";Value: 6765"
   ]
  },
  {
   "cell_type": "markdown",
   "metadata": {},
   "source": [
    "This procedure is instructive as a prototypical tree recursion, but it is a terrible way to compute $Fibonacci$ numbers because it does so much redundant computation."
   ]
  },
  {
   "cell_type": "markdown",
   "metadata": {},
   "source": [
    "We can also formulate an iterative process for computing the $Fibonacci$ numbers. The idea is to use a pair of integers a and b, initialized to $Fib(1)\\;=\\;1$ and $Fib(0)\\;=\\;0$, and to repeatedly apply the simultaneous transformations"
   ]
  },
  {
   "cell_type": "markdown",
   "metadata": {},
   "source": [
    "$a\\;\\leftarrow\\;a+b,$  \n",
    "$b\\;\\leftarrow\\;a.$"
   ]
  },
  {
   "cell_type": "markdown",
   "metadata": {},
   "source": [
    "It is not hard to show that, after applying this transformation n times, $a$ and $b$ will be equal, respectively, to $Fib(n + 1)$ and $Fib(n)$. Thus, we can compute $Fibonacci$ numbers $iteratively$ using the procedure"
   ]
  },
  {
   "cell_type": "code",
   "execution_count": 3,
   "metadata": {
    "collapsed": false
   },
   "outputs": [
    {
     "name": "stdout",
     "output_type": "stream",
     "text": [
      "(define (fib n)\r\n",
      "  (define (fib-iter a b count)\r\n",
      "    (if (= count 0) b\r\n",
      "        (fib-iter (+ a b) a (- count 1))))\r\n",
      "  (fib-iter 1 0 n))\r\n"
     ]
    }
   ],
   "source": [
    "cat fib_by_iteration.scm"
   ]
  },
  {
   "cell_type": "markdown",
   "metadata": {},
   "source": [
    "#### Running Instance:"
   ]
  },
  {
   "cell_type": "raw",
   "metadata": {},
   "source": [
    "1 ]=> (load \"fib_by_iteration.scm\")\n",
    "\n",
    ";Loading \"fib_by_iteration.scm\"... done\n",
    ";Value: fib\n",
    "\n",
    "1 ]=> (fib 20)\n",
    "\n",
    ";Value: 6765\n",
    "\n",
    "1 ]=> (fib 100)\n",
    "\n",
    ";Value: 354224848179261915075"
   ]
  }
 ],
 "metadata": {
  "kernelspec": {
   "display_name": "Python [Root]",
   "language": "python",
   "name": "Python [Root]"
  },
  "language_info": {
   "codemirror_mode": {
    "name": "ipython",
    "version": 2
   },
   "file_extension": ".py",
   "mimetype": "text/x-python",
   "name": "python",
   "nbconvert_exporter": "python",
   "pygments_lexer": "ipython2",
   "version": "2.7.12"
  }
 },
 "nbformat": 4,
 "nbformat_minor": 0
}
