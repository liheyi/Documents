{
 "cells": [
  {
   "cell_type": "markdown",
   "metadata": {},
   "source": [
    "### Exercise 1.11: \n",
    "A function $f$ is defined by the rule that"
   ]
  },
  {
   "cell_type": "markdown",
   "metadata": {},
   "source": [
    "\\begin{equation}\n",
    "    f(n)=\n",
    "   \\begin{cases}\n",
    "   n &\\mbox{if n < 3,}\\\\\n",
    "   f(n-1)+2f(n-2)+3f(n-3) &\\mbox{if n $\\ge$ 3.}\n",
    "   \\end{cases}\n",
    "  \\end{equation}"
   ]
  },
  {
   "cell_type": "markdown",
   "metadata": {},
   "source": [
    "Write a procedure that computes $f$ by means of a $recursive$ process.   \n",
    "Write a procedure that computes $f$ by means of an $iterative$ process."
   ]
  },
  {
   "cell_type": "markdown",
   "metadata": {},
   "source": [
    "### Answer:"
   ]
  },
  {
   "cell_type": "markdown",
   "metadata": {},
   "source": [
    "#### I.To compute  $f$  by means of a  $recursive$  process."
   ]
  },
  {
   "cell_type": "code",
   "execution_count": 1,
   "metadata": {
    "collapsed": false
   },
   "outputs": [
    {
     "name": "stdout",
     "output_type": "stream",
     "text": [
      "(define (f n)\r\n",
      "  (if (< n 3) n\r\n",
      "      (+ (f (- n 1))\r\n",
      "         (* (f (- n 2)) 2)\r\n",
      "         (* (f (- n 3)) 3))))\r\n"
     ]
    }
   ],
   "source": [
    "cat f_by_recursion.scm"
   ]
  },
  {
   "cell_type": "markdown",
   "metadata": {},
   "source": [
    "#### Running Instance:"
   ]
  },
  {
   "cell_type": "raw",
   "metadata": {},
   "source": [
    "1 ]=> (load \"f_by_recursion.scm\")\n",
    "\n",
    ";Loading \"f_by_recursion.scm\"... done\n",
    ";Value: f\n",
    "\n",
    "1 ]=> (f 20)\n",
    "\n",
    ";Value: 10771211"
   ]
  },
  {
   "cell_type": "markdown",
   "metadata": {},
   "source": [
    "#### II.To compute  $f$  by means of a  $iterative$  process."
   ]
  },
  {
   "cell_type": "code",
   "execution_count": 2,
   "metadata": {
    "collapsed": false
   },
   "outputs": [
    {
     "name": "stdout",
     "output_type": "stream",
     "text": [
      "(define (f n)\r\n",
      "  (define (f_iter a b c count)\r\n",
      "    (if (= count 1) b\r\n",
      "        (f_iter (+ a (* 2 b) (* 3 c)) a b (- count 1))))\r\n",
      "  (f_iter 2 1 0 n))\r\n"
     ]
    }
   ],
   "source": [
    "cat f_by_iteration.scm"
   ]
  },
  {
   "cell_type": "markdown",
   "metadata": {},
   "source": [
    "#### Running Instance:"
   ]
  },
  {
   "cell_type": "raw",
   "metadata": {},
   "source": [
    "1 ]=> (load \"f_by_iteration.scm\")\n",
    "\n",
    ";Loading \"f_by_iteration.scm\"... done\n",
    ";Value: f\n",
    "\n",
    "1 ]=> (f 20)\n",
    "\n",
    ";Value: 10771211"
   ]
  }
 ],
 "metadata": {
  "kernelspec": {
   "display_name": "Python 2",
   "language": "python",
   "name": "python2"
  },
  "language_info": {
   "codemirror_mode": {
    "name": "ipython",
    "version": 2
   },
   "file_extension": ".py",
   "mimetype": "text/x-python",
   "name": "python",
   "nbconvert_exporter": "python",
   "pygments_lexer": "ipython2",
   "version": "2.7.11"
  }
 },
 "nbformat": 4,
 "nbformat_minor": 0
}
