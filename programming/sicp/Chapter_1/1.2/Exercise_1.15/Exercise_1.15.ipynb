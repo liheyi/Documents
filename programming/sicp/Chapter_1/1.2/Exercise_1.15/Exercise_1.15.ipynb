{
 "cells": [
  {
   "cell_type": "markdown",
   "metadata": {},
   "source": [
    "### Exercise 1.15: \n",
    "The $sine$ of an angle (specified in radians) can be computed by making use of the approximation $sinx \\approx x$ if $x$ is sufficiently small, and the trigonometric identity"
   ]
  },
  {
   "cell_type": "markdown",
   "metadata": {},
   "source": [
    "$$sinx=3sin\\frac{x}{3}-4sin^3\\frac{x}{3}$$"
   ]
  },
  {
   "cell_type": "markdown",
   "metadata": {},
   "source": [
    "to reduce the size of the argument of $sin$. (For purposes of this exercise an angle is considered “sufficiently small” if its magnitude is not greater than 0.1 radians.) These ideas are incorporated in the following procedures:"
   ]
  },
  {
   "cell_type": "raw",
   "metadata": {},
   "source": [
    "(define (cube x) (* x x x))\n",
    "(define (p x) (- (* 3 x) (* 4 (cube x))))\n",
    "(define (sine angle)\n",
    "  (if (not (> (abs angle) 0.1)) angle\n",
    "`    (p (sine (/ angle 3.0)))))"
   ]
  },
  {
   "cell_type": "markdown",
   "metadata": {},
   "source": [
    "a. How many times is the procedure $p$ applied when (sine 12.15) is evaluated?"
   ]
  },
  {
   "cell_type": "markdown",
   "metadata": {},
   "source": [
    "b. What is the order of growth in space and number of steps (as a function of $a$) used by the process generated\n",
    "by the $sine$ procedure when (sine a) is evaluated?"
   ]
  },
  {
   "cell_type": "markdown",
   "metadata": {},
   "source": [
    "### 解答："
   ]
  },
  {
   "cell_type": "markdown",
   "metadata": {},
   "source": [
    "a.根据上述sine过程计算(sine 12.15):"
   ]
  },
  {
   "cell_type": "markdown",
   "metadata": {},
   "source": [
    "#### Running Instance:"
   ]
  },
  {
   "cell_type": "raw",
   "metadata": {},
   "source": [
    "1 ]=> (load \"sine_by_recursion.scm\")\n",
    "\n",
    ";Loading \"sine_by_recursion.scm\"... done\n",
    ";Value: sine\n",
    "\n",
    "1 ]=> (trace-entry sine)\n",
    "\n",
    ";Unspecified return value\n",
    "\n",
    "1 ]=> (trace-entry p)\n",
    "\n",
    ";Unspecified return value\n",
    "\n",
    "1 ]=> (sine 12.15)\n",
    "\n",
    "[Entering #[compound-procedure 13 sine]\n",
    "    Args: 12.15]\n",
    "[Entering #[compound-procedure 13 sine]\n",
    "    Args: 4.05]\n",
    "[Entering #[compound-procedure 13 sine]\n",
    "    Args: 1.3499999999999999]\n",
    "[Entering #[compound-procedure 13 sine]\n",
    "    Args: .44999999999999996]\n",
    "[Entering #[compound-procedure 13 sine]\n",
    "    Args: .15]\n",
    "[Entering #[compound-procedure 13 sine]\n",
    "    Args: 4.9999999999999996e-2]\n",
    "[Entering #[compound-procedure 14 p]\n",
    "    Args: 4.9999999999999996e-2]\n",
    "[Entering #[compound-procedure 14 p]\n",
    "    Args: .1495]\n",
    "[Entering #[compound-procedure 14 p]\n",
    "    Args: .4351345505]\n",
    "[Entering #[compound-procedure 14 p]\n",
    "    Args: .9758465331678772]\n",
    "[Entering #[compound-procedure 14 p]\n",
    "    Args: -.7895631144708228]\n",
    ";Value: -.39980345741334"
   ]
  },
  {
   "cell_type": "markdown",
   "metadata": {},
   "source": [
    "The procedure $p$ applied when (sine 12.15) is evaluated is 5 times."
   ]
  },
  {
   "cell_type": "markdown",
   "metadata": {},
   "source": [
    "b.在求值(sine a)的时候，每次a都被除以3.0，而sine是一个时间和空间复杂度都是$\\Theta(loga)$的递归过程；那么每次当a翻倍(准确地说是乘以因子3)时，$p$的运行次数就会增加一次,例如:"
   ]
  },
  {
   "cell_type": "markdown",
   "metadata": {},
   "source": [
    "计算(sine 100)时，$p$执行了7次"
   ]
  },
  {
   "cell_type": "raw",
   "metadata": {},
   "source": [
    "1 ]=> (sine 100)\n",
    "\n",
    "[Entering #[compound-procedure 13 p]\n",
    "    Args: 4.5724737082761785e-2]\n",
    "[Entering #[compound-procedure 13 p]\n",
    "    Args: .13679181498284637]\n",
    "[Entering #[compound-procedure 13 p]\n",
    "    Args: .4001368508270681]\n",
    "[Entering #[compound-procedure 13 p]\n",
    "    Args: .9441477089878672]\n",
    "[Entering #[compound-procedure 13 p]\n",
    "    Args: -.5340662017623155]\n",
    "[Entering #[compound-procedure 13 p]\n",
    "    Args: -.9928788272447971]\n",
    "[Entering #[compound-procedure 13 p]\n",
    "    Args: .9365165339300328]\n",
    ";Value: -.4759872192603569"
   ]
  },
  {
   "cell_type": "markdown",
   "metadata": {},
   "source": [
    "计算(sine 300)时，$p$执行了8次"
   ]
  },
  {
   "cell_type": "raw",
   "metadata": {},
   "source": [
    "1 ]=> (sine 300)\n",
    "\n",
    "[Entering #[compound-procedure 13 p]\n",
    "    Args: 4.5724737082761785e-2]\n",
    "[Entering #[compound-procedure 13 p]\n",
    "    Args: .13679181498284637]\n",
    "[Entering #[compound-procedure 13 p]\n",
    "    Args: .4001368508270681]\n",
    "[Entering #[compound-procedure 13 p]\n",
    "    Args: .9441477089878672]\n",
    "[Entering #[compound-procedure 13 p]\n",
    "    Args: -.5340662017623155]\n",
    "[Entering #[compound-procedure 13 p]\n",
    "    Args: -.9928788272447971]\n",
    "[Entering #[compound-procedure 13 p]\n",
    "    Args: .9365165339300328]\n",
    "[Entering #[compound-procedure 13 p]\n",
    "    Args: -.4759872192603569]\n",
    ";Value: -.9965957025544238"
   ]
  },
  {
   "cell_type": "markdown",
   "metadata": {},
   "source": [
    "计算(sine 900)时，$p$执行了9次"
   ]
  },
  {
   "cell_type": "raw",
   "metadata": {},
   "source": [
    "1 ]=> (sine 900)\n",
    "\n",
    "[Entering #[compound-procedure 13 p]\n",
    "    Args: 4.5724737082761785e-2]\n",
    "[Entering #[compound-procedure 13 p]\n",
    "    Args: .13679181498284637]\n",
    "[Entering #[compound-procedure 13 p]\n",
    "    Args: .4001368508270681]\n",
    "[Entering #[compound-procedure 13 p]\n",
    "    Args: .9441477089878672]\n",
    "[Entering #[compound-procedure 13 p]\n",
    "    Args: -.5340662017623155]\n",
    "[Entering #[compound-procedure 13 p]\n",
    "    Args: -.9928788272447971]\n",
    "[Entering #[compound-procedure 13 p]\n",
    "    Args: .9365165339300328]\n",
    "[Entering #[compound-procedure 13 p]\n",
    "    Args: -.4759872192603569]\n",
    "[Entering #[compound-procedure 13 p]\n",
    "    Args: -.9965957025544238]\n",
    ";Value: .9695002360700937"
   ]
  },
  {
   "cell_type": "markdown",
   "metadata": {},
   "source": [
    "计算(sine 2700)时，$p$执行了10次"
   ]
  },
  {
   "cell_type": "raw",
   "metadata": {},
   "source": [
    "1 ]=> (sine 2700)\n",
    "\n",
    "[Entering #[compound-procedure 13 p]\n",
    "    Args: 4.5724737082761785e-2]\n",
    "[Entering #[compound-procedure 13 p]\n",
    "    Args: .13679181498284637]\n",
    "[Entering #[compound-procedure 13 p]\n",
    "    Args: .4001368508270681]\n",
    "[Entering #[compound-procedure 13 p]\n",
    "    Args: .9441477089878672]\n",
    "[Entering #[compound-procedure 13 p]\n",
    "    Args: -.5340662017623155]\n",
    "[Entering #[compound-procedure 13 p]\n",
    "    Args: -.9928788272447971]\n",
    "[Entering #[compound-procedure 13 p]\n",
    "    Args: .9365165339300328]\n",
    "[Entering #[compound-procedure 13 p]\n",
    "    Args: -.4759872192603569]\n",
    "[Entering #[compound-procedure 13 p]\n",
    "    Args: -.9965957025544238]\n",
    "[Entering #[compound-procedure 13 p]\n",
    "    Args: .9695002360700937]\n",
    ";Value: -.7365514639634339"
   ]
  }
 ],
 "metadata": {
  "kernelspec": {
   "display_name": "Python 2",
   "language": "python",
   "name": "python2"
  },
  "language_info": {
   "codemirror_mode": {
    "name": "ipython",
    "version": 2
   },
   "file_extension": ".py",
   "mimetype": "text/x-python",
   "name": "python",
   "nbconvert_exporter": "python",
   "pygments_lexer": "ipython2",
   "version": "2.7.11"
  }
 },
 "nbformat": 4,
 "nbformat_minor": 0
}
