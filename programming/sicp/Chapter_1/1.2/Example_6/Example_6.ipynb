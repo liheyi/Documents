{
 "cells": [
  {
   "cell_type": "markdown",
   "metadata": {},
   "source": [
    "## Exponentiation"
   ]
  },
  {
   "cell_type": "markdown",
   "metadata": {},
   "source": [
    "Consider the problem of computing the $exponential$ of a given number. We would like a procedure that takes as arguments a base $b$ and a positive integer exponent $n$ and computes $b^n$. One way to do this is via the\n",
    "$recursive$ definition"
   ]
  },
  {
   "cell_type": "markdown",
   "metadata": {},
   "source": [
    "\\begin{aligned}\n",
    "& b^n=b \\cdot b^{n-1},\\\\\n",
    "&b^0=1,\n",
    "\\end{aligned}"
   ]
  },
  {
   "cell_type": "markdown",
   "metadata": {},
   "source": [
    "which translates readily into the procedure"
   ]
  },
  {
   "cell_type": "code",
   "execution_count": 1,
   "metadata": {
    "collapsed": false
   },
   "outputs": [
    {
     "name": "stdout",
     "output_type": "stream",
     "text": [
      "(define (expt b n)\r\n",
      "  (if (= n 0) 1\r\n",
      "      (* b (expt b (- n 1)))))\r\n"
     ]
    }
   ],
   "source": [
    "cat expt_by_recursion.scm"
   ]
  },
  {
   "cell_type": "markdown",
   "metadata": {},
   "source": [
    "#### Running Instance:"
   ]
  },
  {
   "cell_type": "raw",
   "metadata": {},
   "source": [
    "1 ]=> (load \"expt_by_recursion.scm\")\n",
    "\n",
    ";Loading \"expt_by_recursion.scm\"... done\n",
    ";Value: expt\n",
    "\n",
    "1 ]=> (expt 2 64)\n",
    "\n",
    ";Value: 18446744073709551616"
   ]
  },
  {
   "cell_type": "markdown",
   "metadata": {},
   "source": [
    "This is a $linear$ $recursive$ process, which requires $\\Theta(n)$ steps and $\\Theta(n)$ space. Just as with factorial, we can readily formulate an equivalent $linear$ $iteration$:"
   ]
  },
  {
   "cell_type": "code",
   "execution_count": 3,
   "metadata": {
    "collapsed": false
   },
   "outputs": [
    {
     "name": "stdout",
     "output_type": "stream",
     "text": [
      "(define (expt b n)\r\n",
      "  (define (expt-iter b product counter )\r\n",
      "    (if (= counter 0) product\r\n",
      "        (expt-iter b (* b product) (- counter 1))))\r\n",
      "  (expt-iter b 1 n))\r\n"
     ]
    }
   ],
   "source": [
    "cat expt_by_iteration.scm"
   ]
  },
  {
   "cell_type": "markdown",
   "metadata": {},
   "source": [
    "#### Running Instance:"
   ]
  },
  {
   "cell_type": "raw",
   "metadata": {},
   "source": [
    "1 ]=> (load \"expt_by_iteration.scm\")\n",
    "\n",
    ";Loading \"expt_by_iteration.scm\"... done\n",
    ";Value: expt\n",
    "\n",
    "1 ]=> (expt 2 64)\n",
    "\n",
    ";Value: 18446744073709551616"
   ]
  },
  {
   "cell_type": "markdown",
   "metadata": {},
   "source": [
    "This version requires $\\Theta(n)$ steps and $\\Theta(1)$ space."
   ]
  },
  {
   "cell_type": "markdown",
   "metadata": {},
   "source": [
    "We can compute $exponentials$ in fewer steps by using successive squaring.   \n",
    "For instance, rather than computing $b^8$ as"
   ]
  },
  {
   "cell_type": "markdown",
   "metadata": {},
   "source": [
    "$$b\\cdot(b\\cdot(b\\cdot(b\\cdot(b\\cdot(b\\cdot(b\\cdot b)))))),$$"
   ]
  },
  {
   "cell_type": "markdown",
   "metadata": {},
   "source": [
    "we can compute it using three multiplications:"
   ]
  },
  {
   "cell_type": "markdown",
   "metadata": {},
   "source": [
    "\\begin{aligned}\n",
    "& b^2=b \\cdot b,\\\\\n",
    "& b^4=b^2 \\cdot b^2,\\\\\n",
    "& b^8=b^4 \\cdot b^4.\n",
    "\\end{aligned}"
   ]
  },
  {
   "cell_type": "markdown",
   "metadata": {},
   "source": [
    "This method works fine for exponents that are powers of 2.   \n",
    "We can also take advantage of successive squaring in computing exponentials in general if we use the rule"
   ]
  },
  {
   "cell_type": "markdown",
   "metadata": {},
   "source": [
    "\\begin{alignat}{2}\n",
    "& b^n=(b^{n/2})^2 &\\quad &\\mbox{if n is even.}\\\\\n",
    "& b^n=b \\cdot b^{n-1} &\\quad &\\mbox{if n is odd.}\n",
    "\\end{alignat}"
   ]
  },
  {
   "cell_type": "markdown",
   "metadata": {},
   "source": [
    "We can express this method as a $recursive$ procedure:"
   ]
  },
  {
   "cell_type": "code",
   "execution_count": 4,
   "metadata": {
    "collapsed": false
   },
   "outputs": [
    {
     "name": "stdout",
     "output_type": "stream",
     "text": [
      "(define (fast-expt b n)\r\n",
      "  (cond ((= n 0) 1)\r\n",
      "        ((even? n) (square (fast-expt b (/ n 2))))\r\n",
      "        (else (* b (fast-expt b (- n 1))))))\r\n"
     ]
    }
   ],
   "source": [
    "cat fast_expt_by_recursion.scm"
   ]
  },
  {
   "cell_type": "markdown",
   "metadata": {},
   "source": [
    "#### Running Instance:"
   ]
  },
  {
   "cell_type": "raw",
   "metadata": {},
   "source": [
    "1 ]=> (load \"fast_expt_by_recursion.scm\")\n",
    "\n",
    ";Loading \"fast_expt_by_recursion.scm\"... done\n",
    ";Value: fast-expt\n",
    "\n",
    "1 ]=> (fast-expt 2 64)\n",
    "\n",
    ";Value: 18446744073709551616\n",
    "\n",
    "1 ]=> (fast-expt 2 128)\n",
    "\n",
    ";Value: 340282366920938463463374607431768211456"
   ]
  },
  {
   "cell_type": "markdown",
   "metadata": {},
   "source": [
    "The process evolved by $fast$-$expt$ grows logarithmically with $n$ in both space and number of steps."
   ]
  },
  {
   "cell_type": "markdown",
   "metadata": {},
   "source": [
    "#### Supplement:"
   ]
  },
  {
   "cell_type": "markdown",
   "metadata": {},
   "source": [
    "We can observe how many times is the $fast$-$expt$ procedure applied when ($fast$-$expt$ $3$ $2^n$) is evaluated:"
   ]
  },
  {
   "cell_type": "markdown",
   "metadata": {},
   "source": [
    "To evaluate (fast-expt 3 2),here $2=2^1$,  \n",
    "The $fast$-$expt$ procedure is applied 3 times."
   ]
  },
  {
   "cell_type": "raw",
   "metadata": {},
   "source": [
    "1 ]=> (fast-expt 3 2)\n",
    "\n",
    "[Entering #[compound-procedure 13 fast-expt]\n",
    "    Args: 3\n",
    "          2]\n",
    "[Entering #[compound-procedure 13 fast-expt]\n",
    "    Args: 3\n",
    "          1]\n",
    "[Entering #[compound-procedure 13 fast-expt]\n",
    "    Args: 3\n",
    "          0]\n",
    ";Value: 9"
   ]
  },
  {
   "cell_type": "markdown",
   "metadata": {},
   "source": [
    "To evaluate (fast-expt 3 4),here $4=2^2$.  \n",
    "The $fast$-$expt$ procedure is applied 4 times."
   ]
  },
  {
   "cell_type": "raw",
   "metadata": {},
   "source": [
    "1 ]=> (fast-expt 3 4)\n",
    "\n",
    "[Entering #[compound-procedure 13 fast-expt]\n",
    "    Args: 3\n",
    "          4]\n",
    "[Entering #[compound-procedure 13 fast-expt]\n",
    "    Args: 3\n",
    "          2]\n",
    "[Entering #[compound-procedure 13 fast-expt]\n",
    "    Args: 3\n",
    "          1]\n",
    "[Entering #[compound-procedure 13 fast-expt]\n",
    "    Args: 3\n",
    "          0]\n",
    ";Value: 81"
   ]
  },
  {
   "cell_type": "markdown",
   "metadata": {},
   "source": [
    "To evaluate (fast-expt 3 8),here $8=2^3$.  \n",
    "The $fast$-$expt$ procedure is applied 5 times."
   ]
  },
  {
   "cell_type": "raw",
   "metadata": {},
   "source": [
    "1 ]=> (fast-expt 3 8)\n",
    "\n",
    "[Entering #[compound-procedure 13 fast-expt]\n",
    "    Args: 3\n",
    "          8]\n",
    "[Entering #[compound-procedure 13 fast-expt]\n",
    "    Args: 3\n",
    "          4]\n",
    "[Entering #[compound-procedure 13 fast-expt]\n",
    "    Args: 3\n",
    "          2]\n",
    "[Entering #[compound-procedure 13 fast-expt]\n",
    "    Args: 3\n",
    "          1]\n",
    "[Entering #[compound-procedure 13 fast-expt]\n",
    "    Args: 3\n",
    "          0]\n",
    ";Value: 6561"
   ]
  },
  {
   "cell_type": "markdown",
   "metadata": {},
   "source": [
    "To evaluate (fast-expt 3 16),here $16=2^4$.  \n",
    "The $fast$-$expt$ procedure is applied 6 times."
   ]
  },
  {
   "cell_type": "raw",
   "metadata": {},
   "source": [
    "1 ]=> (fast-expt 3 16)\n",
    "\n",
    "[Entering #[compound-procedure 13 fast-expt]\n",
    "    Args: 3\n",
    "          16]\n",
    "[Entering #[compound-procedure 13 fast-expt]\n",
    "    Args: 3\n",
    "          8]\n",
    "[Entering #[compound-procedure 13 fast-expt]\n",
    "    Args: 3\n",
    "          4]\n",
    "[Entering #[compound-procedure 13 fast-expt]\n",
    "    Args: 3\n",
    "          2]\n",
    "[Entering #[compound-procedure 13 fast-expt]\n",
    "    Args: 3\n",
    "          1]\n",
    "[Entering #[compound-procedure 13 fast-expt]\n",
    "    Args: 3\n",
    "          0]\n",
    ";Value: 43046721"
   ]
  }
 ],
 "metadata": {
  "kernelspec": {
   "display_name": "Python 2",
   "language": "python",
   "name": "python2"
  },
  "language_info": {
   "codemirror_mode": {
    "name": "ipython",
    "version": 2
   },
   "file_extension": ".py",
   "mimetype": "text/x-python",
   "name": "python",
   "nbconvert_exporter": "python",
   "pygments_lexer": "ipython2",
   "version": "2.7.11"
  }
 },
 "nbformat": 4,
 "nbformat_minor": 0
}
