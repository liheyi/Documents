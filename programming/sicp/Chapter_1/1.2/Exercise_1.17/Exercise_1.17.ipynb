{
 "cells": [
  {
   "cell_type": "markdown",
   "metadata": {},
   "source": [
    "### Exercise 1.17: \n",
    "The $exponentiation$ algorithms in this section are based on performing exponentiation by means of repeated multiplication. In a similar way, one can perform integer multiplication by means of repeated addition. The following multiplication procedure (in which it is assumed that our language can only add, $not$ multiply) is analogous to the expt procedure:"
   ]
  },
  {
   "cell_type": "raw",
   "metadata": {},
   "source": [
    "(define (* a b)\n",
    "  (if (= b 0) 0 (+ a (* a (- b 1)))))"
   ]
  },
  {
   "cell_type": "markdown",
   "metadata": {},
   "source": [
    "This algorithm takes a number of steps that is linear in b.Now suppose we include, together with $addition$, operations $double$, which doubles an integer, and $halve$, which divides an (even) integer by 2. Using these, design a multiplication procedure analogous to $fast$-$expt$ that uses a logarithmic number of steps."
   ]
  },
  {
   "cell_type": "markdown",
   "metadata": {},
   "source": [
    "### Answer:"
   ]
  },
  {
   "cell_type": "code",
   "execution_count": 1,
   "metadata": {
    "collapsed": false
   },
   "outputs": [
    {
     "name": "stdout",
     "output_type": "stream",
     "text": [
      "(define (double n) (* n 2))\r\n",
      "(define (halve n) (/ n 2))\r\n",
      "(define (fast-multi a b)\r\n",
      "  (cond ((= b 0) 0)\r\n",
      "        ((even? b) (double (fast-multi a (halve b))))\r\n",
      "        (else (+ a (fast-multi a (- b 1))))))\r\n"
     ]
    }
   ],
   "source": [
    "cat multi_by_recursion.scm"
   ]
  },
  {
   "cell_type": "markdown",
   "metadata": {},
   "source": [
    "#### Running Instance:"
   ]
  },
  {
   "cell_type": "raw",
   "metadata": {},
   "source": [
    "1 ]=> (load \"multi_by_recursion.scm\")\n",
    "\n",
    ";Loading \"multi_by_recursion.scm\"... done\n",
    ";Value: fast-multi\n",
    "\n",
    "1 ]=> (fast-multi 17 33)\n",
    "\n",
    ";Value: 561"
   ]
  }
 ],
 "metadata": {
  "kernelspec": {
   "display_name": "Python 2",
   "language": "python",
   "name": "python2"
  },
  "language_info": {
   "codemirror_mode": {
    "name": "ipython",
    "version": 2
   },
   "file_extension": ".py",
   "mimetype": "text/x-python",
   "name": "python",
   "nbconvert_exporter": "python",
   "pygments_lexer": "ipython2",
   "version": "2.7.11"
  }
 },
 "nbformat": 4,
 "nbformat_minor": 0
}
