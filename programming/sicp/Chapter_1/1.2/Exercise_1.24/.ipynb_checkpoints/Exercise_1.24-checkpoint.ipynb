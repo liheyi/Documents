{
 "cells": [
  {
   "cell_type": "markdown",
   "metadata": {},
   "source": [
    "### Exercise 1.24: \n",
    "Modify the $timed$-$prime$-$test$ procedure of Exercise 1.22 to use $fast$-$prime?$ (the Fermat method), and test each of the 12 primes you found in that exercise. Since the Fermat test has $\\Theta(logn)$ growth, how would you expect the time to test primes near 1,000,000 to compare with the time needed to test primes near 1000? Do your data bear this out? Can you explain any discrepancy you find?"
   ]
  },
  {
   "cell_type": "markdown",
   "metadata": {},
   "source": [
    "### Answer:"
   ]
  },
  {
   "cell_type": "markdown",
   "metadata": {},
   "source": [
    "Replace testing for primality with $fast-prime?(the Fermat test in Example_8) in Exercise_1.23:"
   ]
  },
  {
   "cell_type": "code",
   "execution_count": 4,
   "metadata": {
    "collapsed": false
   },
   "outputs": [
    {
     "name": "stdout",
     "output_type": "stream",
     "text": [
      "(define (search-for-primes n)\r\n",
      "  (define (search-consecutive-prime n count)\r\n",
      "    (define (next-odd n)\r\n",
      "      (define (odd n) (= (remainder n 2) 1))\r\n",
      "      (if (odd n) (+ n 2) (+ n 1)))\r\n",
      "    (define (fast-prime n times)\r\n",
      "      (define (expmod base expo m)\r\n",
      "        (define (even n) (= (remainder n 2) 0))\r\n",
      "        (cond ((= expo 0) 1)\r\n",
      "              ((even expo) (remainder (square (expmod base (/ expo 2) m)) m))\r\n",
      "              (else (remainder (* base (expmod base (- expo 1) m)) m))))\r\n",
      "      (define (fermat-test n)\r\n",
      "        (define (try-it a) (= (expmod a n n) a))\r\n",
      "        (try-it (+ 1 (random (- n 1)))))\r\n",
      "      (cond ((= times 0) true)\r\n",
      "            ((fermat-test n) (fast-prime n (- times 1)))\r\n",
      "            (else false)))\r\n",
      "    (cond ((= count 0) (display \"are primes.\"))\r\n",
      "          ((fast-prime n 1000)\r\n",
      "           (display n)\r\n",
      "           (newline)\r\n",
      "           (search-consecutive-prime (next-odd n) (- count 1)))\r\n",
      "          (else (search-consecutive-prime (next-odd n) count))))\r\n",
      "  (let ((start-time (real-time-clock)))\r\n",
      "        (search-consecutive-prime n 3)\r\n",
      "       (- (real-time-clock) start-time)))\r\n"
     ]
    }
   ],
   "source": [
    "cat search_for_primes.scm"
   ]
  },
  {
   "cell_type": "markdown",
   "metadata": {},
   "source": [
    "#### Running Instance:"
   ]
  },
  {
   "cell_type": "raw",
   "metadata": {},
   "source": [
    "1 ]=> (load \"search_for_primes.scm\")\n",
    "\n",
    ";Loading \"search_for_primes.scm\"... done\n",
    ";Value: search-for-primes\n",
    "\n",
    "1 ]=> (search-for-primes 1000)\n",
    "1009\n",
    "1013\n",
    "1019\n",
    "are primes.\n",
    ";Value: 94\n",
    "\n",
    "1 ]=> (search-for-primes 10000)\n",
    "10007\n",
    "10009\n",
    "10037\n",
    "are primes.\n",
    ";Value: 106\n",
    "\n",
    "1 ]=> (search-for-primes 100000)\n",
    "100003\n",
    "100019\n",
    "100043\n",
    "are primes.\n",
    ";Value: 135\n",
    "\n",
    "1 ]=> (search-for-primes 1000000)\n",
    "1000003\n",
    "1000033\n",
    "1000037\n",
    "are primes.\n",
    ";Value: 149"
   ]
  }
 ],
 "metadata": {
  "kernelspec": {
   "display_name": "Python 2",
   "language": "python",
   "name": "python2"
  },
  "language_info": {
   "codemirror_mode": {
    "name": "ipython",
    "version": 2
   },
   "file_extension": ".py",
   "mimetype": "text/x-python",
   "name": "python",
   "nbconvert_exporter": "python",
   "pygments_lexer": "ipython2",
   "version": "2.7.11"
  }
 },
 "nbformat": 4,
 "nbformat_minor": 0
}
