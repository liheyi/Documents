{
 "cells": [
  {
   "cell_type": "markdown",
   "metadata": {},
   "source": [
    "### Exercise 1.12: \n",
    "The following pattern of numbers is called $Pascal’s$ $triangle$."
   ]
  },
  {
   "cell_type": "raw",
   "metadata": {},
   "source": [
    "                1\n",
    "              1    1\n",
    "            1    2    1\n",
    "          1    3    3    1\n",
    "        1    4    6    4    1\n",
    "              .  .  ."
   ]
  },
  {
   "cell_type": "markdown",
   "metadata": {},
   "source": [
    "The numbers at the edge of the triangle are all 1, and each number inside the triangle is the sum of the two numbers above it.Write a procedure that computes elements of $Pascal’s$ $triangle$ by means of a $recursive$ process."
   ]
  },
  {
   "cell_type": "markdown",
   "metadata": {},
   "source": [
    "### Answer:"
   ]
  },
  {
   "cell_type": "markdown",
   "metadata": {},
   "source": [
    "#### I.To comput elements of $Pascal’s$ $triangle$ by means of a $recursive$ process."
   ]
  },
  {
   "cell_type": "code",
   "execution_count": 1,
   "metadata": {
    "collapsed": false
   },
   "outputs": [
    {
     "name": "stdout",
     "output_type": "stream",
     "text": [
      "(define (pascal row col)\r\n",
      "  (cond ((< row col)\r\n",
      "         (error \"unvalid colum value\"))\r\n",
      "        ((or (= col 0) (= row col)) 1)\r\n",
      "        (else (+ (pascal (- row 1) (- col 1))\r\n",
      "                 (pascal (- row 1) col)))))\r\n"
     ]
    }
   ],
   "source": [
    "cat pascal_by_recursion.scm"
   ]
  },
  {
   "cell_type": "markdown",
   "metadata": {},
   "source": [
    "#### Running Instance:"
   ]
  },
  {
   "cell_type": "raw",
   "metadata": {},
   "source": [
    "1 ]=> (load \"pascal_by_recursion.scm\")\n",
    "\n",
    ";Loading \"pascal_by_recursion.scm\"... done\n",
    ";Value: pascal\n",
    "\n",
    "1 ]=> (pascal 20 10)\n",
    "\n",
    ";Value: 184756"
   ]
  },
  {
   "cell_type": "markdown",
   "metadata": {},
   "source": [
    "#### II.To comput elements of $Pascal’s$ $triangle$ by means of a $iterative$ process."
   ]
  },
  {
   "cell_type": "code",
   "execution_count": 3,
   "metadata": {
    "collapsed": false
   },
   "outputs": [
    {
     "name": "stdout",
     "output_type": "stream",
     "text": [
      "(load \"../Example_3/factorial_by_iteration.scm\")\r\n",
      "\r\n",
      "(define (pascal row col)\r\n",
      "  (cond ((< row col)\r\n",
      "       (error \"unvalid colum value.\"))\r\n",
      "        (else (/ (factorial row)\r\n",
      "    \t         (* (factorial col) (factorial (- row col)))))))\r\n"
     ]
    }
   ],
   "source": [
    "cat pascal_by_iteration.scm"
   ]
  },
  {
   "cell_type": "markdown",
   "metadata": {},
   "source": [
    "#### Running Instance:"
   ]
  },
  {
   "cell_type": "raw",
   "metadata": {},
   "source": [
    "1 ]=> (load \"pascal_by_iteration.scm\")\n",
    "\n",
    ";Loading \"pascal_by_iteration.scm\"...\n",
    ";  Loading \"../Example_3/factorial_by_iteration.scm\"... done\n",
    ";... done\n",
    ";Value: pascal\n",
    "\n",
    "1 ]=> (pascal 20 10)\n",
    "\n",
    ";Value: 184756"
   ]
  }
 ],
 "metadata": {
  "kernelspec": {
   "display_name": "Python [Root]",
   "language": "python",
   "name": "Python [Root]"
  },
  "language_info": {
   "codemirror_mode": {
    "name": "ipython",
    "version": 2
   },
   "file_extension": ".py",
   "mimetype": "text/x-python",
   "name": "python",
   "nbconvert_exporter": "python",
   "pygments_lexer": "ipython2",
   "version": "2.7.12"
  }
 },
 "nbformat": 4,
 "nbformat_minor": 0
}
