{
 "cells": [
  {
   "cell_type": "markdown",
   "metadata": {},
   "source": [
    "### Exercise 1.21: \n",
    "Use the $smallest$-$divisor$ procedure to find the smallest divisor of each of the following numbers: 199, 1999, 19999."
   ]
  },
  {
   "cell_type": "markdown",
   "metadata": {},
   "source": [
    "### Answer:"
   ]
  },
  {
   "cell_type": "code",
   "execution_count": 1,
   "metadata": {
    "collapsed": false
   },
   "outputs": [
    {
     "name": "stdout",
     "output_type": "stream",
     "text": [
      "(define (smallest-divisor n) \r\n",
      "  (define (find-divisor n test-divisor)\r\n",
      "  (define (divides? a b) (= (remainder b a) 0))\r\n",
      "  (cond ((> (square test-divisor) n) n)\r\n",
      "        ((divides? test-divisor n) test-divisor)\r\n",
      "        (else (find-divisor n (+ test-divisor 1)))))\r\n",
      "  (find-divisor n 2))\r\n"
     ]
    }
   ],
   "source": [
    "cat smallest_divisor.scm"
   ]
  },
  {
   "cell_type": "markdown",
   "metadata": {},
   "source": [
    "#### Running Instance:"
   ]
  },
  {
   "cell_type": "raw",
   "metadata": {},
   "source": [
    "1 ]=> (load \"smallest_divisor.scm\")\n",
    "\n",
    ";Loading \"smallest_divisor.scm\"... done\n",
    ";Value: smallest-divisor\n",
    "\n",
    "1 ]=> (smallest-divisor 199)\n",
    "\n",
    ";Value: 199\n",
    "\n",
    "1 ]=> (smallest-divisor 1999)\n",
    "\n",
    ";Value: 1999\n",
    "\n",
    "1 ]=> (smallest-divisor 19999)\n",
    "\n",
    ";Value: 7"
   ]
  }
 ],
 "metadata": {
  "kernelspec": {
   "display_name": "Python 2",
   "language": "python",
   "name": "python2"
  },
  "language_info": {
   "codemirror_mode": {
    "name": "ipython",
    "version": 2
   },
   "file_extension": ".py",
   "mimetype": "text/x-python",
   "name": "python",
   "nbconvert_exporter": "python",
   "pygments_lexer": "ipython2",
   "version": "2.7.11"
  }
 },
 "nbformat": 4,
 "nbformat_minor": 0
}
