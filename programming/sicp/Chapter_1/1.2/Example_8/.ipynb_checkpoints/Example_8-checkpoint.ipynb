{
 "cells": [
  {
   "cell_type": "markdown",
   "metadata": {},
   "source": [
    "## Testing for Primality"
   ]
  },
  {
   "cell_type": "markdown",
   "metadata": {},
   "source": [
    "### I.Searching for divisors"
   ]
  },
  {
   "cell_type": "markdown",
   "metadata": {},
   "source": [
    "One way to test if a number is prime is to find the number’s divisors. The following program finds the smallest integral divisor (greater than 1) of a given number $n$. It does this in a straightforward way, by testing $n$ for divisibility by successive integers starting with 2."
   ]
  },
  {
   "cell_type": "raw",
   "metadata": {},
   "source": [
    "(define (smallest-divisor n) (find-divisor n 2))\n",
    "(define (find-divisor n test-divisor)\n",
    "  (cond ((> (square test-divisor) n) n)\n",
    "      ((divides? test-divisor n) test-divisor)\n",
    "      (else (find-divisor n (+ test-divisor 1)))))\n",
    "(define (divides? a b) (= (remainder b a) 0))"
   ]
  },
  {
   "cell_type": "markdown",
   "metadata": {},
   "source": [
    "We can test whether a number is prime as follows: $n$ is prime if and only if $n$ is its own smallest divisor."
   ]
  },
  {
   "cell_type": "raw",
   "metadata": {},
   "source": [
    "(define (prime? n) (= n (smallest-divisor n)))"
   ]
  },
  {
   "cell_type": "markdown",
   "metadata": {},
   "source": [
    "The end test for $find$-$divisor$ is based on the fact that if n is not prime it must have a divisor less than or equal to $\\sqrt{n}$.This means that the algorithm need only test divisors between 1 and $\\sqrt{n}$.Consequently, the number of steps required to identify n as prime will have order of growth $\\Theta(\\sqrt{n})$."
   ]
  },
  {
   "cell_type": "markdown",
   "metadata": {},
   "source": [
    "#### Running Instance:"
   ]
  },
  {
   "cell_type": "code",
   "execution_count": 1,
   "metadata": {
    "collapsed": false
   },
   "outputs": [
    {
     "name": "stdout",
     "output_type": "stream",
     "text": [
      "(define (smallest-divisor n) \r\n",
      "  (define (find-divisor n test-divisor)\r\n",
      "    (define (divides? a b) (= (remainder b a) 0))\r\n",
      "    (cond ((> (square test-divisor) n) n)\r\n",
      "          ((divides? test-divisor n) test-divisor)\r\n",
      "          (else (find-divisor n (+ test-divisor 1)))))\r\n",
      "  (find-divisor n 2))\r\n",
      "\r\n",
      "(define (prime? n) (= n (smallest-divisor n)))\r\n"
     ]
    }
   ],
   "source": [
    "cat prime_by_search_divisor.scm"
   ]
  },
  {
   "cell_type": "raw",
   "metadata": {},
   "source": [
    "1 ]=> (load \"prime_by_search_divisor.scm\")\n",
    "\n",
    ";Loading \"prime_by_search_divisor.scm\"... done\n",
    ";Value: prime?\n",
    "\n",
    "1 ]=> (prime? 49999)\n",
    "\n",
    ";Value: #t"
   ]
  },
  {
   "cell_type": "markdown",
   "metadata": {},
   "source": [
    "### II.The Fermat test"
   ]
  },
  {
   "cell_type": "markdown",
   "metadata": {},
   "source": [
    "The $\\Theta(logn)$ primality test is based on a result from number theory known as Fermat’s Little Theorem."
   ]
  },
  {
   "cell_type": "markdown",
   "metadata": {},
   "source": [
    "If $n$ is not prime, then, in general, most of the numbers $a \\lt n$ will not satisfy the above relation. This leads to the following algorithm for testing primality: Given a number $n$, pick a random number $a \\lt n$ and compute the remainder of an modulo $n$. If the result is not equal to $a$, then $n$ is certainly not prime. If it is $a$, then $\\textbf{chances}$ are good that $n$ is prime. Now pick another random number $a$ and test it with the same method. If it also satisfies the equation, then we can be even more confident that $n$ is prime. By trying more and more values of $a$, we can increase our confidence in the result. This algorithm is known as the Fermat test."
   ]
  },
  {
   "cell_type": "markdown",
   "metadata": {},
   "source": [
    "To implement the Fermat test, we need a procedure that computes the exponential of a number modulo another number:"
   ]
  },
  {
   "cell_type": "raw",
   "metadata": {},
   "source": [
    "(define (expmod base exp m)\n",
    "  (cond ((= exp 0) 1)\n",
    "      ((even? exp) (remainder (square (expmod base (/ exp 2) m)) m))\n",
    "      (else (remainder (* base (expmod base (- exp 1) m)) m))))"
   ]
  },
  {
   "cell_type": "markdown",
   "metadata": {},
   "source": [
    "This is very similar to the $fast$-$expt$ procedure of Section 1.2.4. It uses successive squaring, so that the number of steps grows logarithmically with the exponent."
   ]
  },
  {
   "cell_type": "markdown",
   "metadata": {},
   "source": [
    "The Fermat test is performed by choosing at random a number $a$ between 1 and n - 1 inclusive and checking whether the remainder modulo $n$ of the $n^{th}$ power of $a$ is equal to $a$. The random number $a$ is chosen using the procedure $random$, which we assume is included as a primitive in Scheme. $random$ returns a nonnegative integer less than its integer input. Hence, to obtain a random number between 1 and n - 1, we call random with an input of n - 1 and add 1 to the result:"
   ]
  },
  {
   "cell_type": "raw",
   "metadata": {},
   "source": [
    "(define (fermat-test n)\n",
    "  (define (try-it a) (= (expmod a n n) a))\n",
    "  (try-it (+ 1 (random (- n 1)))))"
   ]
  },
  {
   "cell_type": "markdown",
   "metadata": {},
   "source": [
    "The following procedure runs the test a given number of times, as specified by a parameter. Its value is true if the test succeeds every time, and false otherwise."
   ]
  },
  {
   "cell_type": "raw",
   "metadata": {},
   "source": [
    "(define (fast-prime? n times)\n",
    "  (cond ((= times 0) true)\n",
    "  ((fermat-test n) (fast-prime? n (- times 1)))\n",
    "  (else false)))"
   ]
  },
  {
   "cell_type": "markdown",
   "metadata": {},
   "source": [
    "#### Running Instance:"
   ]
  },
  {
   "cell_type": "code",
   "execution_count": 2,
   "metadata": {
    "collapsed": false
   },
   "outputs": [
    {
     "name": "stdout",
     "output_type": "stream",
     "text": [
      "(define (expmod base exp m)\r\n",
      "  (cond ((= exp 0) 1)\r\n",
      "        ((even? exp) (remainder (square (expmod base (/ exp 2) m)) m))\r\n",
      "        (else (remainder (* base (expmod base (- exp 1) m)) m))))\r\n",
      "\r\n",
      "(define (fermat-test n)\r\n",
      "  (define (try-it a) (= (expmod a n n) a))\r\n",
      "  (try-it (+ 1 (random (- n 1)))))\r\n",
      "\r\n",
      "(define (fast-prime? n times)\r\n",
      "  (cond ((= times 0) true)\r\n",
      "        ((fermat-test n) (fast-prime? n (- times 1)))\r\n",
      "        (else false)))\r\n"
     ]
    }
   ],
   "source": [
    "cat prime_by_fermat_test.scm"
   ]
  },
  {
   "cell_type": "raw",
   "metadata": {},
   "source": [
    "1 ]=> (load \"prime_by_fermat_test.scm\")\n",
    "\n",
    ";Loading \"prime_by_fermat_test.scm\"... done\n",
    ";Value: fast-prime?\n",
    "\n",
    "1 ]=> (fast-prime? 49999 1000)\n",
    "\n",
    ";Value: #t"
   ]
  },
  {
   "cell_type": "raw",
   "metadata": {},
   "source": [
    "1 ]=> (fast-prime? 6601 1000)\n",
    "\n",
    ";Value: #t\n",
    "\n",
    ";;6601 fooled the Fermat test\n",
    ";;it is a Carmichael numbers\n",
    "\n",
    "1 ]=> (load \"prime_by_search_divisor.scm\")\n",
    "\n",
    ";Loading \"prime_by_search_divisor.scm\"... done\n",
    ";Value: prime?\n",
    "\n",
    "1 ]=> (prime? 6601)\n",
    "\n",
    ";Value: #f\n",
    "\n",
    ";;because 6601 has divisors of 7,23 and 41."
   ]
  }
 ],
 "metadata": {
  "kernelspec": {
   "display_name": "Python 2",
   "language": "python",
   "name": "python2"
  },
  "language_info": {
   "codemirror_mode": {
    "name": "ipython",
    "version": 2
   },
   "file_extension": ".py",
   "mimetype": "text/x-python",
   "name": "python",
   "nbconvert_exporter": "python",
   "pygments_lexer": "ipython2",
   "version": "2.7.11"
  }
 },
 "nbformat": 4,
 "nbformat_minor": 0
}
