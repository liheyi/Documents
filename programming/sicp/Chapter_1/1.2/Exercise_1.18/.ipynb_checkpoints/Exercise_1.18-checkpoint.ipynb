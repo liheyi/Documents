{
 "cells": [
  {
   "cell_type": "markdown",
   "metadata": {},
   "source": [
    "### Exercise 1.18: \n",
    "Using the results of Exercise 1.16 and Exercise 1.17, devise a procedure that generates an $iterative$ process for multiplying two integers in terms of $adding$, $doubling$, and $halving$ and uses a logarithmic number of steps."
   ]
  },
  {
   "cell_type": "markdown",
   "metadata": {},
   "source": [
    "### Answer:"
   ]
  },
  {
   "cell_type": "code",
   "execution_count": 2,
   "metadata": {
    "collapsed": false
   },
   "outputs": [
    {
     "name": "stdout",
     "output_type": "stream",
     "text": [
      "(define (fast_multi a b)\r\n",
      "  (define (double n) (* n 2))\r\n",
      "  (define (halve n) (/ n 2))\r\n",
      "  (define (iter a count summation)\r\n",
      "    (cond ((= count 0) summation)\r\n",
      "          ((even? count) \r\n",
      "           (iter (double a) (halve count) summation))\r\n",
      "          (else (iter a (- count 1) (+ a summation)))))\r\n",
      "  (iter a b 0))\r\n"
     ]
    }
   ],
   "source": [
    "cat multi_by_iteration.scm"
   ]
  },
  {
   "cell_type": "markdown",
   "metadata": {},
   "source": [
    "#### Running Instance:"
   ]
  },
  {
   "cell_type": "raw",
   "metadata": {},
   "source": [
    "1 ]=> (load \"multi_by_iteration.scm\")\n",
    "\n",
    ";Loading \"multi_by_iteration.scm\"... done\n",
    ";Value: fast_multi\n",
    "\n",
    "1 ]=> (fast_multi 17 33)\n",
    "\n",
    ";Value: 561"
   ]
  }
 ],
 "metadata": {
  "kernelspec": {
   "display_name": "Python 2",
   "language": "python",
   "name": "python2"
  },
  "language_info": {
   "codemirror_mode": {
    "name": "ipython",
    "version": 2
   },
   "file_extension": ".py",
   "mimetype": "text/x-python",
   "name": "python",
   "nbconvert_exporter": "python",
   "pygments_lexer": "ipython2",
   "version": "2.7.11"
  }
 },
 "nbformat": 4,
 "nbformat_minor": 0
}
