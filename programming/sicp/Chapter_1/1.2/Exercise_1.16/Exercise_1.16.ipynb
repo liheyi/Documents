{
 "cells": [
  {
   "cell_type": "markdown",
   "metadata": {},
   "source": [
    "### Exercise 1.16: \n",
    "Design a procedure that evolves an $iterative$ $exponentiation$ process that uses successive squaring and uses a logarithmic number of steps, as does $fast$-$expt$.(Hint: Using the observation that $(b^{n/2})^2 = (b^2)^{n/2}$, keep, along with the exponent $n$ and the base $b$, an additional state variable $a$, and define the state transformation in such a way that the product $ab^n$ is unchanged from state to state. At the beginning of the process $a$ is taken to be 1, and the answer is given by the value of $a$ at the end of the process. In general, the technique of defining an $invariant$ $quantity$ that remains unchanged from state to state is a powerful way to think about the design of iterative algorithms.)"
   ]
  },
  {
   "cell_type": "markdown",
   "metadata": {},
   "source": [
    "### Answer:"
   ]
  },
  {
   "cell_type": "code",
   "execution_count": 1,
   "metadata": {
    "collapsed": false
   },
   "outputs": [
    {
     "name": "stdout",
     "output_type": "stream",
     "text": [
      "(define (fast_expt b n)\r\n",
      "  (define (iter b n a)\r\n",
      "    (cond ((= n 0) a)\r\n",
      "          ((even? n) (iter (square b) (/ n 2) a))\r\n",
      "          (else (iter b (- n 1) (* b a)))))\r\n",
      "  (iter b n 1))\r\n"
     ]
    }
   ],
   "source": [
    "cat fast_expt_by_iteration.scm"
   ]
  },
  {
   "cell_type": "markdown",
   "metadata": {},
   "source": [
    "#### Running Instance:"
   ]
  },
  {
   "cell_type": "raw",
   "metadata": {},
   "source": [
    "1 ]=> (load \"fast_expt_by_iteration.scm\")\n",
    "\n",
    ";Loading \"fast_expt_by_iteration.scm\"... done\n",
    ";Value: fast_expt\n",
    "\n",
    "1 ]=> (fast_expt 3 9)\n",
    "\n",
    ";Value: 19683"
   ]
  },
  {
   "cell_type": "markdown",
   "metadata": {},
   "source": [
    "We can use the substitution model to watch $fast$-$expt$ procedure given above in action computing $3^{9}$,:"
   ]
  },
  {
   "cell_type": "raw",
   "metadata": {},
   "source": [
    "(fast-expt 3  9)\n",
    "(iter   3  9  1)\n",
    "(iter   3  8  3)\n",
    "(iter   9  4  3)\n",
    "(iter`  81  2  3)\n",
    "(iter 6561  1  3)\n",
    "(iter 6561  0  19683)\n",
    "19683"
   ]
  }
 ],
 "metadata": {
  "kernelspec": {
   "display_name": "Python 2",
   "language": "python",
   "name": "python2"
  },
  "language_info": {
   "codemirror_mode": {
    "name": "ipython",
    "version": 2
   },
   "file_extension": ".py",
   "mimetype": "text/x-python",
   "name": "python",
   "nbconvert_exporter": "python",
   "pygments_lexer": "ipython2",
   "version": "2.7.11"
  }
 },
 "nbformat": 4,
 "nbformat_minor": 0
}
