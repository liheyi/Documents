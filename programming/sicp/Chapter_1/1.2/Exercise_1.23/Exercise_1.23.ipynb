{
 "cells": [
  {
   "cell_type": "markdown",
   "metadata": {},
   "source": [
    "### Exercise 1.23: \n",
    "The $smallest$-$divisor$ procedure shown at the start of this section does lots of needless testing: After it checks to see if the number is divisible by 2 there is no point in checking to see if it is divisible by any larger $even$ numbers. This suggests that the values used for test-divisor should not be 2, 3, 4, 5, 6, ..., but rather 2, 3, 5, 7, 9, .... To implement this change, define a procedure $next$ that returns 3 if its input is equal to 2 and otherwise returns its input plus 2. Modify the $smallest$-$divisor$ procedure to use (next test-divisor) instead of (+ test-divisor 1). With timed-prime-test incorporating this modified version of smallest-divisor, run the test for each of the 12 primes found in Exercise 1.22. Since this modification halves the number of test steps, you should expect it to run about twice as fast. Is this expectation confirmed? If not, what is the observed ratio of the speeds of the two algorithms, and how do you explain the fact that it is different from 2?"
   ]
  },
  {
   "cell_type": "markdown",
   "metadata": {},
   "source": [
    "### Answer:"
   ]
  },
  {
   "cell_type": "markdown",
   "metadata": {},
   "source": [
    "$\\bullet$ The $next$ procedure:"
   ]
  },
  {
   "cell_type": "raw",
   "metadata": {},
   "source": [
    "(define (next n) (if (odd? n) (+ n 2) (+ n 1)))"
   ]
  },
  {
   "cell_type": "markdown",
   "metadata": {},
   "source": [
    "$\\bullet$ Redefine the $smallest$-$divisor$ procedure in term of $next$ procedure given above in the $prime?$ procedure:"
   ]
  },
  {
   "cell_type": "raw",
   "metadata": {},
   "source": [
    "(define (prime? n)\n",
    "  (define (smallest-divisor n)\n",
    "   (define (find-divisor n test-divisor)\n",
    "`    (define (divides a b) (= (remainder a b) 0))\n",
    "`    (define (next n) (if (odd? n) (+ n 2) (+ n 1)))\n",
    "`    (cond ((> (square test-divisor) n) n)\n",
    "`        ((divides n test-divisor) test-divisor)\n",
    "`        (else (find-divisor n (next n)))))\n",
    "    (find-divisor n 2))\n",
    "  (= n (smallest-divisor n)))"
   ]
  },
  {
   "cell_type": "markdown",
   "metadata": {},
   "source": [
    "$\\bullet$ Redefine the $search$-$consecutive$-$prime$ procedure in term of the $prime?$ procedure given above:"
   ]
  },
  {
   "cell_type": "raw",
   "metadata": {},
   "source": [
    "(define (search-consecutive-prime n count)\n",
    "  (cond ((= count 0) (display \"are primes.\"))\n",
    "  ((prime? n)\n",
    "`  (display n)\n",
    "`  (newline)\n",
    "`  (search-consecutive-prime (next n) (- count 1)))\n",
    "  (else (search-consecutive-prime (next n) count))))"
   ]
  },
  {
   "cell_type": "markdown",
   "metadata": {},
   "source": [
    "$\\bullet$ Redefine the $real$-$time$-$clock$ procedure in term of the $search$-$consecutive$-$prime$ above:"
   ]
  },
  {
   "cell_type": "markdown",
   "metadata": {},
   "source": [
    "Finally, we can get:"
   ]
  },
  {
   "cell_type": "code",
   "execution_count": 2,
   "metadata": {
    "collapsed": false
   },
   "outputs": [
    {
     "name": "stdout",
     "output_type": "stream",
     "text": [
      "(define (search-for-primes n)\r\n",
      "  (define (search-consecutive-prime n count)\r\n",
      "    (define (next n)\r\n",
      "      (if (odd? n) (+ n 2) (+ n 1)))\r\n",
      "\r\n",
      "    (define (prime n)\r\n",
      "      (define (smallest-divisor n) \r\n",
      "        (define (find-divisor n test-divisor)\r\n",
      "          (define (divides a b) (= (remainder a b) 0))\r\n",
      "          (cond ((> (square test-divisor) n) n)\r\n",
      "                ((divides n test-divisor) test-divisor)\r\n",
      "                (else (find-divisor n (next test-divisor)))))\r\n",
      "          (find-divisor n 2))\r\n",
      "      (= n (smallest-divisor n)))\r\n",
      "\r\n",
      "    (cond ((= count 0) (display \"are primes.\"))\r\n",
      "          ((prime n)\r\n",
      "           (display n)\r\n",
      "           (newline)\r\n",
      "           (search-consecutive-prime (next n) (- count 1)))\r\n",
      "          (else (search-consecutive-prime (next n) count))))\r\n",
      "\r\n",
      "\r\n",
      "  (let ((start-time (real-time-clock)))\r\n",
      "        (search-consecutive-prime n 3)\r\n",
      "       (- (real-time-clock) start-time)))\r\n"
     ]
    }
   ],
   "source": [
    "cat search_for_primes.scm"
   ]
  },
  {
   "cell_type": "markdown",
   "metadata": {},
   "source": [
    "#### Running Instance:"
   ]
  },
  {
   "cell_type": "raw",
   "metadata": {},
   "source": [
    "1 ]=> (load \"search_for_primes.scm\")\n",
    "\n",
    ";Loading \"search_for_primes.scm\"... done\n",
    ";Value: search-for-primes\n",
    "\n",
    "1 ]=> (search-for-primes 1000)\n",
    "1009\n",
    "1013\n",
    "1019\n",
    "are primes.\n",
    ";Value: 1\n",
    "\n",
    "1 ]=> (search-for-primes 10000)\n",
    "10007\n",
    "10009\n",
    "10037\n",
    "are primes.\n",
    ";Value: 4\n",
    "\n",
    "1 ]=> (search-for-primes 100000)\n",
    "100003\n",
    "100019\n",
    "100043\n",
    "are primes.\n",
    ";Value: 9\n",
    "\n",
    "1 ]=> (search-for-primes 1000000)\n",
    "1000003\n",
    "1000033\n",
    "1000037\n",
    "are primes.\n",
    ";Value: 8"
   ]
  }
 ],
 "metadata": {
  "kernelspec": {
   "display_name": "Python 2",
   "language": "python",
   "name": "python2"
  },
  "language_info": {
   "codemirror_mode": {
    "name": "ipython",
    "version": 2
   },
   "file_extension": ".py",
   "mimetype": "text/x-python",
   "name": "python",
   "nbconvert_exporter": "python",
   "pygments_lexer": "ipython2",
   "version": "2.7.11"
  }
 },
 "nbformat": 4,
 "nbformat_minor": 0
}
