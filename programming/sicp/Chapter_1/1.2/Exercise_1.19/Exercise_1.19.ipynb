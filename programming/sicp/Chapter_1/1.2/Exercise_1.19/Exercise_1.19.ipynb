{
 "cells": [
  {
   "cell_type": "markdown",
   "metadata": {},
   "source": [
    "### Exercise 1.19: \n",
    "There is a clever algorithm for computing the $Fibonacci$ numbers in a $logarithmic$ number of steps.Recall the transformation of the state variables $a$ and $b$ in the $fib$-$iter$ process of Section 1.2.2:"
   ]
  },
  {
   "cell_type": "markdown",
   "metadata": {},
   "source": [
    "\\begin{aligned}\n",
    "& a \\leftarrow a + b, \\\\\n",
    "& b \\leftarrow a.\n",
    "\\end{aligned}"
   ]
  },
  {
   "cell_type": "markdown",
   "metadata": {},
   "source": [
    "Call this transformation $T$ , and observe that applying $T$ over and over again n times, starting with 1 and 0, produces the pair $Fib(n$ + $1)$ and $Fib(n)$.In other words, the $Fibonacci$ numbers are produced by applying $T^n$,the $n^{th}$ power of the transformation $T$,starting with the pair $(1,\\,0)$.Now consider $T$ to be the special case of $p = 0$ and $q = 1$ in a family of transformations $T_{pq}$,where $T_{pq}$ transforms the pair $(a,\\,b)$ according to"
   ]
  },
  {
   "cell_type": "markdown",
   "metadata": {},
   "source": [
    "\\begin{aligned}\n",
    "& a \\leftarrow bq + aq + ap,\\\\\n",
    "& b \\leftarrow bp + aq.\n",
    "\\end{aligned}"
   ]
  },
  {
   "cell_type": "markdown",
   "metadata": {},
   "source": [
    "Show that if we apply such a transformation $T_{pq}$ twice, the effect is the same as using a single transformation $T_{p'q'}$ of the same form, and compute $p'$ and $q'$ in terms of $p$ and $q$.This gives us an explicit way to square these transformations,and thus we can compute $T^n$ using successive squaring, as in the $fast$-$expt$ procedure.Put this all together to complete the following procedure, which runs in a logarithmic number of steps:"
   ]
  },
  {
   "cell_type": "raw",
   "metadata": {},
   "source": [
    "(define (fib n)\n",
    "  (fib-iter 1 0 0 1 n))\n",
    "(define (fib-iter a b p q count)\n",
    "  (cond ((= count 0) b)\n",
    "      ((even? count)\n",
    "`      (fib-iter a\n",
    "             b\n",
    "             ⟨??⟩ ; compute p′\n",
    "             ⟨??⟩ ; compute q′\n",
    "             (/ count 2)))\n",
    "      (else (fib-iter (+ (* b q) (* a q) (* a p))\n",
    "`                (+ (* b p) (* a q))\n",
    "                 p\n",
    "                 q\n",
    "                 (- count 1)))))"
   ]
  },
  {
   "cell_type": "markdown",
   "metadata": {},
   "source": [
    "### Answer:"
   ]
  },
  {
   "cell_type": "markdown",
   "metadata": {},
   "source": [
    "Due to $T$ transformation is"
   ]
  },
  {
   "cell_type": "markdown",
   "metadata": {},
   "source": [
    "\\begin{aligned}\n",
    "& a \\leftarrow bq + a(p + q)\\\\\n",
    "& b \\leftarrow bp + aq\n",
    "\\end{aligned}"
   ]
  },
  {
   "cell_type": "markdown",
   "metadata": {},
   "source": [
    "then $T^2$ transformation is"
   ]
  },
  {
   "cell_type": "markdown",
   "metadata": {},
   "source": [
    "\\begin{aligned}\n",
    "& a' \\leftarrow (bp + aq)q + (bq + a(p + q))(p+q)\\\\\n",
    "& b' \\leftarrow (bp +aq)p + (bq + a(p + q))q\n",
    "\\end{aligned}"
   ]
  },
  {
   "cell_type": "markdown",
   "metadata": {},
   "source": [
    "After simple mathematical transformation,$T^2$ transformation is"
   ]
  },
  {
   "cell_type": "markdown",
   "metadata": {},
   "source": [
    "\\begin{aligned}\n",
    "& a' \\leftarrow b(2pq + q^2) + a(p^2 + q^2 + 2pq + q^2)\\\\\n",
    "& b' \\leftarrow b(p^2 + q^2) + a(2pq + q^2)\n",
    "\\end{aligned}"
   ]
  },
  {
   "cell_type": "markdown",
   "metadata": {},
   "source": [
    "however,$T^2$ transformation was defined as"
   ]
  },
  {
   "cell_type": "markdown",
   "metadata": {},
   "source": [
    "\\begin{aligned}\n",
    "& a' \\leftarrow bq' + a(p' + q')\\\\\n",
    "& b' \\leftarrow bp' + aq'\n",
    "\\end{aligned}"
   ]
  },
  {
   "cell_type": "markdown",
   "metadata": {},
   "source": [
    "So we can get"
   ]
  },
  {
   "cell_type": "markdown",
   "metadata": {},
   "source": [
    "\\begin{aligned}\n",
    "& p' \\leftarrow p^2 + q^2\\\\\n",
    "& q' \\leftarrow 2pq + q^2\n",
    "\\end{aligned}"
   ]
  },
  {
   "cell_type": "markdown",
   "metadata": {},
   "source": [
    "So we got the whole procedure, which runs in a logarithmic number of steps:"
   ]
  },
  {
   "cell_type": "code",
   "execution_count": 2,
   "metadata": {
    "collapsed": false
   },
   "outputs": [
    {
     "name": "stdout",
     "output_type": "stream",
     "text": [
      "(define (fib_iter a b p q count)\r\n",
      "  (cond ((= count 0) b)\r\n",
      "        ((even? count)\r\n",
      "         (fib_iter a \r\n",
      "                   b\r\n",
      "                   (+ (square p) (square q)) \r\n",
      "                   (+ (* 2 p q) (square q)) \r\n",
      "                   (/ count 2)))\r\n",
      "        (else (fib_iter (+ (* b q) (* a q) (* a p))\r\n",
      "                        (+ (* b p) (* a q))\r\n",
      "                        p\r\n",
      "                        q\r\n",
      "                        (- count 1)))))\r\n",
      "\r\n",
      "(define (fib n)\r\n",
      "  (fib_iter 1 0 0 1 n))\r\n"
     ]
    }
   ],
   "source": [
    "cat fib_by_T_transform.scm"
   ]
  },
  {
   "cell_type": "markdown",
   "metadata": {},
   "source": [
    "#### Running Instance:"
   ]
  },
  {
   "cell_type": "raw",
   "metadata": {},
   "source": [
    "1 ]=> (load \"fib_by_T_transform.scm\")\n",
    "\n",
    ";Loading \"fib_by_T_transform.scm\"... done\n",
    ";Value: fib\n",
    "\n",
    "1 ]=> (fib 120)\n",
    "\n",
    ";Value: 5358359254990966640871840"
   ]
  }
 ],
 "metadata": {
  "kernelspec": {
   "display_name": "Python 2",
   "language": "python",
   "name": "python2"
  },
  "language_info": {
   "codemirror_mode": {
    "name": "ipython",
    "version": 2
   },
   "file_extension": ".py",
   "mimetype": "text/x-python",
   "name": "python",
   "nbconvert_exporter": "python",
   "pygments_lexer": "ipython2",
   "version": "2.7.11"
  }
 },
 "nbformat": 4,
 "nbformat_minor": 0
}
