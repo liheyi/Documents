{
 "cells": [
  {
   "cell_type": "markdown",
   "metadata": {},
   "source": [
    "## Counting change"
   ]
  },
  {
   "cell_type": "markdown",
   "metadata": {},
   "source": [
    "It takes only a bit of cleverness to come up with the $iterative$ $Fibonacci$ $algorithm$. In contrast, consider the following problem: How many different ways can we make change of $1.00, given half-dollars, quarters, dimes, nickels, and pennies? More generally, can we write a procedure to compute the number of ways to change any given amount of money?"
   ]
  },
  {
   "cell_type": "markdown",
   "metadata": {},
   "source": [
    "This problem has a simple solution as a $recursive$ procedure. Suppose we think of the types of coins available as arranged in some order.Then the following relation holds:"
   ]
  },
  {
   "cell_type": "markdown",
   "metadata": {},
   "source": [
    "The number of ways to change amount a using n kinds of coins equals"
   ]
  },
  {
   "cell_type": "markdown",
   "metadata": {},
   "source": [
    "$\\bullet$ the number of ways to change amount a using all but the first kind of coin, plus"
   ]
  },
  {
   "cell_type": "markdown",
   "metadata": {},
   "source": [
    "$\\bullet$ the number of ways to change amount $a - d$ using all n kinds of coins, where $d$ is the denomination of the first kind of coin."
   ]
  },
  {
   "cell_type": "markdown",
   "metadata": {},
   "source": [
    "To see why this is true, observe that the ways to make change can be divided into two groups: those that do not use any of the first kind of coin, and those that do. Therefore, the total number of ways to make change for some amount is equal to the number of ways to make change for the amount without using any of the first kind of coin, plus the number of ways to make change assuming that we do use the first kind of coin. But the latter number is equal to the number of ways to make change for the amount that remains aer using a coin of the first kind."
   ]
  },
  {
   "cell_type": "markdown",
   "metadata": {},
   "source": [
    "Thus, we can $recursively$ reduce the problem of changing a given amount to the problem of changing smaller amounts using fewer kinds of coins. Consider this reduction rule carefully, and convince yourself that we can use it to describe an algorithm if we specify the following degenerate cases:"
   ]
  },
  {
   "cell_type": "markdown",
   "metadata": {},
   "source": [
    "$\\bullet$ If a is exactly 0, we should count that as 1 way to make change."
   ]
  },
  {
   "cell_type": "markdown",
   "metadata": {},
   "source": [
    "$\\bullet$ If a is less than 0, we should count that as 0 ways to make change."
   ]
  },
  {
   "cell_type": "markdown",
   "metadata": {},
   "source": [
    "$\\bullet$ If n is 0, we should count that as 0 ways to make change."
   ]
  },
  {
   "cell_type": "markdown",
   "metadata": {},
   "source": [
    "We can easily translate this description into a $recursive$ procedure:"
   ]
  },
  {
   "cell_type": "code",
   "execution_count": 1,
   "metadata": {
    "collapsed": false
   },
   "outputs": [
    {
     "name": "stdout",
     "output_type": "stream",
     "text": [
      "(define (first_denomination kinds_of_coins)\r\n",
      "  (cond ((= kinds_of_coins 1) 1)\r\n",
      "        ((= kinds_of_coins 2) 5)\r\n",
      "        ((= kinds_of_coins 3) 10)\r\n",
      "        ((= kinds_of_coins 4) 25)\r\n",
      "        ((= kinds_of_coins 5) 50)))\r\n",
      "\r\n",
      "(define (cc amount kinds_of_coins)\r\n",
      "  (cond ((= amount 0) 1)\r\n",
      "        ((or (< amount 0) (= kinds_of_coins 0)) 0)\r\n",
      "        (else (+ (cc amount (- kinds_of_coins 1))\r\n",
      "                 (cc (- amount (first_denomination kinds_of_coins)) kinds_of_coins)))))\r\n",
      "\r\n",
      "(define (count_change amount)\r\n",
      "  (cc amount 5))\r\n"
     ]
    }
   ],
   "source": [
    "cat cc_by_recursion.scm"
   ]
  },
  {
   "cell_type": "markdown",
   "metadata": {},
   "source": [
    "#### Running Instance:"
   ]
  },
  {
   "cell_type": "raw",
   "metadata": {},
   "source": [
    "1 ]=> (load \"cc_by_recursion.scm\")\n",
    "\n",
    ";Loading \"cc_by_recursion.scm\"... done\n",
    ";Value: count_change\n",
    "\n",
    "1 ]=> (count_change 100)\n",
    "\n",
    ";Value: 292"
   ]
  },
  {
   "cell_type": "markdown",
   "metadata": {},
   "source": [
    "$count$-$change$ generates a $tree$-$recursive$ process with redundancies similar to those in our first implementation of $fib$. (It will take quite a while for that 292 to be computed.) On the other hand, it is not obvious how to design a better algorithm for computing the result, and we leave this problem as a challenge. The observation that a $tree$-$recursive$ process may be highly inefficient but often easy to specify and understand has led people to propose that one could get the best of both worlds by designing a “smart compiler” that could transform tree-recursive procedures into more efficient procedures that compute the same result."
   ]
  },
  {
   "cell_type": "code",
   "execution_count": null,
   "metadata": {
    "collapsed": true
   },
   "outputs": [],
   "source": []
  }
 ],
 "metadata": {
  "kernelspec": {
   "display_name": "Python [Root]",
   "language": "python",
   "name": "Python [Root]"
  },
  "language_info": {
   "codemirror_mode": {
    "name": "ipython",
    "version": 2
   },
   "file_extension": ".py",
   "mimetype": "text/x-python",
   "name": "python",
   "nbconvert_exporter": "python",
   "pygments_lexer": "ipython2",
   "version": "2.7.12"
  }
 },
 "nbformat": 4,
 "nbformat_minor": 0
}
