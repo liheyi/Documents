{
 "cells": [
  {
   "cell_type": "markdown",
   "metadata": {},
   "source": [
    "### Exercise 1.13: \n",
    "Prove that $Fib(n)$ is the closest integer to $\\varphi^n/\\sqrt{5}$,where $\\varphi=(1+\\sqrt{5})/2$.  \n",
    "Hint: Let $\\psi=(1-\\sqrt{5})/2$.  \n",
    "Use induction and the definition of the $Fibonacci$ numbers (see Section 1.2.2) to prove that $Fib(n)=(\\varphi^n-\\psi^n)/\\sqrt{5}$."
   ]
  },
  {
   "cell_type": "code",
   "execution_count": null,
   "metadata": {
    "collapsed": true
   },
   "outputs": [],
   "source": []
  }
 ],
 "metadata": {
  "kernelspec": {
   "display_name": "Python [Root]",
   "language": "python",
   "name": "Python [Root]"
  },
  "language_info": {
   "codemirror_mode": {
    "name": "ipython",
    "version": 2
   },
   "file_extension": ".py",
   "mimetype": "text/x-python",
   "name": "python",
   "nbconvert_exporter": "python",
   "pygments_lexer": "ipython2",
   "version": "2.7.12"
  }
 },
 "nbformat": 4,
 "nbformat_minor": 0
}
