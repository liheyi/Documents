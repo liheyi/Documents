{
 "cells": [
  {
   "cell_type": "markdown",
   "metadata": {},
   "source": [
    "# 1.2 Procedures and the Processes They Generate"
   ]
  },
  {
   "cell_type": "markdown",
   "metadata": {},
   "source": [
    "## Example 3:Linear Recursion and Iteration"
   ]
  },
  {
   "cell_type": "markdown",
   "metadata": {},
   "source": [
    "The mathematical definition of the factorial function"
   ]
  },
  {
   "cell_type": "markdown",
   "metadata": {},
   "source": [
    "$$n! = n\\cdot(n-1)\\cdot(n-1)\\cdot\\cdot\\cdot3\\cdot2\\cdot1.$$"
   ]
  },
  {
   "cell_type": "markdown",
   "metadata": {},
   "source": [
    "There are many ways to compute factorials.   \n",
    "One way is to make use of the observation that $n!$ is equal to $n$ times $(n-1)!$ for any positive integer $n$:"
   ]
  },
  {
   "cell_type": "markdown",
   "metadata": {},
   "source": [
    "$$n!=n\\cdot[(n-1)\\cdot(n-1)\\cdot\\cdot\\cdot3\\cdot2\\cdot1]=n\\cdot(n-1)!.$$"
   ]
  },
  {
   "cell_type": "markdown",
   "metadata": {},
   "source": [
    "Thus, we can compute $n!$ by computing $(n-1)!$ and multiplying the result by $n$.   \n",
    "If we add the stipulation that $1!$ is equal to 1, this observation translates directly into a procedure:"
   ]
  },
  {
   "cell_type": "code",
   "execution_count": 1,
   "metadata": {
    "collapsed": false
   },
   "outputs": [
    {
     "name": "stdout",
     "output_type": "stream",
     "text": [
      "(define (factorial n)\r\n",
      "  (if (= n 1) 1 (* n (factorial (- n 1)))))\r\n"
     ]
    }
   ],
   "source": [
    "cat 1.2/Example_3/factorial_by_recursion.scm"
   ]
  },
  {
   "cell_type": "markdown",
   "metadata": {},
   "source": [
    "We can use the substitution model of Section 1.1.5 to watch this procedure in action computing $6!$ as follows:"
   ]
  },
  {
   "cell_type": "raw",
   "metadata": {},
   "source": [
    "(factorial 6)\n",
    "(* 6 (factorial 5))\n",
    "(* 6 (* 5 (factorial 4)))\n",
    "(* 6 (* 5 (* 4 (factorial 3))))\n",
    "(* 6 (* 5 (* 4 (* 3 (factorial 2)))))\n",
    "(* 6 (* 5 (* 4 (* 3 (* 2 (factorial 1))))))\n",
    "(* 6 (* 5 (* 4 (* 3 (* 2 1)))))\n",
    "(* 6 (* 5 (* 4 (* 3 2))))\n",
    "(* 6 (* 5 (* 4 6)))\n",
    "(* 6 (* 5 24))\n",
    "(* 6 120)\n",
    "720"
   ]
  },
  {
   "cell_type": "markdown",
   "metadata": {},
   "source": [
    "Now let’s take a different perspective on computing factorials.We could describe a rule for computing $n!$ by specifying that we first multiply 1 by 2, then multiply the result by 3, then by 4, and so on until we reach n. More formally, we maintain a running product, together with a counter that counts from 1 up to n. We can describe the computation by saying that the counter and the product simultaneously change from one step to the next according to the rule"
   ]
  },
  {
   "cell_type": "markdown",
   "metadata": {},
   "source": [
    "$\\text{product}\\leftarrow\\text{counter}\\;*\\;\\text{product}$  \n",
    "$\\text{counter}\\leftarrow\\text{counter}\\;+\\;1$"
   ]
  },
  {
   "cell_type": "markdown",
   "metadata": {},
   "source": [
    "and stipulating that $n!$ is the value of the product when the counter exceeds n."
   ]
  },
  {
   "cell_type": "markdown",
   "metadata": {},
   "source": [
    "Once again, we can recast our description as a procedure for computing factorials:"
   ]
  },
  {
   "cell_type": "code",
   "execution_count": 3,
   "metadata": {
    "collapsed": false
   },
   "outputs": [
    {
     "name": "stdout",
     "output_type": "stream",
     "text": [
      "(define (factorial n)\r\n",
      "  (define (fact-iter product counter max-count)\r\n",
      "    (if (> counter max-count) product \r\n",
      "        (fact-iter (* counter product) (+ counter 1) max-count)))\r\n",
      "  (fact-iter 1 1 n))\r\n"
     ]
    }
   ],
   "source": [
    "cat 1.2/Example_3/factorial_by_iteration.scm"
   ]
  },
  {
   "cell_type": "markdown",
   "metadata": {},
   "source": [
    "As before, we can use the substitution model to visualize the process of computing $6!$ as follows:"
   ]
  },
  {
   "cell_type": "raw",
   "metadata": {},
   "source": [
    "(factorial 6)\n",
    "(fact-iter 1 1 6)\n",
    "(fact-iter 1 2 6)\n",
    "(fact-iter 2 3 6)\n",
    "(fact-iter 6 4 6)\n",
    "(fact-iter 24 5 6)\n",
    "(fact-iter 120 6 6)\n",
    "(fact-iter 720 7 6)\n",
    "720"
   ]
  },
  {
   "cell_type": "markdown",
   "metadata": {},
   "source": [
    "## Exercise 1.9: \n",
    "Each of the following two procedures defines a method for adding two positive integers in terms of the procedures $inc$, which increments its argument by 1, and $dec$, which decrements its argument by 1."
   ]
  },
  {
   "cell_type": "raw",
   "metadata": {},
   "source": [
    "(define (+ a b) \n",
    "  (if (= a 0) b (inc (+ (dec a) b))))"
   ]
  },
  {
   "cell_type": "raw",
   "metadata": {},
   "source": [
    "(define (+ a b) \n",
    "  (if (= a 0) b (+ (dec a) (inc b))))"
   ]
  },
  {
   "cell_type": "markdown",
   "metadata": {},
   "source": [
    "Using the substitution model, illustrate the process generated by each procedure in evaluating $(+$ $4$ $5)$. Are these processes iterative or recursive?"
   ]
  },
  {
   "cell_type": "markdown",
   "metadata": {},
   "source": [
    "### Answer:"
   ]
  },
  {
   "cell_type": "markdown",
   "metadata": {},
   "source": [
    "To"
   ]
  },
  {
   "cell_type": "raw",
   "metadata": {},
   "source": [
    "(define (+ a b) \n",
    "  (if (= a 0) b (inc (+ (dec a) b))))"
   ]
  },
  {
   "cell_type": "markdown",
   "metadata": {},
   "source": [
    "Because"
   ]
  },
  {
   "cell_type": "raw",
   "metadata": {},
   "source": [
    "(+ 4 5)\n",
    "(1 + (+ 3 5))\n",
    "(1 + (1 + (+ 2 5)))\n",
    "(1 + (1 + (1 + (+ 1 5))))\n",
    "(1 + (1 + (1 + (1 + (+ 0 5)))))\n",
    "(1 + (1 + (1 + (1 + 5))))\n",
    "(1 + (1 + (1 + 6)))\n",
    "(1 + (1 + 7))\n",
    "(1 + 8)\n",
    "9"
   ]
  },
  {
   "cell_type": "raw",
   "metadata": {},
   "source": [
    "#### So,this process is recursive."
   ]
  },
  {
   "cell_type": "markdown",
   "metadata": {},
   "source": [
    "To"
   ]
  },
  {
   "cell_type": "raw",
   "metadata": {},
   "source": [
    "(define (+ a b) \n",
    "  (if (= a 0) b (+ (dec a) (inc b))))"
   ]
  },
  {
   "cell_type": "markdown",
   "metadata": {},
   "source": [
    "Because"
   ]
  },
  {
   "cell_type": "raw",
   "metadata": {},
   "source": [
    "(+ 4 5)\n",
    "(+ 3 6)\n",
    "(+ 2 7)\n",
    "(+ 1 8)\n",
    "(+ 0 9)\n",
    "9"
   ]
  },
  {
   "cell_type": "markdown",
   "metadata": {},
   "source": [
    "#### So,this process is iterative."
   ]
  },
  {
   "cell_type": "markdown",
   "metadata": {},
   "source": [
    "## Exercise 1.10: \n",
    "The following procedure computes a mathematical function called $Ackermann’s$ function."
   ]
  },
  {
   "cell_type": "raw",
   "metadata": {},
   "source": [
    "(define (A x y)\n",
    "  (cond ((= y 0) 0)\n",
    "      ((= x 0) (* 2 y))\n",
    "      ((= y 1) 2)\n",
    "      (else (A (- x 1) (A x (- y 1))))))"
   ]
  },
  {
   "cell_type": "markdown",
   "metadata": {},
   "source": [
    "What are the values of the following expressions?"
   ]
  },
  {
   "cell_type": "markdown",
   "metadata": {},
   "source": [
    "(A 1 10)  \n",
    "(A 2 4)  \n",
    "(A 3 3) "
   ]
  },
  {
   "cell_type": "markdown",
   "metadata": {},
   "source": [
    "Consider the following procedures, where $A$ is the procedure defined above:"
   ]
  },
  {
   "cell_type": "markdown",
   "metadata": {},
   "source": [
    "$(define$ $(f$ $n)$ $(A$ $0$ $n))$  \n",
    "$(define$ $(g$ $n)$ $(A$ $1$ $n))$  \n",
    "$(define$ $(h$ $n)$ $(A$ $2$ $n))$  \n",
    "$(define$ $(k$ $n)$ $(*$ $5$ $n$ $n))$"
   ]
  },
  {
   "cell_type": "markdown",
   "metadata": {},
   "source": [
    "Give concise mathematical definitions for the functions computed by the procedures $f$, $g$, and $h$ for positive integer values of n. For example, $(k$ $n)$ computes $5n^2$."
   ]
  },
  {
   "cell_type": "markdown",
   "metadata": {},
   "source": [
    "### Answer:"
   ]
  },
  {
   "cell_type": "markdown",
   "metadata": {},
   "source": [
    "First,we can compute these expressions aboved used by interpreter:"
   ]
  },
  {
   "cell_type": "code",
   "execution_count": 5,
   "metadata": {
    "collapsed": false
   },
   "outputs": [
    {
     "name": "stdout",
     "output_type": "stream",
     "text": [
      "(define (A x y)\r\n",
      "  (cond ((= y 0) 0)\r\n",
      "        ((= x 0) (* 2 y))\r\n",
      "        ((= y 1) 2)\r\n",
      "        (else (A (- x 1) (A x (- y 1))))))\r\n"
     ]
    }
   ],
   "source": [
    "cat 1.2/Exercise_1.10/Ackermann.scm"
   ]
  },
  {
   "cell_type": "markdown",
   "metadata": {},
   "source": [
    "#### Running Instance:"
   ]
  },
  {
   "cell_type": "raw",
   "metadata": {},
   "source": [
    "1 ]=> (load \"1.2/Exercise_1.10/Ackermann.scm\")\n",
    "\n",
    ";Loading \"1.2/Exercise_1.10/Ackermann.scm\"... done\n",
    ";Value: a\n",
    "\n",
    "1 ]=> (A 1 10)\n",
    "\n",
    ";Value: 1024\n",
    "\n",
    "1 ]=> (A 2 4)\n",
    "\n",
    ";Value: 65536\n",
    "\n",
    "1 ]=> (A 3 3)\n",
    "\n",
    ";Value: 65536"
   ]
  },
  {
   "cell_type": "markdown",
   "metadata": {},
   "source": [
    "We can use the substitution model to watch computing these expressions above:"
   ]
  },
  {
   "cell_type": "raw",
   "metadata": {},
   "source": [
    "(A 1 10)\n",
    "(A 0 (A 1 9))\n",
    "(2 * (A 0 (A 1 8)))\n",
    "(2 * (2 * (A 0 (A 1 7))))\n",
    "(2 * (2 * (2 * (A 0 (A 1 6)))))\n",
    "(2 * (2 * (2 * (2 * (A 0 (A 1 5))))))\n",
    "(2 * (2 * (2 * (2 * (2 * (A 0 (A 1 4)))))))\n",
    "(2 * (2 * (2 * (2 * (2 * (2 * (A 0 (A 1 3))))))))\n",
    "(2 * (2 * (2 * (2 * (2 * (2 * (2 * (A 0 (A 1 2)))))))))\n",
    "(2 * (2 * (2 * (2 * (2 * (2 * (2 * (2 * (A 0 A(1 1))))))))))\n",
    "(2 * (2 * (2 * (2 * (2 * (2 * (2 * (2 * (2 * 2)))))))))\n",
    "(2 * (2 * (2 * (2 * (2 * (2 * (2 * (2 * 4))))))))\n",
    "(2 * (2 * (2 * (2 * (2 * (2 * (2 * 8)))))))\n",
    "(2 * (2 * (2 * (2 * (2 * (2 * 16))))))\n",
    "(2 * (2 * (2 * (2 * (2 * 32)))))\n",
    "(2 * (2 * (2 * (2 * 64))))\n",
    "(2 * (2 * (2 * 128)))\n",
    "(2 * (2 * 256))\n",
    "(2 * 512)\n",
    "1024"
   ]
  },
  {
   "cell_type": "markdown",
   "metadata": {},
   "source": [
    "$1024=2^{10}$"
   ]
  },
  {
   "cell_type": "raw",
   "metadata": {},
   "source": [
    "(A 2 4)\n",
    "(A 1 (A 2 3))\n",
    "(A 1 (A 1 (A 2 2)))\n",
    "(A 1 (A 1 (A 1 (A 2 1))))  ==> (A 2 1)=2\n",
    "(A 1 (A 1 (A 1 2)))      ==> (A 1 2)=2^2\n",
    "(A 1 (A 1 4))          ==> (A 1 4)=2^4\n",
    "(A 1 16)             ==> (A 1 16)=2^16\n",
    "65536"
   ]
  },
  {
   "cell_type": "markdown",
   "metadata": {},
   "source": [
    "$65536=2^{2^{2^2}} \\;\\;\\;\\;\\text{The number of 2 is 4}.$"
   ]
  },
  {
   "cell_type": "raw",
   "metadata": {},
   "source": [
    "(A 3 3)\n",
    "(A 2 (A 3 2))\n",
    "(A 2 (A 2 (A 3 1)))     ==> (A 3 1)=2\n",
    "(A 2 (A 2 2))         ==> (A 2 2)=2^2\n",
    "(A 2 4)\n",
    "65536"
   ]
  },
  {
   "cell_type": "markdown",
   "metadata": {},
   "source": [
    "$(define$ $(f$ $n)$ $(A$ $0$ $n))$ $\\rightarrow$ $f(n)=2n$"
   ]
  },
  {
   "cell_type": "markdown",
   "metadata": {},
   "source": [
    "$(define$ $(g$ $n)$ $(A$ $1$ $n))$ $\\rightarrow$ $g(n)=2^n$"
   ]
  },
  {
   "cell_type": "markdown",
   "metadata": {},
   "source": [
    "$(define$ $(h$ $n)$ $(A$ $2$ $n))$ $\\rightarrow$ $h(n)=2^{2^{\\cdot^{\\cdot^{\\cdot^2}}}}\\;\\;\\;\\;\\text{The number of 2 is n}.$"
   ]
  },
  {
   "cell_type": "markdown",
   "metadata": {},
   "source": [
    "## Example 4: Tree Recursion"
   ]
  },
  {
   "cell_type": "markdown",
   "metadata": {},
   "source": [
    "Another common pattern of computation is called $tree$ $recursion$. As an example, consider computing the sequence of $Fibonacci$ numbers, in which each number is the sum of the preceding two:"
   ]
  },
  {
   "cell_type": "markdown",
   "metadata": {},
   "source": [
    "$$0,\\;1,\\;1,\\;2,\\;3,\\;5,\\;8,\\;13,\\;21,\\;\\dots.$$"
   ]
  },
  {
   "cell_type": "markdown",
   "metadata": {},
   "source": [
    "In general, the $Fibonacci$ numbers can be defined by the rule"
   ]
  },
  {
   "cell_type": "markdown",
   "metadata": {},
   "source": [
    "\\begin{equation}\n",
    "    Fib(n)=\n",
    "   \\begin{cases}\n",
    "   0 &\\mbox{if n = 0,}\\\\\n",
    "   1 &\\mbox{if n = 1,}\\\\\n",
    "   Fib(n-1)+Fib(n-2) &\\mbox{otherwise.}\n",
    "   \\end{cases}\n",
    "  \\end{equation}"
   ]
  },
  {
   "cell_type": "markdown",
   "metadata": {},
   "source": [
    "We can immediately translate this definition into a $recursive$ procedure for computing $Fibonacci$ numbers:"
   ]
  },
  {
   "cell_type": "code",
   "execution_count": 7,
   "metadata": {
    "collapsed": false
   },
   "outputs": [
    {
     "name": "stdout",
     "output_type": "stream",
     "text": [
      "(define (fib n)\r\n",
      "  (cond ((= n 0) 0)\r\n",
      "        ((= n 1) 1)\r\n",
      "        (else (+ (fib (- n 1)) (fib (- n 2))))))\r\n"
     ]
    }
   ],
   "source": [
    "cat 1.2/Example_4/fib_by_recursion.scm"
   ]
  },
  {
   "cell_type": "markdown",
   "metadata": {},
   "source": [
    "#### Running Instance:"
   ]
  },
  {
   "cell_type": "raw",
   "metadata": {},
   "source": [
    "1 ]=> (load \"1.2/Example_4/fib_by_recursion.scm\")\n",
    "\n",
    ";Loading \"1.2/Example_4/fib_by_recursion.scm\"... done\n",
    ";Value: fib\n",
    "\n",
    "1 ]=> (fib 20)\n",
    "\n",
    ";Value: 6765"
   ]
  },
  {
   "cell_type": "markdown",
   "metadata": {},
   "source": [
    "This procedure is instructive as a prototypical tree recursion, but it is a terrible way to compute $Fibonacci$ numbers because it does so much redundant computation."
   ]
  },
  {
   "cell_type": "markdown",
   "metadata": {},
   "source": [
    "We can also formulate an iterative process for computing the $Fibonacci$ numbers. The idea is to use a pair of integers a and b, initialized to $Fib(1)\\;=\\;1$ and $Fib(0)\\;=\\;0$, and to repeatedly apply the simultaneous transformations"
   ]
  },
  {
   "cell_type": "markdown",
   "metadata": {},
   "source": [
    "\\begin{aligned}\n",
    "& a \\leftarrow a + b, \\\\\n",
    "& b \\leftarrow a.\n",
    "\\end{aligned}"
   ]
  },
  {
   "cell_type": "markdown",
   "metadata": {},
   "source": [
    "It is not hard to show that, after applying this transformation n times, $a$ and $b$ will be equal, respectively, to $Fib(n + 1)$ and $Fib(n)$. Thus, we can compute $Fibonacci$ numbers $iteratively$ using the procedure"
   ]
  },
  {
   "cell_type": "code",
   "execution_count": 8,
   "metadata": {
    "collapsed": false
   },
   "outputs": [
    {
     "name": "stdout",
     "output_type": "stream",
     "text": [
      "(define (fib n)\r\n",
      "  (define (fib-iter a b count)\r\n",
      "    (if (= count 0) b\r\n",
      "        (fib-iter (+ a b) a (- count 1))))\r\n",
      "  (fib-iter 1 0 n))\r\n"
     ]
    }
   ],
   "source": [
    "cat 1.2/Example_4/fib_by_iteration.scm"
   ]
  },
  {
   "cell_type": "markdown",
   "metadata": {},
   "source": [
    "#### Running Instance:"
   ]
  },
  {
   "cell_type": "raw",
   "metadata": {},
   "source": [
    "1 ]=> (load \"1.2/Example_4/fib_by_iteration.scm\")\n",
    "\n",
    ";Loading \"1.2/Example_4/fib_by_iteration.scm\"... done\n",
    ";Value: fib\n",
    "\n",
    "1 ]=> (fib 20)\n",
    "\n",
    ";Value: 6765\n",
    "\n",
    "1 ]=> (fib 100)\n",
    "\n",
    ";Value: 354224848179261915075"
   ]
  },
  {
   "cell_type": "markdown",
   "metadata": {},
   "source": [
    "## Example 5:Counting change"
   ]
  },
  {
   "cell_type": "markdown",
   "metadata": {},
   "source": [
    "It takes only a bit of cleverness to come up with the iterative Fibonacci algorithm. In contrast, consider the following problem: How many different ways can we make change of $1.00, given half-dollars, quarters, dimes, nickels, and pennies? More generally, can we write a procedure to compute the number of ways to change any given amount of money?"
   ]
  },
  {
   "cell_type": "markdown",
   "metadata": {},
   "source": [
    "This problem has a simple solution as a $recursive$ procedure. Suppose we think of the types of coins available as arranged in some order.Then the following relation holds:"
   ]
  },
  {
   "cell_type": "markdown",
   "metadata": {},
   "source": [
    "The number of ways to change amount a using n kinds of coins equals"
   ]
  },
  {
   "cell_type": "markdown",
   "metadata": {},
   "source": [
    "$\\bullet$ the number of ways to change amount a using all but the first kind of coin, plus"
   ]
  },
  {
   "cell_type": "markdown",
   "metadata": {},
   "source": [
    "$\\bullet$ the number of ways to change amount $a - d$ using all n kinds of coins, where $d$ is the denomination of the first kind of coin."
   ]
  },
  {
   "cell_type": "markdown",
   "metadata": {},
   "source": [
    "To see why this is true, observe that the ways to make change can be divided into two groups: those that do not use any of the first kind of coin, and those that do. Therefore, the total number of ways to make change for some amount is equal to the number of ways to make change for the amount without using any of the first kind of coin, plus the number of ways to make change assuming that we do use the first kind of coin. But the latter number is equal to the number of ways to make change for the amount that remains aer using a coin of the first kind."
   ]
  },
  {
   "cell_type": "markdown",
   "metadata": {},
   "source": [
    "Thus, we can $recursively$ reduce the problem of changing a given amount to the problem of changing smaller amounts using fewer kinds of coins. Consider this reduction rule carefully, and convince yourself that we can use it to describe an algorithm if we specify the following degenerate cases:"
   ]
  },
  {
   "cell_type": "markdown",
   "metadata": {},
   "source": [
    "$\\bullet$ If a is exactly 0, we should count that as 1 way to make change."
   ]
  },
  {
   "cell_type": "markdown",
   "metadata": {},
   "source": [
    "$\\bullet$ If a is less than 0, we should count that as 0 ways to make change."
   ]
  },
  {
   "cell_type": "markdown",
   "metadata": {},
   "source": [
    "$\\bullet$ If n is 0, we should count that as 0 ways to make change."
   ]
  },
  {
   "cell_type": "markdown",
   "metadata": {},
   "source": [
    "We can easily translate this description into a $recursive$ procedure:"
   ]
  },
  {
   "cell_type": "code",
   "execution_count": 10,
   "metadata": {
    "collapsed": false
   },
   "outputs": [
    {
     "name": "stdout",
     "output_type": "stream",
     "text": [
      "(define (first_denomination kinds_of_coins)\r\n",
      "  (cond ((= kinds_of_coins 1) 1)\r\n",
      "        ((= kinds_of_coins 2) 5)\r\n",
      "        ((= kinds_of_coins 3) 10)\r\n",
      "        ((= kinds_of_coins 4) 25)\r\n",
      "        ((= kinds_of_coins 5) 50)))\r\n",
      "\r\n",
      "(define (cc amount kinds_of_coins)\r\n",
      "  (cond ((= amount 0) 1)\r\n",
      "        ((or (< amount 0) (= kinds_of_coins 0)) 0)\r\n",
      "        (else (+ (cc amount (- kinds_of_coins 1))\r\n",
      "                 (cc (- amount (first_denomination kinds_of_coins)) kinds_of_coins)))))\r\n",
      "\r\n",
      "(define (count_change amount)\r\n",
      "  (cc amount 5))\r\n"
     ]
    }
   ],
   "source": [
    "cat 1.2/Example_5/cc_by_recursion.scm"
   ]
  },
  {
   "cell_type": "markdown",
   "metadata": {},
   "source": [
    "#### Running Instance:"
   ]
  },
  {
   "cell_type": "raw",
   "metadata": {},
   "source": [
    "1 ]=> (load \"1.2/Example_5/cc_by_recursion.scm\")\n",
    "\n",
    ";Loading \"1.2/Example_5/cc_by_recursion.scm\"... done\n",
    ";Value: count-change\n",
    "\n",
    "1 ]=> (count-change 100)\n",
    "\n",
    ";Value: 292"
   ]
  },
  {
   "cell_type": "markdown",
   "metadata": {},
   "source": [
    "$count$-$change$ generates a $tree$-$recursive$ process with redundancies similar to those in our first implementation of $fib$. (It will take quite a while for that 292 to be computed.) On the other hand, it is not obvious how to design a better algorithm for computing the result, and we leave this problem as a challenge. The observation that a $tree$-$recursive$ process may be highly inefficient but often easy to specify and understand has led people to propose that one could get the best of both worlds by designing a “smart compiler” that could transform tree-recursive procedures into more efficient procedures that compute the same result."
   ]
  },
  {
   "cell_type": "markdown",
   "metadata": {},
   "source": [
    "## Exercise 1.11: \n",
    "A function $f$ is defined by the rule that"
   ]
  },
  {
   "cell_type": "markdown",
   "metadata": {},
   "source": [
    "\\begin{equation}\n",
    "    f(n)=\n",
    "   \\begin{cases}\n",
    "   n &\\mbox{if n < 3,}\\\\\n",
    "   f(n-1)+2f(n-2)+3f(n-3) &\\mbox{if n $\\ge$ 3.}\n",
    "   \\end{cases}\n",
    "  \\end{equation}"
   ]
  },
  {
   "cell_type": "markdown",
   "metadata": {},
   "source": [
    "Write a procedure that computes $f$ by means of a $recursive$ process.   \n",
    "Write a procedure that computes $f$ by means of an $iterative$ process."
   ]
  },
  {
   "cell_type": "markdown",
   "metadata": {},
   "source": [
    "### Answer:"
   ]
  },
  {
   "cell_type": "markdown",
   "metadata": {},
   "source": [
    "#### I.To compute  $f$  by means of a  $recursive$  process."
   ]
  },
  {
   "cell_type": "code",
   "execution_count": 11,
   "metadata": {
    "collapsed": false
   },
   "outputs": [
    {
     "name": "stdout",
     "output_type": "stream",
     "text": [
      "(define (f n)\r\n",
      "  (if (< n 3) n\r\n",
      "      (+ (f (- n 1))\r\n",
      "         (* (f (- n 2)) 2)\r\n",
      "         (* (f (- n 3)) 3))))\r\n"
     ]
    }
   ],
   "source": [
    "cat 1.2/Exercise_1.11/f_by_recursion.scm"
   ]
  },
  {
   "cell_type": "markdown",
   "metadata": {},
   "source": [
    "#### Running Instance:"
   ]
  },
  {
   "cell_type": "raw",
   "metadata": {},
   "source": [
    "1 ]=> (load \"1.2/Exercise_1.11/f_by_recursion.scm\")\n",
    "\n",
    ";Loading \"1.2/Exercise_1.11/f_by_recursion.scm\"... done\n",
    ";Value: f\n",
    "\n",
    "1 ]=> (f 20)\n",
    "\n",
    ";Value: 10771211"
   ]
  },
  {
   "cell_type": "markdown",
   "metadata": {},
   "source": [
    "#### II.To compute  $f$  by means of a  $iterative$  process."
   ]
  },
  {
   "cell_type": "code",
   "execution_count": 12,
   "metadata": {
    "collapsed": false
   },
   "outputs": [
    {
     "name": "stdout",
     "output_type": "stream",
     "text": [
      "(define (f n)\r\n",
      "  (define (f_iter a b c count)\r\n",
      "    (if (= count 1) b\r\n",
      "        (f_iter (+ a (* 2 b) (* 3 c)) a b (- count 1))))\r\n",
      "  (f_iter 2 1 0 n))\r\n"
     ]
    }
   ],
   "source": [
    "cat 1.2/Exercise_1.11/f_by_iteration.scm"
   ]
  },
  {
   "cell_type": "markdown",
   "metadata": {},
   "source": [
    "#### Running Instance:"
   ]
  },
  {
   "cell_type": "raw",
   "metadata": {},
   "source": [
    "1 ]=> (load \"1.2/Exercise_1.11/f_by_iteration.scm\")\n",
    "\n",
    ";Loading \"1.2/Exercise_1.11/f_by_iteration.scm\"... done\n",
    ";Value: f\n",
    "\n",
    "1 ]=> (f 50)\n",
    "\n",
    ";Value: 1990726300381593467\n",
    "\n",
    "1 ]=> (f 100)\n",
    "\n",
    ";Value: 11937765839880230562825561449279733086"
   ]
  },
  {
   "cell_type": "markdown",
   "metadata": {},
   "source": [
    "## Exercise 1.12: \n",
    "The following pattern of numbers is called $Pascal’s$ $triangle$."
   ]
  },
  {
   "cell_type": "raw",
   "metadata": {},
   "source": [
    "                1\n",
    "              1    1\n",
    "            1    2    1\n",
    "          1    3    3    1\n",
    "        1    4    6    4    1\n",
    "              .  .  ."
   ]
  },
  {
   "cell_type": "markdown",
   "metadata": {},
   "source": [
    "The numbers at the edge of the triangle are all 1, and each number inside the triangle is the sum of the two numbers above it.Write a procedure that computes elements of $Pascal’s$ $triangle$ by means of a $recursive$ process."
   ]
  },
  {
   "cell_type": "markdown",
   "metadata": {},
   "source": [
    "### Answer:"
   ]
  },
  {
   "cell_type": "markdown",
   "metadata": {},
   "source": [
    "#### I.To comput elements of $Pascal’s$ $triangle$ by means of a $recursive$ process."
   ]
  },
  {
   "cell_type": "code",
   "execution_count": 14,
   "metadata": {
    "collapsed": false
   },
   "outputs": [
    {
     "name": "stdout",
     "output_type": "stream",
     "text": [
      "(define (pascal row col)\r\n",
      "  (cond ((< row col)\r\n",
      "         (error \"unvalid colum value\"))\r\n",
      "        ((or (= col 0) (= row col)) 1)\r\n",
      "        (else (+ (pascal (- row 1) (- col 1))\r\n",
      "                 (pascal (- row 1) col)))))\r\n"
     ]
    }
   ],
   "source": [
    "cat 1.2/Exercise_1.12/pascal_by_recursion.scm"
   ]
  },
  {
   "cell_type": "markdown",
   "metadata": {},
   "source": [
    "#### Running Instance:"
   ]
  },
  {
   "cell_type": "raw",
   "metadata": {},
   "source": [
    "1 ]=> (load \"1.2/Exercise_1.12/pascal_by_recursion.scm\")\n",
    "\n",
    ";Loading \"1.2/Exercise_1.12/pascal_by_recursion.scm\"... done\n",
    ";Value: pascal\n",
    "\n",
    "1 ]=> (pascal 20 10)\n",
    "\n",
    ";Value: 184756"
   ]
  },
  {
   "cell_type": "markdown",
   "metadata": {},
   "source": [
    "#### II.To comput elements of $Pascal’s$ $triangle$ by means of a $iterative$ process."
   ]
  },
  {
   "cell_type": "code",
   "execution_count": 16,
   "metadata": {
    "collapsed": false
   },
   "outputs": [
    {
     "name": "stdout",
     "output_type": "stream",
     "text": [
      "(load \"1.2/Example_3/factorial_by_iteration.scm\")\r\n",
      "(define (pascal row col)\r\n",
      "  (cond ((< row col)\r\n",
      "       (error \"unvalid colum value.\"))\r\n",
      "        (else (/ (factorial row)\r\n",
      "    \t         (* (factorial col) (factorial (- row col)))))))\r\n"
     ]
    }
   ],
   "source": [
    "cat 1.2/Exercise_1.12/pascal_by_iteration.scm"
   ]
  },
  {
   "cell_type": "markdown",
   "metadata": {},
   "source": [
    "#### Running Instance:"
   ]
  },
  {
   "cell_type": "raw",
   "metadata": {},
   "source": [
    "1 ]=> (load \"1.2/Exercise_1.12/pascal_by_iteration.scm\")\n",
    "\n",
    ";Loading \"1.2/Exercise_1.12/pascal_by_iteration.scm\"...\n",
    ";  Loading \"1.2/Example_3/factorial_by_iteration.scm\"... done\n",
    ";... done\n",
    ";Value: pascal\n",
    "\n",
    "1 ]=> (pascal 20 10)\n",
    "\n",
    ";Value: 184756\n",
    "\n",
    "1 ]=> (pascal 30 15)\n",
    "\n",
    ";Value: 155117520"
   ]
  },
  {
   "cell_type": "markdown",
   "metadata": {},
   "source": [
    "## Exercise 1.13: \n",
    "Prove that $Fib(n)$ is the closest integer to $\\varphi^n/\\sqrt{5}$,where $\\varphi=(1+\\sqrt{5})/2$.  \n",
    "Hint: Let $\\psi=(1-\\sqrt{5})/2$.  \n",
    "Use induction and the definition of the $Fibonacci$ numbers (see Section 1.2.2) to prove that $Fib(n)=(\\varphi^n-\\psi^n)/\\sqrt{5}$."
   ]
  },
  {
   "cell_type": "markdown",
   "metadata": {},
   "source": [
    "## Exercise 1.14: \n",
    "Draw the tree illustrating the process generated by the $count$-$change$ procedure of Section 1.2.2 in making change for 11 cents. What are the orders of growth of the space and number of steps used by this process as the amount to be changed increases?"
   ]
  },
  {
   "cell_type": "markdown",
   "metadata": {},
   "source": [
    "## Exercise 1.15: \n",
    "The $sine$ of an angle (specified in radians) can be computed by making use of the approximation $sinx \\approx x$ if $x$ is sufficiently small, and the trigonometric identity"
   ]
  },
  {
   "cell_type": "markdown",
   "metadata": {},
   "source": [
    "$$sinx=3sin\\frac{x}{3}-4sin^3\\frac{x}{3}$$"
   ]
  },
  {
   "cell_type": "markdown",
   "metadata": {},
   "source": [
    "to reduce the size of the argument of $sin$. (For purposes of this exercise an angle is considered “sufficiently small” if its magnitude is not greater than 0.1 radians.) These ideas are incorporated in the following procedures:"
   ]
  },
  {
   "cell_type": "raw",
   "metadata": {},
   "source": [
    "(define (cube x) (* x x x))\n",
    "(define (p x) (- (* 3 x) (* 4 (cube x))))\n",
    "(define (sine angle)\n",
    "  (if (not (> (abs angle) 0.1)) angle\n",
    "`    (p (sine (/ angle 3.0)))))"
   ]
  },
  {
   "cell_type": "markdown",
   "metadata": {},
   "source": [
    "a. How many times is the procedure $p$ applied when (sine 12.15) is evaluated?"
   ]
  },
  {
   "cell_type": "markdown",
   "metadata": {},
   "source": [
    "b. What is the order of growth in space and number of steps (as a function of $a$) used by the process generated\n",
    "by the $sine$ procedure when (sine a) is evaluated?"
   ]
  },
  {
   "cell_type": "markdown",
   "metadata": {},
   "source": [
    "### 解答："
   ]
  },
  {
   "cell_type": "markdown",
   "metadata": {},
   "source": [
    "a.根据上述sine过程计算(sine 12.15):"
   ]
  },
  {
   "cell_type": "code",
   "execution_count": 17,
   "metadata": {
    "collapsed": false
   },
   "outputs": [
    {
     "name": "stdout",
     "output_type": "stream",
     "text": [
      "(define (cube x) (* x x x))\r\n",
      "(define (p x) (- (* 3 x) (* 4 (cube x))))\r\n",
      "(define (sine angle)\r\n",
      "  (if (not (> (abs angle) 0.1)) angle\r\n",
      "           (p (sine (/ angle 3.0)))))\r\n"
     ]
    }
   ],
   "source": [
    "cat 1.2/Exercise_1.15/sine_by_recursion.scm"
   ]
  },
  {
   "cell_type": "markdown",
   "metadata": {},
   "source": [
    "#### Running Instance:"
   ]
  },
  {
   "cell_type": "raw",
   "metadata": {},
   "source": [
    "1 ]=> (load \"1.2/Exercise_1.15/sine_by_recursion.scm\")\n",
    "\n",
    ";Loading \"1.2/Exercise_1.15/sine_by_recursion.scm\"... done\n",
    ";Value: sine\n",
    "\n",
    "1 ]=> (trace-entry sine)\n",
    "\n",
    ";Unspecified return value\n",
    "\n",
    "1 ]=> (trace-entry p)\n",
    "\n",
    ";Unspecified return value\n",
    "\n",
    "1 ]=> (sine 12.15)\n",
    "\n",
    "[Entering #[compound-procedure 13 sine]\n",
    "    Args: 12.15]\n",
    "[Entering #[compound-procedure 13 sine]\n",
    "    Args: 4.05]\n",
    "[Entering #[compound-procedure 13 sine]\n",
    "    Args: 1.3499999999999999]\n",
    "[Entering #[compound-procedure 13 sine]\n",
    "    Args: .44999999999999996]\n",
    "[Entering #[compound-procedure 13 sine]\n",
    "    Args: .15]\n",
    "[Entering #[compound-procedure 13 sine]\n",
    "    Args: 4.9999999999999996e-2]\n",
    "[Entering #[compound-procedure 14 p]\n",
    "    Args: 4.9999999999999996e-2]\n",
    "[Entering #[compound-procedure 14 p]\n",
    "    Args: .1495]\n",
    "[Entering #[compound-procedure 14 p]\n",
    "    Args: .4351345505]\n",
    "[Entering #[compound-procedure 14 p]\n",
    "    Args: .9758465331678772]\n",
    "[Entering #[compound-procedure 14 p]\n",
    "    Args: -.7895631144708228]\n",
    ";Value: -.39980345741334"
   ]
  },
  {
   "cell_type": "markdown",
   "metadata": {},
   "source": [
    "The procedure $p$ applied when (sine 12.15) is evaluated is 5 times."
   ]
  },
  {
   "cell_type": "markdown",
   "metadata": {},
   "source": [
    "b.在求值(sine a)的时候，每次a都被除以3.0，而sine是一个时间和空间复杂度都是$\\Theta(loga)$的递归过程；那么每次当a翻倍(准确地说是乘以因子3)时，$p$的运行次数就会增加一次,例如:"
   ]
  },
  {
   "cell_type": "markdown",
   "metadata": {},
   "source": [
    "计算(sine 100)时，$p$执行了7次"
   ]
  },
  {
   "cell_type": "raw",
   "metadata": {},
   "source": [
    "1 ]=> (sine 100)\n",
    "\n",
    "[Entering #[compound-procedure 13 p]\n",
    "    Args: 4.5724737082761785e-2]\n",
    "[Entering #[compound-procedure 13 p]\n",
    "    Args: .13679181498284637]\n",
    "[Entering #[compound-procedure 13 p]\n",
    "    Args: .4001368508270681]\n",
    "[Entering #[compound-procedure 13 p]\n",
    "    Args: .9441477089878672]\n",
    "[Entering #[compound-procedure 13 p]\n",
    "    Args: -.5340662017623155]\n",
    "[Entering #[compound-procedure 13 p]\n",
    "    Args: -.9928788272447971]\n",
    "[Entering #[compound-procedure 13 p]\n",
    "    Args: .9365165339300328]\n",
    ";Value: -.4759872192603569"
   ]
  },
  {
   "cell_type": "markdown",
   "metadata": {},
   "source": [
    "计算(sine 300)时，p执行了8次"
   ]
  },
  {
   "cell_type": "raw",
   "metadata": {},
   "source": [
    "1 ]=> (sine 300)\n",
    "\n",
    "[Entering #[compound-procedure 13 p]\n",
    "    Args: 4.5724737082761785e-2]\n",
    "[Entering #[compound-procedure 13 p]\n",
    "    Args: .13679181498284637]\n",
    "[Entering #[compound-procedure 13 p]\n",
    "    Args: .4001368508270681]\n",
    "[Entering #[compound-procedure 13 p]\n",
    "    Args: .9441477089878672]\n",
    "[Entering #[compound-procedure 13 p]\n",
    "    Args: -.5340662017623155]\n",
    "[Entering #[compound-procedure 13 p]\n",
    "    Args: -.9928788272447971]\n",
    "[Entering #[compound-procedure 13 p]\n",
    "    Args: .9365165339300328]\n",
    "[Entering #[compound-procedure 13 p]\n",
    "    Args: -.4759872192603569]\n",
    ";Value: -.9965957025544238"
   ]
  },
  {
   "cell_type": "markdown",
   "metadata": {},
   "source": [
    "计算(sine 900)时，$p$执行了9次"
   ]
  },
  {
   "cell_type": "raw",
   "metadata": {},
   "source": [
    "1 ]=> (sine 900)\n",
    "\n",
    "[Entering #[compound-procedure 13 p]\n",
    "    Args: 4.5724737082761785e-2]\n",
    "[Entering #[compound-procedure 13 p]\n",
    "    Args: .13679181498284637]\n",
    "[Entering #[compound-procedure 13 p]\n",
    "    Args: .4001368508270681]\n",
    "[Entering #[compound-procedure 13 p]\n",
    "    Args: .9441477089878672]\n",
    "[Entering #[compound-procedure 13 p]\n",
    "    Args: -.5340662017623155]\n",
    "[Entering #[compound-procedure 13 p]\n",
    "    Args: -.9928788272447971]\n",
    "[Entering #[compound-procedure 13 p]\n",
    "    Args: .9365165339300328]\n",
    "[Entering #[compound-procedure 13 p]\n",
    "    Args: -.4759872192603569]\n",
    "[Entering #[compound-procedure 13 p]\n",
    "    Args: -.9965957025544238]\n",
    ";Value: .9695002360700937"
   ]
  },
  {
   "cell_type": "markdown",
   "metadata": {},
   "source": [
    "计算(sine 2700)时，$p$执行了10次"
   ]
  },
  {
   "cell_type": "raw",
   "metadata": {},
   "source": [
    "1 ]=> (sine 2700)\n",
    "\n",
    "[Entering #[compound-procedure 13 p]\n",
    "    Args: 4.5724737082761785e-2]\n",
    "[Entering #[compound-procedure 13 p]\n",
    "    Args: .13679181498284637]\n",
    "[Entering #[compound-procedure 13 p]\n",
    "    Args: .4001368508270681]\n",
    "[Entering #[compound-procedure 13 p]\n",
    "    Args: .9441477089878672]\n",
    "[Entering #[compound-procedure 13 p]\n",
    "    Args: -.5340662017623155]\n",
    "[Entering #[compound-procedure 13 p]\n",
    "    Args: -.9928788272447971]\n",
    "[Entering #[compound-procedure 13 p]\n",
    "    Args: .9365165339300328]\n",
    "[Entering #[compound-procedure 13 p]\n",
    "    Args: -.4759872192603569]\n",
    "[Entering #[compound-procedure 13 p]\n",
    "    Args: -.9965957025544238]\n",
    "[Entering #[compound-procedure 13 p]\n",
    "    Args: .9695002360700937]\n",
    ";Value: -.7365514639634339"
   ]
  },
  {
   "cell_type": "markdown",
   "metadata": {},
   "source": [
    "## Example 6: Exponentiation"
   ]
  },
  {
   "cell_type": "markdown",
   "metadata": {},
   "source": [
    "Consider the problem of computing the $exponential$ of a given number. We would like a procedure that takes as arguments a base $b$ and a positive integer exponent $n$ and computes $b^n$. One way to do this is via the\n",
    "$recursive$ definition"
   ]
  },
  {
   "cell_type": "markdown",
   "metadata": {},
   "source": [
    "\\begin{aligned}\n",
    "& b^n=b \\cdot b^{n-1},\\\\\n",
    "&b^0=1,\n",
    "\\end{aligned}"
   ]
  },
  {
   "cell_type": "markdown",
   "metadata": {},
   "source": [
    "which translates readily into the procedure"
   ]
  },
  {
   "cell_type": "code",
   "execution_count": 18,
   "metadata": {
    "collapsed": false
   },
   "outputs": [
    {
     "name": "stdout",
     "output_type": "stream",
     "text": [
      "(define (expt b n)\r\n",
      "  (if (= n 0) 1\r\n",
      "      (* b (expt b (- n 1)))))\r\n"
     ]
    }
   ],
   "source": [
    "cat 1.2/Example_6/expt_by_recursion.scm"
   ]
  },
  {
   "cell_type": "markdown",
   "metadata": {},
   "source": [
    "#### Running Instance:"
   ]
  },
  {
   "cell_type": "raw",
   "metadata": {},
   "source": [
    "1 ]=> (load \"1.2/Example_6/expt_by_recursion.scm\")\n",
    "\n",
    ";Loading \"1.2/Example_6/expt_by_recursion.scm\"... done\n",
    ";Value: expt\n",
    "\n",
    "1 ]=> (expt 2 64)\n",
    "\n",
    ";Value: 18446744073709551616"
   ]
  },
  {
   "cell_type": "markdown",
   "metadata": {},
   "source": [
    "This is a $linear$ $recursive$ process, which requires $\\Theta(n)$ steps and $\\Theta(n)$ space. Just as with factorial, we can readily formulate an equivalent $linear$ $iteration$:"
   ]
  },
  {
   "cell_type": "code",
   "execution_count": 19,
   "metadata": {
    "collapsed": false
   },
   "outputs": [
    {
     "name": "stdout",
     "output_type": "stream",
     "text": [
      "(define (expt b n)\r\n",
      "  (define (expt-iter b product counter )\r\n",
      "    (if (= counter 0) product\r\n",
      "        (expt-iter b (* b product) (- counter 1))))\r\n",
      "  (expt-iter b 1 n))\r\n"
     ]
    }
   ],
   "source": [
    "cat 1.2/Example_6/expt_by_iteration.scm"
   ]
  },
  {
   "cell_type": "markdown",
   "metadata": {},
   "source": [
    "#### Running Instance:"
   ]
  },
  {
   "cell_type": "raw",
   "metadata": {},
   "source": [
    "1 ]=> (load \"1.2/Example_6/expt_by_iteration.scm\")\n",
    "\n",
    ";Loading \"1.2/Example_6/expt_by_iteration.scm\"... done\n",
    ";Value: expt\n",
    "\n",
    "1 ]=> (expt 2 64)\n",
    "\n",
    ";Value: 18446744073709551616"
   ]
  },
  {
   "cell_type": "markdown",
   "metadata": {},
   "source": [
    "This version requires $\\Theta(n)$ steps and $\\Theta(1)$ space."
   ]
  },
  {
   "cell_type": "markdown",
   "metadata": {},
   "source": [
    "We can compute $exponentials$ in fewer steps by using successive squaring.   \n",
    "For instance, rather than computing $b^8$ as"
   ]
  },
  {
   "cell_type": "markdown",
   "metadata": {},
   "source": [
    "$$b\\cdot(b\\cdot(b\\cdot(b\\cdot(b\\cdot(b\\cdot(b\\cdot b)))))),$$"
   ]
  },
  {
   "cell_type": "markdown",
   "metadata": {},
   "source": [
    "we can compute it using three multiplications:"
   ]
  },
  {
   "cell_type": "markdown",
   "metadata": {},
   "source": [
    "\\begin{aligned}\n",
    "& b^2=b \\cdot b,\\\\\n",
    "& b^4=b^2 \\cdot b^2,\\\\\n",
    "& b^8=b^4 \\cdot b^4.\n",
    "\\end{aligned}"
   ]
  },
  {
   "cell_type": "markdown",
   "metadata": {},
   "source": [
    "This method works fine for exponents that are powers of 2.   \n",
    "We can also take advantage of successive squaring in computing exponentials in general if we use the rule"
   ]
  },
  {
   "cell_type": "markdown",
   "metadata": {},
   "source": [
    "\\begin{alignat}{2}\n",
    "& b^n=(b^{n/2})^2 &\\quad &\\mbox{if n is even.}\\\\\n",
    "& b^n=b \\cdot b^{n-1} &\\quad &\\mbox{if n is odd.}\n",
    "\\end{alignat}"
   ]
  },
  {
   "cell_type": "markdown",
   "metadata": {},
   "source": [
    "We can express this method as a $recursive$ procedure:"
   ]
  },
  {
   "cell_type": "code",
   "execution_count": 21,
   "metadata": {
    "collapsed": false
   },
   "outputs": [
    {
     "name": "stdout",
     "output_type": "stream",
     "text": [
      "(define (fast-expt b n)\r\n",
      "  (cond ((= n 0) 1)\r\n",
      "        ((even? n) (square (fast-expt b (/ n 2))))\r\n",
      "        (else (* b (fast-expt b (- n 1))))))\r\n"
     ]
    }
   ],
   "source": [
    "cat 1.2/Example_6/fast_expt_by_recursion.scm"
   ]
  },
  {
   "cell_type": "markdown",
   "metadata": {},
   "source": [
    "#### Running Instance:"
   ]
  },
  {
   "cell_type": "raw",
   "metadata": {},
   "source": [
    "1 ]=> (load \"1.2/Example_6/fast_expt_by_recursion.scm\")\n",
    "\n",
    ";Loading \"1.2/Example_6/fast_expt_by_recursion.scm\"... done\n",
    ";Value: fast-expt\n",
    "\n",
    "1 ]=> (fast-expt 2 64)\n",
    "\n",
    ";Value: 18446744073709551616\n",
    "\n",
    "1 ]=> (fast-expt 2 128)\n",
    "\n",
    ";Value: 340282366920938463463374607431768211456"
   ]
  },
  {
   "cell_type": "markdown",
   "metadata": {},
   "source": [
    "The process evolved by $fast$-$expt$ grows logarithmically with $n$ in both space and number of steps."
   ]
  },
  {
   "cell_type": "markdown",
   "metadata": {},
   "source": [
    "#### Supplement:"
   ]
  },
  {
   "cell_type": "markdown",
   "metadata": {},
   "source": [
    "We can observe how many times is the $fast$-$expt$ procedure applied when ($fast$-$expt$ $3$ $2^n$) is evaluated:"
   ]
  },
  {
   "cell_type": "markdown",
   "metadata": {},
   "source": [
    "To evaluate (fast-expt 3 2),here $2=2^1$,  \n",
    "The $fast$-$expt$ procedure is applied 3 times."
   ]
  },
  {
   "cell_type": "raw",
   "metadata": {},
   "source": [
    "1 ]=> (fast-expt 3 2)\n",
    "\n",
    "[Entering #[compound-procedure 14 fast-expt]\n",
    "    Args: 3\n",
    "        2]\n",
    "[Entering #[compound-procedure 14 fast-expt]\n",
    "    Args: 3\n",
    "        1]\n",
    "[Entering #[compound-procedure 14 fast-expt]\n",
    "    Args: 3\n",
    "        0]\n",
    ";Value: 9"
   ]
  },
  {
   "cell_type": "markdown",
   "metadata": {},
   "source": [
    "To evaluate (fast-expt 3 4),here $4=2^2$.  \n",
    "The $fast$-$expt$ procedure is applied 4 times."
   ]
  },
  {
   "cell_type": "raw",
   "metadata": {},
   "source": [
    "1 ]=> (fast-expt 3 4)\n",
    "\n",
    "[Entering #[compound-procedure 14 fast-expt]\n",
    "    Args: 3\n",
    "        4]\n",
    "[Entering #[compound-procedure 14 fast-expt]\n",
    "    Args: 3\n",
    "        2]\n",
    "[Entering #[compound-procedure 14 fast-expt]\n",
    "    Args: 3\n",
    "        1]\n",
    "[Entering #[compound-procedure 14 fast-expt]\n",
    "    Args: 3\n",
    "        0]\n",
    ";Value: 81"
   ]
  },
  {
   "cell_type": "markdown",
   "metadata": {},
   "source": [
    "To evaluate (fast-expt 3 8),here $8=2^3$.  \n",
    "The $fast$-$expt$ procedure is applied 5 times."
   ]
  },
  {
   "cell_type": "raw",
   "metadata": {},
   "source": [
    "1 ]=> (fast-expt 3 8)\n",
    "\n",
    "[Entering #[compound-procedure 14 fast-expt]\n",
    "    Args: 3\n",
    "        8]\n",
    "[Entering #[compound-procedure 14 fast-expt]\n",
    "    Args: 3\n",
    "        4]\n",
    "[Entering #[compound-procedure 14 fast-expt]\n",
    "    Args: 3\n",
    "        2]\n",
    "[Entering #[compound-procedure 14 fast-expt]\n",
    "    Args: 3\n",
    "        1]\n",
    "[Entering #[compound-procedure 14 fast-expt]\n",
    "    Args: 3\n",
    "        0]\n",
    ";Value: 6561"
   ]
  },
  {
   "cell_type": "markdown",
   "metadata": {},
   "source": [
    "To evaluate (fast-expt 3 16),here $16=2^4$.  \n",
    "The $fast$-$expt$ procedure is applied 6 times."
   ]
  },
  {
   "cell_type": "raw",
   "metadata": {},
   "source": [
    "1 ]=> (fast-expt 3 16)\n",
    "\n",
    "[Entering #[compound-procedure 14 fast-expt]\n",
    "    Args: 3\n",
    "        16]\n",
    "[Entering #[compound-procedure 14 fast-expt]\n",
    "    Args: 3\n",
    "        8]\n",
    "[Entering #[compound-procedure 14 fast-expt]\n",
    "    Args: 3\n",
    "        4]\n",
    "[Entering #[compound-procedure 14 fast-expt]\n",
    "    Args: 3\n",
    "        2]\n",
    "[Entering #[compound-procedure 14 fast-expt]\n",
    "    Args: 3\n",
    "        1]\n",
    "[Entering #[compound-procedure 14 fast-expt]\n",
    "    Args: 3\n",
    "        0]\n",
    ";Value: 43046721"
   ]
  },
  {
   "cell_type": "markdown",
   "metadata": {},
   "source": [
    "## Exercise 1.16: \n",
    "Design a procedure that evolves an $iterative$ $exponentiation$ process that uses successive squaring and uses a logarithmic number of steps, as does $fast$-$expt$.(Hint: Using the observation that $(b^{n/2})^2 = (b^2)^{n/2}$, keep, along with the exponent $n$ and the base $b$, an additional state variable $a$, and define the state transformation in such a way that the product $ab^n$ is unchanged from state to state. At the beginning of the process $a$ is taken to be 1, and the answer is given by the value of $a$ at the end of the process. In general, the technique of defining an $invariant$ $quantity$ that remains unchanged from state to state is a powerful way to think about the design of iterative algorithms.)"
   ]
  },
  {
   "cell_type": "markdown",
   "metadata": {},
   "source": [
    "### Answer:"
   ]
  },
  {
   "cell_type": "code",
   "execution_count": 22,
   "metadata": {
    "collapsed": false
   },
   "outputs": [
    {
     "name": "stdout",
     "output_type": "stream",
     "text": [
      "(define (fast_expt b n)\r\n",
      "  (define (iter b n a)\r\n",
      "    (cond ((= n 0) a)\r\n",
      "          ((even? n) (iter (square b) (/ n 2) a))\r\n",
      "          (else (iter b (- n 1) (* b a)))))\r\n",
      "  (iter b n 1))\r\n"
     ]
    }
   ],
   "source": [
    "cat 1.2/Exercise_1.16/fast_expt_by_iteration.scm"
   ]
  },
  {
   "cell_type": "markdown",
   "metadata": {},
   "source": [
    "#### Running Instance:"
   ]
  },
  {
   "cell_type": "raw",
   "metadata": {},
   "source": [
    "1 ]=> (load \"1.2/Exercise_1.16/fast_expt_by_iteration.scm\")\n",
    "\n",
    ";Loading \"1.2/Exercise_1.16/fast_expt_by_iteration.scm\"... done\n",
    ";Value: fast_expt\n",
    "\n",
    "1 ]=> (fast-expt 3 9)\n",
    "\n",
    ";Value: 19683"
   ]
  },
  {
   "cell_type": "markdown",
   "metadata": {},
   "source": [
    "We can use the substitution model to watch $fast$-$expt$ procedure given above in action computing $3^{9}$,:"
   ]
  },
  {
   "cell_type": "raw",
   "metadata": {},
   "source": [
    "(fast-expt 3  9)\n",
    "(iter   3  9  1)\n",
    "(iter   3  8  3)\n",
    "(iter   9  4  3)\n",
    "(iter`  81  2  3)\n",
    "(iter 6561  1  3)\n",
    "(iter 6561  0  19683)\n",
    "19683"
   ]
  },
  {
   "cell_type": "markdown",
   "metadata": {},
   "source": [
    "## Exercise 1.17: \n",
    "The $exponentiation$ algorithms in this section are based on performing exponentiation by means of repeated multiplication. In a similar way, one can perform integer multiplication by means of repeated addition. The following multiplication procedure (in which it is assumed that our language can only add, $not$ multiply) is analogous to the expt procedure:"
   ]
  },
  {
   "cell_type": "raw",
   "metadata": {},
   "source": [
    "(define (* a b)\n",
    "  (if (= b 0) 0 (+ a (* a (- b 1)))))"
   ]
  },
  {
   "cell_type": "markdown",
   "metadata": {},
   "source": [
    "This algorithm takes a number of steps that is linear in b.Now suppose we include, together with $addition$, operations $double$, which doubles an integer, and $halve$, which divides an (even) integer by 2. Using these, design a multiplication procedure analogous to $fast$-$expt$ that uses a logarithmic number of steps."
   ]
  },
  {
   "cell_type": "markdown",
   "metadata": {},
   "source": [
    "### Answer:"
   ]
  },
  {
   "cell_type": "code",
   "execution_count": 23,
   "metadata": {
    "collapsed": false
   },
   "outputs": [
    {
     "name": "stdout",
     "output_type": "stream",
     "text": [
      "(define (double n) (* n 2))\r\n",
      "(define (halve n) (/ n 2))\r\n",
      "(define (fast-multi a b)\r\n",
      "  (cond ((= b 0) 0)\r\n",
      "        ((even? b) (double (fast-multi a (halve b))))\r\n",
      "        (else (+ a (fast-multi a (- b 1))))))\r\n"
     ]
    }
   ],
   "source": [
    "cat 1.2/Exercise_1.17/multi_by_recursion.scm"
   ]
  },
  {
   "cell_type": "markdown",
   "metadata": {},
   "source": [
    "#### Running Instance:"
   ]
  },
  {
   "cell_type": "raw",
   "metadata": {},
   "source": [
    "1 ]=> (load \"1.2/Exercise_1.17/multi_by_recursion.scm\")\n",
    "\n",
    ";Loading \"1.2/Exercise_1.17/multi_by_recursion.scm\"... done\n",
    ";Value: fast-multi\n",
    "\n",
    "1 ]=> (fast-multi 17 33)\n",
    "\n",
    ";Value: 561"
   ]
  },
  {
   "cell_type": "markdown",
   "metadata": {},
   "source": [
    "## Exercise 1.18: \n",
    "Using the results of Exercise 1.16 and Exercise 1.17, devise a procedure that generates an $iterative$ process for multiplying two integers in terms of $adding$, $doubling$, and $halving$ and uses a logarithmic number of steps."
   ]
  },
  {
   "cell_type": "code",
   "execution_count": 25,
   "metadata": {
    "collapsed": false
   },
   "outputs": [
    {
     "name": "stdout",
     "output_type": "stream",
     "text": [
      "(define (fast_multi a b)\r\n",
      "  (define (double n) (* n 2))\r\n",
      "  (define (halve n) (/ n 2))\r\n",
      "  (define (iter a count summation)\r\n",
      "    (cond ((= count 0) summation)\r\n",
      "          ((even? count) \r\n",
      "           (iter (double a) (halve count) summation))\r\n",
      "          (else (iter a (- count 1) (+ a summation)))))\r\n",
      "  (iter a b 0))\r\n"
     ]
    }
   ],
   "source": [
    "cat 1.2/Exercise_1.18/multi_by_iteration.scm"
   ]
  },
  {
   "cell_type": "markdown",
   "metadata": {},
   "source": [
    "#### Running Instance:"
   ]
  },
  {
   "cell_type": "raw",
   "metadata": {},
   "source": [
    "1 ]=> (load \"1.2/Exercise_1.18/multi_by_iteration.scm\")\n",
    "\n",
    ";Loading \"1.2/Exercise_1.18/multi_by_iteration.scm\"... done\n",
    ";Value: fast_multi\n",
    "\n",
    "1 ]=> (fast-multi 17 33)\n",
    "\n",
    ";Value: 561"
   ]
  },
  {
   "cell_type": "markdown",
   "metadata": {},
   "source": [
    "## Exercise 1.19: \n",
    "There is a clever algorithm for computing the $Fibonacci$ numbers in a $logarithmic$ number of steps.Recall the transformation of the state variables $a$ and $b$ in the $fib$-$iter$ process of Section 1.2.2:"
   ]
  },
  {
   "cell_type": "markdown",
   "metadata": {},
   "source": [
    "\\begin{aligned}\n",
    "& a \\leftarrow a + b, \\\\\n",
    "& b \\leftarrow a.\n",
    "\\end{aligned}"
   ]
  },
  {
   "cell_type": "markdown",
   "metadata": {},
   "source": [
    "Call this transformation $T$ , and observe that applying $T$ over and over again n times, starting with 1 and 0, produces the pair $Fib(n$ + $1)$ and $Fib(n)$.In other words, the $Fibonacci$ numbers are produced by applying $T^n$,the $n^{th}$ power of the transformation $T$,starting with the pair $(1,\\,0)$.Now consider $T$ to be the special case of $p = 0$ and $q = 1$ in a family of transformations $T_{pq}$,where $T_{pq}$ transforms the pair $(a,\\,b)$ according to"
   ]
  },
  {
   "cell_type": "markdown",
   "metadata": {},
   "source": [
    "\\begin{aligned}\n",
    "& a \\leftarrow bq + aq + ap,\\\\\n",
    "& b \\leftarrow bp + aq.\n",
    "\\end{aligned}"
   ]
  },
  {
   "cell_type": "markdown",
   "metadata": {},
   "source": [
    "Show that if we apply such a transformation $T_{pq}$ twice, the effect is the same as using a single transformation $T_{p'q'}$ of the same form, and compute $p'$ and $q'$ in terms of $p$ and $q$.This gives us an explicit way to square these transformations,and thus we can compute $T^n$ using successive squaring, as in the $fast$-$expt$ procedure.Put this all together to complete the following procedure, which runs in a logarithmic number of steps:"
   ]
  },
  {
   "cell_type": "raw",
   "metadata": {},
   "source": [
    "(define (fib n)\n",
    "  (fib-iter 1 0 0 1 n))\n",
    "(define (fib-iter a b p q count)\n",
    "  (cond ((= count 0) b)\n",
    "      ((even? count)\n",
    "`      (fib-iter a\n",
    "             b\n",
    "             ⟨??⟩ ; compute p′\n",
    "             ⟨??⟩ ; compute q′\n",
    "             (/ count 2)))\n",
    "      (else (fib-iter (+ (* b q) (* a q) (* a p))\n",
    "`                (+ (* b p) (* a q))\n",
    "                 p\n",
    "                 q\n",
    "                 (- count 1)))))"
   ]
  },
  {
   "cell_type": "markdown",
   "metadata": {},
   "source": [
    "### Answer:"
   ]
  },
  {
   "cell_type": "markdown",
   "metadata": {},
   "source": [
    "Due to $T$ transformation is"
   ]
  },
  {
   "cell_type": "markdown",
   "metadata": {},
   "source": [
    "\\begin{aligned}\n",
    "& a \\leftarrow bq + a(p + q)\\\\\n",
    "& b \\leftarrow bp + aq\n",
    "\\end{aligned}"
   ]
  },
  {
   "cell_type": "markdown",
   "metadata": {},
   "source": [
    "then $T^2$ transformation is"
   ]
  },
  {
   "cell_type": "markdown",
   "metadata": {},
   "source": [
    "\\begin{aligned}\n",
    "& a' \\leftarrow (bp + aq)q + (bq + a(p + q))(p+q)\\\\\n",
    "& b' \\leftarrow (bp +aq)p + (bq + a(p + q))q\n",
    "\\end{aligned}"
   ]
  },
  {
   "cell_type": "markdown",
   "metadata": {},
   "source": [
    "After simple mathematical transformation,$T^2$ transformation is"
   ]
  },
  {
   "cell_type": "markdown",
   "metadata": {},
   "source": [
    "\\begin{aligned}\n",
    "& a' \\leftarrow b(2pq + q^2) + a(p^2 + q^2 + 2pq + q^2)\\\\\n",
    "& b' \\leftarrow b(p^2 + q^2) + a(2pq + q^2)\n",
    "\\end{aligned}"
   ]
  },
  {
   "cell_type": "markdown",
   "metadata": {},
   "source": [
    "However,$T^2$ transformation was defined as"
   ]
  },
  {
   "cell_type": "markdown",
   "metadata": {},
   "source": [
    "\\begin{aligned}\n",
    "& a' \\leftarrow bq' + a(p' + q')\\\\\n",
    "& b' \\leftarrow bp' + aq'\n",
    "\\end{aligned}"
   ]
  },
  {
   "cell_type": "markdown",
   "metadata": {},
   "source": [
    "So we can get"
   ]
  },
  {
   "cell_type": "markdown",
   "metadata": {},
   "source": [
    "\\begin{aligned}\n",
    "& p' \\leftarrow p^2 + q^2\\\\\n",
    "& q' \\leftarrow 2pq + q^2\n",
    "\\end{aligned}"
   ]
  },
  {
   "cell_type": "markdown",
   "metadata": {},
   "source": [
    "So we got the whole procedure, which runs in a logarithmic number of steps:"
   ]
  },
  {
   "cell_type": "code",
   "execution_count": 26,
   "metadata": {
    "collapsed": false
   },
   "outputs": [
    {
     "name": "stdout",
     "output_type": "stream",
     "text": [
      "(define (fib_iter a b p q count)\r\n",
      "  (cond ((= count 0) b)\r\n",
      "        ((even? count)\r\n",
      "         (fib_iter a \r\n",
      "                   b\r\n",
      "                   (+ (square p) (square q)) \r\n",
      "                   (+ (* 2 p q) (square q)) \r\n",
      "                   (/ count 2)))\r\n",
      "        (else (fib_iter (+ (* b q) (* a q) (* a p))\r\n",
      "                        (+ (* b p) (* a q))\r\n",
      "                        p\r\n",
      "                        q\r\n",
      "                        (- count 1)))))\r\n",
      "\r\n",
      "(define (fib n)\r\n",
      "  (fib_iter 1 0 0 1 n))\r\n"
     ]
    }
   ],
   "source": [
    "cat 1.2/Exercise_1.19/fib_by_T_transform.scm"
   ]
  },
  {
   "cell_type": "markdown",
   "metadata": {},
   "source": [
    "#### Running Instance:"
   ]
  },
  {
   "cell_type": "raw",
   "metadata": {},
   "source": [
    "1 ]=> (load \"1.2/Exercise_1.19/fib_by_T_transform.scm\")\n",
    "\n",
    ";Loading \"1.2/Exercise_1.19/fib_by_T_transform.scm\"... done\n",
    ";Value: fib\n",
    "\n",
    "1 ]=> (fib 12)\n",
    "\n",
    ";Value: 144\n",
    "\n",
    "1 ]=> (fib 120)\n",
    "\n",
    ";Value: 5358359254990966640871840"
   ]
  },
  {
   "cell_type": "markdown",
   "metadata": {},
   "source": [
    "## Example 7: Greatest Common Divisors"
   ]
  },
  {
   "cell_type": "markdown",
   "metadata": {},
   "source": [
    "The greatest common divisor $(\\mathrm{GCD})$ of two integers $a$ and $b$ is defined to be the largest integer that divides both $a$ and $b$ with no remainder.One way to find the $(\\mathrm{GCD})$ of two integers is to factor them and search for common factors, but there is a famous algorithm that is much more efficient."
   ]
  },
  {
   "cell_type": "markdown",
   "metadata": {},
   "source": [
    "The idea of the algorithm is based on the observation that, if $r$ is the remainder when $a$ is divided by $b$, then the common divisors of $a$ and $b$ are precisely the same as the common divisors of $b$ and $r$ . Thus, we can use the equation"
   ]
  },
  {
   "cell_type": "markdown",
   "metadata": {},
   "source": [
    "$$\\mathrm{GCD(a,b)}\\;=\\;\\mathrm{GCD(b,r)}$$"
   ]
  },
  {
   "cell_type": "markdown",
   "metadata": {},
   "source": [
    "to successively reduce the problem of computing a $\\mathrm{GCD}$ to the problem of computing the $\\mathrm{GCD}$ of smaller and smaller pairs of integers.For example,"
   ]
  },
  {
   "cell_type": "markdown",
   "metadata": {},
   "source": [
    "\\begin{aligned}\n",
    "\\mathrm{GCD(206,40)} \n",
    "& = \\mathrm{GCD(40,6)}\\\\\n",
    "& = \\mathrm{GCD(6,4)}\\\\\n",
    "& = \\mathrm{GCD(4,2)}\\\\\n",
    "& = \\mathrm{GCD(2,0)}\\\\\n",
    "& = 2\n",
    "\\end{aligned}"
   ]
  },
  {
   "cell_type": "markdown",
   "metadata": {},
   "source": [
    "reduces $\\mathrm{GCD(206,40)}$ to $\\mathrm{GCD(2,0)}$,which is 2. It is possible to show that starting with any two positive integers and performing repeated reductions will always eventually produce a pair where the second number is 0. Then the $\\mathrm{GCD}$ is the other number in the pair. This method for computing the $\\mathrm{GCD}$ is known as $Euclid’s Algorithm$."
   ]
  },
  {
   "cell_type": "markdown",
   "metadata": {},
   "source": [
    "It is easy to express Euclid’s Algorithm as a procedure:"
   ]
  },
  {
   "cell_type": "code",
   "execution_count": 1,
   "metadata": {
    "collapsed": false
   },
   "outputs": [
    {
     "name": "stdout",
     "output_type": "stream",
     "text": [
      "(define (gcd a b )\r\n",
      "  (if (= b 0) a\r\n",
      "      (gcd b (remainder a b))))\r\n"
     ]
    }
   ],
   "source": [
    "cat 1.2/Example_7/gcd_by_Euclid_Algorithm.scm"
   ]
  },
  {
   "cell_type": "markdown",
   "metadata": {},
   "source": [
    "#### Running Instance:"
   ]
  },
  {
   "cell_type": "raw",
   "metadata": {},
   "source": [
    "1 ]=> (load \"1.2/Example_7/gcd_by_Euclid_Algorithm.scm\")\n",
    "\n",
    ";Loading \"1.2/Example_7/gcd_by_Euclid_Algorithm.scm\"... done\n",
    ";Value: gcd\n",
    "\n",
    "1 ]=> (gcd 206 40)\n",
    "\n",
    ";Value: 2"
   ]
  },
  {
   "cell_type": "markdown",
   "metadata": {},
   "source": [
    "This generates an iterative process, whose number of steps grows as the logarithm of the numbers involved."
   ]
  },
  {
   "cell_type": "markdown",
   "metadata": {},
   "source": [
    "## Exercise 1.20: \n",
    "The process that a procedure generates is of course dependent on the rules used by the interpreter.As an example, consider the iterative gcd procedure given above. Suppose we were to interpret this procedure using normal-order evaluation, as discussed in Section 1.1.5. (The normal-order-evaluation rule for if is described in Exercise 1.5.) Using the substitution method (for normal order), illustrate the process generated in evaluating $\\textbf{(gcd 206 40)}$ and indicate the remainder operations that are actually performed. How many remainder operations are actually performed in the normal-order evaluation of $\\textbf{(gcd 206 40)}$?In the applicative-order evaluation?"
   ]
  },
  {
   "cell_type": "markdown",
   "metadata": {},
   "source": [
    "### Answer:"
   ]
  },
  {
   "cell_type": "markdown",
   "metadata": {},
   "source": [
    "#### Interpreter execution process:"
   ]
  },
  {
   "cell_type": "raw",
   "metadata": {},
   "source": [
    "1 ]=> (load \"1.2/Example_7/gcd_by_Euclid_Algorithm.scm\")\n",
    "\n",
    ";Loading \"1.2/Example_7/gcd_by_Euclid_Algorithm.scm\"... done\n",
    ";Value: gcd\n",
    "\n",
    "1 ]=> (trace-entry gcd)\n",
    "\n",
    ";Unspecified return value\n",
    "\n",
    "1 ]=> (trace-entry remainder)\n",
    "\n",
    ";Unspecified return value\n",
    "\n",
    "1 ]=> (gcd 206 40)\n",
    "\n",
    "[Entering #[compound-procedure 16 gcd]\n",
    "    Args: 206\n",
    "        40]\n",
    "[Entering #[compound-procedure 16 gcd]\n",
    "    Args: 40\n",
    "        6]\n",
    "[Entering #[compound-procedure 16 gcd]\n",
    "    Args: 6\n",
    "        4]\n",
    "[Entering #[compound-procedure 16 gcd]\n",
    "    Args: 4\n",
    "        2]\n",
    "[Entering #[compound-procedure 16 gcd]\n",
    "    Args: 2\n",
    "        0]\n",
    ";Value: 2"
   ]
  },
  {
   "cell_type": "markdown",
   "metadata": {},
   "source": [
    "#### I.applicative-order evaluation"
   ]
  },
  {
   "cell_type": "raw",
   "metadata": {},
   "source": [
    "(gcd 206 40)\n",
    "(gcd 40 6)      ; (gcd 40 (remainder 206 40)\n",
    "(gcd 6 4)       ; (gcd 6 (remainder 40 6))\n",
    "(gcd 4 2)       ; (gcd 4 (remainder 6 4))\n",
    "(gcd 2 0)       ; (gcd 2 (remainder 2 2))\n",
    "2"
   ]
  },
  {
   "cell_type": "markdown",
   "metadata": {},
   "source": [
    "所以在应用序求值规则中，(gcd 206 40) 共有 4 次 remainder 调用."
   ]
  },
  {
   "cell_type": "markdown",
   "metadata": {},
   "source": [
    "#### II.normal-order evaluation"
   ]
  },
  {
   "cell_type": "raw",
   "metadata": {},
   "source": [
    "(gcd 206 40)\n",
    "\n",
    "(gcd 40 (remainder 206 40)) ; a = 40, b = 6, t1 = (remainder 206 40)\n",
    "\n",
    "(if (= t1 0) ...)   ; #f\n",
    "\n",
    "(gcd t1 (remainder 40 t1))  ; a = 6, b = 4, t2 = (remainder 40 t1)\n",
    "\n",
    "(if (= t2 0) ...)   ; #f\n",
    "\n",
    "(gcd t2 (remainder t1 t2))  ; a = 4, b = 2, t3 = (remainder t1 t2)\n",
    "\n",
    "(if (= t3 0) ...)   ; #f\n",
    "\n",
    "(gcd t3 (remainder t2 t3))  ; a = 2, b = 0, t4 = (remainder t2 t3)\n",
    "\n",
    "(if (= t4 0) ...)   ; #t\n",
    "\n",
    "t3\n",
    "\n",
    "(remainder t1 t2)\n",
    "\n",
    "(remainder t1\n",
    "           (remainder 40 t1))   ; t2\n",
    "\n",
    "(remainder t1\n",
    "           (remainder 40\n",
    "                      (remainder 206 40)))    ; t1\n",
    "\n",
    "(remainder t1\n",
    "           (remainder 40 6))\n",
    "\n",
    "(remainder t1 4)\n",
    "\n",
    "(remainder (remainder 206 40)   ; t1\n",
    "           4)\n",
    "\n",
    "(remainder 6 4)\n",
    "\n",
    "2"
   ]
  },
  {
   "cell_type": "markdown",
   "metadata": {},
   "source": [
    "所以在正则序求值规则中，(gcd 206 40)有比使用应用序求值规则时，多了很多次remainder调用."
   ]
  },
  {
   "cell_type": "markdown",
   "metadata": {},
   "source": [
    "## Example 8: Testing for Primality"
   ]
  },
  {
   "cell_type": "markdown",
   "metadata": {},
   "source": [
    "### I.Searching for divisors"
   ]
  },
  {
   "cell_type": "markdown",
   "metadata": {},
   "source": [
    "One way to test if a number is prime is to find the number’s divisors. The following program finds the smallest integral divisor (greater than 1) of a given number $n$. It does this in a straightforward way, by testing $n$ for divisibility by successive integers starting with 2."
   ]
  },
  {
   "cell_type": "raw",
   "metadata": {},
   "source": [
    "(define (smallest-divisor n) (find-divisor n 2))\n",
    "(define (find-divisor n test-divisor)\n",
    "  (cond ((> (square test-divisor) n) n)\n",
    "      ((divides? test-divisor n) test-divisor)\n",
    "      (else (find-divisor n (+ test-divisor 1)))))\n",
    "(define (divides? a b) (= (remainder b a) 0))"
   ]
  },
  {
   "cell_type": "markdown",
   "metadata": {},
   "source": [
    "We can test whether a number is prime as follows: $n$ is prime if and only if $n$ is its own smallest divisor."
   ]
  },
  {
   "cell_type": "raw",
   "metadata": {},
   "source": [
    "(define (prime? n) (= n (smallest-divisor n)))"
   ]
  },
  {
   "cell_type": "markdown",
   "metadata": {},
   "source": [
    "The end test for $find$-$divisor$ is based on the fact that if n is not prime it must have a divisor less than or equal to $\\sqrt{n}$.This means that the algorithm need only test divisors between 1 and $\\sqrt{n}$.Consequently, the number of steps required to identify n as prime will have order of growth $\\Theta(\\sqrt{n})$."
   ]
  },
  {
   "cell_type": "code",
   "execution_count": 3,
   "metadata": {
    "collapsed": false
   },
   "outputs": [
    {
     "name": "stdout",
     "output_type": "stream",
     "text": [
      "(define (smallest-divisor n) \r\n",
      "  (define (find-divisor n test-divisor)\r\n",
      "    (define (divides? a b) (= (remainder b a) 0))\r\n",
      "    (cond ((> (square test-divisor) n) n)\r\n",
      "          ((divides? test-divisor n) test-divisor)\r\n",
      "          (else (find-divisor n (+ test-divisor 1)))))\r\n",
      "  (find-divisor n 2))\r\n",
      "\r\n",
      "(define (prime? n) (= n (smallest-divisor n)))\r\n"
     ]
    }
   ],
   "source": [
    "cat 1.2/Example_8/prime_by_search_divisor.scm"
   ]
  },
  {
   "cell_type": "markdown",
   "metadata": {},
   "source": [
    "#### Running Instance:"
   ]
  },
  {
   "cell_type": "raw",
   "metadata": {},
   "source": [
    "1 ]=> (load \"1.2/Example_8/prime_by_search_divisor.scm\")\n",
    "\n",
    ";Loading \"1.2/Example_8/prime_by_search_divisor.scm\"... done\n",
    ";Value: prime?\n",
    "\n",
    "1 ]=> (prime? 49999)\n",
    "\n",
    ";Value: #t\n",
    "\n",
    "1 ]=> (prime? 561)\n",
    "\n",
    ";Value: #f"
   ]
  },
  {
   "cell_type": "markdown",
   "metadata": {},
   "source": [
    "### II.The Fermat test"
   ]
  },
  {
   "cell_type": "markdown",
   "metadata": {},
   "source": [
    "The $\\Theta(logn)$ primality test is based on a result from number theory known as Fermat’s Little Theorem."
   ]
  },
  {
   "cell_type": "markdown",
   "metadata": {},
   "source": [
    "If $n$ is not prime, then, in general, most of the numbers $a \\lt n$ will not satisfy the above relation. This leads to the following algorithm for testing primality: Given a number $n$, pick a random number $a \\lt n$ and compute the remainder of an modulo $n$. If the result is not equal to $a$, then $n$ is certainly not prime. If it is $a$, then $\\textbf{chances}$ are good that $n$ is prime. Now pick another random number $a$ and test it with the same method. If it also satisfies the equation, then we can be even more confident that $n$ is prime. By trying more and more values of $a$, we can increase our confidence in the result. This algorithm is known as the Fermat test."
   ]
  },
  {
   "cell_type": "markdown",
   "metadata": {},
   "source": [
    "To implement the Fermat test, we need a procedure that computes the exponential of a number modulo another number:"
   ]
  },
  {
   "cell_type": "raw",
   "metadata": {},
   "source": [
    "(define (expmod base exp m)\n",
    "  (cond ((= exp 0) 1)\n",
    "      ((even? exp) (remainder (square (expmod base (/ exp 2) m)) m))\n",
    "      (else (remainder (* base (expmod base (- exp 1) m)) m))))"
   ]
  },
  {
   "cell_type": "markdown",
   "metadata": {},
   "source": [
    "This is very similar to the $fast$-$expt$ procedure of Section 1.2.4. It uses successive squaring, so that the number of steps grows logarithmically with the exponent."
   ]
  },
  {
   "cell_type": "markdown",
   "metadata": {},
   "source": [
    "The Fermat test is performed by choosing at random a number $a$ between 1 and n - 1 inclusive and checking whether the remainder modulo $n$ of the $n^{th}$ power of $a$ is equal to $a$. The random number $a$ is chosen using the procedure $random$, which we assume is included as a primitive in Scheme. $random$ returns a nonnegative integer less than its integer input. Hence, to obtain a random number between 1 and n - 1, we call random with an input of n - 1 and add 1 to the result:"
   ]
  },
  {
   "cell_type": "raw",
   "metadata": {},
   "source": [
    "(define (fermat-test n)\n",
    "  (define (try-it a) (= (expmod a n n) a))\n",
    "  (try-it (+ 1 (random (- n 1)))))"
   ]
  },
  {
   "cell_type": "markdown",
   "metadata": {},
   "source": [
    "The following procedure runs the test a given number of times, as specified by a parameter. Its value is true if the test succeeds every time, and false otherwise."
   ]
  },
  {
   "cell_type": "raw",
   "metadata": {},
   "source": [
    "(define (fast-prime? n times)\n",
    "  (cond ((= times 0) true)\n",
    "  ((fermat-test n) (fast-prime? n (- times 1)))\n",
    "  (else false)))"
   ]
  },
  {
   "cell_type": "code",
   "execution_count": 4,
   "metadata": {
    "collapsed": false
   },
   "outputs": [
    {
     "name": "stdout",
     "output_type": "stream",
     "text": [
      "(define (expmod base exp m)\r\n",
      "  (cond ((= exp 0) 1)\r\n",
      "        ((even? exp) (remainder (square (expmod base (/ exp 2) m)) m))\r\n",
      "        (else (remainder (* base (expmod base (- exp 1) m)) m))))\r\n",
      "\r\n",
      "(define (fermat-test n)\r\n",
      "  (define (try-it a) (= (expmod a n n) a))\r\n",
      "  (try-it (+ 1 (random (- n 1)))))\r\n",
      "\r\n",
      "(define (fast-prime? n times)\r\n",
      "  (cond ((= times 0) true)\r\n",
      "        ((fermat-test n) (fast-prime? n (- times 1)))\r\n",
      "        (else false)))\r\n"
     ]
    }
   ],
   "source": [
    "cat 1.2/Example_8/prime_by_fermat_test.scm"
   ]
  },
  {
   "cell_type": "markdown",
   "metadata": {},
   "source": [
    "#### Running Instance:"
   ]
  },
  {
   "cell_type": "raw",
   "metadata": {},
   "source": [
    "1 ]=> (load \"1.2/Example_8/prime_by_fermat_test.scm\")\n",
    "\n",
    ";Loading \"1.2/Example_8/prime_by_fermat_test.scm\"... done\n",
    ";Value: fast-prime?\n",
    "\n",
    "1 ]=> (fast-prime? 49999 1000)\n",
    "\n",
    ";Value: #t\n",
    "\n",
    "1 ]=> (fast-prime? 561 1000)\n",
    "\n",
    ";Value: #t\n",
    "\n",
    ";;561 fooled the Fermat test\n",
    ";;it is a Carmichael numbers"
   ]
  },
  {
   "cell_type": "markdown",
   "metadata": {},
   "source": [
    "## Exercise 1.21: \n",
    "Use the $smallest$-$divisor$ procedure to find the smallest divisor of each of the following numbers: 199, 1999, 19999."
   ]
  },
  {
   "cell_type": "markdown",
   "metadata": {},
   "source": [
    "### Answer:"
   ]
  },
  {
   "cell_type": "code",
   "execution_count": 5,
   "metadata": {
    "collapsed": false
   },
   "outputs": [
    {
     "name": "stdout",
     "output_type": "stream",
     "text": [
      "(define (smallest-divisor n) \r\n",
      "  (define (find-divisor n test-divisor)\r\n",
      "  (define (divides? a b) (= (remainder b a) 0))\r\n",
      "  (cond ((> (square test-divisor) n) n)\r\n",
      "        ((divides? test-divisor n) test-divisor)\r\n",
      "        (else (find-divisor n (+ test-divisor 1)))))\r\n",
      "  (find-divisor n 2))\r\n"
     ]
    }
   ],
   "source": [
    "cat 1.2/Exercise_1.21/smallest_divisor.scm"
   ]
  },
  {
   "cell_type": "markdown",
   "metadata": {},
   "source": [
    "#### Running Instance:"
   ]
  },
  {
   "cell_type": "raw",
   "metadata": {},
   "source": [
    "1 ]=> (load \"1.2/Exercise_1.21/smallest_divisor.scm\")\n",
    "\n",
    ";Loading \"1.2/Exercise_1.21/smallest_divisor.scm\"... done\n",
    ";Value: smallest-divisor\n",
    "\n",
    "1 ]=> (smallest-divisor 199)\n",
    "\n",
    ";Value: 199\n",
    "\n",
    "1 ]=> (smallest-divisor 1999)\n",
    "\n",
    ";Value: 1999\n",
    "\n",
    "1 ]=> (smallest-divisor 19999)\n",
    "\n",
    ";Value: 7"
   ]
  },
  {
   "cell_type": "markdown",
   "metadata": {},
   "source": [
    "## Exercise 1.22: \n",
    "Most Lisp implementations include a primitive called $runtime$ that returns an integer that specifies the amount of time the system has been running (measured, for example, in microseconds). The following $timed$-$prime$-$test$ procedure, when called with an integern, prints $n$ and checks to see if $n$ is prime. If $n$ is prime, the procedure prints three asterisks followed by the amount of time used in performing the test."
   ]
  },
  {
   "cell_type": "raw",
   "metadata": {},
   "source": [
    "(define (timed-prime-test n)\n",
    "  (newline)\n",
    "  (display n)\n",
    "  (start-prime-test n (runtime)))\n",
    "(define (start-prime-test n start-time)\n",
    "  (if (prime? n) (report-prime (- (runtime) start-time))))\n",
    "(define (report-prime elapsed-time)\n",
    "  (display \" *** \")\n",
    "  (display elapsed-time))"
   ]
  },
  {
   "cell_type": "markdown",
   "metadata": {},
   "source": [
    "Using this procedure, write a procedure $search$-$for$-$primes$ that checks the primality of consecutive odd integers in a specified range. Use your procedure to find the three smallest primes larger than 1000; larger than 10,000; larger than 100,000; larger than 1,000,000. Note the time needed to test each prime. Since the testing algorithm has order of growth of $\\Theta(\\sqrt{n})$,you should expect that testing for primes around 10,000 should take about $\\sqrt{10}$ times as long as testing for primes around 1000. Do your timing data bear this out? How well do the data for 100,000 and 1,000,000 support the $\\Theta(\\sqrt{n})$ prediction? Is your result compatible with the notion that programs on your machine run in time proportional to the number of steps required for the computation?"
   ]
  },
  {
   "cell_type": "markdown",
   "metadata": {},
   "source": [
    "### Answer:"
   ]
  },
  {
   "cell_type": "markdown",
   "metadata": {},
   "source": [
    "#### Analysis and Simplify of the procedure  search-for-primes:"
   ]
  },
  {
   "cell_type": "markdown",
   "metadata": {},
   "source": [
    "$\\bullet$ The procedure $next$-$odd$ for generating consecutive odd integers:"
   ]
  },
  {
   "cell_type": "raw",
   "metadata": {},
   "source": [
    "(define (next_odd n)\n",
    "  (define (odd n) (= (remainder n 2) 1))\n",
    "  (if (odd n) (+ n 2) (+ n 1)))"
   ]
  },
  {
   "cell_type": "markdown",
   "metadata": {},
   "source": [
    "$\\bullet$ The procedure $prime?$ for checking the primality of a given odd integer generated by $next$-$odd$ procedure:"
   ]
  },
  {
   "cell_type": "code",
   "execution_count": 6,
   "metadata": {
    "collapsed": false
   },
   "outputs": [
    {
     "name": "stdout",
     "output_type": "stream",
     "text": [
      "(define (smallest-divisor n) \r\n",
      "  (define (find-divisor n test-divisor)\r\n",
      "    (define (divides? a b) (= (remainder b a) 0))\r\n",
      "    (cond ((> (square test-divisor) n) n)\r\n",
      "          ((divides? test-divisor n) test-divisor)\r\n",
      "          (else (find-divisor n (+ test-divisor 1)))))\r\n",
      "  (find-divisor n 2))\r\n",
      "\r\n",
      "(define (prime? n) (= n (smallest-divisor n)))\r\n"
     ]
    }
   ],
   "source": [
    "cat 1.2/Example_8/prime_by_search_divisor.scm"
   ]
  },
  {
   "cell_type": "markdown",
   "metadata": {},
   "source": [
    "$\\bullet$ The procedure $search$-$consecutive$-$prime$ for generating consecutive prime numbers:"
   ]
  },
  {
   "cell_type": "raw",
   "metadata": {},
   "source": [
    "(define (search_consecutive_prime n count)\n",
    "  (cond ((= count 0) (display \"are primes.\"))\n",
    "  ((prime n)\n",
    "`  (display n)\n",
    "`  (newline)\n",
    "`  (search_consecutive_prime (next_odd n) (- count 1)))\n",
    "  (else (search_consecutive_prime (next_odd n) count))))"
   ]
  },
  {
   "cell_type": "markdown",
   "metadata": {},
   "source": [
    "$\\bullet$ The primitive procedure $real$-$time$-$clock$ for measuring the time needed to find the three prime:"
   ]
  },
  {
   "cell_type": "raw",
   "metadata": {},
   "source": [
    "(define (search_for_primes n)\n",
    "  (let ((start_time (real-time-clock)))\n",
    "      (search_consecutive_prime n 3)\n",
    "     (- (real-time-clock) start_time)))"
   ]
  },
  {
   "cell_type": "markdown",
   "metadata": {},
   "source": [
    "In summary,we can get:"
   ]
  },
  {
   "cell_type": "code",
   "execution_count": 7,
   "metadata": {
    "collapsed": false
   },
   "outputs": [
    {
     "name": "stdout",
     "output_type": "stream",
     "text": [
      "(define (search-for-primes n)\r\n",
      "  \r\n",
      "  (define (search-consecutive-prime n count)\r\n",
      "\t(define (next-odd n)\r\n",
      "\t  (if (odd? n) (+ n 2) (+ n 1)))\r\n",
      "\r\n",
      "\t(define (prime? n)\r\n",
      "\t  (define (find-divisor n test-divisor)\r\n",
      "\t\t(define (divides a b) (= (remainder a b) 0))\r\n",
      "\t\t(cond ((> (square test-divisor) n) n)\r\n",
      "\t\t\t  ((divides n test-divisor) test-divisor)\r\n",
      "\t\t\t  (else (find-divisor n (+ test-divisor 1)))))\r\n",
      "\t  (define (smallest-divisor n) (find-divisor n 2))\r\n",
      "\t  (= n (smallest-divisor n)))\r\n",
      "\r\n",
      "\t(cond ((= count 0) (display \"are primes.\"))\r\n",
      "\t\t  ((prime? n)\r\n",
      "\t\t   (display n)\r\n",
      "\t\t   (newline)\r\n",
      "\t\t   (search-consecutive-prime (next-odd n) (- count 1)))\r\n",
      "\t\t  (else (search-consecutive-prime (next-odd n) count))))\r\n",
      "  \r\n",
      "\r\n",
      "  (let ((start-time (real-time-clock)))\r\n",
      "        (search-consecutive-prime n 3)\r\n",
      "       (- (real-time-clock) start-time)))\r\n"
     ]
    }
   ],
   "source": [
    "cat 1.2/Exercise_1.22/search_for_primes.scm"
   ]
  },
  {
   "cell_type": "markdown",
   "metadata": {},
   "source": [
    "#### Running Instance:"
   ]
  },
  {
   "cell_type": "raw",
   "metadata": {},
   "source": [
    "1 ]=> (load \"1.2/Exercise_1.22/search_for_primes.scm\")\n",
    "\n",
    ";Loading \"1.2/Exercise_1.22/search_for_primes.scm\"... done\n",
    ";Value: search-for-primes\n",
    "\n",
    "1 ]=> (search-for-primes 1000)\n",
    "1009\n",
    "1013\n",
    "1019\n",
    "are primes.\n",
    ";Value: 1\n",
    "\n",
    "1 ]=> (search-for-primes 10000)\n",
    "10007\n",
    "10009\n",
    "10037\n",
    "are primes.\n",
    ";Value: 6\n",
    "\n",
    "1 ]=> (search-for-primes 100000)\n",
    "100003\n",
    "100019\n",
    "100043\n",
    "are primes.\n",
    ";Value: 8\n",
    "\n",
    "1 ]=> (search-for-primes 1000000)\n",
    "1000003\n",
    "1000033\n",
    "1000037\n",
    "are primes.\n",
    ";Value: 23"
   ]
  },
  {
   "cell_type": "markdown",
   "metadata": {},
   "source": [
    "## Exercise 1.23: \n",
    "The $smallest$-$divisor$ procedure shown at the start of this section does lots of needless testing: After it checks to see if the number is divisible by 2 there is no point in checking to see if it is divisible by any larger $even$ numbers. This suggests that the values used for test-divisor should not be 2, 3, 4, 5, 6, ..., but rather 2, 3, 5, 7, 9, .... To implement this change, define a procedure $next$ that returns 3 if its input is equal to 2 and otherwise returns its input plus 2. Modify the $smallest$-$divisor$ procedure to use (next test-divisor) instead of (+ test-divisor 1). With timed-prime-test incorporating this modified version of smallest-divisor, run the test for each of the 12 primes found in Exercise 1.22. Since this modification halves the number of test steps, you should expect it to run about twice as fast. Is this expectation confirmed? If not, what is the observed ratio of the speeds of the two algorithms, and how do you explain the fact that it is different from 2?"
   ]
  },
  {
   "cell_type": "markdown",
   "metadata": {},
   "source": [
    "### Answer:"
   ]
  },
  {
   "cell_type": "markdown",
   "metadata": {},
   "source": [
    "$\\bullet$ The $next$ procedure:"
   ]
  },
  {
   "cell_type": "raw",
   "metadata": {},
   "source": [
    "(define (next n) (if (odd? n) (+ n 2) (+ n 1)))"
   ]
  },
  {
   "cell_type": "markdown",
   "metadata": {},
   "source": [
    "$\\bullet$ Redefine the $smallest$-$divisor$ procedure in term of $next$ procedure given above in the $prime?$ procedure:"
   ]
  },
  {
   "cell_type": "raw",
   "metadata": {},
   "source": [
    "(define (prime? n)\n",
    "  (define (smallest-divisor n)\n",
    "   (define (find-divisor n test-divisor)\n",
    "`    (define (divides a b) (= (remainder a b) 0))\n",
    "`    (define (next n) (if (odd? n) (+ n 2) (+ n 1)))\n",
    "`    (cond ((> (square test-divisor) n) n)\n",
    "`        ((divides n test-divisor) test-divisor)\n",
    "`        (else (find-divisor n (next n)))))\n",
    "    (find-divisor n 2))\n",
    "  (= n (smallest-divisor n)))"
   ]
  },
  {
   "cell_type": "markdown",
   "metadata": {},
   "source": [
    "$\\bullet$ Redefine the $search$-$consecutive$-$prime$ procedure in term of the $prime?$ procedure given above:"
   ]
  },
  {
   "cell_type": "raw",
   "metadata": {},
   "source": [
    "(define (search-consecutive-prime n count)\n",
    "  (cond ((= count 0) (display \"are primes.\"))\n",
    "  ((prime? n)\n",
    "`  (display n)\n",
    "`  (newline)\n",
    "`  (search-consecutive-prime (next n) (- count 1)))\n",
    "  (else (search-consecutive-prime (next n) count))))"
   ]
  },
  {
   "cell_type": "markdown",
   "metadata": {},
   "source": [
    "$\\bullet$ Redefine the $real$-$time$-$clock$ procedure in term of the $search$-$consecutive$-$prime$ above:"
   ]
  },
  {
   "cell_type": "markdown",
   "metadata": {},
   "source": [
    "Finally, we can get:"
   ]
  },
  {
   "cell_type": "code",
   "execution_count": 8,
   "metadata": {
    "collapsed": false
   },
   "outputs": [
    {
     "name": "stdout",
     "output_type": "stream",
     "text": [
      "(define (search-for-primes n)\r\n",
      "  (define (search-consecutive-prime n count)\r\n",
      "    (define (next n)\r\n",
      "      (if (odd? n) (+ n 2) (+ n 1)))\r\n",
      "\r\n",
      "    (define (prime n)\r\n",
      "      (define (smallest-divisor n) \r\n",
      "        (define (find-divisor n test-divisor)\r\n",
      "          (define (divides a b) (= (remainder a b) 0))\r\n",
      "          (cond ((> (square test-divisor) n) n)\r\n",
      "                ((divides n test-divisor) test-divisor)\r\n",
      "                (else (find-divisor n (next test-divisor)))))\r\n",
      "          (find-divisor n 2))\r\n",
      "      (= n (smallest-divisor n)))\r\n",
      "\r\n",
      "    (cond ((= count 0) (display \"are primes.\"))\r\n",
      "          ((prime n)\r\n",
      "           (display n)\r\n",
      "           (newline)\r\n",
      "           (search-consecutive-prime (next n) (- count 1)))\r\n",
      "          (else (search-consecutive-prime (next n) count))))\r\n",
      "\r\n",
      "\r\n",
      "  (let ((start-time (real-time-clock)))\r\n",
      "        (search-consecutive-prime n 3)\r\n",
      "       (- (real-time-clock) start-time)))\r\n"
     ]
    }
   ],
   "source": [
    "cat 1.2/Exercise_1.23/search_for_primes.scm"
   ]
  },
  {
   "cell_type": "markdown",
   "metadata": {},
   "source": [
    "#### Running Instance:"
   ]
  },
  {
   "cell_type": "raw",
   "metadata": {},
   "source": [
    "1 ]=> (load \"1.2/Exercise_1.23/search_for_primes.scm\")\n",
    "\n",
    ";Loading \"1.2/Exercise_1.23/search_for_primes.scm\"... done\n",
    ";Value: search-for-primes\n",
    "\n",
    "1 ]=> (search-for-primes 1000)\n",
    "1009\n",
    "1013\n",
    "1019\n",
    "are primes.\n",
    ";Value: 1\n",
    "\n",
    "1 ]=> (search-for-primes 10000)\n",
    "10007\n",
    "10009\n",
    "10037\n",
    "are primes.\n",
    ";Value: 2\n",
    "\n",
    "1 ]=> (search-for-primes 100000)\n",
    "100003\n",
    "100019\n",
    "100043\n",
    "are primes.\n",
    ";Value: 10\n",
    "\n",
    "1 ]=> (search-for-primes 1000000)\n",
    "1000003\n",
    "1000033\n",
    "1000037\n",
    "are primes.\n",
    ";Value: 12"
   ]
  },
  {
   "cell_type": "markdown",
   "metadata": {},
   "source": [
    "## Exercise 1.24: \n",
    "Modify the $timed$-$prime$-$test$ procedure of Exercise 1.22 to use $fast$-$prime?$ (the Fermat method), and test each of the 12 primes you found in that exercise. Since the Fermat test has $\\Theta(logn)$ growth, how would you expect the time to test primes near 1,000,000 to compare with the time needed to test primes near 1000? Do your data bear this out? Can you explain any discrepancy you find?"
   ]
  },
  {
   "cell_type": "markdown",
   "metadata": {},
   "source": [
    "### Answer:"
   ]
  },
  {
   "cell_type": "markdown",
   "metadata": {},
   "source": [
    "Replace testing for primality with $fast-prime?(the Fermat test in Example_8) in Exercise_1.23:"
   ]
  },
  {
   "cell_type": "code",
   "execution_count": 10,
   "metadata": {
    "collapsed": false
   },
   "outputs": [
    {
     "name": "stdout",
     "output_type": "stream",
     "text": [
      "(define (search-for-primes n)\r\n",
      "  (define (search-consecutive-prime n count)\r\n",
      "    (define (next-odd n)\r\n",
      "      (define (odd n) (= (remainder n 2) 1))\r\n",
      "      (if (odd n) (+ n 2) (+ n 1)))\r\n",
      "    (define (fast-prime n times)\r\n",
      "      (define (expmod base expo m)\r\n",
      "        (define (even n) (= (remainder n 2) 0))\r\n",
      "        (cond ((= expo 0) 1)\r\n",
      "              ((even expo) (remainder (square (expmod base (/ expo 2) m)) m))\r\n",
      "              (else (remainder (* base (expmod base (- expo 1) m)) m))))\r\n",
      "      (define (fermat-test n)\r\n",
      "        (define (try-it a) (= (expmod a n n) a))\r\n",
      "        (try-it (+ 1 (random (- n 1)))))\r\n",
      "      (cond ((= times 0) true)\r\n",
      "            ((fermat-test n) (fast-prime n (- times 1)))\r\n",
      "            (else false)))\r\n",
      "    (cond ((= count 0) (display \"are primes.\"))\r\n",
      "          ((fast-prime n 1000)\r\n",
      "           (display n)\r\n",
      "           (newline)\r\n",
      "           (search-consecutive-prime (next-odd n) (- count 1)))\r\n",
      "          (else (search-consecutive-prime (next-odd n) count))))\r\n",
      "  (let ((start-time (real-time-clock)))\r\n",
      "        (search-consecutive-prime n 3)\r\n",
      "       (- (real-time-clock) start-time)))\r\n"
     ]
    }
   ],
   "source": [
    "cat 1.2/Exercise_1.24/search_for_primes.scm"
   ]
  },
  {
   "cell_type": "markdown",
   "metadata": {},
   "source": [
    "#### Running Instance:"
   ]
  },
  {
   "cell_type": "raw",
   "metadata": {},
   "source": [
    "1 ]=> (load \"1.2/Exercise_1.24/search_for_primes.scm\")\n",
    "\n",
    ";Loading \"1.2/Exercise_1.24/search_for_primes.scm\"... done\n",
    ";Value: search-for-primes\n",
    "\n",
    "1 ]=> (search-for-primes 1000)\n",
    "1009\n",
    "1013\n",
    "1019\n",
    "are primes.\n",
    ";Value: 108\n",
    "\n",
    "1 ]=> (search-for-primes 10000)\n",
    "10007\n",
    "10009\n",
    "10037\n",
    "are primes.\n",
    ";Value: 124\n",
    "\n",
    "1 ]=> (search-for-primes 100000)\n",
    "100003\n",
    "100019\n",
    "100043\n",
    "are primes.\n",
    ";Value: 132\n",
    "\n",
    "1 ]=> (search-for-primes 1000000)\n",
    "1000003\n",
    "1000033\n",
    "1000037\n",
    "are primes.\n",
    ";Value: 150"
   ]
  },
  {
   "cell_type": "markdown",
   "metadata": {
    "collapsed": true
   },
   "source": [
    "## Exercise 1.25: \n",
    "Alyssa P. Hacker complains that we went to a lot of extra work in writing $expmod$. After all, she says, since we already know how to compute exponentials, we could have simply written"
   ]
  },
  {
   "cell_type": "raw",
   "metadata": {
    "collapsed": true
   },
   "source": [
    "(define (expmod base exp m)\n",
    "  (remainder (fast_expt base exp) m))"
   ]
  },
  {
   "cell_type": "markdown",
   "metadata": {
    "collapsed": true
   },
   "source": [
    "Is she correct? Would this procedure serve as well for our fast prime tester? Explain."
   ]
  },
  {
   "cell_type": "markdown",
   "metadata": {
    "collapsed": true
   },
   "source": [
    "### 解答："
   ]
  },
  {
   "cell_type": "markdown",
   "metadata": {
    "collapsed": true
   },
   "source": [
    "根据上述过程与Example_8中定义的$fast$-$expt$过程，我们能写出新版本的$expmod$过程，如下:"
   ]
  },
  {
   "cell_type": "code",
   "execution_count": 2,
   "metadata": {
    "collapsed": false
   },
   "outputs": [
    {
     "name": "stdout",
     "output_type": "stream",
     "text": [
      "(define (fast-expt b n)\r\n",
      "  (define (fast-expt-iter b n a)\r\n",
      "    (cond ((= n 0) a)\r\n",
      "          ((even? n)(fast-expt-iter (square b) (/ n 2) a))\r\n",
      "          (else (fast-expt-iter b (- n 1) (* b a)))))\r\n",
      "  (fast-expt-iter b n 1))\r\n",
      "\r\n",
      "(define (expmod base expo m)\r\n",
      "  (remainder (fast-expt base expo) m))\r\n"
     ]
    }
   ],
   "source": [
    "cat 1.2/Exercise_1.25/expmod_running_slow.scm"
   ]
  },
  {
   "cell_type": "markdown",
   "metadata": {
    "collapsed": true
   },
   "source": [
    "与此同时，我们也给出Example_8中定义的$expmod$过程"
   ]
  },
  {
   "cell_type": "code",
   "execution_count": 3,
   "metadata": {
    "collapsed": false
   },
   "outputs": [
    {
     "name": "stdout",
     "output_type": "stream",
     "text": [
      "(define (expmod base expo m)\r\n",
      " (cond ((= expo 0) 1)\r\n",
      "       ((even? expo)\r\n",
      "        (remainder (square (expmod base (/ expo 2) m)) m))\r\n",
      "       (else\r\n",
      "        (remainder (* base (expmod base (- expo 1) m)) m))))\r\n"
     ]
    }
   ],
   "source": [
    "cat 1.2/Exercise_1.25/expmod_running_fast.scm"
   ]
  },
  {
   "cell_type": "markdown",
   "metadata": {
    "collapsed": true
   },
   "source": [
    "其实上述新版本的expmod过程的定义并没有错误，但是在遇到很大的数时却运行缓慢：  \n",
    "因为在费马测试中，当对一个非常大的数进行素数测试时，可能需要计算一个很大的幂，   \n",
    "比如求1000000000的100000000次方，这种大数的数值计算速度非常慢，而且很容易造成溢出"
   ]
  },
  {
   "cell_type": "markdown",
   "metadata": {
    "collapsed": true
   },
   "source": [
    "而Example_8中的expmod过程，通过每次对乘幂进行remainder操作，从而将乘幂限制在参数m内，  \n",
    "这样数值计算速度就快很多，同时也最大程度上避免溢出情况出现。"
   ]
  },
  {
   "cell_type": "markdown",
   "metadata": {
    "collapsed": true
   },
   "source": [
    "下面我们来实际测试一下，用上述两个版本的$expmod$过程计算(expmod 1000000000 100000000 3)"
   ]
  },
  {
   "cell_type": "markdown",
   "metadata": {
    "collapsed": true
   },
   "source": [
    "#### I.Very fast!"
   ]
  },
  {
   "cell_type": "raw",
   "metadata": {
    "collapsed": true
   },
   "source": [
    "1 ]=> (load \"1.2/Exercise_1.25/expmod_running_fast.scm\")\n",
    "\n",
    ";Loading \"1.2/Exercise_1.25/expmod_running_fast.scm\"... done\n",
    ";Value: expmod\n",
    "\n",
    "1 ]=> (expmod 1000000000 100000000 3)\n",
    "\n",
    ";Value: 1"
   ]
  },
  {
   "cell_type": "markdown",
   "metadata": {
    "collapsed": true
   },
   "source": [
    "#### II.Very very slowly!"
   ]
  },
  {
   "cell_type": "raw",
   "metadata": {
    "collapsed": true
   },
   "source": [
    "1 ]=> (load \"1.2/Exercise_1.25/expmod_running_slow.scm\")\n",
    "\n",
    ";Loading \"1.2/Exercise_1.25/expmod_running_slow.scm\"... done\n",
    ";Value: expmod\n",
    "\n",
    "1 ]=> (expmod 1000000000 100000000 3)\n"
   ]
  },
  {
   "cell_type": "markdown",
   "metadata": {
    "collapsed": true
   },
   "source": [
    "## Exercise 1.26: \n",
    "Louis Reasoner is having great difficulty doing Exercise 1.24. His $fast$-$prime$ test seems to run more slowly than his $prime$ test. Louis calls his friend Eva Lu Ator over to help. When they examine Louis’s code, they find that he has rewritten the $expmod$ procedure to use an explicit multiplication, rather than calling square:"
   ]
  },
  {
   "cell_type": "raw",
   "metadata": {
    "collapsed": true
   },
   "source": [
    "(define (expmod base exp m)\n",
    "  (cond ((= exp 0) 1)\n",
    "      ((even? exp)\n",
    "`      (remainder (* (expmod base (/ exp 2) m)\n",
    "                (expmod base (/ exp 2) m))\n",
    "`              m))\n",
    "      (else\n",
    "       (remainder (* base\n",
    "`                (expmod base (- exp 1) m))\n",
    "`              m))))              "
   ]
  },
  {
   "cell_type": "markdown",
   "metadata": {
    "collapsed": true
   },
   "source": [
    "“I don’t see what difference that could make,” says Louis.“I do.” says Eva. “By writing the procedure like that, you have transformed the $\\Theta(logn)$ process into a $\\Theta(n)$ process.”Explain."
   ]
  },
  {
   "cell_type": "markdown",
   "metadata": {
    "collapsed": true
   },
   "source": [
    "### 解答："
   ]
  },
  {
   "cell_type": "markdown",
   "metadata": {
    "collapsed": true
   },
   "source": [
    "在Example_8中的$expmod$过程，在每次exp为偶数时，计算量将减少一半；  \n",
    "而在上述的$expmod$过程中，当每次exp为偶数时，调用了两次(expmod base (/ exp 2) m)，   \n",
    "即计算量会增加一倍，因此原来的$\\Theta(logn)$变为了$\\Theta(n)$"
   ]
  },
  {
   "cell_type": "markdown",
   "metadata": {
    "collapsed": true
   },
   "source": [
    "我们可以跟踪上述两个$expmod$过程计算(expmod 2 4 3)时调用expmod的次数来测试"
   ]
  },
  {
   "cell_type": "code",
   "execution_count": 4,
   "metadata": {
    "collapsed": false
   },
   "outputs": [
    {
     "name": "stdout",
     "output_type": "stream",
     "text": [
      "(define (expmod base expo m)\r\n",
      " (cond ((= expo 0) 1)\r\n",
      "       ((even? expo)\r\n",
      "        (remainder (square (expmod base (/ expo 2) m)) m))\r\n",
      "       (else\r\n",
      "        (remainder (* base (expmod base (- expo 1) m)) m))))\r\n"
     ]
    }
   ],
   "source": [
    "cat 1.2/Exercise_1.25/expmod_running_fast.scm"
   ]
  },
  {
   "cell_type": "markdown",
   "metadata": {
    "collapsed": true
   },
   "source": [
    "### Running Instance:"
   ]
  },
  {
   "cell_type": "raw",
   "metadata": {
    "collapsed": true
   },
   "source": [
    "1 ]=> (load \"1.2/Exercise_1.25/expmod_running_fast.scm\")\n",
    "\n",
    ";Loading \"1.2/Exercise_1.25/expmod_running_fast.scm\"... done\n",
    ";Value: expmod\n",
    "\n",
    "1 ]=> (trace-entry expmod)\n",
    "\n",
    ";Unspecified return value\n",
    "\n",
    "1 ]=> (expmod 2 4 3)\n",
    "\n",
    "[Entering #[compound-procedure 16 expmod]\n",
    "    Args: 2\n",
    "        4\n",
    "        3]\n",
    "[Entering #[compound-procedure 16 expmod]\n",
    "    Args: 2\n",
    "        2\n",
    "        3]\n",
    "[Entering #[compound-procedure 16 expmod]\n",
    "    Args: 2\n",
    "        1\n",
    "        3]\n",
    "[Entering #[compound-procedure 16 expmod]\n",
    "    Args: 2\n",
    "        0\n",
    "        3]\n",
    ";Value: 1"
   ]
  },
  {
   "cell_type": "code",
   "execution_count": 5,
   "metadata": {
    "collapsed": false
   },
   "outputs": [
    {
     "name": "stdout",
     "output_type": "stream",
     "text": [
      "(define (expmod base expo m)\r\n",
      "  (cond ((= expo 0) 1)\r\n",
      "        ((even? expo)\r\n",
      "         (remainder (* (expmod base (/ expo 2) m)\r\n",
      "                       (expmod base (/ expo 2) m))\r\n",
      "                     m))\r\n",
      "        (else\r\n",
      "        (remainder (* base (expmod base (- expo 1) m)) m))))\r\n"
     ]
    }
   ],
   "source": [
    "cat 1.2/Exercise_1.26/expmod_running_slow.scm"
   ]
  },
  {
   "cell_type": "markdown",
   "metadata": {
    "collapsed": true
   },
   "source": [
    "### Running Instance:"
   ]
  },
  {
   "cell_type": "raw",
   "metadata": {
    "collapsed": true
   },
   "source": [
    "1 ]=> (load \"1.2/Exercise_1.26/expmod_running_slow.scm\")\n",
    "\n",
    ";Loading \"1.2/Exercise_1.26/expmod_running_slow.scm\"... done\n",
    ";Value: expmod\n",
    "\n",
    "1 ]=> (trace-entry expmod)\n",
    "\n",
    ";Unspecified return value\n",
    "\n",
    "1 ]=> (expmod 2 4 3)\n",
    "\n",
    "[Entering #[compound-procedure 17 expmod]\n",
    "    Args: 2\n",
    "        4\n",
    "        3]\n",
    "[Entering #[compound-procedure 17 expmod]\n",
    "    Args: 2\n",
    "        2\n",
    "        3]\n",
    "[Entering #[compound-procedure 17 expmod]\n",
    "    Args: 2\n",
    "        1\n",
    "        3]\n",
    "[Entering #[compound-procedure 17 expmod]\n",
    "    Args: 2\n",
    "        0\n",
    "        3]\n",
    "        \n",
    "              \n",
    "[Entering #[compound-procedure 17 expmod]\n",
    "    Args: 2\n",
    "        1\n",
    "        3]\n",
    "[Entering #[compound-procedure 17 expmod]\n",
    "    Args: 2\n",
    "        0\n",
    "        3]\n",
    "        \n",
    "        \n",
    "        \n",
    "        \n",
    "[Entering #[compound-procedure 17 expmod]\n",
    "    Args: 2\n",
    "        2\n",
    "        3]\n",
    "[Entering #[compound-procedure 17 expmod]\n",
    "    Args: 2\n",
    "        1\n",
    "        3]\n",
    "[Entering #[compound-procedure 17 expmod]\n",
    "    Args: 2\n",
    "        0\n",
    "        3]\n",
    "        \n",
    "        \n",
    "[Entering #[compound-procedure 17 expmod]\n",
    "    Args: 2\n",
    "        1\n",
    "        3]\n",
    "[Entering #[compound-procedure 17 expmod]\n",
    "    Args: 2\n",
    "        0\n",
    "        3]\n",
    ";Value: 1"
   ]
  },
  {
   "cell_type": "markdown",
   "metadata": {
    "collapsed": true
   },
   "source": [
    "## Exercise 1.27: \n",
    "Demonstrate that the Carmichael numbers listed in Footnote 1.47 really do fool the Fermat test. That is,write a procedure that takes an integer n and tests whether an is congruent to a modulo n for every a < n, and try your\n",
    "procedure on the given Carmichael numbers."
   ]
  },
  {
   "cell_type": "markdown",
   "metadata": {
    "collapsed": true
   },
   "source": [
    "解答："
   ]
  },
  {
   "cell_type": "markdown",
   "metadata": {},
   "source": [
    "$\\bullet$ 构造迭代过程car-iter"
   ]
  },
  {
   "cell_type": "raw",
   "metadata": {},
   "source": [
    "(define (carmichael-test n)  (test-iter 1 n))"
   ]
  },
  {
   "cell_type": "markdown",
   "metadata": {},
   "source": [
    "$\\bullet$ 构造测试同余过程congruent?"
   ]
  },
  {
   "cell_type": "raw",
   "metadata": {},
   "source": [
    "(define (congruent? a n) (= (expmod a n n) a))"
   ]
  },
  {
   "cell_type": "markdown",
   "metadata": {},
   "source": [
    "$\\bullet$ 使用Example_8中的expmod过程"
   ]
  },
  {
   "cell_type": "code",
   "execution_count": 6,
   "metadata": {
    "collapsed": false
   },
   "outputs": [
    {
     "name": "stdout",
     "output_type": "stream",
     "text": [
      "(define (expmod base expo m)\r\n",
      " (cond ((= expo 0) 1)\r\n",
      "       ((even? expo)\r\n",
      "        (remainder (square (expmod base (/ expo 2) m)) m))\r\n",
      "       (else\r\n",
      "        (remainder (* base (expmod base (- expo 1) m)) m))))\r\n"
     ]
    }
   ],
   "source": [
    "cat 1.2/Exercise_1.25/expmod_running_fast.scm"
   ]
  },
  {
   "cell_type": "markdown",
   "metadata": {},
   "source": [
    "$\\bullet$ 实现第1步中的car-iter过程"
   ]
  },
  {
   "cell_type": "raw",
   "metadata": {},
   "source": [
    "(define (test-iter a n)\n",
    "  (cond ((= a n) #t)\n",
    "      ((congruent? a n)\n",
    "`      (test-iter (+ a 1) n))\n",
    "      (else #f)))"
   ]
  },
  {
   "cell_type": "markdown",
   "metadata": {},
   "source": [
    "最后使用过程体整合为:"
   ]
  },
  {
   "cell_type": "code",
   "execution_count": 7,
   "metadata": {
    "collapsed": false
   },
   "outputs": [
    {
     "name": "stdout",
     "output_type": "stream",
     "text": [
      "(define (carmichael n)\r\n",
      "  (define (car-iter a n)\r\n",
      "    (define (congruent a n)\r\n",
      "      (define (expmod base expo m)\r\n",
      "        (define (even n) (= (remainder n 2) 0))\r\n",
      "        (cond ((= expo 0) 1)\r\n",
      "              ((even expo)\r\n",
      "               (remainder\r\n",
      "                 (square (expmod base (/ expo 2) m)) m))\r\n",
      "              (else\r\n",
      "               (remainder\r\n",
      "                 (* base (expmod base (- expo 1) m)) m))))\r\n",
      "      (= (expmod a n n) a))\r\n",
      "    (cond ((= a n) #t)\r\n",
      "          ((congruent a n)\r\n",
      "           (car-iter (+ a 1) n))\r\n",
      "          (else #f)))\r\n",
      "  (car-iter 1 n))\r\n"
     ]
    }
   ],
   "source": [
    "cat 1.2/Exercise_1.27/carmichael_numbers.scm"
   ]
  },
  {
   "cell_type": "markdown",
   "metadata": {},
   "source": [
    "### Running Instance:"
   ]
  },
  {
   "cell_type": "raw",
   "metadata": {},
   "source": [
    "1 ]=> (load \"1.2/Exercise_1.27/carmichael_numbers.scm\")\n",
    "\n",
    ";Loading \"1.2/Exercise_1.27/carmichael_numbers.scm\"... done\n",
    ";Value: carmichael\n",
    "\n",
    "1 ]=> (carmichael 561)\n",
    "\n",
    ";Value: #t\n",
    "\n",
    "1 ]=> (carmichael 1105)\n",
    "\n",
    ";Value: #t\n",
    "\n",
    "1 ]=> (carmichael 1729)\n",
    "\n",
    ";Value: #t\n",
    "\n",
    "1 ]=> (carmichael 2465)\n",
    "\n",
    ";Value: #t\n",
    "\n",
    "1 ]=> (carmichael 2821)\n",
    "\n",
    ";Value: #t\n",
    "\n",
    "1 ]=> (carmichael 6601)\n",
    "\n",
    ";Value: #t"
   ]
  },
  {
   "cell_type": "markdown",
   "metadata": {},
   "source": [
    "## Exercise 1.28: \n",
    "One variant of the Fermat test that cannot be fooled is called the Miller-Rabin test (Miller 1976; Rabin 1980).This starts from an alternate form of Fermat’s Little Theorem, which states that if $n$ is a prime number and $a$ is any positive integer less than $n$, then $a$ raised to the (n-􀀀1)-st power is congruent to 1 modulo $n$. To test the primality of a number $n$ by the Miller-Rabin test, we pick a random number $a \\lt n$ and raise $a$ to the (n - 􀀀1)-st power modulo $n$ using the $expmod$ procedure."
   ]
  },
  {
   "cell_type": "code",
   "execution_count": null,
   "metadata": {
    "collapsed": true
   },
   "outputs": [],
   "source": []
  },
  {
   "cell_type": "code",
   "execution_count": null,
   "metadata": {
    "collapsed": true
   },
   "outputs": [],
   "source": []
  },
  {
   "cell_type": "code",
   "execution_count": null,
   "metadata": {
    "collapsed": true
   },
   "outputs": [],
   "source": []
  },
  {
   "cell_type": "code",
   "execution_count": null,
   "metadata": {
    "collapsed": true
   },
   "outputs": [],
   "source": []
  },
  {
   "cell_type": "code",
   "execution_count": null,
   "metadata": {
    "collapsed": true
   },
   "outputs": [],
   "source": []
  },
  {
   "cell_type": "code",
   "execution_count": null,
   "metadata": {
    "collapsed": true
   },
   "outputs": [],
   "source": []
  },
  {
   "cell_type": "code",
   "execution_count": null,
   "metadata": {
    "collapsed": true
   },
   "outputs": [],
   "source": []
  },
  {
   "cell_type": "code",
   "execution_count": null,
   "metadata": {
    "collapsed": true
   },
   "outputs": [],
   "source": []
  },
  {
   "cell_type": "code",
   "execution_count": null,
   "metadata": {
    "collapsed": true
   },
   "outputs": [],
   "source": []
  },
  {
   "cell_type": "code",
   "execution_count": null,
   "metadata": {
    "collapsed": true
   },
   "outputs": [],
   "source": []
  },
  {
   "cell_type": "code",
   "execution_count": null,
   "metadata": {
    "collapsed": true
   },
   "outputs": [],
   "source": []
  },
  {
   "cell_type": "code",
   "execution_count": null,
   "metadata": {
    "collapsed": true
   },
   "outputs": [],
   "source": []
  },
  {
   "cell_type": "code",
   "execution_count": null,
   "metadata": {
    "collapsed": true
   },
   "outputs": [],
   "source": []
  },
  {
   "cell_type": "code",
   "execution_count": null,
   "metadata": {
    "collapsed": true
   },
   "outputs": [],
   "source": []
  },
  {
   "cell_type": "code",
   "execution_count": null,
   "metadata": {
    "collapsed": true
   },
   "outputs": [],
   "source": []
  },
  {
   "cell_type": "code",
   "execution_count": null,
   "metadata": {
    "collapsed": true
   },
   "outputs": [],
   "source": []
  },
  {
   "cell_type": "code",
   "execution_count": null,
   "metadata": {
    "collapsed": true
   },
   "outputs": [],
   "source": []
  },
  {
   "cell_type": "code",
   "execution_count": null,
   "metadata": {
    "collapsed": true
   },
   "outputs": [],
   "source": []
  },
  {
   "cell_type": "code",
   "execution_count": null,
   "metadata": {
    "collapsed": true
   },
   "outputs": [],
   "source": []
  },
  {
   "cell_type": "code",
   "execution_count": null,
   "metadata": {
    "collapsed": true
   },
   "outputs": [],
   "source": []
  },
  {
   "cell_type": "code",
   "execution_count": null,
   "metadata": {
    "collapsed": true
   },
   "outputs": [],
   "source": []
  },
  {
   "cell_type": "code",
   "execution_count": null,
   "metadata": {
    "collapsed": true
   },
   "outputs": [],
   "source": []
  }
 ],
 "metadata": {
  "kernelspec": {
   "display_name": "Python 2",
   "language": "python",
   "name": "python2"
  },
  "language_info": {
   "codemirror_mode": {
    "name": "ipython",
    "version": 2
   },
   "file_extension": ".py",
   "mimetype": "text/x-python",
   "name": "python",
   "nbconvert_exporter": "python",
   "pygments_lexer": "ipython2",
   "version": "2.7.11"
  }
 },
 "nbformat": 4,
 "nbformat_minor": 0
}
