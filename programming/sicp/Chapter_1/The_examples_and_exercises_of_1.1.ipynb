{
 "cells": [
  {
   "cell_type": "markdown",
   "metadata": {},
   "source": [
    "# 1.1 The Elements of Programming"
   ]
  },
  {
   "cell_type": "markdown",
   "metadata": {
    "collapsed": true
   },
   "source": [
    "## Example 1:Case Analysis"
   ]
  },
  {
   "cell_type": "markdown",
   "metadata": {},
   "source": [
    "The absolute-value function:"
   ]
  },
  {
   "cell_type": "markdown",
   "metadata": {},
   "source": [
    "$$\\begin{eqnarray}f(x)=\n",
    "\\begin{cases}\n",
    "1, &x>0\\cr 0, &x=0 \\cr -1, &x<0\\end{cases}\n",
    "\\end{eqnarray}$$"
   ]
  },
  {
   "cell_type": "markdown",
   "metadata": {},
   "source": [
    "This construct is called a $case$ $analysis$, and there is a special form in Lisp for notating such a case analysis. It is called cond (which stands for“conditional”), and it is used as follows:"
   ]
  },
  {
   "cell_type": "raw",
   "metadata": {},
   "source": [
    "(define (abs x)\n",
    "  (cond ((> x 0) x)\n",
    "      ((= x 0) 0)\n",
    "      ((< x 0) (- x))))"
   ]
  },
  {
   "cell_type": "markdown",
   "metadata": {},
   "source": [
    "Another way to write the absolute-value procedure is:"
   ]
  },
  {
   "cell_type": "raw",
   "metadata": {},
   "source": [
    "(define (abs x)\n",
    "  (cond ((< x 0) (- x))\n",
    "      (else x)))"
   ]
  },
  {
   "cell_type": "markdown",
   "metadata": {},
   "source": [
    "Here is yet another way to write the absolute-value procedure:"
   ]
  },
  {
   "cell_type": "raw",
   "metadata": {},
   "source": [
    "(define (abs x) (if (< x 0) (- x) x))"
   ]
  },
  {
   "cell_type": "markdown",
   "metadata": {},
   "source": [
    "## Exercise 1.1: \n",
    "Below is a sequence of expressions. What is the result printed by the interpreter in response to each expression? Assume that the sequence is to be evaluated in the order in which it is presented."
   ]
  },
  {
   "cell_type": "markdown",
   "metadata": {},
   "source": [
    "### Answer:"
   ]
  },
  {
   "cell_type": "markdown",
   "metadata": {},
   "source": [
    "#### Running Instance:"
   ]
  },
  {
   "cell_type": "raw",
   "metadata": {},
   "source": [
    "1 ]=> 10\n",
    "\n",
    ";Value: 10"
   ]
  },
  {
   "cell_type": "raw",
   "metadata": {},
   "source": [
    "1 ]=> (+ 5 3 4)\n",
    "\n",
    ";Value: 12"
   ]
  },
  {
   "cell_type": "raw",
   "metadata": {},
   "source": [
    "1 ]=> (+ (* 2 4) (- 4 6))\n",
    "\n",
    ";Value: 6"
   ]
  },
  {
   "cell_type": "raw",
   "metadata": {},
   "source": [
    "1 ]=> (define a 3)\n",
    "\n",
    ";Value: a\n",
    "\n",
    "1 ]=> (define b (+ a 1))\n",
    "\n",
    ";Value: b\n",
    "\n",
    "1 ]=> (+ a b (* a b))\n",
    "\n",
    ";Value: 19\n",
    "\n",
    "1 ]=> (= a b)\n",
    "\n",
    ";Value: #f"
   ]
  },
  {
   "cell_type": "raw",
   "metadata": {},
   "source": [
    "1 ]=> (if (and (> b a) (< b (* a b)))\n",
    "       b\n",
    "       a)\n",
    "\n",
    ";Value: 4"
   ]
  },
  {
   "cell_type": "raw",
   "metadata": {},
   "source": [
    "1 ]=> (cond ((= a 4) 6)\n",
    "`        ((= b 4) (+ 6 7 a))\n",
    "`        (else 25))\n",
    "\n",
    ";Value: 16"
   ]
  },
  {
   "cell_type": "raw",
   "metadata": {},
   "source": [
    "1 ]=> (+ 2 (if (> b a) b a))\n",
    "\n",
    ";Value: 6"
   ]
  },
  {
   "cell_type": "raw",
   "metadata": {},
   "source": [
    "1 ]=> (* (cond ((> a b) a)\n",
    "`          ((< a b) b)\n",
    "`          (else -1))\n",
    "`      (+ a 1))\n",
    "\n",
    ";Value: 16"
   ]
  },
  {
   "cell_type": "markdown",
   "metadata": {},
   "source": [
    "## Exercise 1.2: \n",
    "Translate the following expression into prefix form:\n",
    "$$\\frac{5\\,+\\,4\\,+\\,(2\\,-\\,(3\\,-\\,(6\\,+\\,\\frac{4}{5})))}{3(6\\,-\\,2)(2\\,-\\,7)}.$$"
   ]
  },
  {
   "cell_type": "markdown",
   "metadata": {},
   "source": [
    "### Answer:"
   ]
  },
  {
   "cell_type": "markdown",
   "metadata": {},
   "source": [
    "#### Running Instance:"
   ]
  },
  {
   "cell_type": "raw",
   "metadata": {},
   "source": [
    "1 ]=> (/ (+ 5 4 (- 2 (- 3 (+ 6 (/ 4 5)))))\n",
    "         (* 3 (- 6 2) (- 2 7)))\n",
    "\n",
    ";Value: -37/150"
   ]
  },
  {
   "cell_type": "markdown",
   "metadata": {},
   "source": [
    "## Exercise 1.3: \n",
    "Define a procedure that takes three numbers as arguments and returns the sum of the squares of the two larger numbers."
   ]
  },
  {
   "cell_type": "markdown",
   "metadata": {},
   "source": [
    "### Answer:"
   ]
  },
  {
   "cell_type": "markdown",
   "metadata": {},
   "source": [
    "$sum$-$of$-$squares$ procedure produces the sum of squares of any two numbers,such as $x^2+y^2$:"
   ]
  },
  {
   "cell_type": "code",
   "execution_count": 1,
   "metadata": {
    "collapsed": false
   },
   "outputs": [
    {
     "name": "stdout",
     "output_type": "stream",
     "text": [
      "(define (sum-of-square x y)\r\n",
      "  (+ (square x) (square y)))\r\n"
     ]
    }
   ],
   "source": [
    "cat 1.1/Exercise_1.3/sum-of-square.scm"
   ]
  },
  {
   "cell_type": "markdown",
   "metadata": {},
   "source": [
    "#### The key idea is how to determine the two larger numbers in any given three numbers."
   ]
  },
  {
   "cell_type": "markdown",
   "metadata": {},
   "source": [
    "### A. Intuitive Method\n",
    "An intuitive method that we can use $cond$ or $if$ conditional expression:"
   ]
  },
  {
   "cell_type": "markdown",
   "metadata": {},
   "source": [
    "###### 1. implemented by cond conditional expression"
   ]
  },
  {
   "cell_type": "code",
   "execution_count": 5,
   "metadata": {
    "collapsed": false
   },
   "outputs": [
    {
     "name": "stdout",
     "output_type": "stream",
     "text": [
      "(load \"1.1/Exercise_1.3/sum-of-square.scm\")\r\n",
      "\r\n",
      "(define (bigger-sum-of-square-by-cond x y z) \r\n",
      "  (cond ((and (> x y) (> y z)) (sum-of-square x y))\r\n",
      "        ((and (> x y) (> z y)) (sum-of-square x z))\r\n",
      "        ((and (> y x) (> x z)) (sum-of-square y x))\r\n",
      "        ((and (> y x) (> z x)) (sum-of-square y z))))\r\n"
     ]
    }
   ],
   "source": [
    "cat 1.1/Exercise_1.3/bigger-sum-of-square-by-cond.scm"
   ]
  },
  {
   "cell_type": "markdown",
   "metadata": {},
   "source": [
    "#### Running Instance:"
   ]
  },
  {
   "cell_type": "raw",
   "metadata": {},
   "source": [
    "1 ]=> (load \"1.1/Exercise_1.3/bigger-sum-of-square-by-cond.scm\")\n",
    "\n",
    ";Loading \"1.1/Exercise_1.3/bigger-sum-of-square-by-cond.scm\"...\n",
    ";  Loading \"1.1/Exercise_1.3/sum-of-square.scm\"... done\n",
    ";... done\n",
    ";Value: bigger-sum-of-square-by-cond\n",
    "\n",
    "1 ]=> (bigger-sum-of-square-by-cond 4 2 3)\n",
    "\n",
    ";Value: 25\n",
    "\n",
    "1 ]=> (bigger-sum-of-square-by-cond 12 15 2)\n",
    "\n",
    ";Value: 369"
   ]
  },
  {
   "cell_type": "markdown",
   "metadata": {},
   "source": [
    "###### 2. implemented by if conditional expression"
   ]
  },
  {
   "cell_type": "code",
   "execution_count": 4,
   "metadata": {
    "collapsed": false
   },
   "outputs": [
    {
     "name": "stdout",
     "output_type": "stream",
     "text": [
      "(load \"1.1/Exercise_1.3/sum-of-square.scm\")\r\n",
      "\r\n",
      "(define (bigger-sum-of-square-by-if x y z)\r\n",
      "  (if (> x y)\r\n",
      "      (if (> y z)\r\n",
      "          (sum-of-square x y)\r\n",
      "          (sum-of-square x z))\r\n",
      "      (if (> x z)\r\n",
      "          (sum-of-square y x)\r\n",
      "          (sum-of-square y z))))\r\n"
     ]
    }
   ],
   "source": [
    "cat 1.1/Exercise_1.3/bigger-sum-of-square-by-if.scm"
   ]
  },
  {
   "cell_type": "markdown",
   "metadata": {},
   "source": [
    "#### Running Instance:"
   ]
  },
  {
   "cell_type": "raw",
   "metadata": {},
   "source": [
    "1 ]=> (load \"1.1/Exercise_1.3/bigger-sum-of-square-by-if.scm\")\n",
    "\n",
    ";Loading \"1.1/Exercise_1.3/bigger-sum-of-square-by-if.scm\"...\n",
    ";  Loading \"1.1/Exercise_1.3/sum-of-square.scm\"... done\n",
    ";... done\n",
    ";Value: bigger-sum-of-square-by-if\n",
    "\n",
    "1 ]=> (bigger-sum-of-square-by-if 4 2 3)\n",
    "\n",
    ";Value: 25\n",
    "\n",
    "1 ]=> (bigger-sum-of-square-by-if 12 15 2)\n",
    "\n",
    ";Value: 369"
   ]
  },
  {
   "cell_type": "markdown",
   "metadata": {},
   "source": [
    "### B. Abstract Method"
   ]
  },
  {
   "cell_type": "markdown",
   "metadata": {},
   "source": [
    "We can define $bigger$ procedure that returns maximum of any two numbers,and $smaller$ procedure that retruns minimum of any two numbers"
   ]
  },
  {
   "cell_type": "code",
   "execution_count": 6,
   "metadata": {
    "collapsed": false
   },
   "outputs": [
    {
     "name": "stdout",
     "output_type": "stream",
     "text": [
      "(define (bigger x y) (if (> x y) x y))\r\n",
      "(define (smaller x y) (if (> x y) y x))\r\n"
     ]
    }
   ],
   "source": [
    "cat  1.1/Exercise_1.3/bigger-and-smaller.scm"
   ]
  },
  {
   "cell_type": "markdown",
   "metadata": {},
   "source": [
    "So,we can do it:"
   ]
  },
  {
   "cell_type": "code",
   "execution_count": 7,
   "metadata": {
    "collapsed": false
   },
   "outputs": [
    {
     "name": "stdout",
     "output_type": "stream",
     "text": [
      "(load \"1.1/Exercise_1.3/sum-of-square.scm\")\r\n",
      "(load \"1.1/Exercise_1.3/bigger-and-smaller.scm\")\r\n",
      "\r\n",
      "(define (bigger-sum-of-square-by-abstract x y z)\r\n",
      "  (sum-of-square (bigger x y) (bigger (smaller x y) z)))\r\n"
     ]
    }
   ],
   "source": [
    "cat 1.1/Exercise_1.3/bigger-sum-of-square-by-abstract.scm"
   ]
  },
  {
   "cell_type": "markdown",
   "metadata": {},
   "source": [
    "#### Running Instance:"
   ]
  },
  {
   "cell_type": "raw",
   "metadata": {},
   "source": [
    "1 ]=> (load \"1.1/Exercise_1.3/bigger-sum-of-square-by-abstract.scm\")\n",
    "\n",
    ";Loading \"1.1/Exercise_1.3/bigger-sum-of-square-by-abstract.scm\"...\n",
    ";  Loading \"1.1/Exercise_1.3/sum-of-square.scm\"... done\n",
    ";  Loading \"1.1/Exercise_1.3/bigger-and-smaller.scm\"... done\n",
    ";... done\n",
    ";Value: bigger-sum-of-square-by-abstract\n",
    "\n",
    "1 ]=> (bigger-sum-of-square-by-abstract 4 2 3)\n",
    "\n",
    ";Value: 25\n",
    "\n",
    "1 ]=> (bigger-sum-of-square-by-abstract 12 15 2)\n",
    "\n",
    ";Value: 369"
   ]
  },
  {
   "cell_type": "markdown",
   "metadata": {},
   "source": [
    "## Exercise 1.4: \n",
    "Observe that our model of evaluation allows for combinations whose operators are compound expressions.Use this observation to describe the behavior of the following procedure:"
   ]
  },
  {
   "cell_type": "raw",
   "metadata": {},
   "source": [
    "(define (a-plus-abs-b a b)\n",
    "  ((if (> b 0) + -) a b))"
   ]
  },
  {
   "cell_type": "markdown",
   "metadata": {},
   "source": [
    "### Answer:"
   ]
  },
  {
   "cell_type": "markdown",
   "metadata": {},
   "source": [
    "$a$-$plus$-$abs$-b$ is the first example of a higher order procedure."
   ]
  },
  {
   "cell_type": "markdown",
   "metadata": {},
   "source": [
    "In $if$ conditional expression,when $b>0$,it returns $+$ primitive procedure."
   ]
  },
  {
   "cell_type": "raw",
   "metadata": {},
   "source": [
    "1 ]=> (if (> 1 0) + -)\n",
    "\n",
    ";Value 13: #[arity-dispatched-procedure 13]\n",
    "\n",
    "1 ]=> +\n",
    "\n",
    ";Value 13: #[arity-dispatched-procedure 13]"
   ]
  },
  {
   "cell_type": "markdown",
   "metadata": {},
   "source": [
    "When $b<0$ or $b=0$,it returns $-$ primitive procedure."
   ]
  },
  {
   "cell_type": "raw",
   "metadata": {},
   "source": [
    "1 ]=> (if (> -1 0) + -)\n",
    "\n",
    ";Value 14: #[arity-dispatched-procedure 14]\n",
    "\n",
    "1 ]=> -\n",
    "\n",
    ";Value 14: #[arity-dispatched-procedure 14]"
   ]
  },
  {
   "cell_type": "markdown",
   "metadata": {},
   "source": [
    "#### Running Instance:"
   ]
  },
  {
   "cell_type": "code",
   "execution_count": 9,
   "metadata": {
    "collapsed": false
   },
   "outputs": [
    {
     "name": "stdout",
     "output_type": "stream",
     "text": [
      "(define (a-plus-abs-b a b)\r\n",
      "  ((if (> b 0) + -) a b))\r\n"
     ]
    }
   ],
   "source": [
    "cat 1.1/Exercise_1.4/a-plus-abs-b.scm"
   ]
  },
  {
   "cell_type": "raw",
   "metadata": {},
   "source": [
    "1 ]=> (load \"1.1/Exercise_1.4/a-plus-abs-b.scm\")\n",
    "\n",
    ";Loading \"1.1/Exercise_1.4/a-plus-abs-b.scm\"... done\n",
    ";Value: a-plus-abs-b\n",
    "\n",
    "1 ]=> (a-plus-abs-b 2 2)\n",
    "\n",
    ";Value: 4\n",
    "\n",
    "1 ]=> (a-plus-abs-b 2 (- 2))\n",
    "\n",
    ";Value: 4"
   ]
  },
  {
   "cell_type": "markdown",
   "metadata": {},
   "source": [
    "## Exercise 1.5: \n",
    "Ben Bitdiddle has invented a test to determine whether the interpreter he is faced with is using applicativeorder evaluation or normal-order evaluation. He defines the following two procedures:"
   ]
  },
  {
   "cell_type": "raw",
   "metadata": {},
   "source": [
    "(define (p) (p))\n",
    "(define (test x y) (if (= x 0) 0 y))"
   ]
  },
  {
   "cell_type": "markdown",
   "metadata": {},
   "source": [
    "Then he evaluates the expression"
   ]
  },
  {
   "cell_type": "raw",
   "metadata": {},
   "source": [
    "(test 0 (p))"
   ]
  },
  {
   "cell_type": "markdown",
   "metadata": {},
   "source": [
    "What behavior will Ben observe with an interpreter that uses applicative-order evaluation? What behavior will he observe with an interpreter that uses normal-order evaluation? Explain your answer. (Assume that the evaluation rule for the special form if is the same whether the interpreter is using normal or applicative order: The predicate expression is evaluated first, and the result determines whether to evaluate the consequent or the alternative expression.)"
   ]
  },
  {
   "cell_type": "markdown",
   "metadata": {},
   "source": [
    "### 解答:"
   ]
  },
  {
   "cell_type": "markdown",
   "metadata": {},
   "source": [
    "首先可以确定的是，无论解释器使用何种求值方式，调用(p)总是会进入无限循环，因为过程p会不断调用自身。具体到解释器中，调用(p)会让解释器陷入停滞："
   ]
  },
  {
   "cell_type": "raw",
   "metadata": {},
   "source": [
    "1 ]=> (define (p) (p))\n",
    "\n",
    ";Value: p\n",
    "\n",
    "1 ]=> (p)\n",
    "\n",
    "[3]+  Stopped                 rlwrap scheme\n",
    "liheyi@analysis:~$ killall scheme"
   ]
  },
  {
   "cell_type": "markdown",
   "metadata": {},
   "source": [
    "由于在应用序求值过程中，所有传入的实际参数都会立刻被求值，因此在使用应用序的解释器里执行(test 0 (p))时，实际参数0和(p)都会被立刻求值，而对(p)的求值使得解释器进入无线循环而停滞；因此如果一个解释器在运行Ben的测试时立刻陷入停滞，则说明该解释器使用的是应用序求值模式。"
   ]
  },
  {
   "cell_type": "markdown",
   "metadata": {},
   "source": [
    "另一方面，在正则序求值模式中，所有传入的实际参数只有在有需要时才会被求值，因此在使用正则序的解释器里执行(test 0 (p))时，0和(p)都不会立刻被求值，当解释进行到if表达式时，形式参数x的实际参数(即0)会被求值(求值结果也是0)，然后和另一个0进行比较((= x 0)),因为比较结果为真(#t),所以if表达式返回0作为值，即作为test过程调用返回的值。而对于(p)始终没有被执行，所以就不会产生无限循环而让解释器陷入停滞，因此如果一个解释器在运行Ben的测试时返回0，那么说解该解释器使用的是正则序求值模式。"
   ]
  },
  {
   "cell_type": "markdown",
   "metadata": {},
   "source": [
    "测试我的scheme解释器的求值模式为应用序求值模式:"
   ]
  },
  {
   "cell_type": "code",
   "execution_count": 11,
   "metadata": {
    "collapsed": false
   },
   "outputs": [
    {
     "name": "stdout",
     "output_type": "stream",
     "text": [
      "(define (p) (p))\r\n",
      "(define (test x y) (if (= x 0) 0 y))\r\n"
     ]
    }
   ],
   "source": [
    "cat 1.1/Exercise_1.5/applicative-order?_or_normal-order?.scm"
   ]
  },
  {
   "cell_type": "markdown",
   "metadata": {},
   "source": [
    "#### Running Instance:"
   ]
  },
  {
   "cell_type": "raw",
   "metadata": {},
   "source": [
    "1 ]=> (load \"1.1/Exercise_1.5/applicative-order?_or_normal-order?.scm\")\n",
    "\n",
    ";Loading \"1.1/Exercise_1.5/applicative-order?_or_normal-order?.scm\"... done\n",
    ";Value: test\n",
    "\n",
    "1 ]=> (test 0 (p))\n",
    "\n",
    "[1]+  Stopped                 rlwrap scheme"
   ]
  },
  {
   "cell_type": "markdown",
   "metadata": {
    "collapsed": true
   },
   "source": [
    "## Example 2:Square Roots by Newton’s Method"
   ]
  },
  {
   "cell_type": "markdown",
   "metadata": {},
   "source": [
    "Consider the problem of computing square roots.We can define the square-root function as"
   ]
  },
  {
   "cell_type": "markdown",
   "metadata": {},
   "source": [
    "$$\\sqrt{x}\\;=\\;\\text{the y such that}\\;y\\geq0\\;\\text{and}\\;y^2=x.$$"
   ]
  },
  {
   "cell_type": "markdown",
   "metadata": {},
   "source": [
    "How does one compute square roots? The most common way is to use Newton’s method of successive approximations, which says that whenever we have a guess $y$ for the value of the square root of a number $x$, we can perform a simple manipulation to get a better guess (one closer to the actual square root) by averaging $y$ with $x/y$. For example, we can compute the square root of 2 as follows. Suppose our initial guess is 1:"
   ]
  },
  {
   "cell_type": "raw",
   "metadata": {},
   "source": [
    "Guess           Quotient            Average\n",
    "1              (2/1) = 2           ((2 + 1)/2) = 1.5\n",
    "1.5            `(2/1.5) = 1.3333      `((1.3333 + 1.5)/2) = 1.4167\n",
    "1.4167          `(2/1.4167) = 1.4118    `((1.4167 + 1.4118)/2) = 1.4142\n",
    "1.4142           ...               ..."
   ]
  },
  {
   "cell_type": "markdown",
   "metadata": {},
   "source": [
    "Continuing this process, we obtain better and better approximations to the square root."
   ]
  },
  {
   "cell_type": "markdown",
   "metadata": {},
   "source": [
    "Now let’s formalize the process in terms of procedures. We start with a value for the radicand (the number whose square root we are trying to compute) and a value for the guess. If the guess is good enough for our purposes, we are done; if not, we must repeat the process with an improved guess. We write this basic strategy as a procedure:"
   ]
  },
  {
   "cell_type": "raw",
   "metadata": {},
   "source": [
    "(define (sqrt-iter guess x)\n",
    "  (if (good-enough? guess x)\n",
    "`    guess\n",
    "`    (sqrt-iter (improve guess x) x)))"
   ]
  },
  {
   "cell_type": "markdown",
   "metadata": {},
   "source": [
    "A guess is improved by averaging it with the quotient of the radicand and the old guess:"
   ]
  },
  {
   "cell_type": "raw",
   "metadata": {},
   "source": [
    "(define (improve guess x) (average guess (/ x guess)))\n",
    "(define (average x y) (/ (+ x y) 2))"
   ]
  },
  {
   "cell_type": "markdown",
   "metadata": {},
   "source": [
    "We also have to say what we mean by “good enough.”The idea is to improve the answer until it is close enough so that its square differs from the radicand by less than a predetermined tolerance (here 0.001)"
   ]
  },
  {
   "cell_type": "raw",
   "metadata": {},
   "source": [
    "(define (good-enough? guess x) (< (abs (- (square guess) x)) 0.001))"
   ]
  },
  {
   "cell_type": "markdown",
   "metadata": {},
   "source": [
    "Finally, we need a way to get started.   \n",
    "For instance, we can always guess that the square root of any number is 1.0:"
   ]
  },
  {
   "cell_type": "raw",
   "metadata": {},
   "source": [
    "define (square-root x) (sqrt-iter 1.0 x))"
   ]
  },
  {
   "cell_type": "markdown",
   "metadata": {},
   "source": [
    "If we type these definitions to the interpreter, we can use square-root just as we can use any procedure"
   ]
  },
  {
   "cell_type": "code",
   "execution_count": 1,
   "metadata": {
    "collapsed": false
   },
   "outputs": [
    {
     "name": "stdout",
     "output_type": "stream",
     "text": [
      "(define (average x y) (/ (+ x y) 2))\r\n",
      "(define (improve guess x) (average guess (/ x guess)))\r\n",
      "\r\n",
      "(define (good-enough? guess x)\r\n",
      "  (< (abs (- (square guess) x)) 0.001))\r\n",
      "\r\n",
      "(define (sqrt-iter guess x)\r\n",
      "  (if (good-enough? guess x)\r\n",
      "      guess\r\n",
      "      (sqrt-iter (improve guess x) x)))\r\n",
      "\r\n",
      "(define (square-root x) (sqrt-iter 1.0 x))\r\n"
     ]
    }
   ],
   "source": [
    "cat 1.1/Example_2/square-root-by-newton-method.scm"
   ]
  },
  {
   "cell_type": "markdown",
   "metadata": {},
   "source": [
    "#### Running Instance:"
   ]
  },
  {
   "cell_type": "raw",
   "metadata": {},
   "source": [
    "1 ]=> (load \"1.1/Example_2/square-root-by-newton-method.scm\")\n",
    "\n",
    ";Loading \"1.1/Example_2/square-root-by-newton-method.scm\"... done\n",
    ";Value: square-root\n",
    "\n",
    "1 ]=> (square-root 9)\n",
    "\n",
    ";Value: 3.00009155413138\n",
    "\n",
    "1 ]=> (square-root (+ 100 37))\n",
    "\n",
    ";Value: 11.704699917758145\n",
    "\n",
    "1 ]=> (square-root (+ (square-root 2) (square-root 3)))\n",
    "\n",
    ";Value: 1.7739279023207892\n",
    "\n",
    "1 ]=> (square (square-root 1000))\n",
    "\n",
    ";Value: 1000.000369924366"
   ]
  },
  {
   "cell_type": "markdown",
   "metadata": {},
   "source": [
    "### Internal definitions and block structure"
   ]
  },
  {
   "cell_type": "code",
   "execution_count": 6,
   "metadata": {
    "collapsed": false
   },
   "outputs": [
    {
     "name": "stdout",
     "output_type": "stream",
     "text": [
      "(define (square-root x) \r\n",
      "  (define (average x y) (/ (+ x y) 2))\r\n",
      "  (define (improve guess x) (average guess (/ x guess)))\r\n",
      "  (define (good-enough? guess x)\r\n",
      "    (< (abs (- (square guess) x)) 0.001))\r\n",
      "  (define (sqrt-iter guess x) \r\n",
      "    (if (good-enough? guess x) guess\r\n",
      "        (sqrt-iter (improve guess x) x))\r\n",
      "  (sqrt-iter 1.0 x))\r\n"
     ]
    }
   ],
   "source": [
    "cat 1.1/Example_2/square-root-by-newton-method-by-block-structure.scm"
   ]
  },
  {
   "cell_type": "markdown",
   "metadata": {},
   "source": [
    "#### Running Instance:"
   ]
  },
  {
   "cell_type": "raw",
   "metadata": {},
   "source": [
    "1 ]=> (load \"1.1/Example_2/square-root-by-newton-method-by-block-structure.scm\")\n",
    "\n",
    ";Loading \"1.1/Example_2/square-root-by-newton-method-by-block-structure.scm\"... done\n",
    ";Value: square-root\n",
    "\n",
    "1 ]=> (square-root 9)\n",
    "\n",
    ";Value: 3.00009155413138\n",
    "\n",
    "1 ]=> (square-root 10000)\n",
    "\n",
    ";Value: 100.00000025490743"
   ]
  },
  {
   "cell_type": "markdown",
   "metadata": {},
   "source": [
    "## Exercise 1.6: \n",
    "Alyssa P. Hacker doesn’t see why $if$ needs to be provided as a special form. “Why can’t I just define it as an ordinary procedure in terms of $cond$?” she asks. Alyssa’s friend Eva Lu Ator claims this can indeed be done, and she defines a new version of $if$:"
   ]
  },
  {
   "cell_type": "raw",
   "metadata": {},
   "source": [
    "(define (new-if predicate then-clause else-clause)\n",
    "  (cond (predicate then-clause)\n",
    "      (else else-clause)))"
   ]
  },
  {
   "cell_type": "markdown",
   "metadata": {},
   "source": [
    "Eva demonstrates the program for Alyssa:"
   ]
  },
  {
   "cell_type": "raw",
   "metadata": {},
   "source": [
    "(new-if (= 2 3) 0 5)\n",
    "5\n",
    "(new-if (= 1 1) 0 5)\n",
    "0"
   ]
  },
  {
   "cell_type": "markdown",
   "metadata": {},
   "source": [
    "Delighted, Alyssa uses $new$-$if$ to rewrite the $square$-$root$ program:"
   ]
  },
  {
   "cell_type": "raw",
   "metadata": {},
   "source": [
    "(define (sqrt-iter guess x)\n",
    "  (new-if (good-enough? guess x)\n",
    "       guess\n",
    "       (sqrt-iter (improve guess x) x)))"
   ]
  },
  {
   "cell_type": "markdown",
   "metadata": {},
   "source": [
    "What happens when Alyssa attempts to use this to compute square roots? Explain."
   ]
  },
  {
   "cell_type": "markdown",
   "metadata": {},
   "source": [
    "### 解答："
   ]
  },
  {
   "cell_type": "markdown",
   "metadata": {},
   "source": [
    "使用new-if过程来构建新的平方根过程："
   ]
  },
  {
   "cell_type": "code",
   "execution_count": 2,
   "metadata": {
    "collapsed": false
   },
   "outputs": [
    {
     "name": "stdout",
     "output_type": "stream",
     "text": [
      "(define (average x y) (/ (+ x y) 2))\r\n",
      "(define (improve guess x) (average guess (/ x guess)))\r\n",
      "\r\n",
      "(define (good-enough? guess x)\r\n",
      "  (< (abs (- (square guess) x)) 0.001))\r\n",
      "\r\n",
      ";;The define of new-if\r\n",
      "(define (new-if predicate then-clause else-clause)\r\n",
      "  (cond (predicate then-clause) (else else-clause)))\r\n",
      "\r\n",
      ";;The define of sqrt-iter used by new-if\r\n",
      "(define (sqrt-iter guess x)\r\n",
      "  (new-if (good-enough? guess x)\r\n",
      "          guess\r\n",
      "          (sqrt-iter (improve guess x) x)))\r\n",
      "\r\n",
      "(define (square-root x) (sqrt-iter 1.0 x))\r\n"
     ]
    }
   ],
   "source": [
    "cat 1.1/Exercise_1.6/square-root-by-new-if.scm"
   ]
  },
  {
   "cell_type": "markdown",
   "metadata": {},
   "source": [
    "#### Running Instance:"
   ]
  },
  {
   "cell_type": "raw",
   "metadata": {},
   "source": [
    "1 ]=> (load \"1.1/Exercise_1.6/square-root-by-new-if.scm\")\n",
    "\n",
    ";Loading \"1.1/Exercise_1.6/square-root-by-new-if.scm\"... done\n",
    ";Value: square-root\n",
    "\n",
    "1 ]=> (square-root 9)\n",
    "\n",
    ";Aborting!: maximum recursion depth exceeded"
   ]
  },
  {
   "cell_type": "markdown",
   "metadata": {},
   "source": [
    "#### 原因分析:"
   ]
  },
  {
   "cell_type": "markdown",
   "metadata": {},
   "source": [
    "The special form $if$, a restricted type of conditional that can be used when there are precisely two cases in the case analysis."
   ]
  },
  {
   "cell_type": "raw",
   "metadata": {},
   "source": [
    "(if ⟨predicate⟩ ⟨consequent⟩ ⟨alternative⟩)"
   ]
  },
  {
   "cell_type": "markdown",
   "metadata": {},
   "source": [
    "To evaluate an $if$ expression, the interpreter starts by evaluating the ⟨predicate⟩ part of the expression. If the ⟨predicate⟩ evaluates to a true value, the interpreter then evaluates the ⟨consequent⟩ and returns its value. Otherwise it evaluates the ⟨alternative⟩ and returns its value."
   ]
  },
  {
   "cell_type": "markdown",
   "metadata": {},
   "source": [
    "另一方面，new-if只是一个普通过程，没有if所具有的特殊形式，根据解释器使用的应用序求值规则，当过程调用时，该过程的实际参数在传入的时候都会被求值。因此当使用new-if时，无论predicate的真假，then-clause和else-clause都会被求值。"
   ]
  },
  {
   "cell_type": "markdown",
   "metadata": {},
   "source": [
    "起初让我困惑的地方在于，混淆了条件表达式cond的求值规则和一般过程应用序求值规则之间的关系。在上面的new-if的测试实例中"
   ]
  },
  {
   "cell_type": "raw",
   "metadata": {},
   "source": [
    "(new-if (= 2 3) 0 5)\n",
    "5\n",
    "(new-if (= 1 1) 0 5)\n",
    "0"
   ]
  },
  {
   "cell_type": "markdown",
   "metadata": {},
   "source": [
    "在实际参数(= 2 3),0和5传入过程new-if的过程体中时，已经按照应用序求值规则对它们进行了求值，分别的求值结果为#f，0和5，然后按照cond条件表达式的求值规则返回对应的值。这里需要特别注意的是：在cond条件表达式进行计算之前，其谓语和所有对应的分支值已经被计算出来了，cond所做的工作仅仅是根据#t或者#f来返回第一个或者第二个值。"
   ]
  },
  {
   "cell_type": "markdown",
   "metadata": {},
   "source": [
    "为了验证这一理解是否合理，我们使用display过程构造一个new-if的调用，对过程display的调用会立即输出相应的内容："
   ]
  },
  {
   "cell_type": "raw",
   "metadata": {},
   "source": [
    "1 ]=> (new-if (> 2 3) (display \"then clause\") (+ 2 3))\n",
    "then clause\n",
    ";Value: 5\n",
    "\n",
    "1 ]=> (new-if (< 2 3) (display \"then clause\") (+ 2 3))\n",
    "then clause\n",
    ";Unspecified return value"
   ]
  },
  {
   "cell_type": "markdown",
   "metadata": {},
   "source": [
    "我们对第一个调用进行分析，按照上面的理解，首先按照应用序求值规则对谓语(> 2 3)和then分支语句(display \"then clause\")即else分支语句(+ 2 3)进行求值，分别得到#f,在屏幕上输出\"then clause\"，以及整数5；然后进入new-if过程体中cond表达式进行求值，由于谓语为#f，则cond表达式返回else分支语句的值，即5，所以有如上的运行结果。对于第二个调用来说，在执行cond表达式求值之前，得到的应用序求值结果分别是#t，在屏幕上输出\"then clause\",以及整数5，在执行cond表达式求值时，由于谓语为#t，则返回then分支语句的值作为cond表达式的返回值，然而display过程在上面传入前被调用后无返回值，所以会在屏幕输出\"Unspecified return value\"的提示，所以有如上的运行结果。"
   ]
  },
  {
   "cell_type": "markdown",
   "metadata": {},
   "source": [
    "通过上面这个实例，我们就不难理解在习题集中给出的另外一个实例："
   ]
  },
  {
   "cell_type": "raw",
   "metadata": {},
   "source": [
    "1 ]=> (if #t (display \"good\") (display \"bad\"))\n",
    "good\n",
    ";Unspecified return value\n",
    "\n",
    "1 ]=> (new-if #t (display \"good\") (display \"bad\"))\n",
    "badgood\n",
    ";Unspecified return value"
   ]
  },
  {
   "cell_type": "markdown",
   "metadata": {},
   "source": [
    "#### 总结："
   ]
  },
  {
   "cell_type": "markdown",
   "metadata": {},
   "source": [
    "根据上述原因分析，说明了为什么用new-if重新定义的sqrt-iter会导致错误：  \n",
    "无论good-enough?过程的测试结果如何，sqrt-iter过程会一直递归下去，直到栈溢出。"
   ]
  },
  {
   "cell_type": "markdown",
   "metadata": {},
   "source": [
    "## Exercise 1.7: \n",
    "The good-enough? test used in computing square roots will not be very effective for finding the square roots of very small numbers. Also, in realcomputers, arithmetic operations are almost always performed with limited precision. This makes our test inadequate for very large numbers. Explain these statements, with examples showing how the test fails for small and large numbers. An alternative strategy for implementing good-enough? is to watch how guess changes from one iteration to the next and to stop when the change is a very small fraction of the guess.Design a square-root procedure that uses this kind of end test. Does this work better for small and large numbers?"
   ]
  },
  {
   "cell_type": "markdown",
   "metadata": {},
   "source": [
    "### 解答:"
   ]
  },
  {
   "cell_type": "markdown",
   "metadata": {},
   "source": [
    "使用Example_2中平方根过程对很小的数和很大的数进行求平方根测试："
   ]
  },
  {
   "cell_type": "code",
   "execution_count": 3,
   "metadata": {
    "collapsed": false
   },
   "outputs": [
    {
     "name": "stdout",
     "output_type": "stream",
     "text": [
      "(define (average x y) (/ (+ x y) 2))\r\n",
      "(define (improve guess x) (average guess (/ x guess)))\r\n",
      "\r\n",
      "(define (good-enough? guess x)\r\n",
      "  (< (abs (- (square guess) x)) 0.001))\r\n",
      "\r\n",
      "(define (sqrt-iter guess x)\r\n",
      "  (if (good-enough? guess x)\r\n",
      "      guess\r\n",
      "      (sqrt-iter (improve guess x) x)))\r\n",
      "\r\n",
      "(define (square-root x) (sqrt-iter 1.0 x))\r\n"
     ]
    }
   ],
   "source": [
    "cat 1.1/Example_2/square-root-by-newton-method.scm"
   ]
  },
  {
   "cell_type": "markdown",
   "metadata": {},
   "source": [
    "#### Running Instance:"
   ]
  },
  {
   "cell_type": "markdown",
   "metadata": {},
   "source": [
    "###### I. Small Number"
   ]
  },
  {
   "cell_type": "raw",
   "metadata": {},
   "source": [
    "1 ]=> (load \"1.1/Example_2/square-root-by-newton-method.scm\")\n",
    "\n",
    ";Loading \"1.1/Example_2/square-root-by-newton-method.scm\"... done\n",
    ";Value: square-root\n",
    "\n",
    "1 ]=> (square-root 0.00009)\n",
    "\n",
    ";Value: .03220324381282134\n",
    "\n",
    ";;反向平方验证\n",
    ";;发现误差很大\n",
    "1 ]=> (square .03220324381282134)\n",
    "\n",
    ";Value: 1.0370489120680158e-3\n",
    "\n",
    ";;误差率达到1052%！\n",
    "In [1]: (1.0370489120680158e-3 - 0.00009) / 0.00009\n",
    "Out[1]: 10.522765689644618"
   ]
  },
  {
   "cell_type": "markdown",
   "metadata": {},
   "source": [
    "###### II. Big Number"
   ]
  },
  {
   "cell_type": "raw",
   "metadata": {},
   "source": [
    "1 ]=> (square-root 90000000000000000000000000000000000000000000000000)\n",
    "\n",
    ";;直接停滞！\n",
    "\n",
    "Interrupt option (? for help): \n",
    ";Up!"
   ]
  },
  {
   "cell_type": "markdown",
   "metadata": {},
   "source": [
    "对于特别小的数，比如 0.00009，实例Example_2中的square-root并不能计算出正确的答案；  \n",
    "对于特别大的数，由于mit-scheme实现的小数精度不足以表示两个大数之间的差，所以square-root会陷入死循环而无法得出正确结果"
   ]
  },
  {
   "cell_type": "markdown",
   "metadata": {},
   "source": [
    "按照题目中给出的提示，我们重新定义good-enough？过程：检测相邻两个猜测值guess之间的比率，当比率变化非常小时，如0.001，则停止improve"
   ]
  },
  {
   "cell_type": "code",
   "execution_count": 4,
   "metadata": {
    "collapsed": false
   },
   "outputs": [
    {
     "name": "stdout",
     "output_type": "stream",
     "text": [
      "(define (average x y) (/ (+ x y) 2))\r\n",
      "(define (improve guess x) (average guess (/ x guess)))\r\n",
      "\r\n",
      ";(define (good-enough? guess x)\r\n",
      ";  (< (abs (- (square guess) x)) 0.001))\r\n",
      "(define (good-enough? old-guess new-guess)\r\n",
      "  (< (/ (abs (- new-guess old-guess)) old-guess) 0.001))\r\n",
      "\r\n",
      ";(define (sqrt-iter guess x)\r\n",
      ";  (if (good-enough? guess x)\r\n",
      ";      guess\r\n",
      ";      (sqrt-iter (improve guess x) x)))\r\n",
      "(define (sqrt-iter guess x)\r\n",
      "  (if (good-enough? guess (improve guess x))\r\n",
      "      (improve guess x)\r\n",
      "      (sqrt-iter (improve guess x) x)))\r\n",
      "\r\n",
      "(define (square-root x) (sqrt-iter 1.0 x))\r\n"
     ]
    }
   ],
   "source": [
    "cat 1.1/Exercise_1.7/square-root-by-ratio.scm"
   ]
  },
  {
   "cell_type": "markdown",
   "metadata": {},
   "source": [
    "#### Running Instance:"
   ]
  },
  {
   "cell_type": "raw",
   "metadata": {},
   "source": [
    "1 ]=> (load \"1.1/Exercise_1.7/square-root-by-ratio.scm\")\n",
    "\n",
    ";Loading \"1.1/Exercise_1.7/square-root-by-ratio.scm\"... done\n",
    ";Value: square-root\n",
    "\n",
    "1 ]=> (square-root 0.00009)\n",
    "\n",
    ";Value: 9.486833049684392e-3\n",
    "\n",
    ";;反向验证发现误差很小\n",
    "1 ]=> (square 9.486833049684392e-3)\n",
    "\n",
    ";Value: 9.000000131258407e-5\n",
    "\n",
    "1 ]=> (square-root 90000000000000000000000000000000000000000000000000)\n",
    "\n",
    ";Value: 9.486834544542365e24\n",
    "\n",
    "1 ]=>  (square-root 9e50)\n",
    "\n",
    ";Value: 3.0000000065711664e25"
   ]
  },
  {
   "cell_type": "markdown",
   "metadata": {},
   "source": [
    "## Exercise 1.8: \n",
    "Newton’s method for $cube$ $roots$ is based on the fact that if $y$ is an approximation to the cube root of $x$, then a better approximation is given by the value"
   ]
  },
  {
   "cell_type": "markdown",
   "metadata": {},
   "source": [
    "$$\\frac{x/y^2+2y}{3}.$$"
   ]
  },
  {
   "cell_type": "markdown",
   "metadata": {},
   "source": [
    "Use this formula to implement a $cube$-$root$ procedure analogous to the $square$-$root$ procedure.(In Section 1.3.4 we will see how to implement Newton’s method in general as an abstraction of these square-root and cube-root procedures.)"
   ]
  },
  {
   "cell_type": "markdown",
   "metadata": {},
   "source": [
    "### Answer:"
   ]
  },
  {
   "cell_type": "code",
   "execution_count": 5,
   "metadata": {
    "collapsed": false
   },
   "outputs": [
    {
     "name": "stdout",
     "output_type": "stream",
     "text": [
      "(define (improve guess x)\r\n",
      "  (/ (+ (/ x (square guess)) ( * 2 guess)) 3))\r\n",
      "\r\n",
      "(define (good-enough? old-guess new-guess)\r\n",
      "  (< (/ (abs (- new-guess old-guess)) old-guess) 0.001))\r\n",
      "\r\n",
      "(define (cube-iter guess x)\r\n",
      "  (if (good-enough? guess (improve guess x))\r\n",
      "      (improve guess x)\r\n",
      "      (cube-iter (improve guess x) x)))\r\n",
      "\r\n",
      "(define (cube-root x) (cube-iter 1.0 x))\r\n"
     ]
    }
   ],
   "source": [
    "cat 1.1/Exercise_1.8/cube-root-by-newton-method.scm "
   ]
  },
  {
   "cell_type": "markdown",
   "metadata": {},
   "source": [
    "#### Running Instance:"
   ]
  },
  {
   "cell_type": "raw",
   "metadata": {},
   "source": [
    "1 ]=> (load \"1.1/Exercise_1.8/cube-root-by-newton-method.scm\")\n",
    "\n",
    ";Loading \"1.1/Exercise_1.8/cube-root-by-newton-method.scm\"... done\n",
    ";Value: cube-root\n",
    "\n",
    "1 ]=> (cube-root 27)\n",
    "\n",
    ";Value: 3.0000005410641766\n",
    "\n",
    "1 ]=> (cube-root 125)\n",
    "\n",
    ";Value: 5.000000000287929\n",
    "\n",
    "1 ]=> (cube-root 0.000000009)\n",
    "\n",
    ";Value: .00208008382311658\n",
    "\n",
    "1 ]=> (cube-root 5e100)\n",
    "\n",
    ";Value: 3.6840315091118755e33"
   ]
  }
 ],
 "metadata": {
  "kernelspec": {
   "display_name": "Python 2",
   "language": "python",
   "name": "python2"
  },
  "language_info": {
   "codemirror_mode": {
    "name": "ipython",
    "version": 2
   },
   "file_extension": ".py",
   "mimetype": "text/x-python",
   "name": "python",
   "nbconvert_exporter": "python",
   "pygments_lexer": "ipython2",
   "version": "2.7.11"
  }
 },
 "nbformat": 4,
 "nbformat_minor": 0
}
