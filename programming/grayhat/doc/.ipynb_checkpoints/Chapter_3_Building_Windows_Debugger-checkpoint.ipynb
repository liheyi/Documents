{
 "cells": [
  {
   "cell_type": "markdown",
   "metadata": {},
   "source": [
    "#### 说明：\n",
    "$\\bullet\\quad$本章主要涉及的Python文件是：$\\text{debugger_defines.py}$，$\\text{debugger.py}$和$\\text{test.py}$  "
   ]
  },
  {
   "cell_type": "markdown",
   "metadata": {},
   "source": [
    "$\\bullet\\quad$$\\text{debugger_defines.py}$存放调试器所需的结构体、联合体和常量，直接使用源代码包中的文件"
   ]
  },
  {
   "cell_type": "markdown",
   "metadata": {},
   "source": [
    "$\\bullet\\quad$$\\text{debugger.py}$实现我们的Windows下的轻量级调试器，逐步完善"
   ]
  },
  {
   "cell_type": "markdown",
   "metadata": {},
   "source": [
    "$\\bullet\\quad$$\\text{test.py}$是调试器逐步完善过程中的测试脚本(测试套件)，逐步完善"
   ]
  },
  {
   "cell_type": "markdown",
   "metadata": {},
   "source": [
    "## 1.调试器直接调用程序"
   ]
  },
  {
   "cell_type": "code",
   "execution_count": null,
   "metadata": {
    "collapsed": true
   },
   "outputs": [],
   "source": [
    "# debugger.py\n",
    "# Run the executable from the debugger itself\n",
    "\n",
    "from ctypes import *\n",
    "from debugger_defines import *\n",
    "\n",
    "kernel32 = windll.kernel32\n",
    "\n",
    "class debugger():\n",
    "\n",
    "    def __init__(self):\n",
    "        pass\n",
    "\n",
    "    def load(self, path_to_exe):\n",
    "        \n",
    "        # dwCreation flag determines how to create the process\n",
    "        # set creation_flags = CREATE_NEW_CONSOLE if you want\n",
    "        # to see the calculator GUI\n",
    "        creation_flags = DEBUG_PROCESS\n",
    "        \n",
    "        # instantiate the structs\n",
    "        startupinfo         = STARTUPINFO()\n",
    "        process_information = PROCESS_INFORMATION()\n",
    "        \n",
    "        # The following two options allow the started process\n",
    "        # to be shown as a separate window. This also illustrates\n",
    "        # how different settings in the STARTUPINFO struct can affect\n",
    "        # the debuggee.\n",
    "        startupinfo.dwFlags     = 0x1\n",
    "        startupinfo.wShowWindow = 0x0\n",
    "        \n",
    "        # We then initialize the cb variable in the STARTUPINFO struct\n",
    "        # which is just the size of the struct itself\n",
    "        startupinfo.cb = sizeof(startupinfo)\n",
    "        \n",
    "        if kernel32.CreateProcessA(path_to_exe,\n",
    "                                    None,\n",
    "                                    None,\n",
    "                                    None,\n",
    "                                    None,\n",
    "                                    creation_flags,\n",
    "                                    None,\n",
    "                                    None,\n",
    "                                    byref(startupinfo),\n",
    "                                    byref(process_information)):\n",
    "            print \"[*] we have successfully launched the process!\"\n",
    "            print \"[*] PID:%d\" % process_information.dwProcessId\n",
    "        else:\n",
    "            print \"[*] Error:0x%08x.\" % kernel32.GetLastError()"
   ]
  },
  {
   "cell_type": "code",
   "execution_count": null,
   "metadata": {
    "collapsed": true
   },
   "outputs": [],
   "source": [
    "# test.py\n",
    "# run the executable from the debugger itself\n",
    "\n",
    "import debugger\n",
    "\n",
    "debugger = debugger.debugger()\n",
    "\n",
    "debugger.load(r\"C:\\Windows\\System32\\calc.exe\")"
   ]
  },
  {
   "cell_type": "markdown",
   "metadata": {},
   "source": [
    "#### 说明：\n",
    "$\\bullet\\quad$由于$\\text{debugger_defines.py}$使用的是源代码包中的文件，较长，故暂时不展示出来"
   ]
  },
  {
   "cell_type": "markdown",
   "metadata": {},
   "source": [
    "$\\bullet\\quad$$\\text{debugger_defines.py}$中定义的结构体、联合体和常量，将有另外的文档进行说明"
   ]
  },
  {
   "cell_type": "markdown",
   "metadata": {},
   "source": [
    "$\\bullet\\quad$$\\text{debugger.py}$中调用的$\\text{Microsoft Win32 API}$，将有另外的文档进行说明"
   ]
  },
  {
   "cell_type": "markdown",
   "metadata": {},
   "source": [
    "#### 运行测试："
   ]
  },
  {
   "cell_type": "raw",
   "metadata": {},
   "source": [
    "Administrator@USER-20161209ZR /c/Python27\n",
    "$ python /z/grayhat/codes-for-sec-3/test.py\n",
    "[*] we have successfully launched the process!\n",
    "[*] PID:1612"
   ]
  },
  {
   "cell_type": "markdown",
   "metadata": {},
   "source": [
    "If you execute this Python file either via the command line or from your IDE, it will spawn the process you entered, report the process identifier (PID), and then exit. If you use my example of calc.exe, you will not see the calculator’s GUI appear. The reason you won’t see the GUI is because the process hasn’t painted it to the screen yet, because it is waiting for the debugger to continue execution. We haven’t built the logic to do that yet, but it’s coming soon! You now know how to spawn a process that is ready to be debugged. It’s time to whip up some code that attaches a debugger to a running process."
   ]
  },
  {
   "cell_type": "markdown",
   "metadata": {},
   "source": [
    "## 2.调试器附加到指定进程"
   ]
  },
  {
   "cell_type": "code",
   "execution_count": null,
   "metadata": {
    "collapsed": true
   },
   "outputs": [],
   "source": [
    "# debugger.py\n",
    "# Attach the debugger to the specified process\n",
    "# Such as calc.exe\n",
    "\n",
    "from ctypes import *\n",
    "from debugger_defines import *\n",
    "\n",
    "kernel32 = windll.kernel32\n",
    "\n",
    "class debugger():\n",
    "\n",
    "    def __init__(self):\n",
    "        pass\n",
    "\n",
    "\n",
    "    def load(self, path_to_exe):\n",
    "\n",
    "        # dwCreation flag determines how to create the process\n",
    "        # set creation_flags = CREATE_NEW_CONSOLE if you want\n",
    "        # to see the calculator GUI\n",
    "        creation_flags = DEBUG_PROCESS\n",
    "\n",
    "        # instantiate the structs\n",
    "        startupinfo         = STARTUPINFO()\n",
    "        process_information = PROCESS_INFORMATION()\n",
    "\n",
    "        # The following two options allow the started process\n",
    "        # to be shown as a separate window. This also illustrates\n",
    "        # how different settings in the STARTUPINFO struct can affect\n",
    "        # the debuggee.\n",
    "        startupinfo.dwFlags     = 0x1\n",
    "        startupinfo.wShowWindow = 0x0\n",
    "\n",
    "        # We then initialize the cb variable in the STARTUPINFO struct\n",
    "        # which is just the size of the struct itself\n",
    "        startupinfo.cb = sizeof(startupinfo)\n",
    "\n",
    "        if kernel32.CreateProcessA(path_to_exe,\n",
    "                                    None,\n",
    "                                    None,\n",
    "                                    None,\n",
    "                                    None,\n",
    "                                    creation_flags,\n",
    "                                    None,\n",
    "                                    None,\n",
    "                                    byref(startupinfo),\n",
    "                                    byref(process_information)):\n",
    "            print \"[*] we have successfully launched the process!\"\n",
    "            print \"[*] PID:%d\" % process_information.dwProcessId\n",
    "        else:\n",
    "            print \"[*] Error:0x%08x.\" % kernel32.GetLastError()\n",
    "\n",
    "            \n",
    "            \n",
    "# --------------------------- Start New Codes ---------------------------\n",
    "    def open_process(self, pid):\n",
    "\n",
    "        h_process = kernel32.OpenProcess(PROCESS_ALL_ACCESS, pid, False)\n",
    "        return h_process\n",
    "\n",
    "\n",
    "    def attach(self, pid):\n",
    "\n",
    "        self.h_process = self.open_process(pid)\n",
    "\n",
    "        # We attempt to attach to the process\n",
    "        # if this fails we exit the call\n",
    "        if kernel32.DebugActiveProcess(pid):\n",
    "            self.debugger_active = True\n",
    "            self.pid             = int(pid)\n",
    "            self.run()\n",
    "        else:\n",
    "            print \"[*] Unable to attach to the process.\"\n",
    "\n",
    "\n",
    "    def run(self):\n",
    "\n",
    "        # Now we have to poll the debuggee for\n",
    "        # debugging events\n",
    "        while self.debugger_active == True:\n",
    "            self.get_debug_event()\n",
    "\n",
    "\n",
    "    def get_debug_event(self):\n",
    "\n",
    "        debug_event     = DEBUG_EVENT()\n",
    "        continue_status = DBG_CONTINUE\n",
    "\n",
    "        if kernel32.WaitForDebugEvent(byref(debug_event), INFINITE):\n",
    "            # We aren't going to build any event handlers\n",
    "            # just yet. Let's just resume the process for now.\n",
    "            raw_input(\"Press a key to continue...\")\n",
    "            self.debugger_active = False\n",
    "            kernel32.ContinueDebugEvent(debug_event.dwProcessId,debug_event.dwThreadId, continue_status)\n",
    "\n",
    "\n",
    "    def detach(self):\n",
    "\n",
    "        if kernel32.DebugActiveProcessStop(self.pid):\n",
    "            print \"[*] Finished debugging. Exiting...\"\n",
    "        else:\n",
    "            print \"There was an error!\"\n",
    "            return False\n",
    "# ---------------------------  End  New Codes ---------------------------"
   ]
  },
  {
   "cell_type": "markdown",
   "metadata": {},
   "source": [
    "#### 说明："
   ]
  },
  {
   "cell_type": "markdown",
   "metadata": {},
   "source": [
    "$\\bullet\\quad$新增的类函数：$\\text{open_process}$、$\\text{attach}$、$\\text{run}$、$\\text{get_debug_event}$、$\\text{detach}$"
   ]
  },
  {
   "cell_type": "code",
   "execution_count": null,
   "metadata": {
    "collapsed": true
   },
   "outputs": [],
   "source": [
    "# test.py\n",
    "# Attach the debugger to the specified process\n",
    "# Such as calc.exe\n",
    "\n",
    "import debugger\n",
    "\n",
    "debugger = debugger.debugger()\n",
    "\n",
    "#debugger.load(r\"C:\\Windows\\System32\\calc.exe\")                          # Comment out\n",
    "\n",
    "# --------------------------- Start New Codes ---------------------------\n",
    "pid = raw_input(\"Enter the PID of the process to attach to: \")\n",
    "\n",
    "debugger.attach(int(pid))\n",
    "\n",
    "debugger.detach()\n",
    "# ---------------------------  End  New Codes ---------------------------"
   ]
  },
  {
   "cell_type": "markdown",
   "metadata": {},
   "source": [
    "#### 说明："
   ]
  },
  {
   "cell_type": "markdown",
   "metadata": {},
   "source": [
    "$\\bullet\\quad$注释掉行$\\text{debugger.load(r\"C:\\Windows\\System32\\calc.exe\")}$"
   ]
  },
  {
   "cell_type": "markdown",
   "metadata": {},
   "source": [
    "$\\bullet\\quad$新增最后三行"
   ]
  },
  {
   "cell_type": "markdown",
   "metadata": {},
   "source": [
    "#### 运行测试："
   ]
  },
  {
   "cell_type": "markdown",
   "metadata": {},
   "source": [
    "$\\bullet\\quad$运行VMware中的Windows XP系统的计算器程序"
   ]
  },
  {
   "cell_type": "markdown",
   "metadata": {},
   "source": [
    "$\\bullet\\quad$运行任务管理，查看计算器进程(calc.exe)的PID"
   ]
  },
  {
   "cell_type": "markdown",
   "metadata": {},
   "source": [
    "$\\bullet\\quad$执行$\\text{test.py}$脚本，出现$\\text{Enter the PID of the process to attach to:}$时输入上述PID"
   ]
  },
  {
   "cell_type": "markdown",
   "metadata": {},
   "source": [
    "$\\bullet\\quad$当出现$\\text{Press a key to continue...}$的提示时，尝试操作计算器，没有任何响应"
   ]
  },
  {
   "cell_type": "markdown",
   "metadata": {},
   "source": [
    "$\\bullet\\quad$在控制台中输入任意键，屏幕打印$\\text{[*] Finished debugging. Exiting...}$， 然后$\\text{test.py}$执行结束"
   ]
  },
  {
   "cell_type": "markdown",
   "metadata": {},
   "source": [
    "$\\bullet\\quad$现在能正常操作计算器"
   ]
  },
  {
   "cell_type": "raw",
   "metadata": {
    "collapsed": true
   },
   "source": [
    "Administrator@USER-20161209ZR /c/Immunity\n",
    "$ python /z/grayhat/codes-for-sec-3/test.py     # 运行test.py，此时可以正常操作计算器\n",
    "Enter the PID of the process to attach to: 1896  `# 输入计算器进程PID\n",
    "Press a key to continue...                `# 此时操作计算器没有任何反应，进程被调试器挂起\n",
    "[*] Finished debugging. Exiting...           # 敲击键盘上任意键后，控制台输出此信息\n",
    "                                  # 然后test.py脚本执行完毕\n",
    "Administrator@USER-20161209ZR /c/Immunity      `# 现在可以正常操作计算器\n",
    "$"
   ]
  },
  {
   "cell_type": "markdown",
   "metadata": {
    "collapsed": true
   },
   "source": [
    "如果上述程序正常运行，则注释掉$\\text{debugger.py}$中："
   ]
  },
  {
   "cell_type": "markdown",
   "metadata": {
    "collapsed": true
   },
   "source": [
    "$\\quad\\bullet\\quad$类函数$\\text{attach}$"
   ]
  },
  {
   "cell_type": "code",
   "execution_count": null,
   "metadata": {
    "collapsed": true
   },
   "outputs": [],
   "source": [
    "def attach(self, pid):\n",
    "\n",
    "    self.h_process = self.open_process(pid)\n",
    "\n",
    "    # We attempt to attach to the process\n",
    "    # if this fails we exit the call\n",
    "    if kernel32.DebugActiveProcess(pid):\n",
    "        self.debugger_active = True\n",
    "        self.pid             = int(pid)\n",
    "#        self.run()                      # Comment out\n",
    "    else:\n",
    "        print \"[*] Unable to attach to the process.\""
   ]
  },
  {
   "cell_type": "markdown",
   "metadata": {},
   "source": [
    "$\\quad\\bullet\\quad$类函数$\\text{get_debug_event}$"
   ]
  },
  {
   "cell_type": "code",
   "execution_count": null,
   "metadata": {
    "collapsed": true
   },
   "outputs": [],
   "source": [
    "def get_debug_event(self):\n",
    "\n",
    "    debug_event     = DEBUG_EVENT()\n",
    "    continue_status = DBG_CONTINUE\n",
    "\n",
    "    if kernel32.WaitForDebugEvent(byref(debug_event), INFINITE):\n",
    "        # We aren't going to build any event handlers\n",
    "        # just yet. Let's just resume the process for now.\n",
    "#        raw_input(\"Press a key to continue...\")      # Comment out\n",
    "#        self.debugger_active = False                 # Comment out\n",
    "        \n",
    "        kernel32.ContinueDebugEvent(debug_event.dwProcessId,\n",
    "                                    debug_event.dwThreadId, \n",
    "                                    continue_status)"
   ]
  },
  {
   "cell_type": "markdown",
   "metadata": {},
   "source": [
    "## 3.获得CPU寄存器状态"
   ]
  },
  {
   "cell_type": "code",
   "execution_count": null,
   "metadata": {
    "collapsed": true
   },
   "outputs": [],
   "source": [
    "# debugger.py\n",
    "# Obtaining CPU Register State\n",
    "\n",
    "from ctypes import *\n",
    "from debugger_defines import *\n",
    "\n",
    "kernel32 = windll.kernel32\n",
    "\n",
    "class debugger():\n",
    "\n",
    "    def __init__(self):\n",
    "        pass\n",
    "\n",
    "\n",
    "    def load(self, path_to_exe):\n",
    "\n",
    "        # dwCreation flag determines how to create the process\n",
    "        # set creation_flags = CREATE_NEW_CONSOLE if you want\n",
    "        # to see the calculator GUI\n",
    "        creation_flags = DEBUG_PROCESS\n",
    "\n",
    "        # instantiate the structs\n",
    "        startupinfo         = STARTUPINFO()\n",
    "        process_information = PROCESS_INFORMATION()\n",
    "\n",
    "        # The following two options allow the started process\n",
    "        # to be shown as a separate window. This also illustrates\n",
    "        # how different settings in the STARTUPINFO struct can affect\n",
    "        # the debuggee.\n",
    "        startupinfo.dwFlags     = 0x1\n",
    "        startupinfo.wShowWindow = 0x0\n",
    "\n",
    "        # We then initialize the cb variable in the STARTUPINFO struct\n",
    "        # which is just the size of the struct itself\n",
    "        startupinfo.cb = sizeof(startupinfo)\n",
    "\n",
    "        if kernel32.CreateProcessA(path_to_exe,\n",
    "                                    None,\n",
    "                                    None,\n",
    "                                    None,\n",
    "                                    None,\n",
    "                                    creation_flags,\n",
    "                                    None,\n",
    "                                    None,\n",
    "                                    byref(startupinfo),\n",
    "                                    byref(process_information)):\n",
    "            print \"[*] we have successfully launched the process!\"\n",
    "            print \"[*] PID:%d\" % process_information.dwProcessId\n",
    "        else:\n",
    "            print \"[*] Error:0x%08x.\" % kernel32.GetLastError()\n",
    "\n",
    "\n",
    "    def open_process(self, pid):\n",
    "\n",
    "        h_process = kernel32.OpenProcess(PROCESS_ALL_ACCESS, pid, False)\n",
    "        return h_process\n",
    "\n",
    "\n",
    "    def attach(self, pid):\n",
    "\n",
    "        self.h_process = self.open_process(pid)\n",
    "\n",
    "        # We attempt to attach to the process\n",
    "        # if this fails we exit the call\n",
    "        if kernel32.DebugActiveProcess(pid):\n",
    "            self.debugger_active = True\n",
    "            self.pid             = int(pid)\n",
    "#            self.run()                    # Comment out\n",
    "        else:\n",
    "            print \"[*] Unable to attach to the process.\"\n",
    "\n",
    "\n",
    "    def run(self):\n",
    "\n",
    "        # Now we have to poll the debuggee for\n",
    "        # debugging events\n",
    "        while self.debugger_active == True:\n",
    "            self.get_debug_event()\n",
    "\n",
    "\n",
    "    def get_debug_event(self):\n",
    "\n",
    "        debug_event     = DEBUG_EVENT()\n",
    "        continue_status = DBG_CONTINUE\n",
    "\n",
    "        if kernel32.WaitForDebugEvent(byref(debug_event), INFINITE):\n",
    "            # We aren't going to build any event handlers\n",
    "            # just yet. Let's just resume the process for now.\n",
    "#            raw_input(\"Press a key to continue...\")         # Comment out\n",
    "#            self.debugger_active = False                    # Comment out\n",
    "\n",
    "            kernel32.ContinueDebugEvent(debug_event.dwProcessId,\n",
    "                                        debug_event.dwThreadId,\n",
    "                                        continue_status)\n",
    "\n",
    "\n",
    "    def detach(self):\n",
    "\n",
    "        if kernel32.DebugActiveProcessStop(self.pid):\n",
    "            print \"[*] Finished debugging. Exiting...\"\n",
    "        else:\n",
    "            print \"There was an error!\"\n",
    "            return False\n",
    "\n",
    "        \n",
    "# --------------------------- Start New Codes ---------------------------\n",
    "    def open_thread (self, thread_id):\n",
    "\n",
    "        h_thread = kernel32.OpenThread(THREAD_ALL_ACCESS, None, thread_id)\n",
    "\n",
    "        if h_thread is not None:\n",
    "            return h_thread\n",
    "        else:\n",
    "            print \"[*] Could not obtain a valid thread handle.\"\n",
    "            return False\n",
    "\n",
    "\n",
    "    def enumerate_threads(self):\n",
    "\n",
    "        thread_entry     = THREADENTRY32()\n",
    "        thread_list      = []\n",
    "        snapshot         = kernel32.CreateToolhelp32Snapshot(TH32CS_SNAPTHREAD, self.pid)\n",
    "\n",
    "        if snapshot is not None:\n",
    "\n",
    "            # You have to set the size of the struct\n",
    "            # or the call will fail\n",
    "            thread_entry.dwSize = sizeof(thread_entry)\n",
    "\n",
    "            success = kernel32.Thread32First(snapshot, byref(thread_entry))\n",
    "\n",
    "            while success:\n",
    "                if thread_entry.th32OwnerProcessID == self.pid:\n",
    "                    thread_list.append(thread_entry.th32ThreadID)\n",
    "\n",
    "                success = kernel32.Thread32Next(snapshot, byref(thread_entry))\n",
    "\n",
    "            # No need to explain this call, it closes handles\n",
    "            # so that we don't leak them.\n",
    "            kernel32.CloseHandle(snapshot)\n",
    "            return thread_list\n",
    "        else:\n",
    "            return False\n",
    "\n",
    "\n",
    "    def get_thread_context (self, thread_id=None,h_thread=None):\n",
    "\n",
    "        context = CONTEXT()\n",
    "        context.ContextFlags = CONTEXT_FULL | CONTEXT_DEBUG_REGISTERS\n",
    "\n",
    "        # Obtain a handle to the thread\n",
    "        if h_thread is None:\n",
    "            self.h_thread = self.open_thread(thread_id)\n",
    "\n",
    "        if kernel32.GetThreadContext(self.h_thread, byref(context)):\n",
    "\n",
    "            return context\n",
    "        else:\n",
    "            return False\n",
    "# ---------------------------  End  New Codes ---------------------------"
   ]
  },
  {
   "cell_type": "markdown",
   "metadata": {},
   "source": [
    "#### 说明："
   ]
  },
  {
   "cell_type": "markdown",
   "metadata": {},
   "source": [
    "$\\bullet\\quad$新增的类函数：$\\text{open_thread}$、$\\text{enumerate_threads}$、$\\text{get_thread_context}$"
   ]
  },
  {
   "cell_type": "code",
   "execution_count": null,
   "metadata": {
    "collapsed": true
   },
   "outputs": [],
   "source": [
    "# test.py\n",
    "# Obtaining CPU Register State\n",
    "\n",
    "import debugger\n",
    "\n",
    "debugger = debugger.debugger()\n",
    "\n",
    "#debugger.load(r\"C:\\Windows\\System32\\calc.exe\")\n",
    "\n",
    "pid = raw_input(\"Enter the PID of the process to attach to: \")\n",
    "\n",
    "debugger.attach(int(pid))\n",
    "\n",
    "# --------------------------- Start New Codes ---------------------------\n",
    "list = debugger.enumerate_threads()\n",
    "\n",
    "# For each thread in the list we want to\n",
    "# grab the value of each of the registers\n",
    "for thread in list:\n",
    "    thread_context = debugger.get_thread_context(thread)\n",
    "\n",
    "    # Now let's output the contents of some of the registers\n",
    "    print \"[*] Dumping registers for thread ID: 0x%08x\" % thread\n",
    "    print \"[**] EIP: 0x%08x\" % thread_context.Eip\n",
    "    print \"[**] ESP: 0x%08x\" % thread_context.Esp\n",
    "    print \"[**] EBP: 0x%08x\" % thread_context.Ebp\n",
    "    print \"[**] EAX: 0x%08x\" % thread_context.Eax\n",
    "    print \"[**] EBX: 0x%08x\" % thread_context.Ebx\n",
    "    print \"[**] ECX: 0x%08x\" % thread_context.Ecx\n",
    "    print \"[**] EDX: 0x%08x\" % thread_context.Edx\n",
    "    print \"[*] END DUMP\"\n",
    "# ---------------------------  End  New Codes ---------------------------   \n",
    "    \n",
    "debugger.detach()"
   ]
  },
  {
   "cell_type": "markdown",
   "metadata": {},
   "source": [
    "#### 运行测试："
   ]
  },
  {
   "cell_type": "raw",
   "metadata": {},
   "source": [
    "Administrator@USER-20161209ZR /c/Immunity\n",
    "$ python /z/grayhat/codes-for-sec-3/test.py\n",
    "Enter the PID of the process to attach to: 1896\n",
    "[*] Dumping registers for thread ID: 0x000006b8\n",
    "[**] EIP: 0x7c92e514\n",
    "[**] ESP: 0x0007fde0\n",
    "[**] EBP: 0x0007fdfc\n",
    "[**] EAX: 0x0007fa88\n",
    "[**] EBX: 0x00000000\n",
    "[**] ECX: 0x00000001\n",
    "[**] EDX: 0x00000015\n",
    "[*] END DUMP\n",
    "[*] Dumping registers for thread ID: 0x0000020c\n",
    "[**] EIP: 0x7c9720ec\n",
    "[**] ESP: 0x00abfff8\n",
    "[**] EBP: 0x00000000\n",
    "[**] EAX: 0x00000000\n",
    "[**] EBX: 0x00000001\n",
    "[**] ECX: 0x00000002\n",
    "[**] EDX: 0x00000003\n",
    "[*] END DUMP\n",
    "[*] Finished debugging. Exiting...\n",
    "\n",
    "Administrator@USER-20161209ZR /c/Immunity\n",
    "$"
   ]
  },
  {
   "cell_type": "markdown",
   "metadata": {},
   "source": [
    "## 4.1实现调试事件处理--获得事件代码值与线程ID"
   ]
  },
  {
   "cell_type": "code",
   "execution_count": null,
   "metadata": {
    "collapsed": true
   },
   "outputs": [],
   "source": [
    "# debugger.py\n",
    "# Implementing Debug Event Handlers -get the event code and thread(s) ID\n",
    "# Show which event has been fired based on the event code.\n",
    "# Using this information, we will be able to see the general flow\n",
    "# of events after we have spawned or attached to a process.\n",
    "\n",
    "from ctypes import *\n",
    "from debugger_defines import *\n",
    "\n",
    "kernel32 = windll.kernel32\n",
    "\n",
    "class debugger():\n",
    "\n",
    "    def __init__(self):\n",
    "#         pass                                # Comment Out\n",
    "# --------------------------- Start New Codes ---------------------------\n",
    "        self.h_process       = None\n",
    "        self.pid             = None\n",
    "        self.debugger_active = False\n",
    "        self.h_thread        = None\n",
    "        self.context         = None\n",
    "# ---------------------------  End  New Codes ---------------------------   \n",
    "\n",
    "\n",
    "    def load(self, path_to_exe):\n",
    "\n",
    "        # dwCreation flag determines how to create the process\n",
    "        # set creation_flags = CREATE_NEW_CONSOLE if you want\n",
    "        # to see the calculator GUI\n",
    "        creation_flags = DEBUG_PROCESS\n",
    "\n",
    "        # instantiate the structs\n",
    "        startupinfo         = STARTUPINFO()\n",
    "        process_information = PROCESS_INFORMATION()\n",
    "\n",
    "        # The following two options allow the started process\n",
    "        # to be shown as a separate window. This also illustrates\n",
    "        # how different settings in the STARTUPINFO struct can affect\n",
    "        # the debuggee.\n",
    "        startupinfo.dwFlags     = 0x1\n",
    "        startupinfo.wShowWindow = 0x0\n",
    "\n",
    "        # We then initialize the cb variable in the STARTUPINFO struct\n",
    "        # which is just the size of the struct itself\n",
    "        startupinfo.cb = sizeof(startupinfo)\n",
    "\n",
    "        if kernel32.CreateProcessA(path_to_exe,\n",
    "                                    None,\n",
    "                                    None,\n",
    "                                    None,\n",
    "                                    None,\n",
    "                                    creation_flags,\n",
    "                                    None,\n",
    "                                    None,\n",
    "                                    byref(startupinfo),\n",
    "                                    byref(process_information)):\n",
    "            print \"[*] we have successfully launched the process!\"\n",
    "            print \"[*] PID:%d\" % process_information.dwProcessId\n",
    "        else:\n",
    "            print \"[*] Error:0x%08x.\" % kernel32.GetLastError()\n",
    "\n",
    "\n",
    "    def open_process(self, pid):\n",
    "\n",
    "        h_process = kernel32.OpenProcess(PROCESS_ALL_ACCESS, pid, False)\n",
    "        return h_process\n",
    "\n",
    "\n",
    "    def attach(self, pid):\n",
    "\n",
    "        self.h_process = self.open_process(pid)\n",
    "\n",
    "        # We attempt to attach to the process\n",
    "        # if this fails we exit the call\n",
    "        if kernel32.DebugActiveProcess(pid):\n",
    "            self.debugger_active = True\n",
    "            self.pid             = int(pid)\n",
    "#            self.run()                    # Comment out\n",
    "        else:\n",
    "            print \"[*] Unable to attach to the process.\"\n",
    "\n",
    "\n",
    "    def run(self):\n",
    "\n",
    "        # Now we have to poll the debuggee for\n",
    "        # debugging events\n",
    "        while self.debugger_active == True:\n",
    "            self.get_debug_event()\n",
    "\n",
    "\n",
    "    def get_debug_event(self):\n",
    "\n",
    "        debug_event     = DEBUG_EVENT()\n",
    "        continue_status = DBG_CONTINUE\n",
    "\n",
    "        if kernel32.WaitForDebugEvent(byref(debug_event), INFINITE):\n",
    "            # We aren't going to build any event handlers\n",
    "            # just yet. Let's just resume the process for now.\n",
    "#            raw_input(\"Press a key to continue...\")         # Comment out\n",
    "#            self.debugger_active = False                    # Comment out\n",
    "\n",
    "# --------------------------- Start New Codes ----------------------------\n",
    "            # Let's obtain the thread and context information\n",
    "            self.h_thread          = self.open_thread(debug_event.dwThreadId)\n",
    "            self.context           = self.get_thread_context(h_thread=self.h_thread)\n",
    "            \n",
    "            print \"Event Code: %d Thread ID: %d\" % \\\n",
    "                (debug_event.dwDebugEventCode,debug_event.dwThreadId)\n",
    "# ---------------------------  End  New Codes ----------------------------\n",
    "\n",
    "            kernel32.ContinueDebugEvent(debug_event.dwProcessId,\n",
    "                                        debug_event.dwThreadId,\n",
    "                                        continue_status)\n",
    "\n",
    "\n",
    "    def detach(self):\n",
    "\n",
    "        if kernel32.DebugActiveProcessStop(self.pid):\n",
    "            print \"[*] Finished debugging. Exiting...\"\n",
    "        else:\n",
    "            print \"There was an error!\"\n",
    "            return False\n",
    "\n",
    "\n",
    "    def open_thread (self, thread_id):\n",
    "\n",
    "        h_thread = kernel32.OpenThread(THREAD_ALL_ACCESS, None, thread_id)\n",
    "\n",
    "        if h_thread is not None:\n",
    "            return h_thread\n",
    "        else:\n",
    "            print \"[*] Could not obtain a valid thread handle.\"\n",
    "            return False\n",
    "\n",
    "\n",
    "    def enumerate_threads(self):\n",
    "\n",
    "        thread_entry     = THREADENTRY32()\n",
    "        thread_list      = []\n",
    "        snapshot         = kernel32.CreateToolhelp32Snapshot(TH32CS_SNAPTHREAD, self.pid)\n",
    "\n",
    "        if snapshot is not None:\n",
    "\n",
    "            # You have to set the size of the struct\n",
    "            # or the call will fail\n",
    "            thread_entry.dwSize = sizeof(thread_entry)\n",
    "\n",
    "            success = kernel32.Thread32First(snapshot, byref(thread_entry))\n",
    "\n",
    "            while success:\n",
    "                if thread_entry.th32OwnerProcessID == self.pid:\n",
    "                    thread_list.append(thread_entry.th32ThreadID)\n",
    "\n",
    "                success = kernel32.Thread32Next(snapshot, byref(thread_entry))\n",
    "\n",
    "            # No need to explain this call, it closes handles\n",
    "            # so that we don't leak them.\n",
    "            kernel32.CloseHandle(snapshot)\n",
    "            return thread_list\n",
    "        else:\n",
    "            return False\n",
    "\n",
    "\n",
    "    def get_thread_context (self, thread_id=None,h_thread=None):\n",
    "\n",
    "        context = CONTEXT()\n",
    "        context.ContextFlags = CONTEXT_FULL | CONTEXT_DEBUG_REGISTERS\n",
    "\n",
    "        # Obtain a handle to the thread\n",
    "        if h_thread is None:\n",
    "            self.h_thread = self.open_thread(thread_id)\n",
    "\n",
    "        if kernel32.GetThreadContext(self.h_thread, byref(context)):\n",
    "\n",
    "            return context\n",
    "        else:\n",
    "            return False\n"
   ]
  },
  {
   "cell_type": "code",
   "execution_count": null,
   "metadata": {
    "collapsed": true
   },
   "outputs": [],
   "source": [
    "# test.py\n",
    "# Implementing Debug Event Handlers -get the event code and thread(s) ID\n",
    "# Show which event has been fired based on the event code.\n",
    "# Using this information, we will be able to see the general flow\n",
    "# of events after we have spawned or attached to a process.\n",
    "\n",
    "import debugger\n",
    "\n",
    "debugger = debugger.debugger()\n",
    "\n",
    "#debugger.load(r\"C:\\Windows\\System32\\calc.exe\")\n",
    "\n",
    "pid = raw_input(\"Enter the PID of the process to attach to: \")\n",
    "\n",
    "debugger.attach(int(pid))\n",
    "\n",
    "#list = debugger.enumerate_threads()                                  # Comment out\n",
    "\n",
    "## For each thread in the list we want to                             # Comment out\n",
    "## grab the value of each of the registers                            # Comment out\n",
    "#for thread in list:                                                  # Comment out\n",
    "#    thread_context = debugger.get_thread_context(thread)             # Comment out\n",
    "#                                                                     # Comment out\n",
    "#    # Now let's output the contents of some of the registers         # Comment out\n",
    "#    print \"[*] Dumping registers for thread ID: 0x%08x\" % thread     # Comment out\n",
    "#    print \"[**] EIP: 0x%08x\" % thread_context.Eip                    # Comment out\n",
    "#    print \"[**] ESP: 0x%08x\" % thread_context.Esp                    # Comment out\n",
    "#    print \"[**] EBP: 0x%08x\" % thread_context.Ebp                    # Comment out\n",
    "#    print \"[**] EAX: 0x%08x\" % thread_context.Eax                    # Comment out\n",
    "#    print \"[**] EBX: 0x%08x\" % thread_context.Ebx                    # Comment out\n",
    "#    print \"[**] ECX: 0x%08x\" % thread_context.Ecx                    # Comment out\n",
    "#    print \"[**] EDX: 0x%08x\" % thread_context.Edx                    # Comment out\n",
    "#    print \"[*] END DUMP\"                                             # Comment out\n",
    "\n",
    "# --------------------------- Start New Codes ----------------------------\n",
    "debugger.run()\n",
    "# ---------------------------  End  New Codes ----------------------------\n",
    "\n",
    "debugger.detach()"
   ]
  },
  {
   "cell_type": "markdown",
   "metadata": {},
   "source": [
    "#### 运行测试："
   ]
  },
  {
   "cell_type": "raw",
   "metadata": {},
   "source": [
    "Administrator@USER-20161209ZR /c/Immunity\n",
    "$ python /z/grayhat/codes-for-sec-3/test.py\n",
    "Enter the PID of the process to attach to: 1508\n",
    "Event Code: 3 Thread ID: 1348\n",
    "Event Code: 6 Thread ID: 1348\n",
    "Event Code: 6 Thread ID: 1348\n",
    "Event Code: 6 Thread ID: 1348\n",
    "Event Code: 6 Thread ID: 1348\n",
    "Event Code: 6 Thread ID: 1348\n",
    "Event Code: 6 Thread ID: 1348\n",
    "Event Code: 6 Thread ID: 1348\n",
    "Event Code: 6 Thread ID: 1348\n",
    "Event Code: 6 Thread ID: 1348\n",
    "Event Code: 6 Thread ID: 1348\n",
    "Event Code: 6 Thread ID: 1348\n",
    "Event Code: 6 Thread ID: 1348\n",
    "Event Code: 6 Thread ID: 1348\n",
    "Event Code: 6 Thread ID: 1348\n",
    "Event Code: 6 Thread ID: 1348\n",
    "Event Code: 6 Thread ID: 1348\n",
    "Event Code: 6 Thread ID: 1348\n",
    "Event Code: 6 Thread ID: 1348\n",
    "Event Code: 6 Thread ID: 1348\n",
    "Event Code: 6 Thread ID: 1348\n",
    "Event Code: 6 Thread ID: 1348\n",
    "Event Code: 6 Thread ID: 1348\n",
    "Event Code: 6 Thread ID: 1348\n",
    "Event Code: 6 Thread ID: 1348\n",
    "Event Code: 6 Thread ID: 1348\n",
    "Event Code: 2 Thread ID: 1340\n",
    "Event Code: 1 Thread ID: 1340\n",
    "Event Code: 4 Thread ID: 1340"
   ]
  },
  {
   "cell_type": "markdown",
   "metadata": {},
   "source": [
    "#### 说明："
   ]
  },
  {
   "cell_type": "markdown",
   "metadata": {},
   "source": [
    "$\\quad\\bullet\\quad$调试事件代码表"
   ]
  },
  {
   "cell_type": "raw",
   "metadata": {},
   "source": [
    "Event Code     Event Code Value           Union u Value\n",
    "0x1          EXCEPTION_DEBUG_EVENT        u.Exception\n",
    "0x2          CREATE_THREAD_DEBUG_EVENT     u.CreateThread\n",
    "0x3          CREATE_PROCESS_DEBUG_EVENT    `u.CreateProcessInfo\n",
    "0x4          EXIT_THREAD_DEBUG_EVENT      `u.ExitThread\n",
    "0x5          EXIT_PROCESS_DEBUG_EVENT      u.ExitProcess\n",
    "0x6          LOAD_DLL_DEBUG_EVENT        `u.LoadDll\n",
    "0x7          UNLOAD_DLL_DEBUG_EVENT       u.UnloadDll\n",
    "0x8          OUPUT_DEBUG_STRING_EVENT      u.DebugString\n",
    "0x9          RIP_EVENT                u.RipInfo"
   ]
  },
  {
   "cell_type": "markdown",
   "metadata": {},
   "source": [
    "$\\quad\\bullet\\quad$执行上述$\\text{test.py}$脚本后控制台输出信息说明："
   ]
  },
  {
   "cell_type": "markdown",
   "metadata": {},
   "source": [
    "基于上述脚本输出:  \n",
    "我们看到$\\text{CREATE_PROCESS_DEBUG_EVENT(0x3)}$事件第一个发生，  \n",
    "接下来是多次$\\text{LOAD_DLL_DEBUG_EVENT(0x6)}$事件，  \n",
    "然后是创建一个新线程的$\\text{CREATE_THREAD_DEBUG_EVENT(x02)}$事件。"
   ]
  },
  {
   "cell_type": "markdown",
   "metadata": {},
   "source": [
    "接着是$\\text{EXCEPTION_DEBUG_EVENT}(x01)$异常事件，由Windows设置的断点所引发，允许在进程启动前观察进程的状态  \n",
    "最后是一个结束线程事件是$\\text{EXIT_THREAD_DEBUG_EVENT}(x04)$，由线程1340结束自身产生"
   ]
  },
  {
   "cell_type": "markdown",
   "metadata": {},
   "source": [
    "异常事件非常重要，异常可能是断点，访问异常，或者是内存访问错误（例如尝试写到一个只读内存区）  \n",
    "所有这些都很重要，让我们先捕捉第一个Windows设置的断点"
   ]
  },
  {
   "cell_type": "markdown",
   "metadata": {},
   "source": [
    "## 4.2 实现调试事件处理--捕捉Windows设置的断点"
   ]
  },
  {
   "cell_type": "code",
   "execution_count": null,
   "metadata": {
    "collapsed": true
   },
   "outputs": [],
   "source": [
    "# debugger.py\n",
    "# Catching the first Windows-driven breakpoint.\n",
    "\n",
    "from ctypes import *\n",
    "from debugger_defines import *\n",
    "\n",
    "kernel32 = windll.kernel32\n",
    "\n",
    "class debugger():\n",
    "\n",
    "    def __init__(self):\n",
    "#        pass\n",
    "        self.h_process         = None\n",
    "        self.pid               = None\n",
    "        self.debugger_active   = False\n",
    "        self.h_thread          = None\n",
    "        self.context           = None\n",
    "# --------------------------- Start New Codes ----------------------------\n",
    "        self.exception         = None\n",
    "        self.exception_address = None\n",
    "# ---------------------------  End  New Codes ----------------------------\n",
    "\n",
    "\n",
    "    def load(self, path_to_exe):\n",
    "\n",
    "        # dwCreation flag determines how to create the process\n",
    "        # set creation_flags = CREATE_NEW_CONSOLE if you want\n",
    "        # to see the calculator GUI\n",
    "        creation_flags = DEBUG_PROCESS\n",
    "\n",
    "        # instantiate the structs\n",
    "        startupinfo         = STARTUPINFO()\n",
    "        process_information = PROCESS_INFORMATION()\n",
    "\n",
    "        # The following two options allow the started process\n",
    "        # to be shown as a separate window. This also illustrates\n",
    "        # how different settings in the STARTUPINFO struct can affect\n",
    "        # the debuggee.\n",
    "        startupinfo.dwFlags     = 0x1\n",
    "        startupinfo.wShowWindow = 0x0\n",
    "\n",
    "        # We then initialize the cb variable in the STARTUPINFO struct\n",
    "        # which is just the size of the struct itself\n",
    "        startupinfo.cb = sizeof(startupinfo)\n",
    "\n",
    "        if kernel32.CreateProcessA(path_to_exe,\n",
    "                                    None,\n",
    "                                    None,\n",
    "                                    None,\n",
    "                                    None,\n",
    "                                    creation_flags,\n",
    "                                    None,\n",
    "                                    None,\n",
    "                                    byref(startupinfo),\n",
    "                                    byref(process_information)):\n",
    "            print \"[*] we have successfully launched the process!\"\n",
    "            print \"[*] PID:%d\" % process_information.dwProcessId\n",
    "        else:\n",
    "            print \"[*] Error:0x%08x.\" % kernel32.GetLastError()\n",
    "\n",
    "\n",
    "    def open_process(self, pid):\n",
    "\n",
    "        h_process = kernel32.OpenProcess(PROCESS_ALL_ACCESS, pid, False)\n",
    "        return h_process\n",
    "\n",
    "\n",
    "    def attach(self, pid):\n",
    "\n",
    "        self.h_process = self.open_process(pid)\n",
    "\n",
    "        # We attempt to attach to the process\n",
    "        # if this fails we exit the call\n",
    "        if kernel32.DebugActiveProcess(pid):\n",
    "            self.debugger_active = True\n",
    "            self.pid             = int(pid)\n",
    "#            self.run()                    # Comment out\n",
    "        else:\n",
    "            print \"[*] Unable to attach to the process.\"\n",
    "\n",
    "\n",
    "    def run(self):\n",
    "\n",
    "        # Now we have to poll the debuggee for\n",
    "        # debugging events\n",
    "        while self.debugger_active == True:\n",
    "            self.get_debug_event()\n",
    "\n",
    "\n",
    "    def get_debug_event(self):\n",
    "\n",
    "        debug_event     = DEBUG_EVENT()\n",
    "        continue_status = DBG_CONTINUE\n",
    "\n",
    "        if kernel32.WaitForDebugEvent(byref(debug_event), INFINITE):\n",
    "            # We aren't going to build any event handlers\n",
    "            # just yet. Let's just resume the process for now.\n",
    "#            raw_input(\"Press a key to continue...\")         # Comment out\n",
    "#            self.debugger_active = False                    # Comment out\n",
    "\n",
    "            # Let's obtain the thread and context information\n",
    "            self.h_thread          = self.open_thread(debug_event.dwThreadId)\n",
    "            self.context           = self.get_thread_context(h_thread=self.h_thread)\n",
    "\n",
    "            print \"Event Code: %d Thread ID: %d\" % \\\n",
    "                (debug_event.dwDebugEventCode,debug_event.dwThreadId)\n",
    "                \n",
    "# --------------------------- Start New Codes ----------------------------\n",
    "            if debug_event.dwDebugEventCode == EXCEPTION_DEBUG_EVENT:\n",
    "                self.exception = debug_event.u.Exception.ExceptionRecord.ExceptionCode\n",
    "                self.exception_address = debug_event.u.Exception.ExceptionRecord.ExceptionAddress\n",
    "\n",
    "                # call the internal handler for the exception event that just occured.\n",
    "                if self.exception == EXCEPTION_ACCESS_VIOLATION:\n",
    "                    print \"Access Violation Detected.\"\n",
    "                # If a breakpoint is Detected,\n",
    "                # we call an internal handler\n",
    "                elif self.exception == EXCEPTION_BREAKPOINT:\n",
    "                    continue_status = self.exception_handler_breakpoint()\n",
    "                elif self.exception == EXCEPTION_GUARD_PAGE:\n",
    "                    print \"Guard Page Access Detected.\"\n",
    "                elif self.exception == EXCEPTION_SINGLE_STEP:\n",
    "                    print \"Single Stepping.\"\n",
    "# ---------------------------  End  New Codes ----------------------------\n",
    "\n",
    "            kernel32.ContinueDebugEvent(debug_event.dwProcessId,\n",
    "                                        debug_event.dwThreadId,\n",
    "                                        continue_status)\n",
    "\n",
    "\n",
    "    def detach(self):\n",
    "\n",
    "        if kernel32.DebugActiveProcessStop(self.pid):\n",
    "            print \"[*] Finished debugging. Exiting...\"\n",
    "        else:\n",
    "            print \"There was an error!\"\n",
    "            return False\n",
    "\n",
    "\n",
    "    def open_thread (self, thread_id):\n",
    "\n",
    "        h_thread = kernel32.OpenThread(THREAD_ALL_ACCESS, None, thread_id)\n",
    "\n",
    "        if h_thread is not None:\n",
    "            return h_thread\n",
    "        else:\n",
    "            print \"[*] Could not obtain a valid thread handle.\"\n",
    "            return False\n",
    "\n",
    "\n",
    "    def enumerate_threads(self):\n",
    "\n",
    "        thread_entry     = THREADENTRY32()\n",
    "        thread_list      = []\n",
    "        snapshot         = kernel32.CreateToolhelp32Snapshot(TH32CS_SNAPTHREAD, self.pid)\n",
    "\n",
    "        if snapshot is not None:\n",
    "\n",
    "            # You have to set the size of the struct\n",
    "            # or the call will fail\n",
    "            thread_entry.dwSize = sizeof(thread_entry)\n",
    "\n",
    "            success = kernel32.Thread32First(snapshot, byref(thread_entry))\n",
    "\n",
    "            while success:\n",
    "                if thread_entry.th32OwnerProcessID == self.pid:\n",
    "                    thread_list.append(thread_entry.th32ThreadID)\n",
    "\n",
    "                success = kernel32.Thread32Next(snapshot, byref(thread_entry))\n",
    "\n",
    "            # No need to explain this call, it closes handles\n",
    "            # so that we don't leak them.\n",
    "            kernel32.CloseHandle(snapshot)\n",
    "            return thread_list\n",
    "        else:\n",
    "            return False\n",
    "\n",
    "\n",
    "    def get_thread_context (self, thread_id=None,h_thread=None):\n",
    "\n",
    "        context = CONTEXT()\n",
    "        context.ContextFlags = CONTEXT_FULL | CONTEXT_DEBUG_REGISTERS\n",
    "\n",
    "        # Obtain a handle to the thread\n",
    "        if h_thread is None:\n",
    "            self.h_thread = self.open_thread(thread_id)\n",
    "\n",
    "        if kernel32.GetThreadContext(self.h_thread, byref(context)):\n",
    "\n",
    "            return context\n",
    "        else:\n",
    "            return False\n",
    "        \n",
    "        \n",
    "# --------------------------- Start New Codes ----------------------------\n",
    "    def exception_handler_breakpoint(self):\n",
    "\n",
    "        print \"[*] Hit the Windows-driven breakpoint.\"\n",
    "        print \"Exception Address: 0x%08x\" % self.exception_address\n",
    "        return DBG_CONTINUE\n",
    "# ---------------------------  End  New Codes ----------------------------"
   ]
  },
  {
   "cell_type": "markdown",
   "metadata": {},
   "source": [
    "#### 说明："
   ]
  },
  {
   "cell_type": "markdown",
   "metadata": {},
   "source": [
    "新增类函数：$\\text{exception_handler_breakpoint}$"
   ]
  },
  {
   "cell_type": "code",
   "execution_count": null,
   "metadata": {
    "collapsed": true
   },
   "outputs": [],
   "source": [
    "# test.py\n",
    "# Catching the first Windows-driven breakpoint.\n",
    "\n",
    "import debugger\n",
    "\n",
    "debugger = debugger.debugger()\n",
    "\n",
    "pid = raw_input(\"Enter the PID of the process to attach to: \")\n",
    "\n",
    "debugger.attach(int(pid))\n",
    "\n",
    "debugger.run()\n",
    "\n",
    "debugger.detach()"
   ]
  },
  {
   "cell_type": "markdown",
   "metadata": {},
   "source": [
    "#### 说明："
   ]
  },
  {
   "cell_type": "markdown",
   "metadata": {},
   "source": [
    "上述$\\text{test.py}$与4.1中的$\\text{test.py}$完全一样，仅仅是删除了所有注释语句"
   ]
  },
  {
   "cell_type": "markdown",
   "metadata": {},
   "source": [
    "#### 运行测试："
   ]
  },
  {
   "cell_type": "raw",
   "metadata": {},
   "source": [
    "Administrator@USER-20161209ZR /c/Immunity\n",
    "$ python /z/grayhat/codes-for-sec-3/test.py\n",
    "Enter the PID of the process to attach to: 1276\n",
    "Event Code: 3 Thread ID: 1372\n",
    "Event Code: 6 Thread ID: 1372\n",
    "Event Code: 6 Thread ID: 1372\n",
    "Event Code: 6 Thread ID: 1372\n",
    "Event Code: 6 Thread ID: 1372\n",
    "Event Code: 6 Thread ID: 1372\n",
    "Event Code: 6 Thread ID: 1372\n",
    "Event Code: 6 Thread ID: 1372\n",
    "Event Code: 6 Thread ID: 1372\n",
    "Event Code: 6 Thread ID: 1372\n",
    "Event Code: 6 Thread ID: 1372\n",
    "Event Code: 6 Thread ID: 1372\n",
    "Event Code: 6 Thread ID: 1372\n",
    "Event Code: 6 Thread ID: 1372\n",
    "Event Code: 6 Thread ID: 1372\n",
    "Event Code: 6 Thread ID: 1372\n",
    "Event Code: 6 Thread ID: 1372\n",
    "Event Code: 6 Thread ID: 1372\n",
    "Event Code: 6 Thread ID: 1372\n",
    "Event Code: 6 Thread ID: 1372\n",
    "Event Code: 6 Thread ID: 1372\n",
    "Event Code: 6 Thread ID: 1372\n",
    "Event Code: 6 Thread ID: 1372\n",
    "Event Code: 6 Thread ID: 1372\n",
    "Event Code: 6 Thread ID: 1372\n",
    "Event Code: 6 Thread ID: 1372\n",
    "Event Code: 2 Thread ID: 1920\n",
    "Event Code: 1 Thread ID: 1920\n",
    "[*] Hit the Windows-driven breakpoint.\n",
    "Exception Address: 0x7c92120e\n",
    "Event Code: 4 Thread ID: 1920"
   ]
  },
  {
   "cell_type": "markdown",
   "metadata": {},
   "source": [
    "从上述控制台输出中，我们看到比4.1中的输出结果多了两行："
   ]
  },
  {
   "cell_type": "raw",
   "metadata": {},
   "source": [
    "[*] Hit the Windows-driven breakpoint.\n",
    "Exception Address: 0x7c92120e"
   ]
  },
  {
   "cell_type": "markdown",
   "metadata": {},
   "source": [
    "说明类函数$\\text{get_debug_event}$捕捉到了软件断点事件并调用类函数$\\text{exception_handler_breakpoint}$进行处理并输出上述信息"
   ]
  },
  {
   "cell_type": "code",
   "execution_count": null,
   "metadata": {
    "collapsed": true
   },
   "outputs": [],
   "source": []
  },
  {
   "cell_type": "code",
   "execution_count": null,
   "metadata": {
    "collapsed": true
   },
   "outputs": [],
   "source": []
  },
  {
   "cell_type": "code",
   "execution_count": null,
   "metadata": {
    "collapsed": true
   },
   "outputs": [],
   "source": []
  },
  {
   "cell_type": "code",
   "execution_count": null,
   "metadata": {
    "collapsed": true
   },
   "outputs": [],
   "source": []
  },
  {
   "cell_type": "code",
   "execution_count": null,
   "metadata": {
    "collapsed": true
   },
   "outputs": [],
   "source": []
  },
  {
   "cell_type": "code",
   "execution_count": null,
   "metadata": {
    "collapsed": true
   },
   "outputs": [],
   "source": []
  },
  {
   "cell_type": "code",
   "execution_count": null,
   "metadata": {
    "collapsed": true
   },
   "outputs": [],
   "source": []
  },
  {
   "cell_type": "code",
   "execution_count": null,
   "metadata": {
    "collapsed": true
   },
   "outputs": [],
   "source": []
  }
 ],
 "metadata": {
  "kernelspec": {
   "display_name": "Python 2",
   "language": "python",
   "name": "python2"
  },
  "language_info": {
   "codemirror_mode": {
    "name": "ipython",
    "version": 2
   },
   "file_extension": ".py",
   "mimetype": "text/x-python",
   "name": "python",
   "nbconvert_exporter": "python",
   "pygments_lexer": "ipython2",
   "version": "2.7.12"
  }
 },
 "nbformat": 4,
 "nbformat_minor": 2
}
