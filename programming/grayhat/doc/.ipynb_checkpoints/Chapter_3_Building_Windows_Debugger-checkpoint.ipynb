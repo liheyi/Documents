{
 "cells": [
  {
   "cell_type": "markdown",
   "metadata": {},
   "source": [
    "#### 说明：\n",
    "$\\bullet\\quad$本章主要涉及的Python文件是：$\\text{debugger_defines.py}$，$\\text{debugger.py}$和$\\text{test.py}$  "
   ]
  },
  {
   "cell_type": "markdown",
   "metadata": {},
   "source": [
    "$\\bullet\\quad$$\\text{debugger_defines.py}$存放调试器所需的结构体、联合体和常量，直接使用源代码包中的文件"
   ]
  },
  {
   "cell_type": "markdown",
   "metadata": {},
   "source": [
    "$\\bullet\\quad$$\\text{debugger.py}$实现我们的Windows下的轻量级调试器，逐步完善"
   ]
  },
  {
   "cell_type": "markdown",
   "metadata": {},
   "source": [
    "$\\bullet\\quad$$\\text{test.py}$是调试器逐步完善过程中的测试脚本(测试套件)，逐步完善"
   ]
  },
  {
   "cell_type": "markdown",
   "metadata": {},
   "source": [
    "## 1.调试器直接调用程序"
   ]
  },
  {
   "cell_type": "code",
   "execution_count": null,
   "metadata": {
    "collapsed": true
   },
   "outputs": [],
   "source": [
    "# debugger.py\n",
    "# Run the executable from the debugger itself\n",
    "\n",
    "from ctypes import *\n",
    "from debugger_defines import *\n",
    "\n",
    "kernel32 = windll.kernel32\n",
    "\n",
    "class debugger():\n",
    "\n",
    "    def __init__(self):\n",
    "        pass\n",
    "\n",
    "    def load(self, path_to_exe):\n",
    "        \n",
    "        # dwCreation flag determines how to create the process\n",
    "        # set creation_flags = CREATE_NEW_CONSOLE if you want\n",
    "        # to see the calculator GUI\n",
    "        creation_flags = DEBUG_PROCESS\n",
    "        \n",
    "        # instantiate the structs\n",
    "        startupinfo         = STARTUPINFO()\n",
    "        process_information = PROCESS_INFORMATION()\n",
    "        \n",
    "        # The following two options allow the started process\n",
    "        # to be shown as a separate window. This also illustrates\n",
    "        # how different settings in the STARTUPINFO struct can affect\n",
    "        # the debuggee.\n",
    "        startupinfo.dwFlags     = 0x1\n",
    "        startupinfo.wShowWindow = 0x0\n",
    "        \n",
    "        # We then initialize the cb variable in the STARTUPINFO struct\n",
    "        # which is just the size of the struct itself\n",
    "        startupinfo.cb = sizeof(startupinfo)\n",
    "        \n",
    "        if kernel32.CreateProcessA(path_to_exe,\n",
    "                                    None,\n",
    "                                    None,\n",
    "                                    None,\n",
    "                                    None,\n",
    "                                    creation_flags,\n",
    "                                    None,\n",
    "                                    None,\n",
    "                                    byref(startupinfo),\n",
    "                                    byref(process_information)):\n",
    "            print \"[*] we have successfully launched the process!\"\n",
    "            print \"[*] PID:%d\" % process_information.dwProcessId\n",
    "        else:\n",
    "            print \"[*] Error:0x%08x.\" % kernel32.GetLastError()"
   ]
  },
  {
   "cell_type": "code",
   "execution_count": null,
   "metadata": {
    "collapsed": true
   },
   "outputs": [],
   "source": [
    "# test.py\n",
    "# run the executable from the debugger itself\n",
    "\n",
    "import debugger\n",
    "\n",
    "debugger = debugger.debugger()\n",
    "\n",
    "debugger.load(r\"C:\\Windows\\System32\\calc.exe\")"
   ]
  },
  {
   "cell_type": "markdown",
   "metadata": {},
   "source": [
    "#### 说明：\n",
    "$\\bullet\\quad$由于$\\text{debugger_defines.py}$使用的是源代码包中的文件，较长，故暂时不展示出来"
   ]
  },
  {
   "cell_type": "markdown",
   "metadata": {},
   "source": [
    "$\\bullet\\quad$$\\text{debugger_defines.py}$中定义的结构体、联合体和常量，将有另外的文档进行说明"
   ]
  },
  {
   "cell_type": "markdown",
   "metadata": {},
   "source": [
    "$\\bullet\\quad$$\\text{debugger.py}$中调用的$\\text{Microsoft Win32 API}$，将有另外的文档进行说明"
   ]
  },
  {
   "cell_type": "markdown",
   "metadata": {},
   "source": [
    "#### 运行测试："
   ]
  },
  {
   "cell_type": "raw",
   "metadata": {},
   "source": [
    "Administrator@USER-20161209ZR /c/Python27\n",
    "$ python /z/grayhat/codes-for-sec-3/test.py\n",
    "[*] we have successfully launched the process!\n",
    "[*] PID:1612"
   ]
  },
  {
   "cell_type": "markdown",
   "metadata": {},
   "source": [
    "If you execute this Python file either via the command line or from your IDE, it will spawn the process you entered, report the process identifier (PID), and then exit. If you use my example of calc.exe, you will not see the calculator’s GUI appear. The reason you won’t see the GUI is because the process hasn’t painted it to the screen yet, because it is waiting for the debugger to continue execution. We haven’t built the logic to do that yet, but it’s coming soon! You now know how to spawn a process that is ready to be debugged. It’s time to whip up some code that attaches a debugger to a running process."
   ]
  },
  {
   "cell_type": "markdown",
   "metadata": {},
   "source": [
    "## 2.调试器附加到指定进程"
   ]
  },
  {
   "cell_type": "code",
   "execution_count": null,
   "metadata": {
    "collapsed": true
   },
   "outputs": [],
   "source": [
    "# debugger.py\n",
    "# Attach the debugger to the specified process\n",
    "# Such as calc.exe\n",
    "\n",
    "from ctypes import *\n",
    "from debugger_defines import *\n",
    "\n",
    "kernel32 = windll.kernel32\n",
    "\n",
    "class debugger():\n",
    "\n",
    "    def __init__(self):\n",
    "        pass\n",
    "\n",
    "\n",
    "    def load(self, path_to_exe):\n",
    "\n",
    "        # dwCreation flag determines how to create the process\n",
    "        # set creation_flags = CREATE_NEW_CONSOLE if you want\n",
    "        # to see the calculator GUI\n",
    "        creation_flags = DEBUG_PROCESS\n",
    "\n",
    "        # instantiate the structs\n",
    "        startupinfo         = STARTUPINFO()\n",
    "        process_information = PROCESS_INFORMATION()\n",
    "\n",
    "        # The following two options allow the started process\n",
    "        # to be shown as a separate window. This also illustrates\n",
    "        # how different settings in the STARTUPINFO struct can affect\n",
    "        # the debuggee.\n",
    "        startupinfo.dwFlags     = 0x1\n",
    "        startupinfo.wShowWindow = 0x0\n",
    "\n",
    "        # We then initialize the cb variable in the STARTUPINFO struct\n",
    "        # which is just the size of the struct itself\n",
    "        startupinfo.cb = sizeof(startupinfo)\n",
    "\n",
    "        if kernel32.CreateProcessA(path_to_exe,\n",
    "                                    None,\n",
    "                                    None,\n",
    "                                    None,\n",
    "                                    None,\n",
    "                                    creation_flags,\n",
    "                                    None,\n",
    "                                    None,\n",
    "                                    byref(startupinfo),\n",
    "                                    byref(process_information)):\n",
    "            print \"[*] we have successfully launched the process!\"\n",
    "            print \"[*] PID:%d\" % process_information.dwProcessId\n",
    "        else:\n",
    "            print \"[*] Error:0x%08x.\" % kernel32.GetLastError()\n",
    "\n",
    "# --------------------------- Start New Codes ---------------------------\n",
    "    def open_process(self, pid):\n",
    "\n",
    "        h_process = kernel32.OpenProcess(PROCESS_ALL_ACCESS, pid, False)\n",
    "        return h_process\n",
    "\n",
    "\n",
    "    def attach(self, pid):\n",
    "\n",
    "        self.h_process = self.open_process(pid)\n",
    "\n",
    "        # We attempt to attach to the process\n",
    "        # if this fails we exit the call\n",
    "        if kernel32.DebugActiveProcess(pid):\n",
    "            self.debugger_active = True\n",
    "            self.pid             = int(pid)\n",
    "            self.run()\n",
    "        else:\n",
    "            print \"[*] Unable to attach to the process.\"\n",
    "\n",
    "\n",
    "    def run(self):\n",
    "\n",
    "        # Now we have to poll the debuggee for\n",
    "        # debugging events\n",
    "        while self.debugger_active == True:\n",
    "            self.get_debug_event()\n",
    "\n",
    "\n",
    "    def get_debug_event(self):\n",
    "\n",
    "        debug_event     = DEBUG_EVENT()\n",
    "        continue_status = DBG_CONTINUE\n",
    "\n",
    "        if kernel32.WaitForDebugEvent(byref(debug_event), INFINITE):\n",
    "            # We aren't going to build any event handlers\n",
    "            # just yet. Let's just resume the process for now.\n",
    "            raw_input(\"Press a key to continue...\")\n",
    "            self.debugger_active = False\n",
    "            kernel32.ContinueDebugEvent(debug_event.dwProcessId,debug_event.dwThreadId, continue_status)\n",
    "\n",
    "\n",
    "    def detach(self):\n",
    "\n",
    "        if kernel32.DebugActiveProcessStop(self.pid):\n",
    "            print \"[*] Finished debugging. Exiting...\"\n",
    "        else:\n",
    "            print \"There was an error!\"\n",
    "            return False\n",
    "# ---------------------------  End  New Codes ---------------------------"
   ]
  },
  {
   "cell_type": "markdown",
   "metadata": {},
   "source": [
    "#### 说明："
   ]
  },
  {
   "cell_type": "markdown",
   "metadata": {},
   "source": [
    "$\\bullet\\quad$新增的类函数：$\\text{open_process}$、$\\text{attach}$、$\\text{run}$、$\\text{get_debug_event}$、$\\text{detach}$"
   ]
  },
  {
   "cell_type": "code",
   "execution_count": null,
   "metadata": {
    "collapsed": true
   },
   "outputs": [],
   "source": [
    "# test.py\n",
    "# Attach the debugger to the specified process\n",
    "# Such as calc.exe\n",
    "\n",
    "import debugger\n",
    "\n",
    "debugger = debugger.debugger()\n",
    "\n",
    "#debugger.load(r\"C:\\Windows\\System32\\calc.exe\")                          # Comment out\n",
    "\n",
    "# --------------------------- Start New Codes ---------------------------\n",
    "pid = raw_input(\"Enter the PID of the process to attach to: \")\n",
    "\n",
    "debugger.attach(int(pid))\n",
    "\n",
    "debugger.detach()\n",
    "# ---------------------------  End  New Codes ---------------------------"
   ]
  },
  {
   "cell_type": "markdown",
   "metadata": {},
   "source": [
    "#### 说明："
   ]
  },
  {
   "cell_type": "markdown",
   "metadata": {},
   "source": [
    "$\\bullet\\quad$注释掉行$\\text{debugger.load(r\"C:\\Windows\\System32\\calc.exe\")}$"
   ]
  },
  {
   "cell_type": "markdown",
   "metadata": {},
   "source": [
    "$\\bullet\\quad$新增最后三行"
   ]
  },
  {
   "cell_type": "markdown",
   "metadata": {},
   "source": [
    "#### 运行测试："
   ]
  },
  {
   "cell_type": "markdown",
   "metadata": {},
   "source": [
    "$\\bullet\\quad$运行VMware中的Windows XP系统的计算器程序"
   ]
  },
  {
   "cell_type": "markdown",
   "metadata": {},
   "source": [
    "$\\bullet\\quad$运行任务管理，查看计算器进程(calc.exe)的PID"
   ]
  },
  {
   "cell_type": "markdown",
   "metadata": {},
   "source": [
    "$\\bullet\\quad$执行$\\text{test.py}$脚本，出现$\\text{Enter the PID of the process to attach to:}$时输入上述PID"
   ]
  },
  {
   "cell_type": "markdown",
   "metadata": {},
   "source": [
    "$\\bullet\\quad$当出现$\\text{Press a key to continue...}$的提示时，尝试操作计算器，没有任何响应"
   ]
  },
  {
   "cell_type": "markdown",
   "metadata": {},
   "source": [
    "$\\bullet\\quad$在控制台中输入任意键，屏幕打印$\\text{[*] Finished debugging. Exiting...}$， 然后$\\text{test.py}$执行结束"
   ]
  },
  {
   "cell_type": "markdown",
   "metadata": {},
   "source": [
    "$\\bullet\\quad$现在能正常操作计算器"
   ]
  },
  {
   "cell_type": "code",
   "execution_count": null,
   "metadata": {
    "collapsed": true
   },
   "outputs": [],
   "source": []
  },
  {
   "cell_type": "code",
   "execution_count": null,
   "metadata": {
    "collapsed": true
   },
   "outputs": [],
   "source": []
  },
  {
   "cell_type": "code",
   "execution_count": null,
   "metadata": {
    "collapsed": true
   },
   "outputs": [],
   "source": []
  },
  {
   "cell_type": "code",
   "execution_count": null,
   "metadata": {
    "collapsed": true
   },
   "outputs": [],
   "source": []
  }
 ],
 "metadata": {
  "kernelspec": {
   "display_name": "Python 2",
   "language": "python",
   "name": "python2"
  },
  "language_info": {
   "codemirror_mode": {
    "name": "ipython",
    "version": 2
   },
   "file_extension": ".py",
   "mimetype": "text/x-python",
   "name": "python",
   "nbconvert_exporter": "python",
   "pygments_lexer": "ipython2",
   "version": "2.7.12"
  }
 },
 "nbformat": 4,
 "nbformat_minor": 2
}
