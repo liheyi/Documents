{
 "cells": [
  {
   "cell_type": "markdown",
   "metadata": {},
   "source": [
    "## 1.扩展断点处理"
   ]
  },
  {
   "cell_type": "markdown",
   "metadata": {},
   "source": [
    "我们在第3章中用事件处理函数（如$\\text{exception_handler_breakpoint}$和$\\text{exception_handler_single_step}$）处理调试事件的方法，用PyDbg可以很容易地扩展这种功能，只需要构建一个用户模式的回调函数。当收到一个调试事件的时候，回调函数执行所定义的操作，如读取特定地址的数据，设置更多的断点，操作内存等等。待操作完成后，将权限交还给调试器，恢复被调试的进程。"
   ]
  },
  {
   "cell_type": "markdown",
   "metadata": {},
   "source": [
    "PyDbg设置断点的函数原型如下："
   ]
  },
  {
   "cell_type": "markdown",
   "metadata": {},
   "source": [
    "$\\text{bp_set(address, description=\"\", restore=True, handler=None)}$"
   ]
  },
  {
   "cell_type": "markdown",
   "metadata": {},
   "source": [
    "$\\quad\\bullet\\quad$$\\text{address}$是设置断点的内存地址"
   ]
  },
  {
   "cell_type": "markdown",
   "metadata": {},
   "source": [
    "$\\quad\\bullet\\quad$$\\text{description}$参数可选，用于给每个断点设置唯一的名字"
   ]
  },
  {
   "cell_type": "markdown",
   "metadata": {},
   "source": [
    "$\\quad\\bullet\\quad$$\\text{restore}$决定是否在断点被触发后重新设置"
   ]
  },
  {
   "cell_type": "markdown",
   "metadata": {},
   "source": [
    "$\\quad\\bullet\\quad$$\\text{handler}$指向断点触发时调用的回调函数"
   ]
  },
  {
   "cell_type": "markdown",
   "metadata": {},
   "source": [
    "断点回调函数只接受一个参数，即pydbg类的实例化对象；  \n",
    "所有的上下文数据，线程和进程信息都在回调函数被调用的时候填装在这个类中。"
   ]
  },
  {
   "cell_type": "markdown",
   "metadata": {},
   "source": [
    "以$\\text{printf_loop.py}$为测试目标，让我们实现一个自定义的回调函数，这次我们在$\\text{printf()}$函数上设置断点，以便读取$\\text{printf()}$输出时用到的参数$\\text{counter}$变量值，之后用一个1到100之间的随机数替换$\\text{counter}$的值，并打印出来。"
   ]
  },
  {
   "cell_type": "markdown",
   "metadata": {},
   "source": [
    "$\\text{printf_loop.py}$"
   ]
  },
  {
   "cell_type": "code",
   "execution_count": null,
   "metadata": {
    "collapsed": true
   },
   "outputs": [],
   "source": [
    "from ctypes import *\n",
    "import time\n",
    "\n",
    "msvcrt  = cdll.msvcrt\n",
    "counter = 0\n",
    "\n",
    "while True:\n",
    "    msvcrt.printf(\"Loop iteration %d!\\n\" % counter)\n",
    "    time.sleep(2)\n",
    "    counter += 1"
   ]
  },
  {
   "cell_type": "markdown",
   "metadata": {},
   "source": [
    "新建$\\text{printf_random.py}$"
   ]
  },
  {
   "cell_type": "code",
   "execution_count": null,
   "metadata": {
    "collapsed": true
   },
   "outputs": [],
   "source": [
    "from pydbg import *\n",
    "from pydbg.defines import *\n",
    "\n",
    "import struct\n",
    "import random\n",
    "\n",
    "# This is our user defined callback function\n",
    "def printf_randomizer(dbg):\n",
    "\n",
    "    # Read in the value of the counter at ESP + 0x8 as a DWORD\n",
    "    parameter_addr = dbg.context.Esp + 0x8\n",
    "    counter        = dbg.read_process_memory(parameter_addr, 4)\n",
    "\n",
    "    # When we use read_process_memory, it returns a picked binary string.\n",
    "    # We must first unpack it before we cat use it further.\n",
    "    counter = struct.unpack(\"L\", counter)[0]\n",
    "    print \"Counter: %d\" % int(counter)\n",
    "\n",
    "    # Generate a random number and pack it into binary format\n",
    "    # so that it is written correctly back into the process.\n",
    "    random_counter = random.randint(1, 100)\n",
    "    random_counter = struct.pack(\"L\", random_counter)[0]\n",
    "\n",
    "    # Now swap in our random number and resume the process\n",
    "    dbg.write_process_memory(parameter_addr, random_counter)\n",
    "\n",
    "    return DBG_CONTINUE\n",
    "\n",
    "\n",
    "# Instantiate the pydbg class\n",
    "dbg = pydbg()\n",
    "\n",
    "# Now enter the PID of the printf_loop.py process\n",
    "pid = raw_input(\"Enter the printf_loop.py PID: \")\n",
    "\n",
    "# Attach the debugger to that process\n",
    "dbg.attach(int(pid))\n",
    "\n",
    "# Set the breakpoint with the printf_randomizer function\n",
    "# defined as a callback\n",
    "printf_address = dbg.func_resolve(\"msvcrt\", \"printf\")\n",
    "dbg.bp_set(printf_address, description=\"printf_address\",handler=printf_randomizer)\n",
    "\n",
    "# Resume the process\n",
    "dbg.run()"
   ]
  },
  {
   "cell_type": "markdown",
   "metadata": {},
   "source": [
    "#### 说明：\n",
    "在这里捣鼓了很久也没法运行，稍后再进行处理！"
   ]
  },
  {
   "cell_type": "markdown",
   "metadata": {},
   "source": [
    "## 2.处理访问违例"
   ]
  },
  {
   "cell_type": "markdown",
   "metadata": {},
   "source": [
    "当程序尝试访问它们没有权限访问的内存页面或者以一种不合法的方式访问内存的时候就会产生内存违例。  \n",
    "导致内存违例错误的范围很广，从内存溢出到不恰当的处理空指针都有可能出现。  \n",
    "从安全角度考虑，每一个访问违例都应该仔细审查，因为他们有可能会被利用。"
   ]
  },
  {
   "cell_type": "markdown",
   "metadata": {},
   "source": [
    "当调试器处理访问违例的时候，需要搜集所有和违例相关的信息：栈框架、寄存器以及引起违例的指令。  \n",
    "接着我们就能够用这些信息写一个利用程序或者创建一个二进制的补丁文件。"
   ]
  },
  {
   "cell_type": "markdown",
   "metadata": {},
   "source": [
    "PyDbg能够很方便的实现一个违例访问处理函数，并输出相关的奔溃信息。  \n",
    "我们下面来测试的目标是危险的$\\text{C}$函数$\\text{strcpy()}$，我们用$\\text{strcpy()}$函数来创建一个会被溢出的程序。  \n",
    "接下来我们再写一个简短的PyDbg脚本附加到进程并处理违例。"
   ]
  },
  {
   "cell_type": "markdown",
   "metadata": {},
   "source": [
    "产生溢出的脚本--$\\text{buffer_overflow.py}$"
   ]
  },
  {
   "cell_type": "code",
   "execution_count": null,
   "metadata": {
    "collapsed": true
   },
   "outputs": [],
   "source": [
    "from ctypes import *\n",
    "\n",
    "msvcrt = cdll.msvcrt\n",
    "\n",
    "# Give the debugger time to attach,\n",
    "# then hit a button\n",
    "raw_input(\"Once the debugger is attached, press any key.\")\n",
    "\n",
    "# Create the 5-byte destination buffer\n",
    "buffer = c_char_p(\"AAAAA\")\n",
    "\n",
    "# The overflow string\n",
    "overflow = \"A\" * 100\n",
    "\n",
    "# Run the overflow\n",
    "msvcrt.strcpy(buffer, overflow)"
   ]
  },
  {
   "cell_type": "markdown",
   "metadata": {},
   "source": [
    "处理溢出的脚本--$\\text{access_violation_handler.py}$"
   ]
  },
  {
   "cell_type": "code",
   "execution_count": null,
   "metadata": {
    "collapsed": true
   },
   "outputs": [],
   "source": [
    "from pydbg import *\n",
    "from pydbg.defines import *\n",
    "\n",
    "# Utility libraries included with PyDbg\n",
    "import utils\n",
    "\n",
    "# This is our access violation handler\n",
    "def check_accessv(dbg):\n",
    "\n",
    "    # We ship first-chance exceptions\n",
    "    if dbg.dbg.u.Exception.dwFirstChance:\n",
    "        return DBG_EXCEPTION_NOT_HANDLED\n",
    "\n",
    "    crash_bin = utils.crash_binning.crash_binning()\n",
    "    crash_bin.record_crash(dbg)\n",
    "    print crash_bin.crash_synopsis()\n",
    "\n",
    "    dbg.terminate_process()\n",
    "\n",
    "    return DBG_EXCEPTION_NOT_HANDLED\n",
    "\n",
    "\n",
    "pid = raw_input(\"Enter the Process ID: \")\n",
    "dbg = pydbg()\n",
    "dbg.attach(int(pid))\n",
    "dbg.set_callback(EXCEPTION_ACCESS_VIOLATION, check_accessv)\n",
    "dbg.run()"
   ]
  },
  {
   "cell_type": "markdown",
   "metadata": {},
   "source": [
    "#### 测试运行："
   ]
  },
  {
   "cell_type": "markdown",
   "metadata": {},
   "source": [
    "$\\quad\\bullet\\quad$首先在第一个控制台里运行$\\text{buffer_overflow.py}$，此时控制台输出信息："
   ]
  },
  {
   "cell_type": "raw",
   "metadata": {},
   "source": [
    "Administrator@USER-20161209ZR /c/Python27\n",
    "$ python /z/grayhat/codes-for-sec-4/buffer_overflow.py\n",
    "Once the debugger is attached, press any key."
   ]
  },
  {
   "cell_type": "markdown",
   "metadata": {},
   "source": [
    "$\\quad\\bullet\\quad$然后暂时挂起，接着在任务管理器里获取上述$\\text{python.exe}$相关联的PID"
   ]
  },
  {
   "cell_type": "markdown",
   "metadata": {},
   "source": [
    "$\\quad\\bullet\\quad$然后在第二个控制台里运行$\\text{access_violation_handler.py}$，并输入上述PID"
   ]
  },
  {
   "cell_type": "markdown",
   "metadata": {},
   "source": [
    "$\\quad\\bullet\\quad$接着在运行$\\text{buffer_overflow.py}$脚本的控制台里输入任意键"
   ]
  },
  {
   "cell_type": "markdown",
   "metadata": {},
   "source": [
    "$\\quad\\bullet\\quad$然后在运行$\\text{access_violation_handler.py}$脚本的控制台里输出了如下几部分信息："
   ]
  },
  {
   "cell_type": "raw",
   "metadata": {},
   "source": [
    "python27.dll:1e033c7a test dword [eax+0x54],0x4000 from thread 1264 caused access violation\n",
    "when attempting to read from 0x41414195"
   ]
  },
  {
   "cell_type": "markdown",
   "metadata": {},
   "source": [
    "此部分指出了是哪个指令引发的访问异常以及指令在哪个块里；  \n",
    "这个信息可以帮助写出漏洞利用程序或者用静态分析工具分析问题出在哪里。"
   ]
  },
  {
   "cell_type": "raw",
   "metadata": {},
   "source": [
    "CONTEXT DUMP\n",
    "  EIP: 1e033c7a test dword [eax+0x54],0x4000\n",
    "  EAX: 41414141 (1094795585) -> N/A\n",
    "  EBX: 00bb0b70 (  12258160) -> !U-9 H;x,`@3H!UL{O H]a (heap)\n",
    "  ECX: 00ba3b00 (  12204800) -> >AAAAAAAAAAAAAAAAAAAAAAAAAAAAAAAAAAAAAAAAAAAAAAAAAAAAAAA (heap)\n",
    "  EDX: 00000007 (         7) -> N/A\n",
    "  EDI: 00b0feb8 (  11599544) -> H0`w  (heap)\n",
    "  ESI: 00ba3b00 (  12204800) -> >AAAAAAAAAAAAAAAAAAAAAAAAAAAAAAAAAAAAAAAAAAAAAAAAAAAAAAA (heap)\n",
    "  EBP: 0021fe94 (   2227860) -> !Jpr<X 4(*TxhX Tva`Tx8\"|!|!Xt3))t[xRSXrSXSX\"Tx!`)0 (stack)\n",
    "  ESP: 0021fe78 (   2227832) -> A;X `!Jpr<X 4(*TxhX Tva`Tx8\"|!|!Xt3))t[xRSXrSXSX (stack)\n",
    "  +00: 00000004 (         4) -> N/A\n",
    "  +04: 1e034111 ( 503529745) -> N/A\n",
    "  +08: 00ba3b00 (  12204800) -> >AAAAAAAAAAAAAAAAAAAAAAAAAAAAAAAAAAAAAAAAAAAAAAAAAAAAAAA (heap)\n",
    "  +0c: 00000000 (         0) -> N/A\n",
    "  +10: 1e20e858 ( 505473112) -> `enable() -> NoneEnable automatic garbage collection.isenabled() -> statusReturns true if automatic gments, run a full collection.  The optional argu (python27.dll.data)\n",
    "  +14: 00bb0b60 (  12258144) -> ]Q!U-9 H;x,`@3H!UL{O H] (heap)"
   ]
  },
  {
   "cell_type": "markdown",
   "metadata": {},
   "source": [
    "此部分转储了所有寄存器的值，特别有趣的是，$\\text{EAX}$被覆盖成了$\\text{0x41414141}$，而$\\text{0x41}$是大写$\\text{A}$的十六进制表示。  \n",
    "同样我们看到$\\text{ESI}$指向了一个由$\\text{A}$组成的字符串，与$\\text{ESP+08}$指向同一个地方。"
   ]
  },
  {
   "cell_type": "raw",
   "metadata": {},
   "source": [
    "disasm around:\n",
    "        0x1e033c65 mov eax,[eax+0x18]\n",
    "        0x1e033c68 test eax,eax\n",
    "        0x1e033c6a jz 0x1e033c6e\n",
    "        0x1e033c6c inc [eax]\n",
    "        0x1e033c6e ret\n",
    "        0x1e033c6f xor eax,eax\n",
    "        0x1e033c71 ret\n",
    "        0x1e033c72 push esi\n",
    "        0x1e033c73 mov esi,[esp+0x8]\n",
    "        0x1e033c77 mov eax,[esi+0x4]\n",
    "        0x1e033c7a test dword [eax+0x54],0x4000\n",
    "        0x1e033c81 jnz 0x1e033c87\n",
    "        0x1e033c83 xor eax,eax\n",
    "        0x1e033c85 pop esi74a\n",
    "        0x1e033c86 rete00174a\n",
    "        0x1e033c87 mov eax,[eax+0xa4]\n",
    "        0x1e033c8d test eax,eax\n",
    "        0x1e033c8f jnz 0x1e033c9e\n",
    "        0x1e033c91 mov eax,[esi-0x8]\n",
    "        0x1e033c94 test eax,eax1d0015d5 mov edi,edi\n",
    "        0x1e033c96 jng 0x1e033c830015d5 mov edi,edi\n",
    "        ffffffff -> kernel32.dll:7c839ab0 push ebp"
   ]
  },
  {
   "cell_type": "markdown",
   "metadata": {},
   "source": [
    "此部分是在故障指令附近代码的反汇编指令"
   ]
  },
  {
   "cell_type": "raw",
   "metadata": {},
   "source": [
    "stack unwind:\n",
    "        python27.dll:1e00174a\n",
    "        python27.dll:1e031358 /c/Python27\n",
    "        python.exe:1d001160ZR /c/Python27\n",
    "        kernel32.dll:7c81776f"
   ]
  },
  {
   "cell_type": "markdown",
   "metadata": {},
   "source": [
    "此部分暂时不知"
   ]
  },
  {
   "cell_type": "raw",
   "metadata": {},
   "source": [
    "SEH unwind:\n",
    "        0021ffe0 -> python.exe:1d0015d5 mov edi,edi\n",
    "        ffffffff -> kernel32.dll:7c839ab0 push ebp"
   ]
  },
  {
   "cell_type": "markdown",
   "metadata": {},
   "source": [
    "此部分是奔溃发生时，注册的结构化异常处理程序的列表"
   ]
  },
  {
   "cell_type": "markdown",
   "metadata": {},
   "source": [
    "用PyDbg构建一个奔溃处理程序就是这么简单，不仅能够自动处理奔溃，还能在时候剖析进程发生的一切。"
   ]
  },
  {
   "cell_type": "markdown",
   "metadata": {
    "collapsed": true
   },
   "source": [
    "## 3.进程快照"
   ]
  },
  {
   "cell_type": "markdown",
   "metadata": {
    "collapsed": true
   },
   "source": [
    "PyDbg提供了一个非常酷的功能——进程快照。使用进程快照的时候，我们就能冰冻进程，获取进程的内部数据。然后我们想要让进程回到这个时刻的状态时，只需要使用这个时刻的快照就行了。"
   ]
  },
  {
   "cell_type": "markdown",
   "metadata": {
    "collapsed": true
   },
   "source": [
    "### 3.1 获得进程快照"
   ]
  },
  {
   "cell_type": "markdown",
   "metadata": {
    "collapsed": true
   },
   "source": [
    "第一步需要在某个准确的时间获得一份目标进程的精确快照，为了使得快照足够精确，需要得到所有线程以及CPU的上下文，还有进程的整个内存。将这些信息存储起来，以便需要恢复快照的时候就能用得到。"
   ]
  },
  {
   "cell_type": "markdown",
   "metadata": {
    "collapsed": true
   },
   "source": [
    "为了防止在获得快照的时候，进程的数据或者状态被修改，需要将进程挂起来，这个任务由$\\text{suspend_all_threads()}$完成。挂起进程后可以用$\\text{process_snapshot()}$获取快照。快照完成之后，用$\\text{resume_all_threads()}$恢复挂起的进程，让程序继续执行。当某个时刻我们需要将进程恢复到之前的状态，简单的执行$\\text{process_restore()}$就可以了。"
   ]
  },
  {
   "cell_type": "markdown",
   "metadata": {},
   "source": [
    "新建$\\text{snapshot.py}$"
   ]
  },
  {
   "cell_type": "code",
   "execution_count": null,
   "metadata": {
    "collapsed": true
   },
   "outputs": [],
   "source": []
  },
  {
   "cell_type": "code",
   "execution_count": null,
   "metadata": {
    "collapsed": true
   },
   "outputs": [],
   "source": []
  },
  {
   "cell_type": "code",
   "execution_count": null,
   "metadata": {
    "collapsed": true
   },
   "outputs": [],
   "source": []
  },
  {
   "cell_type": "code",
   "execution_count": null,
   "metadata": {
    "collapsed": true
   },
   "outputs": [],
   "source": []
  },
  {
   "cell_type": "code",
   "execution_count": null,
   "metadata": {
    "collapsed": true
   },
   "outputs": [],
   "source": []
  },
  {
   "cell_type": "code",
   "execution_count": null,
   "metadata": {
    "collapsed": true
   },
   "outputs": [],
   "source": []
  },
  {
   "cell_type": "code",
   "execution_count": null,
   "metadata": {
    "collapsed": true
   },
   "outputs": [],
   "source": []
  },
  {
   "cell_type": "code",
   "execution_count": null,
   "metadata": {
    "collapsed": true
   },
   "outputs": [],
   "source": []
  },
  {
   "cell_type": "code",
   "execution_count": null,
   "metadata": {
    "collapsed": true
   },
   "outputs": [],
   "source": []
  },
  {
   "cell_type": "code",
   "execution_count": null,
   "metadata": {
    "collapsed": true
   },
   "outputs": [],
   "source": []
  },
  {
   "cell_type": "code",
   "execution_count": null,
   "metadata": {
    "collapsed": true
   },
   "outputs": [],
   "source": []
  },
  {
   "cell_type": "code",
   "execution_count": null,
   "metadata": {
    "collapsed": true
   },
   "outputs": [],
   "source": []
  },
  {
   "cell_type": "code",
   "execution_count": null,
   "metadata": {
    "collapsed": true
   },
   "outputs": [],
   "source": []
  },
  {
   "cell_type": "code",
   "execution_count": null,
   "metadata": {
    "collapsed": true
   },
   "outputs": [],
   "source": []
  }
 ],
 "metadata": {
  "kernelspec": {
   "display_name": "Python 2",
   "language": "python",
   "name": "python2"
  },
  "language_info": {
   "codemirror_mode": {
    "name": "ipython",
    "version": 2
   },
   "file_extension": ".py",
   "mimetype": "text/x-python",
   "name": "python",
   "nbconvert_exporter": "python",
   "pygments_lexer": "ipython2",
   "version": "2.7.12"
  }
 },
 "nbformat": 4,
 "nbformat_minor": 2
}
